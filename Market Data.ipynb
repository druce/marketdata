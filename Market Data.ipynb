{
 "cells": [
  {
   "cell_type": "markdown",
   "metadata": {},
   "source": [
    "# Financial Market APIs\n",
    "- How to access datafeeds used by [OpenBB](https://openbb.co/) and mentioned in [this post](https://medium.com/@peteramaral/want-to-be-informed-like-a-hedge-fund-manager-add-these-api-keys-to-your-openbb-terminal-8f96c2256b22)\n",
    "- Didn't install \n",
    "    - crypto-related stuff\n",
    "    - [IEX](https://iexcloud.io/pricing) (looks super interesting but data bundles are expensive)\n",
    "    - [Databento](https://databento.com/pricing) (looks interesting and reasonably priced market data, just using free tier for now)\n",
    "    - [Oanda](https://www.oanda.com/foreign-exchange-data-services/en/exchange-rates-api/free-trial/) (don't care as much about FX for now)\n",
    "    "
   ]
  },
  {
   "cell_type": "code",
   "execution_count": 15,
   "metadata": {},
   "outputs": [
    {
     "data": {
      "text/plain": [
       "True"
      ]
     },
     "execution_count": 15,
     "metadata": {},
     "output_type": "execute_result"
    }
   ],
   "source": [
    "import os\n",
    "from datetime import datetime\n",
    "import requests\n",
    "import pandas as pd\n",
    "\n",
    "from IPython.display import display, Markdown\n",
    "\n",
    "import dotenv\n",
    "dotenv.load_dotenv()\n"
   ]
  },
  {
   "cell_type": "markdown",
   "metadata": {},
   "source": [
    "# Alpha Vantage\n",
    "- [Data](https://www.alphavantage.co/documentation/)\n",
    "- don't see pricing plan, just using free APIs for now\n",
    "- [Get a key](https://www.alphavantage.co/support/#api-key)\n"
   ]
  },
  {
   "cell_type": "code",
   "execution_count": 3,
   "metadata": {},
   "outputs": [],
   "source": [
    "ALPHAVANTAGE_API_KEY = os.environ['ALPHAVANTAGE_API_KEY']"
   ]
  },
  {
   "cell_type": "code",
   "execution_count": 46,
   "metadata": {},
   "outputs": [
    {
     "data": {
      "text/html": [
       "<div>\n",
       "<style scoped>\n",
       "    .dataframe tbody tr th:only-of-type {\n",
       "        vertical-align: middle;\n",
       "    }\n",
       "\n",
       "    .dataframe tbody tr th {\n",
       "        vertical-align: top;\n",
       "    }\n",
       "\n",
       "    .dataframe thead th {\n",
       "        text-align: right;\n",
       "    }\n",
       "</style>\n",
       "<table border=\"1\" class=\"dataframe\">\n",
       "  <thead>\n",
       "    <tr style=\"text-align: right;\">\n",
       "      <th></th>\n",
       "      <th>1</th>\n",
       "    </tr>\n",
       "  </thead>\n",
       "  <tbody>\n",
       "    <tr>\n",
       "      <th>Symbol</th>\n",
       "      <td>IBM</td>\n",
       "    </tr>\n",
       "    <tr>\n",
       "      <th>AssetType</th>\n",
       "      <td>Common Stock</td>\n",
       "    </tr>\n",
       "    <tr>\n",
       "      <th>Name</th>\n",
       "      <td>International Business Machines</td>\n",
       "    </tr>\n",
       "    <tr>\n",
       "      <th>Description</th>\n",
       "      <td>International Business Machines Corporation (I...</td>\n",
       "    </tr>\n",
       "    <tr>\n",
       "      <th>CIK</th>\n",
       "      <td>51143</td>\n",
       "    </tr>\n",
       "    <tr>\n",
       "      <th>Exchange</th>\n",
       "      <td>NYSE</td>\n",
       "    </tr>\n",
       "    <tr>\n",
       "      <th>Currency</th>\n",
       "      <td>USD</td>\n",
       "    </tr>\n",
       "    <tr>\n",
       "      <th>Country</th>\n",
       "      <td>USA</td>\n",
       "    </tr>\n",
       "    <tr>\n",
       "      <th>Sector</th>\n",
       "      <td>TECHNOLOGY</td>\n",
       "    </tr>\n",
       "    <tr>\n",
       "      <th>Industry</th>\n",
       "      <td>COMPUTER &amp; OFFICE EQUIPMENT</td>\n",
       "    </tr>\n",
       "    <tr>\n",
       "      <th>Address</th>\n",
       "      <td>1 NEW ORCHARD ROAD, ARMONK, NY, US</td>\n",
       "    </tr>\n",
       "    <tr>\n",
       "      <th>FiscalYearEnd</th>\n",
       "      <td>December</td>\n",
       "    </tr>\n",
       "    <tr>\n",
       "      <th>LatestQuarter</th>\n",
       "      <td>2023-06-30</td>\n",
       "    </tr>\n",
       "    <tr>\n",
       "      <th>MarketCapitalization</th>\n",
       "      <td>126163771000</td>\n",
       "    </tr>\n",
       "    <tr>\n",
       "      <th>EBITDA</th>\n",
       "      <td>12644000000</td>\n",
       "    </tr>\n",
       "    <tr>\n",
       "      <th>PERatio</th>\n",
       "      <td>62.03</td>\n",
       "    </tr>\n",
       "    <tr>\n",
       "      <th>PEGRatio</th>\n",
       "      <td>1.276</td>\n",
       "    </tr>\n",
       "    <tr>\n",
       "      <th>BookValue</th>\n",
       "      <td>23.79</td>\n",
       "    </tr>\n",
       "    <tr>\n",
       "      <th>DividendPerShare</th>\n",
       "      <td>6.6</td>\n",
       "    </tr>\n",
       "    <tr>\n",
       "      <th>DividendYield</th>\n",
       "      <td>0.0491</td>\n",
       "    </tr>\n",
       "    <tr>\n",
       "      <th>EPS</th>\n",
       "      <td>2.24</td>\n",
       "    </tr>\n",
       "    <tr>\n",
       "      <th>RevenuePerShareTTM</th>\n",
       "      <td>66.97</td>\n",
       "    </tr>\n",
       "    <tr>\n",
       "      <th>ProfitMargin</th>\n",
       "      <td>0.0303</td>\n",
       "    </tr>\n",
       "    <tr>\n",
       "      <th>OperatingMarginTTM</th>\n",
       "      <td>0.132</td>\n",
       "    </tr>\n",
       "    <tr>\n",
       "      <th>ReturnOnAssetsTTM</th>\n",
       "      <td>0.0376</td>\n",
       "    </tr>\n",
       "    <tr>\n",
       "      <th>ReturnOnEquityTTM</th>\n",
       "      <td>0.101</td>\n",
       "    </tr>\n",
       "    <tr>\n",
       "      <th>RevenueTTM</th>\n",
       "      <td>60585001000</td>\n",
       "    </tr>\n",
       "    <tr>\n",
       "      <th>GrossProfitTTM</th>\n",
       "      <td>32688000000</td>\n",
       "    </tr>\n",
       "    <tr>\n",
       "      <th>DilutedEPSTTM</th>\n",
       "      <td>2.24</td>\n",
       "    </tr>\n",
       "    <tr>\n",
       "      <th>QuarterlyEarningsGrowthYOY</th>\n",
       "      <td>0.253</td>\n",
       "    </tr>\n",
       "    <tr>\n",
       "      <th>QuarterlyRevenueGrowthYOY</th>\n",
       "      <td>0.004</td>\n",
       "    </tr>\n",
       "    <tr>\n",
       "      <th>AnalystTargetPrice</th>\n",
       "      <td>142.24</td>\n",
       "    </tr>\n",
       "    <tr>\n",
       "      <th>TrailingPE</th>\n",
       "      <td>62.03</td>\n",
       "    </tr>\n",
       "    <tr>\n",
       "      <th>ForwardPE</th>\n",
       "      <td>15.55</td>\n",
       "    </tr>\n",
       "    <tr>\n",
       "      <th>PriceToSalesRatioTTM</th>\n",
       "      <td>2.108</td>\n",
       "    </tr>\n",
       "    <tr>\n",
       "      <th>PriceToBookRatio</th>\n",
       "      <td>6.75</td>\n",
       "    </tr>\n",
       "    <tr>\n",
       "      <th>EVToRevenue</th>\n",
       "      <td>2.969</td>\n",
       "    </tr>\n",
       "    <tr>\n",
       "      <th>EVToEBITDA</th>\n",
       "      <td>25.81</td>\n",
       "    </tr>\n",
       "    <tr>\n",
       "      <th>Beta</th>\n",
       "      <td>0.848</td>\n",
       "    </tr>\n",
       "    <tr>\n",
       "      <th>52WeekHigh</th>\n",
       "      <td>149.31</td>\n",
       "    </tr>\n",
       "    <tr>\n",
       "      <th>52WeekLow</th>\n",
       "      <td>111.29</td>\n",
       "    </tr>\n",
       "    <tr>\n",
       "      <th>50DayMovingAverage</th>\n",
       "      <td>131.62</td>\n",
       "    </tr>\n",
       "    <tr>\n",
       "      <th>200DayMovingAverage</th>\n",
       "      <td>133.73</td>\n",
       "    </tr>\n",
       "    <tr>\n",
       "      <th>SharesOutstanding</th>\n",
       "      <td>908045000</td>\n",
       "    </tr>\n",
       "    <tr>\n",
       "      <th>DividendDate</th>\n",
       "      <td>2023-06-10</td>\n",
       "    </tr>\n",
       "    <tr>\n",
       "      <th>ExDividendDate</th>\n",
       "      <td>2023-05-09</td>\n",
       "    </tr>\n",
       "  </tbody>\n",
       "</table>\n",
       "</div>"
      ],
      "text/plain": [
       "                                                                            1\n",
       "Symbol                                                                    IBM\n",
       "AssetType                                                        Common Stock\n",
       "Name                                          International Business Machines\n",
       "Description                 International Business Machines Corporation (I...\n",
       "CIK                                                                     51143\n",
       "Exchange                                                                 NYSE\n",
       "Currency                                                                  USD\n",
       "Country                                                                   USA\n",
       "Sector                                                             TECHNOLOGY\n",
       "Industry                                          COMPUTER & OFFICE EQUIPMENT\n",
       "Address                                    1 NEW ORCHARD ROAD, ARMONK, NY, US\n",
       "FiscalYearEnd                                                        December\n",
       "LatestQuarter                                                      2023-06-30\n",
       "MarketCapitalization                                             126163771000\n",
       "EBITDA                                                            12644000000\n",
       "PERatio                                                                 62.03\n",
       "PEGRatio                                                                1.276\n",
       "BookValue                                                               23.79\n",
       "DividendPerShare                                                          6.6\n",
       "DividendYield                                                          0.0491\n",
       "EPS                                                                      2.24\n",
       "RevenuePerShareTTM                                                      66.97\n",
       "ProfitMargin                                                           0.0303\n",
       "OperatingMarginTTM                                                      0.132\n",
       "ReturnOnAssetsTTM                                                      0.0376\n",
       "ReturnOnEquityTTM                                                       0.101\n",
       "RevenueTTM                                                        60585001000\n",
       "GrossProfitTTM                                                    32688000000\n",
       "DilutedEPSTTM                                                            2.24\n",
       "QuarterlyEarningsGrowthYOY                                              0.253\n",
       "QuarterlyRevenueGrowthYOY                                               0.004\n",
       "AnalystTargetPrice                                                     142.24\n",
       "TrailingPE                                                              62.03\n",
       "ForwardPE                                                               15.55\n",
       "PriceToSalesRatioTTM                                                    2.108\n",
       "PriceToBookRatio                                                         6.75\n",
       "EVToRevenue                                                             2.969\n",
       "EVToEBITDA                                                              25.81\n",
       "Beta                                                                    0.848\n",
       "52WeekHigh                                                             149.31\n",
       "52WeekLow                                                              111.29\n",
       "50DayMovingAverage                                                     131.62\n",
       "200DayMovingAverage                                                    133.73\n",
       "SharesOutstanding                                                   908045000\n",
       "DividendDate                                                       2023-06-10\n",
       "ExDividendDate                                                     2023-05-09"
      ]
     },
     "execution_count": 46,
     "metadata": {},
     "output_type": "execute_result"
    }
   ],
   "source": [
    "# overview\n",
    "url = f'https://www.alphavantage.co/query?function=OVERVIEW&symbol=IBM&apikey={ALPHAVANTAGE_API_KEY}'\n",
    "r = requests.get(url)\n",
    "data = r.json()\n",
    "pd.DataFrame(data, index=[1]).transpose()"
   ]
  },
  {
   "cell_type": "code",
   "execution_count": 48,
   "metadata": {},
   "outputs": [
    {
     "data": {
      "text/html": [
       "<div>\n",
       "<style scoped>\n",
       "    .dataframe tbody tr th:only-of-type {\n",
       "        vertical-align: middle;\n",
       "    }\n",
       "\n",
       "    .dataframe tbody tr th {\n",
       "        vertical-align: top;\n",
       "    }\n",
       "\n",
       "    .dataframe thead th {\n",
       "        text-align: right;\n",
       "    }\n",
       "</style>\n",
       "<table border=\"1\" class=\"dataframe\">\n",
       "  <thead>\n",
       "    <tr style=\"text-align: right;\">\n",
       "      <th></th>\n",
       "      <th>Global Quote</th>\n",
       "    </tr>\n",
       "  </thead>\n",
       "  <tbody>\n",
       "    <tr>\n",
       "      <th>01. symbol</th>\n",
       "      <td>IBM</td>\n",
       "    </tr>\n",
       "    <tr>\n",
       "      <th>02. open</th>\n",
       "      <td>138.2100</td>\n",
       "    </tr>\n",
       "    <tr>\n",
       "      <th>03. high</th>\n",
       "      <td>139.7799</td>\n",
       "    </tr>\n",
       "    <tr>\n",
       "      <th>04. low</th>\n",
       "      <td>137.7600</td>\n",
       "    </tr>\n",
       "    <tr>\n",
       "      <th>05. price</th>\n",
       "      <td>138.9400</td>\n",
       "    </tr>\n",
       "    <tr>\n",
       "      <th>06. volume</th>\n",
       "      <td>5858741</td>\n",
       "    </tr>\n",
       "    <tr>\n",
       "      <th>07. latest trading day</th>\n",
       "      <td>2023-07-21</td>\n",
       "    </tr>\n",
       "    <tr>\n",
       "      <th>08. previous close</th>\n",
       "      <td>138.3800</td>\n",
       "    </tr>\n",
       "    <tr>\n",
       "      <th>09. change</th>\n",
       "      <td>0.5600</td>\n",
       "    </tr>\n",
       "    <tr>\n",
       "      <th>10. change percent</th>\n",
       "      <td>0.4047%</td>\n",
       "    </tr>\n",
       "  </tbody>\n",
       "</table>\n",
       "</div>"
      ],
      "text/plain": [
       "                       Global Quote\n",
       "01. symbol                      IBM\n",
       "02. open                   138.2100\n",
       "03. high                   139.7799\n",
       "04. low                    137.7600\n",
       "05. price                  138.9400\n",
       "06. volume                  5858741\n",
       "07. latest trading day   2023-07-21\n",
       "08. previous close         138.3800\n",
       "09. change                   0.5600\n",
       "10. change percent          0.4047%"
      ]
     },
     "execution_count": 48,
     "metadata": {},
     "output_type": "execute_result"
    }
   ],
   "source": [
    "# last quote\n",
    "url = f'https://www.alphavantage.co/query?function=GLOBAL_QUOTE&symbol=IBM&apikey={ALPHAVANTAGE_API_KEY}'\n",
    "r = requests.get(url)\n",
    "data = r.json()\n",
    "pd.DataFrame(data)"
   ]
  },
  {
   "cell_type": "code",
   "execution_count": 49,
   "metadata": {},
   "outputs": [
    {
     "data": {
      "text/html": [
       "<div>\n",
       "<style scoped>\n",
       "    .dataframe tbody tr th:only-of-type {\n",
       "        vertical-align: middle;\n",
       "    }\n",
       "\n",
       "    .dataframe tbody tr th {\n",
       "        vertical-align: top;\n",
       "    }\n",
       "\n",
       "    .dataframe thead th {\n",
       "        text-align: right;\n",
       "    }\n",
       "</style>\n",
       "<table border=\"1\" class=\"dataframe\">\n",
       "  <thead>\n",
       "    <tr style=\"text-align: right;\">\n",
       "      <th></th>\n",
       "      <th>Meta Data</th>\n",
       "      <th>Time Series (5min)</th>\n",
       "    </tr>\n",
       "  </thead>\n",
       "  <tbody>\n",
       "    <tr>\n",
       "      <th>1. Information</th>\n",
       "      <td>Intraday (5min) open, high, low, close prices ...</td>\n",
       "      <td>NaN</td>\n",
       "    </tr>\n",
       "    <tr>\n",
       "      <th>2. Symbol</th>\n",
       "      <td>IBM</td>\n",
       "      <td>NaN</td>\n",
       "    </tr>\n",
       "    <tr>\n",
       "      <th>3. Last Refreshed</th>\n",
       "      <td>2023-07-21 19:50:00</td>\n",
       "      <td>NaN</td>\n",
       "    </tr>\n",
       "    <tr>\n",
       "      <th>4. Interval</th>\n",
       "      <td>5min</td>\n",
       "      <td>NaN</td>\n",
       "    </tr>\n",
       "    <tr>\n",
       "      <th>5. Output Size</th>\n",
       "      <td>Compact</td>\n",
       "      <td>NaN</td>\n",
       "    </tr>\n",
       "    <tr>\n",
       "      <th>...</th>\n",
       "      <td>...</td>\n",
       "      <td>...</td>\n",
       "    </tr>\n",
       "    <tr>\n",
       "      <th>2023-07-21 10:35:00</th>\n",
       "      <td>NaN</td>\n",
       "      <td>{'1. open': '139.0300', '2. high': '139.1500',...</td>\n",
       "    </tr>\n",
       "    <tr>\n",
       "      <th>2023-07-21 10:30:00</th>\n",
       "      <td>NaN</td>\n",
       "      <td>{'1. open': '138.9750', '2. high': '139.1200',...</td>\n",
       "    </tr>\n",
       "    <tr>\n",
       "      <th>2023-07-21 10:25:00</th>\n",
       "      <td>NaN</td>\n",
       "      <td>{'1. open': '138.8700', '2. high': '139.1100',...</td>\n",
       "    </tr>\n",
       "    <tr>\n",
       "      <th>2023-07-21 10:20:00</th>\n",
       "      <td>NaN</td>\n",
       "      <td>{'1. open': '138.9100', '2. high': '139.0900',...</td>\n",
       "    </tr>\n",
       "    <tr>\n",
       "      <th>2023-07-21 10:15:00</th>\n",
       "      <td>NaN</td>\n",
       "      <td>{'1. open': '138.8900', '2. high': '139.0500',...</td>\n",
       "    </tr>\n",
       "  </tbody>\n",
       "</table>\n",
       "<p>106 rows × 2 columns</p>\n",
       "</div>"
      ],
      "text/plain": [
       "                                                             Meta Data  \\\n",
       "1. Information       Intraday (5min) open, high, low, close prices ...   \n",
       "2. Symbol                                                          IBM   \n",
       "3. Last Refreshed                                  2023-07-21 19:50:00   \n",
       "4. Interval                                                       5min   \n",
       "5. Output Size                                                 Compact   \n",
       "...                                                                ...   \n",
       "2023-07-21 10:35:00                                                NaN   \n",
       "2023-07-21 10:30:00                                                NaN   \n",
       "2023-07-21 10:25:00                                                NaN   \n",
       "2023-07-21 10:20:00                                                NaN   \n",
       "2023-07-21 10:15:00                                                NaN   \n",
       "\n",
       "                                                    Time Series (5min)  \n",
       "1. Information                                                     NaN  \n",
       "2. Symbol                                                          NaN  \n",
       "3. Last Refreshed                                                  NaN  \n",
       "4. Interval                                                        NaN  \n",
       "5. Output Size                                                     NaN  \n",
       "...                                                                ...  \n",
       "2023-07-21 10:35:00  {'1. open': '139.0300', '2. high': '139.1500',...  \n",
       "2023-07-21 10:30:00  {'1. open': '138.9750', '2. high': '139.1200',...  \n",
       "2023-07-21 10:25:00  {'1. open': '138.8700', '2. high': '139.1100',...  \n",
       "2023-07-21 10:20:00  {'1. open': '138.9100', '2. high': '139.0900',...  \n",
       "2023-07-21 10:15:00  {'1. open': '138.8900', '2. high': '139.0500',...  \n",
       "\n",
       "[106 rows x 2 columns]"
      ]
     },
     "execution_count": 49,
     "metadata": {},
     "output_type": "execute_result"
    }
   ],
   "source": [
    "# intraday history\n",
    "url = f'https://www.alphavantage.co/query?function=TIME_SERIES_INTRADAY&symbol=IBM&interval=5min&apikey={ALPHAVANTAGE_API_KEY}'\n",
    "r = requests.get(url)\n",
    "data = r.json()\n",
    "pd.DataFrame(data)"
   ]
  },
  {
   "cell_type": "code",
   "execution_count": 5,
   "metadata": {},
   "outputs": [
    {
     "name": "stdout",
     "output_type": "stream",
     "text": [
      "{'bestMatches': [{'1. symbol': 'MSF0.FRK', '2. name': 'MICROSOFT CORP. CDR', '3. type': 'Equity', '4. region': 'Frankfurt', '5. marketOpen': '08:00', '6. marketClose': '20:00', '7. timezone': 'UTC+02', '8. currency': 'EUR', '9. matchScore': '0.6429'}, {'1. symbol': 'MSFT', '2. name': 'Microsoft Corporation', '3. type': 'Equity', '4. region': 'United States', '5. marketOpen': '09:30', '6. marketClose': '16:00', '7. timezone': 'UTC-04', '8. currency': 'USD', '9. matchScore': '0.6154'}, {'1. symbol': '0QYP.LON', '2. name': 'Microsoft Corporation', '3. type': 'Equity', '4. region': 'United Kingdom', '5. marketOpen': '08:00', '6. marketClose': '16:30', '7. timezone': 'UTC+01', '8. currency': 'USD', '9. matchScore': '0.6000'}, {'1. symbol': 'MSF.DEX', '2. name': 'Microsoft Corporation', '3. type': 'Equity', '4. region': 'XETRA', '5. marketOpen': '08:00', '6. marketClose': '20:00', '7. timezone': 'UTC+02', '8. currency': 'EUR', '9. matchScore': '0.6000'}, {'1. symbol': 'MSF.FRK', '2. name': 'Microsoft Corporation', '3. type': 'Equity', '4. region': 'Frankfurt', '5. marketOpen': '08:00', '6. marketClose': '20:00', '7. timezone': 'UTC+02', '8. currency': 'EUR', '9. matchScore': '0.6000'}, {'1. symbol': 'MSFT34.SAO', '2. name': 'Microsoft Corporation', '3. type': 'Equity', '4. region': 'Brazil/Sao Paolo', '5. marketOpen': '10:00', '6. marketClose': '17:30', '7. timezone': 'UTC-03', '8. currency': 'BRL', '9. matchScore': '0.6000'}]}\n"
     ]
    }
   ],
   "source": [
    "# ticker lookup\n",
    "url = f'https://www.alphavantage.co/query?function=SYMBOL_SEARCH&keywords=Microsoft&apikey={ALPHAVANTAGE_API_KEY}'\n",
    "r = requests.get(url)\n",
    "data = r.json()\n",
    "print(data)\n"
   ]
  },
  {
   "cell_type": "code",
   "execution_count": 51,
   "metadata": {},
   "outputs": [
    {
     "data": {
      "text/markdown": [
       "[2023-07-23 15:43:44 Elon Musk Confirms He'll Swap Twitter Logo for 'X' Tomorrow](https://decrypt.co/149692/elon-musk-twitter-brand-x-app-everything-super-app)\n",
       " The tech mogul said the Twitter logo will be cut off its San Francisco headquarters on Monday as the company pivots toward an \"everything app.\" ..."
      ],
      "text/plain": [
       "<IPython.core.display.Markdown object>"
      ]
     },
     "metadata": {},
     "output_type": "display_data"
    },
    {
     "data": {
      "text/markdown": [
       "[2023-07-23 15:33:30 Out With The Twitter Bird, In With Letter 'X': Musk Teases Most Radical Twitter Rebrand Yet](https://www.forbes.com/sites/brianbushard/2023/07/23/out-with-the-twitter-bird-in-with-letter-x-musk-teases-most-radical-twitter-rebrand-yet/)\n",
       " Twitter's switch from its iconic bird logo to the letter X could come as soon as Monday."
      ],
      "text/plain": [
       "<IPython.core.display.Markdown object>"
      ]
     },
     "metadata": {},
     "output_type": "display_data"
    },
    {
     "data": {
      "text/markdown": [
       "[2023-07-23 14:18:20 Musk's Scooby-Doo Meme, Tesla's Bitcoin Position, Black Swan Author's NFT Critique And More: This Week In Crypto - BlackRock  ( NYSE:BLK ) , Tesla  ( NASDAQ:TSLA ) ](https://www.benzinga.com/markets/cryptocurrency/23/07/33335322/musks-scooby-doo-meme-teslas-bitcoin-position-black-swan-authors-nft-critique-and-more-thi)\n",
       " This week in the world of cryptocurrency was nothing short of eventful. From Elon Musk's influence on Dogecoin to the fluctuating valuation of Jack Dorsey's tweet NFT, the crypto landscape was buzzing with activity. Meanwhile, Tesla's unchanged Bitcoin position and Robert F."
      ],
      "text/plain": [
       "<IPython.core.display.Markdown object>"
      ]
     },
     "metadata": {},
     "output_type": "display_data"
    },
    {
     "data": {
      "text/markdown": [
       "[2023-07-23 13:49:00 Musk Hints Twitter's Bird Branding Could Be Replaced](https://www.barrons.com/news/musk-hints-twitter-s-bird-branding-could-be-replaced-6cb20dd9)\n",
       " Twitter owner Elon Musk hinted late Saturday night that he may ditch the social media network's blue cartoon bird branding -- and soon -- for an edgier logo based on an \"everything app\" he has long alluded to called only X."
      ],
      "text/plain": [
       "<IPython.core.display.Markdown object>"
      ]
     },
     "metadata": {},
     "output_type": "display_data"
    },
    {
     "data": {
      "text/markdown": [
       "[2023-07-23 13:30:00 The \"Magnificent Seven\" Stocks Are Soaring Toward a Bull Market: 2 Ideal Index Funds to Buy Now](https://www.fool.com/investing/2023/07/23/magnificent-seven-stocks-2-index-funds-to-buy/)\n",
       " These index funds provide heavy exposure to Apple, Microsoft, Alphabet, Amazon, Nvidia, Tesla, and Meta Platforms."
      ],
      "text/plain": [
       "<IPython.core.display.Markdown object>"
      ]
     },
     "metadata": {},
     "output_type": "display_data"
    },
    {
     "data": {
      "text/markdown": [
       "[2023-07-23 12:15:00 Is Rivian Stock a Buy?](https://www.fool.com/investing/2023/07/23/is-rivian-stock-a-buy/)\n",
       " Rivian recently announced solid production numbers, leading to a swift stock price advance. But it is still a risky investment."
      ],
      "text/plain": [
       "<IPython.core.display.Markdown object>"
      ]
     },
     "metadata": {},
     "output_type": "display_data"
    },
    {
     "data": {
      "text/markdown": [
       "[2023-07-23 11:43:00 Musk says Twitter to change logo to \"X\" from the bird. Changes could come as early as Monday.](https://apnews.com/article/elon-musk-twitter-logo-x-bird-d58758cdd3f8441e7d2c8d3ac827ba90)\n",
       " NEW YORK ( AP ) - Elon Musk said Sunday that he plans to change the logo of Twitter to an \"X\" from the bird, marking what would be the latest big change since he bought the social media platform for last year. In a series of posts on his Twitter account starting just after 12 a.m."
      ],
      "text/plain": [
       "<IPython.core.display.Markdown object>"
      ]
     },
     "metadata": {},
     "output_type": "display_data"
    },
    {
     "data": {
      "text/markdown": [
       "[2023-07-23 11:40:00 What's ahead this week for Wall Street and the economy | Business](https://www.cnn.com/2023/07/23/business/stocks-week-ahead-fed-tech-earnings/index.html)\n",
       " What's ahead this week for Wall Street and the economy ..."
      ],
      "text/plain": [
       "<IPython.core.display.Markdown object>"
      ]
     },
     "metadata": {},
     "output_type": "display_data"
    },
    {
     "data": {
      "text/markdown": [
       "[2023-07-23 11:00:00 Earnings Season Accelerates With The Fed Set To Hike Rates](https://www.forbes.com/sites/bill_stone/2023/07/23/earnings-season-accelerates-with-the-fed-set-to-hike-rates/)\n",
       " The headline earnings decline worsened, but the details were more supportive for stocks. This week will be the second busiest of this earnings season. The Federal Reserve meeting on Wednesday will be closely watched despite the outcome being almost preordained."
      ],
      "text/plain": [
       "<IPython.core.display.Markdown object>"
      ]
     },
     "metadata": {},
     "output_type": "display_data"
    },
    {
     "data": {
      "text/markdown": [
       "[2023-07-23 11:00:00 Call This a Spare-Tire Trade, in Case the Air Comes Out of Tesla](https://realmoney.thestreet.com/investing/stocks/call-this-a-spare-tire-trade-in-case-the-air-comes-out-of-tesla-16129311)\n",
       " Few stocks in the market incite such passion from bulls and bears alike as does Tesla ( TSLA ) . Proponents of the company believe it is on the vanguard of the massive paradigm shift that will see electrical vehicles mostly displace the internal combustion engine marketplace in the coming years."
      ],
      "text/plain": [
       "<IPython.core.display.Markdown object>"
      ]
     },
     "metadata": {},
     "output_type": "display_data"
    },
    {
     "data": {
      "text/markdown": [
       "[2023-07-23 11:00:00 3 Things About Tesla That Smart Investors Know](https://www.fool.com/investing/2023/07/23/3-things-about-tesla-that-smart-investors-know/)\n",
       " There's a lot going on under the hood with this top EV business."
      ],
      "text/plain": [
       "<IPython.core.display.Markdown object>"
      ]
     },
     "metadata": {},
     "output_type": "display_data"
    },
    {
     "data": {
      "text/markdown": [
       "[2023-07-23 10:07:00 Warren Buffett Has a Clever Analogy for What It's Like to Be a Publicly Traded Company -- Elon Musk Agrees, as Far as Tesla's Concerned](https://www.fool.com/investing/2023/07/23/warren-buffett-has-clever-analogy-for-companies/)\n",
       " Musk tweeted about a recent surge in certain tech stocks."
      ],
      "text/plain": [
       "<IPython.core.display.Markdown object>"
      ]
     },
     "metadata": {},
     "output_type": "display_data"
    },
    {
     "data": {
      "text/markdown": [
       "[2023-07-23 09:04:10 This Week In AI: Wall Street, Cancer Cure And Big Tech's AI Developments - Meta Platforms  ( NASDAQ:META ) , Tesla  ( NASDAQ:TSLA ) ](https://www.benzinga.com/news/23/07/33334712/this-week-in-ai-wall-street-cancer-cure-and-big-techs-ai-developments)\n",
       " This week in artificial intelligence was marked by the potential of AI replacing Wall Street traders, the use of AI in cancer treatment, President Joe Biden's playful comment about AI, Mark Zuckerberg's decision to open up Meta's LLaMA 2 to developers, and Apple's work on AI tools."
      ],
      "text/plain": [
       "<IPython.core.display.Markdown object>"
      ]
     },
     "metadata": {},
     "output_type": "display_data"
    },
    {
     "data": {
      "text/markdown": [
       "[2023-07-23 07:13:00 Elon Musk says Twitter logo to change, birds to be gradually abandoned | Business](https://www.cnn.com/2023/07/23/business/elon-musk-twitter-revamp-intl-hnk/index.html)\n",
       " Elon Musk says Twitter logo to change, birds to be gradually abandoned ..."
      ],
      "text/plain": [
       "<IPython.core.display.Markdown object>"
      ]
     },
     "metadata": {},
     "output_type": "display_data"
    },
    {
     "data": {
      "text/markdown": [
       "[2023-07-22 21:00:50 Worried About Higher Interest Rates? Tesla Now Offers Auto Loans That You Can Pay Off In 7 Years. - Tesla  ( NASDAQ:TSLA ) ](https://www.benzinga.com/markets/equities/23/07/33333942/worried-about-higher-interest-rates-tesla-now-offers-auto-loans-that-you-can-pay-off-in-7-years)\n",
       " Tesla. Inc. TSLA CEO Elon Musk previously expressed concerns about the impact of rising interest rates on car purchases and floated the prospect of cutting vehicle prices even further. What Happened: The company's website shows that the duration of a loan extended by a Tesla financier or ..."
      ],
      "text/plain": [
       "<IPython.core.display.Markdown object>"
      ]
     },
     "metadata": {},
     "output_type": "display_data"
    },
    {
     "data": {
      "text/markdown": [
       "[2023-07-22 19:18:31 Oceangate's CEO Stockton Rush Was Trying To Be The Elon Musk Of The Deep, His Former Colleagues Say](https://www.benzinga.com/news/23/07/33333605/oceangates-ceo-stockton-rush-was-trying-to-be-the-elon-musk-of-the-deep-his-former-colleagues-say)\n",
       " OceanGate CEO Stockton Rush, who was among the five passengers who died in the Titan submersible on June 18, was an ambitious entrepreneur with \"a fatal flaw,\" according to Insider."
      ],
      "text/plain": [
       "<IPython.core.display.Markdown object>"
      ]
     },
     "metadata": {},
     "output_type": "display_data"
    },
    {
     "data": {
      "text/markdown": [
       "[2023-07-22 18:39:00 Three Big Tests Loom For AI, Market Rally](https://www.investors.com/market-trend/stock-market-today/dow-jones-futures-microsoft-google-meta-earnings-are-big-test-for-market-rally/)\n",
       " Dow Jones Futures: Microsoft, Google, Meta Earnings Are Big Test For AI, Market Rally Investor's Business Daily ..."
      ],
      "text/plain": [
       "<IPython.core.display.Markdown object>"
      ]
     },
     "metadata": {},
     "output_type": "display_data"
    },
    {
     "data": {
      "text/markdown": [
       "[2023-07-22 15:13:57 Barron's Weekend Stock Picks: Barbie Bonanza, Vertex's Promising Drug And Tesla Doubts - Mattel  ( NASDAQ:MAT ) , AMC Enter Hldgs  ( NYSE:AMC ) ](https://www.benzinga.com/news/23/07/33333490/barrons-weekend-stock-picks-barbie-bonanza-vertexs-promising-drug-and-tesla-doubts)\n",
       " Benzinga reviews this weekend's top stories covered by Barron's. Here are the articles investors need to read. In \"It's the Summer of Barbie."
      ],
      "text/plain": [
       "<IPython.core.display.Markdown object>"
      ]
     },
     "metadata": {},
     "output_type": "display_data"
    },
    {
     "data": {
      "text/markdown": [
       "[2023-07-22 14:41:00 Correction in Tesla, Netflix shares could last several weeks, stock charts warn](https://www.marketwatch.com/story/tesla-and-netflix-shares-face-several-weeks-of-weakness-stock-charts-warn-2ec05407)\n",
       " The stocks of both Tesla and Netflix fell into correction territory Friday, and charts suggest the selloffs could continue for as long as several weeks."
      ],
      "text/plain": [
       "<IPython.core.display.Markdown object>"
      ]
     },
     "metadata": {},
     "output_type": "display_data"
    },
    {
     "data": {
      "text/markdown": [
       "[2023-07-22 13:37:00 These stock watchers nailed the market's melt-up, but now they're bracing for a fall. Here's what to watch.](https://www.marketwatch.com/story/these-stock-watchers-nailed-the-markets-melt-up-but-now-theyre-bracing-for-a-fall-heres-what-to-watch-3ba46ccf)\n",
       " U.S. stocks are enjoying a breathtaking march higher despite some obvious headwinds. But that streak of winds could come crashing down."
      ],
      "text/plain": [
       "<IPython.core.display.Markdown object>"
      ]
     },
     "metadata": {},
     "output_type": "display_data"
    },
    {
     "data": {
      "text/markdown": [
       "[2023-07-22 13:37:00 Cathie Wood Sold Off $21 Million of Tesla Stock Hours Before Earnings Dip -- Now She's Scooping Up This Magnificent Growth Stock](https://www.fool.com/investing/2023/07/22/cathie-wood-sold-21-million-of-tesla-stock-hours/)\n",
       " Tesla likely remains Cathie Wood's favorite. But she really likes another stock right now, too."
      ],
      "text/plain": [
       "<IPython.core.display.Markdown object>"
      ]
     },
     "metadata": {},
     "output_type": "display_data"
    },
    {
     "data": {
      "text/markdown": [
       "[2023-07-22 13:32:13 Benzinga Bulls And Bears: AMC, Apple, Philip Morris, Ford, And Elon Musk's 'Demon Mode'](https://markets.businessinsider.com/news/stocks/benzinga-bulls-and-bears-amc-apple-philip-morris-ford-and-elon-musk-s-demon-mode-1032467110)\n",
       " Benzinga examined the prospects for many investors' favorite stocks over the last week - here's a look at some of our top stories. The S&P 500 and the Dow Jones Industrial Average ( DJIA ) ended the week on a positive note, with gains of 0.69% and 2.08% respectively, marking the second ..."
      ],
      "text/plain": [
       "<IPython.core.display.Markdown object>"
      ]
     },
     "metadata": {},
     "output_type": "display_data"
    },
    {
     "data": {
      "text/markdown": [
       "[2023-07-22 13:32:12 AMC, Apple, Philip Morris, Ford, And Elon Musk's 'Demon Mode': Bulls And Bears - Apple  ( NASDAQ:AAPL ) , AMC Enter Hldgs  ( NYSE:AMC ) ](https://www.benzinga.com/news/large-cap/23/07/33330243/benzinga-bulls-and-bears-amc-apple-philip-morris-ford-and-elon-musks-demon-mode)\n",
       " Benzinga examined the prospects for many investors' favorite stocks over the last week - here's a look at some of our top stories. The S&P 500 and the Dow Jones Industrial Average ( DJIA ) ended the week on a positive note, with gains of 0.69% and 2.08% respectively, marking the second ..."
      ],
      "text/plain": [
       "<IPython.core.display.Markdown object>"
      ]
     },
     "metadata": {},
     "output_type": "display_data"
    },
    {
     "data": {
      "text/markdown": [
       "[2023-07-22 13:17:00 Marvell Leads 3 AI Stocks Near Buy Points](https://www.investors.com/news/ai-stocks-lead-5-names-near-buy-points/)\n",
       " AI Stocks Lead These 5 Names Near Buy Points Investor's Business Daily ..."
      ],
      "text/plain": [
       "<IPython.core.display.Markdown object>"
      ]
     },
     "metadata": {},
     "output_type": "display_data"
    },
    {
     "data": {
      "text/markdown": [
       "[2023-07-22 12:45:01 People put down deposits for every electric truck in development, leaving dealers in the lurch when they eventually cancel all but one](https://markets.businessinsider.com/news/stocks/dealers-lose-as-customers-place-bets-on-multiple-electric-trucks-2023-7)\n",
       " • Dealers lose in the race to get an electric truck in consumers' driveways. • Dealers have more to lose than manufacturers, who book revenue once the truck leaves the factory. • Order banks are only going to get riskier as EV adoption increases."
      ],
      "text/plain": [
       "<IPython.core.display.Markdown object>"
      ]
     },
     "metadata": {},
     "output_type": "display_data"
    },
    {
     "data": {
      "text/markdown": [
       "[2023-07-22 12:45:00 People put down deposits for every electric truck in development, leaving dealers in the lurch when they eventually cancel all but one](https://www.businessinsider.com/dealers-lose-as-customers-place-bets-on-multiple-electric-trucks-2023-7)\n",
       " Dealers lose as customers place bets on multiple electric trucks - Business Insider ..."
      ],
      "text/plain": [
       "<IPython.core.display.Markdown object>"
      ]
     },
     "metadata": {},
     "output_type": "display_data"
    },
    {
     "data": {
      "text/markdown": [
       "[2023-07-22 12:29:07 Cathie Wood Booked Profit On Some Tesla Holdings Ahead Of Stock's Post-Earnings 11% Plunge - Here's How Much Ark Sold This Week - ARK Next Generation Internet ETF  ( ARCA:ARKW ) , Tesla  ( NASDAQ:TSLA ) , ARK Innovation ETF  ( ARCA:ARKK ) ](https://www.benzinga.com/markets/equities/23/07/33333172/cathie-wood-booked-profit-on-some-tesla-holdings-ahead-of-stocks-post-earnings-11-plunge-heres-h)\n",
       " Tesla, Inc. TSLA is a top holding in many of the Cathie Wood-run Ark Invest's actively managed portfolios. The firm is bullish on the electric vehicle giant and its prospects. This week, Ark, through its flagship Ark Innovation ETF ARKK and Ark Next Generation Internet ETF ARKW, liquidated its ..."
      ],
      "text/plain": [
       "<IPython.core.display.Markdown object>"
      ]
     },
     "metadata": {},
     "output_type": "display_data"
    },
    {
     "data": {
      "text/markdown": [
       "[2023-07-22 12:18:59 Tesla's Earnings Swoon, Ford Ups Ante With F-150 Lightning Price Cuts, Fisker India-Bound And More: Biggest EV Stories Of The Week - Tesla  ( NASDAQ:TSLA ) , Fisker  ( NYSE:FSR ) , Ford Motor  ( NYSE:F ) , Nikola  ( NASDAQ:NKLA ) , Rivian Automotive  ( NASDAQ:RIVN ) ](https://www.benzinga.com/analyst-ratings/analyst-color/23/07/33333146/teslas-earnings-swoon-ford-ups-ante-with-f-150-lightning-price-cuts-fisker-india-bo)\n",
       " Tesla's Post-Earnings Sell-Off, Cybertruck Sightings And More: Tesla reported better-than-expected earnings and revenue for the quarter. Its vehicle margin, excluding regulatory credits, even came in better than expected. Investors, however, sent the stock down by about 10% in a post-earnings ..."
      ],
      "text/plain": [
       "<IPython.core.display.Markdown object>"
      ]
     },
     "metadata": {},
     "output_type": "display_data"
    },
    {
     "data": {
      "text/markdown": [
       "[2023-07-22 12:01:10 Elon Musk's Tesla Stock Overvalued By 1,000% - Market Price 'Disconnected From Reality,' Says Analyst - Tesla  ( NASDAQ:TSLA ) ](https://www.benzinga.com/analyst-ratings/analyst-color/23/07/33333060/elon-musks-tesla-stock-overvalued-by-1-000-market-price-disconnected-from-reality-s)\n",
       " Elon Musk's Tesla Inc. TSLA may be riding high on the AI-fueled tech stock boom of 2023, but not everyone is convinced of its valuation. David Trainer, CEO of investment research firm New Constructs, suggests that the electric vehicle ( EV ) giant is more than 1,000% overvalued, Business Insider ..."
      ],
      "text/plain": [
       "<IPython.core.display.Markdown object>"
      ]
     },
     "metadata": {},
     "output_type": "display_data"
    },
    {
     "data": {
      "text/markdown": [
       "[2023-07-22 12:00:00 If You Invested $1,000 in Tesla in 2018, This Is How Much You Would Have Today](https://www.fool.com/investing/2023/07/22/if-you-invested-1000-in-tesla-in-2018-this-is-how/)\n",
       " Owning this EV stock could have been a huge win for your portfolio."
      ],
      "text/plain": [
       "<IPython.core.display.Markdown object>"
      ]
     },
     "metadata": {},
     "output_type": "display_data"
    },
    {
     "data": {
      "text/markdown": [
       "[2023-07-22 11:20:00 Meet a 64-year-old San Francisco Uber driver who says switching to a Tesla has saved him more than $1,000 a month on gas and maintenance](https://www.businessinsider.com/uber-green-rent-tesla-save-money-ridehail-budgeting-gig-work-2023-7)\n",
       " San Fran Uber driver saves $1,400 a month on gas renting a Tesla EV - Business Insider ..."
      ],
      "text/plain": [
       "<IPython.core.display.Markdown object>"
      ]
     },
     "metadata": {},
     "output_type": "display_data"
    },
    {
     "data": {
      "text/markdown": [
       "[2023-07-22 11:10:00 Austin went from a 'weird' oasis to one of the most expensive cities in the US. Now it's fighting runaway housing prices.](https://www.businessinsider.com/austin-housing-market-prices-surging-multi-unit-zoning-could-decrease-2023-7)\n",
       " Austin housing market prices are surging. Multi-unit housing could fix that. - Business Insider ..."
      ],
      "text/plain": [
       "<IPython.core.display.Markdown object>"
      ]
     },
     "metadata": {},
     "output_type": "display_data"
    },
    {
     "data": {
      "text/markdown": [
       "[2023-07-22 10:47:00 MrBeast plans to take on Hershey's with his Feastables brand - and says shorting a stock 'seems lame'](https://markets.businessinsider.com/news/stocks/mrbeast-feastables-youtube-hershey-buffett-musk-candy-chocolate-short-stocks-2023-7)\n",
       " MrBeast will take on Hershey's with Feastables, says shorting is lame - Markets Insider ..."
      ],
      "text/plain": [
       "<IPython.core.display.Markdown object>"
      ]
     },
     "metadata": {},
     "output_type": "display_data"
    },
    {
     "data": {
      "text/markdown": [
       "[2023-07-22 10:45:00 I spent a day with Rolls-Royce's newest car and saw why it's worth every penny of its $420,000 price tag](https://africa.businessinsider.com/transportation/i-spent-a-day-with-rolls-royces-newest-car-and-saw-why-its-worth-every-penny-of-its/m396gb8)\n",
       " I spent a day with Rolls-Royce's newest car and saw why it's worth every penny of its $420000 price tag - Business Insider Africa ..."
      ],
      "text/plain": [
       "<IPython.core.display.Markdown object>"
      ]
     },
     "metadata": {},
     "output_type": "display_data"
    },
    {
     "data": {
      "text/markdown": [
       "[2023-07-22 09:52:08 Older investors take a pass on bonds](https://theweek.com/feature/1025176/older-investors-take-a-pass-on-bonds)\n",
       " Here are three of the week's top pieces of financial insight, gathered from around the web: More older Americans are investing \"like 30-year-olds,\" said Anne Tergesen in The Wall Street Journal."
      ],
      "text/plain": [
       "<IPython.core.display.Markdown object>"
      ]
     },
     "metadata": {},
     "output_type": "display_data"
    },
    {
     "data": {
      "text/markdown": [
       "[2023-07-22 09:51:00 Could Warren Buffett's Berkshire Hathaway Beat Meta and Tesla in Joining the $1 Trillion Club?](https://www.fool.com/investing/2023/07/22/could-warren-buffetts-berkshire-hathaway-beat-meta/)\n",
       " The current market dynamics favor Meta and Tesla. But things could change."
      ],
      "text/plain": [
       "<IPython.core.display.Markdown object>"
      ]
     },
     "metadata": {},
     "output_type": "display_data"
    },
    {
     "data": {
      "text/markdown": [
       "[2023-07-22 09:13:07 Biden Engages Tech Giants On AI Regulations, Snubs Musk - Microsoft  ( NASDAQ:MSFT ) , Alphabet  ( NASDAQ:GOOG ) , Alphabet  ( NASDAQ:GOOGL ) , Meta Platforms  ( NASDAQ:META ) , Tesla  ( NASDAQ:TSLA ) , Amazon.com  ( NASDAQ:AMZN ) ](https://www.benzinga.com/news/23/07/33332673/elon-musk-preaches-ai-regulations-left-and-right-but-got-snubbed-by-biden-administration-again)\n",
       " In the ongoing push for AI regulations, Elon Musk once again found himself on the outside looking in as the Biden administration steers discussions with other tech giants. What Happened: Musk, the visionary entrepreneur behind Tesla Inc. TSLA and SpaceX, has been an outspoken advocate for ..."
      ],
      "text/plain": [
       "<IPython.core.display.Markdown object>"
      ]
     },
     "metadata": {},
     "output_type": "display_data"
    },
    {
     "data": {
      "text/markdown": [
       "[2023-07-22 07:55:43 Dogecoin Briefly Became 8th-Largest Crypto - Emeren Group  ( NYSE:SOL ) , Tesla  ( NASDAQ:TSLA ) ](https://www.benzinga.com/markets/cryptocurrency/23/07/33332516/elon-musks-favored-dogecoin-briefly-became-8th-largest-crypto-but-then-this-happened)\n",
       " Elon Musk's favored Dogecoin DOGE/USD experienced a rise, briefly claiming the position of the world's eighth-largest cryptocurrency, before encountering an unexpected turn. What Happened: On Friday, Dogecoin, the meme-inspired digital currency, saw its value rise by more than 10% in a single ..."
      ],
      "text/plain": [
       "<IPython.core.display.Markdown object>"
      ]
     },
     "metadata": {},
     "output_type": "display_data"
    },
    {
     "data": {
      "text/markdown": [
       "[2023-07-22 03:57:40 Tesla Cybertruck Reservations Swell To Over 1.9M - Tesla  ( NASDAQ:TSLA ) ](https://www.benzinga.com/markets/equities/23/07/33332166/elon-musks-off-the-hook-cybertruck-demand-comment-proven-right-as-reservations-soar-to-over-1-9m)\n",
       " Tesla Inc. TSLA shares have pulled back notably in the two sessions that followed the electric vehicle maker's earnings release. This, however, hasn't deterred the frenzy about Cybertruck. What Happened: Cybertruck reservations swelled to 1,943,876 as of Friday, according to an online ..."
      ],
      "text/plain": [
       "<IPython.core.display.Markdown object>"
      ]
     },
     "metadata": {},
     "output_type": "display_data"
    },
    {
     "data": {
      "text/markdown": [
       "[2023-07-22 03:11:18 Tesla's Strong Run 'Might Be Over' For Now, Says Investing Expert - NVIDIA  ( NASDAQ:NVDA ) , Broadcom  ( NASDAQ:AVGO ) , Tesla  ( NASDAQ:TSLA ) ](https://www.benzinga.com/analyst-ratings/analyst-color/23/07/33332046/elon-musk-teslas-strong-run-might-be-over-for-now-says-investing-champion)\n",
       " Amid Elon Musk-led Tesla Inc.'s TSLA latest financial reports, concerns have risen as a prominent investing champion suggested that the electric vehicle company's remarkable performance might be at a turning point."
      ],
      "text/plain": [
       "<IPython.core.display.Markdown object>"
      ]
     },
     "metadata": {},
     "output_type": "display_data"
    },
    {
     "data": {
      "text/markdown": [
       "[2023-07-21 22:55:00 Weekly Roundup](https://aap.thestreet.com/story/16129302/1/weekly-rounup.html)\n",
       " The Dow Jones industrial average and the S&P 500 added to their July gains this week, while the Nasdaq Composite was little changed ahead of its underlying index getting rebalanced. Helping lift equities higher were the increasingly popular view the economy will encounter a soft landing and ..."
      ],
      "text/plain": [
       "<IPython.core.display.Markdown object>"
      ]
     },
     "metadata": {},
     "output_type": "display_data"
    },
    {
     "data": {
      "text/markdown": [
       "[2023-07-21 21:24:00 Earnings Wave Is Here; Why These Are The 3 Reports To Watch](https://www.investors.com/market-trend/stock-market-today/dow-jones-futures-why-microsoft-google-meta-earnings-are-key-for-market-rally/)\n",
       " Dow Jones Futures: Why Microsoft, Google, Meta Earnings Are Key For Market Rally Investor's Business Daily ..."
      ],
      "text/plain": [
       "<IPython.core.display.Markdown object>"
      ]
     },
     "metadata": {},
     "output_type": "display_data"
    },
    {
     "data": {
      "text/markdown": [
       "[2023-07-21 20:57:00 Threat or not? Elon Musk gets new hearing on tweet about Tesla workers' stock amid UAW union effort](https://apnews.com/article/tesla-elon-musk-labor-union-twitter-e5fd43697d6caecd42d8cc5eb40527a3)\n",
       " NEW ORLEANS ( AP ) - A federal appeals court Friday said it will reconsider its March ruling that Tesla CEO to take away employees' stock options in a 2018 Twitter post amid an organizing effort by the United Auto Workers union. Three judges on the 5th U.S."
      ],
      "text/plain": [
       "<IPython.core.display.Markdown object>"
      ]
     },
     "metadata": {},
     "output_type": "display_data"
    },
    {
     "data": {
      "text/markdown": [
       "[2023-07-21 20:46:00 Will Big Tech Earnings Keep the Rally Going?](https://www.zacks.com/commentary/2125643/will-big-tech-earnings-keep-the-rally-going)\n",
       " An important part of Tech's improved earnings outlook over the last few months has been a function of more effective cost controls that have helped stabilize margins. But how will the market react?"
      ],
      "text/plain": [
       "<IPython.core.display.Markdown object>"
      ]
     },
     "metadata": {},
     "output_type": "display_data"
    },
    {
     "data": {
      "text/markdown": [
       "[2023-07-21 20:32:48 One measure of 'the market' is up 34% this year while another is only up 6%-here's why](https://www.cnbc.com/2023/07/21/difference-between-the-sp-the-dow-and-the-nasdaq.html)\n",
       " The \"headline\" market indexes tend to move together over long periods, but can diverge wildly over the short term."
      ],
      "text/plain": [
       "<IPython.core.display.Markdown object>"
      ]
     },
     "metadata": {},
     "output_type": "display_data"
    },
    {
     "data": {
      "text/markdown": [
       "[2023-07-21 20:20:00 3 Highly-Ranked Large Cap Stocks to Buy Before Earnings for Big Upside](https://www.zacks.com/stock/news/2125639/3-highly-ranked-large-cap-stocks-to-buy-before-earnings-for-big-upside)\n",
       " Exploring three highly-ranked large-cap stocks--Honeywell, DexCom, and NextEra Energy--that investors might want to buy before their upcoming earnings releases for both near-term and long-term upside."
      ],
      "text/plain": [
       "<IPython.core.display.Markdown object>"
      ]
     },
     "metadata": {},
     "output_type": "display_data"
    },
    {
     "data": {
      "text/markdown": [
       "[2023-07-21 20:12:23 Dow Jones Leads Weekly Gains As Tesla, Netflix Sell-Offs Dent Nasdaq; Big Banks Show Resilience To Volatility - Apple  ( NASDAQ:AAPL ) , Chevron  ( NYSE:CVX ) , Verizon Communications  ( NYSE:VZ ) , Pfizer  ( NYSE:PFE ) , Microsoft  ( NASDAQ:MSFT ) , Tesla  ( NASDAQ:TSLA ) , Mastercard  ( NYSE:MA ) , AT&T  ( NYSE:T ) , Union Pacific  ( NYSE:UNP ) , Visa  ( NYSE:V ) , Unilever  ( NYSE:UL ) , Shell  ( NYSE:SHEL ) , Netflix  ( NASDAQ:NFLX ) , Alphabet  ( NASDAQ:GOOG ) , Meta Platforms  ( NASDAQ:META ) , Bank of America  ( NYSE:BAC ) , Coca-Cola  ( NYSE:KO ) , General Motors  ( NYSE:GM ) , Morgan Stanley  ( NYSE:MS ) , Colgate-Palmolive  ( NYSE:CL ) , 3M  ( NYSE:MMM ) , McDonald's  ( NYSE:MCD ) , Comcast  ( NASDAQ:CMCSA ) , AstraZeneca  ( NASDAQ:AZN ) , Intel  ( NASDAQ:INTC ) , Procter & Gamble  ( NYSE:PG ) , Exxon Mobil  ( NYSE:XOM ) , Charles Schwab  ( NYSE:SCHW ) , Amazon.com  ( NASDAQ:AMZN ) , Boeing  ( NYSE:BA ) ](https://www.benzinga.com/markets/equities/23/07/33329067/dow-jones-leads-weekly-gains-as-tesla-netflix-sell-offs-dent-nasdaq-big-banks-show-resilience-to)\n",
       " The star of the week is the blue-chip Dow Jones, which marked a winning streak of 10 consecutive sessions through Friday, riding high on positive quarterly results from many high-profile defensive stocks. The industrial average is up 2.1% on a weekly basis."
      ],
      "text/plain": [
       "<IPython.core.display.Markdown object>"
      ]
     },
     "metadata": {},
     "output_type": "display_data"
    },
    {
     "data": {
      "text/markdown": [
       "[2023-07-21 19:57:02 What's Going On With Workhorse  ( WKHS )  Stock - Workhorse Gr  ( NASDAQ:WKHS ) ](https://www.benzinga.com/news/23/07/33328504/whats-going-on-with-workhorse-wkhs-stock)\n",
       " Workhorse Group Inc WKHS shares are trading lower by 4.91% to $1.16 going into the close of Friday's session. The stock is falling Friday session despite a lack of company-specific news. Several EV stocks on Thursday fell in symapthy with peer Tesla Inc after the company reported second-quarter ..."
      ],
      "text/plain": [
       "<IPython.core.display.Markdown object>"
      ]
     },
     "metadata": {},
     "output_type": "display_data"
    },
    {
     "data": {
      "text/markdown": [
       "[2023-07-21 19:56:12 What's Going On With ChargePoint  ( CHPT )  Stock - ChargePoint Hldgs  ( NYSE:CHPT ) ](https://www.benzinga.com/news/23/07/33328115/whats-going-on-with-chargepoint-chpt-stock)\n",
       " ChargePoint Holdings Inc CHPT shares are trading higher by 1.1% to $8.35 Friday afternoon. The stock is rising Friday, recovering following Thursday weakness, despite a lack of company-specific news."
      ],
      "text/plain": [
       "<IPython.core.display.Markdown object>"
      ]
     },
     "metadata": {},
     "output_type": "display_data"
    },
    {
     "data": {
      "text/markdown": [
       "[2023-07-21 19:29:00 We tested it and Elon Musk is right: Twitter no longer responds to our emails with a poop emoji](https://www.businessinsider.com/elon-musk-twitter-ends-poop-emoji-press-reply-new-ceo-2023-7)\n",
       " Confirmed: Elon Musk's Twitter drops poop emoji emails - Business Insider ..."
      ],
      "text/plain": [
       "<IPython.core.display.Markdown object>"
      ]
     },
     "metadata": {},
     "output_type": "display_data"
    }
   ],
   "source": [
    "url = f'https://www.alphavantage.co/query?function=NEWS_SENTIMENT&tickers=TSLA&apikey={ALPHAVANTAGE_API_KEY}'\n",
    "r = requests.get(url)\n",
    "data = r.json()\n",
    "\n",
    "for item in data['feed']:\n",
    "    markdown_str = \"\"\n",
    "    date_object = datetime.strptime(item['time_published'], \"%Y%m%dT%H%M%S\")\n",
    "    markdown_str += f\"[{str(date_object)} {item['title']}]({item['url']})\\n {item['summary']}\"\n",
    "    display(Markdown(markdown_str))\n"
   ]
  },
  {
   "cell_type": "code",
   "execution_count": 61,
   "metadata": {},
   "outputs": [
    {
     "data": {
      "text/html": [
       "<div>\n",
       "<style scoped>\n",
       "    .dataframe tbody tr th:only-of-type {\n",
       "        vertical-align: middle;\n",
       "    }\n",
       "\n",
       "    .dataframe tbody tr th {\n",
       "        vertical-align: top;\n",
       "    }\n",
       "\n",
       "    .dataframe thead th {\n",
       "        text-align: right;\n",
       "    }\n",
       "</style>\n",
       "<table border=\"1\" class=\"dataframe\">\n",
       "  <thead>\n",
       "    <tr style=\"text-align: right;\">\n",
       "      <th></th>\n",
       "      <th>2022-12-31</th>\n",
       "      <th>2021-12-31</th>\n",
       "      <th>2020-12-31</th>\n",
       "      <th>2019-12-31</th>\n",
       "      <th>2018-12-31</th>\n",
       "    </tr>\n",
       "  </thead>\n",
       "  <tbody>\n",
       "    <tr>\n",
       "      <th>fiscalDateEnding</th>\n",
       "      <td>2022-12-31</td>\n",
       "      <td>2021-12-31</td>\n",
       "      <td>2020-12-31</td>\n",
       "      <td>2019-12-31</td>\n",
       "      <td>2018-12-31</td>\n",
       "    </tr>\n",
       "    <tr>\n",
       "      <th>reportedCurrency</th>\n",
       "      <td>USD</td>\n",
       "      <td>USD</td>\n",
       "      <td>USD</td>\n",
       "      <td>USD</td>\n",
       "      <td>USD</td>\n",
       "    </tr>\n",
       "    <tr>\n",
       "      <th>grossProfit</th>\n",
       "      <td>32687000000</td>\n",
       "      <td>31486000000</td>\n",
       "      <td>30865000000</td>\n",
       "      <td>31533000000</td>\n",
       "      <td>36936000000</td>\n",
       "    </tr>\n",
       "    <tr>\n",
       "      <th>totalRevenue</th>\n",
       "      <td>60530000000</td>\n",
       "      <td>57350000000</td>\n",
       "      <td>55179000000</td>\n",
       "      <td>57714000000</td>\n",
       "      <td>79591000000</td>\n",
       "    </tr>\n",
       "    <tr>\n",
       "      <th>costOfRevenue</th>\n",
       "      <td>27842000000</td>\n",
       "      <td>25865000000</td>\n",
       "      <td>24314000000</td>\n",
       "      <td>26181000000</td>\n",
       "      <td>42655000000</td>\n",
       "    </tr>\n",
       "    <tr>\n",
       "      <th>costofGoodsAndServicesSold</th>\n",
       "      <td>385000000</td>\n",
       "      <td>300000000</td>\n",
       "      <td>439000000</td>\n",
       "      <td>591000000</td>\n",
       "      <td>42655000000</td>\n",
       "    </tr>\n",
       "    <tr>\n",
       "      <th>operatingIncome</th>\n",
       "      <td>6408000000</td>\n",
       "      <td>4786000000</td>\n",
       "      <td>4609000000</td>\n",
       "      <td>9004000000</td>\n",
       "      <td>10838000000</td>\n",
       "    </tr>\n",
       "    <tr>\n",
       "      <th>sellingGeneralAndAdministrative</th>\n",
       "      <td>18609000000</td>\n",
       "      <td>18745000000</td>\n",
       "      <td>20561000000</td>\n",
       "      <td>18724000000</td>\n",
       "      <td>19366000000</td>\n",
       "    </tr>\n",
       "    <tr>\n",
       "      <th>researchAndDevelopment</th>\n",
       "      <td>6567000000</td>\n",
       "      <td>6488000000</td>\n",
       "      <td>6262000000</td>\n",
       "      <td>5910000000</td>\n",
       "      <td>5379000000</td>\n",
       "    </tr>\n",
       "    <tr>\n",
       "      <th>operatingExpenses</th>\n",
       "      <td>26279000000</td>\n",
       "      <td>26700000000</td>\n",
       "      <td>30966000000</td>\n",
       "      <td>27484000000</td>\n",
       "      <td>26098000000</td>\n",
       "    </tr>\n",
       "    <tr>\n",
       "      <th>investmentIncomeNet</th>\n",
       "      <td>None</td>\n",
       "      <td>None</td>\n",
       "      <td>None</td>\n",
       "      <td>None</td>\n",
       "      <td>None</td>\n",
       "    </tr>\n",
       "    <tr>\n",
       "      <th>netInterestIncome</th>\n",
       "      <td>-1216000000</td>\n",
       "      <td>-1155000000</td>\n",
       "      <td>-1288000000</td>\n",
       "      <td>-1344000000</td>\n",
       "      <td>-723000000</td>\n",
       "    </tr>\n",
       "    <tr>\n",
       "      <th>interestIncome</th>\n",
       "      <td>162000000</td>\n",
       "      <td>52000000</td>\n",
       "      <td>105000000</td>\n",
       "      <td>349000000</td>\n",
       "      <td>264000000</td>\n",
       "    </tr>\n",
       "    <tr>\n",
       "      <th>interestExpense</th>\n",
       "      <td>1216000000</td>\n",
       "      <td>1155000000</td>\n",
       "      <td>1288000000</td>\n",
       "      <td>1344000000</td>\n",
       "      <td>723000000</td>\n",
       "    </tr>\n",
       "    <tr>\n",
       "      <th>nonInterestIncome</th>\n",
       "      <td>365000000</td>\n",
       "      <td>337000000</td>\n",
       "      <td>-92000000</td>\n",
       "      <td>None</td>\n",
       "      <td>None</td>\n",
       "    </tr>\n",
       "    <tr>\n",
       "      <th>otherNonOperatingIncome</th>\n",
       "      <td>443000000</td>\n",
       "      <td>225000000</td>\n",
       "      <td>156000000</td>\n",
       "      <td>968000000</td>\n",
       "      <td>-1152000000</td>\n",
       "    </tr>\n",
       "    <tr>\n",
       "      <th>depreciation</th>\n",
       "      <td>2407000000</td>\n",
       "      <td>3888000000</td>\n",
       "      <td>4227000000</td>\n",
       "      <td>4209000000</td>\n",
       "      <td>3127000000</td>\n",
       "    </tr>\n",
       "    <tr>\n",
       "      <th>depreciationAndAmortization</th>\n",
       "      <td>2395000000</td>\n",
       "      <td>2529000000</td>\n",
       "      <td>2468000000</td>\n",
       "      <td>1850000000</td>\n",
       "      <td>1353000000</td>\n",
       "    </tr>\n",
       "    <tr>\n",
       "      <th>incomeBeforeTax</th>\n",
       "      <td>1013000000</td>\n",
       "      <td>5867000000</td>\n",
       "      <td>4230000000</td>\n",
       "      <td>9491000000</td>\n",
       "      <td>11347000000</td>\n",
       "    </tr>\n",
       "    <tr>\n",
       "      <th>incomeTaxExpense</th>\n",
       "      <td>-626000000</td>\n",
       "      <td>124000000</td>\n",
       "      <td>-1360000000</td>\n",
       "      <td>60000000</td>\n",
       "      <td>2619000000</td>\n",
       "    </tr>\n",
       "    <tr>\n",
       "      <th>interestAndDebtExpense</th>\n",
       "      <td>1216000000</td>\n",
       "      <td>1155000000</td>\n",
       "      <td>1288000000</td>\n",
       "      <td>1344000000</td>\n",
       "      <td>723000000</td>\n",
       "    </tr>\n",
       "    <tr>\n",
       "      <th>netIncomeFromContinuingOperations</th>\n",
       "      <td>1783000000</td>\n",
       "      <td>4712000000</td>\n",
       "      <td>3932000000</td>\n",
       "      <td>7146000000</td>\n",
       "      <td>8723000000</td>\n",
       "    </tr>\n",
       "    <tr>\n",
       "      <th>comprehensiveIncomeNetOfTax</th>\n",
       "      <td>8134000000</td>\n",
       "      <td>10582000000</td>\n",
       "      <td>4850000000</td>\n",
       "      <td>10324000000</td>\n",
       "      <td>8252000000</td>\n",
       "    </tr>\n",
       "    <tr>\n",
       "      <th>ebit</th>\n",
       "      <td>2229000000</td>\n",
       "      <td>7022000000</td>\n",
       "      <td>5518000000</td>\n",
       "      <td>10835000000</td>\n",
       "      <td>12070000000</td>\n",
       "    </tr>\n",
       "    <tr>\n",
       "      <th>ebitda</th>\n",
       "      <td>4624000000</td>\n",
       "      <td>9551000000</td>\n",
       "      <td>7986000000</td>\n",
       "      <td>12685000000</td>\n",
       "      <td>13423000000</td>\n",
       "    </tr>\n",
       "    <tr>\n",
       "      <th>netIncome</th>\n",
       "      <td>1639000000</td>\n",
       "      <td>5743000000</td>\n",
       "      <td>5590000000</td>\n",
       "      <td>9431000000</td>\n",
       "      <td>8728000000</td>\n",
       "    </tr>\n",
       "  </tbody>\n",
       "</table>\n",
       "</div>"
      ],
      "text/plain": [
       "                                    2022-12-31   2021-12-31   2020-12-31  \\\n",
       "fiscalDateEnding                    2022-12-31   2021-12-31   2020-12-31   \n",
       "reportedCurrency                           USD          USD          USD   \n",
       "grossProfit                        32687000000  31486000000  30865000000   \n",
       "totalRevenue                       60530000000  57350000000  55179000000   \n",
       "costOfRevenue                      27842000000  25865000000  24314000000   \n",
       "costofGoodsAndServicesSold           385000000    300000000    439000000   \n",
       "operatingIncome                     6408000000   4786000000   4609000000   \n",
       "sellingGeneralAndAdministrative    18609000000  18745000000  20561000000   \n",
       "researchAndDevelopment              6567000000   6488000000   6262000000   \n",
       "operatingExpenses                  26279000000  26700000000  30966000000   \n",
       "investmentIncomeNet                       None         None         None   \n",
       "netInterestIncome                  -1216000000  -1155000000  -1288000000   \n",
       "interestIncome                       162000000     52000000    105000000   \n",
       "interestExpense                     1216000000   1155000000   1288000000   \n",
       "nonInterestIncome                    365000000    337000000    -92000000   \n",
       "otherNonOperatingIncome              443000000    225000000    156000000   \n",
       "depreciation                        2407000000   3888000000   4227000000   \n",
       "depreciationAndAmortization         2395000000   2529000000   2468000000   \n",
       "incomeBeforeTax                     1013000000   5867000000   4230000000   \n",
       "incomeTaxExpense                    -626000000    124000000  -1360000000   \n",
       "interestAndDebtExpense              1216000000   1155000000   1288000000   \n",
       "netIncomeFromContinuingOperations   1783000000   4712000000   3932000000   \n",
       "comprehensiveIncomeNetOfTax         8134000000  10582000000   4850000000   \n",
       "ebit                                2229000000   7022000000   5518000000   \n",
       "ebitda                              4624000000   9551000000   7986000000   \n",
       "netIncome                           1639000000   5743000000   5590000000   \n",
       "\n",
       "                                    2019-12-31   2018-12-31  \n",
       "fiscalDateEnding                    2019-12-31   2018-12-31  \n",
       "reportedCurrency                           USD          USD  \n",
       "grossProfit                        31533000000  36936000000  \n",
       "totalRevenue                       57714000000  79591000000  \n",
       "costOfRevenue                      26181000000  42655000000  \n",
       "costofGoodsAndServicesSold           591000000  42655000000  \n",
       "operatingIncome                     9004000000  10838000000  \n",
       "sellingGeneralAndAdministrative    18724000000  19366000000  \n",
       "researchAndDevelopment              5910000000   5379000000  \n",
       "operatingExpenses                  27484000000  26098000000  \n",
       "investmentIncomeNet                       None         None  \n",
       "netInterestIncome                  -1344000000   -723000000  \n",
       "interestIncome                       349000000    264000000  \n",
       "interestExpense                     1344000000    723000000  \n",
       "nonInterestIncome                         None         None  \n",
       "otherNonOperatingIncome              968000000  -1152000000  \n",
       "depreciation                        4209000000   3127000000  \n",
       "depreciationAndAmortization         1850000000   1353000000  \n",
       "incomeBeforeTax                     9491000000  11347000000  \n",
       "incomeTaxExpense                      60000000   2619000000  \n",
       "interestAndDebtExpense              1344000000    723000000  \n",
       "netIncomeFromContinuingOperations   7146000000   8723000000  \n",
       "comprehensiveIncomeNetOfTax        10324000000   8252000000  \n",
       "ebit                               10835000000  12070000000  \n",
       "ebitda                             12685000000  13423000000  \n",
       "netIncome                           9431000000   8728000000  "
      ]
     },
     "execution_count": 61,
     "metadata": {},
     "output_type": "execute_result"
    }
   ],
   "source": [
    "# income statement\n",
    "url = f'https://www.alphavantage.co/query?function=INCOME_STATEMENT&symbol=IBM&apikey={ALPHAVANTAGE_API_KEY}'\n",
    "r = requests.get(url)\n",
    "data = r.json()\n",
    "pd.DataFrame({d['fiscalDateEnding']:d for d in data['annualReports']})\n"
   ]
  },
  {
   "cell_type": "code",
   "execution_count": 62,
   "metadata": {},
   "outputs": [
    {
     "data": {
      "text/html": [
       "<div>\n",
       "<style scoped>\n",
       "    .dataframe tbody tr th:only-of-type {\n",
       "        vertical-align: middle;\n",
       "    }\n",
       "\n",
       "    .dataframe tbody tr th {\n",
       "        vertical-align: top;\n",
       "    }\n",
       "\n",
       "    .dataframe thead th {\n",
       "        text-align: right;\n",
       "    }\n",
       "</style>\n",
       "<table border=\"1\" class=\"dataframe\">\n",
       "  <thead>\n",
       "    <tr style=\"text-align: right;\">\n",
       "      <th></th>\n",
       "      <th>2022-12-31</th>\n",
       "      <th>2021-12-31</th>\n",
       "      <th>2020-12-31</th>\n",
       "      <th>2019-12-31</th>\n",
       "      <th>2018-12-31</th>\n",
       "    </tr>\n",
       "  </thead>\n",
       "  <tbody>\n",
       "    <tr>\n",
       "      <th>fiscalDateEnding</th>\n",
       "      <td>2022-12-31</td>\n",
       "      <td>2021-12-31</td>\n",
       "      <td>2020-12-31</td>\n",
       "      <td>2019-12-31</td>\n",
       "      <td>2018-12-31</td>\n",
       "    </tr>\n",
       "    <tr>\n",
       "      <th>reportedCurrency</th>\n",
       "      <td>USD</td>\n",
       "      <td>USD</td>\n",
       "      <td>USD</td>\n",
       "      <td>USD</td>\n",
       "      <td>USD</td>\n",
       "    </tr>\n",
       "    <tr>\n",
       "      <th>totalAssets</th>\n",
       "      <td>127243000000</td>\n",
       "      <td>132001000000</td>\n",
       "      <td>155971000000</td>\n",
       "      <td>152186000000</td>\n",
       "      <td>123382000000</td>\n",
       "    </tr>\n",
       "    <tr>\n",
       "      <th>totalCurrentAssets</th>\n",
       "      <td>29118000000</td>\n",
       "      <td>29539000000</td>\n",
       "      <td>39165000000</td>\n",
       "      <td>38420000000</td>\n",
       "      <td>49146000000</td>\n",
       "    </tr>\n",
       "    <tr>\n",
       "      <th>cashAndCashEquivalentsAtCarryingValue</th>\n",
       "      <td>7886000000</td>\n",
       "      <td>6650000000</td>\n",
       "      <td>13188000000</td>\n",
       "      <td>8172000000</td>\n",
       "      <td>11379000000</td>\n",
       "    </tr>\n",
       "    <tr>\n",
       "      <th>cashAndShortTermInvestments</th>\n",
       "      <td>7886000000</td>\n",
       "      <td>6650000000</td>\n",
       "      <td>13812000000</td>\n",
       "      <td>8868000000</td>\n",
       "      <td>11997000000</td>\n",
       "    </tr>\n",
       "    <tr>\n",
       "      <th>inventory</th>\n",
       "      <td>1552000000</td>\n",
       "      <td>1649000000</td>\n",
       "      <td>1812000000</td>\n",
       "      <td>1619000000</td>\n",
       "      <td>1682000000</td>\n",
       "    </tr>\n",
       "    <tr>\n",
       "      <th>currentNetReceivables</th>\n",
       "      <td>14209000000</td>\n",
       "      <td>14977000000</td>\n",
       "      <td>18738000000</td>\n",
       "      <td>23795000000</td>\n",
       "      <td>30563000000</td>\n",
       "    </tr>\n",
       "    <tr>\n",
       "      <th>totalNonCurrentAssets</th>\n",
       "      <td>96874000000</td>\n",
       "      <td>101786000000</td>\n",
       "      <td>115864000000</td>\n",
       "      <td>112878000000</td>\n",
       "      <td>68067000000</td>\n",
       "    </tr>\n",
       "    <tr>\n",
       "      <th>propertyPlantEquipment</th>\n",
       "      <td>5334000000</td>\n",
       "      <td>5694000000</td>\n",
       "      <td>6205000000</td>\n",
       "      <td>10010000000</td>\n",
       "      <td>10792000000</td>\n",
       "    </tr>\n",
       "    <tr>\n",
       "      <th>accumulatedDepreciationAmortizationPPE</th>\n",
       "      <td>13361000000</td>\n",
       "      <td>14390000000</td>\n",
       "      <td>13895000000</td>\n",
       "      <td>22018000000</td>\n",
       "      <td>21668000000</td>\n",
       "    </tr>\n",
       "    <tr>\n",
       "      <th>intangibleAssets</th>\n",
       "      <td>67133000000</td>\n",
       "      <td>68154000000</td>\n",
       "      <td>73413000000</td>\n",
       "      <td>73457000000</td>\n",
       "      <td>39352000000</td>\n",
       "    </tr>\n",
       "    <tr>\n",
       "      <th>intangibleAssetsExcludingGoodwill</th>\n",
       "      <td>11184000000</td>\n",
       "      <td>12511000000</td>\n",
       "      <td>13796000000</td>\n",
       "      <td>15235000000</td>\n",
       "      <td>3087000000</td>\n",
       "    </tr>\n",
       "    <tr>\n",
       "      <th>goodwill</th>\n",
       "      <td>55949000000</td>\n",
       "      <td>55643000000</td>\n",
       "      <td>53765000000</td>\n",
       "      <td>52471000000</td>\n",
       "      <td>36265000000</td>\n",
       "    </tr>\n",
       "    <tr>\n",
       "      <th>investments</th>\n",
       "      <td>None</td>\n",
       "      <td>199000000</td>\n",
       "      <td>923000000</td>\n",
       "      <td>974000000</td>\n",
       "      <td>1157000000</td>\n",
       "    </tr>\n",
       "    <tr>\n",
       "      <th>longTermInvestments</th>\n",
       "      <td>142000000</td>\n",
       "      <td>159000000</td>\n",
       "      <td>172000000</td>\n",
       "      <td>184000000</td>\n",
       "      <td>192000000</td>\n",
       "    </tr>\n",
       "    <tr>\n",
       "      <th>shortTermInvestments</th>\n",
       "      <td>852000000</td>\n",
       "      <td>600000000</td>\n",
       "      <td>600000000</td>\n",
       "      <td>696000000</td>\n",
       "      <td>618000000</td>\n",
       "    </tr>\n",
       "    <tr>\n",
       "      <th>otherCurrentAssets</th>\n",
       "      <td>2610000000</td>\n",
       "      <td>5663000000</td>\n",
       "      <td>4776000000</td>\n",
       "      <td>4138000000</td>\n",
       "      <td>4904000000</td>\n",
       "    </tr>\n",
       "    <tr>\n",
       "      <th>otherNonCurrentAssets</th>\n",
       "      <td>None</td>\n",
       "      <td>None</td>\n",
       "      <td>None</td>\n",
       "      <td>None</td>\n",
       "      <td>None</td>\n",
       "    </tr>\n",
       "    <tr>\n",
       "      <th>totalLiabilities</th>\n",
       "      <td>105222000000</td>\n",
       "      <td>113005000000</td>\n",
       "      <td>135244000000</td>\n",
       "      <td>131202000000</td>\n",
       "      <td>106452000000</td>\n",
       "    </tr>\n",
       "    <tr>\n",
       "      <th>totalCurrentLiabilities</th>\n",
       "      <td>31505000000</td>\n",
       "      <td>33619000000</td>\n",
       "      <td>39869000000</td>\n",
       "      <td>37701000000</td>\n",
       "      <td>38227000000</td>\n",
       "    </tr>\n",
       "    <tr>\n",
       "      <th>currentAccountsPayable</th>\n",
       "      <td>4051000000</td>\n",
       "      <td>3955000000</td>\n",
       "      <td>4033000000</td>\n",
       "      <td>4896000000</td>\n",
       "      <td>6558000000</td>\n",
       "    </tr>\n",
       "    <tr>\n",
       "      <th>deferredRevenue</th>\n",
       "      <td>15531000000</td>\n",
       "      <td>16095000000</td>\n",
       "      <td>17134000000</td>\n",
       "      <td>15877000000</td>\n",
       "      <td>14610000000</td>\n",
       "    </tr>\n",
       "    <tr>\n",
       "      <th>currentDebt</th>\n",
       "      <td>9511000000</td>\n",
       "      <td>13551000000</td>\n",
       "      <td>14102000000</td>\n",
       "      <td>16319000000</td>\n",
       "      <td>10207000000</td>\n",
       "    </tr>\n",
       "    <tr>\n",
       "      <th>shortTermDebt</th>\n",
       "      <td>4760000000</td>\n",
       "      <td>6787000000</td>\n",
       "      <td>7116000000</td>\n",
       "      <td>8797000000</td>\n",
       "      <td>10207000000</td>\n",
       "    </tr>\n",
       "    <tr>\n",
       "      <th>totalNonCurrentLiabilities</th>\n",
       "      <td>83414000000</td>\n",
       "      <td>90188000000</td>\n",
       "      <td>106679000000</td>\n",
       "      <td>100877000000</td>\n",
       "      <td>76767000000</td>\n",
       "    </tr>\n",
       "    <tr>\n",
       "      <th>capitalLeaseObligations</th>\n",
       "      <td>164000000</td>\n",
       "      <td>63000000</td>\n",
       "      <td>60000000</td>\n",
       "      <td>5259000000</td>\n",
       "      <td>None</td>\n",
       "    </tr>\n",
       "    <tr>\n",
       "      <th>longTermDebt</th>\n",
       "      <td>47190000000</td>\n",
       "      <td>56193000000</td>\n",
       "      <td>68416000000</td>\n",
       "      <td>65953000000</td>\n",
       "      <td>42656000000</td>\n",
       "    </tr>\n",
       "    <tr>\n",
       "      <th>currentLongTermDebt</th>\n",
       "      <td>4676000000</td>\n",
       "      <td>6728000000</td>\n",
       "      <td>6956000000</td>\n",
       "      <td>7522000000</td>\n",
       "      <td>7051000000</td>\n",
       "    </tr>\n",
       "    <tr>\n",
       "      <th>longTermDebtNoncurrent</th>\n",
       "      <td>46189000000</td>\n",
       "      <td>44917000000</td>\n",
       "      <td>54217000000</td>\n",
       "      <td>54102000000</td>\n",
       "      <td>35605000000</td>\n",
       "    </tr>\n",
       "    <tr>\n",
       "      <th>shortLongTermDebtTotal</th>\n",
       "      <td>107759000000</td>\n",
       "      <td>110496000000</td>\n",
       "      <td>130178000000</td>\n",
       "      <td>132187000000</td>\n",
       "      <td>52863000000</td>\n",
       "    </tr>\n",
       "    <tr>\n",
       "      <th>otherCurrentLiabilities</th>\n",
       "      <td>9788000000</td>\n",
       "      <td>9386000000</td>\n",
       "      <td>13588000000</td>\n",
       "      <td>10602000000</td>\n",
       "      <td>10297000000</td>\n",
       "    </tr>\n",
       "    <tr>\n",
       "      <th>otherNonCurrentLiabilities</th>\n",
       "      <td>12243000000</td>\n",
       "      <td>13996000000</td>\n",
       "      <td>14180000000</td>\n",
       "      <td>14526000000</td>\n",
       "      <td>12174000000</td>\n",
       "    </tr>\n",
       "    <tr>\n",
       "      <th>totalShareholderEquity</th>\n",
       "      <td>21944000000</td>\n",
       "      <td>18901000000</td>\n",
       "      <td>20597000000</td>\n",
       "      <td>20841000000</td>\n",
       "      <td>16796000000</td>\n",
       "    </tr>\n",
       "    <tr>\n",
       "      <th>treasuryStock</th>\n",
       "      <td>169484000000</td>\n",
       "      <td>169392000000</td>\n",
       "      <td>169339000000</td>\n",
       "      <td>169413000000</td>\n",
       "      <td>168071000000</td>\n",
       "    </tr>\n",
       "    <tr>\n",
       "      <th>retainedEarnings</th>\n",
       "      <td>149825000000</td>\n",
       "      <td>154209000000</td>\n",
       "      <td>162717000000</td>\n",
       "      <td>162954000000</td>\n",
       "      <td>159206000000</td>\n",
       "    </tr>\n",
       "    <tr>\n",
       "      <th>commonStock</th>\n",
       "      <td>58343000000</td>\n",
       "      <td>57319000000</td>\n",
       "      <td>56556000000</td>\n",
       "      <td>55895000000</td>\n",
       "      <td>55151000000</td>\n",
       "    </tr>\n",
       "    <tr>\n",
       "      <th>commonStockSharesOutstanding</th>\n",
       "      <td>906091977</td>\n",
       "      <td>898068600</td>\n",
       "      <td>892653424</td>\n",
       "      <td>887110455</td>\n",
       "      <td>892479411</td>\n",
       "    </tr>\n",
       "  </tbody>\n",
       "</table>\n",
       "</div>"
      ],
      "text/plain": [
       "                                          2022-12-31    2021-12-31  \\\n",
       "fiscalDateEnding                          2022-12-31    2021-12-31   \n",
       "reportedCurrency                                 USD           USD   \n",
       "totalAssets                             127243000000  132001000000   \n",
       "totalCurrentAssets                       29118000000   29539000000   \n",
       "cashAndCashEquivalentsAtCarryingValue     7886000000    6650000000   \n",
       "cashAndShortTermInvestments               7886000000    6650000000   \n",
       "inventory                                 1552000000    1649000000   \n",
       "currentNetReceivables                    14209000000   14977000000   \n",
       "totalNonCurrentAssets                    96874000000  101786000000   \n",
       "propertyPlantEquipment                    5334000000    5694000000   \n",
       "accumulatedDepreciationAmortizationPPE   13361000000   14390000000   \n",
       "intangibleAssets                         67133000000   68154000000   \n",
       "intangibleAssetsExcludingGoodwill        11184000000   12511000000   \n",
       "goodwill                                 55949000000   55643000000   \n",
       "investments                                     None     199000000   \n",
       "longTermInvestments                        142000000     159000000   \n",
       "shortTermInvestments                       852000000     600000000   \n",
       "otherCurrentAssets                        2610000000    5663000000   \n",
       "otherNonCurrentAssets                           None          None   \n",
       "totalLiabilities                        105222000000  113005000000   \n",
       "totalCurrentLiabilities                  31505000000   33619000000   \n",
       "currentAccountsPayable                    4051000000    3955000000   \n",
       "deferredRevenue                          15531000000   16095000000   \n",
       "currentDebt                               9511000000   13551000000   \n",
       "shortTermDebt                             4760000000    6787000000   \n",
       "totalNonCurrentLiabilities               83414000000   90188000000   \n",
       "capitalLeaseObligations                    164000000      63000000   \n",
       "longTermDebt                             47190000000   56193000000   \n",
       "currentLongTermDebt                       4676000000    6728000000   \n",
       "longTermDebtNoncurrent                   46189000000   44917000000   \n",
       "shortLongTermDebtTotal                  107759000000  110496000000   \n",
       "otherCurrentLiabilities                   9788000000    9386000000   \n",
       "otherNonCurrentLiabilities               12243000000   13996000000   \n",
       "totalShareholderEquity                   21944000000   18901000000   \n",
       "treasuryStock                           169484000000  169392000000   \n",
       "retainedEarnings                        149825000000  154209000000   \n",
       "commonStock                              58343000000   57319000000   \n",
       "commonStockSharesOutstanding               906091977     898068600   \n",
       "\n",
       "                                          2020-12-31    2019-12-31  \\\n",
       "fiscalDateEnding                          2020-12-31    2019-12-31   \n",
       "reportedCurrency                                 USD           USD   \n",
       "totalAssets                             155971000000  152186000000   \n",
       "totalCurrentAssets                       39165000000   38420000000   \n",
       "cashAndCashEquivalentsAtCarryingValue    13188000000    8172000000   \n",
       "cashAndShortTermInvestments              13812000000    8868000000   \n",
       "inventory                                 1812000000    1619000000   \n",
       "currentNetReceivables                    18738000000   23795000000   \n",
       "totalNonCurrentAssets                   115864000000  112878000000   \n",
       "propertyPlantEquipment                    6205000000   10010000000   \n",
       "accumulatedDepreciationAmortizationPPE   13895000000   22018000000   \n",
       "intangibleAssets                         73413000000   73457000000   \n",
       "intangibleAssetsExcludingGoodwill        13796000000   15235000000   \n",
       "goodwill                                 53765000000   52471000000   \n",
       "investments                                923000000     974000000   \n",
       "longTermInvestments                        172000000     184000000   \n",
       "shortTermInvestments                       600000000     696000000   \n",
       "otherCurrentAssets                        4776000000    4138000000   \n",
       "otherNonCurrentAssets                           None          None   \n",
       "totalLiabilities                        135244000000  131202000000   \n",
       "totalCurrentLiabilities                  39869000000   37701000000   \n",
       "currentAccountsPayable                    4033000000    4896000000   \n",
       "deferredRevenue                          17134000000   15877000000   \n",
       "currentDebt                              14102000000   16319000000   \n",
       "shortTermDebt                             7116000000    8797000000   \n",
       "totalNonCurrentLiabilities              106679000000  100877000000   \n",
       "capitalLeaseObligations                     60000000    5259000000   \n",
       "longTermDebt                             68416000000   65953000000   \n",
       "currentLongTermDebt                       6956000000    7522000000   \n",
       "longTermDebtNoncurrent                   54217000000   54102000000   \n",
       "shortLongTermDebtTotal                  130178000000  132187000000   \n",
       "otherCurrentLiabilities                  13588000000   10602000000   \n",
       "otherNonCurrentLiabilities               14180000000   14526000000   \n",
       "totalShareholderEquity                   20597000000   20841000000   \n",
       "treasuryStock                           169339000000  169413000000   \n",
       "retainedEarnings                        162717000000  162954000000   \n",
       "commonStock                              56556000000   55895000000   \n",
       "commonStockSharesOutstanding               892653424     887110455   \n",
       "\n",
       "                                          2018-12-31  \n",
       "fiscalDateEnding                          2018-12-31  \n",
       "reportedCurrency                                 USD  \n",
       "totalAssets                             123382000000  \n",
       "totalCurrentAssets                       49146000000  \n",
       "cashAndCashEquivalentsAtCarryingValue    11379000000  \n",
       "cashAndShortTermInvestments              11997000000  \n",
       "inventory                                 1682000000  \n",
       "currentNetReceivables                    30563000000  \n",
       "totalNonCurrentAssets                    68067000000  \n",
       "propertyPlantEquipment                   10792000000  \n",
       "accumulatedDepreciationAmortizationPPE   21668000000  \n",
       "intangibleAssets                         39352000000  \n",
       "intangibleAssetsExcludingGoodwill         3087000000  \n",
       "goodwill                                 36265000000  \n",
       "investments                               1157000000  \n",
       "longTermInvestments                        192000000  \n",
       "shortTermInvestments                       618000000  \n",
       "otherCurrentAssets                        4904000000  \n",
       "otherNonCurrentAssets                           None  \n",
       "totalLiabilities                        106452000000  \n",
       "totalCurrentLiabilities                  38227000000  \n",
       "currentAccountsPayable                    6558000000  \n",
       "deferredRevenue                          14610000000  \n",
       "currentDebt                              10207000000  \n",
       "shortTermDebt                            10207000000  \n",
       "totalNonCurrentLiabilities               76767000000  \n",
       "capitalLeaseObligations                         None  \n",
       "longTermDebt                             42656000000  \n",
       "currentLongTermDebt                       7051000000  \n",
       "longTermDebtNoncurrent                   35605000000  \n",
       "shortLongTermDebtTotal                   52863000000  \n",
       "otherCurrentLiabilities                  10297000000  \n",
       "otherNonCurrentLiabilities               12174000000  \n",
       "totalShareholderEquity                   16796000000  \n",
       "treasuryStock                           168071000000  \n",
       "retainedEarnings                        159206000000  \n",
       "commonStock                              55151000000  \n",
       "commonStockSharesOutstanding               892479411  "
      ]
     },
     "execution_count": 62,
     "metadata": {},
     "output_type": "execute_result"
    }
   ],
   "source": [
    "# balance sheet\n",
    "url = f'https://www.alphavantage.co/query?function=BALANCE_SHEET&symbol=IBM&apikey={ALPHAVANTAGE_API_KEY}'\n",
    "r = requests.get(url)\n",
    "data = r.json()\n",
    "pd.DataFrame({d['fiscalDateEnding']:d for d in data['annualReports']})\n"
   ]
  },
  {
   "cell_type": "code",
   "execution_count": 63,
   "metadata": {},
   "outputs": [
    {
     "data": {
      "text/html": [
       "<div>\n",
       "<style scoped>\n",
       "    .dataframe tbody tr th:only-of-type {\n",
       "        vertical-align: middle;\n",
       "    }\n",
       "\n",
       "    .dataframe tbody tr th {\n",
       "        vertical-align: top;\n",
       "    }\n",
       "\n",
       "    .dataframe thead th {\n",
       "        text-align: right;\n",
       "    }\n",
       "</style>\n",
       "<table border=\"1\" class=\"dataframe\">\n",
       "  <thead>\n",
       "    <tr style=\"text-align: right;\">\n",
       "      <th></th>\n",
       "      <th>2022-12-31</th>\n",
       "      <th>2021-12-31</th>\n",
       "      <th>2020-12-31</th>\n",
       "      <th>2019-12-31</th>\n",
       "      <th>2018-12-31</th>\n",
       "    </tr>\n",
       "  </thead>\n",
       "  <tbody>\n",
       "    <tr>\n",
       "      <th>fiscalDateEnding</th>\n",
       "      <td>2022-12-31</td>\n",
       "      <td>2021-12-31</td>\n",
       "      <td>2020-12-31</td>\n",
       "      <td>2019-12-31</td>\n",
       "      <td>2018-12-31</td>\n",
       "    </tr>\n",
       "    <tr>\n",
       "      <th>reportedCurrency</th>\n",
       "      <td>USD</td>\n",
       "      <td>USD</td>\n",
       "      <td>USD</td>\n",
       "      <td>USD</td>\n",
       "      <td>USD</td>\n",
       "    </tr>\n",
       "    <tr>\n",
       "      <th>operatingCashflow</th>\n",
       "      <td>10435000000</td>\n",
       "      <td>12796000000</td>\n",
       "      <td>18197000000</td>\n",
       "      <td>14770000000</td>\n",
       "      <td>15247000000</td>\n",
       "    </tr>\n",
       "    <tr>\n",
       "      <th>paymentsForOperatingActivities</th>\n",
       "      <td>2430000000</td>\n",
       "      <td>2655000000</td>\n",
       "      <td>3406000000</td>\n",
       "      <td>3234000000</td>\n",
       "      <td>1423000000</td>\n",
       "    </tr>\n",
       "    <tr>\n",
       "      <th>proceedsFromOperatingActivities</th>\n",
       "      <td>None</td>\n",
       "      <td>None</td>\n",
       "      <td>None</td>\n",
       "      <td>None</td>\n",
       "      <td>None</td>\n",
       "    </tr>\n",
       "    <tr>\n",
       "      <th>changeInOperatingLiabilities</th>\n",
       "      <td>213000000</td>\n",
       "      <td>85000000</td>\n",
       "      <td>138000000</td>\n",
       "      <td>-503000000</td>\n",
       "      <td>126000000</td>\n",
       "    </tr>\n",
       "    <tr>\n",
       "      <th>changeInOperatingAssets</th>\n",
       "      <td>468000000</td>\n",
       "      <td>-1510000000</td>\n",
       "      <td>-5088000000</td>\n",
       "      <td>-569000000</td>\n",
       "      <td>-879000000</td>\n",
       "    </tr>\n",
       "    <tr>\n",
       "      <th>depreciationDepletionAndAmortization</th>\n",
       "      <td>4802000000</td>\n",
       "      <td>6417000000</td>\n",
       "      <td>6695000000</td>\n",
       "      <td>6059000000</td>\n",
       "      <td>4480000000</td>\n",
       "    </tr>\n",
       "    <tr>\n",
       "      <th>capitalExpenditures</th>\n",
       "      <td>1346000000</td>\n",
       "      <td>2062000000</td>\n",
       "      <td>2618000000</td>\n",
       "      <td>2286000000</td>\n",
       "      <td>3395000000</td>\n",
       "    </tr>\n",
       "    <tr>\n",
       "      <th>changeInReceivables</th>\n",
       "      <td>539000000</td>\n",
       "      <td>-1372000000</td>\n",
       "      <td>-5297000000</td>\n",
       "      <td>-502000000</td>\n",
       "      <td>-1006000000</td>\n",
       "    </tr>\n",
       "    <tr>\n",
       "      <th>changeInInventory</th>\n",
       "      <td>-71000000</td>\n",
       "      <td>-138000000</td>\n",
       "      <td>209000000</td>\n",
       "      <td>-67000000</td>\n",
       "      <td>127000000</td>\n",
       "    </tr>\n",
       "    <tr>\n",
       "      <th>profitLoss</th>\n",
       "      <td>1639000000</td>\n",
       "      <td>5743000000</td>\n",
       "      <td>5590000000</td>\n",
       "      <td>9431000000</td>\n",
       "      <td>8728000000</td>\n",
       "    </tr>\n",
       "    <tr>\n",
       "      <th>cashflowFromInvestment</th>\n",
       "      <td>-4202000000</td>\n",
       "      <td>-5975000000</td>\n",
       "      <td>-3028000000</td>\n",
       "      <td>-26936000000</td>\n",
       "      <td>-4913000000</td>\n",
       "    </tr>\n",
       "    <tr>\n",
       "      <th>cashflowFromFinancing</th>\n",
       "      <td>-4958000000</td>\n",
       "      <td>-13354000000</td>\n",
       "      <td>-9721000000</td>\n",
       "      <td>9042000000</td>\n",
       "      <td>-10469000000</td>\n",
       "    </tr>\n",
       "    <tr>\n",
       "      <th>proceedsFromRepaymentsOfShortTermDebt</th>\n",
       "      <td>217000000</td>\n",
       "      <td>-40000000</td>\n",
       "      <td>-853000000</td>\n",
       "      <td>-2597000000</td>\n",
       "      <td>1341000000</td>\n",
       "    </tr>\n",
       "    <tr>\n",
       "      <th>paymentsForRepurchaseOfCommonStock</th>\n",
       "      <td>None</td>\n",
       "      <td>None</td>\n",
       "      <td>None</td>\n",
       "      <td>1361000000</td>\n",
       "      <td>4443000000</td>\n",
       "    </tr>\n",
       "    <tr>\n",
       "      <th>paymentsForRepurchaseOfEquity</th>\n",
       "      <td>None</td>\n",
       "      <td>None</td>\n",
       "      <td>None</td>\n",
       "      <td>1361000000</td>\n",
       "      <td>4443000000</td>\n",
       "    </tr>\n",
       "    <tr>\n",
       "      <th>paymentsForRepurchaseOfPreferredStock</th>\n",
       "      <td>None</td>\n",
       "      <td>None</td>\n",
       "      <td>None</td>\n",
       "      <td>None</td>\n",
       "      <td>None</td>\n",
       "    </tr>\n",
       "    <tr>\n",
       "      <th>dividendPayout</th>\n",
       "      <td>5948000000</td>\n",
       "      <td>5869000000</td>\n",
       "      <td>5797000000</td>\n",
       "      <td>5707000000</td>\n",
       "      <td>5666000000</td>\n",
       "    </tr>\n",
       "    <tr>\n",
       "      <th>dividendPayoutCommonStock</th>\n",
       "      <td>5948000000</td>\n",
       "      <td>5869000000</td>\n",
       "      <td>5797000000</td>\n",
       "      <td>5707000000</td>\n",
       "      <td>5666000000</td>\n",
       "    </tr>\n",
       "    <tr>\n",
       "      <th>dividendPayoutPreferredStock</th>\n",
       "      <td>None</td>\n",
       "      <td>None</td>\n",
       "      <td>None</td>\n",
       "      <td>None</td>\n",
       "      <td>None</td>\n",
       "    </tr>\n",
       "    <tr>\n",
       "      <th>proceedsFromIssuanceOfCommonStock</th>\n",
       "      <td>None</td>\n",
       "      <td>None</td>\n",
       "      <td>None</td>\n",
       "      <td>None</td>\n",
       "      <td>None</td>\n",
       "    </tr>\n",
       "    <tr>\n",
       "      <th>proceedsFromIssuanceOfLongTermDebtAndCapitalSecuritiesNet</th>\n",
       "      <td>7804000000</td>\n",
       "      <td>522000000</td>\n",
       "      <td>10504000000</td>\n",
       "      <td>31825000000</td>\n",
       "      <td>6891000000</td>\n",
       "    </tr>\n",
       "    <tr>\n",
       "      <th>proceedsFromIssuanceOfPreferredStock</th>\n",
       "      <td>None</td>\n",
       "      <td>None</td>\n",
       "      <td>None</td>\n",
       "      <td>None</td>\n",
       "      <td>None</td>\n",
       "    </tr>\n",
       "    <tr>\n",
       "      <th>proceedsFromRepurchaseOfEquity</th>\n",
       "      <td>-407000000</td>\n",
       "      <td>-319000000</td>\n",
       "      <td>-210000000</td>\n",
       "      <td>-1361000000</td>\n",
       "      <td>-4443000000</td>\n",
       "    </tr>\n",
       "    <tr>\n",
       "      <th>proceedsFromSaleOfTreasuryStock</th>\n",
       "      <td>None</td>\n",
       "      <td>None</td>\n",
       "      <td>None</td>\n",
       "      <td>None</td>\n",
       "      <td>None</td>\n",
       "    </tr>\n",
       "    <tr>\n",
       "      <th>changeInCashAndCashEquivalents</th>\n",
       "      <td>None</td>\n",
       "      <td>-6533000000</td>\n",
       "      <td>5448000000</td>\n",
       "      <td>-3124000000</td>\n",
       "      <td>-135000000</td>\n",
       "    </tr>\n",
       "    <tr>\n",
       "      <th>changeInExchangeRate</th>\n",
       "      <td>None</td>\n",
       "      <td>None</td>\n",
       "      <td>None</td>\n",
       "      <td>None</td>\n",
       "      <td>None</td>\n",
       "    </tr>\n",
       "    <tr>\n",
       "      <th>netIncome</th>\n",
       "      <td>1639000000</td>\n",
       "      <td>5743000000</td>\n",
       "      <td>5590000000</td>\n",
       "      <td>9431000000</td>\n",
       "      <td>8728000000</td>\n",
       "    </tr>\n",
       "  </tbody>\n",
       "</table>\n",
       "</div>"
      ],
      "text/plain": [
       "                                                     2022-12-31    2021-12-31  \\\n",
       "fiscalDateEnding                                     2022-12-31    2021-12-31   \n",
       "reportedCurrency                                            USD           USD   \n",
       "operatingCashflow                                   10435000000   12796000000   \n",
       "paymentsForOperatingActivities                       2430000000    2655000000   \n",
       "proceedsFromOperatingActivities                            None          None   \n",
       "changeInOperatingLiabilities                          213000000      85000000   \n",
       "changeInOperatingAssets                               468000000   -1510000000   \n",
       "depreciationDepletionAndAmortization                 4802000000    6417000000   \n",
       "capitalExpenditures                                  1346000000    2062000000   \n",
       "changeInReceivables                                   539000000   -1372000000   \n",
       "changeInInventory                                     -71000000    -138000000   \n",
       "profitLoss                                           1639000000    5743000000   \n",
       "cashflowFromInvestment                              -4202000000   -5975000000   \n",
       "cashflowFromFinancing                               -4958000000  -13354000000   \n",
       "proceedsFromRepaymentsOfShortTermDebt                 217000000     -40000000   \n",
       "paymentsForRepurchaseOfCommonStock                         None          None   \n",
       "paymentsForRepurchaseOfEquity                              None          None   \n",
       "paymentsForRepurchaseOfPreferredStock                      None          None   \n",
       "dividendPayout                                       5948000000    5869000000   \n",
       "dividendPayoutCommonStock                            5948000000    5869000000   \n",
       "dividendPayoutPreferredStock                               None          None   \n",
       "proceedsFromIssuanceOfCommonStock                          None          None   \n",
       "proceedsFromIssuanceOfLongTermDebtAndCapitalSec...   7804000000     522000000   \n",
       "proceedsFromIssuanceOfPreferredStock                       None          None   \n",
       "proceedsFromRepurchaseOfEquity                       -407000000    -319000000   \n",
       "proceedsFromSaleOfTreasuryStock                            None          None   \n",
       "changeInCashAndCashEquivalents                             None   -6533000000   \n",
       "changeInExchangeRate                                       None          None   \n",
       "netIncome                                            1639000000    5743000000   \n",
       "\n",
       "                                                     2020-12-31    2019-12-31  \\\n",
       "fiscalDateEnding                                     2020-12-31    2019-12-31   \n",
       "reportedCurrency                                            USD           USD   \n",
       "operatingCashflow                                   18197000000   14770000000   \n",
       "paymentsForOperatingActivities                       3406000000    3234000000   \n",
       "proceedsFromOperatingActivities                            None          None   \n",
       "changeInOperatingLiabilities                          138000000    -503000000   \n",
       "changeInOperatingAssets                             -5088000000    -569000000   \n",
       "depreciationDepletionAndAmortization                 6695000000    6059000000   \n",
       "capitalExpenditures                                  2618000000    2286000000   \n",
       "changeInReceivables                                 -5297000000    -502000000   \n",
       "changeInInventory                                     209000000     -67000000   \n",
       "profitLoss                                           5590000000    9431000000   \n",
       "cashflowFromInvestment                              -3028000000  -26936000000   \n",
       "cashflowFromFinancing                               -9721000000    9042000000   \n",
       "proceedsFromRepaymentsOfShortTermDebt                -853000000   -2597000000   \n",
       "paymentsForRepurchaseOfCommonStock                         None    1361000000   \n",
       "paymentsForRepurchaseOfEquity                              None    1361000000   \n",
       "paymentsForRepurchaseOfPreferredStock                      None          None   \n",
       "dividendPayout                                       5797000000    5707000000   \n",
       "dividendPayoutCommonStock                            5797000000    5707000000   \n",
       "dividendPayoutPreferredStock                               None          None   \n",
       "proceedsFromIssuanceOfCommonStock                          None          None   \n",
       "proceedsFromIssuanceOfLongTermDebtAndCapitalSec...  10504000000   31825000000   \n",
       "proceedsFromIssuanceOfPreferredStock                       None          None   \n",
       "proceedsFromRepurchaseOfEquity                       -210000000   -1361000000   \n",
       "proceedsFromSaleOfTreasuryStock                            None          None   \n",
       "changeInCashAndCashEquivalents                       5448000000   -3124000000   \n",
       "changeInExchangeRate                                       None          None   \n",
       "netIncome                                            5590000000    9431000000   \n",
       "\n",
       "                                                      2018-12-31  \n",
       "fiscalDateEnding                                      2018-12-31  \n",
       "reportedCurrency                                             USD  \n",
       "operatingCashflow                                    15247000000  \n",
       "paymentsForOperatingActivities                        1423000000  \n",
       "proceedsFromOperatingActivities                             None  \n",
       "changeInOperatingLiabilities                           126000000  \n",
       "changeInOperatingAssets                               -879000000  \n",
       "depreciationDepletionAndAmortization                  4480000000  \n",
       "capitalExpenditures                                   3395000000  \n",
       "changeInReceivables                                  -1006000000  \n",
       "changeInInventory                                      127000000  \n",
       "profitLoss                                            8728000000  \n",
       "cashflowFromInvestment                               -4913000000  \n",
       "cashflowFromFinancing                               -10469000000  \n",
       "proceedsFromRepaymentsOfShortTermDebt                 1341000000  \n",
       "paymentsForRepurchaseOfCommonStock                    4443000000  \n",
       "paymentsForRepurchaseOfEquity                         4443000000  \n",
       "paymentsForRepurchaseOfPreferredStock                       None  \n",
       "dividendPayout                                        5666000000  \n",
       "dividendPayoutCommonStock                             5666000000  \n",
       "dividendPayoutPreferredStock                                None  \n",
       "proceedsFromIssuanceOfCommonStock                           None  \n",
       "proceedsFromIssuanceOfLongTermDebtAndCapitalSec...    6891000000  \n",
       "proceedsFromIssuanceOfPreferredStock                        None  \n",
       "proceedsFromRepurchaseOfEquity                       -4443000000  \n",
       "proceedsFromSaleOfTreasuryStock                             None  \n",
       "changeInCashAndCashEquivalents                        -135000000  \n",
       "changeInExchangeRate                                        None  \n",
       "netIncome                                             8728000000  "
      ]
     },
     "execution_count": 63,
     "metadata": {},
     "output_type": "execute_result"
    }
   ],
   "source": [
    "# cash flow\n",
    "url = f'https://www.alphavantage.co/query?function=CASH_FLOW&symbol=IBM&apikey={ALPHAVANTAGE_API_KEY}'\n",
    "r = requests.get(url)\n",
    "data = r.json()\n",
    "pd.DataFrame({d['fiscalDateEnding']:d for d in data['annualReports']})\n"
   ]
  },
  {
   "cell_type": "markdown",
   "metadata": {},
   "source": [
    "# Polygon\n",
    "- [Getting Started](https://polygon.readthedocs.io/en/latest/Getting-Started.html)\n",
    "- [Stocks data](https://polygon.readthedocs.io/en/latest/Stocks.html)\n",
    "- [Pricing](https://polygon.io/pricing)\n"
   ]
  },
  {
   "cell_type": "code",
   "execution_count": 24,
   "metadata": {},
   "outputs": [],
   "source": [
    "import polygon\n",
    "from polygon import StocksClient\n",
    "\n",
    "POLYGON_API_KEY = os.environ['POLYGON_API_KEY']"
   ]
  },
  {
   "cell_type": "code",
   "execution_count": 25,
   "metadata": {},
   "outputs": [
    {
     "data": {
      "text/plain": [
       "{'request_id': '7260acc223853eef818359babaa0da8d',\n",
       " 'results': {'ticker': 'MSFT',\n",
       "  'name': 'Microsoft Corp',\n",
       "  'market': 'stocks',\n",
       "  'locale': 'us',\n",
       "  'primary_exchange': 'XNAS',\n",
       "  'type': 'CS',\n",
       "  'active': True,\n",
       "  'currency_name': 'usd',\n",
       "  'cik': '0000789019',\n",
       "  'composite_figi': 'BBG000BPH459',\n",
       "  'share_class_figi': 'BBG001S5TD05',\n",
       "  'market_cap': 2556097563657.75,\n",
       "  'phone_number': '425-882-8080',\n",
       "  'address': {'address1': 'ONE MICROSOFT WAY',\n",
       "   'city': 'REDMOND',\n",
       "   'state': 'WA',\n",
       "   'postal_code': '98052-6399'},\n",
       "  'description': 'Microsoft develops and licenses consumer and enterprise software. It is known for its Windows operating systems and Office productivity suite. The company is organized into three equally sized broad segments: productivity and business processes (legacy Microsoft Office, cloud-based Office 365, Exchange, SharePoint, Skype, LinkedIn, Dynamics), intelligence cloud (infrastructure- and platform-as-a-service offerings Azure, Windows Server OS, SQL Server), and more personal computing (Windows Client, Xbox, Bing search, display advertising, and Surface laptops, tablets, and desktops).',\n",
       "  'sic_code': '7372',\n",
       "  'sic_description': 'SERVICES-PREPACKAGED SOFTWARE',\n",
       "  'ticker_root': 'MSFT',\n",
       "  'homepage_url': 'https://www.microsoft.com',\n",
       "  'total_employees': 221000,\n",
       "  'list_date': '1986-03-13',\n",
       "  'branding': {'logo_url': 'https://api.polygon.io/v1/reference/company-branding/d3d3Lm1pY3Jvc29mdC5jb20/images/2023-05-01_logo.svg',\n",
       "   'icon_url': 'https://api.polygon.io/v1/reference/company-branding/d3d3Lm1pY3Jvc29mdC5jb20/images/2023-05-01_icon.jpeg'},\n",
       "  'share_class_shares_outstanding': 7435490000,\n",
       "  'weighted_shares_outstanding': 7435487575,\n",
       "  'round_lot': 100},\n",
       " 'status': 'OK'}"
      ]
     },
     "execution_count": 25,
     "metadata": {},
     "output_type": "execute_result"
    }
   ],
   "source": [
    "reference_client = polygon.ReferenceClient(POLYGON_API_KEY)  # for usual sync client\n",
    "reference_client.get_ticker_details(symbol='MSFT')\n"
   ]
  },
  {
   "cell_type": "code",
   "execution_count": 26,
   "metadata": {},
   "outputs": [
    {
     "ename": "ValueError",
     "evalue": "Request failed. Make sure your API key is correct and your subscription has access to the data you requested. Response from the API: {'status': 'NOT_AUTHORIZED', 'request_id': '06f26347fa7e921c049c1d40cb2676a1', 'message': 'You are not entitled to this data. Please upgrade your plan at https://polygon.io/pricing'}",
     "output_type": "error",
     "traceback": [
      "\u001b[0;31m---------------------------------------------------------------------------\u001b[0m",
      "\u001b[0;31mKeyError\u001b[0m                                  Traceback (most recent call last)",
      "File \u001b[0;32m~/opt/anaconda3/envs/agents/lib/python3.10/site-packages/polygon/stocks/stocks.py:579\u001b[0m, in \u001b[0;36mSyncStocksClient.get_current_price\u001b[0;34m(self, symbol)\u001b[0m\n\u001b[1;32m    578\u001b[0m \u001b[38;5;28;01mtry\u001b[39;00m:\n\u001b[0;32m--> 579\u001b[0m     \u001b[38;5;28;01mreturn\u001b[39;00m \u001b[43m_res\u001b[49m\u001b[43m[\u001b[49m\u001b[38;5;124;43m'\u001b[39;49m\u001b[38;5;124;43mresults\u001b[39;49m\u001b[38;5;124;43m'\u001b[39;49m\u001b[43m]\u001b[49m[\u001b[38;5;124m'\u001b[39m\u001b[38;5;124mp\u001b[39m\u001b[38;5;124m'\u001b[39m]\n\u001b[1;32m    580\u001b[0m \u001b[38;5;28;01mexcept\u001b[39;00m \u001b[38;5;167;01mKeyError\u001b[39;00m:\n",
      "\u001b[0;31mKeyError\u001b[0m: 'results'",
      "\nDuring handling of the above exception, another exception occurred:\n",
      "\u001b[0;31mValueError\u001b[0m                                Traceback (most recent call last)",
      "Cell \u001b[0;32mIn[26], line 2\u001b[0m\n\u001b[1;32m      1\u001b[0m stocks_client \u001b[38;5;241m=\u001b[39m polygon\u001b[38;5;241m.\u001b[39mStocksClient(POLYGON_API_KEY, connect_timeout\u001b[38;5;241m=\u001b[39m\u001b[38;5;241m15\u001b[39m)\n\u001b[0;32m----> 2\u001b[0m current_price \u001b[38;5;241m=\u001b[39m \u001b[43mstocks_client\u001b[49m\u001b[38;5;241;43m.\u001b[39;49m\u001b[43mget_current_price\u001b[49m\u001b[43m(\u001b[49m\u001b[38;5;124;43m'\u001b[39;49m\u001b[38;5;124;43mAMD\u001b[39;49m\u001b[38;5;124;43m'\u001b[39;49m\u001b[43m)\u001b[49m\n",
      "File \u001b[0;32m~/opt/anaconda3/envs/agents/lib/python3.10/site-packages/polygon/stocks/stocks.py:581\u001b[0m, in \u001b[0;36mSyncStocksClient.get_current_price\u001b[0;34m(self, symbol)\u001b[0m\n\u001b[1;32m    579\u001b[0m     \u001b[38;5;28;01mreturn\u001b[39;00m _res[\u001b[38;5;124m'\u001b[39m\u001b[38;5;124mresults\u001b[39m\u001b[38;5;124m'\u001b[39m][\u001b[38;5;124m'\u001b[39m\u001b[38;5;124mp\u001b[39m\u001b[38;5;124m'\u001b[39m]\n\u001b[1;32m    580\u001b[0m \u001b[38;5;28;01mexcept\u001b[39;00m \u001b[38;5;167;01mKeyError\u001b[39;00m:\n\u001b[0;32m--> 581\u001b[0m     \u001b[38;5;28;01mraise\u001b[39;00m \u001b[38;5;167;01mValueError\u001b[39;00m(\u001b[38;5;124m'\u001b[39m\u001b[38;5;124mRequest failed. Make sure your API key is correct and your subscription has access to \u001b[39m\u001b[38;5;124m'\u001b[39m\n\u001b[1;32m    582\u001b[0m                      \u001b[38;5;124mf\u001b[39m\u001b[38;5;124m'\u001b[39m\u001b[38;5;124mthe data you requested. Response from the API: \u001b[39m\u001b[38;5;132;01m{\u001b[39;00m_res\u001b[38;5;132;01m}\u001b[39;00m\u001b[38;5;124m'\u001b[39m)\n",
      "\u001b[0;31mValueError\u001b[0m: Request failed. Make sure your API key is correct and your subscription has access to the data you requested. Response from the API: {'status': 'NOT_AUTHORIZED', 'request_id': '06f26347fa7e921c049c1d40cb2676a1', 'message': 'You are not entitled to this data. Please upgrade your plan at https://polygon.io/pricing'}"
     ]
    }
   ],
   "source": [
    "stocks_client = polygon.StocksClient(POLYGON_API_KEY, connect_timeout=15)\n",
    "current_price = stocks_client.get_current_price('AMD')\n"
   ]
  },
  {
   "cell_type": "markdown",
   "metadata": {},
   "source": [
    "# FRED\n",
    "- [All US official economic time series](https://fred.stlouisfed.org/)\n",
    "- [Free API Key](https://fred.stlouisfed.org/docs/api/api_key.html)\n",
    "- See my [chartbook repo](https://github.com/druce/chartbook) for other official national data sources, OECD, IMF and other multilateral institutions)\n"
   ]
  },
  {
   "cell_type": "code",
   "execution_count": 27,
   "metadata": {},
   "outputs": [],
   "source": [
    "import fredapi as fa\n",
    "import pandas as pd\n",
    "\n",
    "FRED_API_KEY = os.environ['FRED_API_KEY']\n"
   ]
  },
  {
   "cell_type": "code",
   "execution_count": 28,
   "metadata": {},
   "outputs": [
    {
     "data": {
      "text/plain": [
       "2022-01-01    24740.480\n",
       "2022-04-01    25248.476\n",
       "2022-07-01    25723.941\n",
       "2022-10-01    26137.992\n",
       "2023-01-01    26529.774\n",
       "Name: gdp, dtype: float64"
      ]
     },
     "execution_count": 28,
     "metadata": {},
     "output_type": "execute_result"
    }
   ],
   "source": [
    "fred = fa.Fred(api_key=FRED_API_KEY)\n",
    "\n",
    "gdp = fred.get_series('GDP')\n",
    "gdp.name = 'gdp'\n",
    "gdp.tail()\n"
   ]
  },
  {
   "cell_type": "markdown",
   "metadata": {},
   "source": [
    "# EOD Historical data\n",
    "- [Website](https://eodhistoricaldata.com/financial-apis/python-financial-libraries-and-code-samples/)\n",
    "- [Pricing](https://eodhistoricaldata.com/pricing)\n",
    "- [Register to get an API Key](https://eodhistoricaldata.com/register)\n"
   ]
  },
  {
   "cell_type": "code",
   "execution_count": 29,
   "metadata": {},
   "outputs": [],
   "source": [
    "from eodhd import APIClient\n",
    "EODHD_API_KEY = os.environ.get(\"EODHD_API_KEY\")\n"
   ]
  },
  {
   "cell_type": "code",
   "execution_count": 30,
   "metadata": {},
   "outputs": [],
   "source": [
    "api = APIClient(EODHD_API_KEY)\n"
   ]
  },
  {
   "cell_type": "code",
   "execution_count": 31,
   "metadata": {},
   "outputs": [
    {
     "name": "stderr",
     "output_type": "stream",
     "text": [
      "/Users/drucev/opt/anaconda3/envs/agents/lib/python3.10/site-packages/eod_historical_data/data.py:41: ParserWarning: Falling back to the 'python' engine because the 'c' engine does not support skipfooter; you can avoid this warning by specifying engine='python'.\n",
      "  df = pd.read_csv(StringIO(r.text), skipfooter=1,\n"
     ]
    },
    {
     "data": {
      "text/html": [
       "<div>\n",
       "<style scoped>\n",
       "    .dataframe tbody tr th:only-of-type {\n",
       "        vertical-align: middle;\n",
       "    }\n",
       "\n",
       "    .dataframe tbody tr th {\n",
       "        vertical-align: top;\n",
       "    }\n",
       "\n",
       "    .dataframe thead th {\n",
       "        text-align: right;\n",
       "    }\n",
       "</style>\n",
       "<table border=\"1\" class=\"dataframe\">\n",
       "  <thead>\n",
       "    <tr style=\"text-align: right;\">\n",
       "      <th></th>\n",
       "      <th>Open</th>\n",
       "      <th>High</th>\n",
       "      <th>Low</th>\n",
       "      <th>Close</th>\n",
       "      <th>Adjusted_close</th>\n",
       "      <th>Volume</th>\n",
       "    </tr>\n",
       "    <tr>\n",
       "      <th>Date</th>\n",
       "      <th></th>\n",
       "      <th></th>\n",
       "      <th></th>\n",
       "      <th></th>\n",
       "      <th></th>\n",
       "      <th></th>\n",
       "    </tr>\n",
       "  </thead>\n",
       "  <tbody>\n",
       "    <tr>\n",
       "      <th>1980-12-12</th>\n",
       "      <td>28.7392</td>\n",
       "      <td>28.8736</td>\n",
       "      <td>28.7392</td>\n",
       "      <td>28.7392</td>\n",
       "      <td>0.0996</td>\n",
       "      <td>469033600</td>\n",
       "    </tr>\n",
       "    <tr>\n",
       "      <th>1980-12-15</th>\n",
       "      <td>27.3728</td>\n",
       "      <td>27.3728</td>\n",
       "      <td>27.2608</td>\n",
       "      <td>27.2608</td>\n",
       "      <td>0.0944</td>\n",
       "      <td>175884800</td>\n",
       "    </tr>\n",
       "    <tr>\n",
       "      <th>1980-12-16</th>\n",
       "      <td>25.3792</td>\n",
       "      <td>25.3792</td>\n",
       "      <td>25.2448</td>\n",
       "      <td>25.2448</td>\n",
       "      <td>0.0875</td>\n",
       "      <td>105728000</td>\n",
       "    </tr>\n",
       "    <tr>\n",
       "      <th>1980-12-17</th>\n",
       "      <td>25.8720</td>\n",
       "      <td>26.0064</td>\n",
       "      <td>25.8720</td>\n",
       "      <td>25.8720</td>\n",
       "      <td>0.0896</td>\n",
       "      <td>86441600</td>\n",
       "    </tr>\n",
       "    <tr>\n",
       "      <th>1980-12-18</th>\n",
       "      <td>26.6336</td>\n",
       "      <td>26.7456</td>\n",
       "      <td>26.6336</td>\n",
       "      <td>26.6336</td>\n",
       "      <td>0.0923</td>\n",
       "      <td>73449600</td>\n",
       "    </tr>\n",
       "    <tr>\n",
       "      <th>...</th>\n",
       "      <td>...</td>\n",
       "      <td>...</td>\n",
       "      <td>...</td>\n",
       "      <td>...</td>\n",
       "      <td>...</td>\n",
       "      <td>...</td>\n",
       "    </tr>\n",
       "    <tr>\n",
       "      <th>2023-07-14</th>\n",
       "      <td>190.2300</td>\n",
       "      <td>191.1800</td>\n",
       "      <td>189.6300</td>\n",
       "      <td>190.6900</td>\n",
       "      <td>190.6900</td>\n",
       "      <td>41573900</td>\n",
       "    </tr>\n",
       "    <tr>\n",
       "      <th>2023-07-17</th>\n",
       "      <td>191.9000</td>\n",
       "      <td>194.3200</td>\n",
       "      <td>191.8100</td>\n",
       "      <td>193.9900</td>\n",
       "      <td>193.9900</td>\n",
       "      <td>50520200</td>\n",
       "    </tr>\n",
       "    <tr>\n",
       "      <th>2023-07-18</th>\n",
       "      <td>193.3500</td>\n",
       "      <td>194.3300</td>\n",
       "      <td>192.4200</td>\n",
       "      <td>193.7300</td>\n",
       "      <td>193.7300</td>\n",
       "      <td>48353800</td>\n",
       "    </tr>\n",
       "    <tr>\n",
       "      <th>2023-07-19</th>\n",
       "      <td>193.1000</td>\n",
       "      <td>198.2300</td>\n",
       "      <td>192.6500</td>\n",
       "      <td>195.1000</td>\n",
       "      <td>195.1000</td>\n",
       "      <td>80507300</td>\n",
       "    </tr>\n",
       "    <tr>\n",
       "      <th>2023-07-20</th>\n",
       "      <td>195.0900</td>\n",
       "      <td>196.4700</td>\n",
       "      <td>192.5000</td>\n",
       "      <td>193.1300</td>\n",
       "      <td>193.1300</td>\n",
       "      <td>59581200</td>\n",
       "    </tr>\n",
       "  </tbody>\n",
       "</table>\n",
       "<p>10740 rows × 6 columns</p>\n",
       "</div>"
      ],
      "text/plain": [
       "                Open      High       Low     Close  Adjusted_close     Volume\n",
       "Date                                                                         \n",
       "1980-12-12   28.7392   28.8736   28.7392   28.7392          0.0996  469033600\n",
       "1980-12-15   27.3728   27.3728   27.2608   27.2608          0.0944  175884800\n",
       "1980-12-16   25.3792   25.3792   25.2448   25.2448          0.0875  105728000\n",
       "1980-12-17   25.8720   26.0064   25.8720   25.8720          0.0896   86441600\n",
       "1980-12-18   26.6336   26.7456   26.6336   26.6336          0.0923   73449600\n",
       "...              ...       ...       ...       ...             ...        ...\n",
       "2023-07-14  190.2300  191.1800  189.6300  190.6900        190.6900   41573900\n",
       "2023-07-17  191.9000  194.3200  191.8100  193.9900        193.9900   50520200\n",
       "2023-07-18  193.3500  194.3300  192.4200  193.7300        193.7300   48353800\n",
       "2023-07-19  193.1000  198.2300  192.6500  195.1000        195.1000   80507300\n",
       "2023-07-20  195.0900  196.4700  192.5000  193.1300        193.1300   59581200\n",
       "\n",
       "[10740 rows x 6 columns]"
      ]
     },
     "execution_count": 31,
     "metadata": {},
     "output_type": "execute_result"
    }
   ],
   "source": [
    "from eod_historical_data import get_eod_data\n",
    "df = get_eod_data(\"AAPL\", \"US\")\n",
    "df"
   ]
  },
  {
   "cell_type": "markdown",
   "metadata": {},
   "source": [
    "# FinnHub\n",
    " - [Getting started and data availability](https://github.com/Finnhub-Stock-API/finnhub-python)\n",
    " - [API Docs](https://finnhub.io/docs/api)\n",
    " - [Register and get API key](https://finnhub.io/#)\n",
    " - [Pricing](https://finnhub.io/pricing)\n"
   ]
  },
  {
   "cell_type": "code",
   "execution_count": 64,
   "metadata": {},
   "outputs": [],
   "source": [
    "import finnhub\n",
    "FINNHUB_API_KEY = os.environ['FINNHUB_API_KEY']\n"
   ]
  },
  {
   "cell_type": "code",
   "execution_count": null,
   "metadata": {},
   "outputs": [],
   "source": [
    "# Stock candles\n",
    "res = finnhub_client.stock_candles('AAPL', 'D', 1590988249, 1591852249)\n",
    "print(res)\n",
    "\n",
    "#Convert to Pandas Dataframe\n",
    "print(pd.DataFrame(res))\n"
   ]
  },
  {
   "cell_type": "code",
   "execution_count": 71,
   "metadata": {},
   "outputs": [
    {
     "name": "stdout",
     "output_type": "stream",
     "text": [
      "1609477200\n"
     ]
    }
   ],
   "source": [
    "dt_object = datetime(2021, 1, 1, 0, 0, 0)\n",
    "timestamp = dt_object.timestamp()\n",
    "print(int(timestamp))\n"
   ]
  },
  {
   "cell_type": "code",
   "execution_count": 75,
   "metadata": {},
   "outputs": [
    {
     "name": "stdout",
     "output_type": "stream",
     "text": [
      "1609477200\n",
      "1612069200\n"
     ]
    }
   ],
   "source": [
    "start_date = \"2021-01-01\"\n",
    "timestamp = datetime.strptime(start_date, \"%Y-%m-%d\").timestamp()\n",
    "print(int(timestamp))\n",
    "end_date = \"2021-01-31\"\n",
    "timestamp = datetime.strptime(end_date, \"%Y-%m-%d\").timestamp()\n",
    "print(int(timestamp))"
   ]
  },
  {
   "cell_type": "code",
   "execution_count": 76,
   "metadata": {},
   "outputs": [
    {
     "data": {
      "text/html": [
       "<div>\n",
       "<style scoped>\n",
       "    .dataframe tbody tr th:only-of-type {\n",
       "        vertical-align: middle;\n",
       "    }\n",
       "\n",
       "    .dataframe tbody tr th {\n",
       "        vertical-align: top;\n",
       "    }\n",
       "\n",
       "    .dataframe thead th {\n",
       "        text-align: right;\n",
       "    }\n",
       "</style>\n",
       "<table border=\"1\" class=\"dataframe\">\n",
       "  <thead>\n",
       "    <tr style=\"text-align: right;\">\n",
       "      <th></th>\n",
       "      <th>c</th>\n",
       "      <th>h</th>\n",
       "      <th>l</th>\n",
       "      <th>o</th>\n",
       "      <th>s</th>\n",
       "      <th>t</th>\n",
       "      <th>v</th>\n",
       "    </tr>\n",
       "  </thead>\n",
       "  <tbody>\n",
       "    <tr>\n",
       "      <th>0</th>\n",
       "      <td>222.42</td>\n",
       "      <td>223.0000</td>\n",
       "      <td>219.6800</td>\n",
       "      <td>221.70</td>\n",
       "      <td>ok</td>\n",
       "      <td>2020-12-30 19:00:00</td>\n",
       "      <td>20942132</td>\n",
       "    </tr>\n",
       "    <tr>\n",
       "      <th>1</th>\n",
       "      <td>217.69</td>\n",
       "      <td>223.0000</td>\n",
       "      <td>214.8100</td>\n",
       "      <td>222.53</td>\n",
       "      <td>ok</td>\n",
       "      <td>2021-01-03 19:00:00</td>\n",
       "      <td>37130139</td>\n",
       "    </tr>\n",
       "    <tr>\n",
       "      <th>2</th>\n",
       "      <td>217.90</td>\n",
       "      <td>218.5200</td>\n",
       "      <td>215.7000</td>\n",
       "      <td>217.26</td>\n",
       "      <td>ok</td>\n",
       "      <td>2021-01-04 19:00:00</td>\n",
       "      <td>23822953</td>\n",
       "    </tr>\n",
       "    <tr>\n",
       "      <th>3</th>\n",
       "      <td>212.25</td>\n",
       "      <td>216.4899</td>\n",
       "      <td>211.9400</td>\n",
       "      <td>212.17</td>\n",
       "      <td>ok</td>\n",
       "      <td>2021-01-05 19:00:00</td>\n",
       "      <td>35930653</td>\n",
       "    </tr>\n",
       "    <tr>\n",
       "      <th>4</th>\n",
       "      <td>218.29</td>\n",
       "      <td>219.3400</td>\n",
       "      <td>213.7100</td>\n",
       "      <td>214.04</td>\n",
       "      <td>ok</td>\n",
       "      <td>2021-01-06 19:00:00</td>\n",
       "      <td>27694480</td>\n",
       "    </tr>\n",
       "    <tr>\n",
       "      <th>5</th>\n",
       "      <td>219.62</td>\n",
       "      <td>220.5800</td>\n",
       "      <td>217.0261</td>\n",
       "      <td>218.68</td>\n",
       "      <td>ok</td>\n",
       "      <td>2021-01-07 19:00:00</td>\n",
       "      <td>22956206</td>\n",
       "    </tr>\n",
       "    <tr>\n",
       "      <th>6</th>\n",
       "      <td>217.49</td>\n",
       "      <td>218.9100</td>\n",
       "      <td>216.7300</td>\n",
       "      <td>218.47</td>\n",
       "      <td>ok</td>\n",
       "      <td>2021-01-10 19:00:00</td>\n",
       "      <td>23047029</td>\n",
       "    </tr>\n",
       "    <tr>\n",
       "      <th>7</th>\n",
       "      <td>214.93</td>\n",
       "      <td>217.1000</td>\n",
       "      <td>213.3202</td>\n",
       "      <td>216.50</td>\n",
       "      <td>ok</td>\n",
       "      <td>2021-01-11 19:00:00</td>\n",
       "      <td>23249336</td>\n",
       "    </tr>\n",
       "    <tr>\n",
       "      <th>8</th>\n",
       "      <td>216.34</td>\n",
       "      <td>216.7600</td>\n",
       "      <td>213.9266</td>\n",
       "      <td>214.02</td>\n",
       "      <td>ok</td>\n",
       "      <td>2021-01-12 19:00:00</td>\n",
       "      <td>20087080</td>\n",
       "    </tr>\n",
       "    <tr>\n",
       "      <th>9</th>\n",
       "      <td>213.02</td>\n",
       "      <td>217.4600</td>\n",
       "      <td>212.7400</td>\n",
       "      <td>215.91</td>\n",
       "      <td>ok</td>\n",
       "      <td>2021-01-13 19:00:00</td>\n",
       "      <td>29346737</td>\n",
       "    </tr>\n",
       "    <tr>\n",
       "      <th>10</th>\n",
       "      <td>212.65</td>\n",
       "      <td>214.5100</td>\n",
       "      <td>212.0300</td>\n",
       "      <td>213.52</td>\n",
       "      <td>ok</td>\n",
       "      <td>2021-01-14 19:00:00</td>\n",
       "      <td>31746512</td>\n",
       "    </tr>\n",
       "    <tr>\n",
       "      <th>11</th>\n",
       "      <td>216.44</td>\n",
       "      <td>216.9800</td>\n",
       "      <td>212.6300</td>\n",
       "      <td>213.75</td>\n",
       "      <td>ok</td>\n",
       "      <td>2021-01-18 19:00:00</td>\n",
       "      <td>30480859</td>\n",
       "    </tr>\n",
       "    <tr>\n",
       "      <th>12</th>\n",
       "      <td>224.34</td>\n",
       "      <td>225.7900</td>\n",
       "      <td>217.2908</td>\n",
       "      <td>217.70</td>\n",
       "      <td>ok</td>\n",
       "      <td>2021-01-19 19:00:00</td>\n",
       "      <td>37777260</td>\n",
       "    </tr>\n",
       "    <tr>\n",
       "      <th>13</th>\n",
       "      <td>224.97</td>\n",
       "      <td>226.3000</td>\n",
       "      <td>222.4200</td>\n",
       "      <td>224.70</td>\n",
       "      <td>ok</td>\n",
       "      <td>2021-01-20 19:00:00</td>\n",
       "      <td>30749553</td>\n",
       "    </tr>\n",
       "    <tr>\n",
       "      <th>14</th>\n",
       "      <td>225.95</td>\n",
       "      <td>230.0700</td>\n",
       "      <td>225.8000</td>\n",
       "      <td>227.08</td>\n",
       "      <td>ok</td>\n",
       "      <td>2021-01-21 19:00:00</td>\n",
       "      <td>30172663</td>\n",
       "    </tr>\n",
       "    <tr>\n",
       "      <th>15</th>\n",
       "      <td>229.53</td>\n",
       "      <td>229.7800</td>\n",
       "      <td>224.2200</td>\n",
       "      <td>229.12</td>\n",
       "      <td>ok</td>\n",
       "      <td>2021-01-24 19:00:00</td>\n",
       "      <td>33152095</td>\n",
       "    </tr>\n",
       "    <tr>\n",
       "      <th>16</th>\n",
       "      <td>232.33</td>\n",
       "      <td>234.1800</td>\n",
       "      <td>230.0800</td>\n",
       "      <td>231.86</td>\n",
       "      <td>ok</td>\n",
       "      <td>2021-01-25 19:00:00</td>\n",
       "      <td>49169601</td>\n",
       "    </tr>\n",
       "    <tr>\n",
       "      <th>17</th>\n",
       "      <td>232.90</td>\n",
       "      <td>240.4400</td>\n",
       "      <td>230.1400</td>\n",
       "      <td>238.00</td>\n",
       "      <td>ok</td>\n",
       "      <td>2021-01-26 19:00:00</td>\n",
       "      <td>69870638</td>\n",
       "    </tr>\n",
       "    <tr>\n",
       "      <th>18</th>\n",
       "      <td>238.93</td>\n",
       "      <td>242.6400</td>\n",
       "      <td>235.0900</td>\n",
       "      <td>235.61</td>\n",
       "      <td>ok</td>\n",
       "      <td>2021-01-27 19:00:00</td>\n",
       "      <td>49111159</td>\n",
       "    </tr>\n",
       "    <tr>\n",
       "      <th>19</th>\n",
       "      <td>231.96</td>\n",
       "      <td>238.0200</td>\n",
       "      <td>231.3500</td>\n",
       "      <td>235.99</td>\n",
       "      <td>ok</td>\n",
       "      <td>2021-01-28 19:00:00</td>\n",
       "      <td>42503138</td>\n",
       "    </tr>\n",
       "  </tbody>\n",
       "</table>\n",
       "</div>"
      ],
      "text/plain": [
       "         c         h         l       o   s                   t         v\n",
       "0   222.42  223.0000  219.6800  221.70  ok 2020-12-30 19:00:00  20942132\n",
       "1   217.69  223.0000  214.8100  222.53  ok 2021-01-03 19:00:00  37130139\n",
       "2   217.90  218.5200  215.7000  217.26  ok 2021-01-04 19:00:00  23822953\n",
       "3   212.25  216.4899  211.9400  212.17  ok 2021-01-05 19:00:00  35930653\n",
       "4   218.29  219.3400  213.7100  214.04  ok 2021-01-06 19:00:00  27694480\n",
       "5   219.62  220.5800  217.0261  218.68  ok 2021-01-07 19:00:00  22956206\n",
       "6   217.49  218.9100  216.7300  218.47  ok 2021-01-10 19:00:00  23047029\n",
       "7   214.93  217.1000  213.3202  216.50  ok 2021-01-11 19:00:00  23249336\n",
       "8   216.34  216.7600  213.9266  214.02  ok 2021-01-12 19:00:00  20087080\n",
       "9   213.02  217.4600  212.7400  215.91  ok 2021-01-13 19:00:00  29346737\n",
       "10  212.65  214.5100  212.0300  213.52  ok 2021-01-14 19:00:00  31746512\n",
       "11  216.44  216.9800  212.6300  213.75  ok 2021-01-18 19:00:00  30480859\n",
       "12  224.34  225.7900  217.2908  217.70  ok 2021-01-19 19:00:00  37777260\n",
       "13  224.97  226.3000  222.4200  224.70  ok 2021-01-20 19:00:00  30749553\n",
       "14  225.95  230.0700  225.8000  227.08  ok 2021-01-21 19:00:00  30172663\n",
       "15  229.53  229.7800  224.2200  229.12  ok 2021-01-24 19:00:00  33152095\n",
       "16  232.33  234.1800  230.0800  231.86  ok 2021-01-25 19:00:00  49169601\n",
       "17  232.90  240.4400  230.1400  238.00  ok 2021-01-26 19:00:00  69870638\n",
       "18  238.93  242.6400  235.0900  235.61  ok 2021-01-27 19:00:00  49111159\n",
       "19  231.96  238.0200  231.3500  235.99  ok 2021-01-28 19:00:00  42503138"
      ]
     },
     "execution_count": 76,
     "metadata": {},
     "output_type": "execute_result"
    }
   ],
   "source": [
    "finnhub_client = finnhub.Client(api_key = FINNHUB_API_KEY)\n",
    "symbol = 'MSFT'\n",
    "interval = 'D' # for daily stock candle values\n",
    "start_date = 1609455600 # 2021-01-01\n",
    "end_date = 1612047600 # 2021-01-31 \n",
    "\n",
    "response = finnhub_client.stock_candles('MSFT',\n",
    "                                        'D',\n",
    "                                        start_date,\n",
    "                                        end_date) \n",
    "df = pd.DataFrame(response)\n",
    "# convert timestamps to datetime - some GMT stuff going on\n",
    "df['t']=df['t'].apply(lambda timestamp: datetime.fromtimestamp(timestamp))\n",
    "df\n"
   ]
  },
  {
   "cell_type": "markdown",
   "metadata": {},
   "source": [
    "# Financial Modeling Prep\n",
    "- [Getting Started](https://pypi.org/project/fmp-python/)\n",
    "- [Docs](https://site.financialmodelingprep.com/developer/docs)\n",
    "- [Pricing](https://site.financialmodelingprep.com/developer/docs/pricing)\n"
   ]
  },
  {
   "cell_type": "code",
   "execution_count": 77,
   "metadata": {},
   "outputs": [],
   "source": [
    "from fmp_python.fmp import FMP\n",
    "FMP_API_KEY = os.environ['FMP_API_KEY']"
   ]
  },
  {
   "cell_type": "code",
   "execution_count": 80,
   "metadata": {},
   "outputs": [
    {
     "data": {
      "text/html": [
       "<div>\n",
       "<style scoped>\n",
       "    .dataframe tbody tr th:only-of-type {\n",
       "        vertical-align: middle;\n",
       "    }\n",
       "\n",
       "    .dataframe tbody tr th {\n",
       "        vertical-align: top;\n",
       "    }\n",
       "\n",
       "    .dataframe thead th {\n",
       "        text-align: right;\n",
       "    }\n",
       "</style>\n",
       "<table border=\"1\" class=\"dataframe\">\n",
       "  <thead>\n",
       "    <tr style=\"text-align: right;\">\n",
       "      <th></th>\n",
       "      <th>0</th>\n",
       "    </tr>\n",
       "  </thead>\n",
       "  <tbody>\n",
       "    <tr>\n",
       "      <th>symbol</th>\n",
       "      <td>AAPL</td>\n",
       "    </tr>\n",
       "    <tr>\n",
       "      <th>name</th>\n",
       "      <td>Apple Inc.</td>\n",
       "    </tr>\n",
       "    <tr>\n",
       "      <th>price</th>\n",
       "      <td>191.94</td>\n",
       "    </tr>\n",
       "    <tr>\n",
       "      <th>changesPercentage</th>\n",
       "      <td>-0.6162</td>\n",
       "    </tr>\n",
       "    <tr>\n",
       "      <th>change</th>\n",
       "      <td>-1.19</td>\n",
       "    </tr>\n",
       "    <tr>\n",
       "      <th>dayLow</th>\n",
       "      <td>191.32</td>\n",
       "    </tr>\n",
       "    <tr>\n",
       "      <th>dayHigh</th>\n",
       "      <td>194.97</td>\n",
       "    </tr>\n",
       "    <tr>\n",
       "      <th>yearHigh</th>\n",
       "      <td>198.23</td>\n",
       "    </tr>\n",
       "    <tr>\n",
       "      <th>yearLow</th>\n",
       "      <td>124.17</td>\n",
       "    </tr>\n",
       "    <tr>\n",
       "      <th>marketCap</th>\n",
       "      <td>3018966757847</td>\n",
       "    </tr>\n",
       "    <tr>\n",
       "      <th>priceAvg50</th>\n",
       "      <td>183.186</td>\n",
       "    </tr>\n",
       "    <tr>\n",
       "      <th>priceAvg200</th>\n",
       "      <td>157.4725</td>\n",
       "    </tr>\n",
       "    <tr>\n",
       "      <th>exchange</th>\n",
       "      <td>NASDAQ</td>\n",
       "    </tr>\n",
       "    <tr>\n",
       "      <th>volume</th>\n",
       "      <td>58364002</td>\n",
       "    </tr>\n",
       "    <tr>\n",
       "      <th>avgVolume</th>\n",
       "      <td>57417554</td>\n",
       "    </tr>\n",
       "    <tr>\n",
       "      <th>open</th>\n",
       "      <td>194.1</td>\n",
       "    </tr>\n",
       "    <tr>\n",
       "      <th>previousClose</th>\n",
       "      <td>193.13</td>\n",
       "    </tr>\n",
       "    <tr>\n",
       "      <th>eps</th>\n",
       "      <td>5.89</td>\n",
       "    </tr>\n",
       "    <tr>\n",
       "      <th>pe</th>\n",
       "      <td>32.59</td>\n",
       "    </tr>\n",
       "    <tr>\n",
       "      <th>earningsAnnouncement</th>\n",
       "      <td>2023-08-03T00:00:00.000+0000</td>\n",
       "    </tr>\n",
       "    <tr>\n",
       "      <th>sharesOutstanding</th>\n",
       "      <td>15728700416</td>\n",
       "    </tr>\n",
       "    <tr>\n",
       "      <th>timestamp</th>\n",
       "      <td>1689969601</td>\n",
       "    </tr>\n",
       "  </tbody>\n",
       "</table>\n",
       "</div>"
      ],
      "text/plain": [
       "                                                 0\n",
       "symbol                                        AAPL\n",
       "name                                    Apple Inc.\n",
       "price                                       191.94\n",
       "changesPercentage                          -0.6162\n",
       "change                                       -1.19\n",
       "dayLow                                      191.32\n",
       "dayHigh                                     194.97\n",
       "yearHigh                                    198.23\n",
       "yearLow                                     124.17\n",
       "marketCap                            3018966757847\n",
       "priceAvg50                                 183.186\n",
       "priceAvg200                               157.4725\n",
       "exchange                                    NASDAQ\n",
       "volume                                    58364002\n",
       "avgVolume                                 57417554\n",
       "open                                         194.1\n",
       "previousClose                               193.13\n",
       "eps                                           5.89\n",
       "pe                                           32.59\n",
       "earningsAnnouncement  2023-08-03T00:00:00.000+0000\n",
       "sharesOutstanding                      15728700416\n",
       "timestamp                               1689969601"
      ]
     },
     "execution_count": 80,
     "metadata": {},
     "output_type": "execute_result"
    }
   ],
   "source": [
    "fmp = FMP(api_key=FMP_API_KEY)\n",
    "pd.DataFrame(fmp.get_quote('AAPL')).transpose()"
   ]
  },
  {
   "cell_type": "code",
   "execution_count": 81,
   "metadata": {},
   "outputs": [
    {
     "data": {
      "text/html": [
       "<div>\n",
       "<style scoped>\n",
       "    .dataframe tbody tr th:only-of-type {\n",
       "        vertical-align: middle;\n",
       "    }\n",
       "\n",
       "    .dataframe tbody tr th {\n",
       "        vertical-align: top;\n",
       "    }\n",
       "\n",
       "    .dataframe thead th {\n",
       "        text-align: right;\n",
       "    }\n",
       "</style>\n",
       "<table border=\"1\" class=\"dataframe\">\n",
       "  <thead>\n",
       "    <tr style=\"text-align: right;\">\n",
       "      <th></th>\n",
       "      <th>date</th>\n",
       "      <th>open</th>\n",
       "      <th>low</th>\n",
       "      <th>high</th>\n",
       "      <th>close</th>\n",
       "      <th>volume</th>\n",
       "    </tr>\n",
       "  </thead>\n",
       "  <tbody>\n",
       "    <tr>\n",
       "      <th>0</th>\n",
       "      <td>2023-07-21 16:00:00</td>\n",
       "      <td>191.9400</td>\n",
       "      <td>191.9200</td>\n",
       "      <td>192.2600</td>\n",
       "      <td>192.2000</td>\n",
       "      <td>3263250</td>\n",
       "    </tr>\n",
       "    <tr>\n",
       "      <th>1</th>\n",
       "      <td>2023-07-21 15:55:00</td>\n",
       "      <td>191.9500</td>\n",
       "      <td>191.7800</td>\n",
       "      <td>192.2800</td>\n",
       "      <td>191.9300</td>\n",
       "      <td>2655205</td>\n",
       "    </tr>\n",
       "    <tr>\n",
       "      <th>2</th>\n",
       "      <td>2023-07-21 15:50:00</td>\n",
       "      <td>192.0700</td>\n",
       "      <td>191.2300</td>\n",
       "      <td>192.1000</td>\n",
       "      <td>191.9600</td>\n",
       "      <td>3258669</td>\n",
       "    </tr>\n",
       "    <tr>\n",
       "      <th>3</th>\n",
       "      <td>2023-07-21 15:45:00</td>\n",
       "      <td>192.3050</td>\n",
       "      <td>192.0600</td>\n",
       "      <td>192.4200</td>\n",
       "      <td>192.0700</td>\n",
       "      <td>945168</td>\n",
       "    </tr>\n",
       "    <tr>\n",
       "      <th>4</th>\n",
       "      <td>2023-07-21 15:40:00</td>\n",
       "      <td>192.3650</td>\n",
       "      <td>192.2100</td>\n",
       "      <td>192.4600</td>\n",
       "      <td>192.3050</td>\n",
       "      <td>738103</td>\n",
       "    </tr>\n",
       "    <tr>\n",
       "      <th>...</th>\n",
       "      <td>...</td>\n",
       "      <td>...</td>\n",
       "      <td>...</td>\n",
       "      <td>...</td>\n",
       "      <td>...</td>\n",
       "      <td>...</td>\n",
       "    </tr>\n",
       "    <tr>\n",
       "      <th>785</th>\n",
       "      <td>2023-07-10 09:50:00</td>\n",
       "      <td>188.3900</td>\n",
       "      <td>187.3899</td>\n",
       "      <td>188.4000</td>\n",
       "      <td>187.6650</td>\n",
       "      <td>1893730</td>\n",
       "    </tr>\n",
       "    <tr>\n",
       "      <th>786</th>\n",
       "      <td>2023-07-10 09:45:00</td>\n",
       "      <td>188.7800</td>\n",
       "      <td>188.1800</td>\n",
       "      <td>188.9900</td>\n",
       "      <td>188.4000</td>\n",
       "      <td>1670277</td>\n",
       "    </tr>\n",
       "    <tr>\n",
       "      <th>787</th>\n",
       "      <td>2023-07-10 09:40:00</td>\n",
       "      <td>189.3281</td>\n",
       "      <td>188.7550</td>\n",
       "      <td>189.3871</td>\n",
       "      <td>188.7969</td>\n",
       "      <td>1264132</td>\n",
       "    </tr>\n",
       "    <tr>\n",
       "      <th>788</th>\n",
       "      <td>2023-07-10 09:35:00</td>\n",
       "      <td>189.0700</td>\n",
       "      <td>188.8100</td>\n",
       "      <td>189.4700</td>\n",
       "      <td>189.3250</td>\n",
       "      <td>1984481</td>\n",
       "    </tr>\n",
       "    <tr>\n",
       "      <th>789</th>\n",
       "      <td>2023-07-10 09:30:00</td>\n",
       "      <td>189.2600</td>\n",
       "      <td>189.0500</td>\n",
       "      <td>189.9900</td>\n",
       "      <td>189.0700</td>\n",
       "      <td>2313703</td>\n",
       "    </tr>\n",
       "  </tbody>\n",
       "</table>\n",
       "<p>790 rows × 6 columns</p>\n",
       "</div>"
      ],
      "text/plain": [
       "                    date      open       low      high     close   volume\n",
       "0    2023-07-21 16:00:00  191.9400  191.9200  192.2600  192.2000  3263250\n",
       "1    2023-07-21 15:55:00  191.9500  191.7800  192.2800  191.9300  2655205\n",
       "2    2023-07-21 15:50:00  192.0700  191.2300  192.1000  191.9600  3258669\n",
       "3    2023-07-21 15:45:00  192.3050  192.0600  192.4200  192.0700   945168\n",
       "4    2023-07-21 15:40:00  192.3650  192.2100  192.4600  192.3050   738103\n",
       "..                   ...       ...       ...       ...       ...      ...\n",
       "785  2023-07-10 09:50:00  188.3900  187.3899  188.4000  187.6650  1893730\n",
       "786  2023-07-10 09:45:00  188.7800  188.1800  188.9900  188.4000  1670277\n",
       "787  2023-07-10 09:40:00  189.3281  188.7550  189.3871  188.7969  1264132\n",
       "788  2023-07-10 09:35:00  189.0700  188.8100  189.4700  189.3250  1984481\n",
       "789  2023-07-10 09:30:00  189.2600  189.0500  189.9900  189.0700  2313703\n",
       "\n",
       "[790 rows x 6 columns]"
      ]
     },
     "execution_count": 81,
     "metadata": {},
     "output_type": "execute_result"
    }
   ],
   "source": [
    "fmp = FMP(output_format = 'pandas', write_to_file= True)\n",
    "fmp.get_historical_chart('5min','AAPL')\n"
   ]
  },
  {
   "cell_type": "markdown",
   "metadata": {},
   "source": [
    "# NewsAPI\n",
    "- [Getting started](https://newsapi.org/docs/client-libraries/python)\n",
    "- [Pricing](https://newsapi.org/pricing)\n",
    "- [Get API Key](https://newsapi.org/register)\n"
   ]
  },
  {
   "cell_type": "code",
   "execution_count": 82,
   "metadata": {},
   "outputs": [],
   "source": [
    "from newsapi import NewsApiClient\n",
    "NEWSAPI_API_KEY = os.environ['NEWSAPI_API_KEY']\n"
   ]
  },
  {
   "cell_type": "code",
   "execution_count": 83,
   "metadata": {},
   "outputs": [
    {
     "data": {
      "text/html": [
       "<div>\n",
       "<style scoped>\n",
       "    .dataframe tbody tr th:only-of-type {\n",
       "        vertical-align: middle;\n",
       "    }\n",
       "\n",
       "    .dataframe tbody tr th {\n",
       "        vertical-align: top;\n",
       "    }\n",
       "\n",
       "    .dataframe thead th {\n",
       "        text-align: right;\n",
       "    }\n",
       "</style>\n",
       "<table border=\"1\" class=\"dataframe\">\n",
       "  <thead>\n",
       "    <tr style=\"text-align: right;\">\n",
       "      <th></th>\n",
       "      <th>id</th>\n",
       "      <th>name</th>\n",
       "      <th>description</th>\n",
       "      <th>url</th>\n",
       "      <th>category</th>\n",
       "      <th>language</th>\n",
       "      <th>country</th>\n",
       "    </tr>\n",
       "  </thead>\n",
       "  <tbody>\n",
       "    <tr>\n",
       "      <th>0</th>\n",
       "      <td>abc-news</td>\n",
       "      <td>ABC News</td>\n",
       "      <td>Your trusted source for breaking news, analysi...</td>\n",
       "      <td>https://abcnews.go.com</td>\n",
       "      <td>general</td>\n",
       "      <td>en</td>\n",
       "      <td>us</td>\n",
       "    </tr>\n",
       "    <tr>\n",
       "      <th>1</th>\n",
       "      <td>abc-news-au</td>\n",
       "      <td>ABC News (AU)</td>\n",
       "      <td>Australia's most trusted source of local, nati...</td>\n",
       "      <td>http://www.abc.net.au/news</td>\n",
       "      <td>general</td>\n",
       "      <td>en</td>\n",
       "      <td>au</td>\n",
       "    </tr>\n",
       "    <tr>\n",
       "      <th>2</th>\n",
       "      <td>aftenposten</td>\n",
       "      <td>Aftenposten</td>\n",
       "      <td>Norges ledende nettavis med alltid oppdaterte ...</td>\n",
       "      <td>https://www.aftenposten.no</td>\n",
       "      <td>general</td>\n",
       "      <td>no</td>\n",
       "      <td>no</td>\n",
       "    </tr>\n",
       "    <tr>\n",
       "      <th>3</th>\n",
       "      <td>al-jazeera-english</td>\n",
       "      <td>Al Jazeera English</td>\n",
       "      <td>News, analysis from the Middle East and worldw...</td>\n",
       "      <td>http://www.aljazeera.com</td>\n",
       "      <td>general</td>\n",
       "      <td>en</td>\n",
       "      <td>us</td>\n",
       "    </tr>\n",
       "    <tr>\n",
       "      <th>4</th>\n",
       "      <td>ansa</td>\n",
       "      <td>ANSA.it</td>\n",
       "      <td>Agenzia ANSA: ultime notizie, foto, video e ap...</td>\n",
       "      <td>http://www.ansa.it</td>\n",
       "      <td>general</td>\n",
       "      <td>it</td>\n",
       "      <td>it</td>\n",
       "    </tr>\n",
       "    <tr>\n",
       "      <th>...</th>\n",
       "      <td>...</td>\n",
       "      <td>...</td>\n",
       "      <td>...</td>\n",
       "      <td>...</td>\n",
       "      <td>...</td>\n",
       "      <td>...</td>\n",
       "      <td>...</td>\n",
       "    </tr>\n",
       "    <tr>\n",
       "      <th>123</th>\n",
       "      <td>wired</td>\n",
       "      <td>Wired</td>\n",
       "      <td>Wired is a monthly American magazine, publishe...</td>\n",
       "      <td>https://www.wired.com</td>\n",
       "      <td>technology</td>\n",
       "      <td>en</td>\n",
       "      <td>us</td>\n",
       "    </tr>\n",
       "    <tr>\n",
       "      <th>124</th>\n",
       "      <td>wired-de</td>\n",
       "      <td>Wired.de</td>\n",
       "      <td>Wired reports on how emerging technologies aff...</td>\n",
       "      <td>https://www.wired.de</td>\n",
       "      <td>technology</td>\n",
       "      <td>de</td>\n",
       "      <td>de</td>\n",
       "    </tr>\n",
       "    <tr>\n",
       "      <th>125</th>\n",
       "      <td>wirtschafts-woche</td>\n",
       "      <td>Wirtschafts Woche</td>\n",
       "      <td>Das Online-Portal des führenden Wirtschaftsmag...</td>\n",
       "      <td>http://www.wiwo.de</td>\n",
       "      <td>business</td>\n",
       "      <td>de</td>\n",
       "      <td>de</td>\n",
       "    </tr>\n",
       "    <tr>\n",
       "      <th>126</th>\n",
       "      <td>xinhua-net</td>\n",
       "      <td>Xinhua Net</td>\n",
       "      <td>中国主要重点新闻网站,依托新华社遍布全球的采编网络,记者遍布世界100多个国家和地区,地方频...</td>\n",
       "      <td>http://xinhuanet.com/</td>\n",
       "      <td>general</td>\n",
       "      <td>zh</td>\n",
       "      <td>zh</td>\n",
       "    </tr>\n",
       "    <tr>\n",
       "      <th>127</th>\n",
       "      <td>ynet</td>\n",
       "      <td>Ynet</td>\n",
       "      <td>ynet דף הבית: אתר החדשות המוביל בישראל מבית יד...</td>\n",
       "      <td>http://www.ynet.co.il</td>\n",
       "      <td>general</td>\n",
       "      <td>he</td>\n",
       "      <td>is</td>\n",
       "    </tr>\n",
       "  </tbody>\n",
       "</table>\n",
       "<p>128 rows × 7 columns</p>\n",
       "</div>"
      ],
      "text/plain": [
       "                     id                name  \\\n",
       "0              abc-news            ABC News   \n",
       "1           abc-news-au       ABC News (AU)   \n",
       "2           aftenposten         Aftenposten   \n",
       "3    al-jazeera-english  Al Jazeera English   \n",
       "4                  ansa             ANSA.it   \n",
       "..                  ...                 ...   \n",
       "123               wired               Wired   \n",
       "124            wired-de            Wired.de   \n",
       "125   wirtschafts-woche   Wirtschafts Woche   \n",
       "126          xinhua-net          Xinhua Net   \n",
       "127                ynet                Ynet   \n",
       "\n",
       "                                           description  \\\n",
       "0    Your trusted source for breaking news, analysi...   \n",
       "1    Australia's most trusted source of local, nati...   \n",
       "2    Norges ledende nettavis med alltid oppdaterte ...   \n",
       "3    News, analysis from the Middle East and worldw...   \n",
       "4    Agenzia ANSA: ultime notizie, foto, video e ap...   \n",
       "..                                                 ...   \n",
       "123  Wired is a monthly American magazine, publishe...   \n",
       "124  Wired reports on how emerging technologies aff...   \n",
       "125  Das Online-Portal des führenden Wirtschaftsmag...   \n",
       "126  中国主要重点新闻网站,依托新华社遍布全球的采编网络,记者遍布世界100多个国家和地区,地方频...   \n",
       "127  ynet דף הבית: אתר החדשות המוביל בישראל מבית יד...   \n",
       "\n",
       "                            url    category language country  \n",
       "0        https://abcnews.go.com     general       en      us  \n",
       "1    http://www.abc.net.au/news     general       en      au  \n",
       "2    https://www.aftenposten.no     general       no      no  \n",
       "3      http://www.aljazeera.com     general       en      us  \n",
       "4            http://www.ansa.it     general       it      it  \n",
       "..                          ...         ...      ...     ...  \n",
       "123       https://www.wired.com  technology       en      us  \n",
       "124        https://www.wired.de  technology       de      de  \n",
       "125          http://www.wiwo.de    business       de      de  \n",
       "126       http://xinhuanet.com/     general       zh      zh  \n",
       "127       http://www.ynet.co.il     general       he      is  \n",
       "\n",
       "[128 rows x 7 columns]"
      ]
     },
     "execution_count": 83,
     "metadata": {},
     "output_type": "execute_result"
    }
   ],
   "source": [
    "api = NewsApiClient(api_key=NEWSAPI_API_KEY)\n",
    "sources = api.get_sources()\n",
    "pd.DataFrame(sources['sources'])\n"
   ]
  },
  {
   "cell_type": "code",
   "execution_count": 101,
   "metadata": {},
   "outputs": [
    {
     "data": {
      "text/markdown": [
       "[2023-07-22 17:07:22 DC United: US sports trainer fired for 'discriminatory' hand gesture](http://www.bbc.co.uk/news/world-us-canada-66276187)\n",
       " The hand gesture was spotted in a social media photograph of the MLS football team's staff."
      ],
      "text/plain": [
       "<IPython.core.display.Markdown object>"
      ]
     },
     "metadata": {},
     "output_type": "display_data"
    },
    {
     "data": {
      "text/markdown": [
       "[2023-07-22 17:07:22 Jamshid Sharmahd: Iran could execute my dad at any time, says German woman](http://www.bbc.co.uk/news/world-europe-66268645)\n",
       " An Iranian-German businessman on death row may have made his last phone call, his daughter fears."
      ],
      "text/plain": [
       "<IPython.core.display.Markdown object>"
      ]
     },
     "metadata": {},
     "output_type": "display_data"
    },
    {
     "data": {
      "text/markdown": [
       "[2023-07-22 17:07:21 Biden chooses Lisa Franchetti to head Pentagon military branch](http://www.bbc.co.uk/news/world-us-canada-66275531)\n",
       " Admiral Lisa Franchetti will become the first woman to lead a Pentagon military branch if confirmed."
      ],
      "text/plain": [
       "<IPython.core.display.Markdown object>"
      ]
     },
     "metadata": {},
     "output_type": "display_data"
    },
    {
     "data": {
      "text/markdown": [
       "[2023-07-22 17:07:20 Europe heatwave: Temperatures to soar in Greece as fires still burn](http://www.bbc.co.uk/news/world-europe-66273287)\n",
       " Officials warn this could be Greece's hottest July weekend in 50 years, with temperatures hitting 45C."
      ],
      "text/plain": [
       "<IPython.core.display.Markdown object>"
      ]
     },
     "metadata": {},
     "output_type": "display_data"
    },
    {
     "data": {
      "text/markdown": [
       "[2023-07-22 15:52:16 Greece fires: Thousands flee homes and hotels on Rhodes as fires spread](http://www.bbc.co.uk/news/world-europe-66279520)\n",
       " Greece's deputy fire chief says the fires are the most difficult his service is currently facing."
      ],
      "text/plain": [
       "<IPython.core.display.Markdown object>"
      ]
     },
     "metadata": {},
     "output_type": "display_data"
    },
    {
     "data": {
      "text/markdown": [
       "[2023-07-22 12:07:20 Crimea bridge closed after fuel depot hit - Russia](http://www.bbc.co.uk/news/entertainment-arts-66276788)\n",
       " Russian-installed authorities halt railway services in Crimea and say Ukraine was behind a drone strike."
      ],
      "text/plain": [
       "<IPython.core.display.Markdown object>"
      ]
     },
     "metadata": {},
     "output_type": "display_data"
    },
    {
     "data": {
      "text/markdown": [
       "[2023-07-22 10:52:18 Jamie Foxx: Actor says he's 'on way back' after illness thanks to family](http://www.bbc.co.uk/news/entertainment-arts-66276785)\n",
       " Actor Jamie Foxx speaks publicly for the first time since being hospitalised earlier this year."
      ],
      "text/plain": [
       "<IPython.core.display.Markdown object>"
      ]
     },
     "metadata": {},
     "output_type": "display_data"
    },
    {
     "data": {
      "text/markdown": [
       "[2023-07-22 08:07:20 Matty Healy: 1975 show ended in Malaysia after singer attacks anti-LGBT laws](http://www.bbc.co.uk/news/world-asia-66275913)\n",
       " Matty Healy launched a lengthy attack on Malaysia's laws, before kissing his band's bass player."
      ],
      "text/plain": [
       "<IPython.core.display.Markdown object>"
      ]
     },
     "metadata": {},
     "output_type": "display_data"
    },
    {
     "data": {
      "text/markdown": [
       "[2023-07-22 03:37:13 Polarised Spain eyes the hard-right ahead of election](http://www.bbc.co.uk/news/world-europe-66268330)\n",
       " Spain goes to the polls to decide its next government on Sunday, and a hard-right coalition is looking likely."
      ],
      "text/plain": [
       "<IPython.core.display.Markdown object>"
      ]
     },
     "metadata": {},
     "output_type": "display_data"
    },
    {
     "data": {
      "text/markdown": [
       "[2023-07-21 23:37:17 Climate records tumble, leaving Earth in uncharted territory - scientists](http://www.bbc.co.uk/news/science-environment-66229065)\n",
       " A series of records on temperature, ocean heat, and Antarctic sea ice are \"unprecedented\", some scientists say."
      ],
      "text/plain": [
       "<IPython.core.display.Markdown object>"
      ]
     },
     "metadata": {},
     "output_type": "display_data"
    }
   ],
   "source": [
    "bbc_top = api.get_top_headlines(sources='bbc-news')\n",
    "for item in bbc_top['articles']:\n",
    "    markdown_str = \"\"\n",
    "    datestr = item['publishedAt'].split(\".\")[0]\n",
    "    if datestr[-1]=='Z':\n",
    "        datestr = datestr[:-1]\n",
    "    date_object = datetime.strptime(datestr, \"%Y-%m-%dT%H:%M:%S\")\n",
    "    markdown_str += f\"[{str(date_object)} {item['title']}]({item['url']})\\n {item['description']}\"\n",
    "    display(Markdown(markdown_str))\n",
    "    \n"
   ]
  },
  {
   "cell_type": "code",
   "execution_count": 103,
   "metadata": {},
   "outputs": [
    {
     "data": {
      "text/markdown": [
       "[2023-07-22 15:52:16 Greece fires: Thousands flee homes and hotels on Rhodes as fires spread](http://www.bbc.co.uk/news/world-europe-66279520)\n",
       " Greece's deputy fire chief says the fires are the most difficult his service is currently facing."
      ],
      "text/plain": [
       "<IPython.core.display.Markdown object>"
      ]
     },
     "metadata": {},
     "output_type": "display_data"
    },
    {
     "data": {
      "text/markdown": [
       "[2023-07-22 15:30:00 Netflix’s They Cloned Tyrone review: a modern Blaxploitation classic](http://www.theverge.com/23803139/they-cloned-tyrone-review-netflix)\n",
       " Netflix’s They Cloned Tyrone — streaming now — from director Juel Taylor is a wild send-up and celebration of Blaxploitation classics for a new generation."
      ],
      "text/plain": [
       "<IPython.core.display.Markdown object>"
      ]
     },
     "metadata": {},
     "output_type": "display_data"
    },
    {
     "data": {
      "text/markdown": [
       "[2023-07-22 15:00:00 In praise of an old iRiver MP3 player](http://www.theverge.com/23795072/iriver-mp3-player-retro-gadgets-we-love)\n",
       " The iRiver iHP-120 was the anti-iPod: marginally fussy to operate and packed with buttons, ports, and features. Mine’s still kicking at age 19."
      ],
      "text/plain": [
       "<IPython.core.display.Markdown object>"
      ]
     },
     "metadata": {},
     "output_type": "display_data"
    },
    {
     "data": {
      "text/markdown": [
       "[2023-07-22 15:00:00 One of the best puzzle RPGs gets another chance](http://www.theverge.com/2023/7/22/23803057/might-and-magic-clash-of-heroes-switch-steam-ps4)\n",
       " Might & Magic: Clash of Heroes, a puzzle RPG from Grindstone developer Capy Games, is now available on modern platforms, including Steam, PS4, and the Nintendo Switch."
      ],
      "text/plain": [
       "<IPython.core.display.Markdown object>"
      ]
     },
     "metadata": {},
     "output_type": "display_data"
    },
    {
     "data": {
      "text/markdown": [
       "[2023-07-22 14:18:13 SDCC 2023: all the biggest announcements from the convention](http://www.theverge.com/2023/7/22/23804013/sdcc-2023-san-diego-comic-con-movies-tv-shows-marvel-dc-gaming-news)\n",
       " San Diego Comic-Con 2023 is quieter than in past years as Hollywood strikes continue. Big movie studio participation is out, so the convention focuses instead on games, comics, and smaller film and TV projects."
      ],
      "text/plain": [
       "<IPython.core.display.Markdown object>"
      ]
     },
     "metadata": {},
     "output_type": "display_data"
    },
    {
     "data": {
      "text/markdown": [
       "[2023-07-22 14:00:00 What would the internet of people look like now?](http://www.theverge.com/2023/7/22/23803538/google-facebook-myspace-internet-culture-web-dot-com-crash)\n",
       " The web as we know it now is an intermediated experience — with algorithms between the humans. What if we went back to just talking to each other?"
      ],
      "text/plain": [
       "<IPython.core.display.Markdown object>"
      ]
     },
     "metadata": {},
     "output_type": "display_data"
    },
    {
     "data": {
      "text/markdown": [
       "[2023-07-22 12:41:41 Save $50 on the wireless earbuds with the hands-down best noise cancellation](http://www.theverge.com/2023/7/22/23803410/bose-quietcomfort-earbuds-amazon-firetv-omni-xbox-elite-deal-sale)\n",
       " The Bose QuietComfort Earbuds II are selling for $249 new or $199 refurbished, while there are more deals on Amazon’s OMNI QLED TVs, the Xbox Elite Series 2 controller, and LG OLEDs."
      ],
      "text/plain": [
       "<IPython.core.display.Markdown object>"
      ]
     },
     "metadata": {},
     "output_type": "display_data"
    },
    {
     "data": {
      "text/markdown": [
       "[2023-07-22 12:07:20 Crimea bridge closed after fuel depot hit - Russia](http://www.bbc.co.uk/news/entertainment-arts-66276788)\n",
       " Russian-installed authorities halt railway services in Crimea and say Ukraine was behind a drone strike."
      ],
      "text/plain": [
       "<IPython.core.display.Markdown object>"
      ]
     },
     "metadata": {},
     "output_type": "display_data"
    },
    {
     "data": {
      "text/markdown": [
       "[2023-07-22 10:52:18 Jamie Foxx: Actor says he's 'on way back' after illness thanks to family](http://www.bbc.co.uk/news/entertainment-arts-66276785)\n",
       " Actor Jamie Foxx speaks publicly for the first time since being hospitalised earlier this year."
      ],
      "text/plain": [
       "<IPython.core.display.Markdown object>"
      ]
     },
     "metadata": {},
     "output_type": "display_data"
    },
    {
     "data": {
      "text/markdown": [
       "[2023-07-22 08:07:20 Matty Healy: 1975 show ended in Malaysia after singer attacks anti-LGBT laws](http://www.bbc.co.uk/news/world-asia-66275913)\n",
       " Matty Healy launched a lengthy attack on Malaysia's laws, before kissing his band's bass player."
      ],
      "text/plain": [
       "<IPython.core.display.Markdown object>"
      ]
     },
     "metadata": {},
     "output_type": "display_data"
    },
    {
     "data": {
      "text/markdown": [
       "[2023-07-22 06:22:17 Ex-Canadian Mountie charged over alleged China interference](http://www.bbc.co.uk/news/world-us-canada-66272727)\n",
       " An ex-Royal Canadian Mounted Police officer is alleged to have helped China with intimidation."
      ],
      "text/plain": [
       "<IPython.core.display.Markdown object>"
      ]
     },
     "metadata": {},
     "output_type": "display_data"
    },
    {
     "data": {
      "text/markdown": [
       "[2023-07-22 04:37:12 Matilda Sheils: Body found in search for missing US two-year-old](http://www.bbc.co.uk/news/world-us-canada-66275922)\n",
       " Matilda Sheils was swept away with with her nine-month-old brother Conrad in Pennsylvania last weekend."
      ],
      "text/plain": [
       "<IPython.core.display.Markdown object>"
      ]
     },
     "metadata": {},
     "output_type": "display_data"
    },
    {
     "data": {
      "text/markdown": [
       "[2023-07-22 03:37:13 Polarised Spain eyes the hard-right ahead of election](http://www.bbc.co.uk/news/world-europe-66268330)\n",
       " Spain goes to the polls to decide its next government on Sunday, and a hard-right coalition is looking likely."
      ],
      "text/plain": [
       "<IPython.core.display.Markdown object>"
      ]
     },
     "metadata": {},
     "output_type": "display_data"
    },
    {
     "data": {
      "text/markdown": [
       "[2023-07-22 00:07:20 From Ukraine to Aspen, nervousness over a critical moment for the war](http://www.bbc.co.uk/news/world-us-canada-66273787)\n",
       " At the Aspen Security Forum, the war in Ukraine is upper-most in the minds of policymakers."
      ],
      "text/plain": [
       "<IPython.core.display.Markdown object>"
      ]
     },
     "metadata": {},
     "output_type": "display_data"
    },
    {
     "data": {
      "text/markdown": [
       "[2023-07-21 23:37:17 Climate records tumble, leaving Earth in uncharted territory - scientists](http://www.bbc.co.uk/news/science-environment-66229065)\n",
       " A series of records on temperature, ocean heat, and Antarctic sea ice are \"unprecedented\", some scientists say."
      ],
      "text/plain": [
       "<IPython.core.display.Markdown object>"
      ]
     },
     "metadata": {},
     "output_type": "display_data"
    },
    {
     "data": {
      "text/markdown": [
       "[2023-07-21 21:07:21 Texas A&M president Katherine Banks leaves over hiring backlash](http://www.bbc.co.uk/news/world-us-canada-66275350)\n",
       " President Katherine Banks says the handling of a black professor's hiring had become a distraction."
      ],
      "text/plain": [
       "<IPython.core.display.Markdown object>"
      ]
     },
     "metadata": {},
     "output_type": "display_data"
    },
    {
     "data": {
      "text/markdown": [
       "[2023-07-21 18:11:21 Meta’s Llama 2 is biggest AI release since ChatGPT](http://www.theverge.com/2023/7/21/23803234/the-biggest-ai-release-since-chatgpt)\n",
       " Meta’s new AI model, Llama 2, has big implications — and some unusual restrictions."
      ],
      "text/plain": [
       "<IPython.core.display.Markdown object>"
      ]
     },
     "metadata": {},
     "output_type": "display_data"
    },
    {
     "data": {
      "text/markdown": [
       "[2023-07-21 16:56:37 Reddit expanded the r/Place canvas, and users immediately wrote messages cursing the CEO](http://www.theverge.com/2023/7/21/23803112/reddit-r-place-canvas-expand-protest-messages-cursing-ceo)\n",
       " Reddit added more space to the r/Place collaborative, giving users additional room to draw pixelated art and write in their protests against the site and its CEO."
      ],
      "text/plain": [
       "<IPython.core.display.Markdown object>"
      ]
     },
     "metadata": {},
     "output_type": "display_data"
    },
    {
     "data": {
      "text/markdown": [
       "[2023-07-21 13:30:16 What is Reddit CEO Steve Huffman doing?](http://www.theverge.com/23802373/reddit-ipo-valuation-moderation-ceo)\n",
       " Reddit CEO Steve Huffman seems to be preparing the company for an IPO. But is what’s good for the IPO good for the business?"
      ],
      "text/plain": [
       "<IPython.core.display.Markdown object>"
      ]
     },
     "metadata": {},
     "output_type": "display_data"
    },
    {
     "data": {
      "text/markdown": [
       "[2023-07-21 12:00:00 Samsung Galaxy Unpacked 2023: how to watch the live stream and what to expect](http://www.theverge.com/23799567/samsung-galaxy-unpacked-live-stream-watch-date-time-z-flip-fold)\n",
       " Samsung is holding its biannual Unpacked event on July 26th, where it’s expected to take the wraps off a number of products, including the Galaxy Z Flip 5 and Z Fold 5."
      ],
      "text/plain": [
       "<IPython.core.display.Markdown object>"
      ]
     },
     "metadata": {},
     "output_type": "display_data"
    }
   ],
   "source": [
    "top_headlines = api.get_top_headlines(\n",
    "#     q='bitcoin',\n",
    "    sources='bbc-news,the-verge',\n",
    "#     category='business',\n",
    "#     language='en',\n",
    "#     country='us')\n",
    ")\n",
    "for item in top_headlines['articles']:\n",
    "    markdown_str = \"\"\n",
    "    datestr = item['publishedAt'].split(\".\")[0]\n",
    "    if datestr[-1]=='Z':\n",
    "        datestr = datestr[:-1]    \n",
    "    date_object = datetime.strptime(datestr, \"%Y-%m-%dT%H:%M:%S\")\n",
    "    markdown_str += f\"[{str(date_object)} {item['title']}]({item['url']})\\n {item['description']}\"\n",
    "    display(Markdown(markdown_str))\n"
   ]
  },
  {
   "cell_type": "code",
   "execution_count": 109,
   "metadata": {},
   "outputs": [],
   "source": [
    "all_articles = api.get_everything(q='bitcoin',\n",
    "                                      sources='bbc-news,the-verge',\n",
    "                                      domains='bbc.co.uk,techcrunch.com',\n",
    "                                      from_param='2023-07-01',\n",
    "                                      to='2023-07-30',\n",
    "                                      language='en',\n",
    "                                      sort_by='relevancy',\n",
    "                                      page=1)\n"
   ]
  },
  {
   "cell_type": "code",
   "execution_count": 110,
   "metadata": {},
   "outputs": [
    {
     "data": {
      "text/markdown": [
       "[2023-07-11 14:00:00 Can banks push Bitcoin to clean up its act?](https://www.theverge.com/2023/7/11/23778688/bitcoin-energy-emissions-climate-change-banks-asset-managers-greenpeace)\n",
       " Banks and asset managers have a big stake in Bitcoin, so Greenpeace wants them to crack down on the cryptocurrency’s pollution."
      ],
      "text/plain": [
       "<IPython.core.display.Markdown object>"
      ]
     },
     "metadata": {},
     "output_type": "display_data"
    },
    {
     "data": {
      "text/markdown": [
       "[2023-07-13 14:03:06 Crypto lending firm Celsius Network and its former CEO sued by SEC, CFTC, FTC](https://techcrunch.com/2023/07/13/crypto-lending-firm-celsius-network-and-its-former-ceo-sued-by-sec-cftc-ftc/)\n",
       " The now-bankrupt crypto lending firm Celsius Network and its former CEO and co-founder Alex Mashinsky faced several lawsuits on Thursday morning from three..."
      ],
      "text/plain": [
       "<IPython.core.display.Markdown object>"
      ]
     },
     "metadata": {},
     "output_type": "display_data"
    },
    {
     "data": {
      "text/markdown": [
       "[2023-07-06 19:00:00 Maybe the second half of 2023 will have greater capital flowing into crypto, but maybe not](https://techcrunch.com/2023/07/06/heres-to-hoping-the-rest-of-2023-has-more-capital-flowing-into-crypto/)\n",
       " Looking at the first half of 2023, funding for crypto startups continued to grow more scarce.  In Q2, venture capital flowing into the industry dropped for..."
      ],
      "text/plain": [
       "<IPython.core.display.Markdown object>"
      ]
     },
     "metadata": {},
     "output_type": "display_data"
    },
    {
     "data": {
      "text/markdown": [
       "[2023-07-11 10:02:42 Popular AO3 fanfiction site goes down in wave of DDoS attacks](https://www.theverge.com/2023/7/11/23790860/ao3-fanfiction-archive-down-outage-ddos-attacks)\n",
       " Archive of Our Own (AO3) is currently experiencing a wave of distributed-denial-of-service (DDoS) attacks that have forced the website offline since Monday, and the issue could persist for weeks."
      ],
      "text/plain": [
       "<IPython.core.display.Markdown object>"
      ]
     },
     "metadata": {},
     "output_type": "display_data"
    },
    {
     "data": {
      "text/markdown": [
       "[2023-07-18 15:41:19 Telegram raises $210 million through bond sales | TechCrunch](https://techcrunch.com/2023/07/18/telegram-raises-210-million-through-bond-sales/)\n",
       " Telegram founder Pavel Durov bought \"tens of millions\" of the company's bonds as part of a $210 million bond sales this week."
      ],
      "text/plain": [
       "<IPython.core.display.Markdown object>"
      ]
     },
     "metadata": {},
     "output_type": "display_data"
    }
   ],
   "source": [
    "for item in all_articles['articles']:\n",
    "    markdown_str = \"\"\n",
    "    datestr = item['publishedAt'].split(\".\")[0]\n",
    "    if datestr[-1]=='Z':\n",
    "        datestr = datestr[:-1]    \n",
    "    date_object = datetime.strptime(datestr, \"%Y-%m-%dT%H:%M:%S\")\n",
    "    markdown_str += f\"[{str(date_object)} {item['title']}]({item['url']})\\n {item['description']}\"\n",
    "    display(Markdown(markdown_str))\n"
   ]
  },
  {
   "cell_type": "markdown",
   "metadata": {},
   "source": [
    "# Stocksera\n",
    "- some unusual social media and related info\n",
    "- [Docs](https://stocksera.pythonanywhere.com/)\n",
    "- [Getting started](https://github.com/guanquann/Stocksera-API)\n",
    "- [API Key](https://stocksera.pythonanywhere.com/accounts/developers/)\n"
   ]
  },
  {
   "cell_type": "code",
   "execution_count": 122,
   "metadata": {},
   "outputs": [],
   "source": [
    "import stocksera\n",
    "client = stocksera.Client(api_key=os.environ['STOCKSERA_API_KEY'])\n"
   ]
  },
  {
   "cell_type": "code",
   "execution_count": 129,
   "metadata": {},
   "outputs": [
    {
     "data": {
      "text/markdown": [
       "[2023-07-23 17:09:50 CNBC - U.S. needs to go 'further and faster' to achieve climate goals, lawmakers say](https://www.cnbc.com/2023/07/23/us-needs-to-go-further-and-faster-to-achieve-climate-goals-lawmakers-say-.html)\n"
      ],
      "text/plain": [
       "<IPython.core.display.Markdown object>"
      ]
     },
     "metadata": {},
     "output_type": "display_data"
    },
    {
     "data": {
      "text/markdown": [
       "[2023-07-23 16:42:16 Cointelegraph - Arkansas counties rush to pass noise regulations for crypto miners](https://cointelegraph.com/news/arkansas-rush-to-pass-noise-regulations-crypto-miners)\n"
      ],
      "text/plain": [
       "<IPython.core.display.Markdown object>"
      ]
     },
     "metadata": {},
     "output_type": "display_data"
    },
    {
     "data": {
      "text/markdown": [
       "[2023-07-23 16:00:00 Dailyfx - Markets Week Ahead: Gold, Euro, USD, Yen Await Fed, ECB & BoJ; Big Tech Earnings Eyed](https://www.dailyfx.com/news/forex-markets-week-ahead-gold-euro-usd-yen-await-fed-ecb-boj-big-tech-earnings-eyed-20230723.html)\n"
      ],
      "text/plain": [
       "<IPython.core.display.Markdown object>"
      ]
     },
     "metadata": {},
     "output_type": "display_data"
    },
    {
     "data": {
      "text/markdown": [
       "[2023-07-23 16:00:00 MarketWatch - Market Snapshot: Stocks are making a run for record territory. Will the Fed end its rate hikes anyway?](https://www.marketwatch.com/story/stocks-are-making-a-run-for-record-territory-will-the-fed-end-its-rate-hikes-anyway-31f80662)\n"
      ],
      "text/plain": [
       "<IPython.core.display.Markdown object>"
      ]
     },
     "metadata": {},
     "output_type": "display_data"
    },
    {
     "data": {
      "text/markdown": [
       "[2023-07-23 15:54:11 Cointelegraph - Ripple effect? Stellar (XLM) is catching up to XRP price gains](https://cointelegraph.com/news/ripple-effect-stellar-xlm-xrp-price-gains)\n"
      ],
      "text/plain": [
       "<IPython.core.display.Markdown object>"
      ]
     },
     "metadata": {},
     "output_type": "display_data"
    },
    {
     "data": {
      "text/markdown": [
       "[2023-07-23 14:01:00 MarketWatch - Earnings Watch: With Microsoft, Meta and Alphabet earnings hanging on AI, more investors are asking: ‘How are you going to pay for that?’](https://www.marketwatch.com/story/with-microsoft-meta-and-alphabet-earnings-hanging-on-ai-more-investors-are-asking-how-are-you-going-to-pay-for-that-2750287f)\n"
      ],
      "text/plain": [
       "<IPython.core.display.Markdown object>"
      ]
     },
     "metadata": {},
     "output_type": "display_data"
    },
    {
     "data": {
      "text/markdown": [
       "[2023-07-23 14:00:01 CNBC - Psychologist: The No. 1 soft skill highly successful people use at work—‘It’s like having a superpower’](https://www.cnbc.com/2023/07/23/psychologist-no-1-soft-skill-highly-successful-people-use-at-work.html)\n"
      ],
      "text/plain": [
       "<IPython.core.display.Markdown object>"
      ]
     },
     "metadata": {},
     "output_type": "display_data"
    },
    {
     "data": {
      "text/markdown": [
       "[2023-07-23 14:00:01 CNBC - How investors can get ahead by listening to a company's earnings conference call](https://www.cnbc.com/2023/07/23/how-investors-can-get-ahead-by-listening-to-an-earnings-call.html)\n"
      ],
      "text/plain": [
       "<IPython.core.display.Markdown object>"
      ]
     },
     "metadata": {},
     "output_type": "display_data"
    },
    {
     "data": {
      "text/markdown": [
       "[2023-07-23 14:00:01 CNBC - The top 10 U.S. cities for retirees — No. 1 isn’t in Florida](https://www.cnbc.com/2023/07/23/top-10-us-cities-for-retirees.html)\n"
      ],
      "text/plain": [
       "<IPython.core.display.Markdown object>"
      ]
     },
     "metadata": {},
     "output_type": "display_data"
    },
    {
     "data": {
      "text/markdown": [
       "[2023-07-23 13:30:01 CNBC - Billionaire Chobani CEO Hamdi Ulukaya says successful people can ditch this ‘rigid’ trait: It’s ‘never been my thing’](https://www.cnbc.com/2023/07/23/billionaire-chobani-ceo-on-planning-its-never-been-my-thing.html)\n"
      ],
      "text/plain": [
       "<IPython.core.display.Markdown object>"
      ]
     },
     "metadata": {},
     "output_type": "display_data"
    },
    {
     "data": {
      "text/markdown": [
       "[2023-07-23 13:00:01 CNBC - Here's the salary Americans say they need to be happy — it's over $100,000 in 17 states](https://www.cnbc.com/2023/07/23/salary-americans-need-to-be-happy-is-over-100000-in-17-states.html)\n"
      ],
      "text/plain": [
       "<IPython.core.display.Markdown object>"
      ]
     },
     "metadata": {},
     "output_type": "display_data"
    },
    {
     "data": {
      "text/markdown": [
       "[2023-07-23 11:05:01 CNBC - Warning labels in the U.S. seem to be everywhere. Here's why they may be pointless](https://www.cnbc.com/2023/07/23/why-most-consumers-ignore-warning-labels.html)\n"
      ],
      "text/plain": [
       "<IPython.core.display.Markdown object>"
      ]
     },
     "metadata": {},
     "output_type": "display_data"
    },
    {
     "data": {
      "text/markdown": [
       "[2023-07-23 10:45:32 Cointelegraph - Bitcoin can still hit $19K, warns trader ahead of BTC price 'big move'](https://cointelegraph.com/news/bitcoin-can-hit-19k-btc-price-big-move)\n"
      ],
      "text/plain": [
       "<IPython.core.display.Markdown object>"
      ]
     },
     "metadata": {},
     "output_type": "display_data"
    },
    {
     "data": {
      "text/markdown": [
       "[2023-07-23 10:20:36 Forexlive - Weekly Market Outlook (24-28 July)](https://www.forexlive.com/news/weekly-market-outlook-24-28-july-20230723/)\n"
      ],
      "text/plain": [
       "<IPython.core.display.Markdown object>"
      ]
     },
     "metadata": {},
     "output_type": "display_data"
    },
    {
     "data": {
      "text/markdown": [
       "[2023-07-23 08:02:38 Cointelegraph - Nigerian central bank adds NFC upgrade to e-naira for contactless payments](https://cointelegraph.com/news/nigeria-cbn-enhances-e-naira-with-nfc-upgrade-for-contactless-payments)\n"
      ],
      "text/plain": [
       "<IPython.core.display.Markdown object>"
      ]
     },
     "metadata": {},
     "output_type": "display_data"
    },
    {
     "data": {
      "text/markdown": [
       "[2023-07-23 06:39:48 Cointelegraph - SEC's appeal won't be a setback for XRP holders – Pro XRP lawyer](https://cointelegraph.com/news/sec-appeal-won-t-be-setback-for-xrp-holders-pro-xrp-lawyer)\n"
      ],
      "text/plain": [
       "<IPython.core.display.Markdown object>"
      ]
     },
     "metadata": {},
     "output_type": "display_data"
    },
    {
     "data": {
      "text/markdown": [
       "[2023-07-23 06:10:28 Cointelegraph - Evidence of crypto usage by ISIS is 'mounting': TRM Labs](https://cointelegraph.com/news/evidence-crypto-usage-isis-trm-labs)\n"
      ],
      "text/plain": [
       "<IPython.core.display.Markdown object>"
      ]
     },
     "metadata": {},
     "output_type": "display_data"
    },
    {
     "data": {
      "text/markdown": [
       "[2023-07-23 02:47:40 Cointelegraph - Terra interim CEO says any 'little progress' made gets derailed by accusations](https://cointelegraph.com/news/terra-ceo-progress-derailed-accusations)\n"
      ],
      "text/plain": [
       "<IPython.core.display.Markdown object>"
      ]
     },
     "metadata": {},
     "output_type": "display_data"
    },
    {
     "data": {
      "text/markdown": [
       "[2023-07-23 00:09:00 MarketWatch - Economic Report: Are we still going to have a recession? Maybe next year.](https://www.marketwatch.com/story/are-we-still-going-to-have-a-recession-maybe-next-year-d78021dc)\n"
      ],
      "text/plain": [
       "<IPython.core.display.Markdown object>"
      ]
     },
     "metadata": {},
     "output_type": "display_data"
    },
    {
     "data": {
      "text/markdown": [
       "[2023-07-22 21:41:00 MarketWatch - Living With Climate Change: Already roasting in extreme heat? 2024 could be even hotter, NASA scientists warn](https://www.marketwatch.com/story/already-roasting-in-extreme-heat-2024-could-be-even-hotter-nasa-scientists-warn-954ea6d3)\n"
      ],
      "text/plain": [
       "<IPython.core.display.Markdown object>"
      ]
     },
     "metadata": {},
     "output_type": "display_data"
    }
   ],
   "source": [
    "data = client.market_news()\n",
    "for item in data[:20]:\n",
    "    markdown_str = \"\"\n",
    "    datestr = item['Date']\n",
    "    markdown_str += f\"[{datestr} {item['Source']} - {item['Title']}]({item['URL']})\\n\"\n",
    "    display(Markdown(markdown_str))\n"
   ]
  },
  {
   "cell_type": "code",
   "execution_count": 128,
   "metadata": {},
   "outputs": [
    {
     "data": {
      "text/plain": [
       "[{'Ticker': 'LCID',\n",
       "  'Amount': 1814687991,\n",
       "  'Market Cap': 15618875750,\n",
       "  '% of Mkt Cap': 11.619},\n",
       " {'Ticker': 'WMT',\n",
       "  'Amount': -743928187,\n",
       "  'Market Cap': 426465060664,\n",
       "  '% of Mkt Cap': 0.174},\n",
       " {'Ticker': 'SXT',\n",
       "  'Amount': -448468533,\n",
       "  'Market Cap': 2762361316,\n",
       "  '% of Mkt Cap': 16.235},\n",
       " {'Ticker': 'BLNK',\n",
       "  'Amount': -276162594,\n",
       "  'Market Cap': 379379740,\n",
       "  '% of Mkt Cap': 72.793},\n",
       " {'Ticker': 'ROIV',\n",
       "  'Amount': -258699982,\n",
       "  'Market Cap': 8503934079,\n",
       "  '% of Mkt Cap': 3.042},\n",
       " {'Ticker': 'CIVI',\n",
       "  'Amount': -232401488,\n",
       "  'Market Cap': 5693590907,\n",
       "  '% of Mkt Cap': 4.082},\n",
       " {'Ticker': 'SNX',\n",
       "  'Amount': -219538486,\n",
       "  'Market Cap': 9107272885,\n",
       "  '% of Mkt Cap': 2.411},\n",
       " {'Ticker': 'DELL',\n",
       "  'Amount': -214505725,\n",
       "  'Market Cap': 38951137276,\n",
       "  '% of Mkt Cap': 0.551},\n",
       " {'Ticker': 'MSGE',\n",
       "  'Amount': -194675997,\n",
       "  'Market Cap': 1723894776,\n",
       "  '% of Mkt Cap': 11.293},\n",
       " {'Ticker': 'ABNB',\n",
       "  'Amount': -152896404,\n",
       "  'Market Cap': 93763035011,\n",
       "  '% of Mkt Cap': 0.163}]"
      ]
     },
     "execution_count": 128,
     "metadata": {},
     "output_type": "execute_result"
    }
   ],
   "source": [
    "data = client.latest_insider_trading_summary()\n",
    "data[:10]"
   ]
  },
  {
   "cell_type": "markdown",
   "metadata": {},
   "source": [
    "# Quandl\n",
    "- acquired by NASDAQ, free API doesn't seem to work\n",
    "- https://demo.quandl.com/\n",
    "- https://data.nasdaq.com/"
   ]
  },
  {
   "cell_type": "code",
   "execution_count": 111,
   "metadata": {},
   "outputs": [],
   "source": [
    "import quandl\n",
    "quandl.ApiConfig.api_key = os.environ['QUANDL_API_KEY']\n"
   ]
  },
  {
   "cell_type": "code",
   "execution_count": 117,
   "metadata": {},
   "outputs": [
    {
     "data": {
      "text/html": [
       "<div>\n",
       "<style scoped>\n",
       "    .dataframe tbody tr th:only-of-type {\n",
       "        vertical-align: middle;\n",
       "    }\n",
       "\n",
       "    .dataframe tbody tr th {\n",
       "        vertical-align: top;\n",
       "    }\n",
       "\n",
       "    .dataframe thead th {\n",
       "        text-align: right;\n",
       "    }\n",
       "</style>\n",
       "<table border=\"1\" class=\"dataframe\">\n",
       "  <thead>\n",
       "    <tr style=\"text-align: right;\">\n",
       "      <th></th>\n",
       "      <th>Value</th>\n",
       "    </tr>\n",
       "    <tr>\n",
       "      <th>Date</th>\n",
       "      <th></th>\n",
       "    </tr>\n",
       "  </thead>\n",
       "  <tbody>\n",
       "    <tr>\n",
       "      <th>2011-01-01</th>\n",
       "      <td>15351.444</td>\n",
       "    </tr>\n",
       "    <tr>\n",
       "      <th>2011-04-01</th>\n",
       "      <td>15557.535</td>\n",
       "    </tr>\n",
       "    <tr>\n",
       "      <th>2011-07-01</th>\n",
       "      <td>15647.681</td>\n",
       "    </tr>\n",
       "    <tr>\n",
       "      <th>2011-10-01</th>\n",
       "      <td>15842.267</td>\n",
       "    </tr>\n",
       "    <tr>\n",
       "      <th>2012-01-01</th>\n",
       "      <td>16068.824</td>\n",
       "    </tr>\n",
       "    <tr>\n",
       "      <th>2012-04-01</th>\n",
       "      <td>16207.130</td>\n",
       "    </tr>\n",
       "    <tr>\n",
       "      <th>2012-07-01</th>\n",
       "      <td>16319.540</td>\n",
       "    </tr>\n",
       "    <tr>\n",
       "      <th>2012-10-01</th>\n",
       "      <td>16420.386</td>\n",
       "    </tr>\n",
       "    <tr>\n",
       "      <th>2013-01-01</th>\n",
       "      <td>16629.050</td>\n",
       "    </tr>\n",
       "    <tr>\n",
       "      <th>2013-04-01</th>\n",
       "      <td>16699.551</td>\n",
       "    </tr>\n",
       "    <tr>\n",
       "      <th>2013-07-01</th>\n",
       "      <td>16911.068</td>\n",
       "    </tr>\n",
       "    <tr>\n",
       "      <th>2013-10-01</th>\n",
       "      <td>17133.114</td>\n",
       "    </tr>\n",
       "    <tr>\n",
       "      <th>2014-01-01</th>\n",
       "      <td>17144.281</td>\n",
       "    </tr>\n",
       "    <tr>\n",
       "      <th>2014-04-01</th>\n",
       "      <td>17462.703</td>\n",
       "    </tr>\n",
       "    <tr>\n",
       "      <th>2014-07-01</th>\n",
       "      <td>17743.227</td>\n",
       "    </tr>\n",
       "    <tr>\n",
       "      <th>2014-10-01</th>\n",
       "      <td>17852.540</td>\n",
       "    </tr>\n",
       "    <tr>\n",
       "      <th>2015-01-01</th>\n",
       "      <td>17991.348</td>\n",
       "    </tr>\n",
       "    <tr>\n",
       "      <th>2015-04-01</th>\n",
       "      <td>18193.707</td>\n",
       "    </tr>\n",
       "    <tr>\n",
       "      <th>2015-07-01</th>\n",
       "      <td>18306.960</td>\n",
       "    </tr>\n",
       "    <tr>\n",
       "      <th>2015-10-01</th>\n",
       "      <td>18332.079</td>\n",
       "    </tr>\n",
       "    <tr>\n",
       "      <th>2016-01-01</th>\n",
       "      <td>18425.306</td>\n",
       "    </tr>\n",
       "    <tr>\n",
       "      <th>2016-04-01</th>\n",
       "      <td>18611.617</td>\n",
       "    </tr>\n",
       "    <tr>\n",
       "      <th>2016-07-01</th>\n",
       "      <td>18775.459</td>\n",
       "    </tr>\n",
       "    <tr>\n",
       "      <th>2016-10-01</th>\n",
       "      <td>18968.041</td>\n",
       "    </tr>\n",
       "    <tr>\n",
       "      <th>2017-01-01</th>\n",
       "      <td>19153.912</td>\n",
       "    </tr>\n",
       "    <tr>\n",
       "      <th>2017-04-01</th>\n",
       "      <td>19322.920</td>\n",
       "    </tr>\n",
       "    <tr>\n",
       "      <th>2017-07-01</th>\n",
       "      <td>19558.693</td>\n",
       "    </tr>\n",
       "    <tr>\n",
       "      <th>2017-10-01</th>\n",
       "      <td>19882.965</td>\n",
       "    </tr>\n",
       "    <tr>\n",
       "      <th>2018-01-01</th>\n",
       "      <td>20143.716</td>\n",
       "    </tr>\n",
       "    <tr>\n",
       "      <th>2018-04-01</th>\n",
       "      <td>20492.492</td>\n",
       "    </tr>\n",
       "    <tr>\n",
       "      <th>2018-07-01</th>\n",
       "      <td>20659.102</td>\n",
       "    </tr>\n",
       "    <tr>\n",
       "      <th>2018-10-01</th>\n",
       "      <td>20813.325</td>\n",
       "    </tr>\n",
       "    <tr>\n",
       "      <th>2019-01-01</th>\n",
       "      <td>21001.591</td>\n",
       "    </tr>\n",
       "    <tr>\n",
       "      <th>2019-04-01</th>\n",
       "      <td>21289.268</td>\n",
       "    </tr>\n",
       "    <tr>\n",
       "      <th>2019-07-01</th>\n",
       "      <td>21505.012</td>\n",
       "    </tr>\n",
       "    <tr>\n",
       "      <th>2019-10-01</th>\n",
       "      <td>21694.458</td>\n",
       "    </tr>\n",
       "    <tr>\n",
       "      <th>2020-01-01</th>\n",
       "      <td>21481.367</td>\n",
       "    </tr>\n",
       "    <tr>\n",
       "      <th>2020-04-01</th>\n",
       "      <td>19477.444</td>\n",
       "    </tr>\n",
       "    <tr>\n",
       "      <th>2020-07-01</th>\n",
       "      <td>21138.574</td>\n",
       "    </tr>\n",
       "    <tr>\n",
       "      <th>2020-10-01</th>\n",
       "      <td>21477.597</td>\n",
       "    </tr>\n",
       "    <tr>\n",
       "      <th>2021-01-01</th>\n",
       "      <td>22038.226</td>\n",
       "    </tr>\n",
       "    <tr>\n",
       "      <th>2021-04-01</th>\n",
       "      <td>22740.959</td>\n",
       "    </tr>\n",
       "    <tr>\n",
       "      <th>2021-07-01</th>\n",
       "      <td>23202.344</td>\n",
       "    </tr>\n",
       "    <tr>\n",
       "      <th>2021-10-01</th>\n",
       "      <td>23992.355</td>\n",
       "    </tr>\n",
       "  </tbody>\n",
       "</table>\n",
       "</div>"
      ],
      "text/plain": [
       "                Value\n",
       "Date                 \n",
       "2011-01-01  15351.444\n",
       "2011-04-01  15557.535\n",
       "2011-07-01  15647.681\n",
       "2011-10-01  15842.267\n",
       "2012-01-01  16068.824\n",
       "2012-04-01  16207.130\n",
       "2012-07-01  16319.540\n",
       "2012-10-01  16420.386\n",
       "2013-01-01  16629.050\n",
       "2013-04-01  16699.551\n",
       "2013-07-01  16911.068\n",
       "2013-10-01  17133.114\n",
       "2014-01-01  17144.281\n",
       "2014-04-01  17462.703\n",
       "2014-07-01  17743.227\n",
       "2014-10-01  17852.540\n",
       "2015-01-01  17991.348\n",
       "2015-04-01  18193.707\n",
       "2015-07-01  18306.960\n",
       "2015-10-01  18332.079\n",
       "2016-01-01  18425.306\n",
       "2016-04-01  18611.617\n",
       "2016-07-01  18775.459\n",
       "2016-10-01  18968.041\n",
       "2017-01-01  19153.912\n",
       "2017-04-01  19322.920\n",
       "2017-07-01  19558.693\n",
       "2017-10-01  19882.965\n",
       "2018-01-01  20143.716\n",
       "2018-04-01  20492.492\n",
       "2018-07-01  20659.102\n",
       "2018-10-01  20813.325\n",
       "2019-01-01  21001.591\n",
       "2019-04-01  21289.268\n",
       "2019-07-01  21505.012\n",
       "2019-10-01  21694.458\n",
       "2020-01-01  21481.367\n",
       "2020-04-01  19477.444\n",
       "2020-07-01  21138.574\n",
       "2020-10-01  21477.597\n",
       "2021-01-01  22038.226\n",
       "2021-04-01  22740.959\n",
       "2021-07-01  23202.344\n",
       "2021-10-01  23992.355"
      ]
     },
     "execution_count": 117,
     "metadata": {},
     "output_type": "execute_result"
    }
   ],
   "source": [
    "# not up to date\n",
    "data = quandl.get(\"FRED/GDP\", start_date=\"2011-01-01\", end_date=\"2023-12-31\")\n",
    "data\n"
   ]
  },
  {
   "cell_type": "code",
   "execution_count": 116,
   "metadata": {},
   "outputs": [
    {
     "data": {
      "text/html": [
       "<div>\n",
       "<style scoped>\n",
       "    .dataframe tbody tr th:only-of-type {\n",
       "        vertical-align: middle;\n",
       "    }\n",
       "\n",
       "    .dataframe tbody tr th {\n",
       "        vertical-align: top;\n",
       "    }\n",
       "\n",
       "    .dataframe thead th {\n",
       "        text-align: right;\n",
       "    }\n",
       "</style>\n",
       "<table border=\"1\" class=\"dataframe\">\n",
       "  <thead>\n",
       "    <tr style=\"text-align: right;\">\n",
       "      <th></th>\n",
       "      <th>Open</th>\n",
       "      <th>High</th>\n",
       "      <th>Low</th>\n",
       "      <th>Close</th>\n",
       "      <th>Volume</th>\n",
       "      <th>Ex-Dividend</th>\n",
       "      <th>Split Ratio</th>\n",
       "      <th>Adj. Open</th>\n",
       "      <th>Adj. High</th>\n",
       "      <th>Adj. Low</th>\n",
       "      <th>Adj. Close</th>\n",
       "      <th>Adj. Volume</th>\n",
       "    </tr>\n",
       "    <tr>\n",
       "      <th>Date</th>\n",
       "      <th></th>\n",
       "      <th></th>\n",
       "      <th></th>\n",
       "      <th></th>\n",
       "      <th></th>\n",
       "      <th></th>\n",
       "      <th></th>\n",
       "      <th></th>\n",
       "      <th></th>\n",
       "      <th></th>\n",
       "      <th></th>\n",
       "      <th></th>\n",
       "    </tr>\n",
       "  </thead>\n",
       "  <tbody>\n",
       "    <tr>\n",
       "      <th>2017-06-29</th>\n",
       "      <td>370.61</td>\n",
       "      <td>371.0000</td>\n",
       "      <td>354.1000</td>\n",
       "      <td>360.75</td>\n",
       "      <td>8180408.0</td>\n",
       "      <td>0.0</td>\n",
       "      <td>1.0</td>\n",
       "      <td>370.61</td>\n",
       "      <td>371.0000</td>\n",
       "      <td>354.1000</td>\n",
       "      <td>360.75</td>\n",
       "      <td>8180408.0</td>\n",
       "    </tr>\n",
       "    <tr>\n",
       "      <th>2017-06-30</th>\n",
       "      <td>363.71</td>\n",
       "      <td>366.7674</td>\n",
       "      <td>359.6187</td>\n",
       "      <td>361.61</td>\n",
       "      <td>5759458.0</td>\n",
       "      <td>0.0</td>\n",
       "      <td>1.0</td>\n",
       "      <td>363.71</td>\n",
       "      <td>366.7674</td>\n",
       "      <td>359.6187</td>\n",
       "      <td>361.61</td>\n",
       "      <td>5759458.0</td>\n",
       "    </tr>\n",
       "    <tr>\n",
       "      <th>2017-07-03</th>\n",
       "      <td>370.24</td>\n",
       "      <td>371.3500</td>\n",
       "      <td>351.5000</td>\n",
       "      <td>352.62</td>\n",
       "      <td>6297330.0</td>\n",
       "      <td>0.0</td>\n",
       "      <td>1.0</td>\n",
       "      <td>370.24</td>\n",
       "      <td>371.3500</td>\n",
       "      <td>351.5000</td>\n",
       "      <td>352.62</td>\n",
       "      <td>6297330.0</td>\n",
       "    </tr>\n",
       "    <tr>\n",
       "      <th>2017-07-05</th>\n",
       "      <td>347.20</td>\n",
       "      <td>347.2400</td>\n",
       "      <td>326.3300</td>\n",
       "      <td>327.09</td>\n",
       "      <td>16883496.0</td>\n",
       "      <td>0.0</td>\n",
       "      <td>1.0</td>\n",
       "      <td>347.20</td>\n",
       "      <td>347.2400</td>\n",
       "      <td>326.3300</td>\n",
       "      <td>327.09</td>\n",
       "      <td>16883496.0</td>\n",
       "    </tr>\n",
       "    <tr>\n",
       "      <th>2017-07-06</th>\n",
       "      <td>317.26</td>\n",
       "      <td>320.7899</td>\n",
       "      <td>306.3000</td>\n",
       "      <td>308.89</td>\n",
       "      <td>19189195.0</td>\n",
       "      <td>0.0</td>\n",
       "      <td>1.0</td>\n",
       "      <td>317.26</td>\n",
       "      <td>320.7899</td>\n",
       "      <td>306.3000</td>\n",
       "      <td>308.89</td>\n",
       "      <td>19189195.0</td>\n",
       "    </tr>\n",
       "    <tr>\n",
       "      <th>...</th>\n",
       "      <td>...</td>\n",
       "      <td>...</td>\n",
       "      <td>...</td>\n",
       "      <td>...</td>\n",
       "      <td>...</td>\n",
       "      <td>...</td>\n",
       "      <td>...</td>\n",
       "      <td>...</td>\n",
       "      <td>...</td>\n",
       "      <td>...</td>\n",
       "      <td>...</td>\n",
       "      <td>...</td>\n",
       "    </tr>\n",
       "    <tr>\n",
       "      <th>2018-03-21</th>\n",
       "      <td>310.25</td>\n",
       "      <td>322.4400</td>\n",
       "      <td>310.1900</td>\n",
       "      <td>316.53</td>\n",
       "      <td>5927881.0</td>\n",
       "      <td>0.0</td>\n",
       "      <td>1.0</td>\n",
       "      <td>310.25</td>\n",
       "      <td>322.4400</td>\n",
       "      <td>310.1900</td>\n",
       "      <td>316.53</td>\n",
       "      <td>5927881.0</td>\n",
       "    </tr>\n",
       "    <tr>\n",
       "      <th>2018-03-22</th>\n",
       "      <td>313.89</td>\n",
       "      <td>318.8200</td>\n",
       "      <td>308.1800</td>\n",
       "      <td>309.10</td>\n",
       "      <td>4914307.0</td>\n",
       "      <td>0.0</td>\n",
       "      <td>1.0</td>\n",
       "      <td>313.89</td>\n",
       "      <td>318.8200</td>\n",
       "      <td>308.1800</td>\n",
       "      <td>309.10</td>\n",
       "      <td>4914307.0</td>\n",
       "    </tr>\n",
       "    <tr>\n",
       "      <th>2018-03-23</th>\n",
       "      <td>311.25</td>\n",
       "      <td>311.6100</td>\n",
       "      <td>300.4500</td>\n",
       "      <td>301.54</td>\n",
       "      <td>6600538.0</td>\n",
       "      <td>0.0</td>\n",
       "      <td>1.0</td>\n",
       "      <td>311.25</td>\n",
       "      <td>311.6100</td>\n",
       "      <td>300.4500</td>\n",
       "      <td>301.54</td>\n",
       "      <td>6600538.0</td>\n",
       "    </tr>\n",
       "    <tr>\n",
       "      <th>2018-03-26</th>\n",
       "      <td>307.34</td>\n",
       "      <td>307.5900</td>\n",
       "      <td>291.3600</td>\n",
       "      <td>304.18</td>\n",
       "      <td>8324639.0</td>\n",
       "      <td>0.0</td>\n",
       "      <td>1.0</td>\n",
       "      <td>307.34</td>\n",
       "      <td>307.5900</td>\n",
       "      <td>291.3600</td>\n",
       "      <td>304.18</td>\n",
       "      <td>8324639.0</td>\n",
       "    </tr>\n",
       "    <tr>\n",
       "      <th>2018-03-27</th>\n",
       "      <td>304.00</td>\n",
       "      <td>304.2700</td>\n",
       "      <td>277.1800</td>\n",
       "      <td>279.18</td>\n",
       "      <td>13696168.0</td>\n",
       "      <td>0.0</td>\n",
       "      <td>1.0</td>\n",
       "      <td>304.00</td>\n",
       "      <td>304.2700</td>\n",
       "      <td>277.1800</td>\n",
       "      <td>279.18</td>\n",
       "      <td>13696168.0</td>\n",
       "    </tr>\n",
       "  </tbody>\n",
       "</table>\n",
       "<p>186 rows × 12 columns</p>\n",
       "</div>"
      ],
      "text/plain": [
       "              Open      High       Low   Close      Volume  Ex-Dividend  \\\n",
       "Date                                                                      \n",
       "2017-06-29  370.61  371.0000  354.1000  360.75   8180408.0          0.0   \n",
       "2017-06-30  363.71  366.7674  359.6187  361.61   5759458.0          0.0   \n",
       "2017-07-03  370.24  371.3500  351.5000  352.62   6297330.0          0.0   \n",
       "2017-07-05  347.20  347.2400  326.3300  327.09  16883496.0          0.0   \n",
       "2017-07-06  317.26  320.7899  306.3000  308.89  19189195.0          0.0   \n",
       "...            ...       ...       ...     ...         ...          ...   \n",
       "2018-03-21  310.25  322.4400  310.1900  316.53   5927881.0          0.0   \n",
       "2018-03-22  313.89  318.8200  308.1800  309.10   4914307.0          0.0   \n",
       "2018-03-23  311.25  311.6100  300.4500  301.54   6600538.0          0.0   \n",
       "2018-03-26  307.34  307.5900  291.3600  304.18   8324639.0          0.0   \n",
       "2018-03-27  304.00  304.2700  277.1800  279.18  13696168.0          0.0   \n",
       "\n",
       "            Split Ratio  Adj. Open  Adj. High  Adj. Low  Adj. Close  \\\n",
       "Date                                                                  \n",
       "2017-06-29          1.0     370.61   371.0000  354.1000      360.75   \n",
       "2017-06-30          1.0     363.71   366.7674  359.6187      361.61   \n",
       "2017-07-03          1.0     370.24   371.3500  351.5000      352.62   \n",
       "2017-07-05          1.0     347.20   347.2400  326.3300      327.09   \n",
       "2017-07-06          1.0     317.26   320.7899  306.3000      308.89   \n",
       "...                 ...        ...        ...       ...         ...   \n",
       "2018-03-21          1.0     310.25   322.4400  310.1900      316.53   \n",
       "2018-03-22          1.0     313.89   318.8200  308.1800      309.10   \n",
       "2018-03-23          1.0     311.25   311.6100  300.4500      301.54   \n",
       "2018-03-26          1.0     307.34   307.5900  291.3600      304.18   \n",
       "2018-03-27          1.0     304.00   304.2700  277.1800      279.18   \n",
       "\n",
       "            Adj. Volume  \n",
       "Date                     \n",
       "2017-06-29    8180408.0  \n",
       "2017-06-30    5759458.0  \n",
       "2017-07-03    6297330.0  \n",
       "2017-07-05   16883496.0  \n",
       "2017-07-06   19189195.0  \n",
       "...                 ...  \n",
       "2018-03-21    5927881.0  \n",
       "2018-03-22    4914307.0  \n",
       "2018-03-23    6600538.0  \n",
       "2018-03-26    8324639.0  \n",
       "2018-03-27   13696168.0  \n",
       "\n",
       "[186 rows x 12 columns]"
      ]
     },
     "execution_count": 116,
     "metadata": {},
     "output_type": "execute_result"
    }
   ],
   "source": [
    "# free discontinued maybe\n",
    "tsla = quandl.get('WIKI/TSLA', start_date = \"2017-06-29\", end_date = \"2023-03-27\")\n",
    "tsla"
   ]
  },
  {
   "cell_type": "code",
   "execution_count": null,
   "metadata": {},
   "outputs": [],
   "source": []
  }
 ],
 "metadata": {
  "kernelspec": {
   "display_name": "agents",
   "language": "python",
   "name": "agents"
  },
  "language_info": {
   "codemirror_mode": {
    "name": "ipython",
    "version": 3
   },
   "file_extension": ".py",
   "mimetype": "text/x-python",
   "name": "python",
   "nbconvert_exporter": "python",
   "pygments_lexer": "ipython3",
   "version": "3.10.12"
  }
 },
 "nbformat": 4,
 "nbformat_minor": 4
}
