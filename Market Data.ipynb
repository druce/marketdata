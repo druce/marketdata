{
 "cells": [
  {
   "cell_type": "markdown",
   "metadata": {},
   "source": [
    "# Financial Market APIs\n",
    "- How to access datafeeds used by [OpenBB](https://openbb.co/) and mentioned in [this post](https://medium.com/@peteramaral/want-to-be-informed-like-a-hedge-fund-manager-add-these-api-keys-to-your-openbb-terminal-8f96c2256b22)\n",
    "- Didn't install \n",
    "    - crypto-related stuff\n",
    "    - [IEX](https://iexcloud.io/pricing) (looks super interesting but data bundles are expensive)\n",
    "    - [Databento](https://databento.com/pricing) (looks interesting and reasonably priced market data, just using free tier for now)\n",
    "    - [Oanda](https://www.oanda.com/foreign-exchange-data-services/en/exchange-rates-api/free-trial/) (don't care as much about FX for now)\n",
    "    "
   ]
  },
  {
   "cell_type": "code",
   "execution_count": 15,
   "metadata": {},
   "outputs": [
    {
     "data": {
      "text/plain": [
       "True"
      ]
     },
     "execution_count": 15,
     "metadata": {},
     "output_type": "execute_result"
    }
   ],
   "source": [
    "import os\n",
    "from datetime import datetime\n",
    "import requests\n",
    "import pandas as pd\n",
    "\n",
    "from IPython.display import display, Markdown\n",
    "\n",
    "import dotenv\n",
    "dotenv.load_dotenv()\n"
   ]
  },
  {
   "cell_type": "markdown",
   "metadata": {},
   "source": [
    "# Alpha Vantage\n",
    "- [Data](https://www.alphavantage.co/documentation/)\n",
    "- don't see pricing plan, just using free APIs for now\n",
    "- [Get a key](https://www.alphavantage.co/support/#api-key)\n"
   ]
  },
  {
   "cell_type": "code",
   "execution_count": 3,
   "metadata": {},
   "outputs": [],
   "source": [
    "ALPHAVANTAGE_API_KEY = os.environ['ALPHAVANTAGE_API_KEY']"
   ]
  },
  {
   "cell_type": "code",
   "execution_count": 46,
   "metadata": {},
   "outputs": [
    {
     "data": {
      "text/html": [
       "<div>\n",
       "<style scoped>\n",
       "    .dataframe tbody tr th:only-of-type {\n",
       "        vertical-align: middle;\n",
       "    }\n",
       "\n",
       "    .dataframe tbody tr th {\n",
       "        vertical-align: top;\n",
       "    }\n",
       "\n",
       "    .dataframe thead th {\n",
       "        text-align: right;\n",
       "    }\n",
       "</style>\n",
       "<table border=\"1\" class=\"dataframe\">\n",
       "  <thead>\n",
       "    <tr style=\"text-align: right;\">\n",
       "      <th></th>\n",
       "      <th>1</th>\n",
       "    </tr>\n",
       "  </thead>\n",
       "  <tbody>\n",
       "    <tr>\n",
       "      <th>Symbol</th>\n",
       "      <td>IBM</td>\n",
       "    </tr>\n",
       "    <tr>\n",
       "      <th>AssetType</th>\n",
       "      <td>Common Stock</td>\n",
       "    </tr>\n",
       "    <tr>\n",
       "      <th>Name</th>\n",
       "      <td>International Business Machines</td>\n",
       "    </tr>\n",
       "    <tr>\n",
       "      <th>Description</th>\n",
       "      <td>International Business Machines Corporation (I...</td>\n",
       "    </tr>\n",
       "    <tr>\n",
       "      <th>CIK</th>\n",
       "      <td>51143</td>\n",
       "    </tr>\n",
       "    <tr>\n",
       "      <th>Exchange</th>\n",
       "      <td>NYSE</td>\n",
       "    </tr>\n",
       "    <tr>\n",
       "      <th>Currency</th>\n",
       "      <td>USD</td>\n",
       "    </tr>\n",
       "    <tr>\n",
       "      <th>Country</th>\n",
       "      <td>USA</td>\n",
       "    </tr>\n",
       "    <tr>\n",
       "      <th>Sector</th>\n",
       "      <td>TECHNOLOGY</td>\n",
       "    </tr>\n",
       "    <tr>\n",
       "      <th>Industry</th>\n",
       "      <td>COMPUTER &amp; OFFICE EQUIPMENT</td>\n",
       "    </tr>\n",
       "    <tr>\n",
       "      <th>Address</th>\n",
       "      <td>1 NEW ORCHARD ROAD, ARMONK, NY, US</td>\n",
       "    </tr>\n",
       "    <tr>\n",
       "      <th>FiscalYearEnd</th>\n",
       "      <td>December</td>\n",
       "    </tr>\n",
       "    <tr>\n",
       "      <th>LatestQuarter</th>\n",
       "      <td>2023-06-30</td>\n",
       "    </tr>\n",
       "    <tr>\n",
       "      <th>MarketCapitalization</th>\n",
       "      <td>126163771000</td>\n",
       "    </tr>\n",
       "    <tr>\n",
       "      <th>EBITDA</th>\n",
       "      <td>12644000000</td>\n",
       "    </tr>\n",
       "    <tr>\n",
       "      <th>PERatio</th>\n",
       "      <td>62.03</td>\n",
       "    </tr>\n",
       "    <tr>\n",
       "      <th>PEGRatio</th>\n",
       "      <td>1.276</td>\n",
       "    </tr>\n",
       "    <tr>\n",
       "      <th>BookValue</th>\n",
       "      <td>23.79</td>\n",
       "    </tr>\n",
       "    <tr>\n",
       "      <th>DividendPerShare</th>\n",
       "      <td>6.6</td>\n",
       "    </tr>\n",
       "    <tr>\n",
       "      <th>DividendYield</th>\n",
       "      <td>0.0491</td>\n",
       "    </tr>\n",
       "    <tr>\n",
       "      <th>EPS</th>\n",
       "      <td>2.24</td>\n",
       "    </tr>\n",
       "    <tr>\n",
       "      <th>RevenuePerShareTTM</th>\n",
       "      <td>66.97</td>\n",
       "    </tr>\n",
       "    <tr>\n",
       "      <th>ProfitMargin</th>\n",
       "      <td>0.0303</td>\n",
       "    </tr>\n",
       "    <tr>\n",
       "      <th>OperatingMarginTTM</th>\n",
       "      <td>0.132</td>\n",
       "    </tr>\n",
       "    <tr>\n",
       "      <th>ReturnOnAssetsTTM</th>\n",
       "      <td>0.0376</td>\n",
       "    </tr>\n",
       "    <tr>\n",
       "      <th>ReturnOnEquityTTM</th>\n",
       "      <td>0.101</td>\n",
       "    </tr>\n",
       "    <tr>\n",
       "      <th>RevenueTTM</th>\n",
       "      <td>60585001000</td>\n",
       "    </tr>\n",
       "    <tr>\n",
       "      <th>GrossProfitTTM</th>\n",
       "      <td>32688000000</td>\n",
       "    </tr>\n",
       "    <tr>\n",
       "      <th>DilutedEPSTTM</th>\n",
       "      <td>2.24</td>\n",
       "    </tr>\n",
       "    <tr>\n",
       "      <th>QuarterlyEarningsGrowthYOY</th>\n",
       "      <td>0.253</td>\n",
       "    </tr>\n",
       "    <tr>\n",
       "      <th>QuarterlyRevenueGrowthYOY</th>\n",
       "      <td>0.004</td>\n",
       "    </tr>\n",
       "    <tr>\n",
       "      <th>AnalystTargetPrice</th>\n",
       "      <td>142.24</td>\n",
       "    </tr>\n",
       "    <tr>\n",
       "      <th>TrailingPE</th>\n",
       "      <td>62.03</td>\n",
       "    </tr>\n",
       "    <tr>\n",
       "      <th>ForwardPE</th>\n",
       "      <td>15.55</td>\n",
       "    </tr>\n",
       "    <tr>\n",
       "      <th>PriceToSalesRatioTTM</th>\n",
       "      <td>2.108</td>\n",
       "    </tr>\n",
       "    <tr>\n",
       "      <th>PriceToBookRatio</th>\n",
       "      <td>6.75</td>\n",
       "    </tr>\n",
       "    <tr>\n",
       "      <th>EVToRevenue</th>\n",
       "      <td>2.969</td>\n",
       "    </tr>\n",
       "    <tr>\n",
       "      <th>EVToEBITDA</th>\n",
       "      <td>25.81</td>\n",
       "    </tr>\n",
       "    <tr>\n",
       "      <th>Beta</th>\n",
       "      <td>0.848</td>\n",
       "    </tr>\n",
       "    <tr>\n",
       "      <th>52WeekHigh</th>\n",
       "      <td>149.31</td>\n",
       "    </tr>\n",
       "    <tr>\n",
       "      <th>52WeekLow</th>\n",
       "      <td>111.29</td>\n",
       "    </tr>\n",
       "    <tr>\n",
       "      <th>50DayMovingAverage</th>\n",
       "      <td>131.62</td>\n",
       "    </tr>\n",
       "    <tr>\n",
       "      <th>200DayMovingAverage</th>\n",
       "      <td>133.73</td>\n",
       "    </tr>\n",
       "    <tr>\n",
       "      <th>SharesOutstanding</th>\n",
       "      <td>908045000</td>\n",
       "    </tr>\n",
       "    <tr>\n",
       "      <th>DividendDate</th>\n",
       "      <td>2023-06-10</td>\n",
       "    </tr>\n",
       "    <tr>\n",
       "      <th>ExDividendDate</th>\n",
       "      <td>2023-05-09</td>\n",
       "    </tr>\n",
       "  </tbody>\n",
       "</table>\n",
       "</div>"
      ],
      "text/plain": [
       "                                                                            1\n",
       "Symbol                                                                    IBM\n",
       "AssetType                                                        Common Stock\n",
       "Name                                          International Business Machines\n",
       "Description                 International Business Machines Corporation (I...\n",
       "CIK                                                                     51143\n",
       "Exchange                                                                 NYSE\n",
       "Currency                                                                  USD\n",
       "Country                                                                   USA\n",
       "Sector                                                             TECHNOLOGY\n",
       "Industry                                          COMPUTER & OFFICE EQUIPMENT\n",
       "Address                                    1 NEW ORCHARD ROAD, ARMONK, NY, US\n",
       "FiscalYearEnd                                                        December\n",
       "LatestQuarter                                                      2023-06-30\n",
       "MarketCapitalization                                             126163771000\n",
       "EBITDA                                                            12644000000\n",
       "PERatio                                                                 62.03\n",
       "PEGRatio                                                                1.276\n",
       "BookValue                                                               23.79\n",
       "DividendPerShare                                                          6.6\n",
       "DividendYield                                                          0.0491\n",
       "EPS                                                                      2.24\n",
       "RevenuePerShareTTM                                                      66.97\n",
       "ProfitMargin                                                           0.0303\n",
       "OperatingMarginTTM                                                      0.132\n",
       "ReturnOnAssetsTTM                                                      0.0376\n",
       "ReturnOnEquityTTM                                                       0.101\n",
       "RevenueTTM                                                        60585001000\n",
       "GrossProfitTTM                                                    32688000000\n",
       "DilutedEPSTTM                                                            2.24\n",
       "QuarterlyEarningsGrowthYOY                                              0.253\n",
       "QuarterlyRevenueGrowthYOY                                               0.004\n",
       "AnalystTargetPrice                                                     142.24\n",
       "TrailingPE                                                              62.03\n",
       "ForwardPE                                                               15.55\n",
       "PriceToSalesRatioTTM                                                    2.108\n",
       "PriceToBookRatio                                                         6.75\n",
       "EVToRevenue                                                             2.969\n",
       "EVToEBITDA                                                              25.81\n",
       "Beta                                                                    0.848\n",
       "52WeekHigh                                                             149.31\n",
       "52WeekLow                                                              111.29\n",
       "50DayMovingAverage                                                     131.62\n",
       "200DayMovingAverage                                                    133.73\n",
       "SharesOutstanding                                                   908045000\n",
       "DividendDate                                                       2023-06-10\n",
       "ExDividendDate                                                     2023-05-09"
      ]
     },
     "execution_count": 46,
     "metadata": {},
     "output_type": "execute_result"
    }
   ],
   "source": [
    "# overview\n",
    "url = f'https://www.alphavantage.co/query?function=OVERVIEW&symbol=IBM&apikey={ALPHAVANTAGE_API_KEY}'\n",
    "r = requests.get(url)\n",
    "data = r.json()\n",
    "pd.DataFrame(data, index=[1]).transpose()"
   ]
  },
  {
   "cell_type": "code",
   "execution_count": 48,
   "metadata": {},
   "outputs": [
    {
     "data": {
      "text/html": [
       "<div>\n",
       "<style scoped>\n",
       "    .dataframe tbody tr th:only-of-type {\n",
       "        vertical-align: middle;\n",
       "    }\n",
       "\n",
       "    .dataframe tbody tr th {\n",
       "        vertical-align: top;\n",
       "    }\n",
       "\n",
       "    .dataframe thead th {\n",
       "        text-align: right;\n",
       "    }\n",
       "</style>\n",
       "<table border=\"1\" class=\"dataframe\">\n",
       "  <thead>\n",
       "    <tr style=\"text-align: right;\">\n",
       "      <th></th>\n",
       "      <th>Global Quote</th>\n",
       "    </tr>\n",
       "  </thead>\n",
       "  <tbody>\n",
       "    <tr>\n",
       "      <th>01. symbol</th>\n",
       "      <td>IBM</td>\n",
       "    </tr>\n",
       "    <tr>\n",
       "      <th>02. open</th>\n",
       "      <td>138.2100</td>\n",
       "    </tr>\n",
       "    <tr>\n",
       "      <th>03. high</th>\n",
       "      <td>139.7799</td>\n",
       "    </tr>\n",
       "    <tr>\n",
       "      <th>04. low</th>\n",
       "      <td>137.7600</td>\n",
       "    </tr>\n",
       "    <tr>\n",
       "      <th>05. price</th>\n",
       "      <td>138.9400</td>\n",
       "    </tr>\n",
       "    <tr>\n",
       "      <th>06. volume</th>\n",
       "      <td>5858741</td>\n",
       "    </tr>\n",
       "    <tr>\n",
       "      <th>07. latest trading day</th>\n",
       "      <td>2023-07-21</td>\n",
       "    </tr>\n",
       "    <tr>\n",
       "      <th>08. previous close</th>\n",
       "      <td>138.3800</td>\n",
       "    </tr>\n",
       "    <tr>\n",
       "      <th>09. change</th>\n",
       "      <td>0.5600</td>\n",
       "    </tr>\n",
       "    <tr>\n",
       "      <th>10. change percent</th>\n",
       "      <td>0.4047%</td>\n",
       "    </tr>\n",
       "  </tbody>\n",
       "</table>\n",
       "</div>"
      ],
      "text/plain": [
       "                       Global Quote\n",
       "01. symbol                      IBM\n",
       "02. open                   138.2100\n",
       "03. high                   139.7799\n",
       "04. low                    137.7600\n",
       "05. price                  138.9400\n",
       "06. volume                  5858741\n",
       "07. latest trading day   2023-07-21\n",
       "08. previous close         138.3800\n",
       "09. change                   0.5600\n",
       "10. change percent          0.4047%"
      ]
     },
     "execution_count": 48,
     "metadata": {},
     "output_type": "execute_result"
    }
   ],
   "source": [
    "# last quote\n",
    "url = f'https://www.alphavantage.co/query?function=GLOBAL_QUOTE&symbol=IBM&apikey={ALPHAVANTAGE_API_KEY}'\n",
    "r = requests.get(url)\n",
    "data = r.json()\n",
    "pd.DataFrame(data)"
   ]
  },
  {
   "cell_type": "code",
   "execution_count": 49,
   "metadata": {},
   "outputs": [
    {
     "data": {
      "text/html": [
       "<div>\n",
       "<style scoped>\n",
       "    .dataframe tbody tr th:only-of-type {\n",
       "        vertical-align: middle;\n",
       "    }\n",
       "\n",
       "    .dataframe tbody tr th {\n",
       "        vertical-align: top;\n",
       "    }\n",
       "\n",
       "    .dataframe thead th {\n",
       "        text-align: right;\n",
       "    }\n",
       "</style>\n",
       "<table border=\"1\" class=\"dataframe\">\n",
       "  <thead>\n",
       "    <tr style=\"text-align: right;\">\n",
       "      <th></th>\n",
       "      <th>Meta Data</th>\n",
       "      <th>Time Series (5min)</th>\n",
       "    </tr>\n",
       "  </thead>\n",
       "  <tbody>\n",
       "    <tr>\n",
       "      <th>1. Information</th>\n",
       "      <td>Intraday (5min) open, high, low, close prices ...</td>\n",
       "      <td>NaN</td>\n",
       "    </tr>\n",
       "    <tr>\n",
       "      <th>2. Symbol</th>\n",
       "      <td>IBM</td>\n",
       "      <td>NaN</td>\n",
       "    </tr>\n",
       "    <tr>\n",
       "      <th>3. Last Refreshed</th>\n",
       "      <td>2023-07-21 19:50:00</td>\n",
       "      <td>NaN</td>\n",
       "    </tr>\n",
       "    <tr>\n",
       "      <th>4. Interval</th>\n",
       "      <td>5min</td>\n",
       "      <td>NaN</td>\n",
       "    </tr>\n",
       "    <tr>\n",
       "      <th>5. Output Size</th>\n",
       "      <td>Compact</td>\n",
       "      <td>NaN</td>\n",
       "    </tr>\n",
       "    <tr>\n",
       "      <th>...</th>\n",
       "      <td>...</td>\n",
       "      <td>...</td>\n",
       "    </tr>\n",
       "    <tr>\n",
       "      <th>2023-07-21 10:35:00</th>\n",
       "      <td>NaN</td>\n",
       "      <td>{'1. open': '139.0300', '2. high': '139.1500',...</td>\n",
       "    </tr>\n",
       "    <tr>\n",
       "      <th>2023-07-21 10:30:00</th>\n",
       "      <td>NaN</td>\n",
       "      <td>{'1. open': '138.9750', '2. high': '139.1200',...</td>\n",
       "    </tr>\n",
       "    <tr>\n",
       "      <th>2023-07-21 10:25:00</th>\n",
       "      <td>NaN</td>\n",
       "      <td>{'1. open': '138.8700', '2. high': '139.1100',...</td>\n",
       "    </tr>\n",
       "    <tr>\n",
       "      <th>2023-07-21 10:20:00</th>\n",
       "      <td>NaN</td>\n",
       "      <td>{'1. open': '138.9100', '2. high': '139.0900',...</td>\n",
       "    </tr>\n",
       "    <tr>\n",
       "      <th>2023-07-21 10:15:00</th>\n",
       "      <td>NaN</td>\n",
       "      <td>{'1. open': '138.8900', '2. high': '139.0500',...</td>\n",
       "    </tr>\n",
       "  </tbody>\n",
       "</table>\n",
       "<p>106 rows × 2 columns</p>\n",
       "</div>"
      ],
      "text/plain": [
       "                                                             Meta Data  \\\n",
       "1. Information       Intraday (5min) open, high, low, close prices ...   \n",
       "2. Symbol                                                          IBM   \n",
       "3. Last Refreshed                                  2023-07-21 19:50:00   \n",
       "4. Interval                                                       5min   \n",
       "5. Output Size                                                 Compact   \n",
       "...                                                                ...   \n",
       "2023-07-21 10:35:00                                                NaN   \n",
       "2023-07-21 10:30:00                                                NaN   \n",
       "2023-07-21 10:25:00                                                NaN   \n",
       "2023-07-21 10:20:00                                                NaN   \n",
       "2023-07-21 10:15:00                                                NaN   \n",
       "\n",
       "                                                    Time Series (5min)  \n",
       "1. Information                                                     NaN  \n",
       "2. Symbol                                                          NaN  \n",
       "3. Last Refreshed                                                  NaN  \n",
       "4. Interval                                                        NaN  \n",
       "5. Output Size                                                     NaN  \n",
       "...                                                                ...  \n",
       "2023-07-21 10:35:00  {'1. open': '139.0300', '2. high': '139.1500',...  \n",
       "2023-07-21 10:30:00  {'1. open': '138.9750', '2. high': '139.1200',...  \n",
       "2023-07-21 10:25:00  {'1. open': '138.8700', '2. high': '139.1100',...  \n",
       "2023-07-21 10:20:00  {'1. open': '138.9100', '2. high': '139.0900',...  \n",
       "2023-07-21 10:15:00  {'1. open': '138.8900', '2. high': '139.0500',...  \n",
       "\n",
       "[106 rows x 2 columns]"
      ]
     },
     "execution_count": 49,
     "metadata": {},
     "output_type": "execute_result"
    }
   ],
   "source": [
    "# intraday history\n",
    "url = f'https://www.alphavantage.co/query?function=TIME_SERIES_INTRADAY&symbol=IBM&interval=5min&apikey={ALPHAVANTAGE_API_KEY}'\n",
    "r = requests.get(url)\n",
    "data = r.json()\n",
    "pd.DataFrame(data)"
   ]
  },
  {
   "cell_type": "code",
   "execution_count": 5,
   "metadata": {},
   "outputs": [
    {
     "name": "stdout",
     "output_type": "stream",
     "text": [
      "{'bestMatches': [{'1. symbol': 'MSF0.FRK', '2. name': 'MICROSOFT CORP. CDR', '3. type': 'Equity', '4. region': 'Frankfurt', '5. marketOpen': '08:00', '6. marketClose': '20:00', '7. timezone': 'UTC+02', '8. currency': 'EUR', '9. matchScore': '0.6429'}, {'1. symbol': 'MSFT', '2. name': 'Microsoft Corporation', '3. type': 'Equity', '4. region': 'United States', '5. marketOpen': '09:30', '6. marketClose': '16:00', '7. timezone': 'UTC-04', '8. currency': 'USD', '9. matchScore': '0.6154'}, {'1. symbol': '0QYP.LON', '2. name': 'Microsoft Corporation', '3. type': 'Equity', '4. region': 'United Kingdom', '5. marketOpen': '08:00', '6. marketClose': '16:30', '7. timezone': 'UTC+01', '8. currency': 'USD', '9. matchScore': '0.6000'}, {'1. symbol': 'MSF.DEX', '2. name': 'Microsoft Corporation', '3. type': 'Equity', '4. region': 'XETRA', '5. marketOpen': '08:00', '6. marketClose': '20:00', '7. timezone': 'UTC+02', '8. currency': 'EUR', '9. matchScore': '0.6000'}, {'1. symbol': 'MSF.FRK', '2. name': 'Microsoft Corporation', '3. type': 'Equity', '4. region': 'Frankfurt', '5. marketOpen': '08:00', '6. marketClose': '20:00', '7. timezone': 'UTC+02', '8. currency': 'EUR', '9. matchScore': '0.6000'}, {'1. symbol': 'MSFT34.SAO', '2. name': 'Microsoft Corporation', '3. type': 'Equity', '4. region': 'Brazil/Sao Paolo', '5. marketOpen': '10:00', '6. marketClose': '17:30', '7. timezone': 'UTC-03', '8. currency': 'BRL', '9. matchScore': '0.6000'}]}\n"
     ]
    }
   ],
   "source": [
    "# ticker lookup\n",
    "url = f'https://www.alphavantage.co/query?function=SYMBOL_SEARCH&keywords=Microsoft&apikey={ALPHAVANTAGE_API_KEY}'\n",
    "r = requests.get(url)\n",
    "data = r.json()\n",
    "print(data)\n"
   ]
  },
  {
   "cell_type": "code",
   "execution_count": 51,
   "metadata": {},
   "outputs": [
    {
     "data": {
      "text/markdown": [
       "[2023-07-23 15:43:44 Elon Musk Confirms He'll Swap Twitter Logo for 'X' Tomorrow](https://decrypt.co/149692/elon-musk-twitter-brand-x-app-everything-super-app)\n",
       " The tech mogul said the Twitter logo will be cut off its San Francisco headquarters on Monday as the company pivots toward an \"everything app.\" ..."
      ],
      "text/plain": [
       "<IPython.core.display.Markdown object>"
      ]
     },
     "metadata": {},
     "output_type": "display_data"
    },
    {
     "data": {
      "text/markdown": [
       "[2023-07-23 15:33:30 Out With The Twitter Bird, In With Letter 'X': Musk Teases Most Radical Twitter Rebrand Yet](https://www.forbes.com/sites/brianbushard/2023/07/23/out-with-the-twitter-bird-in-with-letter-x-musk-teases-most-radical-twitter-rebrand-yet/)\n",
       " Twitter's switch from its iconic bird logo to the letter X could come as soon as Monday."
      ],
      "text/plain": [
       "<IPython.core.display.Markdown object>"
      ]
     },
     "metadata": {},
     "output_type": "display_data"
    },
    {
     "data": {
      "text/markdown": [
       "[2023-07-23 14:18:20 Musk's Scooby-Doo Meme, Tesla's Bitcoin Position, Black Swan Author's NFT Critique And More: This Week In Crypto - BlackRock  ( NYSE:BLK ) , Tesla  ( NASDAQ:TSLA ) ](https://www.benzinga.com/markets/cryptocurrency/23/07/33335322/musks-scooby-doo-meme-teslas-bitcoin-position-black-swan-authors-nft-critique-and-more-thi)\n",
       " This week in the world of cryptocurrency was nothing short of eventful. From Elon Musk's influence on Dogecoin to the fluctuating valuation of Jack Dorsey's tweet NFT, the crypto landscape was buzzing with activity. Meanwhile, Tesla's unchanged Bitcoin position and Robert F."
      ],
      "text/plain": [
       "<IPython.core.display.Markdown object>"
      ]
     },
     "metadata": {},
     "output_type": "display_data"
    },
    {
     "data": {
      "text/markdown": [
       "[2023-07-23 13:49:00 Musk Hints Twitter's Bird Branding Could Be Replaced](https://www.barrons.com/news/musk-hints-twitter-s-bird-branding-could-be-replaced-6cb20dd9)\n",
       " Twitter owner Elon Musk hinted late Saturday night that he may ditch the social media network's blue cartoon bird branding -- and soon -- for an edgier logo based on an \"everything app\" he has long alluded to called only X."
      ],
      "text/plain": [
       "<IPython.core.display.Markdown object>"
      ]
     },
     "metadata": {},
     "output_type": "display_data"
    },
    {
     "data": {
      "text/markdown": [
       "[2023-07-23 13:30:00 The \"Magnificent Seven\" Stocks Are Soaring Toward a Bull Market: 2 Ideal Index Funds to Buy Now](https://www.fool.com/investing/2023/07/23/magnificent-seven-stocks-2-index-funds-to-buy/)\n",
       " These index funds provide heavy exposure to Apple, Microsoft, Alphabet, Amazon, Nvidia, Tesla, and Meta Platforms."
      ],
      "text/plain": [
       "<IPython.core.display.Markdown object>"
      ]
     },
     "metadata": {},
     "output_type": "display_data"
    },
    {
     "data": {
      "text/markdown": [
       "[2023-07-23 12:15:00 Is Rivian Stock a Buy?](https://www.fool.com/investing/2023/07/23/is-rivian-stock-a-buy/)\n",
       " Rivian recently announced solid production numbers, leading to a swift stock price advance. But it is still a risky investment."
      ],
      "text/plain": [
       "<IPython.core.display.Markdown object>"
      ]
     },
     "metadata": {},
     "output_type": "display_data"
    },
    {
     "data": {
      "text/markdown": [
       "[2023-07-23 11:43:00 Musk says Twitter to change logo to \"X\" from the bird. Changes could come as early as Monday.](https://apnews.com/article/elon-musk-twitter-logo-x-bird-d58758cdd3f8441e7d2c8d3ac827ba90)\n",
       " NEW YORK ( AP ) - Elon Musk said Sunday that he plans to change the logo of Twitter to an \"X\" from the bird, marking what would be the latest big change since he bought the social media platform for last year. In a series of posts on his Twitter account starting just after 12 a.m."
      ],
      "text/plain": [
       "<IPython.core.display.Markdown object>"
      ]
     },
     "metadata": {},
     "output_type": "display_data"
    },
    {
     "data": {
      "text/markdown": [
       "[2023-07-23 11:40:00 What's ahead this week for Wall Street and the economy | Business](https://www.cnn.com/2023/07/23/business/stocks-week-ahead-fed-tech-earnings/index.html)\n",
       " What's ahead this week for Wall Street and the economy ..."
      ],
      "text/plain": [
       "<IPython.core.display.Markdown object>"
      ]
     },
     "metadata": {},
     "output_type": "display_data"
    },
    {
     "data": {
      "text/markdown": [
       "[2023-07-23 11:00:00 Earnings Season Accelerates With The Fed Set To Hike Rates](https://www.forbes.com/sites/bill_stone/2023/07/23/earnings-season-accelerates-with-the-fed-set-to-hike-rates/)\n",
       " The headline earnings decline worsened, but the details were more supportive for stocks. This week will be the second busiest of this earnings season. The Federal Reserve meeting on Wednesday will be closely watched despite the outcome being almost preordained."
      ],
      "text/plain": [
       "<IPython.core.display.Markdown object>"
      ]
     },
     "metadata": {},
     "output_type": "display_data"
    },
    {
     "data": {
      "text/markdown": [
       "[2023-07-23 11:00:00 Call This a Spare-Tire Trade, in Case the Air Comes Out of Tesla](https://realmoney.thestreet.com/investing/stocks/call-this-a-spare-tire-trade-in-case-the-air-comes-out-of-tesla-16129311)\n",
       " Few stocks in the market incite such passion from bulls and bears alike as does Tesla ( TSLA ) . Proponents of the company believe it is on the vanguard of the massive paradigm shift that will see electrical vehicles mostly displace the internal combustion engine marketplace in the coming years."
      ],
      "text/plain": [
       "<IPython.core.display.Markdown object>"
      ]
     },
     "metadata": {},
     "output_type": "display_data"
    },
    {
     "data": {
      "text/markdown": [
       "[2023-07-23 11:00:00 3 Things About Tesla That Smart Investors Know](https://www.fool.com/investing/2023/07/23/3-things-about-tesla-that-smart-investors-know/)\n",
       " There's a lot going on under the hood with this top EV business."
      ],
      "text/plain": [
       "<IPython.core.display.Markdown object>"
      ]
     },
     "metadata": {},
     "output_type": "display_data"
    },
    {
     "data": {
      "text/markdown": [
       "[2023-07-23 10:07:00 Warren Buffett Has a Clever Analogy for What It's Like to Be a Publicly Traded Company -- Elon Musk Agrees, as Far as Tesla's Concerned](https://www.fool.com/investing/2023/07/23/warren-buffett-has-clever-analogy-for-companies/)\n",
       " Musk tweeted about a recent surge in certain tech stocks."
      ],
      "text/plain": [
       "<IPython.core.display.Markdown object>"
      ]
     },
     "metadata": {},
     "output_type": "display_data"
    },
    {
     "data": {
      "text/markdown": [
       "[2023-07-23 09:04:10 This Week In AI: Wall Street, Cancer Cure And Big Tech's AI Developments - Meta Platforms  ( NASDAQ:META ) , Tesla  ( NASDAQ:TSLA ) ](https://www.benzinga.com/news/23/07/33334712/this-week-in-ai-wall-street-cancer-cure-and-big-techs-ai-developments)\n",
       " This week in artificial intelligence was marked by the potential of AI replacing Wall Street traders, the use of AI in cancer treatment, President Joe Biden's playful comment about AI, Mark Zuckerberg's decision to open up Meta's LLaMA 2 to developers, and Apple's work on AI tools."
      ],
      "text/plain": [
       "<IPython.core.display.Markdown object>"
      ]
     },
     "metadata": {},
     "output_type": "display_data"
    },
    {
     "data": {
      "text/markdown": [
       "[2023-07-23 07:13:00 Elon Musk says Twitter logo to change, birds to be gradually abandoned | Business](https://www.cnn.com/2023/07/23/business/elon-musk-twitter-revamp-intl-hnk/index.html)\n",
       " Elon Musk says Twitter logo to change, birds to be gradually abandoned ..."
      ],
      "text/plain": [
       "<IPython.core.display.Markdown object>"
      ]
     },
     "metadata": {},
     "output_type": "display_data"
    },
    {
     "data": {
      "text/markdown": [
       "[2023-07-22 21:00:50 Worried About Higher Interest Rates? Tesla Now Offers Auto Loans That You Can Pay Off In 7 Years. - Tesla  ( NASDAQ:TSLA ) ](https://www.benzinga.com/markets/equities/23/07/33333942/worried-about-higher-interest-rates-tesla-now-offers-auto-loans-that-you-can-pay-off-in-7-years)\n",
       " Tesla. Inc. TSLA CEO Elon Musk previously expressed concerns about the impact of rising interest rates on car purchases and floated the prospect of cutting vehicle prices even further. What Happened: The company's website shows that the duration of a loan extended by a Tesla financier or ..."
      ],
      "text/plain": [
       "<IPython.core.display.Markdown object>"
      ]
     },
     "metadata": {},
     "output_type": "display_data"
    },
    {
     "data": {
      "text/markdown": [
       "[2023-07-22 19:18:31 Oceangate's CEO Stockton Rush Was Trying To Be The Elon Musk Of The Deep, His Former Colleagues Say](https://www.benzinga.com/news/23/07/33333605/oceangates-ceo-stockton-rush-was-trying-to-be-the-elon-musk-of-the-deep-his-former-colleagues-say)\n",
       " OceanGate CEO Stockton Rush, who was among the five passengers who died in the Titan submersible on June 18, was an ambitious entrepreneur with \"a fatal flaw,\" according to Insider."
      ],
      "text/plain": [
       "<IPython.core.display.Markdown object>"
      ]
     },
     "metadata": {},
     "output_type": "display_data"
    },
    {
     "data": {
      "text/markdown": [
       "[2023-07-22 18:39:00 Three Big Tests Loom For AI, Market Rally](https://www.investors.com/market-trend/stock-market-today/dow-jones-futures-microsoft-google-meta-earnings-are-big-test-for-market-rally/)\n",
       " Dow Jones Futures: Microsoft, Google, Meta Earnings Are Big Test For AI, Market Rally Investor's Business Daily ..."
      ],
      "text/plain": [
       "<IPython.core.display.Markdown object>"
      ]
     },
     "metadata": {},
     "output_type": "display_data"
    },
    {
     "data": {
      "text/markdown": [
       "[2023-07-22 15:13:57 Barron's Weekend Stock Picks: Barbie Bonanza, Vertex's Promising Drug And Tesla Doubts - Mattel  ( NASDAQ:MAT ) , AMC Enter Hldgs  ( NYSE:AMC ) ](https://www.benzinga.com/news/23/07/33333490/barrons-weekend-stock-picks-barbie-bonanza-vertexs-promising-drug-and-tesla-doubts)\n",
       " Benzinga reviews this weekend's top stories covered by Barron's. Here are the articles investors need to read. In \"It's the Summer of Barbie."
      ],
      "text/plain": [
       "<IPython.core.display.Markdown object>"
      ]
     },
     "metadata": {},
     "output_type": "display_data"
    },
    {
     "data": {
      "text/markdown": [
       "[2023-07-22 14:41:00 Correction in Tesla, Netflix shares could last several weeks, stock charts warn](https://www.marketwatch.com/story/tesla-and-netflix-shares-face-several-weeks-of-weakness-stock-charts-warn-2ec05407)\n",
       " The stocks of both Tesla and Netflix fell into correction territory Friday, and charts suggest the selloffs could continue for as long as several weeks."
      ],
      "text/plain": [
       "<IPython.core.display.Markdown object>"
      ]
     },
     "metadata": {},
     "output_type": "display_data"
    },
    {
     "data": {
      "text/markdown": [
       "[2023-07-22 13:37:00 These stock watchers nailed the market's melt-up, but now they're bracing for a fall. Here's what to watch.](https://www.marketwatch.com/story/these-stock-watchers-nailed-the-markets-melt-up-but-now-theyre-bracing-for-a-fall-heres-what-to-watch-3ba46ccf)\n",
       " U.S. stocks are enjoying a breathtaking march higher despite some obvious headwinds. But that streak of winds could come crashing down."
      ],
      "text/plain": [
       "<IPython.core.display.Markdown object>"
      ]
     },
     "metadata": {},
     "output_type": "display_data"
    },
    {
     "data": {
      "text/markdown": [
       "[2023-07-22 13:37:00 Cathie Wood Sold Off $21 Million of Tesla Stock Hours Before Earnings Dip -- Now She's Scooping Up This Magnificent Growth Stock](https://www.fool.com/investing/2023/07/22/cathie-wood-sold-21-million-of-tesla-stock-hours/)\n",
       " Tesla likely remains Cathie Wood's favorite. But she really likes another stock right now, too."
      ],
      "text/plain": [
       "<IPython.core.display.Markdown object>"
      ]
     },
     "metadata": {},
     "output_type": "display_data"
    },
    {
     "data": {
      "text/markdown": [
       "[2023-07-22 13:32:13 Benzinga Bulls And Bears: AMC, Apple, Philip Morris, Ford, And Elon Musk's 'Demon Mode'](https://markets.businessinsider.com/news/stocks/benzinga-bulls-and-bears-amc-apple-philip-morris-ford-and-elon-musk-s-demon-mode-1032467110)\n",
       " Benzinga examined the prospects for many investors' favorite stocks over the last week - here's a look at some of our top stories. The S&P 500 and the Dow Jones Industrial Average ( DJIA ) ended the week on a positive note, with gains of 0.69% and 2.08% respectively, marking the second ..."
      ],
      "text/plain": [
       "<IPython.core.display.Markdown object>"
      ]
     },
     "metadata": {},
     "output_type": "display_data"
    },
    {
     "data": {
      "text/markdown": [
       "[2023-07-22 13:32:12 AMC, Apple, Philip Morris, Ford, And Elon Musk's 'Demon Mode': Bulls And Bears - Apple  ( NASDAQ:AAPL ) , AMC Enter Hldgs  ( NYSE:AMC ) ](https://www.benzinga.com/news/large-cap/23/07/33330243/benzinga-bulls-and-bears-amc-apple-philip-morris-ford-and-elon-musks-demon-mode)\n",
       " Benzinga examined the prospects for many investors' favorite stocks over the last week - here's a look at some of our top stories. The S&P 500 and the Dow Jones Industrial Average ( DJIA ) ended the week on a positive note, with gains of 0.69% and 2.08% respectively, marking the second ..."
      ],
      "text/plain": [
       "<IPython.core.display.Markdown object>"
      ]
     },
     "metadata": {},
     "output_type": "display_data"
    },
    {
     "data": {
      "text/markdown": [
       "[2023-07-22 13:17:00 Marvell Leads 3 AI Stocks Near Buy Points](https://www.investors.com/news/ai-stocks-lead-5-names-near-buy-points/)\n",
       " AI Stocks Lead These 5 Names Near Buy Points Investor's Business Daily ..."
      ],
      "text/plain": [
       "<IPython.core.display.Markdown object>"
      ]
     },
     "metadata": {},
     "output_type": "display_data"
    },
    {
     "data": {
      "text/markdown": [
       "[2023-07-22 12:45:01 People put down deposits for every electric truck in development, leaving dealers in the lurch when they eventually cancel all but one](https://markets.businessinsider.com/news/stocks/dealers-lose-as-customers-place-bets-on-multiple-electric-trucks-2023-7)\n",
       " • Dealers lose in the race to get an electric truck in consumers' driveways. • Dealers have more to lose than manufacturers, who book revenue once the truck leaves the factory. • Order banks are only going to get riskier as EV adoption increases."
      ],
      "text/plain": [
       "<IPython.core.display.Markdown object>"
      ]
     },
     "metadata": {},
     "output_type": "display_data"
    },
    {
     "data": {
      "text/markdown": [
       "[2023-07-22 12:45:00 People put down deposits for every electric truck in development, leaving dealers in the lurch when they eventually cancel all but one](https://www.businessinsider.com/dealers-lose-as-customers-place-bets-on-multiple-electric-trucks-2023-7)\n",
       " Dealers lose as customers place bets on multiple electric trucks - Business Insider ..."
      ],
      "text/plain": [
       "<IPython.core.display.Markdown object>"
      ]
     },
     "metadata": {},
     "output_type": "display_data"
    },
    {
     "data": {
      "text/markdown": [
       "[2023-07-22 12:29:07 Cathie Wood Booked Profit On Some Tesla Holdings Ahead Of Stock's Post-Earnings 11% Plunge - Here's How Much Ark Sold This Week - ARK Next Generation Internet ETF  ( ARCA:ARKW ) , Tesla  ( NASDAQ:TSLA ) , ARK Innovation ETF  ( ARCA:ARKK ) ](https://www.benzinga.com/markets/equities/23/07/33333172/cathie-wood-booked-profit-on-some-tesla-holdings-ahead-of-stocks-post-earnings-11-plunge-heres-h)\n",
       " Tesla, Inc. TSLA is a top holding in many of the Cathie Wood-run Ark Invest's actively managed portfolios. The firm is bullish on the electric vehicle giant and its prospects. This week, Ark, through its flagship Ark Innovation ETF ARKK and Ark Next Generation Internet ETF ARKW, liquidated its ..."
      ],
      "text/plain": [
       "<IPython.core.display.Markdown object>"
      ]
     },
     "metadata": {},
     "output_type": "display_data"
    },
    {
     "data": {
      "text/markdown": [
       "[2023-07-22 12:18:59 Tesla's Earnings Swoon, Ford Ups Ante With F-150 Lightning Price Cuts, Fisker India-Bound And More: Biggest EV Stories Of The Week - Tesla  ( NASDAQ:TSLA ) , Fisker  ( NYSE:FSR ) , Ford Motor  ( NYSE:F ) , Nikola  ( NASDAQ:NKLA ) , Rivian Automotive  ( NASDAQ:RIVN ) ](https://www.benzinga.com/analyst-ratings/analyst-color/23/07/33333146/teslas-earnings-swoon-ford-ups-ante-with-f-150-lightning-price-cuts-fisker-india-bo)\n",
       " Tesla's Post-Earnings Sell-Off, Cybertruck Sightings And More: Tesla reported better-than-expected earnings and revenue for the quarter. Its vehicle margin, excluding regulatory credits, even came in better than expected. Investors, however, sent the stock down by about 10% in a post-earnings ..."
      ],
      "text/plain": [
       "<IPython.core.display.Markdown object>"
      ]
     },
     "metadata": {},
     "output_type": "display_data"
    },
    {
     "data": {
      "text/markdown": [
       "[2023-07-22 12:01:10 Elon Musk's Tesla Stock Overvalued By 1,000% - Market Price 'Disconnected From Reality,' Says Analyst - Tesla  ( NASDAQ:TSLA ) ](https://www.benzinga.com/analyst-ratings/analyst-color/23/07/33333060/elon-musks-tesla-stock-overvalued-by-1-000-market-price-disconnected-from-reality-s)\n",
       " Elon Musk's Tesla Inc. TSLA may be riding high on the AI-fueled tech stock boom of 2023, but not everyone is convinced of its valuation. David Trainer, CEO of investment research firm New Constructs, suggests that the electric vehicle ( EV ) giant is more than 1,000% overvalued, Business Insider ..."
      ],
      "text/plain": [
       "<IPython.core.display.Markdown object>"
      ]
     },
     "metadata": {},
     "output_type": "display_data"
    },
    {
     "data": {
      "text/markdown": [
       "[2023-07-22 12:00:00 If You Invested $1,000 in Tesla in 2018, This Is How Much You Would Have Today](https://www.fool.com/investing/2023/07/22/if-you-invested-1000-in-tesla-in-2018-this-is-how/)\n",
       " Owning this EV stock could have been a huge win for your portfolio."
      ],
      "text/plain": [
       "<IPython.core.display.Markdown object>"
      ]
     },
     "metadata": {},
     "output_type": "display_data"
    },
    {
     "data": {
      "text/markdown": [
       "[2023-07-22 11:20:00 Meet a 64-year-old San Francisco Uber driver who says switching to a Tesla has saved him more than $1,000 a month on gas and maintenance](https://www.businessinsider.com/uber-green-rent-tesla-save-money-ridehail-budgeting-gig-work-2023-7)\n",
       " San Fran Uber driver saves $1,400 a month on gas renting a Tesla EV - Business Insider ..."
      ],
      "text/plain": [
       "<IPython.core.display.Markdown object>"
      ]
     },
     "metadata": {},
     "output_type": "display_data"
    },
    {
     "data": {
      "text/markdown": [
       "[2023-07-22 11:10:00 Austin went from a 'weird' oasis to one of the most expensive cities in the US. Now it's fighting runaway housing prices.](https://www.businessinsider.com/austin-housing-market-prices-surging-multi-unit-zoning-could-decrease-2023-7)\n",
       " Austin housing market prices are surging. Multi-unit housing could fix that. - Business Insider ..."
      ],
      "text/plain": [
       "<IPython.core.display.Markdown object>"
      ]
     },
     "metadata": {},
     "output_type": "display_data"
    },
    {
     "data": {
      "text/markdown": [
       "[2023-07-22 10:47:00 MrBeast plans to take on Hershey's with his Feastables brand - and says shorting a stock 'seems lame'](https://markets.businessinsider.com/news/stocks/mrbeast-feastables-youtube-hershey-buffett-musk-candy-chocolate-short-stocks-2023-7)\n",
       " MrBeast will take on Hershey's with Feastables, says shorting is lame - Markets Insider ..."
      ],
      "text/plain": [
       "<IPython.core.display.Markdown object>"
      ]
     },
     "metadata": {},
     "output_type": "display_data"
    },
    {
     "data": {
      "text/markdown": [
       "[2023-07-22 10:45:00 I spent a day with Rolls-Royce's newest car and saw why it's worth every penny of its $420,000 price tag](https://africa.businessinsider.com/transportation/i-spent-a-day-with-rolls-royces-newest-car-and-saw-why-its-worth-every-penny-of-its/m396gb8)\n",
       " I spent a day with Rolls-Royce's newest car and saw why it's worth every penny of its $420000 price tag - Business Insider Africa ..."
      ],
      "text/plain": [
       "<IPython.core.display.Markdown object>"
      ]
     },
     "metadata": {},
     "output_type": "display_data"
    },
    {
     "data": {
      "text/markdown": [
       "[2023-07-22 09:52:08 Older investors take a pass on bonds](https://theweek.com/feature/1025176/older-investors-take-a-pass-on-bonds)\n",
       " Here are three of the week's top pieces of financial insight, gathered from around the web: More older Americans are investing \"like 30-year-olds,\" said Anne Tergesen in The Wall Street Journal."
      ],
      "text/plain": [
       "<IPython.core.display.Markdown object>"
      ]
     },
     "metadata": {},
     "output_type": "display_data"
    },
    {
     "data": {
      "text/markdown": [
       "[2023-07-22 09:51:00 Could Warren Buffett's Berkshire Hathaway Beat Meta and Tesla in Joining the $1 Trillion Club?](https://www.fool.com/investing/2023/07/22/could-warren-buffetts-berkshire-hathaway-beat-meta/)\n",
       " The current market dynamics favor Meta and Tesla. But things could change."
      ],
      "text/plain": [
       "<IPython.core.display.Markdown object>"
      ]
     },
     "metadata": {},
     "output_type": "display_data"
    },
    {
     "data": {
      "text/markdown": [
       "[2023-07-22 09:13:07 Biden Engages Tech Giants On AI Regulations, Snubs Musk - Microsoft  ( NASDAQ:MSFT ) , Alphabet  ( NASDAQ:GOOG ) , Alphabet  ( NASDAQ:GOOGL ) , Meta Platforms  ( NASDAQ:META ) , Tesla  ( NASDAQ:TSLA ) , Amazon.com  ( NASDAQ:AMZN ) ](https://www.benzinga.com/news/23/07/33332673/elon-musk-preaches-ai-regulations-left-and-right-but-got-snubbed-by-biden-administration-again)\n",
       " In the ongoing push for AI regulations, Elon Musk once again found himself on the outside looking in as the Biden administration steers discussions with other tech giants. What Happened: Musk, the visionary entrepreneur behind Tesla Inc. TSLA and SpaceX, has been an outspoken advocate for ..."
      ],
      "text/plain": [
       "<IPython.core.display.Markdown object>"
      ]
     },
     "metadata": {},
     "output_type": "display_data"
    },
    {
     "data": {
      "text/markdown": [
       "[2023-07-22 07:55:43 Dogecoin Briefly Became 8th-Largest Crypto - Emeren Group  ( NYSE:SOL ) , Tesla  ( NASDAQ:TSLA ) ](https://www.benzinga.com/markets/cryptocurrency/23/07/33332516/elon-musks-favored-dogecoin-briefly-became-8th-largest-crypto-but-then-this-happened)\n",
       " Elon Musk's favored Dogecoin DOGE/USD experienced a rise, briefly claiming the position of the world's eighth-largest cryptocurrency, before encountering an unexpected turn. What Happened: On Friday, Dogecoin, the meme-inspired digital currency, saw its value rise by more than 10% in a single ..."
      ],
      "text/plain": [
       "<IPython.core.display.Markdown object>"
      ]
     },
     "metadata": {},
     "output_type": "display_data"
    },
    {
     "data": {
      "text/markdown": [
       "[2023-07-22 03:57:40 Tesla Cybertruck Reservations Swell To Over 1.9M - Tesla  ( NASDAQ:TSLA ) ](https://www.benzinga.com/markets/equities/23/07/33332166/elon-musks-off-the-hook-cybertruck-demand-comment-proven-right-as-reservations-soar-to-over-1-9m)\n",
       " Tesla Inc. TSLA shares have pulled back notably in the two sessions that followed the electric vehicle maker's earnings release. This, however, hasn't deterred the frenzy about Cybertruck. What Happened: Cybertruck reservations swelled to 1,943,876 as of Friday, according to an online ..."
      ],
      "text/plain": [
       "<IPython.core.display.Markdown object>"
      ]
     },
     "metadata": {},
     "output_type": "display_data"
    },
    {
     "data": {
      "text/markdown": [
       "[2023-07-22 03:11:18 Tesla's Strong Run 'Might Be Over' For Now, Says Investing Expert - NVIDIA  ( NASDAQ:NVDA ) , Broadcom  ( NASDAQ:AVGO ) , Tesla  ( NASDAQ:TSLA ) ](https://www.benzinga.com/analyst-ratings/analyst-color/23/07/33332046/elon-musk-teslas-strong-run-might-be-over-for-now-says-investing-champion)\n",
       " Amid Elon Musk-led Tesla Inc.'s TSLA latest financial reports, concerns have risen as a prominent investing champion suggested that the electric vehicle company's remarkable performance might be at a turning point."
      ],
      "text/plain": [
       "<IPython.core.display.Markdown object>"
      ]
     },
     "metadata": {},
     "output_type": "display_data"
    },
    {
     "data": {
      "text/markdown": [
       "[2023-07-21 22:55:00 Weekly Roundup](https://aap.thestreet.com/story/16129302/1/weekly-rounup.html)\n",
       " The Dow Jones industrial average and the S&P 500 added to their July gains this week, while the Nasdaq Composite was little changed ahead of its underlying index getting rebalanced. Helping lift equities higher were the increasingly popular view the economy will encounter a soft landing and ..."
      ],
      "text/plain": [
       "<IPython.core.display.Markdown object>"
      ]
     },
     "metadata": {},
     "output_type": "display_data"
    },
    {
     "data": {
      "text/markdown": [
       "[2023-07-21 21:24:00 Earnings Wave Is Here; Why These Are The 3 Reports To Watch](https://www.investors.com/market-trend/stock-market-today/dow-jones-futures-why-microsoft-google-meta-earnings-are-key-for-market-rally/)\n",
       " Dow Jones Futures: Why Microsoft, Google, Meta Earnings Are Key For Market Rally Investor's Business Daily ..."
      ],
      "text/plain": [
       "<IPython.core.display.Markdown object>"
      ]
     },
     "metadata": {},
     "output_type": "display_data"
    },
    {
     "data": {
      "text/markdown": [
       "[2023-07-21 20:57:00 Threat or not? Elon Musk gets new hearing on tweet about Tesla workers' stock amid UAW union effort](https://apnews.com/article/tesla-elon-musk-labor-union-twitter-e5fd43697d6caecd42d8cc5eb40527a3)\n",
       " NEW ORLEANS ( AP ) - A federal appeals court Friday said it will reconsider its March ruling that Tesla CEO to take away employees' stock options in a 2018 Twitter post amid an organizing effort by the United Auto Workers union. Three judges on the 5th U.S."
      ],
      "text/plain": [
       "<IPython.core.display.Markdown object>"
      ]
     },
     "metadata": {},
     "output_type": "display_data"
    },
    {
     "data": {
      "text/markdown": [
       "[2023-07-21 20:46:00 Will Big Tech Earnings Keep the Rally Going?](https://www.zacks.com/commentary/2125643/will-big-tech-earnings-keep-the-rally-going)\n",
       " An important part of Tech's improved earnings outlook over the last few months has been a function of more effective cost controls that have helped stabilize margins. But how will the market react?"
      ],
      "text/plain": [
       "<IPython.core.display.Markdown object>"
      ]
     },
     "metadata": {},
     "output_type": "display_data"
    },
    {
     "data": {
      "text/markdown": [
       "[2023-07-21 20:32:48 One measure of 'the market' is up 34% this year while another is only up 6%-here's why](https://www.cnbc.com/2023/07/21/difference-between-the-sp-the-dow-and-the-nasdaq.html)\n",
       " The \"headline\" market indexes tend to move together over long periods, but can diverge wildly over the short term."
      ],
      "text/plain": [
       "<IPython.core.display.Markdown object>"
      ]
     },
     "metadata": {},
     "output_type": "display_data"
    },
    {
     "data": {
      "text/markdown": [
       "[2023-07-21 20:20:00 3 Highly-Ranked Large Cap Stocks to Buy Before Earnings for Big Upside](https://www.zacks.com/stock/news/2125639/3-highly-ranked-large-cap-stocks-to-buy-before-earnings-for-big-upside)\n",
       " Exploring three highly-ranked large-cap stocks--Honeywell, DexCom, and NextEra Energy--that investors might want to buy before their upcoming earnings releases for both near-term and long-term upside."
      ],
      "text/plain": [
       "<IPython.core.display.Markdown object>"
      ]
     },
     "metadata": {},
     "output_type": "display_data"
    },
    {
     "data": {
      "text/markdown": [
       "[2023-07-21 20:12:23 Dow Jones Leads Weekly Gains As Tesla, Netflix Sell-Offs Dent Nasdaq; Big Banks Show Resilience To Volatility - Apple  ( NASDAQ:AAPL ) , Chevron  ( NYSE:CVX ) , Verizon Communications  ( NYSE:VZ ) , Pfizer  ( NYSE:PFE ) , Microsoft  ( NASDAQ:MSFT ) , Tesla  ( NASDAQ:TSLA ) , Mastercard  ( NYSE:MA ) , AT&T  ( NYSE:T ) , Union Pacific  ( NYSE:UNP ) , Visa  ( NYSE:V ) , Unilever  ( NYSE:UL ) , Shell  ( NYSE:SHEL ) , Netflix  ( NASDAQ:NFLX ) , Alphabet  ( NASDAQ:GOOG ) , Meta Platforms  ( NASDAQ:META ) , Bank of America  ( NYSE:BAC ) , Coca-Cola  ( NYSE:KO ) , General Motors  ( NYSE:GM ) , Morgan Stanley  ( NYSE:MS ) , Colgate-Palmolive  ( NYSE:CL ) , 3M  ( NYSE:MMM ) , McDonald's  ( NYSE:MCD ) , Comcast  ( NASDAQ:CMCSA ) , AstraZeneca  ( NASDAQ:AZN ) , Intel  ( NASDAQ:INTC ) , Procter & Gamble  ( NYSE:PG ) , Exxon Mobil  ( NYSE:XOM ) , Charles Schwab  ( NYSE:SCHW ) , Amazon.com  ( NASDAQ:AMZN ) , Boeing  ( NYSE:BA ) ](https://www.benzinga.com/markets/equities/23/07/33329067/dow-jones-leads-weekly-gains-as-tesla-netflix-sell-offs-dent-nasdaq-big-banks-show-resilience-to)\n",
       " The star of the week is the blue-chip Dow Jones, which marked a winning streak of 10 consecutive sessions through Friday, riding high on positive quarterly results from many high-profile defensive stocks. The industrial average is up 2.1% on a weekly basis."
      ],
      "text/plain": [
       "<IPython.core.display.Markdown object>"
      ]
     },
     "metadata": {},
     "output_type": "display_data"
    },
    {
     "data": {
      "text/markdown": [
       "[2023-07-21 19:57:02 What's Going On With Workhorse  ( WKHS )  Stock - Workhorse Gr  ( NASDAQ:WKHS ) ](https://www.benzinga.com/news/23/07/33328504/whats-going-on-with-workhorse-wkhs-stock)\n",
       " Workhorse Group Inc WKHS shares are trading lower by 4.91% to $1.16 going into the close of Friday's session. The stock is falling Friday session despite a lack of company-specific news. Several EV stocks on Thursday fell in symapthy with peer Tesla Inc after the company reported second-quarter ..."
      ],
      "text/plain": [
       "<IPython.core.display.Markdown object>"
      ]
     },
     "metadata": {},
     "output_type": "display_data"
    },
    {
     "data": {
      "text/markdown": [
       "[2023-07-21 19:56:12 What's Going On With ChargePoint  ( CHPT )  Stock - ChargePoint Hldgs  ( NYSE:CHPT ) ](https://www.benzinga.com/news/23/07/33328115/whats-going-on-with-chargepoint-chpt-stock)\n",
       " ChargePoint Holdings Inc CHPT shares are trading higher by 1.1% to $8.35 Friday afternoon. The stock is rising Friday, recovering following Thursday weakness, despite a lack of company-specific news."
      ],
      "text/plain": [
       "<IPython.core.display.Markdown object>"
      ]
     },
     "metadata": {},
     "output_type": "display_data"
    },
    {
     "data": {
      "text/markdown": [
       "[2023-07-21 19:29:00 We tested it and Elon Musk is right: Twitter no longer responds to our emails with a poop emoji](https://www.businessinsider.com/elon-musk-twitter-ends-poop-emoji-press-reply-new-ceo-2023-7)\n",
       " Confirmed: Elon Musk's Twitter drops poop emoji emails - Business Insider ..."
      ],
      "text/plain": [
       "<IPython.core.display.Markdown object>"
      ]
     },
     "metadata": {},
     "output_type": "display_data"
    }
   ],
   "source": [
    "url = f'https://www.alphavantage.co/query?function=NEWS_SENTIMENT&tickers=TSLA&apikey={ALPHAVANTAGE_API_KEY}'\n",
    "r = requests.get(url)\n",
    "data = r.json()\n",
    "\n",
    "for item in data['feed']:\n",
    "    markdown_str = \"\"\n",
    "    date_object = datetime.strptime(item['time_published'], \"%Y%m%dT%H%M%S\")\n",
    "    markdown_str += f\"[{str(date_object)} {item['title']}]({item['url']})\\n {item['summary']}\"\n",
    "    display(Markdown(markdown_str))\n"
   ]
  },
  {
   "cell_type": "code",
   "execution_count": 61,
   "metadata": {},
   "outputs": [
    {
     "data": {
      "text/html": [
       "<div>\n",
       "<style scoped>\n",
       "    .dataframe tbody tr th:only-of-type {\n",
       "        vertical-align: middle;\n",
       "    }\n",
       "\n",
       "    .dataframe tbody tr th {\n",
       "        vertical-align: top;\n",
       "    }\n",
       "\n",
       "    .dataframe thead th {\n",
       "        text-align: right;\n",
       "    }\n",
       "</style>\n",
       "<table border=\"1\" class=\"dataframe\">\n",
       "  <thead>\n",
       "    <tr style=\"text-align: right;\">\n",
       "      <th></th>\n",
       "      <th>2022-12-31</th>\n",
       "      <th>2021-12-31</th>\n",
       "      <th>2020-12-31</th>\n",
       "      <th>2019-12-31</th>\n",
       "      <th>2018-12-31</th>\n",
       "    </tr>\n",
       "  </thead>\n",
       "  <tbody>\n",
       "    <tr>\n",
       "      <th>fiscalDateEnding</th>\n",
       "      <td>2022-12-31</td>\n",
       "      <td>2021-12-31</td>\n",
       "      <td>2020-12-31</td>\n",
       "      <td>2019-12-31</td>\n",
       "      <td>2018-12-31</td>\n",
       "    </tr>\n",
       "    <tr>\n",
       "      <th>reportedCurrency</th>\n",
       "      <td>USD</td>\n",
       "      <td>USD</td>\n",
       "      <td>USD</td>\n",
       "      <td>USD</td>\n",
       "      <td>USD</td>\n",
       "    </tr>\n",
       "    <tr>\n",
       "      <th>grossProfit</th>\n",
       "      <td>32687000000</td>\n",
       "      <td>31486000000</td>\n",
       "      <td>30865000000</td>\n",
       "      <td>31533000000</td>\n",
       "      <td>36936000000</td>\n",
       "    </tr>\n",
       "    <tr>\n",
       "      <th>totalRevenue</th>\n",
       "      <td>60530000000</td>\n",
       "      <td>57350000000</td>\n",
       "      <td>55179000000</td>\n",
       "      <td>57714000000</td>\n",
       "      <td>79591000000</td>\n",
       "    </tr>\n",
       "    <tr>\n",
       "      <th>costOfRevenue</th>\n",
       "      <td>27842000000</td>\n",
       "      <td>25865000000</td>\n",
       "      <td>24314000000</td>\n",
       "      <td>26181000000</td>\n",
       "      <td>42655000000</td>\n",
       "    </tr>\n",
       "    <tr>\n",
       "      <th>costofGoodsAndServicesSold</th>\n",
       "      <td>385000000</td>\n",
       "      <td>300000000</td>\n",
       "      <td>439000000</td>\n",
       "      <td>591000000</td>\n",
       "      <td>42655000000</td>\n",
       "    </tr>\n",
       "    <tr>\n",
       "      <th>operatingIncome</th>\n",
       "      <td>6408000000</td>\n",
       "      <td>4786000000</td>\n",
       "      <td>4609000000</td>\n",
       "      <td>9004000000</td>\n",
       "      <td>10838000000</td>\n",
       "    </tr>\n",
       "    <tr>\n",
       "      <th>sellingGeneralAndAdministrative</th>\n",
       "      <td>18609000000</td>\n",
       "      <td>18745000000</td>\n",
       "      <td>20561000000</td>\n",
       "      <td>18724000000</td>\n",
       "      <td>19366000000</td>\n",
       "    </tr>\n",
       "    <tr>\n",
       "      <th>researchAndDevelopment</th>\n",
       "      <td>6567000000</td>\n",
       "      <td>6488000000</td>\n",
       "      <td>6262000000</td>\n",
       "      <td>5910000000</td>\n",
       "      <td>5379000000</td>\n",
       "    </tr>\n",
       "    <tr>\n",
       "      <th>operatingExpenses</th>\n",
       "      <td>26279000000</td>\n",
       "      <td>26700000000</td>\n",
       "      <td>30966000000</td>\n",
       "      <td>27484000000</td>\n",
       "      <td>26098000000</td>\n",
       "    </tr>\n",
       "    <tr>\n",
       "      <th>investmentIncomeNet</th>\n",
       "      <td>None</td>\n",
       "      <td>None</td>\n",
       "      <td>None</td>\n",
       "      <td>None</td>\n",
       "      <td>None</td>\n",
       "    </tr>\n",
       "    <tr>\n",
       "      <th>netInterestIncome</th>\n",
       "      <td>-1216000000</td>\n",
       "      <td>-1155000000</td>\n",
       "      <td>-1288000000</td>\n",
       "      <td>-1344000000</td>\n",
       "      <td>-723000000</td>\n",
       "    </tr>\n",
       "    <tr>\n",
       "      <th>interestIncome</th>\n",
       "      <td>162000000</td>\n",
       "      <td>52000000</td>\n",
       "      <td>105000000</td>\n",
       "      <td>349000000</td>\n",
       "      <td>264000000</td>\n",
       "    </tr>\n",
       "    <tr>\n",
       "      <th>interestExpense</th>\n",
       "      <td>1216000000</td>\n",
       "      <td>1155000000</td>\n",
       "      <td>1288000000</td>\n",
       "      <td>1344000000</td>\n",
       "      <td>723000000</td>\n",
       "    </tr>\n",
       "    <tr>\n",
       "      <th>nonInterestIncome</th>\n",
       "      <td>365000000</td>\n",
       "      <td>337000000</td>\n",
       "      <td>-92000000</td>\n",
       "      <td>None</td>\n",
       "      <td>None</td>\n",
       "    </tr>\n",
       "    <tr>\n",
       "      <th>otherNonOperatingIncome</th>\n",
       "      <td>443000000</td>\n",
       "      <td>225000000</td>\n",
       "      <td>156000000</td>\n",
       "      <td>968000000</td>\n",
       "      <td>-1152000000</td>\n",
       "    </tr>\n",
       "    <tr>\n",
       "      <th>depreciation</th>\n",
       "      <td>2407000000</td>\n",
       "      <td>3888000000</td>\n",
       "      <td>4227000000</td>\n",
       "      <td>4209000000</td>\n",
       "      <td>3127000000</td>\n",
       "    </tr>\n",
       "    <tr>\n",
       "      <th>depreciationAndAmortization</th>\n",
       "      <td>2395000000</td>\n",
       "      <td>2529000000</td>\n",
       "      <td>2468000000</td>\n",
       "      <td>1850000000</td>\n",
       "      <td>1353000000</td>\n",
       "    </tr>\n",
       "    <tr>\n",
       "      <th>incomeBeforeTax</th>\n",
       "      <td>1013000000</td>\n",
       "      <td>5867000000</td>\n",
       "      <td>4230000000</td>\n",
       "      <td>9491000000</td>\n",
       "      <td>11347000000</td>\n",
       "    </tr>\n",
       "    <tr>\n",
       "      <th>incomeTaxExpense</th>\n",
       "      <td>-626000000</td>\n",
       "      <td>124000000</td>\n",
       "      <td>-1360000000</td>\n",
       "      <td>60000000</td>\n",
       "      <td>2619000000</td>\n",
       "    </tr>\n",
       "    <tr>\n",
       "      <th>interestAndDebtExpense</th>\n",
       "      <td>1216000000</td>\n",
       "      <td>1155000000</td>\n",
       "      <td>1288000000</td>\n",
       "      <td>1344000000</td>\n",
       "      <td>723000000</td>\n",
       "    </tr>\n",
       "    <tr>\n",
       "      <th>netIncomeFromContinuingOperations</th>\n",
       "      <td>1783000000</td>\n",
       "      <td>4712000000</td>\n",
       "      <td>3932000000</td>\n",
       "      <td>7146000000</td>\n",
       "      <td>8723000000</td>\n",
       "    </tr>\n",
       "    <tr>\n",
       "      <th>comprehensiveIncomeNetOfTax</th>\n",
       "      <td>8134000000</td>\n",
       "      <td>10582000000</td>\n",
       "      <td>4850000000</td>\n",
       "      <td>10324000000</td>\n",
       "      <td>8252000000</td>\n",
       "    </tr>\n",
       "    <tr>\n",
       "      <th>ebit</th>\n",
       "      <td>2229000000</td>\n",
       "      <td>7022000000</td>\n",
       "      <td>5518000000</td>\n",
       "      <td>10835000000</td>\n",
       "      <td>12070000000</td>\n",
       "    </tr>\n",
       "    <tr>\n",
       "      <th>ebitda</th>\n",
       "      <td>4624000000</td>\n",
       "      <td>9551000000</td>\n",
       "      <td>7986000000</td>\n",
       "      <td>12685000000</td>\n",
       "      <td>13423000000</td>\n",
       "    </tr>\n",
       "    <tr>\n",
       "      <th>netIncome</th>\n",
       "      <td>1639000000</td>\n",
       "      <td>5743000000</td>\n",
       "      <td>5590000000</td>\n",
       "      <td>9431000000</td>\n",
       "      <td>8728000000</td>\n",
       "    </tr>\n",
       "  </tbody>\n",
       "</table>\n",
       "</div>"
      ],
      "text/plain": [
       "                                    2022-12-31   2021-12-31   2020-12-31  \\\n",
       "fiscalDateEnding                    2022-12-31   2021-12-31   2020-12-31   \n",
       "reportedCurrency                           USD          USD          USD   \n",
       "grossProfit                        32687000000  31486000000  30865000000   \n",
       "totalRevenue                       60530000000  57350000000  55179000000   \n",
       "costOfRevenue                      27842000000  25865000000  24314000000   \n",
       "costofGoodsAndServicesSold           385000000    300000000    439000000   \n",
       "operatingIncome                     6408000000   4786000000   4609000000   \n",
       "sellingGeneralAndAdministrative    18609000000  18745000000  20561000000   \n",
       "researchAndDevelopment              6567000000   6488000000   6262000000   \n",
       "operatingExpenses                  26279000000  26700000000  30966000000   \n",
       "investmentIncomeNet                       None         None         None   \n",
       "netInterestIncome                  -1216000000  -1155000000  -1288000000   \n",
       "interestIncome                       162000000     52000000    105000000   \n",
       "interestExpense                     1216000000   1155000000   1288000000   \n",
       "nonInterestIncome                    365000000    337000000    -92000000   \n",
       "otherNonOperatingIncome              443000000    225000000    156000000   \n",
       "depreciation                        2407000000   3888000000   4227000000   \n",
       "depreciationAndAmortization         2395000000   2529000000   2468000000   \n",
       "incomeBeforeTax                     1013000000   5867000000   4230000000   \n",
       "incomeTaxExpense                    -626000000    124000000  -1360000000   \n",
       "interestAndDebtExpense              1216000000   1155000000   1288000000   \n",
       "netIncomeFromContinuingOperations   1783000000   4712000000   3932000000   \n",
       "comprehensiveIncomeNetOfTax         8134000000  10582000000   4850000000   \n",
       "ebit                                2229000000   7022000000   5518000000   \n",
       "ebitda                              4624000000   9551000000   7986000000   \n",
       "netIncome                           1639000000   5743000000   5590000000   \n",
       "\n",
       "                                    2019-12-31   2018-12-31  \n",
       "fiscalDateEnding                    2019-12-31   2018-12-31  \n",
       "reportedCurrency                           USD          USD  \n",
       "grossProfit                        31533000000  36936000000  \n",
       "totalRevenue                       57714000000  79591000000  \n",
       "costOfRevenue                      26181000000  42655000000  \n",
       "costofGoodsAndServicesSold           591000000  42655000000  \n",
       "operatingIncome                     9004000000  10838000000  \n",
       "sellingGeneralAndAdministrative    18724000000  19366000000  \n",
       "researchAndDevelopment              5910000000   5379000000  \n",
       "operatingExpenses                  27484000000  26098000000  \n",
       "investmentIncomeNet                       None         None  \n",
       "netInterestIncome                  -1344000000   -723000000  \n",
       "interestIncome                       349000000    264000000  \n",
       "interestExpense                     1344000000    723000000  \n",
       "nonInterestIncome                         None         None  \n",
       "otherNonOperatingIncome              968000000  -1152000000  \n",
       "depreciation                        4209000000   3127000000  \n",
       "depreciationAndAmortization         1850000000   1353000000  \n",
       "incomeBeforeTax                     9491000000  11347000000  \n",
       "incomeTaxExpense                      60000000   2619000000  \n",
       "interestAndDebtExpense              1344000000    723000000  \n",
       "netIncomeFromContinuingOperations   7146000000   8723000000  \n",
       "comprehensiveIncomeNetOfTax        10324000000   8252000000  \n",
       "ebit                               10835000000  12070000000  \n",
       "ebitda                             12685000000  13423000000  \n",
       "netIncome                           9431000000   8728000000  "
      ]
     },
     "execution_count": 61,
     "metadata": {},
     "output_type": "execute_result"
    }
   ],
   "source": [
    "# income statement\n",
    "url = f'https://www.alphavantage.co/query?function=INCOME_STATEMENT&symbol=IBM&apikey={ALPHAVANTAGE_API_KEY}'\n",
    "r = requests.get(url)\n",
    "data = r.json()\n",
    "pd.DataFrame({d['fiscalDateEnding']:d for d in data['annualReports']})\n"
   ]
  },
  {
   "cell_type": "code",
   "execution_count": 62,
   "metadata": {},
   "outputs": [
    {
     "data": {
      "text/html": [
       "<div>\n",
       "<style scoped>\n",
       "    .dataframe tbody tr th:only-of-type {\n",
       "        vertical-align: middle;\n",
       "    }\n",
       "\n",
       "    .dataframe tbody tr th {\n",
       "        vertical-align: top;\n",
       "    }\n",
       "\n",
       "    .dataframe thead th {\n",
       "        text-align: right;\n",
       "    }\n",
       "</style>\n",
       "<table border=\"1\" class=\"dataframe\">\n",
       "  <thead>\n",
       "    <tr style=\"text-align: right;\">\n",
       "      <th></th>\n",
       "      <th>2022-12-31</th>\n",
       "      <th>2021-12-31</th>\n",
       "      <th>2020-12-31</th>\n",
       "      <th>2019-12-31</th>\n",
       "      <th>2018-12-31</th>\n",
       "    </tr>\n",
       "  </thead>\n",
       "  <tbody>\n",
       "    <tr>\n",
       "      <th>fiscalDateEnding</th>\n",
       "      <td>2022-12-31</td>\n",
       "      <td>2021-12-31</td>\n",
       "      <td>2020-12-31</td>\n",
       "      <td>2019-12-31</td>\n",
       "      <td>2018-12-31</td>\n",
       "    </tr>\n",
       "    <tr>\n",
       "      <th>reportedCurrency</th>\n",
       "      <td>USD</td>\n",
       "      <td>USD</td>\n",
       "      <td>USD</td>\n",
       "      <td>USD</td>\n",
       "      <td>USD</td>\n",
       "    </tr>\n",
       "    <tr>\n",
       "      <th>totalAssets</th>\n",
       "      <td>127243000000</td>\n",
       "      <td>132001000000</td>\n",
       "      <td>155971000000</td>\n",
       "      <td>152186000000</td>\n",
       "      <td>123382000000</td>\n",
       "    </tr>\n",
       "    <tr>\n",
       "      <th>totalCurrentAssets</th>\n",
       "      <td>29118000000</td>\n",
       "      <td>29539000000</td>\n",
       "      <td>39165000000</td>\n",
       "      <td>38420000000</td>\n",
       "      <td>49146000000</td>\n",
       "    </tr>\n",
       "    <tr>\n",
       "      <th>cashAndCashEquivalentsAtCarryingValue</th>\n",
       "      <td>7886000000</td>\n",
       "      <td>6650000000</td>\n",
       "      <td>13188000000</td>\n",
       "      <td>8172000000</td>\n",
       "      <td>11379000000</td>\n",
       "    </tr>\n",
       "    <tr>\n",
       "      <th>cashAndShortTermInvestments</th>\n",
       "      <td>7886000000</td>\n",
       "      <td>6650000000</td>\n",
       "      <td>13812000000</td>\n",
       "      <td>8868000000</td>\n",
       "      <td>11997000000</td>\n",
       "    </tr>\n",
       "    <tr>\n",
       "      <th>inventory</th>\n",
       "      <td>1552000000</td>\n",
       "      <td>1649000000</td>\n",
       "      <td>1812000000</td>\n",
       "      <td>1619000000</td>\n",
       "      <td>1682000000</td>\n",
       "    </tr>\n",
       "    <tr>\n",
       "      <th>currentNetReceivables</th>\n",
       "      <td>14209000000</td>\n",
       "      <td>14977000000</td>\n",
       "      <td>18738000000</td>\n",
       "      <td>23795000000</td>\n",
       "      <td>30563000000</td>\n",
       "    </tr>\n",
       "    <tr>\n",
       "      <th>totalNonCurrentAssets</th>\n",
       "      <td>96874000000</td>\n",
       "      <td>101786000000</td>\n",
       "      <td>115864000000</td>\n",
       "      <td>112878000000</td>\n",
       "      <td>68067000000</td>\n",
       "    </tr>\n",
       "    <tr>\n",
       "      <th>propertyPlantEquipment</th>\n",
       "      <td>5334000000</td>\n",
       "      <td>5694000000</td>\n",
       "      <td>6205000000</td>\n",
       "      <td>10010000000</td>\n",
       "      <td>10792000000</td>\n",
       "    </tr>\n",
       "    <tr>\n",
       "      <th>accumulatedDepreciationAmortizationPPE</th>\n",
       "      <td>13361000000</td>\n",
       "      <td>14390000000</td>\n",
       "      <td>13895000000</td>\n",
       "      <td>22018000000</td>\n",
       "      <td>21668000000</td>\n",
       "    </tr>\n",
       "    <tr>\n",
       "      <th>intangibleAssets</th>\n",
       "      <td>67133000000</td>\n",
       "      <td>68154000000</td>\n",
       "      <td>73413000000</td>\n",
       "      <td>73457000000</td>\n",
       "      <td>39352000000</td>\n",
       "    </tr>\n",
       "    <tr>\n",
       "      <th>intangibleAssetsExcludingGoodwill</th>\n",
       "      <td>11184000000</td>\n",
       "      <td>12511000000</td>\n",
       "      <td>13796000000</td>\n",
       "      <td>15235000000</td>\n",
       "      <td>3087000000</td>\n",
       "    </tr>\n",
       "    <tr>\n",
       "      <th>goodwill</th>\n",
       "      <td>55949000000</td>\n",
       "      <td>55643000000</td>\n",
       "      <td>53765000000</td>\n",
       "      <td>52471000000</td>\n",
       "      <td>36265000000</td>\n",
       "    </tr>\n",
       "    <tr>\n",
       "      <th>investments</th>\n",
       "      <td>None</td>\n",
       "      <td>199000000</td>\n",
       "      <td>923000000</td>\n",
       "      <td>974000000</td>\n",
       "      <td>1157000000</td>\n",
       "    </tr>\n",
       "    <tr>\n",
       "      <th>longTermInvestments</th>\n",
       "      <td>142000000</td>\n",
       "      <td>159000000</td>\n",
       "      <td>172000000</td>\n",
       "      <td>184000000</td>\n",
       "      <td>192000000</td>\n",
       "    </tr>\n",
       "    <tr>\n",
       "      <th>shortTermInvestments</th>\n",
       "      <td>852000000</td>\n",
       "      <td>600000000</td>\n",
       "      <td>600000000</td>\n",
       "      <td>696000000</td>\n",
       "      <td>618000000</td>\n",
       "    </tr>\n",
       "    <tr>\n",
       "      <th>otherCurrentAssets</th>\n",
       "      <td>2610000000</td>\n",
       "      <td>5663000000</td>\n",
       "      <td>4776000000</td>\n",
       "      <td>4138000000</td>\n",
       "      <td>4904000000</td>\n",
       "    </tr>\n",
       "    <tr>\n",
       "      <th>otherNonCurrentAssets</th>\n",
       "      <td>None</td>\n",
       "      <td>None</td>\n",
       "      <td>None</td>\n",
       "      <td>None</td>\n",
       "      <td>None</td>\n",
       "    </tr>\n",
       "    <tr>\n",
       "      <th>totalLiabilities</th>\n",
       "      <td>105222000000</td>\n",
       "      <td>113005000000</td>\n",
       "      <td>135244000000</td>\n",
       "      <td>131202000000</td>\n",
       "      <td>106452000000</td>\n",
       "    </tr>\n",
       "    <tr>\n",
       "      <th>totalCurrentLiabilities</th>\n",
       "      <td>31505000000</td>\n",
       "      <td>33619000000</td>\n",
       "      <td>39869000000</td>\n",
       "      <td>37701000000</td>\n",
       "      <td>38227000000</td>\n",
       "    </tr>\n",
       "    <tr>\n",
       "      <th>currentAccountsPayable</th>\n",
       "      <td>4051000000</td>\n",
       "      <td>3955000000</td>\n",
       "      <td>4033000000</td>\n",
       "      <td>4896000000</td>\n",
       "      <td>6558000000</td>\n",
       "    </tr>\n",
       "    <tr>\n",
       "      <th>deferredRevenue</th>\n",
       "      <td>15531000000</td>\n",
       "      <td>16095000000</td>\n",
       "      <td>17134000000</td>\n",
       "      <td>15877000000</td>\n",
       "      <td>14610000000</td>\n",
       "    </tr>\n",
       "    <tr>\n",
       "      <th>currentDebt</th>\n",
       "      <td>9511000000</td>\n",
       "      <td>13551000000</td>\n",
       "      <td>14102000000</td>\n",
       "      <td>16319000000</td>\n",
       "      <td>10207000000</td>\n",
       "    </tr>\n",
       "    <tr>\n",
       "      <th>shortTermDebt</th>\n",
       "      <td>4760000000</td>\n",
       "      <td>6787000000</td>\n",
       "      <td>7116000000</td>\n",
       "      <td>8797000000</td>\n",
       "      <td>10207000000</td>\n",
       "    </tr>\n",
       "    <tr>\n",
       "      <th>totalNonCurrentLiabilities</th>\n",
       "      <td>83414000000</td>\n",
       "      <td>90188000000</td>\n",
       "      <td>106679000000</td>\n",
       "      <td>100877000000</td>\n",
       "      <td>76767000000</td>\n",
       "    </tr>\n",
       "    <tr>\n",
       "      <th>capitalLeaseObligations</th>\n",
       "      <td>164000000</td>\n",
       "      <td>63000000</td>\n",
       "      <td>60000000</td>\n",
       "      <td>5259000000</td>\n",
       "      <td>None</td>\n",
       "    </tr>\n",
       "    <tr>\n",
       "      <th>longTermDebt</th>\n",
       "      <td>47190000000</td>\n",
       "      <td>56193000000</td>\n",
       "      <td>68416000000</td>\n",
       "      <td>65953000000</td>\n",
       "      <td>42656000000</td>\n",
       "    </tr>\n",
       "    <tr>\n",
       "      <th>currentLongTermDebt</th>\n",
       "      <td>4676000000</td>\n",
       "      <td>6728000000</td>\n",
       "      <td>6956000000</td>\n",
       "      <td>7522000000</td>\n",
       "      <td>7051000000</td>\n",
       "    </tr>\n",
       "    <tr>\n",
       "      <th>longTermDebtNoncurrent</th>\n",
       "      <td>46189000000</td>\n",
       "      <td>44917000000</td>\n",
       "      <td>54217000000</td>\n",
       "      <td>54102000000</td>\n",
       "      <td>35605000000</td>\n",
       "    </tr>\n",
       "    <tr>\n",
       "      <th>shortLongTermDebtTotal</th>\n",
       "      <td>107759000000</td>\n",
       "      <td>110496000000</td>\n",
       "      <td>130178000000</td>\n",
       "      <td>132187000000</td>\n",
       "      <td>52863000000</td>\n",
       "    </tr>\n",
       "    <tr>\n",
       "      <th>otherCurrentLiabilities</th>\n",
       "      <td>9788000000</td>\n",
       "      <td>9386000000</td>\n",
       "      <td>13588000000</td>\n",
       "      <td>10602000000</td>\n",
       "      <td>10297000000</td>\n",
       "    </tr>\n",
       "    <tr>\n",
       "      <th>otherNonCurrentLiabilities</th>\n",
       "      <td>12243000000</td>\n",
       "      <td>13996000000</td>\n",
       "      <td>14180000000</td>\n",
       "      <td>14526000000</td>\n",
       "      <td>12174000000</td>\n",
       "    </tr>\n",
       "    <tr>\n",
       "      <th>totalShareholderEquity</th>\n",
       "      <td>21944000000</td>\n",
       "      <td>18901000000</td>\n",
       "      <td>20597000000</td>\n",
       "      <td>20841000000</td>\n",
       "      <td>16796000000</td>\n",
       "    </tr>\n",
       "    <tr>\n",
       "      <th>treasuryStock</th>\n",
       "      <td>169484000000</td>\n",
       "      <td>169392000000</td>\n",
       "      <td>169339000000</td>\n",
       "      <td>169413000000</td>\n",
       "      <td>168071000000</td>\n",
       "    </tr>\n",
       "    <tr>\n",
       "      <th>retainedEarnings</th>\n",
       "      <td>149825000000</td>\n",
       "      <td>154209000000</td>\n",
       "      <td>162717000000</td>\n",
       "      <td>162954000000</td>\n",
       "      <td>159206000000</td>\n",
       "    </tr>\n",
       "    <tr>\n",
       "      <th>commonStock</th>\n",
       "      <td>58343000000</td>\n",
       "      <td>57319000000</td>\n",
       "      <td>56556000000</td>\n",
       "      <td>55895000000</td>\n",
       "      <td>55151000000</td>\n",
       "    </tr>\n",
       "    <tr>\n",
       "      <th>commonStockSharesOutstanding</th>\n",
       "      <td>906091977</td>\n",
       "      <td>898068600</td>\n",
       "      <td>892653424</td>\n",
       "      <td>887110455</td>\n",
       "      <td>892479411</td>\n",
       "    </tr>\n",
       "  </tbody>\n",
       "</table>\n",
       "</div>"
      ],
      "text/plain": [
       "                                          2022-12-31    2021-12-31  \\\n",
       "fiscalDateEnding                          2022-12-31    2021-12-31   \n",
       "reportedCurrency                                 USD           USD   \n",
       "totalAssets                             127243000000  132001000000   \n",
       "totalCurrentAssets                       29118000000   29539000000   \n",
       "cashAndCashEquivalentsAtCarryingValue     7886000000    6650000000   \n",
       "cashAndShortTermInvestments               7886000000    6650000000   \n",
       "inventory                                 1552000000    1649000000   \n",
       "currentNetReceivables                    14209000000   14977000000   \n",
       "totalNonCurrentAssets                    96874000000  101786000000   \n",
       "propertyPlantEquipment                    5334000000    5694000000   \n",
       "accumulatedDepreciationAmortizationPPE   13361000000   14390000000   \n",
       "intangibleAssets                         67133000000   68154000000   \n",
       "intangibleAssetsExcludingGoodwill        11184000000   12511000000   \n",
       "goodwill                                 55949000000   55643000000   \n",
       "investments                                     None     199000000   \n",
       "longTermInvestments                        142000000     159000000   \n",
       "shortTermInvestments                       852000000     600000000   \n",
       "otherCurrentAssets                        2610000000    5663000000   \n",
       "otherNonCurrentAssets                           None          None   \n",
       "totalLiabilities                        105222000000  113005000000   \n",
       "totalCurrentLiabilities                  31505000000   33619000000   \n",
       "currentAccountsPayable                    4051000000    3955000000   \n",
       "deferredRevenue                          15531000000   16095000000   \n",
       "currentDebt                               9511000000   13551000000   \n",
       "shortTermDebt                             4760000000    6787000000   \n",
       "totalNonCurrentLiabilities               83414000000   90188000000   \n",
       "capitalLeaseObligations                    164000000      63000000   \n",
       "longTermDebt                             47190000000   56193000000   \n",
       "currentLongTermDebt                       4676000000    6728000000   \n",
       "longTermDebtNoncurrent                   46189000000   44917000000   \n",
       "shortLongTermDebtTotal                  107759000000  110496000000   \n",
       "otherCurrentLiabilities                   9788000000    9386000000   \n",
       "otherNonCurrentLiabilities               12243000000   13996000000   \n",
       "totalShareholderEquity                   21944000000   18901000000   \n",
       "treasuryStock                           169484000000  169392000000   \n",
       "retainedEarnings                        149825000000  154209000000   \n",
       "commonStock                              58343000000   57319000000   \n",
       "commonStockSharesOutstanding               906091977     898068600   \n",
       "\n",
       "                                          2020-12-31    2019-12-31  \\\n",
       "fiscalDateEnding                          2020-12-31    2019-12-31   \n",
       "reportedCurrency                                 USD           USD   \n",
       "totalAssets                             155971000000  152186000000   \n",
       "totalCurrentAssets                       39165000000   38420000000   \n",
       "cashAndCashEquivalentsAtCarryingValue    13188000000    8172000000   \n",
       "cashAndShortTermInvestments              13812000000    8868000000   \n",
       "inventory                                 1812000000    1619000000   \n",
       "currentNetReceivables                    18738000000   23795000000   \n",
       "totalNonCurrentAssets                   115864000000  112878000000   \n",
       "propertyPlantEquipment                    6205000000   10010000000   \n",
       "accumulatedDepreciationAmortizationPPE   13895000000   22018000000   \n",
       "intangibleAssets                         73413000000   73457000000   \n",
       "intangibleAssetsExcludingGoodwill        13796000000   15235000000   \n",
       "goodwill                                 53765000000   52471000000   \n",
       "investments                                923000000     974000000   \n",
       "longTermInvestments                        172000000     184000000   \n",
       "shortTermInvestments                       600000000     696000000   \n",
       "otherCurrentAssets                        4776000000    4138000000   \n",
       "otherNonCurrentAssets                           None          None   \n",
       "totalLiabilities                        135244000000  131202000000   \n",
       "totalCurrentLiabilities                  39869000000   37701000000   \n",
       "currentAccountsPayable                    4033000000    4896000000   \n",
       "deferredRevenue                          17134000000   15877000000   \n",
       "currentDebt                              14102000000   16319000000   \n",
       "shortTermDebt                             7116000000    8797000000   \n",
       "totalNonCurrentLiabilities              106679000000  100877000000   \n",
       "capitalLeaseObligations                     60000000    5259000000   \n",
       "longTermDebt                             68416000000   65953000000   \n",
       "currentLongTermDebt                       6956000000    7522000000   \n",
       "longTermDebtNoncurrent                   54217000000   54102000000   \n",
       "shortLongTermDebtTotal                  130178000000  132187000000   \n",
       "otherCurrentLiabilities                  13588000000   10602000000   \n",
       "otherNonCurrentLiabilities               14180000000   14526000000   \n",
       "totalShareholderEquity                   20597000000   20841000000   \n",
       "treasuryStock                           169339000000  169413000000   \n",
       "retainedEarnings                        162717000000  162954000000   \n",
       "commonStock                              56556000000   55895000000   \n",
       "commonStockSharesOutstanding               892653424     887110455   \n",
       "\n",
       "                                          2018-12-31  \n",
       "fiscalDateEnding                          2018-12-31  \n",
       "reportedCurrency                                 USD  \n",
       "totalAssets                             123382000000  \n",
       "totalCurrentAssets                       49146000000  \n",
       "cashAndCashEquivalentsAtCarryingValue    11379000000  \n",
       "cashAndShortTermInvestments              11997000000  \n",
       "inventory                                 1682000000  \n",
       "currentNetReceivables                    30563000000  \n",
       "totalNonCurrentAssets                    68067000000  \n",
       "propertyPlantEquipment                   10792000000  \n",
       "accumulatedDepreciationAmortizationPPE   21668000000  \n",
       "intangibleAssets                         39352000000  \n",
       "intangibleAssetsExcludingGoodwill         3087000000  \n",
       "goodwill                                 36265000000  \n",
       "investments                               1157000000  \n",
       "longTermInvestments                        192000000  \n",
       "shortTermInvestments                       618000000  \n",
       "otherCurrentAssets                        4904000000  \n",
       "otherNonCurrentAssets                           None  \n",
       "totalLiabilities                        106452000000  \n",
       "totalCurrentLiabilities                  38227000000  \n",
       "currentAccountsPayable                    6558000000  \n",
       "deferredRevenue                          14610000000  \n",
       "currentDebt                              10207000000  \n",
       "shortTermDebt                            10207000000  \n",
       "totalNonCurrentLiabilities               76767000000  \n",
       "capitalLeaseObligations                         None  \n",
       "longTermDebt                             42656000000  \n",
       "currentLongTermDebt                       7051000000  \n",
       "longTermDebtNoncurrent                   35605000000  \n",
       "shortLongTermDebtTotal                   52863000000  \n",
       "otherCurrentLiabilities                  10297000000  \n",
       "otherNonCurrentLiabilities               12174000000  \n",
       "totalShareholderEquity                   16796000000  \n",
       "treasuryStock                           168071000000  \n",
       "retainedEarnings                        159206000000  \n",
       "commonStock                              55151000000  \n",
       "commonStockSharesOutstanding               892479411  "
      ]
     },
     "execution_count": 62,
     "metadata": {},
     "output_type": "execute_result"
    }
   ],
   "source": [
    "# balance sheet\n",
    "url = f'https://www.alphavantage.co/query?function=BALANCE_SHEET&symbol=IBM&apikey={ALPHAVANTAGE_API_KEY}'\n",
    "r = requests.get(url)\n",
    "data = r.json()\n",
    "pd.DataFrame({d['fiscalDateEnding']:d for d in data['annualReports']})\n"
   ]
  },
  {
   "cell_type": "code",
   "execution_count": 63,
   "metadata": {},
   "outputs": [
    {
     "data": {
      "text/html": [
       "<div>\n",
       "<style scoped>\n",
       "    .dataframe tbody tr th:only-of-type {\n",
       "        vertical-align: middle;\n",
       "    }\n",
       "\n",
       "    .dataframe tbody tr th {\n",
       "        vertical-align: top;\n",
       "    }\n",
       "\n",
       "    .dataframe thead th {\n",
       "        text-align: right;\n",
       "    }\n",
       "</style>\n",
       "<table border=\"1\" class=\"dataframe\">\n",
       "  <thead>\n",
       "    <tr style=\"text-align: right;\">\n",
       "      <th></th>\n",
       "      <th>2022-12-31</th>\n",
       "      <th>2021-12-31</th>\n",
       "      <th>2020-12-31</th>\n",
       "      <th>2019-12-31</th>\n",
       "      <th>2018-12-31</th>\n",
       "    </tr>\n",
       "  </thead>\n",
       "  <tbody>\n",
       "    <tr>\n",
       "      <th>fiscalDateEnding</th>\n",
       "      <td>2022-12-31</td>\n",
       "      <td>2021-12-31</td>\n",
       "      <td>2020-12-31</td>\n",
       "      <td>2019-12-31</td>\n",
       "      <td>2018-12-31</td>\n",
       "    </tr>\n",
       "    <tr>\n",
       "      <th>reportedCurrency</th>\n",
       "      <td>USD</td>\n",
       "      <td>USD</td>\n",
       "      <td>USD</td>\n",
       "      <td>USD</td>\n",
       "      <td>USD</td>\n",
       "    </tr>\n",
       "    <tr>\n",
       "      <th>operatingCashflow</th>\n",
       "      <td>10435000000</td>\n",
       "      <td>12796000000</td>\n",
       "      <td>18197000000</td>\n",
       "      <td>14770000000</td>\n",
       "      <td>15247000000</td>\n",
       "    </tr>\n",
       "    <tr>\n",
       "      <th>paymentsForOperatingActivities</th>\n",
       "      <td>2430000000</td>\n",
       "      <td>2655000000</td>\n",
       "      <td>3406000000</td>\n",
       "      <td>3234000000</td>\n",
       "      <td>1423000000</td>\n",
       "    </tr>\n",
       "    <tr>\n",
       "      <th>proceedsFromOperatingActivities</th>\n",
       "      <td>None</td>\n",
       "      <td>None</td>\n",
       "      <td>None</td>\n",
       "      <td>None</td>\n",
       "      <td>None</td>\n",
       "    </tr>\n",
       "    <tr>\n",
       "      <th>changeInOperatingLiabilities</th>\n",
       "      <td>213000000</td>\n",
       "      <td>85000000</td>\n",
       "      <td>138000000</td>\n",
       "      <td>-503000000</td>\n",
       "      <td>126000000</td>\n",
       "    </tr>\n",
       "    <tr>\n",
       "      <th>changeInOperatingAssets</th>\n",
       "      <td>468000000</td>\n",
       "      <td>-1510000000</td>\n",
       "      <td>-5088000000</td>\n",
       "      <td>-569000000</td>\n",
       "      <td>-879000000</td>\n",
       "    </tr>\n",
       "    <tr>\n",
       "      <th>depreciationDepletionAndAmortization</th>\n",
       "      <td>4802000000</td>\n",
       "      <td>6417000000</td>\n",
       "      <td>6695000000</td>\n",
       "      <td>6059000000</td>\n",
       "      <td>4480000000</td>\n",
       "    </tr>\n",
       "    <tr>\n",
       "      <th>capitalExpenditures</th>\n",
       "      <td>1346000000</td>\n",
       "      <td>2062000000</td>\n",
       "      <td>2618000000</td>\n",
       "      <td>2286000000</td>\n",
       "      <td>3395000000</td>\n",
       "    </tr>\n",
       "    <tr>\n",
       "      <th>changeInReceivables</th>\n",
       "      <td>539000000</td>\n",
       "      <td>-1372000000</td>\n",
       "      <td>-5297000000</td>\n",
       "      <td>-502000000</td>\n",
       "      <td>-1006000000</td>\n",
       "    </tr>\n",
       "    <tr>\n",
       "      <th>changeInInventory</th>\n",
       "      <td>-71000000</td>\n",
       "      <td>-138000000</td>\n",
       "      <td>209000000</td>\n",
       "      <td>-67000000</td>\n",
       "      <td>127000000</td>\n",
       "    </tr>\n",
       "    <tr>\n",
       "      <th>profitLoss</th>\n",
       "      <td>1639000000</td>\n",
       "      <td>5743000000</td>\n",
       "      <td>5590000000</td>\n",
       "      <td>9431000000</td>\n",
       "      <td>8728000000</td>\n",
       "    </tr>\n",
       "    <tr>\n",
       "      <th>cashflowFromInvestment</th>\n",
       "      <td>-4202000000</td>\n",
       "      <td>-5975000000</td>\n",
       "      <td>-3028000000</td>\n",
       "      <td>-26936000000</td>\n",
       "      <td>-4913000000</td>\n",
       "    </tr>\n",
       "    <tr>\n",
       "      <th>cashflowFromFinancing</th>\n",
       "      <td>-4958000000</td>\n",
       "      <td>-13354000000</td>\n",
       "      <td>-9721000000</td>\n",
       "      <td>9042000000</td>\n",
       "      <td>-10469000000</td>\n",
       "    </tr>\n",
       "    <tr>\n",
       "      <th>proceedsFromRepaymentsOfShortTermDebt</th>\n",
       "      <td>217000000</td>\n",
       "      <td>-40000000</td>\n",
       "      <td>-853000000</td>\n",
       "      <td>-2597000000</td>\n",
       "      <td>1341000000</td>\n",
       "    </tr>\n",
       "    <tr>\n",
       "      <th>paymentsForRepurchaseOfCommonStock</th>\n",
       "      <td>None</td>\n",
       "      <td>None</td>\n",
       "      <td>None</td>\n",
       "      <td>1361000000</td>\n",
       "      <td>4443000000</td>\n",
       "    </tr>\n",
       "    <tr>\n",
       "      <th>paymentsForRepurchaseOfEquity</th>\n",
       "      <td>None</td>\n",
       "      <td>None</td>\n",
       "      <td>None</td>\n",
       "      <td>1361000000</td>\n",
       "      <td>4443000000</td>\n",
       "    </tr>\n",
       "    <tr>\n",
       "      <th>paymentsForRepurchaseOfPreferredStock</th>\n",
       "      <td>None</td>\n",
       "      <td>None</td>\n",
       "      <td>None</td>\n",
       "      <td>None</td>\n",
       "      <td>None</td>\n",
       "    </tr>\n",
       "    <tr>\n",
       "      <th>dividendPayout</th>\n",
       "      <td>5948000000</td>\n",
       "      <td>5869000000</td>\n",
       "      <td>5797000000</td>\n",
       "      <td>5707000000</td>\n",
       "      <td>5666000000</td>\n",
       "    </tr>\n",
       "    <tr>\n",
       "      <th>dividendPayoutCommonStock</th>\n",
       "      <td>5948000000</td>\n",
       "      <td>5869000000</td>\n",
       "      <td>5797000000</td>\n",
       "      <td>5707000000</td>\n",
       "      <td>5666000000</td>\n",
       "    </tr>\n",
       "    <tr>\n",
       "      <th>dividendPayoutPreferredStock</th>\n",
       "      <td>None</td>\n",
       "      <td>None</td>\n",
       "      <td>None</td>\n",
       "      <td>None</td>\n",
       "      <td>None</td>\n",
       "    </tr>\n",
       "    <tr>\n",
       "      <th>proceedsFromIssuanceOfCommonStock</th>\n",
       "      <td>None</td>\n",
       "      <td>None</td>\n",
       "      <td>None</td>\n",
       "      <td>None</td>\n",
       "      <td>None</td>\n",
       "    </tr>\n",
       "    <tr>\n",
       "      <th>proceedsFromIssuanceOfLongTermDebtAndCapitalSecuritiesNet</th>\n",
       "      <td>7804000000</td>\n",
       "      <td>522000000</td>\n",
       "      <td>10504000000</td>\n",
       "      <td>31825000000</td>\n",
       "      <td>6891000000</td>\n",
       "    </tr>\n",
       "    <tr>\n",
       "      <th>proceedsFromIssuanceOfPreferredStock</th>\n",
       "      <td>None</td>\n",
       "      <td>None</td>\n",
       "      <td>None</td>\n",
       "      <td>None</td>\n",
       "      <td>None</td>\n",
       "    </tr>\n",
       "    <tr>\n",
       "      <th>proceedsFromRepurchaseOfEquity</th>\n",
       "      <td>-407000000</td>\n",
       "      <td>-319000000</td>\n",
       "      <td>-210000000</td>\n",
       "      <td>-1361000000</td>\n",
       "      <td>-4443000000</td>\n",
       "    </tr>\n",
       "    <tr>\n",
       "      <th>proceedsFromSaleOfTreasuryStock</th>\n",
       "      <td>None</td>\n",
       "      <td>None</td>\n",
       "      <td>None</td>\n",
       "      <td>None</td>\n",
       "      <td>None</td>\n",
       "    </tr>\n",
       "    <tr>\n",
       "      <th>changeInCashAndCashEquivalents</th>\n",
       "      <td>None</td>\n",
       "      <td>-6533000000</td>\n",
       "      <td>5448000000</td>\n",
       "      <td>-3124000000</td>\n",
       "      <td>-135000000</td>\n",
       "    </tr>\n",
       "    <tr>\n",
       "      <th>changeInExchangeRate</th>\n",
       "      <td>None</td>\n",
       "      <td>None</td>\n",
       "      <td>None</td>\n",
       "      <td>None</td>\n",
       "      <td>None</td>\n",
       "    </tr>\n",
       "    <tr>\n",
       "      <th>netIncome</th>\n",
       "      <td>1639000000</td>\n",
       "      <td>5743000000</td>\n",
       "      <td>5590000000</td>\n",
       "      <td>9431000000</td>\n",
       "      <td>8728000000</td>\n",
       "    </tr>\n",
       "  </tbody>\n",
       "</table>\n",
       "</div>"
      ],
      "text/plain": [
       "                                                     2022-12-31    2021-12-31  \\\n",
       "fiscalDateEnding                                     2022-12-31    2021-12-31   \n",
       "reportedCurrency                                            USD           USD   \n",
       "operatingCashflow                                   10435000000   12796000000   \n",
       "paymentsForOperatingActivities                       2430000000    2655000000   \n",
       "proceedsFromOperatingActivities                            None          None   \n",
       "changeInOperatingLiabilities                          213000000      85000000   \n",
       "changeInOperatingAssets                               468000000   -1510000000   \n",
       "depreciationDepletionAndAmortization                 4802000000    6417000000   \n",
       "capitalExpenditures                                  1346000000    2062000000   \n",
       "changeInReceivables                                   539000000   -1372000000   \n",
       "changeInInventory                                     -71000000    -138000000   \n",
       "profitLoss                                           1639000000    5743000000   \n",
       "cashflowFromInvestment                              -4202000000   -5975000000   \n",
       "cashflowFromFinancing                               -4958000000  -13354000000   \n",
       "proceedsFromRepaymentsOfShortTermDebt                 217000000     -40000000   \n",
       "paymentsForRepurchaseOfCommonStock                         None          None   \n",
       "paymentsForRepurchaseOfEquity                              None          None   \n",
       "paymentsForRepurchaseOfPreferredStock                      None          None   \n",
       "dividendPayout                                       5948000000    5869000000   \n",
       "dividendPayoutCommonStock                            5948000000    5869000000   \n",
       "dividendPayoutPreferredStock                               None          None   \n",
       "proceedsFromIssuanceOfCommonStock                          None          None   \n",
       "proceedsFromIssuanceOfLongTermDebtAndCapitalSec...   7804000000     522000000   \n",
       "proceedsFromIssuanceOfPreferredStock                       None          None   \n",
       "proceedsFromRepurchaseOfEquity                       -407000000    -319000000   \n",
       "proceedsFromSaleOfTreasuryStock                            None          None   \n",
       "changeInCashAndCashEquivalents                             None   -6533000000   \n",
       "changeInExchangeRate                                       None          None   \n",
       "netIncome                                            1639000000    5743000000   \n",
       "\n",
       "                                                     2020-12-31    2019-12-31  \\\n",
       "fiscalDateEnding                                     2020-12-31    2019-12-31   \n",
       "reportedCurrency                                            USD           USD   \n",
       "operatingCashflow                                   18197000000   14770000000   \n",
       "paymentsForOperatingActivities                       3406000000    3234000000   \n",
       "proceedsFromOperatingActivities                            None          None   \n",
       "changeInOperatingLiabilities                          138000000    -503000000   \n",
       "changeInOperatingAssets                             -5088000000    -569000000   \n",
       "depreciationDepletionAndAmortization                 6695000000    6059000000   \n",
       "capitalExpenditures                                  2618000000    2286000000   \n",
       "changeInReceivables                                 -5297000000    -502000000   \n",
       "changeInInventory                                     209000000     -67000000   \n",
       "profitLoss                                           5590000000    9431000000   \n",
       "cashflowFromInvestment                              -3028000000  -26936000000   \n",
       "cashflowFromFinancing                               -9721000000    9042000000   \n",
       "proceedsFromRepaymentsOfShortTermDebt                -853000000   -2597000000   \n",
       "paymentsForRepurchaseOfCommonStock                         None    1361000000   \n",
       "paymentsForRepurchaseOfEquity                              None    1361000000   \n",
       "paymentsForRepurchaseOfPreferredStock                      None          None   \n",
       "dividendPayout                                       5797000000    5707000000   \n",
       "dividendPayoutCommonStock                            5797000000    5707000000   \n",
       "dividendPayoutPreferredStock                               None          None   \n",
       "proceedsFromIssuanceOfCommonStock                          None          None   \n",
       "proceedsFromIssuanceOfLongTermDebtAndCapitalSec...  10504000000   31825000000   \n",
       "proceedsFromIssuanceOfPreferredStock                       None          None   \n",
       "proceedsFromRepurchaseOfEquity                       -210000000   -1361000000   \n",
       "proceedsFromSaleOfTreasuryStock                            None          None   \n",
       "changeInCashAndCashEquivalents                       5448000000   -3124000000   \n",
       "changeInExchangeRate                                       None          None   \n",
       "netIncome                                            5590000000    9431000000   \n",
       "\n",
       "                                                      2018-12-31  \n",
       "fiscalDateEnding                                      2018-12-31  \n",
       "reportedCurrency                                             USD  \n",
       "operatingCashflow                                    15247000000  \n",
       "paymentsForOperatingActivities                        1423000000  \n",
       "proceedsFromOperatingActivities                             None  \n",
       "changeInOperatingLiabilities                           126000000  \n",
       "changeInOperatingAssets                               -879000000  \n",
       "depreciationDepletionAndAmortization                  4480000000  \n",
       "capitalExpenditures                                   3395000000  \n",
       "changeInReceivables                                  -1006000000  \n",
       "changeInInventory                                      127000000  \n",
       "profitLoss                                            8728000000  \n",
       "cashflowFromInvestment                               -4913000000  \n",
       "cashflowFromFinancing                               -10469000000  \n",
       "proceedsFromRepaymentsOfShortTermDebt                 1341000000  \n",
       "paymentsForRepurchaseOfCommonStock                    4443000000  \n",
       "paymentsForRepurchaseOfEquity                         4443000000  \n",
       "paymentsForRepurchaseOfPreferredStock                       None  \n",
       "dividendPayout                                        5666000000  \n",
       "dividendPayoutCommonStock                             5666000000  \n",
       "dividendPayoutPreferredStock                                None  \n",
       "proceedsFromIssuanceOfCommonStock                           None  \n",
       "proceedsFromIssuanceOfLongTermDebtAndCapitalSec...    6891000000  \n",
       "proceedsFromIssuanceOfPreferredStock                        None  \n",
       "proceedsFromRepurchaseOfEquity                       -4443000000  \n",
       "proceedsFromSaleOfTreasuryStock                             None  \n",
       "changeInCashAndCashEquivalents                        -135000000  \n",
       "changeInExchangeRate                                        None  \n",
       "netIncome                                             8728000000  "
      ]
     },
     "execution_count": 63,
     "metadata": {},
     "output_type": "execute_result"
    }
   ],
   "source": [
    "# cash flow\n",
    "url = f'https://www.alphavantage.co/query?function=CASH_FLOW&symbol=IBM&apikey={ALPHAVANTAGE_API_KEY}'\n",
    "r = requests.get(url)\n",
    "data = r.json()\n",
    "pd.DataFrame({d['fiscalDateEnding']:d for d in data['annualReports']})\n"
   ]
  },
  {
   "cell_type": "markdown",
   "metadata": {},
   "source": [
    "# Polygon\n",
    "- [Getting Started](https://polygon.readthedocs.io/en/latest/Getting-Started.html)\n",
    "- [Stocks data](https://polygon.readthedocs.io/en/latest/Stocks.html)\n",
    "- [Pricing](https://polygon.io/pricing)\n"
   ]
  },
  {
   "cell_type": "code",
   "execution_count": 24,
   "metadata": {},
   "outputs": [],
   "source": [
    "import polygon\n",
    "from polygon import StocksClient\n",
    "\n",
    "POLYGON_API_KEY = os.environ['POLYGON_API_KEY']"
   ]
  },
  {
   "cell_type": "code",
   "execution_count": 25,
   "metadata": {},
   "outputs": [
    {
     "data": {
      "text/plain": [
       "{'request_id': '7260acc223853eef818359babaa0da8d',\n",
       " 'results': {'ticker': 'MSFT',\n",
       "  'name': 'Microsoft Corp',\n",
       "  'market': 'stocks',\n",
       "  'locale': 'us',\n",
       "  'primary_exchange': 'XNAS',\n",
       "  'type': 'CS',\n",
       "  'active': True,\n",
       "  'currency_name': 'usd',\n",
       "  'cik': '0000789019',\n",
       "  'composite_figi': 'BBG000BPH459',\n",
       "  'share_class_figi': 'BBG001S5TD05',\n",
       "  'market_cap': 2556097563657.75,\n",
       "  'phone_number': '425-882-8080',\n",
       "  'address': {'address1': 'ONE MICROSOFT WAY',\n",
       "   'city': 'REDMOND',\n",
       "   'state': 'WA',\n",
       "   'postal_code': '98052-6399'},\n",
       "  'description': 'Microsoft develops and licenses consumer and enterprise software. It is known for its Windows operating systems and Office productivity suite. The company is organized into three equally sized broad segments: productivity and business processes (legacy Microsoft Office, cloud-based Office 365, Exchange, SharePoint, Skype, LinkedIn, Dynamics), intelligence cloud (infrastructure- and platform-as-a-service offerings Azure, Windows Server OS, SQL Server), and more personal computing (Windows Client, Xbox, Bing search, display advertising, and Surface laptops, tablets, and desktops).',\n",
       "  'sic_code': '7372',\n",
       "  'sic_description': 'SERVICES-PREPACKAGED SOFTWARE',\n",
       "  'ticker_root': 'MSFT',\n",
       "  'homepage_url': 'https://www.microsoft.com',\n",
       "  'total_employees': 221000,\n",
       "  'list_date': '1986-03-13',\n",
       "  'branding': {'logo_url': 'https://api.polygon.io/v1/reference/company-branding/d3d3Lm1pY3Jvc29mdC5jb20/images/2023-05-01_logo.svg',\n",
       "   'icon_url': 'https://api.polygon.io/v1/reference/company-branding/d3d3Lm1pY3Jvc29mdC5jb20/images/2023-05-01_icon.jpeg'},\n",
       "  'share_class_shares_outstanding': 7435490000,\n",
       "  'weighted_shares_outstanding': 7435487575,\n",
       "  'round_lot': 100},\n",
       " 'status': 'OK'}"
      ]
     },
     "execution_count": 25,
     "metadata": {},
     "output_type": "execute_result"
    }
   ],
   "source": [
    "reference_client = polygon.ReferenceClient(POLYGON_API_KEY)  # for usual sync client\n",
    "reference_client.get_ticker_details(symbol='MSFT')\n"
   ]
  },
  {
   "cell_type": "code",
   "execution_count": 26,
   "metadata": {},
   "outputs": [
    {
     "ename": "ValueError",
     "evalue": "Request failed. Make sure your API key is correct and your subscription has access to the data you requested. Response from the API: {'status': 'NOT_AUTHORIZED', 'request_id': '06f26347fa7e921c049c1d40cb2676a1', 'message': 'You are not entitled to this data. Please upgrade your plan at https://polygon.io/pricing'}",
     "output_type": "error",
     "traceback": [
      "\u001b[0;31m---------------------------------------------------------------------------\u001b[0m",
      "\u001b[0;31mKeyError\u001b[0m                                  Traceback (most recent call last)",
      "File \u001b[0;32m~/opt/anaconda3/envs/agents/lib/python3.10/site-packages/polygon/stocks/stocks.py:579\u001b[0m, in \u001b[0;36mSyncStocksClient.get_current_price\u001b[0;34m(self, symbol)\u001b[0m\n\u001b[1;32m    578\u001b[0m \u001b[38;5;28;01mtry\u001b[39;00m:\n\u001b[0;32m--> 579\u001b[0m     \u001b[38;5;28;01mreturn\u001b[39;00m \u001b[43m_res\u001b[49m\u001b[43m[\u001b[49m\u001b[38;5;124;43m'\u001b[39;49m\u001b[38;5;124;43mresults\u001b[39;49m\u001b[38;5;124;43m'\u001b[39;49m\u001b[43m]\u001b[49m[\u001b[38;5;124m'\u001b[39m\u001b[38;5;124mp\u001b[39m\u001b[38;5;124m'\u001b[39m]\n\u001b[1;32m    580\u001b[0m \u001b[38;5;28;01mexcept\u001b[39;00m \u001b[38;5;167;01mKeyError\u001b[39;00m:\n",
      "\u001b[0;31mKeyError\u001b[0m: 'results'",
      "\nDuring handling of the above exception, another exception occurred:\n",
      "\u001b[0;31mValueError\u001b[0m                                Traceback (most recent call last)",
      "Cell \u001b[0;32mIn[26], line 2\u001b[0m\n\u001b[1;32m      1\u001b[0m stocks_client \u001b[38;5;241m=\u001b[39m polygon\u001b[38;5;241m.\u001b[39mStocksClient(POLYGON_API_KEY, connect_timeout\u001b[38;5;241m=\u001b[39m\u001b[38;5;241m15\u001b[39m)\n\u001b[0;32m----> 2\u001b[0m current_price \u001b[38;5;241m=\u001b[39m \u001b[43mstocks_client\u001b[49m\u001b[38;5;241;43m.\u001b[39;49m\u001b[43mget_current_price\u001b[49m\u001b[43m(\u001b[49m\u001b[38;5;124;43m'\u001b[39;49m\u001b[38;5;124;43mAMD\u001b[39;49m\u001b[38;5;124;43m'\u001b[39;49m\u001b[43m)\u001b[49m\n",
      "File \u001b[0;32m~/opt/anaconda3/envs/agents/lib/python3.10/site-packages/polygon/stocks/stocks.py:581\u001b[0m, in \u001b[0;36mSyncStocksClient.get_current_price\u001b[0;34m(self, symbol)\u001b[0m\n\u001b[1;32m    579\u001b[0m     \u001b[38;5;28;01mreturn\u001b[39;00m _res[\u001b[38;5;124m'\u001b[39m\u001b[38;5;124mresults\u001b[39m\u001b[38;5;124m'\u001b[39m][\u001b[38;5;124m'\u001b[39m\u001b[38;5;124mp\u001b[39m\u001b[38;5;124m'\u001b[39m]\n\u001b[1;32m    580\u001b[0m \u001b[38;5;28;01mexcept\u001b[39;00m \u001b[38;5;167;01mKeyError\u001b[39;00m:\n\u001b[0;32m--> 581\u001b[0m     \u001b[38;5;28;01mraise\u001b[39;00m \u001b[38;5;167;01mValueError\u001b[39;00m(\u001b[38;5;124m'\u001b[39m\u001b[38;5;124mRequest failed. Make sure your API key is correct and your subscription has access to \u001b[39m\u001b[38;5;124m'\u001b[39m\n\u001b[1;32m    582\u001b[0m                      \u001b[38;5;124mf\u001b[39m\u001b[38;5;124m'\u001b[39m\u001b[38;5;124mthe data you requested. Response from the API: \u001b[39m\u001b[38;5;132;01m{\u001b[39;00m_res\u001b[38;5;132;01m}\u001b[39;00m\u001b[38;5;124m'\u001b[39m)\n",
      "\u001b[0;31mValueError\u001b[0m: Request failed. Make sure your API key is correct and your subscription has access to the data you requested. Response from the API: {'status': 'NOT_AUTHORIZED', 'request_id': '06f26347fa7e921c049c1d40cb2676a1', 'message': 'You are not entitled to this data. Please upgrade your plan at https://polygon.io/pricing'}"
     ]
    }
   ],
   "source": [
    "stocks_client = polygon.StocksClient(POLYGON_API_KEY, connect_timeout=15)\n",
    "current_price = stocks_client.get_current_price('AMD')\n"
   ]
  },
  {
   "cell_type": "markdown",
   "metadata": {},
   "source": [
    "# FRED\n",
    "- [All US official economic time series](https://fred.stlouisfed.org/)\n",
    "- [Free API Key](https://fred.stlouisfed.org/docs/api/api_key.html)\n",
    "- See my [chartbook repo](https://github.com/druce/chartbook) for other official national data sources, OECD, IMF and other multilateral institutions)\n"
   ]
  },
  {
   "cell_type": "code",
   "execution_count": 27,
   "metadata": {},
   "outputs": [],
   "source": [
    "import fredapi as fa\n",
    "import pandas as pd\n",
    "\n",
    "FRED_API_KEY = os.environ['FRED_API_KEY']\n"
   ]
  },
  {
   "cell_type": "code",
   "execution_count": 28,
   "metadata": {},
   "outputs": [
    {
     "data": {
      "text/plain": [
       "2022-01-01    24740.480\n",
       "2022-04-01    25248.476\n",
       "2022-07-01    25723.941\n",
       "2022-10-01    26137.992\n",
       "2023-01-01    26529.774\n",
       "Name: gdp, dtype: float64"
      ]
     },
     "execution_count": 28,
     "metadata": {},
     "output_type": "execute_result"
    }
   ],
   "source": [
    "fred = fa.Fred(api_key=FRED_API_KEY)\n",
    "\n",
    "gdp = fred.get_series('GDP')\n",
    "gdp.name = 'gdp'\n",
    "gdp.tail()\n"
   ]
  },
  {
   "cell_type": "markdown",
   "metadata": {},
   "source": [
    "# EOD Historical data\n",
    "- [Website](https://eodhistoricaldata.com/financial-apis/python-financial-libraries-and-code-samples/)\n",
    "- [Pricing](https://eodhistoricaldata.com/pricing)\n",
    "- [Register to get an API Key](https://eodhistoricaldata.com/register)\n"
   ]
  },
  {
   "cell_type": "code",
   "execution_count": 29,
   "metadata": {},
   "outputs": [],
   "source": [
    "from eodhd import APIClient\n",
    "EODHD_API_KEY = os.environ.get(\"EODHD_API_KEY\")\n"
   ]
  },
  {
   "cell_type": "code",
   "execution_count": 30,
   "metadata": {},
   "outputs": [],
   "source": [
    "api = APIClient(EODHD_API_KEY)\n"
   ]
  },
  {
   "cell_type": "code",
   "execution_count": 31,
   "metadata": {},
   "outputs": [
    {
     "name": "stderr",
     "output_type": "stream",
     "text": [
      "/Users/drucev/opt/anaconda3/envs/agents/lib/python3.10/site-packages/eod_historical_data/data.py:41: ParserWarning: Falling back to the 'python' engine because the 'c' engine does not support skipfooter; you can avoid this warning by specifying engine='python'.\n",
      "  df = pd.read_csv(StringIO(r.text), skipfooter=1,\n"
     ]
    },
    {
     "data": {
      "text/html": [
       "<div>\n",
       "<style scoped>\n",
       "    .dataframe tbody tr th:only-of-type {\n",
       "        vertical-align: middle;\n",
       "    }\n",
       "\n",
       "    .dataframe tbody tr th {\n",
       "        vertical-align: top;\n",
       "    }\n",
       "\n",
       "    .dataframe thead th {\n",
       "        text-align: right;\n",
       "    }\n",
       "</style>\n",
       "<table border=\"1\" class=\"dataframe\">\n",
       "  <thead>\n",
       "    <tr style=\"text-align: right;\">\n",
       "      <th></th>\n",
       "      <th>Open</th>\n",
       "      <th>High</th>\n",
       "      <th>Low</th>\n",
       "      <th>Close</th>\n",
       "      <th>Adjusted_close</th>\n",
       "      <th>Volume</th>\n",
       "    </tr>\n",
       "    <tr>\n",
       "      <th>Date</th>\n",
       "      <th></th>\n",
       "      <th></th>\n",
       "      <th></th>\n",
       "      <th></th>\n",
       "      <th></th>\n",
       "      <th></th>\n",
       "    </tr>\n",
       "  </thead>\n",
       "  <tbody>\n",
       "    <tr>\n",
       "      <th>1980-12-12</th>\n",
       "      <td>28.7392</td>\n",
       "      <td>28.8736</td>\n",
       "      <td>28.7392</td>\n",
       "      <td>28.7392</td>\n",
       "      <td>0.0996</td>\n",
       "      <td>469033600</td>\n",
       "    </tr>\n",
       "    <tr>\n",
       "      <th>1980-12-15</th>\n",
       "      <td>27.3728</td>\n",
       "      <td>27.3728</td>\n",
       "      <td>27.2608</td>\n",
       "      <td>27.2608</td>\n",
       "      <td>0.0944</td>\n",
       "      <td>175884800</td>\n",
       "    </tr>\n",
       "    <tr>\n",
       "      <th>1980-12-16</th>\n",
       "      <td>25.3792</td>\n",
       "      <td>25.3792</td>\n",
       "      <td>25.2448</td>\n",
       "      <td>25.2448</td>\n",
       "      <td>0.0875</td>\n",
       "      <td>105728000</td>\n",
       "    </tr>\n",
       "    <tr>\n",
       "      <th>1980-12-17</th>\n",
       "      <td>25.8720</td>\n",
       "      <td>26.0064</td>\n",
       "      <td>25.8720</td>\n",
       "      <td>25.8720</td>\n",
       "      <td>0.0896</td>\n",
       "      <td>86441600</td>\n",
       "    </tr>\n",
       "    <tr>\n",
       "      <th>1980-12-18</th>\n",
       "      <td>26.6336</td>\n",
       "      <td>26.7456</td>\n",
       "      <td>26.6336</td>\n",
       "      <td>26.6336</td>\n",
       "      <td>0.0923</td>\n",
       "      <td>73449600</td>\n",
       "    </tr>\n",
       "    <tr>\n",
       "      <th>...</th>\n",
       "      <td>...</td>\n",
       "      <td>...</td>\n",
       "      <td>...</td>\n",
       "      <td>...</td>\n",
       "      <td>...</td>\n",
       "      <td>...</td>\n",
       "    </tr>\n",
       "    <tr>\n",
       "      <th>2023-07-14</th>\n",
       "      <td>190.2300</td>\n",
       "      <td>191.1800</td>\n",
       "      <td>189.6300</td>\n",
       "      <td>190.6900</td>\n",
       "      <td>190.6900</td>\n",
       "      <td>41573900</td>\n",
       "    </tr>\n",
       "    <tr>\n",
       "      <th>2023-07-17</th>\n",
       "      <td>191.9000</td>\n",
       "      <td>194.3200</td>\n",
       "      <td>191.8100</td>\n",
       "      <td>193.9900</td>\n",
       "      <td>193.9900</td>\n",
       "      <td>50520200</td>\n",
       "    </tr>\n",
       "    <tr>\n",
       "      <th>2023-07-18</th>\n",
       "      <td>193.3500</td>\n",
       "      <td>194.3300</td>\n",
       "      <td>192.4200</td>\n",
       "      <td>193.7300</td>\n",
       "      <td>193.7300</td>\n",
       "      <td>48353800</td>\n",
       "    </tr>\n",
       "    <tr>\n",
       "      <th>2023-07-19</th>\n",
       "      <td>193.1000</td>\n",
       "      <td>198.2300</td>\n",
       "      <td>192.6500</td>\n",
       "      <td>195.1000</td>\n",
       "      <td>195.1000</td>\n",
       "      <td>80507300</td>\n",
       "    </tr>\n",
       "    <tr>\n",
       "      <th>2023-07-20</th>\n",
       "      <td>195.0900</td>\n",
       "      <td>196.4700</td>\n",
       "      <td>192.5000</td>\n",
       "      <td>193.1300</td>\n",
       "      <td>193.1300</td>\n",
       "      <td>59581200</td>\n",
       "    </tr>\n",
       "  </tbody>\n",
       "</table>\n",
       "<p>10740 rows × 6 columns</p>\n",
       "</div>"
      ],
      "text/plain": [
       "                Open      High       Low     Close  Adjusted_close     Volume\n",
       "Date                                                                         \n",
       "1980-12-12   28.7392   28.8736   28.7392   28.7392          0.0996  469033600\n",
       "1980-12-15   27.3728   27.3728   27.2608   27.2608          0.0944  175884800\n",
       "1980-12-16   25.3792   25.3792   25.2448   25.2448          0.0875  105728000\n",
       "1980-12-17   25.8720   26.0064   25.8720   25.8720          0.0896   86441600\n",
       "1980-12-18   26.6336   26.7456   26.6336   26.6336          0.0923   73449600\n",
       "...              ...       ...       ...       ...             ...        ...\n",
       "2023-07-14  190.2300  191.1800  189.6300  190.6900        190.6900   41573900\n",
       "2023-07-17  191.9000  194.3200  191.8100  193.9900        193.9900   50520200\n",
       "2023-07-18  193.3500  194.3300  192.4200  193.7300        193.7300   48353800\n",
       "2023-07-19  193.1000  198.2300  192.6500  195.1000        195.1000   80507300\n",
       "2023-07-20  195.0900  196.4700  192.5000  193.1300        193.1300   59581200\n",
       "\n",
       "[10740 rows x 6 columns]"
      ]
     },
     "execution_count": 31,
     "metadata": {},
     "output_type": "execute_result"
    }
   ],
   "source": [
    "from eod_historical_data import get_eod_data\n",
    "df = get_eod_data(\"AAPL\", \"US\")\n",
    "df"
   ]
  },
  {
   "cell_type": "markdown",
   "metadata": {},
   "source": [
    "# FinnHub\n",
    " - [Getting started and data availability](https://github.com/Finnhub-Stock-API/finnhub-python)\n",
    " - [API Docs](https://finnhub.io/docs/api)\n",
    " - [Register and get API key](https://finnhub.io/#)\n",
    " - [Pricing](https://finnhub.io/pricing)\n"
   ]
  },
  {
   "cell_type": "code",
   "execution_count": 64,
   "metadata": {},
   "outputs": [],
   "source": [
    "import finnhub\n",
    "FINNHUB_API_KEY = os.environ['FINNHUB_API_KEY']\n"
   ]
  },
  {
   "cell_type": "code",
   "execution_count": null,
   "metadata": {},
   "outputs": [],
   "source": [
    "# Stock candles\n",
    "res = finnhub_client.stock_candles('AAPL', 'D', 1590988249, 1591852249)\n",
    "print(res)\n",
    "\n",
    "#Convert to Pandas Dataframe\n",
    "print(pd.DataFrame(res))\n"
   ]
  },
  {
   "cell_type": "code",
   "execution_count": 71,
   "metadata": {},
   "outputs": [
    {
     "name": "stdout",
     "output_type": "stream",
     "text": [
      "1609477200\n"
     ]
    }
   ],
   "source": [
    "dt_object = datetime(2021, 1, 1, 0, 0, 0)\n",
    "timestamp = dt_object.timestamp()\n",
    "print(int(timestamp))\n"
   ]
  },
  {
   "cell_type": "code",
   "execution_count": 75,
   "metadata": {},
   "outputs": [
    {
     "name": "stdout",
     "output_type": "stream",
     "text": [
      "1609477200\n",
      "1612069200\n"
     ]
    }
   ],
   "source": [
    "start_date = \"2021-01-01\"\n",
    "timestamp = datetime.strptime(start_date, \"%Y-%m-%d\").timestamp()\n",
    "print(int(timestamp))\n",
    "end_date = \"2021-01-31\"\n",
    "timestamp = datetime.strptime(end_date, \"%Y-%m-%d\").timestamp()\n",
    "print(int(timestamp))"
   ]
  },
  {
   "cell_type": "code",
   "execution_count": 76,
   "metadata": {},
   "outputs": [
    {
     "data": {
      "text/html": [
       "<div>\n",
       "<style scoped>\n",
       "    .dataframe tbody tr th:only-of-type {\n",
       "        vertical-align: middle;\n",
       "    }\n",
       "\n",
       "    .dataframe tbody tr th {\n",
       "        vertical-align: top;\n",
       "    }\n",
       "\n",
       "    .dataframe thead th {\n",
       "        text-align: right;\n",
       "    }\n",
       "</style>\n",
       "<table border=\"1\" class=\"dataframe\">\n",
       "  <thead>\n",
       "    <tr style=\"text-align: right;\">\n",
       "      <th></th>\n",
       "      <th>c</th>\n",
       "      <th>h</th>\n",
       "      <th>l</th>\n",
       "      <th>o</th>\n",
       "      <th>s</th>\n",
       "      <th>t</th>\n",
       "      <th>v</th>\n",
       "    </tr>\n",
       "  </thead>\n",
       "  <tbody>\n",
       "    <tr>\n",
       "      <th>0</th>\n",
       "      <td>222.42</td>\n",
       "      <td>223.0000</td>\n",
       "      <td>219.6800</td>\n",
       "      <td>221.70</td>\n",
       "      <td>ok</td>\n",
       "      <td>2020-12-30 19:00:00</td>\n",
       "      <td>20942132</td>\n",
       "    </tr>\n",
       "    <tr>\n",
       "      <th>1</th>\n",
       "      <td>217.69</td>\n",
       "      <td>223.0000</td>\n",
       "      <td>214.8100</td>\n",
       "      <td>222.53</td>\n",
       "      <td>ok</td>\n",
       "      <td>2021-01-03 19:00:00</td>\n",
       "      <td>37130139</td>\n",
       "    </tr>\n",
       "    <tr>\n",
       "      <th>2</th>\n",
       "      <td>217.90</td>\n",
       "      <td>218.5200</td>\n",
       "      <td>215.7000</td>\n",
       "      <td>217.26</td>\n",
       "      <td>ok</td>\n",
       "      <td>2021-01-04 19:00:00</td>\n",
       "      <td>23822953</td>\n",
       "    </tr>\n",
       "    <tr>\n",
       "      <th>3</th>\n",
       "      <td>212.25</td>\n",
       "      <td>216.4899</td>\n",
       "      <td>211.9400</td>\n",
       "      <td>212.17</td>\n",
       "      <td>ok</td>\n",
       "      <td>2021-01-05 19:00:00</td>\n",
       "      <td>35930653</td>\n",
       "    </tr>\n",
       "    <tr>\n",
       "      <th>4</th>\n",
       "      <td>218.29</td>\n",
       "      <td>219.3400</td>\n",
       "      <td>213.7100</td>\n",
       "      <td>214.04</td>\n",
       "      <td>ok</td>\n",
       "      <td>2021-01-06 19:00:00</td>\n",
       "      <td>27694480</td>\n",
       "    </tr>\n",
       "    <tr>\n",
       "      <th>5</th>\n",
       "      <td>219.62</td>\n",
       "      <td>220.5800</td>\n",
       "      <td>217.0261</td>\n",
       "      <td>218.68</td>\n",
       "      <td>ok</td>\n",
       "      <td>2021-01-07 19:00:00</td>\n",
       "      <td>22956206</td>\n",
       "    </tr>\n",
       "    <tr>\n",
       "      <th>6</th>\n",
       "      <td>217.49</td>\n",
       "      <td>218.9100</td>\n",
       "      <td>216.7300</td>\n",
       "      <td>218.47</td>\n",
       "      <td>ok</td>\n",
       "      <td>2021-01-10 19:00:00</td>\n",
       "      <td>23047029</td>\n",
       "    </tr>\n",
       "    <tr>\n",
       "      <th>7</th>\n",
       "      <td>214.93</td>\n",
       "      <td>217.1000</td>\n",
       "      <td>213.3202</td>\n",
       "      <td>216.50</td>\n",
       "      <td>ok</td>\n",
       "      <td>2021-01-11 19:00:00</td>\n",
       "      <td>23249336</td>\n",
       "    </tr>\n",
       "    <tr>\n",
       "      <th>8</th>\n",
       "      <td>216.34</td>\n",
       "      <td>216.7600</td>\n",
       "      <td>213.9266</td>\n",
       "      <td>214.02</td>\n",
       "      <td>ok</td>\n",
       "      <td>2021-01-12 19:00:00</td>\n",
       "      <td>20087080</td>\n",
       "    </tr>\n",
       "    <tr>\n",
       "      <th>9</th>\n",
       "      <td>213.02</td>\n",
       "      <td>217.4600</td>\n",
       "      <td>212.7400</td>\n",
       "      <td>215.91</td>\n",
       "      <td>ok</td>\n",
       "      <td>2021-01-13 19:00:00</td>\n",
       "      <td>29346737</td>\n",
       "    </tr>\n",
       "    <tr>\n",
       "      <th>10</th>\n",
       "      <td>212.65</td>\n",
       "      <td>214.5100</td>\n",
       "      <td>212.0300</td>\n",
       "      <td>213.52</td>\n",
       "      <td>ok</td>\n",
       "      <td>2021-01-14 19:00:00</td>\n",
       "      <td>31746512</td>\n",
       "    </tr>\n",
       "    <tr>\n",
       "      <th>11</th>\n",
       "      <td>216.44</td>\n",
       "      <td>216.9800</td>\n",
       "      <td>212.6300</td>\n",
       "      <td>213.75</td>\n",
       "      <td>ok</td>\n",
       "      <td>2021-01-18 19:00:00</td>\n",
       "      <td>30480859</td>\n",
       "    </tr>\n",
       "    <tr>\n",
       "      <th>12</th>\n",
       "      <td>224.34</td>\n",
       "      <td>225.7900</td>\n",
       "      <td>217.2908</td>\n",
       "      <td>217.70</td>\n",
       "      <td>ok</td>\n",
       "      <td>2021-01-19 19:00:00</td>\n",
       "      <td>37777260</td>\n",
       "    </tr>\n",
       "    <tr>\n",
       "      <th>13</th>\n",
       "      <td>224.97</td>\n",
       "      <td>226.3000</td>\n",
       "      <td>222.4200</td>\n",
       "      <td>224.70</td>\n",
       "      <td>ok</td>\n",
       "      <td>2021-01-20 19:00:00</td>\n",
       "      <td>30749553</td>\n",
       "    </tr>\n",
       "    <tr>\n",
       "      <th>14</th>\n",
       "      <td>225.95</td>\n",
       "      <td>230.0700</td>\n",
       "      <td>225.8000</td>\n",
       "      <td>227.08</td>\n",
       "      <td>ok</td>\n",
       "      <td>2021-01-21 19:00:00</td>\n",
       "      <td>30172663</td>\n",
       "    </tr>\n",
       "    <tr>\n",
       "      <th>15</th>\n",
       "      <td>229.53</td>\n",
       "      <td>229.7800</td>\n",
       "      <td>224.2200</td>\n",
       "      <td>229.12</td>\n",
       "      <td>ok</td>\n",
       "      <td>2021-01-24 19:00:00</td>\n",
       "      <td>33152095</td>\n",
       "    </tr>\n",
       "    <tr>\n",
       "      <th>16</th>\n",
       "      <td>232.33</td>\n",
       "      <td>234.1800</td>\n",
       "      <td>230.0800</td>\n",
       "      <td>231.86</td>\n",
       "      <td>ok</td>\n",
       "      <td>2021-01-25 19:00:00</td>\n",
       "      <td>49169601</td>\n",
       "    </tr>\n",
       "    <tr>\n",
       "      <th>17</th>\n",
       "      <td>232.90</td>\n",
       "      <td>240.4400</td>\n",
       "      <td>230.1400</td>\n",
       "      <td>238.00</td>\n",
       "      <td>ok</td>\n",
       "      <td>2021-01-26 19:00:00</td>\n",
       "      <td>69870638</td>\n",
       "    </tr>\n",
       "    <tr>\n",
       "      <th>18</th>\n",
       "      <td>238.93</td>\n",
       "      <td>242.6400</td>\n",
       "      <td>235.0900</td>\n",
       "      <td>235.61</td>\n",
       "      <td>ok</td>\n",
       "      <td>2021-01-27 19:00:00</td>\n",
       "      <td>49111159</td>\n",
       "    </tr>\n",
       "    <tr>\n",
       "      <th>19</th>\n",
       "      <td>231.96</td>\n",
       "      <td>238.0200</td>\n",
       "      <td>231.3500</td>\n",
       "      <td>235.99</td>\n",
       "      <td>ok</td>\n",
       "      <td>2021-01-28 19:00:00</td>\n",
       "      <td>42503138</td>\n",
       "    </tr>\n",
       "  </tbody>\n",
       "</table>\n",
       "</div>"
      ],
      "text/plain": [
       "         c         h         l       o   s                   t         v\n",
       "0   222.42  223.0000  219.6800  221.70  ok 2020-12-30 19:00:00  20942132\n",
       "1   217.69  223.0000  214.8100  222.53  ok 2021-01-03 19:00:00  37130139\n",
       "2   217.90  218.5200  215.7000  217.26  ok 2021-01-04 19:00:00  23822953\n",
       "3   212.25  216.4899  211.9400  212.17  ok 2021-01-05 19:00:00  35930653\n",
       "4   218.29  219.3400  213.7100  214.04  ok 2021-01-06 19:00:00  27694480\n",
       "5   219.62  220.5800  217.0261  218.68  ok 2021-01-07 19:00:00  22956206\n",
       "6   217.49  218.9100  216.7300  218.47  ok 2021-01-10 19:00:00  23047029\n",
       "7   214.93  217.1000  213.3202  216.50  ok 2021-01-11 19:00:00  23249336\n",
       "8   216.34  216.7600  213.9266  214.02  ok 2021-01-12 19:00:00  20087080\n",
       "9   213.02  217.4600  212.7400  215.91  ok 2021-01-13 19:00:00  29346737\n",
       "10  212.65  214.5100  212.0300  213.52  ok 2021-01-14 19:00:00  31746512\n",
       "11  216.44  216.9800  212.6300  213.75  ok 2021-01-18 19:00:00  30480859\n",
       "12  224.34  225.7900  217.2908  217.70  ok 2021-01-19 19:00:00  37777260\n",
       "13  224.97  226.3000  222.4200  224.70  ok 2021-01-20 19:00:00  30749553\n",
       "14  225.95  230.0700  225.8000  227.08  ok 2021-01-21 19:00:00  30172663\n",
       "15  229.53  229.7800  224.2200  229.12  ok 2021-01-24 19:00:00  33152095\n",
       "16  232.33  234.1800  230.0800  231.86  ok 2021-01-25 19:00:00  49169601\n",
       "17  232.90  240.4400  230.1400  238.00  ok 2021-01-26 19:00:00  69870638\n",
       "18  238.93  242.6400  235.0900  235.61  ok 2021-01-27 19:00:00  49111159\n",
       "19  231.96  238.0200  231.3500  235.99  ok 2021-01-28 19:00:00  42503138"
      ]
     },
     "execution_count": 76,
     "metadata": {},
     "output_type": "execute_result"
    }
   ],
   "source": [
    "finnhub_client = finnhub.Client(api_key = FINNHUB_API_KEY)\n",
    "symbol = 'MSFT'\n",
    "interval = 'D' # for daily stock candle values\n",
    "start_date = 1609455600 # 2021-01-01\n",
    "end_date = 1612047600 # 2021-01-31 \n",
    "\n",
    "response = finnhub_client.stock_candles('MSFT',\n",
    "                                        'D',\n",
    "                                        start_date,\n",
    "                                        end_date) \n",
    "df = pd.DataFrame(response)\n",
    "# convert timestamps to datetime - some GMT stuff going on\n",
    "df['t']=df['t'].apply(lambda timestamp: datetime.fromtimestamp(timestamp))\n",
    "df\n"
   ]
  },
  {
   "cell_type": "markdown",
   "metadata": {},
   "source": [
    "# Financial Modeling Prep\n",
    "- [Getting Started](https://pypi.org/project/fmp-python/)\n",
    "- [Docs](https://site.financialmodelingprep.com/developer/docs)\n",
    "- [Pricing](https://site.financialmodelingprep.com/developer/docs/pricing)\n"
   ]
  },
  {
   "cell_type": "code",
   "execution_count": 77,
   "metadata": {},
   "outputs": [],
   "source": [
    "from fmp_python.fmp import FMP\n",
    "FMP_API_KEY = os.environ['FMP_API_KEY']"
   ]
  },
  {
   "cell_type": "code",
   "execution_count": 80,
   "metadata": {},
   "outputs": [
    {
     "data": {
      "text/html": [
       "<div>\n",
       "<style scoped>\n",
       "    .dataframe tbody tr th:only-of-type {\n",
       "        vertical-align: middle;\n",
       "    }\n",
       "\n",
       "    .dataframe tbody tr th {\n",
       "        vertical-align: top;\n",
       "    }\n",
       "\n",
       "    .dataframe thead th {\n",
       "        text-align: right;\n",
       "    }\n",
       "</style>\n",
       "<table border=\"1\" class=\"dataframe\">\n",
       "  <thead>\n",
       "    <tr style=\"text-align: right;\">\n",
       "      <th></th>\n",
       "      <th>0</th>\n",
       "    </tr>\n",
       "  </thead>\n",
       "  <tbody>\n",
       "    <tr>\n",
       "      <th>symbol</th>\n",
       "      <td>AAPL</td>\n",
       "    </tr>\n",
       "    <tr>\n",
       "      <th>name</th>\n",
       "      <td>Apple Inc.</td>\n",
       "    </tr>\n",
       "    <tr>\n",
       "      <th>price</th>\n",
       "      <td>191.94</td>\n",
       "    </tr>\n",
       "    <tr>\n",
       "      <th>changesPercentage</th>\n",
       "      <td>-0.6162</td>\n",
       "    </tr>\n",
       "    <tr>\n",
       "      <th>change</th>\n",
       "      <td>-1.19</td>\n",
       "    </tr>\n",
       "    <tr>\n",
       "      <th>dayLow</th>\n",
       "      <td>191.32</td>\n",
       "    </tr>\n",
       "    <tr>\n",
       "      <th>dayHigh</th>\n",
       "      <td>194.97</td>\n",
       "    </tr>\n",
       "    <tr>\n",
       "      <th>yearHigh</th>\n",
       "      <td>198.23</td>\n",
       "    </tr>\n",
       "    <tr>\n",
       "      <th>yearLow</th>\n",
       "      <td>124.17</td>\n",
       "    </tr>\n",
       "    <tr>\n",
       "      <th>marketCap</th>\n",
       "      <td>3018966757847</td>\n",
       "    </tr>\n",
       "    <tr>\n",
       "      <th>priceAvg50</th>\n",
       "      <td>183.186</td>\n",
       "    </tr>\n",
       "    <tr>\n",
       "      <th>priceAvg200</th>\n",
       "      <td>157.4725</td>\n",
       "    </tr>\n",
       "    <tr>\n",
       "      <th>exchange</th>\n",
       "      <td>NASDAQ</td>\n",
       "    </tr>\n",
       "    <tr>\n",
       "      <th>volume</th>\n",
       "      <td>58364002</td>\n",
       "    </tr>\n",
       "    <tr>\n",
       "      <th>avgVolume</th>\n",
       "      <td>57417554</td>\n",
       "    </tr>\n",
       "    <tr>\n",
       "      <th>open</th>\n",
       "      <td>194.1</td>\n",
       "    </tr>\n",
       "    <tr>\n",
       "      <th>previousClose</th>\n",
       "      <td>193.13</td>\n",
       "    </tr>\n",
       "    <tr>\n",
       "      <th>eps</th>\n",
       "      <td>5.89</td>\n",
       "    </tr>\n",
       "    <tr>\n",
       "      <th>pe</th>\n",
       "      <td>32.59</td>\n",
       "    </tr>\n",
       "    <tr>\n",
       "      <th>earningsAnnouncement</th>\n",
       "      <td>2023-08-03T00:00:00.000+0000</td>\n",
       "    </tr>\n",
       "    <tr>\n",
       "      <th>sharesOutstanding</th>\n",
       "      <td>15728700416</td>\n",
       "    </tr>\n",
       "    <tr>\n",
       "      <th>timestamp</th>\n",
       "      <td>1689969601</td>\n",
       "    </tr>\n",
       "  </tbody>\n",
       "</table>\n",
       "</div>"
      ],
      "text/plain": [
       "                                                 0\n",
       "symbol                                        AAPL\n",
       "name                                    Apple Inc.\n",
       "price                                       191.94\n",
       "changesPercentage                          -0.6162\n",
       "change                                       -1.19\n",
       "dayLow                                      191.32\n",
       "dayHigh                                     194.97\n",
       "yearHigh                                    198.23\n",
       "yearLow                                     124.17\n",
       "marketCap                            3018966757847\n",
       "priceAvg50                                 183.186\n",
       "priceAvg200                               157.4725\n",
       "exchange                                    NASDAQ\n",
       "volume                                    58364002\n",
       "avgVolume                                 57417554\n",
       "open                                         194.1\n",
       "previousClose                               193.13\n",
       "eps                                           5.89\n",
       "pe                                           32.59\n",
       "earningsAnnouncement  2023-08-03T00:00:00.000+0000\n",
       "sharesOutstanding                      15728700416\n",
       "timestamp                               1689969601"
      ]
     },
     "execution_count": 80,
     "metadata": {},
     "output_type": "execute_result"
    }
   ],
   "source": [
    "fmp = FMP(api_key=FMP_API_KEY)\n",
    "pd.DataFrame(fmp.get_quote('AAPL')).transpose()"
   ]
  },
  {
   "cell_type": "code",
   "execution_count": 81,
   "metadata": {},
   "outputs": [
    {
     "data": {
      "text/html": [
       "<div>\n",
       "<style scoped>\n",
       "    .dataframe tbody tr th:only-of-type {\n",
       "        vertical-align: middle;\n",
       "    }\n",
       "\n",
       "    .dataframe tbody tr th {\n",
       "        vertical-align: top;\n",
       "    }\n",
       "\n",
       "    .dataframe thead th {\n",
       "        text-align: right;\n",
       "    }\n",
       "</style>\n",
       "<table border=\"1\" class=\"dataframe\">\n",
       "  <thead>\n",
       "    <tr style=\"text-align: right;\">\n",
       "      <th></th>\n",
       "      <th>date</th>\n",
       "      <th>open</th>\n",
       "      <th>low</th>\n",
       "      <th>high</th>\n",
       "      <th>close</th>\n",
       "      <th>volume</th>\n",
       "    </tr>\n",
       "  </thead>\n",
       "  <tbody>\n",
       "    <tr>\n",
       "      <th>0</th>\n",
       "      <td>2023-07-21 16:00:00</td>\n",
       "      <td>191.9400</td>\n",
       "      <td>191.9200</td>\n",
       "      <td>192.2600</td>\n",
       "      <td>192.2000</td>\n",
       "      <td>3263250</td>\n",
       "    </tr>\n",
       "    <tr>\n",
       "      <th>1</th>\n",
       "      <td>2023-07-21 15:55:00</td>\n",
       "      <td>191.9500</td>\n",
       "      <td>191.7800</td>\n",
       "      <td>192.2800</td>\n",
       "      <td>191.9300</td>\n",
       "      <td>2655205</td>\n",
       "    </tr>\n",
       "    <tr>\n",
       "      <th>2</th>\n",
       "      <td>2023-07-21 15:50:00</td>\n",
       "      <td>192.0700</td>\n",
       "      <td>191.2300</td>\n",
       "      <td>192.1000</td>\n",
       "      <td>191.9600</td>\n",
       "      <td>3258669</td>\n",
       "    </tr>\n",
       "    <tr>\n",
       "      <th>3</th>\n",
       "      <td>2023-07-21 15:45:00</td>\n",
       "      <td>192.3050</td>\n",
       "      <td>192.0600</td>\n",
       "      <td>192.4200</td>\n",
       "      <td>192.0700</td>\n",
       "      <td>945168</td>\n",
       "    </tr>\n",
       "    <tr>\n",
       "      <th>4</th>\n",
       "      <td>2023-07-21 15:40:00</td>\n",
       "      <td>192.3650</td>\n",
       "      <td>192.2100</td>\n",
       "      <td>192.4600</td>\n",
       "      <td>192.3050</td>\n",
       "      <td>738103</td>\n",
       "    </tr>\n",
       "    <tr>\n",
       "      <th>...</th>\n",
       "      <td>...</td>\n",
       "      <td>...</td>\n",
       "      <td>...</td>\n",
       "      <td>...</td>\n",
       "      <td>...</td>\n",
       "      <td>...</td>\n",
       "    </tr>\n",
       "    <tr>\n",
       "      <th>785</th>\n",
       "      <td>2023-07-10 09:50:00</td>\n",
       "      <td>188.3900</td>\n",
       "      <td>187.3899</td>\n",
       "      <td>188.4000</td>\n",
       "      <td>187.6650</td>\n",
       "      <td>1893730</td>\n",
       "    </tr>\n",
       "    <tr>\n",
       "      <th>786</th>\n",
       "      <td>2023-07-10 09:45:00</td>\n",
       "      <td>188.7800</td>\n",
       "      <td>188.1800</td>\n",
       "      <td>188.9900</td>\n",
       "      <td>188.4000</td>\n",
       "      <td>1670277</td>\n",
       "    </tr>\n",
       "    <tr>\n",
       "      <th>787</th>\n",
       "      <td>2023-07-10 09:40:00</td>\n",
       "      <td>189.3281</td>\n",
       "      <td>188.7550</td>\n",
       "      <td>189.3871</td>\n",
       "      <td>188.7969</td>\n",
       "      <td>1264132</td>\n",
       "    </tr>\n",
       "    <tr>\n",
       "      <th>788</th>\n",
       "      <td>2023-07-10 09:35:00</td>\n",
       "      <td>189.0700</td>\n",
       "      <td>188.8100</td>\n",
       "      <td>189.4700</td>\n",
       "      <td>189.3250</td>\n",
       "      <td>1984481</td>\n",
       "    </tr>\n",
       "    <tr>\n",
       "      <th>789</th>\n",
       "      <td>2023-07-10 09:30:00</td>\n",
       "      <td>189.2600</td>\n",
       "      <td>189.0500</td>\n",
       "      <td>189.9900</td>\n",
       "      <td>189.0700</td>\n",
       "      <td>2313703</td>\n",
       "    </tr>\n",
       "  </tbody>\n",
       "</table>\n",
       "<p>790 rows × 6 columns</p>\n",
       "</div>"
      ],
      "text/plain": [
       "                    date      open       low      high     close   volume\n",
       "0    2023-07-21 16:00:00  191.9400  191.9200  192.2600  192.2000  3263250\n",
       "1    2023-07-21 15:55:00  191.9500  191.7800  192.2800  191.9300  2655205\n",
       "2    2023-07-21 15:50:00  192.0700  191.2300  192.1000  191.9600  3258669\n",
       "3    2023-07-21 15:45:00  192.3050  192.0600  192.4200  192.0700   945168\n",
       "4    2023-07-21 15:40:00  192.3650  192.2100  192.4600  192.3050   738103\n",
       "..                   ...       ...       ...       ...       ...      ...\n",
       "785  2023-07-10 09:50:00  188.3900  187.3899  188.4000  187.6650  1893730\n",
       "786  2023-07-10 09:45:00  188.7800  188.1800  188.9900  188.4000  1670277\n",
       "787  2023-07-10 09:40:00  189.3281  188.7550  189.3871  188.7969  1264132\n",
       "788  2023-07-10 09:35:00  189.0700  188.8100  189.4700  189.3250  1984481\n",
       "789  2023-07-10 09:30:00  189.2600  189.0500  189.9900  189.0700  2313703\n",
       "\n",
       "[790 rows x 6 columns]"
      ]
     },
     "execution_count": 81,
     "metadata": {},
     "output_type": "execute_result"
    }
   ],
   "source": [
    "fmp = FMP(output_format = 'pandas', write_to_file= True)\n",
    "fmp.get_historical_chart('5min','AAPL')\n"
   ]
  },
  {
   "cell_type": "markdown",
   "metadata": {},
   "source": [
    "# NewsAPI\n",
    "- [Getting started](https://newsapi.org/docs/client-libraries/python)\n",
    "- [Pricing](https://newsapi.org/pricing)\n",
    "- [Get API Key](https://newsapi.org/register)\n"
   ]
  },
  {
   "cell_type": "code",
   "execution_count": 82,
   "metadata": {},
   "outputs": [],
   "source": [
    "from newsapi import NewsApiClient\n",
    "NEWSAPI_API_KEY = os.environ['NEWSAPI_API_KEY']\n"
   ]
  },
  {
   "cell_type": "code",
   "execution_count": 83,
   "metadata": {},
   "outputs": [
    {
     "data": {
      "text/html": [
       "<div>\n",
       "<style scoped>\n",
       "    .dataframe tbody tr th:only-of-type {\n",
       "        vertical-align: middle;\n",
       "    }\n",
       "\n",
       "    .dataframe tbody tr th {\n",
       "        vertical-align: top;\n",
       "    }\n",
       "\n",
       "    .dataframe thead th {\n",
       "        text-align: right;\n",
       "    }\n",
       "</style>\n",
       "<table border=\"1\" class=\"dataframe\">\n",
       "  <thead>\n",
       "    <tr style=\"text-align: right;\">\n",
       "      <th></th>\n",
       "      <th>id</th>\n",
       "      <th>name</th>\n",
       "      <th>description</th>\n",
       "      <th>url</th>\n",
       "      <th>category</th>\n",
       "      <th>language</th>\n",
       "      <th>country</th>\n",
       "    </tr>\n",
       "  </thead>\n",
       "  <tbody>\n",
       "    <tr>\n",
       "      <th>0</th>\n",
       "      <td>abc-news</td>\n",
       "      <td>ABC News</td>\n",
       "      <td>Your trusted source for breaking news, analysi...</td>\n",
       "      <td>https://abcnews.go.com</td>\n",
       "      <td>general</td>\n",
       "      <td>en</td>\n",
       "      <td>us</td>\n",
       "    </tr>\n",
       "    <tr>\n",
       "      <th>1</th>\n",
       "      <td>abc-news-au</td>\n",
       "      <td>ABC News (AU)</td>\n",
       "      <td>Australia's most trusted source of local, nati...</td>\n",
       "      <td>http://www.abc.net.au/news</td>\n",
       "      <td>general</td>\n",
       "      <td>en</td>\n",
       "      <td>au</td>\n",
       "    </tr>\n",
       "    <tr>\n",
       "      <th>2</th>\n",
       "      <td>aftenposten</td>\n",
       "      <td>Aftenposten</td>\n",
       "      <td>Norges ledende nettavis med alltid oppdaterte ...</td>\n",
       "      <td>https://www.aftenposten.no</td>\n",
       "      <td>general</td>\n",
       "      <td>no</td>\n",
       "      <td>no</td>\n",
       "    </tr>\n",
       "    <tr>\n",
       "      <th>3</th>\n",
       "      <td>al-jazeera-english</td>\n",
       "      <td>Al Jazeera English</td>\n",
       "      <td>News, analysis from the Middle East and worldw...</td>\n",
       "      <td>http://www.aljazeera.com</td>\n",
       "      <td>general</td>\n",
       "      <td>en</td>\n",
       "      <td>us</td>\n",
       "    </tr>\n",
       "    <tr>\n",
       "      <th>4</th>\n",
       "      <td>ansa</td>\n",
       "      <td>ANSA.it</td>\n",
       "      <td>Agenzia ANSA: ultime notizie, foto, video e ap...</td>\n",
       "      <td>http://www.ansa.it</td>\n",
       "      <td>general</td>\n",
       "      <td>it</td>\n",
       "      <td>it</td>\n",
       "    </tr>\n",
       "    <tr>\n",
       "      <th>...</th>\n",
       "      <td>...</td>\n",
       "      <td>...</td>\n",
       "      <td>...</td>\n",
       "      <td>...</td>\n",
       "      <td>...</td>\n",
       "      <td>...</td>\n",
       "      <td>...</td>\n",
       "    </tr>\n",
       "    <tr>\n",
       "      <th>123</th>\n",
       "      <td>wired</td>\n",
       "      <td>Wired</td>\n",
       "      <td>Wired is a monthly American magazine, publishe...</td>\n",
       "      <td>https://www.wired.com</td>\n",
       "      <td>technology</td>\n",
       "      <td>en</td>\n",
       "      <td>us</td>\n",
       "    </tr>\n",
       "    <tr>\n",
       "      <th>124</th>\n",
       "      <td>wired-de</td>\n",
       "      <td>Wired.de</td>\n",
       "      <td>Wired reports on how emerging technologies aff...</td>\n",
       "      <td>https://www.wired.de</td>\n",
       "      <td>technology</td>\n",
       "      <td>de</td>\n",
       "      <td>de</td>\n",
       "    </tr>\n",
       "    <tr>\n",
       "      <th>125</th>\n",
       "      <td>wirtschafts-woche</td>\n",
       "      <td>Wirtschafts Woche</td>\n",
       "      <td>Das Online-Portal des führenden Wirtschaftsmag...</td>\n",
       "      <td>http://www.wiwo.de</td>\n",
       "      <td>business</td>\n",
       "      <td>de</td>\n",
       "      <td>de</td>\n",
       "    </tr>\n",
       "    <tr>\n",
       "      <th>126</th>\n",
       "      <td>xinhua-net</td>\n",
       "      <td>Xinhua Net</td>\n",
       "      <td>中国主要重点新闻网站,依托新华社遍布全球的采编网络,记者遍布世界100多个国家和地区,地方频...</td>\n",
       "      <td>http://xinhuanet.com/</td>\n",
       "      <td>general</td>\n",
       "      <td>zh</td>\n",
       "      <td>zh</td>\n",
       "    </tr>\n",
       "    <tr>\n",
       "      <th>127</th>\n",
       "      <td>ynet</td>\n",
       "      <td>Ynet</td>\n",
       "      <td>ynet דף הבית: אתר החדשות המוביל בישראל מבית יד...</td>\n",
       "      <td>http://www.ynet.co.il</td>\n",
       "      <td>general</td>\n",
       "      <td>he</td>\n",
       "      <td>is</td>\n",
       "    </tr>\n",
       "  </tbody>\n",
       "</table>\n",
       "<p>128 rows × 7 columns</p>\n",
       "</div>"
      ],
      "text/plain": [
       "                     id                name  \\\n",
       "0              abc-news            ABC News   \n",
       "1           abc-news-au       ABC News (AU)   \n",
       "2           aftenposten         Aftenposten   \n",
       "3    al-jazeera-english  Al Jazeera English   \n",
       "4                  ansa             ANSA.it   \n",
       "..                  ...                 ...   \n",
       "123               wired               Wired   \n",
       "124            wired-de            Wired.de   \n",
       "125   wirtschafts-woche   Wirtschafts Woche   \n",
       "126          xinhua-net          Xinhua Net   \n",
       "127                ynet                Ynet   \n",
       "\n",
       "                                           description  \\\n",
       "0    Your trusted source for breaking news, analysi...   \n",
       "1    Australia's most trusted source of local, nati...   \n",
       "2    Norges ledende nettavis med alltid oppdaterte ...   \n",
       "3    News, analysis from the Middle East and worldw...   \n",
       "4    Agenzia ANSA: ultime notizie, foto, video e ap...   \n",
       "..                                                 ...   \n",
       "123  Wired is a monthly American magazine, publishe...   \n",
       "124  Wired reports on how emerging technologies aff...   \n",
       "125  Das Online-Portal des führenden Wirtschaftsmag...   \n",
       "126  中国主要重点新闻网站,依托新华社遍布全球的采编网络,记者遍布世界100多个国家和地区,地方频...   \n",
       "127  ynet דף הבית: אתר החדשות המוביל בישראל מבית יד...   \n",
       "\n",
       "                            url    category language country  \n",
       "0        https://abcnews.go.com     general       en      us  \n",
       "1    http://www.abc.net.au/news     general       en      au  \n",
       "2    https://www.aftenposten.no     general       no      no  \n",
       "3      http://www.aljazeera.com     general       en      us  \n",
       "4            http://www.ansa.it     general       it      it  \n",
       "..                          ...         ...      ...     ...  \n",
       "123       https://www.wired.com  technology       en      us  \n",
       "124        https://www.wired.de  technology       de      de  \n",
       "125          http://www.wiwo.de    business       de      de  \n",
       "126       http://xinhuanet.com/     general       zh      zh  \n",
       "127       http://www.ynet.co.il     general       he      is  \n",
       "\n",
       "[128 rows x 7 columns]"
      ]
     },
     "execution_count": 83,
     "metadata": {},
     "output_type": "execute_result"
    }
   ],
   "source": [
    "api = NewsApiClient(api_key=NEWSAPI_API_KEY)\n",
    "sources = api.get_sources()\n",
    "pd.DataFrame(sources['sources'])\n"
   ]
  },
  {
   "cell_type": "code",
   "execution_count": 101,
   "metadata": {},
   "outputs": [
    {
     "data": {
      "text/markdown": [
       "[2023-07-22 17:07:22 DC United: US sports trainer fired for 'discriminatory' hand gesture](http://www.bbc.co.uk/news/world-us-canada-66276187)\n",
       " The hand gesture was spotted in a social media photograph of the MLS football team's staff."
      ],
      "text/plain": [
       "<IPython.core.display.Markdown object>"
      ]
     },
     "metadata": {},
     "output_type": "display_data"
    },
    {
     "data": {
      "text/markdown": [
       "[2023-07-22 17:07:22 Jamshid Sharmahd: Iran could execute my dad at any time, says German woman](http://www.bbc.co.uk/news/world-europe-66268645)\n",
       " An Iranian-German businessman on death row may have made his last phone call, his daughter fears."
      ],
      "text/plain": [
       "<IPython.core.display.Markdown object>"
      ]
     },
     "metadata": {},
     "output_type": "display_data"
    },
    {
     "data": {
      "text/markdown": [
       "[2023-07-22 17:07:21 Biden chooses Lisa Franchetti to head Pentagon military branch](http://www.bbc.co.uk/news/world-us-canada-66275531)\n",
       " Admiral Lisa Franchetti will become the first woman to lead a Pentagon military branch if confirmed."
      ],
      "text/plain": [
       "<IPython.core.display.Markdown object>"
      ]
     },
     "metadata": {},
     "output_type": "display_data"
    },
    {
     "data": {
      "text/markdown": [
       "[2023-07-22 17:07:20 Europe heatwave: Temperatures to soar in Greece as fires still burn](http://www.bbc.co.uk/news/world-europe-66273287)\n",
       " Officials warn this could be Greece's hottest July weekend in 50 years, with temperatures hitting 45C."
      ],
      "text/plain": [
       "<IPython.core.display.Markdown object>"
      ]
     },
     "metadata": {},
     "output_type": "display_data"
    },
    {
     "data": {
      "text/markdown": [
       "[2023-07-22 15:52:16 Greece fires: Thousands flee homes and hotels on Rhodes as fires spread](http://www.bbc.co.uk/news/world-europe-66279520)\n",
       " Greece's deputy fire chief says the fires are the most difficult his service is currently facing."
      ],
      "text/plain": [
       "<IPython.core.display.Markdown object>"
      ]
     },
     "metadata": {},
     "output_type": "display_data"
    },
    {
     "data": {
      "text/markdown": [
       "[2023-07-22 12:07:20 Crimea bridge closed after fuel depot hit - Russia](http://www.bbc.co.uk/news/entertainment-arts-66276788)\n",
       " Russian-installed authorities halt railway services in Crimea and say Ukraine was behind a drone strike."
      ],
      "text/plain": [
       "<IPython.core.display.Markdown object>"
      ]
     },
     "metadata": {},
     "output_type": "display_data"
    },
    {
     "data": {
      "text/markdown": [
       "[2023-07-22 10:52:18 Jamie Foxx: Actor says he's 'on way back' after illness thanks to family](http://www.bbc.co.uk/news/entertainment-arts-66276785)\n",
       " Actor Jamie Foxx speaks publicly for the first time since being hospitalised earlier this year."
      ],
      "text/plain": [
       "<IPython.core.display.Markdown object>"
      ]
     },
     "metadata": {},
     "output_type": "display_data"
    },
    {
     "data": {
      "text/markdown": [
       "[2023-07-22 08:07:20 Matty Healy: 1975 show ended in Malaysia after singer attacks anti-LGBT laws](http://www.bbc.co.uk/news/world-asia-66275913)\n",
       " Matty Healy launched a lengthy attack on Malaysia's laws, before kissing his band's bass player."
      ],
      "text/plain": [
       "<IPython.core.display.Markdown object>"
      ]
     },
     "metadata": {},
     "output_type": "display_data"
    },
    {
     "data": {
      "text/markdown": [
       "[2023-07-22 03:37:13 Polarised Spain eyes the hard-right ahead of election](http://www.bbc.co.uk/news/world-europe-66268330)\n",
       " Spain goes to the polls to decide its next government on Sunday, and a hard-right coalition is looking likely."
      ],
      "text/plain": [
       "<IPython.core.display.Markdown object>"
      ]
     },
     "metadata": {},
     "output_type": "display_data"
    },
    {
     "data": {
      "text/markdown": [
       "[2023-07-21 23:37:17 Climate records tumble, leaving Earth in uncharted territory - scientists](http://www.bbc.co.uk/news/science-environment-66229065)\n",
       " A series of records on temperature, ocean heat, and Antarctic sea ice are \"unprecedented\", some scientists say."
      ],
      "text/plain": [
       "<IPython.core.display.Markdown object>"
      ]
     },
     "metadata": {},
     "output_type": "display_data"
    }
   ],
   "source": [
    "bbc_top = api.get_top_headlines(sources='bbc-news')\n",
    "for item in bbc_top['articles']:\n",
    "    markdown_str = \"\"\n",
    "    datestr = item['publishedAt'].split(\".\")[0]\n",
    "    if datestr[-1]=='Z':\n",
    "        datestr = datestr[:-1]\n",
    "    date_object = datetime.strptime(datestr, \"%Y-%m-%dT%H:%M:%S\")\n",
    "    markdown_str += f\"[{str(date_object)} {item['title']}]({item['url']})\\n {item['description']}\"\n",
    "    display(Markdown(markdown_str))\n",
    "    \n"
   ]
  },
  {
   "cell_type": "code",
   "execution_count": 103,
   "metadata": {},
   "outputs": [
    {
     "data": {
      "text/markdown": [
       "[2023-07-22 15:52:16 Greece fires: Thousands flee homes and hotels on Rhodes as fires spread](http://www.bbc.co.uk/news/world-europe-66279520)\n",
       " Greece's deputy fire chief says the fires are the most difficult his service is currently facing."
      ],
      "text/plain": [
       "<IPython.core.display.Markdown object>"
      ]
     },
     "metadata": {},
     "output_type": "display_data"
    },
    {
     "data": {
      "text/markdown": [
       "[2023-07-22 15:30:00 Netflix’s They Cloned Tyrone review: a modern Blaxploitation classic](http://www.theverge.com/23803139/they-cloned-tyrone-review-netflix)\n",
       " Netflix’s They Cloned Tyrone — streaming now — from director Juel Taylor is a wild send-up and celebration of Blaxploitation classics for a new generation."
      ],
      "text/plain": [
       "<IPython.core.display.Markdown object>"
      ]
     },
     "metadata": {},
     "output_type": "display_data"
    },
    {
     "data": {
      "text/markdown": [
       "[2023-07-22 15:00:00 In praise of an old iRiver MP3 player](http://www.theverge.com/23795072/iriver-mp3-player-retro-gadgets-we-love)\n",
       " The iRiver iHP-120 was the anti-iPod: marginally fussy to operate and packed with buttons, ports, and features. Mine’s still kicking at age 19."
      ],
      "text/plain": [
       "<IPython.core.display.Markdown object>"
      ]
     },
     "metadata": {},
     "output_type": "display_data"
    },
    {
     "data": {
      "text/markdown": [
       "[2023-07-22 15:00:00 One of the best puzzle RPGs gets another chance](http://www.theverge.com/2023/7/22/23803057/might-and-magic-clash-of-heroes-switch-steam-ps4)\n",
       " Might & Magic: Clash of Heroes, a puzzle RPG from Grindstone developer Capy Games, is now available on modern platforms, including Steam, PS4, and the Nintendo Switch."
      ],
      "text/plain": [
       "<IPython.core.display.Markdown object>"
      ]
     },
     "metadata": {},
     "output_type": "display_data"
    },
    {
     "data": {
      "text/markdown": [
       "[2023-07-22 14:18:13 SDCC 2023: all the biggest announcements from the convention](http://www.theverge.com/2023/7/22/23804013/sdcc-2023-san-diego-comic-con-movies-tv-shows-marvel-dc-gaming-news)\n",
       " San Diego Comic-Con 2023 is quieter than in past years as Hollywood strikes continue. Big movie studio participation is out, so the convention focuses instead on games, comics, and smaller film and TV projects."
      ],
      "text/plain": [
       "<IPython.core.display.Markdown object>"
      ]
     },
     "metadata": {},
     "output_type": "display_data"
    },
    {
     "data": {
      "text/markdown": [
       "[2023-07-22 14:00:00 What would the internet of people look like now?](http://www.theverge.com/2023/7/22/23803538/google-facebook-myspace-internet-culture-web-dot-com-crash)\n",
       " The web as we know it now is an intermediated experience — with algorithms between the humans. What if we went back to just talking to each other?"
      ],
      "text/plain": [
       "<IPython.core.display.Markdown object>"
      ]
     },
     "metadata": {},
     "output_type": "display_data"
    },
    {
     "data": {
      "text/markdown": [
       "[2023-07-22 12:41:41 Save $50 on the wireless earbuds with the hands-down best noise cancellation](http://www.theverge.com/2023/7/22/23803410/bose-quietcomfort-earbuds-amazon-firetv-omni-xbox-elite-deal-sale)\n",
       " The Bose QuietComfort Earbuds II are selling for $249 new or $199 refurbished, while there are more deals on Amazon’s OMNI QLED TVs, the Xbox Elite Series 2 controller, and LG OLEDs."
      ],
      "text/plain": [
       "<IPython.core.display.Markdown object>"
      ]
     },
     "metadata": {},
     "output_type": "display_data"
    },
    {
     "data": {
      "text/markdown": [
       "[2023-07-22 12:07:20 Crimea bridge closed after fuel depot hit - Russia](http://www.bbc.co.uk/news/entertainment-arts-66276788)\n",
       " Russian-installed authorities halt railway services in Crimea and say Ukraine was behind a drone strike."
      ],
      "text/plain": [
       "<IPython.core.display.Markdown object>"
      ]
     },
     "metadata": {},
     "output_type": "display_data"
    },
    {
     "data": {
      "text/markdown": [
       "[2023-07-22 10:52:18 Jamie Foxx: Actor says he's 'on way back' after illness thanks to family](http://www.bbc.co.uk/news/entertainment-arts-66276785)\n",
       " Actor Jamie Foxx speaks publicly for the first time since being hospitalised earlier this year."
      ],
      "text/plain": [
       "<IPython.core.display.Markdown object>"
      ]
     },
     "metadata": {},
     "output_type": "display_data"
    },
    {
     "data": {
      "text/markdown": [
       "[2023-07-22 08:07:20 Matty Healy: 1975 show ended in Malaysia after singer attacks anti-LGBT laws](http://www.bbc.co.uk/news/world-asia-66275913)\n",
       " Matty Healy launched a lengthy attack on Malaysia's laws, before kissing his band's bass player."
      ],
      "text/plain": [
       "<IPython.core.display.Markdown object>"
      ]
     },
     "metadata": {},
     "output_type": "display_data"
    },
    {
     "data": {
      "text/markdown": [
       "[2023-07-22 06:22:17 Ex-Canadian Mountie charged over alleged China interference](http://www.bbc.co.uk/news/world-us-canada-66272727)\n",
       " An ex-Royal Canadian Mounted Police officer is alleged to have helped China with intimidation."
      ],
      "text/plain": [
       "<IPython.core.display.Markdown object>"
      ]
     },
     "metadata": {},
     "output_type": "display_data"
    },
    {
     "data": {
      "text/markdown": [
       "[2023-07-22 04:37:12 Matilda Sheils: Body found in search for missing US two-year-old](http://www.bbc.co.uk/news/world-us-canada-66275922)\n",
       " Matilda Sheils was swept away with with her nine-month-old brother Conrad in Pennsylvania last weekend."
      ],
      "text/plain": [
       "<IPython.core.display.Markdown object>"
      ]
     },
     "metadata": {},
     "output_type": "display_data"
    },
    {
     "data": {
      "text/markdown": [
       "[2023-07-22 03:37:13 Polarised Spain eyes the hard-right ahead of election](http://www.bbc.co.uk/news/world-europe-66268330)\n",
       " Spain goes to the polls to decide its next government on Sunday, and a hard-right coalition is looking likely."
      ],
      "text/plain": [
       "<IPython.core.display.Markdown object>"
      ]
     },
     "metadata": {},
     "output_type": "display_data"
    },
    {
     "data": {
      "text/markdown": [
       "[2023-07-22 00:07:20 From Ukraine to Aspen, nervousness over a critical moment for the war](http://www.bbc.co.uk/news/world-us-canada-66273787)\n",
       " At the Aspen Security Forum, the war in Ukraine is upper-most in the minds of policymakers."
      ],
      "text/plain": [
       "<IPython.core.display.Markdown object>"
      ]
     },
     "metadata": {},
     "output_type": "display_data"
    },
    {
     "data": {
      "text/markdown": [
       "[2023-07-21 23:37:17 Climate records tumble, leaving Earth in uncharted territory - scientists](http://www.bbc.co.uk/news/science-environment-66229065)\n",
       " A series of records on temperature, ocean heat, and Antarctic sea ice are \"unprecedented\", some scientists say."
      ],
      "text/plain": [
       "<IPython.core.display.Markdown object>"
      ]
     },
     "metadata": {},
     "output_type": "display_data"
    },
    {
     "data": {
      "text/markdown": [
       "[2023-07-21 21:07:21 Texas A&M president Katherine Banks leaves over hiring backlash](http://www.bbc.co.uk/news/world-us-canada-66275350)\n",
       " President Katherine Banks says the handling of a black professor's hiring had become a distraction."
      ],
      "text/plain": [
       "<IPython.core.display.Markdown object>"
      ]
     },
     "metadata": {},
     "output_type": "display_data"
    },
    {
     "data": {
      "text/markdown": [
       "[2023-07-21 18:11:21 Meta’s Llama 2 is biggest AI release since ChatGPT](http://www.theverge.com/2023/7/21/23803234/the-biggest-ai-release-since-chatgpt)\n",
       " Meta’s new AI model, Llama 2, has big implications — and some unusual restrictions."
      ],
      "text/plain": [
       "<IPython.core.display.Markdown object>"
      ]
     },
     "metadata": {},
     "output_type": "display_data"
    },
    {
     "data": {
      "text/markdown": [
       "[2023-07-21 16:56:37 Reddit expanded the r/Place canvas, and users immediately wrote messages cursing the CEO](http://www.theverge.com/2023/7/21/23803112/reddit-r-place-canvas-expand-protest-messages-cursing-ceo)\n",
       " Reddit added more space to the r/Place collaborative, giving users additional room to draw pixelated art and write in their protests against the site and its CEO."
      ],
      "text/plain": [
       "<IPython.core.display.Markdown object>"
      ]
     },
     "metadata": {},
     "output_type": "display_data"
    },
    {
     "data": {
      "text/markdown": [
       "[2023-07-21 13:30:16 What is Reddit CEO Steve Huffman doing?](http://www.theverge.com/23802373/reddit-ipo-valuation-moderation-ceo)\n",
       " Reddit CEO Steve Huffman seems to be preparing the company for an IPO. But is what’s good for the IPO good for the business?"
      ],
      "text/plain": [
       "<IPython.core.display.Markdown object>"
      ]
     },
     "metadata": {},
     "output_type": "display_data"
    },
    {
     "data": {
      "text/markdown": [
       "[2023-07-21 12:00:00 Samsung Galaxy Unpacked 2023: how to watch the live stream and what to expect](http://www.theverge.com/23799567/samsung-galaxy-unpacked-live-stream-watch-date-time-z-flip-fold)\n",
       " Samsung is holding its biannual Unpacked event on July 26th, where it’s expected to take the wraps off a number of products, including the Galaxy Z Flip 5 and Z Fold 5."
      ],
      "text/plain": [
       "<IPython.core.display.Markdown object>"
      ]
     },
     "metadata": {},
     "output_type": "display_data"
    }
   ],
   "source": [
    "top_headlines = api.get_top_headlines(\n",
    "#     q='bitcoin',\n",
    "    sources='bbc-news,the-verge',\n",
    "#     category='business',\n",
    "#     language='en',\n",
    "#     country='us')\n",
    ")\n",
    "for item in top_headlines['articles']:\n",
    "    markdown_str = \"\"\n",
    "    datestr = item['publishedAt'].split(\".\")[0]\n",
    "    if datestr[-1]=='Z':\n",
    "        datestr = datestr[:-1]    \n",
    "    date_object = datetime.strptime(datestr, \"%Y-%m-%dT%H:%M:%S\")\n",
    "    markdown_str += f\"[{str(date_object)} {item['title']}]({item['url']})\\n {item['description']}\"\n",
    "    display(Markdown(markdown_str))\n"
   ]
  },
  {
   "cell_type": "code",
   "execution_count": 109,
   "metadata": {},
   "outputs": [],
   "source": [
    "all_articles = api.get_everything(q='bitcoin',\n",
    "                                      sources='bbc-news,the-verge',\n",
    "                                      domains='bbc.co.uk,techcrunch.com',\n",
    "                                      from_param='2023-07-01',\n",
    "                                      to='2023-07-30',\n",
    "                                      language='en',\n",
    "                                      sort_by='relevancy',\n",
    "                                      page=1)\n"
   ]
  },
  {
   "cell_type": "code",
   "execution_count": 110,
   "metadata": {},
   "outputs": [
    {
     "data": {
      "text/markdown": [
       "[2023-07-11 14:00:00 Can banks push Bitcoin to clean up its act?](https://www.theverge.com/2023/7/11/23778688/bitcoin-energy-emissions-climate-change-banks-asset-managers-greenpeace)\n",
       " Banks and asset managers have a big stake in Bitcoin, so Greenpeace wants them to crack down on the cryptocurrency’s pollution."
      ],
      "text/plain": [
       "<IPython.core.display.Markdown object>"
      ]
     },
     "metadata": {},
     "output_type": "display_data"
    },
    {
     "data": {
      "text/markdown": [
       "[2023-07-13 14:03:06 Crypto lending firm Celsius Network and its former CEO sued by SEC, CFTC, FTC](https://techcrunch.com/2023/07/13/crypto-lending-firm-celsius-network-and-its-former-ceo-sued-by-sec-cftc-ftc/)\n",
       " The now-bankrupt crypto lending firm Celsius Network and its former CEO and co-founder Alex Mashinsky faced several lawsuits on Thursday morning from three..."
      ],
      "text/plain": [
       "<IPython.core.display.Markdown object>"
      ]
     },
     "metadata": {},
     "output_type": "display_data"
    },
    {
     "data": {
      "text/markdown": [
       "[2023-07-06 19:00:00 Maybe the second half of 2023 will have greater capital flowing into crypto, but maybe not](https://techcrunch.com/2023/07/06/heres-to-hoping-the-rest-of-2023-has-more-capital-flowing-into-crypto/)\n",
       " Looking at the first half of 2023, funding for crypto startups continued to grow more scarce.  In Q2, venture capital flowing into the industry dropped for..."
      ],
      "text/plain": [
       "<IPython.core.display.Markdown object>"
      ]
     },
     "metadata": {},
     "output_type": "display_data"
    },
    {
     "data": {
      "text/markdown": [
       "[2023-07-11 10:02:42 Popular AO3 fanfiction site goes down in wave of DDoS attacks](https://www.theverge.com/2023/7/11/23790860/ao3-fanfiction-archive-down-outage-ddos-attacks)\n",
       " Archive of Our Own (AO3) is currently experiencing a wave of distributed-denial-of-service (DDoS) attacks that have forced the website offline since Monday, and the issue could persist for weeks."
      ],
      "text/plain": [
       "<IPython.core.display.Markdown object>"
      ]
     },
     "metadata": {},
     "output_type": "display_data"
    },
    {
     "data": {
      "text/markdown": [
       "[2023-07-18 15:41:19 Telegram raises $210 million through bond sales | TechCrunch](https://techcrunch.com/2023/07/18/telegram-raises-210-million-through-bond-sales/)\n",
       " Telegram founder Pavel Durov bought \"tens of millions\" of the company's bonds as part of a $210 million bond sales this week."
      ],
      "text/plain": [
       "<IPython.core.display.Markdown object>"
      ]
     },
     "metadata": {},
     "output_type": "display_data"
    }
   ],
   "source": [
    "for item in all_articles['articles']:\n",
    "    markdown_str = \"\"\n",
    "    datestr = item['publishedAt'].split(\".\")[0]\n",
    "    if datestr[-1]=='Z':\n",
    "        datestr = datestr[:-1]    \n",
    "    date_object = datetime.strptime(datestr, \"%Y-%m-%dT%H:%M:%S\")\n",
    "    markdown_str += f\"[{str(date_object)} {item['title']}]({item['url']})\\n {item['description']}\"\n",
    "    display(Markdown(markdown_str))\n"
   ]
  },
  {
   "cell_type": "markdown",
   "metadata": {},
   "source": [
    "# Stocksera\n",
    "- some unusual social media and related info\n",
    "- [Docs](https://stocksera.pythonanywhere.com/)\n",
    "- [Getting started](https://github.com/guanquann/Stocksera-API)\n",
    "- [API Key](https://stocksera.pythonanywhere.com/accounts/developers/)\n"
   ]
  },
  {
   "cell_type": "code",
   "execution_count": 122,
   "metadata": {},
   "outputs": [],
   "source": [
    "import stocksera\n",
    "client = stocksera.Client(api_key=os.environ['STOCKSERA_API_KEY'])\n"
   ]
  },
  {
   "cell_type": "code",
   "execution_count": 127,
   "metadata": {},
   "outputs": [
    {
     "data": {
      "text/markdown": [
       "[2023-07-23 17:09:50 CNBC - U.S. needs to go 'further and faster' to achieve climate goals, lawmakers say](https://www.cnbc.com/2023/07/23/us-needs-to-go-further-and-faster-to-achieve-climate-goals-lawmakers-say-.html)\n"
      ],
      "text/plain": [
       "<IPython.core.display.Markdown object>"
      ]
     },
     "metadata": {},
     "output_type": "display_data"
    },
    {
     "data": {
      "text/markdown": [
       "[2023-07-23 16:42:16 Cointelegraph - Arkansas counties rush to pass noise regulations for crypto miners](https://cointelegraph.com/news/arkansas-rush-to-pass-noise-regulations-crypto-miners)\n"
      ],
      "text/plain": [
       "<IPython.core.display.Markdown object>"
      ]
     },
     "metadata": {},
     "output_type": "display_data"
    },
    {
     "data": {
      "text/markdown": [
       "[2023-07-23 16:00:00 Dailyfx - Markets Week Ahead: Gold, Euro, USD, Yen Await Fed, ECB & BoJ; Big Tech Earnings Eyed](https://www.dailyfx.com/news/forex-markets-week-ahead-gold-euro-usd-yen-await-fed-ecb-boj-big-tech-earnings-eyed-20230723.html)\n"
      ],
      "text/plain": [
       "<IPython.core.display.Markdown object>"
      ]
     },
     "metadata": {},
     "output_type": "display_data"
    },
    {
     "data": {
      "text/markdown": [
       "[2023-07-23 16:00:00 MarketWatch - Market Snapshot: Stocks are making a run for record territory. Will the Fed end its rate hikes anyway?](https://www.marketwatch.com/story/stocks-are-making-a-run-for-record-territory-will-the-fed-end-its-rate-hikes-anyway-31f80662)\n"
      ],
      "text/plain": [
       "<IPython.core.display.Markdown object>"
      ]
     },
     "metadata": {},
     "output_type": "display_data"
    },
    {
     "data": {
      "text/markdown": [
       "[2023-07-23 15:54:11 Cointelegraph - Ripple effect? Stellar (XLM) is catching up to XRP price gains](https://cointelegraph.com/news/ripple-effect-stellar-xlm-xrp-price-gains)\n"
      ],
      "text/plain": [
       "<IPython.core.display.Markdown object>"
      ]
     },
     "metadata": {},
     "output_type": "display_data"
    },
    {
     "data": {
      "text/markdown": [
       "[2023-07-23 14:01:00 MarketWatch - Earnings Watch: With Microsoft, Meta and Alphabet earnings hanging on AI, more investors are asking: ‘How are you going to pay for that?’](https://www.marketwatch.com/story/with-microsoft-meta-and-alphabet-earnings-hanging-on-ai-more-investors-are-asking-how-are-you-going-to-pay-for-that-2750287f)\n"
      ],
      "text/plain": [
       "<IPython.core.display.Markdown object>"
      ]
     },
     "metadata": {},
     "output_type": "display_data"
    },
    {
     "data": {
      "text/markdown": [
       "[2023-07-23 14:00:01 CNBC - Psychologist: The No. 1 soft skill highly successful people use at work—‘It’s like having a superpower’](https://www.cnbc.com/2023/07/23/psychologist-no-1-soft-skill-highly-successful-people-use-at-work.html)\n"
      ],
      "text/plain": [
       "<IPython.core.display.Markdown object>"
      ]
     },
     "metadata": {},
     "output_type": "display_data"
    },
    {
     "data": {
      "text/markdown": [
       "[2023-07-23 14:00:01 CNBC - How investors can get ahead by listening to a company's earnings conference call](https://www.cnbc.com/2023/07/23/how-investors-can-get-ahead-by-listening-to-an-earnings-call.html)\n"
      ],
      "text/plain": [
       "<IPython.core.display.Markdown object>"
      ]
     },
     "metadata": {},
     "output_type": "display_data"
    },
    {
     "data": {
      "text/markdown": [
       "[2023-07-23 14:00:01 CNBC - The top 10 U.S. cities for retirees — No. 1 isn’t in Florida](https://www.cnbc.com/2023/07/23/top-10-us-cities-for-retirees.html)\n"
      ],
      "text/plain": [
       "<IPython.core.display.Markdown object>"
      ]
     },
     "metadata": {},
     "output_type": "display_data"
    },
    {
     "data": {
      "text/markdown": [
       "[2023-07-23 13:30:01 CNBC - Billionaire Chobani CEO Hamdi Ulukaya says successful people can ditch this ‘rigid’ trait: It’s ‘never been my thing’](https://www.cnbc.com/2023/07/23/billionaire-chobani-ceo-on-planning-its-never-been-my-thing.html)\n"
      ],
      "text/plain": [
       "<IPython.core.display.Markdown object>"
      ]
     },
     "metadata": {},
     "output_type": "display_data"
    },
    {
     "data": {
      "text/markdown": [
       "[2023-07-23 13:00:01 CNBC - Here's the salary Americans say they need to be happy — it's over $100,000 in 17 states](https://www.cnbc.com/2023/07/23/salary-americans-need-to-be-happy-is-over-100000-in-17-states.html)\n"
      ],
      "text/plain": [
       "<IPython.core.display.Markdown object>"
      ]
     },
     "metadata": {},
     "output_type": "display_data"
    },
    {
     "data": {
      "text/markdown": [
       "[2023-07-23 11:05:01 CNBC - Warning labels in the U.S. seem to be everywhere. Here's why they may be pointless](https://www.cnbc.com/2023/07/23/why-most-consumers-ignore-warning-labels.html)\n"
      ],
      "text/plain": [
       "<IPython.core.display.Markdown object>"
      ]
     },
     "metadata": {},
     "output_type": "display_data"
    },
    {
     "data": {
      "text/markdown": [
       "[2023-07-23 10:45:32 Cointelegraph - Bitcoin can still hit $19K, warns trader ahead of BTC price 'big move'](https://cointelegraph.com/news/bitcoin-can-hit-19k-btc-price-big-move)\n"
      ],
      "text/plain": [
       "<IPython.core.display.Markdown object>"
      ]
     },
     "metadata": {},
     "output_type": "display_data"
    },
    {
     "data": {
      "text/markdown": [
       "[2023-07-23 10:20:36 Forexlive - Weekly Market Outlook (24-28 July)](https://www.forexlive.com/news/weekly-market-outlook-24-28-july-20230723/)\n"
      ],
      "text/plain": [
       "<IPython.core.display.Markdown object>"
      ]
     },
     "metadata": {},
     "output_type": "display_data"
    },
    {
     "data": {
      "text/markdown": [
       "[2023-07-23 08:02:38 Cointelegraph - Nigerian central bank adds NFC upgrade to e-naira for contactless payments](https://cointelegraph.com/news/nigeria-cbn-enhances-e-naira-with-nfc-upgrade-for-contactless-payments)\n"
      ],
      "text/plain": [
       "<IPython.core.display.Markdown object>"
      ]
     },
     "metadata": {},
     "output_type": "display_data"
    },
    {
     "data": {
      "text/markdown": [
       "[2023-07-23 06:39:48 Cointelegraph - SEC's appeal won't be a setback for XRP holders – Pro XRP lawyer](https://cointelegraph.com/news/sec-appeal-won-t-be-setback-for-xrp-holders-pro-xrp-lawyer)\n"
      ],
      "text/plain": [
       "<IPython.core.display.Markdown object>"
      ]
     },
     "metadata": {},
     "output_type": "display_data"
    },
    {
     "data": {
      "text/markdown": [
       "[2023-07-23 06:10:28 Cointelegraph - Evidence of crypto usage by ISIS is 'mounting': TRM Labs](https://cointelegraph.com/news/evidence-crypto-usage-isis-trm-labs)\n"
      ],
      "text/plain": [
       "<IPython.core.display.Markdown object>"
      ]
     },
     "metadata": {},
     "output_type": "display_data"
    },
    {
     "data": {
      "text/markdown": [
       "[2023-07-23 02:47:40 Cointelegraph - Terra interim CEO says any 'little progress' made gets derailed by accusations](https://cointelegraph.com/news/terra-ceo-progress-derailed-accusations)\n"
      ],
      "text/plain": [
       "<IPython.core.display.Markdown object>"
      ]
     },
     "metadata": {},
     "output_type": "display_data"
    },
    {
     "data": {
      "text/markdown": [
       "[2023-07-23 00:09:00 MarketWatch - Economic Report: Are we still going to have a recession? Maybe next year.](https://www.marketwatch.com/story/are-we-still-going-to-have-a-recession-maybe-next-year-d78021dc)\n"
      ],
      "text/plain": [
       "<IPython.core.display.Markdown object>"
      ]
     },
     "metadata": {},
     "output_type": "display_data"
    },
    {
     "data": {
      "text/markdown": [
       "[2023-07-22 21:41:00 MarketWatch - Living With Climate Change: Already roasting in extreme heat? 2024 could be even hotter, NASA scientists warn](https://www.marketwatch.com/story/already-roasting-in-extreme-heat-2024-could-be-even-hotter-nasa-scientists-warn-954ea6d3)\n"
      ],
      "text/plain": [
       "<IPython.core.display.Markdown object>"
      ]
     },
     "metadata": {},
     "output_type": "display_data"
    },
    {
     "data": {
      "text/markdown": [
       "[2023-07-22 21:27:38 Cointelegraph - SEC reviews Ripple ruling, US bill seeks control over DeFi, and more: Hodler’s Digest, July 16-22](https://cointelegraph.com/magazine/sec-reviews-ripple-ruling-us-bill-seeks-control-over-defi-and-more-hodlers-digest-july-16-22/)\n"
      ],
      "text/plain": [
       "<IPython.core.display.Markdown object>"
      ]
     },
     "metadata": {},
     "output_type": "display_data"
    },
    {
     "data": {
      "text/markdown": [
       "[2023-07-22 20:49:20 Cointelegraph - Solana's Parrot Protocol submits proposal to go tokenless, investors risk face -89% returns](https://cointelegraph.com/news/parrot-protocol-submits-proposal-to-go-tokenless)\n"
      ],
      "text/plain": [
       "<IPython.core.display.Markdown object>"
      ]
     },
     "metadata": {},
     "output_type": "display_data"
    },
    {
     "data": {
      "text/markdown": [
       "[2023-07-22 20:43:00 MarketWatch - Key Words: Morgan Stanley credits Bidenomics in lifting its U.S. economic-growth outlook](https://www.marketwatch.com/story/morgan-stanley-credits-bidenomics-in-lifting-its-u-s-economic-growth-outlook-cfcb6ba8)\n"
      ],
      "text/plain": [
       "<IPython.core.display.Markdown object>"
      ]
     },
     "metadata": {},
     "output_type": "display_data"
    },
    {
     "data": {
      "text/markdown": [
       "[2023-07-22 19:00:01 CNBC - Bullpen gets a new stock that can continue to benefit from Wall Street's broadening rally](https://www.cnbc.com/2023/07/22/bullpen-gets-a-new-stock-that-can-continue-to-benefit-from-broadening-rally.html)\n"
      ],
      "text/plain": [
       "<IPython.core.display.Markdown object>"
      ]
     },
     "metadata": {},
     "output_type": "display_data"
    },
    {
     "data": {
      "text/markdown": [
       "[2023-07-22 18:49:56 Cointelegraph - Ripple applies for crypto license in the United Kingdom](https://cointelegraph.com/news/ripple-applies-for-crypto-license-united-kingdom)\n"
      ],
      "text/plain": [
       "<IPython.core.display.Markdown object>"
      ]
     },
     "metadata": {},
     "output_type": "display_data"
    },
    {
     "data": {
      "text/markdown": [
       "[2023-07-22 16:22:05 CNBC - Barbie's designer made missiles for Raytheon first as 'Barbenheimer' rocks box offices](https://www.cnbc.com/2023/07/22/barbies-designer-made-missiles-for-raytheon-first-as-barbenheimer-rocks-box-offices.html)\n"
      ],
      "text/plain": [
       "<IPython.core.display.Markdown object>"
      ]
     },
     "metadata": {},
     "output_type": "display_data"
    },
    {
     "data": {
      "text/markdown": [
       "[2023-07-22 15:59:31 Cointelegraph - Celsius Network reaches settlements to exit bankruptcy](https://cointelegraph.com/news/celsius-network-reaches-settlements-exit-bankruptcy)\n"
      ],
      "text/plain": [
       "<IPython.core.display.Markdown object>"
      ]
     },
     "metadata": {},
     "output_type": "display_data"
    },
    {
     "data": {
      "text/markdown": [
       "[2023-07-22 15:02:00 MarketWatch - TaxWatch: Elderly couple was swindled out of $2 million by daughter — now they have to pay taxes on the stolen money](https://www.marketwatch.com/story/elderly-couple-was-swindled-out-of-2-million-by-daughter-now-they-have-to-pay-taxes-on-the-stolen-money-120b8ee4)\n"
      ],
      "text/plain": [
       "<IPython.core.display.Markdown object>"
      ]
     },
     "metadata": {},
     "output_type": "display_data"
    },
    {
     "data": {
      "text/markdown": [
       "[2023-07-22 15:00:01 CNBC - Don't waste money on biotin or collagen supplements, dermatologists say: The better way to get 'beauty' nutrients](https://www.cnbc.com/2023/07/22/natural-ways-to-get-beauty-nutrients-like-biotin-and-collagen-in-food.html)\n"
      ],
      "text/plain": [
       "<IPython.core.display.Markdown object>"
      ]
     },
     "metadata": {},
     "output_type": "display_data"
    },
    {
     "data": {
      "text/markdown": [
       "[2023-07-22 14:41:00 MarketWatch - Market Extra: Correction in Tesla, Netflix shares could last several weeks, stock charts warn](https://www.marketwatch.com/story/tesla-and-netflix-shares-face-several-weeks-of-weakness-stock-charts-warn-2ec05407)\n"
      ],
      "text/plain": [
       "<IPython.core.display.Markdown object>"
      ]
     },
     "metadata": {},
     "output_type": "display_data"
    },
    {
     "data": {
      "text/markdown": [
       "[2023-07-22 14:40:12 Forexlive - What technical levels are driving the major currency pairs going into the new trading week](https://www.forexlive.com/technical-analysis/what-technical-levels-are-driving-the-major-currency-pairs-going-into-the-new-trading-week-20230722/)\n"
      ],
      "text/plain": [
       "<IPython.core.display.Markdown object>"
      ]
     },
     "metadata": {},
     "output_type": "display_data"
    },
    {
     "data": {
      "text/markdown": [
       "[2023-07-22 14:16:00 MarketWatch - : ‘Children fell in love with her immediately.’ How Barbie changed through the decades, from the icon’s 90-year-old designer](https://www.marketwatch.com/story/children-fell-in-love-with-her-immediately-how-barbie-changed-through-the-decades-from-the-icons-90-year-old-designer-734d1f3)\n"
      ],
      "text/plain": [
       "<IPython.core.display.Markdown object>"
      ]
     },
     "metadata": {},
     "output_type": "display_data"
    },
    {
     "data": {
      "text/markdown": [
       "[2023-07-22 14:00:02 Dailyfx - Crude Oil Forecast: Prices Supported by Oil Fundamentals as FOMC Looms](https://www.dailyfx.com/news/crude-oil-forecast-prices-supported-by-oil-fundamentals-as-fomc-looms-wv-20230722.html)\n"
      ],
      "text/plain": [
       "<IPython.core.display.Markdown object>"
      ]
     },
     "metadata": {},
     "output_type": "display_data"
    },
    {
     "data": {
      "text/markdown": [
       "[2023-07-22 14:00:01 CNBC - This 31-year-old opened a New York City deli with his family—it's on pace to bring in $1.2 million in its first year](https://www.cnbc.com/2023/07/22/new-york-city-deli-on-pace-to-bring-in-1point2-million-in-2023.html)\n"
      ],
      "text/plain": [
       "<IPython.core.display.Markdown object>"
      ]
     },
     "metadata": {},
     "output_type": "display_data"
    },
    {
     "data": {
      "text/markdown": [
       "[2023-07-22 14:00:01 CNBC - How to find the easiest side hustle for you, says 27-year-old who’s tried dozens and brought in nearly $700K last year](https://www.cnbc.com/2023/07/22/side-hustle-expert-cody-berman-on-how-to-find-easiest-ones-for-you.html)\n"
      ],
      "text/plain": [
       "<IPython.core.display.Markdown object>"
      ]
     },
     "metadata": {},
     "output_type": "display_data"
    },
    {
     "data": {
      "text/markdown": [
       "[2023-07-22 14:00:01 CNBC - What we hope to see from 9 Club stocks out with earnings in the week ahead](https://www.cnbc.com/2023/07/22/what-we-hope-to-see-from-9-club-stocks-out-with-earnings-in-the-week-ahead.html)\n"
      ],
      "text/plain": [
       "<IPython.core.display.Markdown object>"
      ]
     },
     "metadata": {},
     "output_type": "display_data"
    },
    {
     "data": {
      "text/markdown": [
       "[2023-07-22 13:37:00 MarketWatch - Market Extra: These stock watchers nailed the market’s melt-up, but now they’re bracing for a fall. Here’s what to watch.](https://www.marketwatch.com/story/these-stock-watchers-nailed-the-markets-melt-up-but-now-theyre-bracing-for-a-fall-heres-what-to-watch-3ba46ccf)\n"
      ],
      "text/plain": [
       "<IPython.core.display.Markdown object>"
      ]
     },
     "metadata": {},
     "output_type": "display_data"
    },
    {
     "data": {
      "text/markdown": [
       "[2023-07-22 13:07:20 CNBC - American Airlines boosts pilot contract offer by $1 billion after United deal](https://www.cnbc.com/2023/07/22/american-airlines-boosts-pilot-contract-offer-by-1-billion-after-united-deal.html)\n"
      ],
      "text/plain": [
       "<IPython.core.display.Markdown object>"
      ]
     },
     "metadata": {},
     "output_type": "display_data"
    },
    {
     "data": {
      "text/markdown": [
       "[2023-07-22 13:00:01 CNBC - Jay Shetty: 'Every day we are assaulted by negativity'—the No. 1 tactic he uses to maintain a positive mindset](https://www.cnbc.com/2023/07/22/jay-shetty-shares-the-no-1-tactic-he-uses-to-stay-positive.html)\n"
      ],
      "text/plain": [
       "<IPython.core.display.Markdown object>"
      ]
     },
     "metadata": {},
     "output_type": "display_data"
    },
    {
     "data": {
      "text/markdown": [
       "[2023-07-22 12:00:01 CNBC - Space Force raises the stakes as rocket companies compete for lucrative military missions](https://www.cnbc.com/2023/07/22/space-force-raises-the-stakes-in-nssl-race-for-military-launches.html)\n"
      ],
      "text/plain": [
       "<IPython.core.display.Markdown object>"
      ]
     },
     "metadata": {},
     "output_type": "display_data"
    },
    {
     "data": {
      "text/markdown": [
       "[2023-07-22 11:07:00 Cointelegraph - What is the difference between DApps and protocols?](https://cointelegraph.com/news/difference-between-dapps-and-protocols)\n"
      ],
      "text/plain": [
       "<IPython.core.display.Markdown object>"
      ]
     },
     "metadata": {},
     "output_type": "display_data"
    },
    {
     "data": {
      "text/markdown": [
       "[2023-07-22 07:31:56 Cointelegraph - OpenAI launches official ChatGPT app for Android](https://cointelegraph.com/news/open-ai-launches-official-chat-gpt-app-android)\n"
      ],
      "text/plain": [
       "<IPython.core.display.Markdown object>"
      ]
     },
     "metadata": {},
     "output_type": "display_data"
    },
    {
     "data": {
      "text/markdown": [
       "[2023-07-22 07:05:52 Cointelegraph - AI companies commit to safe and transparent AI, White House reports](https://cointelegraph.com/news/ai-companies-commit-safe-and-transparent-ai-white-house-reports)\n"
      ],
      "text/plain": [
       "<IPython.core.display.Markdown object>"
      ]
     },
     "metadata": {},
     "output_type": "display_data"
    },
    {
     "data": {
      "text/markdown": [
       "[2023-07-22 07:04:57 Cointelegraph - Nigerian social payments app shuts down crypto exchange services](https://cointelegraph.com/news/nigerian-social-payments-app-shuts-down-crypto-exchange-services)\n"
      ],
      "text/plain": [
       "<IPython.core.display.Markdown object>"
      ]
     },
     "metadata": {},
     "output_type": "display_data"
    },
    {
     "data": {
      "text/markdown": [
       "[2023-07-22 05:29:10 Bloomberg - MSCI blames technical issue for sudden plunge in India Index](https://www.bloomberg.com/news/articles/2023-07-22/msci-says-india-index-slump-caused-by-incorrect-security-price)\n"
      ],
      "text/plain": [
       "<IPython.core.display.Markdown object>"
      ]
     },
     "metadata": {},
     "output_type": "display_data"
    },
    {
     "data": {
      "text/markdown": [
       "[2023-07-22 04:57:20 Cointelegraph - SEC hints at potential appeal to XRP ruling from Ripple Labs lawsuit](https://cointelegraph.com/news/sec-hints-at-potential-appeal-to-xrp-ruling-from-ripple-labs-lawsuit)\n"
      ],
      "text/plain": [
       "<IPython.core.display.Markdown object>"
      ]
     },
     "metadata": {},
     "output_type": "display_data"
    },
    {
     "data": {
      "text/markdown": [
       "[2023-07-22 01:15:05 Cointelegraph - Twitter to impose daily limits on DMs for unverified accounts, citing an effort to ‘reduce spam’](https://cointelegraph.com/news/twitter-to-introduce-daily-limits-on-dms-for-unverified-accounts)\n"
      ],
      "text/plain": [
       "<IPython.core.display.Markdown object>"
      ]
     },
     "metadata": {},
     "output_type": "display_data"
    },
    {
     "data": {
      "text/markdown": [
       "[2023-07-22 00:27:00 MarketWatch - : AMC stock surges 60% after Delaware judge puts brakes on APE-to-stock conversion plan](https://www.marketwatch.com/story/amc-stock-surges-more-than-70-after-delaware-judge-puts-brakes-ape-to-stock-conversion-plan-14e271f3)\n"
      ],
      "text/plain": [
       "<IPython.core.display.Markdown object>"
      ]
     },
     "metadata": {},
     "output_type": "display_data"
    },
    {
     "data": {
      "text/markdown": [
       "[2023-07-21 22:53:00 MarketWatch - The Human Cost: Lukas Gage’s viral video audition haunts the ‘hot labor summer’ actors’ strike sweeping Hollywood](https://www.marketwatch.com/story/lukas-gages-viral-video-audition-haunts-the-hot-labor-summer-actors-strike-sweeping-hollywood-c1437ae6)\n"
      ],
      "text/plain": [
       "<IPython.core.display.Markdown object>"
      ]
     },
     "metadata": {},
     "output_type": "display_data"
    },
    {
     "data": {
      "text/markdown": [
       "[2023-07-21 22:33:00 MarketWatch - : Private-equity mogul Leon Black agreed to pay $62.5 million to settle Epstein-related claims: report](https://www.marketwatch.com/story/private-equity-mogul-leon-black-agreed-to-pay-62-5-million-to-settle-epstein-related-claims-report-3aeacbf2)\n"
      ],
      "text/plain": [
       "<IPython.core.display.Markdown object>"
      ]
     },
     "metadata": {},
     "output_type": "display_data"
    },
    {
     "data": {
      "text/markdown": [
       "[2023-07-21 21:49:35 CNBC - Dream on Me, which bought Buy Buy Baby's intellectual property, snagged 11 of its store leases at auction, could reopen stores](https://www.cnbc.com/2023/07/21/dream-on-me-buys-11-buy-buy-baby-leases.html)\n"
      ],
      "text/plain": [
       "<IPython.core.display.Markdown object>"
      ]
     },
     "metadata": {},
     "output_type": "display_data"
    },
    {
     "data": {
      "text/markdown": [
       "[2023-07-21 21:46:40 CoinDesk - Bitcoin Dawdles Below $30K as Investors Eye Coming Fed Rate Decision, BTC Options Expiry](https://www.coindesk.com/markets/2023/07/21/bitcoin-dawdles-below-30k-as-investors-eye-coming-fed-rate-decision-btc-options-expiry/?utm_medium=referral&utm_source=rss&utm_campaign=headlines)\n"
      ],
      "text/plain": [
       "<IPython.core.display.Markdown object>"
      ]
     },
     "metadata": {},
     "output_type": "display_data"
    },
    {
     "data": {
      "text/markdown": [
       "[2023-07-21 21:39:09 Cointelegraph - Crypto Biz: Binance slashes costs, Ripple ready for US banks and crypto VCs return](https://cointelegraph.com/news/crypto-biz-binance-slashes-costs-ripple-ready-for-banks-crypto-vc-return)\n"
      ],
      "text/plain": [
       "<IPython.core.display.Markdown object>"
      ]
     },
     "metadata": {},
     "output_type": "display_data"
    },
    {
     "data": {
      "text/markdown": [
       "[2023-07-21 21:17:00 MarketWatch - Economic Report: U.S. bank lending falls slightly in latest week](https://www.marketwatch.com/story/u-s-bank-lending-falls-slightly-in-latest-week-661ef0)\n"
      ],
      "text/plain": [
       "<IPython.core.display.Markdown object>"
      ]
     },
     "metadata": {},
     "output_type": "display_data"
    },
    {
     "data": {
      "text/markdown": [
       "[2023-07-21 21:08:52 CNBC - Sanofi expects infant RSV shot to roll out before respiratory virus season this fall](https://www.cnbc.com/2023/07/21/sanofi-expects-infant-rsv-shot-before-virus-season-this-fall.html)\n"
      ],
      "text/plain": [
       "<IPython.core.display.Markdown object>"
      ]
     },
     "metadata": {},
     "output_type": "display_data"
    },
    {
     "data": {
      "text/markdown": [
       "[2023-07-21 21:05:29 CNBC - Pfizer says no major tornado damage to drug manufacturing areas of North Carolina facility](https://www.cnbc.com/2023/07/21/pfizer-no-major-tornado-damage-to-drug-manufacturing-in-nc-facility.html)\n"
      ],
      "text/plain": [
       "<IPython.core.display.Markdown object>"
      ]
     },
     "metadata": {},
     "output_type": "display_data"
    },
    {
     "data": {
      "text/markdown": [
       "[2023-07-21 21:00:00 Cointelegraph - AI21 Labs debuts anti-hallucination feature for GPT chatbots](https://cointelegraph.com/news/ai21-labs-debuts-anti-hallucination-feature-for-gpt-chatbots)\n"
      ],
      "text/plain": [
       "<IPython.core.display.Markdown object>"
      ]
     },
     "metadata": {},
     "output_type": "display_data"
    },
    {
     "data": {
      "text/markdown": [
       "[2023-07-21 20:53:36 Forexlive - Forexlive Americas FX news wrap: Canadian dollar slides as rate hikes hit consumers](https://www.forexlive.com/news/forexlive-americas-fx-news-wrap-canadian-dollar-slides-as-rate-hikes-hit-consumers-20230721/)\n"
      ],
      "text/plain": [
       "<IPython.core.display.Markdown object>"
      ]
     },
     "metadata": {},
     "output_type": "display_data"
    },
    {
     "data": {
      "text/markdown": [
       "[2023-07-21 20:48:00 MarketWatch - : Women’s World Cup players must capitalize on money-making opportunities right now — while the eyes of the world are on them](https://www.marketwatch.com/story/womens-world-cup-players-must-capitalize-on-money-making-opportunities-right-now-while-the-eyes-of-the-world-are-on-them-1134eef4)\n"
      ],
      "text/plain": [
       "<IPython.core.display.Markdown object>"
      ]
     },
     "metadata": {},
     "output_type": "display_data"
    },
    {
     "data": {
      "text/markdown": [
       "[2023-07-21 20:39:00 MarketWatch - : Social Security, caregiving and prescription drug costs: Hot topics among older voters in the 2024 election](https://www.marketwatch.com/story/social-security-caregiving-and-prescription-drug-costs-hot-topics-among-older-voters-in-the-2024-election-b5e3508)\n"
      ],
      "text/plain": [
       "<IPython.core.display.Markdown object>"
      ]
     },
     "metadata": {},
     "output_type": "display_data"
    },
    {
     "data": {
      "text/markdown": [
       "[2023-07-21 20:35:00 MarketWatch - : Pfizer says tornado significantly damaged warehouse storing drugs and raw materials](https://www.marketwatch.com/story/pfizer-says-most-tornado-damage-to-rocky-mount-facility-was-in-warehouse-32dd3b18)\n"
      ],
      "text/plain": [
       "<IPython.core.display.Markdown object>"
      ]
     },
     "metadata": {},
     "output_type": "display_data"
    },
    {
     "data": {
      "text/markdown": [
       "[2023-07-21 20:32:48 CNBC - One measure of 'the market' is up 34% this year while another is only up 6%—here's why](https://www.cnbc.com/2023/07/21/difference-between-the-sp-the-dow-and-the-nasdaq.html)\n"
      ],
      "text/plain": [
       "<IPython.core.display.Markdown object>"
      ]
     },
     "metadata": {},
     "output_type": "display_data"
    },
    {
     "data": {
      "text/markdown": [
       "[2023-07-21 20:28:34 CNBC - Large majority of Americans have strong reservations about A.I. emergence, CNBC survey shows](https://www.cnbc.com/2023/07/21/large-majority-of-americans-have-strong-reservations-about-ai-emergence-cnbc-survey-shows.html)\n"
      ],
      "text/plain": [
       "<IPython.core.display.Markdown object>"
      ]
     },
     "metadata": {},
     "output_type": "display_data"
    },
    {
     "data": {
      "text/markdown": [
       "[2023-07-21 20:27:00 BusinessWire - Priveterra Acquisition Corp. Announces Completion of Business Combination with AEON Biopharma, Inc.](http://www.businesswire.com/news/home/20230721427813/en/Priveterra-Acquisition-Corp.-Announces-Completion-of-Business-Combination-with-AEON-Biopharma-Inc./?feedref=JjAwJuNHiystnCoBq_hl-Rc4vIAVcHHkbDcwJimU8QtrtlakeQ9hNboBqTAWIjTge3KWq9s9jif-UkBjBsFRyYAbRTSLTc1mgvhPlnaBA55M-oupQnbXnhKsYk8RmHF_kAy2gZik)\n"
      ],
      "text/plain": [
       "<IPython.core.display.Markdown object>"
      ]
     },
     "metadata": {},
     "output_type": "display_data"
    },
    {
     "data": {
      "text/markdown": [
       "[2023-07-21 20:25:00 MarketWatch - Weekend Sip: How Jennifer Lopez describes her new booze brand: ‘This Bronx girl on a yacht’](https://www.marketwatch.com/story/how-jennifer-lopez-describes-her-new-booze-brand-this-bronx-girl-on-a-yacht-622ff0c6)\n"
      ],
      "text/plain": [
       "<IPython.core.display.Markdown object>"
      ]
     },
     "metadata": {},
     "output_type": "display_data"
    },
    {
     "data": {
      "text/markdown": [
       "[2023-07-21 20:20:00 Cointelegraph - Centralized exchanges will become gateways for DeFi: Finance Redefined](https://cointelegraph.com/news/centralized-exchanges-will-become-gateways-for-defi-finance-redefined)\n"
      ],
      "text/plain": [
       "<IPython.core.display.Markdown object>"
      ]
     },
     "metadata": {},
     "output_type": "display_data"
    },
    {
     "data": {
      "text/markdown": [
       "[2023-07-21 20:11:18 Forexlive - Dow industrial average keeps its up string alive with a slim gain](https://www.forexlive.com/news/dow-industrial-average-keeps-its-string-alive-with-a-slim-gain-20230721/)\n"
      ],
      "text/plain": [
       "<IPython.core.display.Markdown object>"
      ]
     },
     "metadata": {},
     "output_type": "display_data"
    },
    {
     "data": {
      "text/markdown": [
       "[2023-07-21 20:07:38 SeekingAlpha - Camber Energy, Viking Energy skyrocket after shareholders OK merger](https://seekingalpha.com/news/3989832-camber-energy-viking-energy-skyrocket-after-shareholders-ok-merger?utm_source=feed_news_m_a&utm_medium=referral)\n"
      ],
      "text/plain": [
       "<IPython.core.display.Markdown object>"
      ]
     },
     "metadata": {},
     "output_type": "display_data"
    },
    {
     "data": {
      "text/markdown": [
       "[2023-07-21 20:00:59 Cointelegraph - UK court grants appeal from Craig Wright in Bitcoin rights lawsuit](https://cointelegraph.com/news/uk-courts-grants-appeal-craig-wright-bitcoin-rights-lawsuit)\n"
      ],
      "text/plain": [
       "<IPython.core.display.Markdown object>"
      ]
     },
     "metadata": {},
     "output_type": "display_data"
    },
    {
     "data": {
      "text/markdown": [
       "[2023-07-21 20:00:00 Cointelegraph - Litecoin price at risk of a 30% drop if key LTC futures historical trend repeats](https://cointelegraph.com/news/litecoin-price-at-risk-of-a-30-drop-if-key-ltc-futures-historical-trend-repeats)\n"
      ],
      "text/plain": [
       "<IPython.core.display.Markdown object>"
      ]
     },
     "metadata": {},
     "output_type": "display_data"
    },
    {
     "data": {
      "text/markdown": [
       "[2023-07-21 19:42:10 Forexlive - EURGBP trades the technicals this week, that is good new for the next week's trading](https://www.forexlive.com/technical-analysis/eurgbp-trades-the-technicals-this-week-that-is-good-new-for-the-next-weeks-trading-20230721/)\n"
      ],
      "text/plain": [
       "<IPython.core.display.Markdown object>"
      ]
     },
     "metadata": {},
     "output_type": "display_data"
    },
    {
     "data": {
      "text/markdown": [
       "[2023-07-21 19:32:26 CoinDesk - Craig Wright Will Be Able to Fight Bitcoin Copyright Claim in UK After Winning Appeal](https://www.coindesk.com/policy/2023/07/21/craig-wright-will-be-able-to-fight-bitcoin-copyright-claim-in-uk-after-winning-appeal/?utm_medium=referral&utm_source=rss&utm_campaign=headlines)\n"
      ],
      "text/plain": [
       "<IPython.core.display.Markdown object>"
      ]
     },
     "metadata": {},
     "output_type": "display_data"
    },
    {
     "data": {
      "text/markdown": [
       "[2023-07-21 19:20:00 BusinessWire - Missouri American Water Completes Acquisition of Wood Heights Water and Wastewater Systems](http://www.businesswire.com/news/home/20230721035546/en/Missouri-American-Water-Completes-Acquisition-of-Wood-Heights-Water-and-Wastewater-Systems/?feedref=JjAwJuNHiystnCoBq_hl-Rc4vIAVcHHkbDcwJimU8QtrtlakeQ9hNboBqTAWIjTge3KWq9s9jif-UkBjBsFRyYAbRTSLTc1mgvhPlnaBA55M-oupQnbXnhKsYk8RmHF_kAy2gZikaX3QWV6x)\n"
      ],
      "text/plain": [
       "<IPython.core.display.Markdown object>"
      ]
     },
     "metadata": {},
     "output_type": "display_data"
    },
    {
     "data": {
      "text/markdown": [
       "[2023-07-21 19:18:00 MarketWatch - Futures Movers: Oil prices score a 4th straight weekly gain](https://www.marketwatch.com/story/oil-prices-head-for-4th-straight-weekly-gain-9b7d03e3)\n"
      ],
      "text/plain": [
       "<IPython.core.display.Markdown object>"
      ]
     },
     "metadata": {},
     "output_type": "display_data"
    },
    {
     "data": {
      "text/markdown": [
       "[2023-07-21 19:06:56 CNBC - FTX lobbyist tried to buy Pacific island of Nauru to create a new superspecies, lawsuit says](https://www.cnbc.com/2023/07/21/ftx-lobbyist-tried-to-buy-island-nauru-create-superspecies-lawsuit.html)\n"
      ],
      "text/plain": [
       "<IPython.core.display.Markdown object>"
      ]
     },
     "metadata": {},
     "output_type": "display_data"
    },
    {
     "data": {
      "text/markdown": [
       "[2023-07-21 18:59:00 MarketWatch - : Ron DeSantis threatens legal action against Budweiser for ‘radical’ advertising campaign](https://www.marketwatch.com/story/ron-desantis-threatens-legal-action-against-budweiser-for-radical-advertising-campaign-724a5426)\n"
      ],
      "text/plain": [
       "<IPython.core.display.Markdown object>"
      ]
     },
     "metadata": {},
     "output_type": "display_data"
    },
    {
     "data": {
      "text/markdown": [
       "[2023-07-21 18:55:00 Cointelegraph - Price analysis 7/21: BTC, ETH, XRP, BNB, ADA, SOL, DOGE, MATIC, LTC, DOT](https://cointelegraph.com/news/price-analysis-7-21-btc-eth-xrp-bnb-ada-sol-doge-matic-ltc-dot)\n"
      ],
      "text/plain": [
       "<IPython.core.display.Markdown object>"
      ]
     },
     "metadata": {},
     "output_type": "display_data"
    },
    {
     "data": {
      "text/markdown": [
       "[2023-07-21 18:49:46 CNBC - Bullish developments for three stocks across sectors — and our take, too](https://www.cnbc.com/2023/07/21/bullish-developments-for-three-stocks-across-sectors-and-our-take.html)\n"
      ],
      "text/plain": [
       "<IPython.core.display.Markdown object>"
      ]
     },
     "metadata": {},
     "output_type": "display_data"
    },
    {
     "data": {
      "text/markdown": [
       "[2023-07-21 18:49:42 Cointelegraph - Sam Bankman-Fried's brother planned to buy island and prep for apocalypse: court filing](https://cointelegraph.com/news/sam-bankman-fried-brother-planned-buy-island-prep-for-apocalypse)\n"
      ],
      "text/plain": [
       "<IPython.core.display.Markdown object>"
      ]
     },
     "metadata": {},
     "output_type": "display_data"
    },
    {
     "data": {
      "text/markdown": [
       "[2023-07-21 18:49:00 MarketWatch - Retirement Weekly: Pets may be an answer to our loneliness problem; when to ignore the big money on Wall Street; and what to do with your 401(k) when you retire](https://www.marketwatch.com/story/pets-may-be-an-answer-to-our-loneliness-problem-when-to-ignore-the-big-money-on-wall-street-and-what-to-do-with-your-401-k-when-you-retire-2d62b03a)\n"
      ],
      "text/plain": [
       "<IPython.core.display.Markdown object>"
      ]
     },
     "metadata": {},
     "output_type": "display_data"
    },
    {
     "data": {
      "text/markdown": [
       "[2023-07-21 18:43:56 Forexlive - An update on the most-important chart in the economic world](https://www.forexlive.com/news/an-update-on-the-most-important-chart-in-the-economic-world-20230721/)\n"
      ],
      "text/plain": [
       "<IPython.core.display.Markdown object>"
      ]
     },
     "metadata": {},
     "output_type": "display_data"
    },
    {
     "data": {
      "text/markdown": [
       "[2023-07-21 18:40:00 MarketWatch - The Tell: ‘Liquidity is B.S.!’ Stop using it to explain stock-market moves, economist says](https://www.marketwatch.com/story/liquidity-is-b-s-stop-using-it-to-explain-stock-market-moves-economist-says-b1ea6699)\n"
      ],
      "text/plain": [
       "<IPython.core.display.Markdown object>"
      ]
     },
     "metadata": {},
     "output_type": "display_data"
    },
    {
     "data": {
      "text/markdown": [
       "[2023-07-21 18:20:00 MarketWatch - : AI will require ‘some new laws,’ Biden says, even as tech giants agree to safeguards](https://www.marketwatch.com/story/ai-will-require-some-new-laws-biden-says-even-as-tech-giants-agree-to-safeguards-7587f34b)\n"
      ],
      "text/plain": [
       "<IPython.core.display.Markdown object>"
      ]
     },
     "metadata": {},
     "output_type": "display_data"
    },
    {
     "data": {
      "text/markdown": [
       "[2023-07-21 18:18:19 CNBC - The gender wage gap is now the smallest it's been since it started being tracked in 1979](https://www.cnbc.com/2023/07/21/the-gender-wage-gap-is-now-the-smallest-its-been-on-record.html)\n"
      ],
      "text/plain": [
       "<IPython.core.display.Markdown object>"
      ]
     },
     "metadata": {},
     "output_type": "display_data"
    },
    {
     "data": {
      "text/markdown": [
       "[2023-07-21 18:15:41 CoinDesk - DeFi Project Parrot Puts Fate of Over $70M Treasury, PRT Token, to Vote](https://www.coindesk.com/markets/2023/07/21/defi-project-parrot-puts-fate-of-over-70m-treasury-prt-token-to-vote/?utm_medium=referral&utm_source=rss&utm_campaign=headlines)\n"
      ],
      "text/plain": [
       "<IPython.core.display.Markdown object>"
      ]
     },
     "metadata": {},
     "output_type": "display_data"
    },
    {
     "data": {
      "text/markdown": [
       "[2023-07-21 18:15:00 MarketWatch - Retirement Weekly: This new ETF can protect your portfolio from losses — but there’s a catch](https://www.marketwatch.com/story/this-new-etf-can-protect-your-portfolio-from-losses-but-theres-a-catch-86b522cd)\n"
      ],
      "text/plain": [
       "<IPython.core.display.Markdown object>"
      ]
     },
     "metadata": {},
     "output_type": "display_data"
    },
    {
     "data": {
      "text/markdown": [
       "[2023-07-21 18:12:03 Forexlive - Earnings calendar heats up next week along with key central bank policy announcements.](https://www.forexlive.com/news/earnings-calendar-heats-up-next-week-along-with-key-central-bank-policy-announcements-20230721/)\n"
      ],
      "text/plain": [
       "<IPython.core.display.Markdown object>"
      ]
     },
     "metadata": {},
     "output_type": "display_data"
    },
    {
     "data": {
      "text/markdown": [
       "[2023-07-21 18:10:00 MarketWatch - Retirement Weekly: The right beliefs and habits can save your retirement](https://www.marketwatch.com/story/the-right-beliefs-and-habits-can-save-your-retirement-4ee20541)\n"
      ],
      "text/plain": [
       "<IPython.core.display.Markdown object>"
      ]
     },
     "metadata": {},
     "output_type": "display_data"
    },
    {
     "data": {
      "text/markdown": [
       "[2023-07-21 18:05:00 MarketWatch - Retirement Weekly: Should I roll my Roth 401(k) into a Roth IRA? What are the rules?](https://www.marketwatch.com/story/should-i-roll-my-roth-401-k-into-a-roth-ira-what-are-the-rules-29a6a164)\n"
      ],
      "text/plain": [
       "<IPython.core.display.Markdown object>"
      ]
     },
     "metadata": {},
     "output_type": "display_data"
    },
    {
     "data": {
      "text/markdown": [
       "[2023-07-21 18:02:00 MarketWatch - Brett Arends's ROI: Are Social Security and Medicare doomed? Someone wants you to think so.](https://www.marketwatch.com/story/resistance-is-futile-campaign-is-making-ground-against-social-security-and-medicare-c1dc9e45)\n"
      ],
      "text/plain": [
       "<IPython.core.display.Markdown object>"
      ]
     },
     "metadata": {},
     "output_type": "display_data"
    },
    {
     "data": {
      "text/markdown": [
       "[2023-07-21 18:00:00 MarketWatch - Retirement Weekly: News and analysis for those planning for or living in retirement](https://www.marketwatch.com/story/news-and-analysis-for-those-planning-for-or-living-in-retirement-f81e262d)\n"
      ],
      "text/plain": [
       "<IPython.core.display.Markdown object>"
      ]
     },
     "metadata": {},
     "output_type": "display_data"
    },
    {
     "data": {
      "text/markdown": [
       "[2023-07-21 17:58:00 MarketWatch - The Ratings Game: Harley-Davidson’s stock flies high after an analyst upgrades it to buy](https://www.marketwatch.com/story/harley-davidsons-stock-jumps-4-premarket-after-d-a-davidson-upgrades-it-to-buy-from-neutral-ahead-of-q2-earnings-ce4a5ba4)\n"
      ],
      "text/plain": [
       "<IPython.core.display.Markdown object>"
      ]
     },
     "metadata": {},
     "output_type": "display_data"
    },
    {
     "data": {
      "text/markdown": [
       "[2023-07-21 17:53:02 Forexlive - This is the quietest period of the year but volatility goes up from here](https://www.forexlive.com/news/this-is-the-quietest-period-of-the-year-but-volatility-goes-up-from-here-20230721/)\n"
      ],
      "text/plain": [
       "<IPython.core.display.Markdown object>"
      ]
     },
     "metadata": {},
     "output_type": "display_data"
    },
    {
     "data": {
      "text/markdown": [
       "[2023-07-21 17:38:54 Cointelegraph - XRP price searches for a fresh bullish catalyst to trigger a move above $1](https://cointelegraph.com/news/xrp-price-searches-for-a-fresh-bullish-catalyst-to-trigger-a-move-above-1)\n"
      ],
      "text/plain": [
       "<IPython.core.display.Markdown object>"
      ]
     },
     "metadata": {},
     "output_type": "display_data"
    },
    {
     "data": {
      "text/markdown": [
       "[2023-07-21 17:28:00 MarketWatch - : 4 lessons Tony Bennett taught us about aging](https://www.marketwatch.com/story/4-lessons-tony-bennett-taught-us-about-aging-c32e8d80)\n"
      ],
      "text/plain": [
       "<IPython.core.display.Markdown object>"
      ]
     },
     "metadata": {},
     "output_type": "display_data"
    },
    {
     "data": {
      "text/markdown": [
       "[2023-07-21 17:14:40 Forexlive - WTI crude oil has another look at the 200-day moving average](https://www.forexlive.com/technical-analysis/wti-crude-oil-has-another-look-at-the-200-day-moving-average-20230721/)\n"
      ],
      "text/plain": [
       "<IPython.core.display.Markdown object>"
      ]
     },
     "metadata": {},
     "output_type": "display_data"
    },
    {
     "data": {
      "text/markdown": [
       "[2023-07-21 17:10:00 MarketWatch - Key Words: Magic Johnson may change Washington Commanders name again: ‘Everything’s on the table’](https://www.marketwatch.com/story/magic-johnson-may-change-washington-commanders-name-again-everythings-on-the-table-1cbb73f1)\n"
      ],
      "text/plain": [
       "<IPython.core.display.Markdown object>"
      ]
     },
     "metadata": {},
     "output_type": "display_data"
    },
    {
     "data": {
      "text/markdown": [
       "[2023-07-21 17:06:00 MarketWatch - In One Chart: Buy gold and sell U.S. dollars, this strategist says. Here’s why.](https://www.marketwatch.com/story/buy-gold-and-sell-u-s-dollars-this-strategist-says-heres-why-cadcd52b)\n"
      ],
      "text/plain": [
       "<IPython.core.display.Markdown object>"
      ]
     },
     "metadata": {},
     "output_type": "display_data"
    },
    {
     "data": {
      "text/markdown": [
       "[2023-07-21 17:03:48 CNBC - Ford's dividend quality, J&J's split-off, cost basis discipline — what we think about all these](https://www.cnbc.com/2023/07/21/fords-dividend-quality-jjs-split-off-cost-basis-discipline.html)\n"
      ],
      "text/plain": [
       "<IPython.core.display.Markdown object>"
      ]
     },
     "metadata": {},
     "output_type": "display_data"
    },
    {
     "data": {
      "text/markdown": [
       "[2023-07-21 17:00:00 MarketWatch - : FTX foundation planned to buy island nation as ‘bunker’ to wait out apocalypse, lawsuit says](https://www.marketwatch.com/story/ftx-foundation-planned-to-buy-island-nation-as-bunker-to-wait-out-apocalypse-lawsuit-says-54b84088)\n"
      ],
      "text/plain": [
       "<IPython.core.display.Markdown object>"
      ]
     },
     "metadata": {},
     "output_type": "display_data"
    },
    {
     "data": {
      "text/markdown": [
       "[2023-07-21 16:57:58 CNBC - Lawmakers seek review on Ford partnership with Chinese battery supplier](https://www.cnbc.com/2023/07/21/lawmakers-probe-ford-partnership-with-chinese-battery-supplier-catl.html)\n"
      ],
      "text/plain": [
       "<IPython.core.display.Markdown object>"
      ]
     },
     "metadata": {},
     "output_type": "display_data"
    },
    {
     "data": {
      "text/markdown": [
       "[2023-07-21 16:33:23 CoinDesk - MakerDAO’s MKR Soars 28% in a Week as Token Buyback Scheme Goes Live](https://www.coindesk.com/markets/2023/07/21/makerdaos-mkr-soars-28-in-a-week-as-token-buyback-scheme-goes-live/?utm_medium=referral&utm_source=rss&utm_campaign=headlines)\n"
      ],
      "text/plain": [
       "<IPython.core.display.Markdown object>"
      ]
     },
     "metadata": {},
     "output_type": "display_data"
    },
    {
     "data": {
      "text/markdown": [
       "[2023-07-21 16:31:22 Forexlive - AUDUSD trades lower today and makes a new week low heading into the weekend. What next?](https://www.forexlive.com/technical-analysis/audusd-trades-lower-today-and-makes-a-new-week-low-heading-into-the-weekend-what-next-20230721/)\n"
      ],
      "text/plain": [
       "<IPython.core.display.Markdown object>"
      ]
     },
     "metadata": {},
     "output_type": "display_data"
    },
    {
     "data": {
      "text/markdown": [
       "[2023-07-21 16:18:46 Cointelegraph - McDonald’s debuts McNuggets Land in The Sandbox](https://cointelegraph.com/news/mcdonalds-debuts-mcnuggets-land-the-sandbox)\n"
      ],
      "text/plain": [
       "<IPython.core.display.Markdown object>"
      ]
     },
     "metadata": {},
     "output_type": "display_data"
    },
    {
     "data": {
      "text/markdown": [
       "[2023-07-21 16:13:00 MarketWatch - Earnings Results: Technology sector is ‘under a lot of stress,’ another ad agency says](https://www.marketwatch.com/story/technology-sector-is-under-a-lot-of-stress-another-ad-agency-says-93d74db)\n"
      ],
      "text/plain": [
       "<IPython.core.display.Markdown object>"
      ]
     },
     "metadata": {},
     "output_type": "display_data"
    },
    {
     "data": {
      "text/markdown": [
       "[2023-07-21 16:04:00 BusinessWire - Josh Harris Announces Acquisition of Washington Commanders](http://www.businesswire.com/news/home/20230721474739/en/Josh-Harris-Announces-Acquisition-of-Washington-Commanders/?feedref=JjAwJuNHiystnCoBq_hl-Rc4vIAVcHHkbDcwJimU8QtrtlakeQ9hNboBqTAWIjTge3KWq9s9jif-UkBjBsFRyYAbRTSLTc1mgvhPlnaBA55M-oupQnbXnhKsYk8RmHF_kAy2gZikaX3QWV6xOvgFlA==)\n"
      ],
      "text/plain": [
       "<IPython.core.display.Markdown object>"
      ]
     },
     "metadata": {},
     "output_type": "display_data"
    },
    {
     "data": {
      "text/markdown": [
       "[2023-07-21 15:55:44 CoinDesk - To Survive the New Era of Robot Spam, Look to Crypto’s History](https://www.coindesk.com/consensus-magazine/2023/07/21/to-survive-the-new-era-of-robot-spam-look-to-cryptos-history/?utm_medium=referral&utm_source=rss&utm_campaign=headlines)\n"
      ],
      "text/plain": [
       "<IPython.core.display.Markdown object>"
      ]
     },
     "metadata": {},
     "output_type": "display_data"
    },
    {
     "data": {
      "text/markdown": [
       "[2023-07-21 15:49:30 Cointelegraph - Couple behind Bitfinex money laundering scheme reach plea deal with US prosecutors](https://cointelegraph.com/news/couple-bitfinex-money-laundering-scheme-reach-plea-deal-prosecutors)\n"
      ],
      "text/plain": [
       "<IPython.core.display.Markdown object>"
      ]
     },
     "metadata": {},
     "output_type": "display_data"
    },
    {
     "data": {
      "text/markdown": [
       "[2023-07-21 15:46:57 Forexlive - European equity close: Mixed finish but a good week, especially for UK stocks](https://www.forexlive.com/news/european-equity-close-mixed-finish-but-a-good-week-especially-for-uk-stocks-20230721/)\n"
      ],
      "text/plain": [
       "<IPython.core.display.Markdown object>"
      ]
     },
     "metadata": {},
     "output_type": "display_data"
    },
    {
     "data": {
      "text/markdown": [
       "[2023-07-21 15:40:00 MarketWatch - : Biden would beat Trump even if a third-party candidate joins White House race: poll](https://www.marketwatch.com/story/biden-would-beat-trump-even-if-a-third-party-candidate-joins-white-house-race-poll-9b236f3e)\n"
      ],
      "text/plain": [
       "<IPython.core.display.Markdown object>"
      ]
     },
     "metadata": {},
     "output_type": "display_data"
    },
    {
     "data": {
      "text/markdown": [
       "[2023-07-21 15:38:00 MarketWatch - : Why Tony Bennett’s passing signifies the end of an era](https://www.marketwatch.com/story/why-tony-bennetts-passing-signifies-the-end-of-an-era-da71a841)\n"
      ],
      "text/plain": [
       "<IPython.core.display.Markdown object>"
      ]
     },
     "metadata": {},
     "output_type": "display_data"
    },
    {
     "data": {
      "text/markdown": [
       "[2023-07-21 15:33:10 CNBC - The Dow edges up again, but stay vigilant with the market overbought](https://www.cnbc.com/2023/07/21/the-dow-edges-up-again-but-stay-vigilant-with-the-market-overbought.html)\n"
      ],
      "text/plain": [
       "<IPython.core.display.Markdown object>"
      ]
     },
     "metadata": {},
     "output_type": "display_data"
    },
    {
     "data": {
      "text/markdown": [
       "[2023-07-21 15:27:34 Cointelegraph - Crypto VC funding tumbles as economic uncertainty scares off investors](https://cointelegraph.com/news/crypto-venture-capital-funding-tumbles-economic-uncertainty-scares-investors)\n"
      ],
      "text/plain": [
       "<IPython.core.display.Markdown object>"
      ]
     },
     "metadata": {},
     "output_type": "display_data"
    },
    {
     "data": {
      "text/markdown": [
       "[2023-07-21 15:24:32 SeekingAlpha - Thorne HealthTech gains amid report of sales process](https://seekingalpha.com/news/3989699-thorne-healthtech-gains-amid-report-of-sales-process?utm_source=feed_news_m_a&utm_medium=referral)\n"
      ],
      "text/plain": [
       "<IPython.core.display.Markdown object>"
      ]
     },
     "metadata": {},
     "output_type": "display_data"
    },
    {
     "data": {
      "text/markdown": [
       "[2023-07-21 15:22:03 Forexlive - USDCAD trades down and back up.  Above the 100/200 hour MAs, but work to do.](https://www.forexlive.com/technical-analysis/usdcad-trades-down-and-back-up-above-the-100200-hour-mas-but-work-to-do-20230721/)\n"
      ],
      "text/plain": [
       "<IPython.core.display.Markdown object>"
      ]
     },
     "metadata": {},
     "output_type": "display_data"
    },
    {
     "data": {
      "text/markdown": [
       "[2023-07-21 15:14:00 MarketWatch - Earnings Results: Why American Express is feeling good about credit, even as it builds reserves](https://www.marketwatch.com/story/why-american-express-is-feeling-good-about-credit-even-as-it-builds-reserves-24ce844c)\n"
      ],
      "text/plain": [
       "<IPython.core.display.Markdown object>"
      ]
     },
     "metadata": {},
     "output_type": "display_data"
    },
    {
     "data": {
      "text/markdown": [
       "[2023-07-21 15:12:00 MarketWatch - : ‘Barbie’ and ‘Oppenheimer’ set for blockbuster opening weekend amid ‘Barbenheimer’ buzz](https://www.marketwatch.com/story/barbie-and-oppenheimer-set-for-blockbuster-opening-weekend-amid-barbenheimer-buzz-fced4e07)\n"
      ],
      "text/plain": [
       "<IPython.core.display.Markdown object>"
      ]
     },
     "metadata": {},
     "output_type": "display_data"
    },
    {
     "data": {
      "text/markdown": [
       "[2023-07-21 15:08:00 MarketWatch - The Margin: RIP Tony Bennett: World mourns ‘one of the great voices of all time’ silenced](https://www.marketwatch.com/story/rip-tony-bennett-world-mourns-one-of-the-great-voices-of-all-time-silenced-6e51ea0)\n"
      ],
      "text/plain": [
       "<IPython.core.display.Markdown object>"
      ]
     },
     "metadata": {},
     "output_type": "display_data"
    },
    {
     "data": {
      "text/markdown": [
       "[2023-07-21 15:02:07 SeekingAlpha - Tepezza warning label unlikely to have any impact on Horizon/Amgen deal - analyst](https://seekingalpha.com/news/3989690-tepezza-warning-label-unlikely-to-have-impact-on-horizonamgen-deal-analyst?utm_source=feed_news_m_a&utm_medium=referral)\n"
      ],
      "text/plain": [
       "<IPython.core.display.Markdown object>"
      ]
     },
     "metadata": {},
     "output_type": "display_data"
    },
    {
     "data": {
      "text/markdown": [
       "[2023-07-21 15:00:00 GlobalNewswire - Industrial Filtration Market Set to Soar Past USD 36 Billion by 2030](https://www.globenewswire.com/news-release/2023/07/21/2708990/0/en/Industrial-Filtration-Market-Set-to-Soar-Past-USD-36-Billion-by-2030.html)\n"
      ],
      "text/plain": [
       "<IPython.core.display.Markdown object>"
      ]
     },
     "metadata": {},
     "output_type": "display_data"
    },
    {
     "data": {
      "text/markdown": [
       "[2023-07-21 14:59:00 MarketWatch - : Here’s why Wall Street has fallen out of love with Tesla — for now](https://www.marketwatch.com/story/heres-why-wall-street-has-fallen-out-of-love-with-tesla-for-now-cf2346aa)\n"
      ],
      "text/plain": [
       "<IPython.core.display.Markdown object>"
      ]
     },
     "metadata": {},
     "output_type": "display_data"
    },
    {
     "data": {
      "text/markdown": [
       "[2023-07-21 14:55:18 CNBC - 'Barbenheimer' gets off to hot start with $22.3 million in Thursday sales for 'Barbie'](https://www.cnbc.com/2023/07/21/barbenheimer-box-office-thursday-ticket-sales.html)\n"
      ],
      "text/plain": [
       "<IPython.core.display.Markdown object>"
      ]
     },
     "metadata": {},
     "output_type": "display_data"
    },
    {
     "data": {
      "text/markdown": [
       "[2023-07-21 14:44:00 MarketWatch - : RedHill Biopharma shares erase gains after company announces stock offering](https://www.marketwatch.com/story/redhill-biopharmas-stock-soars-10-after-company-gets-u-s-funding-to-develop-treatment-for-radiation-sickness-65259d2)\n"
      ],
      "text/plain": [
       "<IPython.core.display.Markdown object>"
      ]
     },
     "metadata": {},
     "output_type": "display_data"
    },
    {
     "data": {
      "text/markdown": [
       "[2023-07-21 14:36:25 Cointelegraph - How do DeFi projects generate profit?](https://cointelegraph.com/news/how-do-defi-projects-generate-profit)\n"
      ],
      "text/plain": [
       "<IPython.core.display.Markdown object>"
      ]
     },
     "metadata": {},
     "output_type": "display_data"
    },
    {
     "data": {
      "text/markdown": [
       "[2023-07-21 14:34:53 Forexlive - The USDCHF stays above the 200 hour MA. What does that mean for traders/technicals?](https://www.forexlive.com/technical-analysis/the-usdchf-stays-above-the-200-hour-ma-what-does-that-mean-for-traderstechnicals-20230721/)\n"
      ],
      "text/plain": [
       "<IPython.core.display.Markdown object>"
      ]
     },
     "metadata": {},
     "output_type": "display_data"
    },
    {
     "data": {
      "text/markdown": [
       "[2023-07-21 14:30:00 GlobalNewswire - Recycled Glass Market to Worth USD 7.35 Billion by 2030 | Skyquest Technology](https://www.globenewswire.com/news-release/2023/07/21/2708981/0/en/Recycled-Glass-Market-to-Worth-USD-7-35-Billion-by-2030-Skyquest-Technology.html)\n"
      ],
      "text/plain": [
       "<IPython.core.display.Markdown object>"
      ]
     },
     "metadata": {},
     "output_type": "display_data"
    },
    {
     "data": {
      "text/markdown": [
       "[2023-07-21 14:28:00 MarketWatch - Metals Stocks: Gold prices turn lower for the week as investors look to Fed meeting](https://www.marketwatch.com/story/gold-set-to-climb-for-2nd-straight-week-as-investors-look-to-fed-meeting-2c16171f)\n"
      ],
      "text/plain": [
       "<IPython.core.display.Markdown object>"
      ]
     },
     "metadata": {},
     "output_type": "display_data"
    },
    {
     "data": {
      "text/markdown": [
       "[2023-07-21 14:28:00 GlobalNewswire - Form 8.3 - Horizon Therapeutics plc](https://www.globenewswire.com/news-release/2023/07/21/2708976/0/en/Form-8-3-Horizon-Therapeutics-plc.html)\n"
      ],
      "text/plain": [
       "<IPython.core.display.Markdown object>"
      ]
     },
     "metadata": {},
     "output_type": "display_data"
    },
    {
     "data": {
      "text/markdown": [
       "[2023-07-21 14:26:00 BusinessWire - Diversified Healthcare Trust Announces Filing of Definitive Proxy Materials and Recommends Shareholders Vote “FOR” Merger with Office Properties Income Trust on the WHITE Proxy Card](http://www.businesswire.com/news/home/20230720383230/en/Diversified-Healthcare-Trust-Announces-Filing-of-Definitive-Proxy-Materials-and-Recommends-Shareholders-Vote-%E2%80%9CFOR%E2%80%9D-Merger-with-Office-Properties-Income-Trust-on-the-WHITE-Proxy-Card/?feedref=JjAwJuNHiystnCoBq_hl-Rc4vIAVcHHkbDcwJ)\n"
      ],
      "text/plain": [
       "<IPython.core.display.Markdown object>"
      ]
     },
     "metadata": {},
     "output_type": "display_data"
    },
    {
     "data": {
      "text/markdown": [
       "[2023-07-21 14:23:00 GlobalNewswire - INTENTION TO FUNDRAISE](https://www.globenewswire.com/news-release/2023/07/21/2708974/0/en/INTENTION-TO-FUNDRAISE.html)\n"
      ],
      "text/plain": [
       "<IPython.core.display.Markdown object>"
      ]
     },
     "metadata": {},
     "output_type": "display_data"
    },
    {
     "data": {
      "text/markdown": [
       "[2023-07-21 14:23:00 Cointelegraph - BlackRock ETF will be 'big rubber yes stamp' for Bitcoin: Interview with Charles Edwards](https://cointelegraph.com/news/blackrock-bitcoin-etf-interview-charles-edwards)\n"
      ],
      "text/plain": [
       "<IPython.core.display.Markdown object>"
      ]
     },
     "metadata": {},
     "output_type": "display_data"
    },
    {
     "data": {
      "text/markdown": [
       "[2023-07-21 14:20:00 GlobalNewswire - Davidson Kempner Capital Management LP : Form 8.3 - Horizon Therapeutics plc](https://www.globenewswire.com/news-release/2023/07/21/2708972/0/en/Davidson-Kempner-Capital-Management-LP-Form-8-3-Horizon-Therapeutics-plc.html)\n"
      ],
      "text/plain": [
       "<IPython.core.display.Markdown object>"
      ]
     },
     "metadata": {},
     "output_type": "display_data"
    },
    {
     "data": {
      "text/markdown": [
       "[2023-07-21 14:15:56 Cointelegraph - Bitcoin miners still bullish despite toughest bear market yet - Hut8, Foundry, Braiins](https://cointelegraph.com/news/bitcoin-miners-bullish-despite-bear-market-hut8-foundry-braiins)\n"
      ],
      "text/plain": [
       "<IPython.core.display.Markdown object>"
      ]
     },
     "metadata": {},
     "output_type": "display_data"
    },
    {
     "data": {
      "text/markdown": [
       "[2023-07-21 14:11:00 GlobalNewswire - Horizon Therapeutics plc](https://www.globenewswire.com/news-release/2023/07/21/2708965/0/en/Horizon-Therapeutics-plc.html)\n"
      ],
      "text/plain": [
       "<IPython.core.display.Markdown object>"
      ]
     },
     "metadata": {},
     "output_type": "display_data"
    },
    {
     "data": {
      "text/markdown": [
       "[2023-07-21 14:07:04 SeekingAlpha - UK antitrust regulator moves LKQ purchase of Uni-Select into phase 1 review](https://seekingalpha.com/news/3989655-uk-antitrust-regulator-moves-lkq-purchase-of-uni-select-into-in-phase-1-review?utm_source=feed_news_m_a&utm_medium=referral)\n"
      ],
      "text/plain": [
       "<IPython.core.display.Markdown object>"
      ]
     },
     "metadata": {},
     "output_type": "display_data"
    },
    {
     "data": {
      "text/markdown": [
       "[2023-07-21 14:04:54 CoinDesk - DeFi Protocol Conic Finance Hacked for 1,700 Ether](https://www.coindesk.com/tech/2023/07/21/defi-protocol-conic-finance-hacked-for-1700-ether/?utm_medium=referral&utm_source=rss&utm_campaign=headlines)\n"
      ],
      "text/plain": [
       "<IPython.core.display.Markdown object>"
      ]
     },
     "metadata": {},
     "output_type": "display_data"
    },
    {
     "data": {
      "text/markdown": [
       "[2023-07-21 14:04:05 Forexlive - GBPUSD moves to new lows for the week and below a swing area but sees a rebound](https://www.forexlive.com/technical-analysis/gbpusd-moves-to-new-lows-for-the-week-and-below-a-swing-area-but-sees-a-rebound-20230721/)\n"
      ],
      "text/plain": [
       "<IPython.core.display.Markdown object>"
      ]
     },
     "metadata": {},
     "output_type": "display_data"
    },
    {
     "data": {
      "text/markdown": [
       "[2023-07-21 14:02:16 CNBC - Astranis internet satellite malfunctions before beginning Alaska service, backup planned for spring](https://www.cnbc.com/2023/07/21/astranis-alaska-internet-satellite-malfunctions-backup-planned.html)\n"
      ],
      "text/plain": [
       "<IPython.core.display.Markdown object>"
      ]
     },
     "metadata": {},
     "output_type": "display_data"
    },
    {
     "data": {
      "text/markdown": [
       "[2023-07-21 14:00:00 GlobalNewswire - Industrial Display Market Set to Soar Past USD 8.85 Billion by 2030 | Skyquest Technology](https://www.globenewswire.com/news-release/2023/07/21/2708954/0/en/Industrial-Display-Market-Set-to-Soar-Past-USD-8-85-Billion-by-2030-Skyquest-Technology.html)\n"
      ],
      "text/plain": [
       "<IPython.core.display.Markdown object>"
      ]
     },
     "metadata": {},
     "output_type": "display_data"
    },
    {
     "data": {
      "text/markdown": [
       "[2023-07-21 13:45:00 GlobalNewswire - Hair Color Market Set to Soar Past USD 7.01 Billion by 2030 | Skyquest Technology](https://www.globenewswire.com/news-release/2023/07/21/2708947/0/en/Hair-Color-Market-Set-to-Soar-Past-USD-7-01-Billion-by-2030-Skyquest-Technology.html)\n"
      ],
      "text/plain": [
       "<IPython.core.display.Markdown object>"
      ]
     },
     "metadata": {},
     "output_type": "display_data"
    },
    {
     "data": {
      "text/markdown": [
       "[2023-07-21 13:43:45 Cointelegraph - The last Bitcoin: What will happen once all BTC are mined?](https://cointelegraph.com/news/the-last-bitcoin-btc-mine)\n"
      ],
      "text/plain": [
       "<IPython.core.display.Markdown object>"
      ]
     },
     "metadata": {},
     "output_type": "display_data"
    },
    {
     "data": {
      "text/markdown": [
       "[2023-07-21 13:41:01 Forexlive - Trump classified documents trial date set for May 20, 2024](https://www.forexlive.com/news/trump-classified-documents-trial-date-set-for-may-20-2024-20230721/)\n"
      ],
      "text/plain": [
       "<IPython.core.display.Markdown object>"
      ]
     },
     "metadata": {},
     "output_type": "display_data"
    },
    {
     "data": {
      "text/markdown": [
       "[2023-07-21 13:41:00 GlobalNewswire - Invesco Ltd: Form 8.3 - Gresham House PLC OPD](https://www.globenewswire.com/news-release/2023/07/21/2708945/0/en/Invesco-Ltd-Form-8-3-Gresham-House-PLC-OPD.html)\n"
      ],
      "text/plain": [
       "<IPython.core.display.Markdown object>"
      ]
     },
     "metadata": {},
     "output_type": "display_data"
    },
    {
     "data": {
      "text/markdown": [
       "[2023-07-21 13:31:00 MarketWatch - : This Barbie ‘holy grail’ doll is on sale for $25,000 — but one rare Barbie collectible could fetch $1 million](https://www.marketwatch.com/story/this-barbie-holy-grail-doll-is-on-sale-for-25-000-but-one-rare-barbie-collectible-could-fetch-1-million-3ebf88ba)\n"
      ],
      "text/plain": [
       "<IPython.core.display.Markdown object>"
      ]
     },
     "metadata": {},
     "output_type": "display_data"
    },
    {
     "data": {
      "text/markdown": [
       "[2023-07-21 13:30:00 Cointelegraph - Web3 Gamer: Earn Bitcoin in Minecraft, BGA’s 50/50 gender split, Oath of Peak hot take](https://cointelegraph.com/magazine/web3-gamer-earn-bitcoin-minecraft-sega-blockchain-plans/)\n"
      ],
      "text/plain": [
       "<IPython.core.display.Markdown object>"
      ]
     },
     "metadata": {},
     "output_type": "display_data"
    },
    {
     "data": {
      "text/markdown": [
       "[2023-07-21 13:29:42 CNBC - The Investing Club's top 10 things to watch in the stock market Friday](https://www.cnbc.com/2023/07/21/the-investing-clubs-top-10-things-to-watch-in-the-stock-market-friday.html)\n"
      ],
      "text/plain": [
       "<IPython.core.display.Markdown object>"
      ]
     },
     "metadata": {},
     "output_type": "display_data"
    },
    {
     "data": {
      "text/markdown": [
       "[2023-07-21 13:28:00 MarketWatch - : Bank of Russia hikes rates by a full point as country struggles to find workers after sending men to fight](https://www.marketwatch.com/story/bank-of-russia-hikes-rates-by-a-full-point-as-country-struggles-to-find-workers-after-sending-men-to-fight-9045281b)\n"
      ],
      "text/plain": [
       "<IPython.core.display.Markdown object>"
      ]
     },
     "metadata": {},
     "output_type": "display_data"
    },
    {
     "data": {
      "text/markdown": [
       "[2023-07-21 13:14:00 MarketWatch - : If the hound-of-hell heat wave wasn’t enough, Spain’s political temperature is also soaring ahead of divisive weekend election](https://www.marketwatch.com/story/facing-the-hounds-of-hell-spanish-voters-head-for-a-divisive-election-381729f8)\n"
      ],
      "text/plain": [
       "<IPython.core.display.Markdown object>"
      ]
     },
     "metadata": {},
     "output_type": "display_data"
    },
    {
     "data": {
      "text/markdown": [
       "[2023-07-21 13:06:06 Cointelegraph - Binance CEO warns of phishing scams as Uniswap founder gets hacked](https://cointelegraph.com/news/cz-binance-ceo-warns-of-phishing-scams-as-uniswap-founder-gets-hacked)\n"
      ],
      "text/plain": [
       "<IPython.core.display.Markdown object>"
      ]
     },
     "metadata": {},
     "output_type": "display_data"
    },
    {
     "data": {
      "text/markdown": [
       "[2023-07-21 13:05:00 MarketWatch - Therese Poletti's Tech Tales: Despite hype, tech earnings still won’t show many results from AI yet](https://www.marketwatch.com/story/despite-hype-tech-earnings-still-wont-show-many-results-from-ai-yet-e3a3cf1a)\n"
      ],
      "text/plain": [
       "<IPython.core.display.Markdown object>"
      ]
     },
     "metadata": {},
     "output_type": "display_data"
    },
    {
     "data": {
      "text/markdown": [
       "[2023-07-21 13:00:29 Dailyfx - Gold, Silver Outlook: Stronger USD, Yields Prompt a Pullback Ahead of FOMC](https://www.dailyfx.com/news/gold-silver-outlook-stronger-usd-yields-prompt-a-pullback-ahead-of-fomc-20230721.html)\n"
      ],
      "text/plain": [
       "<IPython.core.display.Markdown object>"
      ]
     },
     "metadata": {},
     "output_type": "display_data"
    },
    {
     "data": {
      "text/markdown": [
       "[2023-07-21 13:00:00 GlobalNewswire - Tissue Diagnostic Market Set to Soar Past USD 9.42 Billion by 2030](https://www.globenewswire.com/news-release/2023/07/21/2708895/0/en/Tissue-Diagnostic-Market-Set-to-Soar-Past-USD-9-42-Billion-by-2030.html)\n"
      ],
      "text/plain": [
       "<IPython.core.display.Markdown object>"
      ]
     },
     "metadata": {},
     "output_type": "display_data"
    },
    {
     "data": {
      "text/markdown": [
       "[2023-07-21 12:57:44 Forexlive - USD/CAD rises above 1.32 as the Canadian consumer softens](https://www.forexlive.com/news/usdcad-rises-above-132-as-the-canadian-consumer-softens-20230721/)\n"
      ],
      "text/plain": [
       "<IPython.core.display.Markdown object>"
      ]
     },
     "metadata": {},
     "output_type": "display_data"
    },
    {
     "data": {
      "text/markdown": [
       "[2023-07-21 12:56:24 CoinDesk - First Mover Americas: ProShares Dismisses Concerns Over Cost of Tracking Futures](https://www.coindesk.com/markets/2023/07/21/first-mover-americas-xrp-momentum-could-set-precedent-for-bitcoin/?utm_medium=referral&utm_source=rss&utm_campaign=headlines)\n"
      ],
      "text/plain": [
       "<IPython.core.display.Markdown object>"
      ]
     },
     "metadata": {},
     "output_type": "display_data"
    },
    {
     "data": {
      "text/markdown": [
       "[2023-07-21 12:52:00 MarketWatch - The Ratings Game: Carvana’s stock catches another downgrade as questions linger — despite recent momentum](https://www.marketwatch.com/story/carvanas-stock-catches-another-downgrade-as-questions-linger-despite-recent-momentum-6ead393f)\n"
      ],
      "text/plain": [
       "<IPython.core.display.Markdown object>"
      ]
     },
     "metadata": {},
     "output_type": "display_data"
    },
    {
     "data": {
      "text/markdown": [
       "[2023-07-21 12:46:45 CNBC - Friday will be an active day on Wall Street with a major index overhaul and options expiration](https://www.cnbc.com/2023/07/21/stock-volume-friday-seen-high-due-to-index-revamp-options-expiration.html)\n"
      ],
      "text/plain": [
       "<IPython.core.display.Markdown object>"
      ]
     },
     "metadata": {},
     "output_type": "display_data"
    },
    {
     "data": {
      "text/markdown": [
       "[2023-07-21 12:38:00 MarketWatch - : Apple appears to be making rapid inroads in buy-now-pay-later](https://www.marketwatch.com/story/apple-appears-to-be-making-rapid-inroads-in-buy-now-pay-later-c1a0d310)\n"
      ],
      "text/plain": [
       "<IPython.core.display.Markdown object>"
      ]
     },
     "metadata": {},
     "output_type": "display_data"
    },
    {
     "data": {
      "text/markdown": [
       "[2023-07-21 12:35:00 MarketWatch - The Fed: FedNow launches today. What to know about the Fed’s real-time payment service.](https://www.marketwatch.com/story/fednow-launches-today-what-to-know-about-the-feds-real-time-payment-service-51a20baa)\n"
      ],
      "text/plain": [
       "<IPython.core.display.Markdown object>"
      ]
     },
     "metadata": {},
     "output_type": "display_data"
    },
    {
     "data": {
      "text/markdown": [
       "[2023-07-21 12:30:00 MarketWatch - : Longtime tech entrepreneur Anshu Agarwal joins venture firm to ‘let founders do their magic’](https://www.marketwatch.com/story/longtime-tech-entrepreneur-anshu-agarwal-joins-venture-firm-to-let-founders-do-their-magic-bdd5e686)\n"
      ],
      "text/plain": [
       "<IPython.core.display.Markdown object>"
      ]
     },
     "metadata": {},
     "output_type": "display_data"
    },
    {
     "data": {
      "text/markdown": [
       "[2023-07-21 12:30:00 GlobalNewswire - Mining Chemicals Market to Worth USD 18.13 Billion by 2030 | Skyquest Technology](https://www.globenewswire.com/news-release/2023/07/21/2708865/0/en/Mining-Chemicals-Market-to-Worth-USD-18-13-Billion-by-2030-Skyquest-Technology.html)\n"
      ],
      "text/plain": [
       "<IPython.core.display.Markdown object>"
      ]
     },
     "metadata": {},
     "output_type": "display_data"
    },
    {
     "data": {
      "text/markdown": [
       "[2023-07-21 12:25:32 SeekingAlpha - KKR to acquire specialty maker Chase Corp. for ~$1.3B](https://seekingalpha.com/news/3989586-kkr-to-acquire-specialty-maker-chase-corp-for-13b?utm_source=feed_news_m_a&utm_medium=referral)\n"
      ],
      "text/plain": [
       "<IPython.core.display.Markdown object>"
      ]
     },
     "metadata": {},
     "output_type": "display_data"
    },
    {
     "data": {
      "text/markdown": [
       "[2023-07-21 12:22:52 Cointelegraph - Curve omnipool platform Conic Finance hacked for $3.2 million in ETH](https://cointelegraph.com/news/eth-curve-omnipool-platform-conic-finance-hacked-for-3-2-million-in-eth)\n"
      ],
      "text/plain": [
       "<IPython.core.display.Markdown object>"
      ]
     },
     "metadata": {},
     "output_type": "display_data"
    },
    {
     "data": {
      "text/markdown": [
       "[2023-07-21 12:21:13 CNBC - Stocks making the biggest moves premarket: American Express, AutoNation, CSX and more](https://www.cnbc.com/2023/07/21/stocks-making-the-biggest-moves-premarket-american-express-autonation-csx-and-more.html)\n"
      ],
      "text/plain": [
       "<IPython.core.display.Markdown object>"
      ]
     },
     "metadata": {},
     "output_type": "display_data"
    },
    {
     "data": {
      "text/markdown": [
       "[2023-07-21 12:17:13 SeekingAlpha - A1 Group acquires NYSW Beverage Brands](https://seekingalpha.com/news/3989578-a1-group-acquires-nysw-beverage-brands?utm_source=feed_news_m_a&utm_medium=referral)\n"
      ],
      "text/plain": [
       "<IPython.core.display.Markdown object>"
      ]
     },
     "metadata": {},
     "output_type": "display_data"
    },
    {
     "data": {
      "text/markdown": [
       "[2023-07-21 12:03:00 Cointelegraph - 5 emerging digital finance trends to watch](https://cointelegraph.com/news/5-emerging-digital-finance-trends)\n"
      ],
      "text/plain": [
       "<IPython.core.display.Markdown object>"
      ]
     },
     "metadata": {},
     "output_type": "display_data"
    },
    {
     "data": {
      "text/markdown": [
       "[2023-07-21 12:00:17 Dailyfx - Euro (EUR/USD) Forecast – All Eyes on the Fed and ECB Next Week](https://www.dailyfx.com/news/euro-eur-usd-forecast-all-eyes-on-the-fed-and-ecb-next-week-20230721.html)\n"
      ],
      "text/plain": [
       "<IPython.core.display.Markdown object>"
      ]
     },
     "metadata": {},
     "output_type": "display_data"
    },
    {
     "data": {
      "text/markdown": [
       "[2023-07-21 12:00:01 CNBC - Celebrities are flooding the market with liquor brands — and some are faring better than others](https://www.cnbc.com/2023/07/21/celebrity-liquor-brands-grow-from-rock-kendall-jenner-ryan-reynolds.html)\n"
      ],
      "text/plain": [
       "<IPython.core.display.Markdown object>"
      ]
     },
     "metadata": {},
     "output_type": "display_data"
    },
    {
     "data": {
      "text/markdown": [
       "[2023-07-21 12:00:00 GlobalNewswire - Point of Use Water Treatment Systems Market to Reach USD 36.54 Billion by 2029 | With Exhibiting a CAGR of 8.3%](https://www.globenewswire.com/news-release/2023/07/21/2708844/0/en/Point-of-Use-Water-Treatment-Systems-Market-to-Reach-USD-36-54-Billion-by-2029-With-Exhibiting-a-CAGR-of-8-3.html)\n"
      ],
      "text/plain": [
       "<IPython.core.display.Markdown object>"
      ]
     },
     "metadata": {},
     "output_type": "display_data"
    },
    {
     "data": {
      "text/markdown": [
       "[2023-07-21 12:00:00 GlobalNewswire - Obra Capital Completes Acquisition of KDP Assets](https://www.globenewswire.com/news-release/2023/07/21/2708847/0/en/Obra-Capital-Completes-Acquisition-of-KDP-Assets.html)\n"
      ],
      "text/plain": [
       "<IPython.core.display.Markdown object>"
      ]
     },
     "metadata": {},
     "output_type": "display_data"
    },
    {
     "data": {
      "text/markdown": [
       "[2023-07-21 12:00:00 GlobalNewswire - Fresh Tracks Announces $8.25 Million Buyout of Its Right to Receive Future Sofpironium Bromide Payments from Botanix](https://www.globenewswire.com/news-release/2023/07/21/2708852/0/en/Fresh-Tracks-Announces-8-25-Million-Buyout-of-Its-Right-to-Receive-Future-Sofpironium-Bromide-Payments-from-Botanix.html)\n"
      ],
      "text/plain": [
       "<IPython.core.display.Markdown object>"
      ]
     },
     "metadata": {},
     "output_type": "display_data"
    },
    {
     "data": {
      "text/markdown": [
       "[2023-07-21 11:59:00 MarketWatch - Banking: U.S. Federal Reserve confirms July 27 meeting on Basel III endgame capital proposals for banks](https://www.marketwatch.com/story/u-s-federal-reserve-confirms-july-27-meeting-on-basel-iii-endgame-97a2691e)\n"
      ],
      "text/plain": [
       "<IPython.core.display.Markdown object>"
      ]
     },
     "metadata": {},
     "output_type": "display_data"
    },
    {
     "data": {
      "text/markdown": [
       "[2023-07-21 11:50:00 MarketWatch - The Ratings Game: XPeng’s stock falls after analyst’s ‘profit-taking’ call ahead of earnings](https://www.marketwatch.com/story/xpengs-stock-falls-after-analysts-profit-taking-call-ahead-of-earnings-b254b2ef)\n"
      ],
      "text/plain": [
       "<IPython.core.display.Markdown object>"
      ]
     },
     "metadata": {},
     "output_type": "display_data"
    },
    {
     "data": {
      "text/markdown": [
       "[2023-07-21 11:49:57 CoinDesk - SOL, XRP Lead Slide in Crypto Majors as Bitcoin Slips Below $30K](https://www.coindesk.com/markets/2023/07/21/sol-xrp-lead-slide-in-crypto-majors-as-bitcoin-slips-below-30k/?utm_medium=referral&utm_source=rss&utm_campaign=headlines)\n"
      ],
      "text/plain": [
       "<IPython.core.display.Markdown object>"
      ]
     },
     "metadata": {},
     "output_type": "display_data"
    },
    {
     "data": {
      "text/markdown": [
       "[2023-07-21 11:46:00 GlobalNewswire - Form 8.3 - LondonMetric Property PLC](https://www.globenewswire.com/news-release/2023/07/21/2708836/0/en/Form-8-3-LondonMetric-Property-PLC.html)\n"
      ],
      "text/plain": [
       "<IPython.core.display.Markdown object>"
      ]
     },
     "metadata": {},
     "output_type": "display_data"
    },
    {
     "data": {
      "text/markdown": [
       "[2023-07-21 11:44:00 GlobalNewswire - Form 8.3 - Dechra Pharmaceuticals PLC](https://www.globenewswire.com/news-release/2023/07/21/2708834/0/en/Form-8-3-Dechra-Pharmaceuticals-PLC.html)\n"
      ],
      "text/plain": [
       "<IPython.core.display.Markdown object>"
      ]
     },
     "metadata": {},
     "output_type": "display_data"
    },
    {
     "data": {
      "text/markdown": [
       "[2023-07-21 11:43:00 GlobalNewswire - Lifeist Wellness Closes on Zest Acquisition](https://www.globenewswire.com/news-release/2023/07/21/2708826/0/en/Lifeist-Wellness-Closes-on-Zest-Acquisition.html)\n"
      ],
      "text/plain": [
       "<IPython.core.display.Markdown object>"
      ]
     },
     "metadata": {},
     "output_type": "display_data"
    },
    {
     "data": {
      "text/markdown": [
       "[2023-07-21 11:26:00 MarketWatch - Earnings Outlook: It’s Microsoft’s most consequential earnings in ages — but the future is even brighter](https://www.marketwatch.com/story/its-microsofts-most-consequential-earnings-in-ages-but-the-future-is-even-brighter-65c91e94)\n"
      ],
      "text/plain": [
       "<IPython.core.display.Markdown object>"
      ]
     },
     "metadata": {},
     "output_type": "display_data"
    },
    {
     "data": {
      "text/markdown": [
       "[2023-07-21 11:08:00 MarketWatch - Earnings Results: Amex earnings show record spending as travel and entertainment stay hot](https://www.marketwatch.com/story/amex-earnings-show-record-spending-as-travel-and-entertainment-stay-hot-fed3acd0)\n"
      ],
      "text/plain": [
       "<IPython.core.display.Markdown object>"
      ]
     },
     "metadata": {},
     "output_type": "display_data"
    },
    {
     "data": {
      "text/markdown": [
       "[2023-07-21 11:00:20 Cointelegraph - Cerebras Systems secures $100m AI supercomputer deal with UAE’s G42](https://cointelegraph.com/news/cerebras-systems-secures-100m-ai-supercomputer-deal-with-uae-s-g42)\n"
      ],
      "text/plain": [
       "<IPython.core.display.Markdown object>"
      ]
     },
     "metadata": {},
     "output_type": "display_data"
    },
    {
     "data": {
      "text/markdown": [
       "[2023-07-21 11:00:00 BusinessWire - Lowe and Real Capital Solutions Acquire Westfield Mission Valley, 1.1-Million-Square-Foot Open Air Retail Center in San Diego](http://www.businesswire.com/news/home/20230721855340/en/Lowe-and-Real-Capital-Solutions-Acquire-Westfield-Mission-Valley-1.1-Million-Square-Foot-Open-Air-Retail-Center-in-San-Diego/?feedref=JjAwJuNHiystnCoBq_hl-Rc4vIAVcHHkbDcwJimU8QtrtlakeQ9hNboBqTAWIjTge3KWq9s9jif-UkBjBsFRyYAbRTSLTc1mgvhPlnaBA55M-o)\n"
      ],
      "text/plain": [
       "<IPython.core.display.Markdown object>"
      ]
     },
     "metadata": {},
     "output_type": "display_data"
    },
    {
     "data": {
      "text/markdown": [
       "[2023-07-21 10:51:00 MarketWatch - Deep Dive: These 13 S&P 500 stocks stand out for expected growth through 2025](https://www.marketwatch.com/story/these-13-s-p-500-stocks-stand-out-for-expected-growth-through-2025-bb072667)\n"
      ],
      "text/plain": [
       "<IPython.core.display.Markdown object>"
      ]
     },
     "metadata": {},
     "output_type": "display_data"
    },
    {
     "data": {
      "text/markdown": [
       "[2023-07-21 10:45:00 BusinessWire - Chase Corporation Enters Definitive Agreement to be Acquired by KKR for $1.3 Billion](http://www.businesswire.com/news/home/20230721456342/en/Chase-Corporation-Enters-Definitive-Agreement-to-be-Acquired-by-KKR-for-1.3-Billion/?feedref=JjAwJuNHiystnCoBq_hl-Rc4vIAVcHHkbDcwJimU8QtrtlakeQ9hNboBqTAWIjTge3KWq9s9jif-UkBjBsFRyYAbRTSLTc1mgvhPlnaBA55M-oupQnbXnhKsYk8RmHF_kAy2gZikaX3QWV6xOvgFlA=)\n"
      ],
      "text/plain": [
       "<IPython.core.display.Markdown object>"
      ]
     },
     "metadata": {},
     "output_type": "display_data"
    },
    {
     "data": {
      "text/markdown": [
       "[2023-07-21 10:41:07 Forexlive - NZDUSD Technical Analysis - Make it or Break it moment for the Buyers](https://www.forexlive.com/technical-analysis/nzdusd-technical-analysis-make-it-or-break-it-moment-for-the-buyers-20230721/)\n"
      ],
      "text/plain": [
       "<IPython.core.display.Markdown object>"
      ]
     },
     "metadata": {},
     "output_type": "display_data"
    },
    {
     "data": {
      "text/markdown": [
       "[2023-07-21 10:35:00 MarketWatch - Need to Know: Even this long-time bull is worried about cracks in the tech stock rally. Here’s how Tom Lee expects the market to shake out.](https://www.marketwatch.com/story/even-this-long-time-bull-is-worried-about-cracks-in-the-tech-stock-rally-heres-how-tom-lee-expects-the-market-to-shake-out-5a97593e)\n"
      ],
      "text/plain": [
       "<IPython.core.display.Markdown object>"
      ]
     },
     "metadata": {},
     "output_type": "display_data"
    },
    {
     "data": {
      "text/markdown": [
       "[2023-07-21 10:28:00 GlobalNewswire - Health Insurance Market to Worth USD 3793.4 Billion by 2030 | Skyquest Technology](https://www.globenewswire.com/news-release/2023/07/21/2708780/0/en/Health-Insurance-Market-to-Worth-USD-3793-4-Billion-by-2030-Skyquest-Technology.html)\n"
      ],
      "text/plain": [
       "<IPython.core.display.Markdown object>"
      ]
     },
     "metadata": {},
     "output_type": "display_data"
    },
    {
     "data": {
      "text/markdown": [
       "[2023-07-21 10:25:01 Dailyfx - AUD/USD Price Forecast: Aussie Dollar Dwindling Ahead of FOMC](https://www.dailyfx.com/news/forex-aud-usd-price-forecast-aussie-dollar-dwindling-ahead-of-fomc-wv-20230721.html)\n"
      ],
      "text/plain": [
       "<IPython.core.display.Markdown object>"
      ]
     },
     "metadata": {},
     "output_type": "display_data"
    },
    {
     "data": {
      "text/markdown": [
       "[2023-07-21 10:24:10 SeekingAlpha - Safran to buy Collins Aerospace flight control unit in $1.8B deal](https://seekingalpha.com/news/3989650-safran-to-buy-collins-aerospace-flight-control-unit-in-18b-deal?utm_source=feed_news_m_a&utm_medium=referral)\n"
      ],
      "text/plain": [
       "<IPython.core.display.Markdown object>"
      ]
     },
     "metadata": {},
     "output_type": "display_data"
    },
    {
     "data": {
      "text/markdown": [
       "[2023-07-21 10:21:14 Cointelegraph - US DoJ accuses FTX founder of leaking private diary of Caroline Ellison](https://cointelegraph.com/news/ftx-founder-accused-of-leaking-caroline-ellisons-private-papers)\n"
      ],
      "text/plain": [
       "<IPython.core.display.Markdown object>"
      ]
     },
     "metadata": {},
     "output_type": "display_data"
    },
    {
     "data": {
      "text/markdown": [
       "[2023-07-21 10:15:31 CoinDesk - Indonesia Crypto-Stock Exchange, Clearing House Goes Live After Long Delays](https://www.coindesk.com/policy/2023/07/21/indonesia-crypto-stock-exchange-clearing-house-goes-live-after-long-delays/?utm_medium=referral&utm_source=rss&utm_campaign=headlines)\n"
      ],
      "text/plain": [
       "<IPython.core.display.Markdown object>"
      ]
     },
     "metadata": {},
     "output_type": "display_data"
    },
    {
     "data": {
      "text/markdown": [
       "[2023-07-21 10:05:00 MarketWatch - Help Me Retire: We have $2 million and plan to retire soon, but we aren’t sure how our 401(k) plans are taxed](https://www.marketwatch.com/story/we-have-2-million-and-plan-to-retire-soon-but-we-arent-sure-how-our-401-k-plans-are-taxed-72a0dfb)\n"
      ],
      "text/plain": [
       "<IPython.core.display.Markdown object>"
      ]
     },
     "metadata": {},
     "output_type": "display_data"
    },
    {
     "data": {
      "text/markdown": [
       "[2023-07-21 10:00:00 MarketWatch - The Fed: Everyone thinks the Fed’s rate hike next week will be the final one — except the Fed](https://www.marketwatch.com/story/everyone-thinks-the-feds-rate-hike-next-week-will-be-the-final-one-except-the-fed-dc5fb209)\n"
      ],
      "text/plain": [
       "<IPython.core.display.Markdown object>"
      ]
     },
     "metadata": {},
     "output_type": "display_data"
    },
    {
     "data": {
      "text/markdown": [
       "[2023-07-21 09:59:48 Cointelegraph - Bitcoin Bollinger Bands echo move that ended in 40% January gains](https://cointelegraph.com/news/bitcoin-price-bollinger-bands-echo-january-gains)\n"
      ],
      "text/plain": [
       "<IPython.core.display.Markdown object>"
      ]
     },
     "metadata": {},
     "output_type": "display_data"
    },
    {
     "data": {
      "text/markdown": [
       "[2023-07-21 09:56:00 MarketWatch - Bond Report: Bond yields stay near highs after jobless claims decline](https://www.marketwatch.com/story/bond-yields-stay-near-highs-after-jobless-claims-decline-868f22d5)\n"
      ],
      "text/plain": [
       "<IPython.core.display.Markdown object>"
      ]
     },
     "metadata": {},
     "output_type": "display_data"
    },
    {
     "data": {
      "text/markdown": [
       "[2023-07-21 09:35:18 Cointelegraph - Dota 2, Rocket League pros ‘want to explore’ Web3 and blockchain gaming](https://cointelegraph.com/news/web3-blockchain-dota-2-rocket-league-pros-want-to-explore-web3-and-blockchain-gaming)\n"
      ],
      "text/plain": [
       "<IPython.core.display.Markdown object>"
      ]
     },
     "metadata": {},
     "output_type": "display_data"
    },
    {
     "data": {
      "text/markdown": [
       "[2023-07-21 09:30:52 Dailyfx - Stock indices, except the FTSE 100, consolidate ahead of weekend](https://www.dailyfx.com/news/stock-indices-except-the-ftse-100-consolidate-ahead-of-weekend-20230721.html)\n"
      ],
      "text/plain": [
       "<IPython.core.display.Markdown object>"
      ]
     },
     "metadata": {},
     "output_type": "display_data"
    },
    {
     "data": {
      "text/markdown": [
       "[2023-07-21 09:28:11 Forexlive - Japan top currency diplomat Kanda says watching FX market with sense of urgency](https://www.forexlive.com/news/japan-top-currency-diplomat-kanda-says-watching-fx-market-with-sense-of-urgency-20230721/)\n"
      ],
      "text/plain": [
       "<IPython.core.display.Markdown object>"
      ]
     },
     "metadata": {},
     "output_type": "display_data"
    },
    {
     "data": {
      "text/markdown": [
       "[2023-07-21 09:22:00 MarketWatch - Movers & Shakers: CSX shares come off the rails while Peloton goes up a gear, and other early Friday movers](https://www.marketwatch.com/story/csx-shares-come-off-the-rails-while-peloton-goes-up-a-gear-and-other-early-friday-movers-c7bfc179)\n"
      ],
      "text/plain": [
       "<IPython.core.display.Markdown object>"
      ]
     },
     "metadata": {},
     "output_type": "display_data"
    },
    {
     "data": {
      "text/markdown": [
       "[2023-07-21 09:18:00 MarketWatch - Market Snapshot: U.S. equity futures point higher after tech stock stumble](https://www.marketwatch.com/story/u-s-equity-futures-point-higher-after-tech-stock-stumble-7909ec89)\n"
      ],
      "text/plain": [
       "<IPython.core.display.Markdown object>"
      ]
     },
     "metadata": {},
     "output_type": "display_data"
    },
    {
     "data": {
      "text/markdown": [
       "[2023-07-21 09:17:49 Cointelegraph - US Justice Department to double its crypto team, target ransomware crimes](https://cointelegraph.com/news/crypto-us-department-of-justice-to-double-its-crypto-team)\n"
      ],
      "text/plain": [
       "<IPython.core.display.Markdown object>"
      ]
     },
     "metadata": {},
     "output_type": "display_data"
    },
    {
     "data": {
      "text/markdown": [
       "[2023-07-21 09:10:02 Cointelegraph - Bitcoin no longer asset of choice for criminals - former Elliptic crypto advisor](https://cointelegraph.com/news/criminals-prefer-stablecoins-over-bitcoin-for-illicit-use)\n"
      ],
      "text/plain": [
       "<IPython.core.display.Markdown object>"
      ]
     },
     "metadata": {},
     "output_type": "display_data"
    },
    {
     "data": {
      "text/markdown": [
       "[2023-07-21 09:09:51 SeekingAlpha - Evertec to buy Sinqia, provides Q2 prelim numbers and FY outlook](https://seekingalpha.com/news/3989505-evertec-to-buy-sinqia-provides-q2-prelim-numbers-and-fy-outlook?utm_source=feed_news_m_a&utm_medium=referral)\n"
      ],
      "text/plain": [
       "<IPython.core.display.Markdown object>"
      ]
     },
     "metadata": {},
     "output_type": "display_data"
    },
    {
     "data": {
      "text/markdown": [
       "[2023-07-21 09:05:00 MarketWatch - The Ratings Game: As Ozempic/Wegovy frenzy continues, Morgan Stanley lifts forecasts for weight-loss drugs to $77 billion](https://www.marketwatch.com/story/as-ozempic-wegovy-frenzy-continues-morgan-stanley-lifts-forecasts-for-weight-loss-drugs-to-77-billion-8d3d8c31)\n"
      ],
      "text/plain": [
       "<IPython.core.display.Markdown object>"
      ]
     },
     "metadata": {},
     "output_type": "display_data"
    },
    {
     "data": {
      "text/markdown": [
       "[2023-07-21 09:02:00 MarketWatch - NerdWallet: Don’t raid your retirement accounts—but here’s when you can do it safely, if you have to](https://www.marketwatch.com/story/dont-raid-your-retirement-accountsbut-heres-when-you-can-do-it-safely-if-you-have-to-a8e31ec)\n"
      ],
      "text/plain": [
       "<IPython.core.display.Markdown object>"
      ]
     },
     "metadata": {},
     "output_type": "display_data"
    },
    {
     "data": {
      "text/markdown": [
       "[2023-07-21 09:01:00 MarketWatch - Kelley Blue Book: The pros and cons of leasing vs. buying an electric car](https://www.marketwatch.com/story/the-pros-and-cons-of-leasing-vs-buying-an-electric-car-2495dad0)\n"
      ],
      "text/plain": [
       "<IPython.core.display.Markdown object>"
      ]
     },
     "metadata": {},
     "output_type": "display_data"
    },
    {
     "data": {
      "text/markdown": [
       "[2023-07-21 09:00:00 MarketWatch - Next Avenue: Where can you breathe easy in retirement? How to find a community with clean air.](https://www.marketwatch.com/story/where-can-you-breathe-easy-in-retirement-how-to-find-a-community-with-clean-air-b423f75e)\n"
      ],
      "text/plain": [
       "<IPython.core.display.Markdown object>"
      ]
     },
     "metadata": {},
     "output_type": "display_data"
    },
    {
     "data": {
      "text/markdown": [
       "[2023-07-21 08:37:03 Cointelegraph - Digital yuan integration introduced to Chinese business air travel](https://cointelegraph.com/news/digital-yuan-integration-introduced-to-chinese-business-air-travel)\n"
      ],
      "text/plain": [
       "<IPython.core.display.Markdown object>"
      ]
     },
     "metadata": {},
     "output_type": "display_data"
    },
    {
     "data": {
      "text/markdown": [
       "[2023-07-21 08:36:05 CoinDesk - ProShares Says Bitcoin ETF Has Matched BTC Price Closely, 'Roll Cost' Concerns Are Unwarranted](https://www.coindesk.com/markets/2023/07/21/proshares-says-bitcoin-etf-has-matched-btc-price-closely-roll-cost-concerns-are-unwarranted/?utm_medium=referral&utm_source=rss&utm_campaign=headlines)\n"
      ],
      "text/plain": [
       "<IPython.core.display.Markdown object>"
      ]
     },
     "metadata": {},
     "output_type": "display_data"
    },
    {
     "data": {
      "text/markdown": [
       "[2023-07-21 08:27:09 Forexlive - The aussie elation yesterday proves short-lived](https://www.forexlive.com/news/the-aussie-elation-yesterday-proves-short-lived-20230721/)\n"
      ],
      "text/plain": [
       "<IPython.core.display.Markdown object>"
      ]
     },
     "metadata": {},
     "output_type": "display_data"
    },
    {
     "data": {
      "text/markdown": [
       "[2023-07-21 08:06:00 GlobalNewswire - Influenza Vaccine Market to Surpass 12.37 Billion by 2030 Drives Due to Growing Prevalence of Influenza Disease](https://www.globenewswire.com/news-release/2023/07/21/2708717/0/en/Influenza-Vaccine-Market-to-Surpass-12-37-Billion-by-2030-Drives-Due-to-Growing-Prevalence-of-Influenza-Disease.html)\n"
      ],
      "text/plain": [
       "<IPython.core.display.Markdown object>"
      ]
     },
     "metadata": {},
     "output_type": "display_data"
    },
    {
     "data": {
      "text/markdown": [
       "[2023-07-21 08:05:00 Cointelegraph - US state agency issues alert on crypto fraud happening over social media](https://cointelegraph.com/news/vermont-issues-crypto-fraud-alert-on-media)\n"
      ],
      "text/plain": [
       "<IPython.core.display.Markdown object>"
      ]
     },
     "metadata": {},
     "output_type": "display_data"
    },
    {
     "data": {
      "text/markdown": [
       "[2023-07-21 07:54:41 Dailyfx - GBP/USD Price Forecast: Positive Retail Sales Temporarily Lifts the Pound](https://www.dailyfx.com/news/forex-gbp-usd-price-forecast-positive-retail-sales-temporarily-lifts-the-pound-20230721.html)\n"
      ],
      "text/plain": [
       "<IPython.core.display.Markdown object>"
      ]
     },
     "metadata": {},
     "output_type": "display_data"
    },
    {
     "data": {
      "text/markdown": [
       "[2023-07-21 07:44:30 Forexlive - Japanese yen falls further on the week on word that BOJ is likely to keep policy unchanged](https://www.forexlive.com/news/japanese-yen-falls-further-on-the-week-on-word-that-boj-is-likely-to-keep-policy-unchanged-20230721/)\n"
      ],
      "text/plain": [
       "<IPython.core.display.Markdown object>"
      ]
     },
     "metadata": {},
     "output_type": "display_data"
    },
    {
     "data": {
      "text/markdown": [
       "[2023-07-21 07:39:54 Cointelegraph - Indonesia launches its crypto exchange and clearing house](https://cointelegraph.com/news/crypto-indonesia-launches-its-crypto-exchange-and-clearing-house)\n"
      ],
      "text/plain": [
       "<IPython.core.display.Markdown object>"
      ]
     },
     "metadata": {},
     "output_type": "display_data"
    },
    {
     "data": {
      "text/markdown": [
       "[2023-07-21 07:32:05 CoinDesk - Move Over Shiba Inu: Crypto Community Flirts With Hamster Race Betting](https://www.coindesk.com/markets/2023/07/21/move-over-shiba-inu-crypto-community-flirts-with-hamster-race-betting/?utm_medium=referral&utm_source=rss&utm_campaign=headlines)\n"
      ],
      "text/plain": [
       "<IPython.core.display.Markdown object>"
      ]
     },
     "metadata": {},
     "output_type": "display_data"
    },
    {
     "data": {
      "text/markdown": [
       "[2023-07-21 07:29:00 GlobalNewswire - Form 8.5 (EPT/RI) - Glantus Holdings Plc](https://www.globenewswire.com/news-release/2023/07/21/2708707/0/en/Form-8-5-EPT-RI-Glantus-Holdings-Plc.html)\n"
      ],
      "text/plain": [
       "<IPython.core.display.Markdown object>"
      ]
     },
     "metadata": {},
     "output_type": "display_data"
    },
    {
     "data": {
      "text/markdown": [
       "[2023-07-21 07:12:57 Forexlive - European equities see mixed start to the session](https://www.forexlive.com/news/european-equities-see-mixed-start-to-the-session-20230721/)\n"
      ],
      "text/plain": [
       "<IPython.core.display.Markdown object>"
      ]
     },
     "metadata": {},
     "output_type": "display_data"
    },
    {
     "data": {
      "text/markdown": [
       "[2023-07-21 06:53:43 Forexlive - Light changes among major currencies so far today](https://www.forexlive.com/news/light-changes-among-major-currencies-so-far-today-20230721/)\n"
      ],
      "text/plain": [
       "<IPython.core.display.Markdown object>"
      ]
     },
     "metadata": {},
     "output_type": "display_data"
    },
    {
     "data": {
      "text/markdown": [
       "[2023-07-21 06:16:00 Cointelegraph - Canadian police warn crypto investors on growing home robbery trend](https://cointelegraph.com/news/canadian-police-warn-crypto-investors-home-robberies)\n"
      ],
      "text/plain": [
       "<IPython.core.display.Markdown object>"
      ]
     },
     "metadata": {},
     "output_type": "display_data"
    },
    {
     "data": {
      "text/markdown": [
       "[2023-07-21 06:07:37 Forexlive - Eurostoxx futures -0.3% in early European trading](https://www.forexlive.com/news/eurostoxx-futures-03-in-early-european-trading-20230721/)\n"
      ],
      "text/plain": [
       "<IPython.core.display.Markdown object>"
      ]
     },
     "metadata": {},
     "output_type": "display_data"
    },
    {
     "data": {
      "text/markdown": [
       "[2023-07-21 06:00:00 Dailyfx - Japanese Yen Steady After CPI; USD/JPY, AUD/JPY, CAD/JPY, MXN/JPY Price Action](https://www.dailyfx.com/news/japanese-yen-steady-after-cpi-usd-jpy-aud-jpy-cad-jpy-mxn-jpy-price-action-20230721.html)\n"
      ],
      "text/plain": [
       "<IPython.core.display.Markdown object>"
      ]
     },
     "metadata": {},
     "output_type": "display_data"
    },
    {
     "data": {
      "text/markdown": [
       "[2023-07-21 05:46:59 Cointelegraph - UK banks risk losing licenses for debanking customers over political views](https://cointelegraph.com/news/uk-bank-licences-nigel-farage-coutts-dispute)\n"
      ],
      "text/plain": [
       "<IPython.core.display.Markdown object>"
      ]
     },
     "metadata": {},
     "output_type": "display_data"
    },
    {
     "data": {
      "text/markdown": [
       "[2023-07-21 05:41:35 Forexlive - Trade ideas thread - European session 21 July 2023](https://www.forexlive.com/news/trade-ideas-thread-european-session-21-july-2023-20230721/)\n"
      ],
      "text/plain": [
       "<IPython.core.display.Markdown object>"
      ]
     },
     "metadata": {},
     "output_type": "display_data"
    },
    {
     "data": {
      "text/markdown": [
       "[2023-07-21 05:09:19 Bloomberg - Startup Cerebras takes on Nvidia with AI supercomputers](https://www.bloomberg.com/news/articles/2023-07-20/startup-cerebras-takes-on-nvidia-with-chain-of-ai-supercomputers)\n"
      ],
      "text/plain": [
       "<IPython.core.display.Markdown object>"
      ]
     },
     "metadata": {},
     "output_type": "display_data"
    },
    {
     "data": {
      "text/markdown": [
       "[2023-07-21 04:49:16 Forexlive - ICYMI: Nasdaq to undergo \"special\" rebalancing effective next week](https://www.forexlive.com/news/icymi-nasdaq-to-undergo-special-rebalancing-effective-next-week-20230721/)\n"
      ],
      "text/plain": [
       "<IPython.core.display.Markdown object>"
      ]
     },
     "metadata": {},
     "output_type": "display_data"
    },
    {
     "data": {
      "text/markdown": [
       "[2023-07-21 04:32:12 Cointelegraph - Solana records 1 outage in first half of 2023, 100% uptime in Q2](https://cointelegraph.com/news/solana-uptime-improves-with-one-outage-this-year)\n"
      ],
      "text/plain": [
       "<IPython.core.display.Markdown object>"
      ]
     },
     "metadata": {},
     "output_type": "display_data"
    },
    {
     "data": {
      "text/markdown": [
       "[2023-07-21 04:02:30 Forexlive - UK retail sales on the agenda today](https://www.forexlive.com/news/uk-retail-sales-on-the-agenda-today-20230721/)\n"
      ],
      "text/plain": [
       "<IPython.core.display.Markdown object>"
      ]
     },
     "metadata": {},
     "output_type": "display_data"
    },
    {
     "data": {
      "text/markdown": [
       "[2023-07-21 03:34:00 Cointelegraph - Coin Center and Blockchain Association slam ‘unworkable’ US Senate DeFi bill](https://cointelegraph.com/news/coin-center-blockchain-association-criticize-senate-defi-bill)\n"
      ],
      "text/plain": [
       "<IPython.core.display.Markdown object>"
      ]
     },
     "metadata": {},
     "output_type": "display_data"
    },
    {
     "data": {
      "text/markdown": [
       "[2023-07-21 03:30:00 GlobalNewswire - Click, Shop, Savor: Smartphone Screen Protector Market Set to Soar Past USD 85 Billion by 2030](https://www.globenewswire.com/news-release/2023/07/21/2708675/0/en/Click-Shop-Savor-Smartphone-Screen-Protector-Market-Set-to-Soar-Past-USD-85-Billion-by-2030.html)\n"
      ],
      "text/plain": [
       "<IPython.core.display.Markdown object>"
      ]
     },
     "metadata": {},
     "output_type": "display_data"
    },
    {
     "data": {
      "text/markdown": [
       "[2023-07-21 03:17:57 Forexlive - Morgan Stanley revise their US GDP forecast to +1.3%, from +0.6%, citing Biden Boom](https://www.forexlive.com/news/morgan-stanley-revise-their-us-gdp-forecast-to-13-from-06-citing-biden-boom-20230721/)\n"
      ],
      "text/plain": [
       "<IPython.core.display.Markdown object>"
      ]
     },
     "metadata": {},
     "output_type": "display_data"
    },
    {
     "data": {
      "text/markdown": [
       "[2023-07-21 03:07:20 Cointelegraph - Stablecoin dominance slides as market cap falls to near 2-year lows: CCData](https://cointelegraph.com/news/stablecoin-dominance-market-cap-nears-two-year-low)\n"
      ],
      "text/plain": [
       "<IPython.core.display.Markdown object>"
      ]
     },
     "metadata": {},
     "output_type": "display_data"
    },
    {
     "data": {
      "text/markdown": [
       "[2023-07-21 02:01:45 Forexlive - China's State Planner has released policies to boost consumption of electronics products](https://www.forexlive.com/news/chinas-state-planner-has-released-policies-to-boost-consumption-of-electronics-products-20230721/)\n"
      ],
      "text/plain": [
       "<IPython.core.display.Markdown object>"
      ]
     },
     "metadata": {},
     "output_type": "display_data"
    },
    {
     "data": {
      "text/markdown": [
       "[2023-07-21 02:00:00 Dailyfx - Profit-Taking in Big Tech Overnight, as US Earnings Remain Centre Stage: US Dollar, Nikkei 225, AUD/JPY](https://www.dailyfx.com/news/profit-taking-in-big-tech-overnight-as-us-earnings-remain-centre-stage-us-dollar-nikkei-225-aud-jpy-20230721.html)\n"
      ],
      "text/plain": [
       "<IPython.core.display.Markdown object>"
      ]
     },
     "metadata": {},
     "output_type": "display_data"
    },
    {
     "data": {
      "text/markdown": [
       "[2023-07-21 01:50:39 Forexlive - Oil traders heads up: OPEC+ panel (JMMC) meeting shifted a day later (to August 3)](https://www.forexlive.com/news/oil-traders-heads-up-opec-panel-jmmc-meeting-shifted-a-day-later-to-august-3-20230721/)\n"
      ],
      "text/plain": [
       "<IPython.core.display.Markdown object>"
      ]
     },
     "metadata": {},
     "output_type": "display_data"
    },
    {
     "data": {
      "text/markdown": [
       "[2023-07-21 01:30:00 GlobalNewswire - Click, Shop, Savor: Leather Goods Market Set to Soar Past USD 738.61 Billion by 2030](https://www.globenewswire.com/news-release/2023/07/21/2708672/0/en/Click-Shop-Savor-Leather-Goods-Market-Set-to-Soar-Past-USD-738-61-Billion-by-2030.html)\n"
      ],
      "text/plain": [
       "<IPython.core.display.Markdown object>"
      ]
     },
     "metadata": {},
     "output_type": "display_data"
    },
    {
     "data": {
      "text/markdown": [
       "[2023-07-21 01:04:00 MarketWatch - : Biden tasks group to explore ways to prevent future debt-limit standoffs](https://www.marketwatch.com/story/biden-tasks-group-to-explore-ways-to-prevent-future-debt-limit-standoffs-2d7e8071)\n"
      ],
      "text/plain": [
       "<IPython.core.display.Markdown object>"
      ]
     },
     "metadata": {},
     "output_type": "display_data"
    },
    {
     "data": {
      "text/markdown": [
       "[2023-07-21 00:59:05 Forexlive - ICYMI - the US Leading Economic Index data fell for its 15th consecutive month in June](https://www.forexlive.com/news/icymi-the-us-leading-economic-index-data-fell-for-its-15th-consecutive-month-in-june-20230721/)\n"
      ],
      "text/plain": [
       "<IPython.core.display.Markdown object>"
      ]
     },
     "metadata": {},
     "output_type": "display_data"
    },
    {
     "data": {
      "text/markdown": [
       "[2023-07-21 00:24:48 Cointelegraph - FTX sues Sam Bankman-Fried and other former execs to claw back $1B](https://cointelegraph.com/news/ftx-sues-sam-bankman-fried-other-execs-recoup-one-billion)\n"
      ],
      "text/plain": [
       "<IPython.core.display.Markdown object>"
      ]
     },
     "metadata": {},
     "output_type": "display_data"
    },
    {
     "data": {
      "text/markdown": [
       "[2023-07-21 00:07:22 CoinDesk - First Mover Asia: Bitcoin Fear and Greed Index Sinks Into Neutral Territory, a Sign of Investor Uncertainty](https://www.coindesk.com/markets/2023/07/21/first-mover-asia-bitcoin-fear-and-greed-index-sinks-into-neutral-territory-a-sign-of-investor-uncertainty/?utm_medium=referral&utm_source=rss&utm_campaign=headlines)\n"
      ],
      "text/plain": [
       "<IPython.core.display.Markdown object>"
      ]
     },
     "metadata": {},
     "output_type": "display_data"
    },
    {
     "data": {
      "text/markdown": [
       "[2023-07-20 23:51:00 BusinessWire - Evertec to Acquire Sinqia, a Leading Provider of Software Solutions for Financial Institutions in Brazil](http://www.businesswire.com/news/home/20230720027708/en/Evertec-to-Acquire-Sinqia-a-Leading-Provider-of-Software-Solutions-for-Financial-Institutions-in-Brazil/?feedref=JjAwJuNHiystnCoBq_hl-Rc4vIAVcHHkbDcwJimU8QtrtlakeQ9hNboBqTAWIjTge3KWq9s9jif-UkBjBsFRyYAbRTSLTc1mgvhPlnaBA55M-oupQnbXnhKsYk8RmHF_kAy)\n"
      ],
      "text/plain": [
       "<IPython.core.display.Markdown object>"
      ]
     },
     "metadata": {},
     "output_type": "display_data"
    },
    {
     "data": {
      "text/markdown": [
       "[2023-07-20 23:42:00 MarketWatch - Dow Jones Newswires: U.K. consumer confidence slides backward in July as tough economy takes its toll](https://www.marketwatch.com/story/uk-consumer-confidence-slid-backward-in-july-as-tough-economy-takes-its-toll-1e25927e)\n"
      ],
      "text/plain": [
       "<IPython.core.display.Markdown object>"
      ]
     },
     "metadata": {},
     "output_type": "display_data"
    },
    {
     "data": {
      "text/markdown": [
       "[2023-07-20 23:41:00 MarketWatch - Dow Jones Newswires: Vintage Wine Estates names Seth Kaufman next CEO amid turnaround efforts](https://www.marketwatch.com/story/vintage-wine-estates-names-seth-kaufman-next-ceo-amid-turnaround-efforts-dfaa2c)\n"
      ],
      "text/plain": [
       "<IPython.core.display.Markdown object>"
      ]
     },
     "metadata": {},
     "output_type": "display_data"
    },
    {
     "data": {
      "text/markdown": [
       "[2023-07-20 23:37:31 Cointelegraph - US House Republican committees introduce joint digital assets bill](https://cointelegraph.com/news/digital-assets-bill-introduced-house-republican-committees)\n"
      ],
      "text/plain": [
       "<IPython.core.display.Markdown object>"
      ]
     },
     "metadata": {},
     "output_type": "display_data"
    },
    {
     "data": {
      "text/markdown": [
       "[2023-07-20 23:36:43 Forexlive - UBS targets S&P 500 to 4,400 in 12 months](https://www.forexlive.com/news/ubs-targets-sp-500-to-4400-in-12-months-20230720/)\n"
      ],
      "text/plain": [
       "<IPython.core.display.Markdown object>"
      ]
     },
     "metadata": {},
     "output_type": "display_data"
    },
    {
     "data": {
      "text/markdown": [
       "[2023-07-20 23:04:56 Forexlive - China flagged more economic support measures on Thursday - details very light](https://www.forexlive.com/news/china-flagged-more-economic-support-measures-on-thursday-details-very-light-20230720/)\n"
      ],
      "text/plain": [
       "<IPython.core.display.Markdown object>"
      ]
     },
     "metadata": {},
     "output_type": "display_data"
    },
    {
     "data": {
      "text/markdown": [
       "[2023-07-20 22:43:00 MarketWatch - : As World Cup kicks off, women’s soccer ‘poised for exponential growth’ says U.S. Soccer chief](https://www.marketwatch.com/story/as-world-cup-kicks-off-womens-soccer-poised-for-exponential-growth-says-u-s-soccer-chief-f0c6b57e)\n"
      ],
      "text/plain": [
       "<IPython.core.display.Markdown object>"
      ]
     },
     "metadata": {},
     "output_type": "display_data"
    },
    {
     "data": {
      "text/markdown": [
       "[2023-07-20 22:20:45 Forexlive - Bank of America have a Q3 'pain trade', stronger yen & lower NASDAQ a large part](https://www.forexlive.com/news/bank-of-america-have-a-q3-pain-trade-stronger-yen-lower-nasdaq-a-large-part-20230720/)\n"
      ],
      "text/plain": [
       "<IPython.core.display.Markdown object>"
      ]
     },
     "metadata": {},
     "output_type": "display_data"
    },
    {
     "data": {
      "text/markdown": [
       "[2023-07-20 22:17:00 MarketWatch - : Tornado damage at Pfizer facility threatens to make critical drug-supply shortages even worse, experts say](https://www.marketwatch.com/story/tornado-damage-at-pfizer-facility-threatens-to-make-critical-drug-supply-shortages-even-worse-experts-say-db2a6ec3)\n"
      ],
      "text/plain": [
       "<IPython.core.display.Markdown object>"
      ]
     },
     "metadata": {},
     "output_type": "display_data"
    },
    {
     "data": {
      "text/markdown": [
       "[2023-07-20 22:10:00 MarketWatch - Financial Crime: Trump’s Truth Social merger partner settles fraud charges with SEC over misleading investors](https://www.marketwatch.com/story/trumps-truth-social-merger-partner-settles-fraud-charges-with-sec-over-misleading-investors-69cfe4c4)\n"
      ],
      "text/plain": [
       "<IPython.core.display.Markdown object>"
      ]
     },
     "metadata": {},
     "output_type": "display_data"
    },
    {
     "data": {
      "text/markdown": [
       "[2023-07-20 22:04:00 MarketWatch - : Some retirement catch-up contributions are about to get taxed — these organizations want to delay that](https://www.marketwatch.com/story/some-retirement-catch-up-contributions-are-about-to-get-taxed-these-organizations-want-to-delay-that-b5938baf)\n"
      ],
      "text/plain": [
       "<IPython.core.display.Markdown object>"
      ]
     },
     "metadata": {},
     "output_type": "display_data"
    },
    {
     "data": {
      "text/markdown": [
       "[2023-07-20 22:04:00 MarketWatch - Revolution Investing: These two EV companies are miles ahead of the pack. Yes, Tesla is one of them.](https://www.marketwatch.com/story/these-two-ev-companies-are-miles-ahead-of-the-pack-yes-tesla-is-one-of-them-23bc6ba2)\n"
      ],
      "text/plain": [
       "<IPython.core.display.Markdown object>"
      ]
     },
     "metadata": {},
     "output_type": "display_data"
    },
    {
     "data": {
      "text/markdown": [
       "[2023-07-20 21:55:11 CoinDesk - U.S. House Republicans Introduce Crypto Oversight Bill to Protect Investors](https://www.coindesk.com/policy/2023/07/20/us-house-republicans-introduce-crypto-oversight-bill-to-protect-investors/?utm_medium=referral&utm_source=rss&utm_campaign=headlines)\n"
      ],
      "text/plain": [
       "<IPython.core.display.Markdown object>"
      ]
     },
     "metadata": {},
     "output_type": "display_data"
    },
    {
     "data": {
      "text/markdown": [
       "[2023-07-20 21:33:43 Forexlive - BoA has cut its forecast for European economc growth, citing slower China economy](https://www.forexlive.com/news/boa-has-cut-its-forecast-for-european-economc-growth-citing-slower-china-economy-20230720/)\n"
      ],
      "text/plain": [
       "<IPython.core.display.Markdown object>"
      ]
     },
     "metadata": {},
     "output_type": "display_data"
    },
    {
     "data": {
      "text/markdown": [
       "[2023-07-20 21:26:00 MarketWatch - Michael Brush: This secret elixir can boost earnings, tame inflation and push stocks higher](https://www.marketwatch.com/story/this-secret-elixir-can-boost-earnings-tame-inflation-and-push-stocks-higher-886f5d00)\n"
      ],
      "text/plain": [
       "<IPython.core.display.Markdown object>"
      ]
     },
     "metadata": {},
     "output_type": "display_data"
    },
    {
     "data": {
      "text/markdown": [
       "[2023-07-20 21:18:00 MarketWatch - Front Office Sports: Who could buy a piece of ESPN? Here are seven candidates](https://www.marketwatch.com/story/who-could-buy-a-piece-of-espn-here-are-seven-candidates-6cd3e7f0)\n"
      ],
      "text/plain": [
       "<IPython.core.display.Markdown object>"
      ]
     },
     "metadata": {},
     "output_type": "display_data"
    },
    {
     "data": {
      "text/markdown": [
       "[2023-07-20 21:12:46 CoinDesk - Meme Coins Are Anything but a Joke](https://www.coindesk.com/consensus-magazine/2023/07/20/memecoins-are-anything-but-a-joke/?utm_medium=referral&utm_source=rss&utm_campaign=headlines)\n"
      ],
      "text/plain": [
       "<IPython.core.display.Markdown object>"
      ]
     },
     "metadata": {},
     "output_type": "display_data"
    },
    {
     "data": {
      "text/markdown": [
       "[2023-07-20 21:10:00 GlobalNewswire - Collective Metals Acquires 100% of the Lithium Whitemud Project in Northwestern Ontario](https://www.globenewswire.com/news-release/2023/07/20/2708636/0/en/Collective-Metals-Acquires-100-of-the-Lithium-Whitemud-Project-in-Northwestern-Ontario.html)\n"
      ],
      "text/plain": [
       "<IPython.core.display.Markdown object>"
      ]
     },
     "metadata": {},
     "output_type": "display_data"
    },
    {
     "data": {
      "text/markdown": [
       "[2023-07-20 21:09:59 Cointelegraph - Hackers compromise Uniswap founder's Twitter account to promote scam](https://cointelegraph.com/news/hackers-compromise-uniswap-founder-twitter-account-promote-scam)\n"
      ],
      "text/plain": [
       "<IPython.core.display.Markdown object>"
      ]
     },
     "metadata": {},
     "output_type": "display_data"
    },
    {
     "data": {
      "text/markdown": [
       "[2023-07-20 21:04:00 MarketWatch - : Biden touts sale of Gulf of Mexico wind-power leases and jabs at Trump in Philadelphia speech](https://www.marketwatch.com/story/biden-touts-sale-of-gulf-of-mexico-wind-power-leases-and-jabs-at-trump-in-philadelphia-speech-84d1845f)\n"
      ],
      "text/plain": [
       "<IPython.core.display.Markdown object>"
      ]
     },
     "metadata": {},
     "output_type": "display_data"
    },
    {
     "data": {
      "text/markdown": [
       "[2023-07-20 21:03:43 Forexlive - Forexlive Americas FX news wrap 20 Jul: The USD rebounds after stronger claims. Yields up.](https://www.forexlive.com/news/forexlive-americas-fx-news-wrap-20-jul-the-usd-rebounds-after-stronger-claims-yields-up-20230720/)\n"
      ],
      "text/plain": [
       "<IPython.core.display.Markdown object>"
      ]
     },
     "metadata": {},
     "output_type": "display_data"
    },
    {
     "data": {
      "text/markdown": [
       "[2023-07-20 20:54:00 MarketWatch - : Buy these stocks if you think the U.S. dollar will keep getting weaker](https://www.marketwatch.com/story/buy-these-stocks-if-you-think-the-u-s-dollar-will-keep-getting-weaker-3b3376cf)\n"
      ],
      "text/plain": [
       "<IPython.core.display.Markdown object>"
      ]
     },
     "metadata": {},
     "output_type": "display_data"
    },
    {
     "data": {
      "text/markdown": [
       "[2023-07-20 20:50:00 MarketWatch - FA Center: Watch the Dow Transports for clues about the economy — not the stock market](https://www.marketwatch.com/story/watch-the-dow-transports-for-clues-about-the-economy-not-the-stock-market-49a77efd)\n"
      ],
      "text/plain": [
       "<IPython.core.display.Markdown object>"
      ]
     },
     "metadata": {},
     "output_type": "display_data"
    },
    {
     "data": {
      "text/markdown": [
       "[2023-07-20 20:38:02 Forexlive - Goldman Sachs forecasts a shallow and subdued depreciation for the US dollar into year end](https://www.forexlive.com/news/goldman-sachs-forecasts-a-shallow-and-subdued-depreciation-for-the-us-dollar-into-year-end-20230720/)\n"
      ],
      "text/plain": [
       "<IPython.core.display.Markdown object>"
      ]
     },
     "metadata": {},
     "output_type": "display_data"
    },
    {
     "data": {
      "text/markdown": [
       "[2023-07-20 20:34:00 MarketWatch - Earnings Results: CSX shares drop as falling coal, fuel prices hit sales](https://www.marketwatch.com/story/csx-shares-drop-as-falling-coal-fuel-prices-hit-sales-a64cd3a1)\n"
      ],
      "text/plain": [
       "<IPython.core.display.Markdown object>"
      ]
     },
     "metadata": {},
     "output_type": "display_data"
    },
    {
     "data": {
      "text/markdown": [
       "[2023-07-20 20:30:00 BusinessWire - Bowlero Corp. Announces Acquisitions in Arizona](http://www.businesswire.com/news/home/20230720993695/en/%C2%A0Bowlero-Corp.-Announces-Acquisitions-in-Arizona/?feedref=JjAwJuNHiystnCoBq_hl-Rc4vIAVcHHkbDcwJimU8QtrtlakeQ9hNboBqTAWIjTge3KWq9s9jif-UkBjBsFRyYAbRTSLTc1mgvhPlnaBA55M-oupQnbXnhKsYk8RmHF_kAy2gZikaX3QWV6xOvgFlA==)\n"
      ],
      "text/plain": [
       "<IPython.core.display.Markdown object>"
      ]
     },
     "metadata": {},
     "output_type": "display_data"
    },
    {
     "data": {
      "text/markdown": [
       "[2023-07-20 20:30:00 Cointelegraph - OpenAI launches ‘custom instructions’ for ChatGPT so you don’t have to repeat yourself in every prompt](https://cointelegraph.com/news/openai-launches-custom-instructions-for-chatgpt-so-you-don-t-have-to-repeat-yourself-in-every-prompt)\n"
      ],
      "text/plain": [
       "<IPython.core.display.Markdown object>"
      ]
     },
     "metadata": {},
     "output_type": "display_data"
    },
    {
     "data": {
      "text/markdown": [
       "[2023-07-20 20:29:00 MarketWatch - ETF Wrap: An ETF that can’t go down? This new ‘buffer’ fund is designed to provide 100% protection against stock-market losses](https://www.marketwatch.com/story/an-etf-that-cant-go-down-this-new-buffer-fund-is-designed-to-provide-100-protection-against-stock-market-losses-826d03d8)\n"
      ],
      "text/plain": [
       "<IPython.core.display.Markdown object>"
      ]
     },
     "metadata": {},
     "output_type": "display_data"
    },
    {
     "data": {
      "text/markdown": [
       "[2023-07-20 20:18:00 MarketWatch - The Margin: The top 5 highest-paid women’s soccer players at the 2023 Women’s World Cup](https://www.marketwatch.com/story/the-top-5-highest-paid-womens-soccer-players-at-the-2023-womens-world-cup-dbdc9fc9)\n"
      ],
      "text/plain": [
       "<IPython.core.display.Markdown object>"
      ]
     },
     "metadata": {},
     "output_type": "display_data"
    },
    {
     "data": {
      "text/markdown": [
       "[2023-07-20 20:17:00 MarketWatch - Distributed Ledger: Crypto is at early stage of a three-year bull market, says this asset manager](https://www.marketwatch.com/story/why-crypto-are-at-early-stage-of-a-three-year-bull-market-says-this-asset-manager-b84d6395)\n"
      ],
      "text/plain": [
       "<IPython.core.display.Markdown object>"
      ]
     },
     "metadata": {},
     "output_type": "display_data"
    },
    {
     "data": {
      "text/markdown": [
       "[2023-07-20 20:15:00 MarketWatch - Lawrence G. McMillan: ‘Overbought does not mean sell.’ Stock bulls and this market have room to run.](https://www.marketwatch.com/story/overbought-does-not-mean-sell-stock-bulls-and-this-market-have-room-to-run-b2ad5a07)\n"
      ],
      "text/plain": [
       "<IPython.core.display.Markdown object>"
      ]
     },
     "metadata": {},
     "output_type": "display_data"
    },
    {
     "data": {
      "text/markdown": [
       "[2023-07-20 20:12:02 Forexlive - Dow industrial average up for the 9th consecutive day. That's the good news](https://www.forexlive.com/news/dow-industrial-average-up-for-the-9th-consecutive-day-thats-the-good-news-20230720/)\n"
      ],
      "text/plain": [
       "<IPython.core.display.Markdown object>"
      ]
     },
     "metadata": {},
     "output_type": "display_data"
    },
    {
     "data": {
      "text/markdown": [
       "[2023-07-20 20:02:00 MarketWatch - Market Extra: Bond market starts to fret about return of inflation on strength of U.S. labor market](https://www.marketwatch.com/story/bond-market-starts-to-fret-about-return-of-inflation-on-strength-of-u-s-labor-market-3bdbd700)\n"
      ],
      "text/plain": [
       "<IPython.core.display.Markdown object>"
      ]
     },
     "metadata": {},
     "output_type": "display_data"
    },
    {
     "data": {
      "text/markdown": [
       "[2023-07-20 19:44:02 CNBC - AMC drops plan to charge more for better seats at the movies](https://www.cnbc.com/2023/07/20/amc-drops-plan-to-charge-more-for-better-seats.html)\n"
      ],
      "text/plain": [
       "<IPython.core.display.Markdown object>"
      ]
     },
     "metadata": {},
     "output_type": "display_data"
    },
    {
     "data": {
      "text/markdown": [
       "[2023-07-20 19:39:00 MarketWatch - Bond Report: 2 and 10 year Treasury yields jump to one-week highs after weekly jobless claims](https://www.marketwatch.com/story/treasury-yields-nudge-higher-ahead-of-weekly-jobless-data-1bac8be8)\n"
      ],
      "text/plain": [
       "<IPython.core.display.Markdown object>"
      ]
     },
     "metadata": {},
     "output_type": "display_data"
    },
    {
     "data": {
      "text/markdown": [
       "[2023-07-20 19:34:31 SeekingAlpha - Nuvasive/Globus Medical deal spread widens amid report FTC considering lawsuit](https://seekingalpha.com/news/3989354-nuvasiveglobus-medical-deal-spread-widens-amid-report-ftc-considering-lawsuit?utm_source=feed_news_m_a&utm_medium=referral)\n"
      ],
      "text/plain": [
       "<IPython.core.display.Markdown object>"
      ]
     },
     "metadata": {},
     "output_type": "display_data"
    },
    {
     "data": {
      "text/markdown": [
       "[2023-07-20 19:25:00 Cointelegraph - FTX sues over investments, donations made by charity arm to life sciences companies](https://cointelegraph.com/news/ftx-sues-over-investments-donations-made-by-charity-arm-life-sciences-companies)\n"
      ],
      "text/plain": [
       "<IPython.core.display.Markdown object>"
      ]
     },
     "metadata": {},
     "output_type": "display_data"
    },
    {
     "data": {
      "text/markdown": [
       "[2023-07-20 19:12:00 MarketWatch - : Students were charged $10,000 to take the Caltech cybersecurity bootcamp. But the top-ranked school did not run the course, suit claims](https://www.marketwatch.com/story/students-were-charged-10-000-to-take-the-caltech-cybersecurity-bootcamp-but-the-top-ranked-school-did-not-run-the-course-suit-claims-a1a2c350)\n"
      ],
      "text/plain": [
       "<IPython.core.display.Markdown object>"
      ]
     },
     "metadata": {},
     "output_type": "display_data"
    },
    {
     "data": {
      "text/markdown": [
       "[2023-07-20 19:02:25 Forexlive - NASDAQ index down nearly 2%](https://www.forexlive.com/news/nasdaq-index-down-nearly-2-20230720/)\n"
      ],
      "text/plain": [
       "<IPython.core.display.Markdown object>"
      ]
     },
     "metadata": {},
     "output_type": "display_data"
    },
    {
     "data": {
      "text/markdown": [
       "[2023-07-20 19:02:00 MarketWatch - Futures Movers: Oil prices finish higher with traders’ attention ‘shifting between demand and supply’](https://www.marketwatch.com/story/oil-prices-edge-higher-in-cautious-trade-c5358e32)\n"
      ],
      "text/plain": [
       "<IPython.core.display.Markdown object>"
      ]
     },
     "metadata": {},
     "output_type": "display_data"
    },
    {
     "data": {
      "text/markdown": [
       "[2023-07-20 19:00:00 Dailyfx - Crude Oil Forecast: Breakdown in Play after Confluence Resistance Rejection](https://www.dailyfx.com/news/forex-crude-oil-forecast-breakdown-in-play-after-confluence-resistance-rejection-20230720.html)\n"
      ],
      "text/plain": [
       "<IPython.core.display.Markdown object>"
      ]
     },
     "metadata": {},
     "output_type": "display_data"
    },
    {
     "data": {
      "text/markdown": [
       "[2023-07-20 18:59:00 MarketWatch - The Tell: Why U.S. economy is heading to a soft landing, and its stocks may be a better bet than those in China and Europe, says Goldman Sachs](https://www.marketwatch.com/story/why-u-s-economy-is-heading-to-a-soft-landing-and-its-stocks-may-be-a-better-bet-than-those-in-china-and-europe-says-goldman-sachs-ea481976)\n"
      ],
      "text/plain": [
       "<IPython.core.display.Markdown object>"
      ]
     },
     "metadata": {},
     "output_type": "display_data"
    },
    {
     "data": {
      "text/markdown": [
       "[2023-07-20 18:51:00 MarketWatch - Commodities Corner: Why scorching summer temperatures haven’t yet led to a lasting rally for natural gas](https://www.marketwatch.com/story/why-scorching-summer-temperatures-havent-yet-led-to-a-lasting-rally-for-natural-gas-95d3ae33)\n"
      ],
      "text/plain": [
       "<IPython.core.display.Markdown object>"
      ]
     },
     "metadata": {},
     "output_type": "display_data"
    },
    {
     "data": {
      "text/markdown": [
       "[2023-07-20 18:46:00 MarketWatch - Earnings Results: Travelers swings to loss as it books $1.5 billion in catastrophe losses following tornadoes and hail storms](https://www.marketwatch.com/story/travelers-swings-to-loss-as-it-books-1-5-billion-in-catastrophe-losses-5d4ed32)\n"
      ],
      "text/plain": [
       "<IPython.core.display.Markdown object>"
      ]
     },
     "metadata": {},
     "output_type": "display_data"
    },
    {
     "data": {
      "text/markdown": [
       "[2023-07-20 18:45:43 CNBC - Student loan borrowers in these 10 states will have over $45,000 in debt forgiven, on average](https://www.cnbc.com/2023/07/20/states-with-most-borrowers-eligible-for-biden-admins-debt-forgiveness.html)\n"
      ],
      "text/plain": [
       "<IPython.core.display.Markdown object>"
      ]
     },
     "metadata": {},
     "output_type": "display_data"
    },
    {
     "data": {
      "text/markdown": [
       "[2023-07-20 18:42:00 MarketWatch - : Netflix bonds steady, stock drops after equity investors give thumbs down to revenue forecast](https://www.marketwatch.com/story/netflix-bonds-steady-stock-drops-after-equity-investors-give-thumbs-down-to-revenue-forecast-b375486d)\n"
      ],
      "text/plain": [
       "<IPython.core.display.Markdown object>"
      ]
     },
     "metadata": {},
     "output_type": "display_data"
    },
    {
     "data": {
      "text/markdown": [
       "[2023-07-20 18:40:40 Cointelegraph - Former Binance​ US CEO joins Hashdex board](https://cointelegraph.com/news/former-binance-us-ceo-joins-hashdex-board)\n"
      ],
      "text/plain": [
       "<IPython.core.display.Markdown object>"
      ]
     },
     "metadata": {},
     "output_type": "display_data"
    },
    {
     "data": {
      "text/markdown": [
       "[2023-07-20 18:39:47 CoinDesk - OpenSea Makes ‘Deals,’ Launches Peer-to-Peer NFT Swaps](https://www.coindesk.com/web3/2023/07/20/opensea-makes-deals-launches-peer-to-peer-nft-swaps/?utm_medium=referral&utm_source=rss&utm_campaign=headlines)\n"
      ],
      "text/plain": [
       "<IPython.core.display.Markdown object>"
      ]
     },
     "metadata": {},
     "output_type": "display_data"
    },
    {
     "data": {
      "text/markdown": [
       "[2023-07-20 18:37:30 Forexlive - WTI crude futures settle at $75.63](https://www.forexlive.com/technical-analysis/wti-crude-futures-settle-at-7563-20230720/)\n"
      ],
      "text/plain": [
       "<IPython.core.display.Markdown object>"
      ]
     },
     "metadata": {},
     "output_type": "display_data"
    },
    {
     "data": {
      "text/markdown": [
       "[2023-07-20 18:37:00 MarketWatch - In One Chart: Stock-market bubble trouble? Check out the 3-year view on Nasdaq, S&P 500 returns.](https://www.marketwatch.com/story/stock-market-bubble-trouble-check-out-the-3-year-view-on-nasdaq-s-p-500-returns-dd7579f1)\n"
      ],
      "text/plain": [
       "<IPython.core.display.Markdown object>"
      ]
     },
     "metadata": {},
     "output_type": "display_data"
    },
    {
     "data": {
      "text/markdown": [
       "[2023-07-20 18:24:37 SeekingAlpha - Key Horizon drug Tepezza has hearing loss warning added to labeling](https://seekingalpha.com/news/3989316-horizon-tepezza-hearing-loss-warning-added-labeling?utm_source=feed_news_m_a&utm_medium=referral)\n"
      ],
      "text/plain": [
       "<IPython.core.display.Markdown object>"
      ]
     },
     "metadata": {},
     "output_type": "display_data"
    },
    {
     "data": {
      "text/markdown": [
       "[2023-07-20 18:11:15 CNBC - J&J's strong quarter was amplified by new details around its big Kenvue consumer unit stake](https://www.cnbc.com/2023/07/20/jj-strong-quarter-amplified-by-new-details-on-kenvue-consumer-unit-stake.html)\n"
      ],
      "text/plain": [
       "<IPython.core.display.Markdown object>"
      ]
     },
     "metadata": {},
     "output_type": "display_data"
    },
    {
     "data": {
      "text/markdown": [
       "[2023-07-20 18:08:00 MarketWatch - BookWatch: ‘This has absolutely changed me.’ Alzheimer’s takes a toll on patients and their loved ones.](https://www.marketwatch.com/story/this-has-absolutely-changed-me-alzheimers-takes-a-toll-on-patients-and-their-loved-ones-20bc5800)\n"
      ],
      "text/plain": [
       "<IPython.core.display.Markdown object>"
      ]
     },
     "metadata": {},
     "output_type": "display_data"
    },
    {
     "data": {
      "text/markdown": [
       "[2023-07-20 18:05:00 MarketWatch - Metals Stocks: Gold prices log first loss in 3 sessions as Treasury yields, dollar rise](https://www.marketwatch.com/story/gold-edges-up-to-fresh-6-week-high-despite-rise-in-treasury-yields-c4366c7b)\n"
      ],
      "text/plain": [
       "<IPython.core.display.Markdown object>"
      ]
     },
     "metadata": {},
     "output_type": "display_data"
    },
    {
     "data": {
      "text/markdown": [
       "[2023-07-20 18:01:00 BusinessWire - C3 Risk &amp; Insurance Services Announces Merger with Private Management Insurance Agency and Clark Insurance Agency](http://www.businesswire.com/news/home/20230720938042/en/C3-Risk-Insurance-Services-Announces-Merger-with-Private-Management-Insurance-Agency-and-Clark-Insurance-Agency/?feedref=JjAwJuNHiystnCoBq_hl-Rc4vIAVcHHkbDcwJimU8QtrtlakeQ9hNboBqTAWIjTge3KWq9s9jif-UkBjBsFRyYAbRTSLTc1mgvhPlnaBA55M-oupQnbXnhKsYk8)\n"
      ],
      "text/plain": [
       "<IPython.core.display.Markdown object>"
      ]
     },
     "metadata": {},
     "output_type": "display_data"
    },
    {
     "data": {
      "text/markdown": [
       "[2023-07-20 18:00:00 GlobalNewswire - Feutune Light Acquisition Corporation Announces Extension of the Deadline for an Initial Business Combination](https://www.globenewswire.com/news-release/2023/07/20/2708508/0/en/Feutune-Light-Acquisition-Corporation-Announces-Extension-of-the-Deadline-for-an-Initial-Business-Combination.html)\n"
      ],
      "text/plain": [
       "<IPython.core.display.Markdown object>"
      ]
     },
     "metadata": {},
     "output_type": "display_data"
    },
    {
     "data": {
      "text/markdown": [
       "[2023-07-20 17:59:00 MarketWatch - The Tell: Stocks are ‘most obvious winner’ of a decade powered by AI, Goldman Sachs says](https://www.marketwatch.com/story/equities-are-most-obvious-winner-of-a-decade-powered-by-ai-goldman-sachs-says-73a9e903)\n"
      ],
      "text/plain": [
       "<IPython.core.display.Markdown object>"
      ]
     },
     "metadata": {},
     "output_type": "display_data"
    },
    {
     "data": {
      "text/markdown": [
       "[2023-07-20 17:59:00 MarketWatch - Commodities Corner: COVID pandemic is officially over in the U.S., data on excess deaths show](https://www.marketwatch.com/story/covid-pandemic-is-officially-over-in-the-u-s-data-on-excess-deaths-show-96331698)\n"
      ],
      "text/plain": [
       "<IPython.core.display.Markdown object>"
      ]
     },
     "metadata": {},
     "output_type": "display_data"
    },
    {
     "data": {
      "text/markdown": [
       "[2023-07-20 17:58:00 MarketWatch - Earnings Results: Infosys stock dives after another profit miss and lowered full-year revenue outlook](https://www.marketwatch.com/story/infosys-stock-sinks-after-profit-miss-lowered-full-year-revenue-outlook-7d0bb7df)\n"
      ],
      "text/plain": [
       "<IPython.core.display.Markdown object>"
      ]
     },
     "metadata": {},
     "output_type": "display_data"
    },
    {
     "data": {
      "text/markdown": [
       "[2023-07-20 17:54:19 Forexlive - BofA: USD optimism amid soft landing hopes for the US economy](https://www.forexlive.com/news/bofa-usd-optimism-amid-soft-landing-hopes-for-the-us-economy-20230720/)\n"
      ],
      "text/plain": [
       "<IPython.core.display.Markdown object>"
      ]
     },
     "metadata": {},
     "output_type": "display_data"
    },
    {
     "data": {
      "text/markdown": [
       "[2023-07-20 17:53:52 Cointelegraph - Terraform Labs seeks access to FTX wallets in fraud defense](https://cointelegraph.com/news/terraform-labs-seeks-access-ftx-wallets-fraud-defense)\n"
      ],
      "text/plain": [
       "<IPython.core.display.Markdown object>"
      ]
     },
     "metadata": {},
     "output_type": "display_data"
    },
    {
     "data": {
      "text/markdown": [
       "[2023-07-20 17:53:00 BusinessWire - Intersection Equities and Equity Resource Investments Acquire Las Vegas Industrial Park for $25.5M](http://www.businesswire.com/news/home/20230720143623/en/Intersection-Equities-and-Equity-Resource-Investments-Acquire-Las-Vegas-Industrial-Park-for-25.5M/?feedref=JjAwJuNHiystnCoBq_hl-Rc4vIAVcHHkbDcwJimU8QtrtlakeQ9hNboBqTAWIjTge3KWq9s9jif-UkBjBsFRyYAbRTSLTc1mgvhPlnaBA55M-oupQnbXnhKsYk8RmHF_kAy2gZika)\n"
      ],
      "text/plain": [
       "<IPython.core.display.Markdown object>"
      ]
     },
     "metadata": {},
     "output_type": "display_data"
    },
    {
     "data": {
      "text/markdown": [
       "[2023-07-20 17:48:32 CoinDesk - Why Nasdaq Backing Out of Custody Is Bad, Bad News for Crypto](https://www.coindesk.com/consensus-magazine/2023/07/20/why-nasdaq-backing-out-of-custody-is-bad-bad-news-for-crypto/?utm_medium=referral&utm_source=rss&utm_campaign=headlines)\n"
      ],
      "text/plain": [
       "<IPython.core.display.Markdown object>"
      ]
     },
     "metadata": {},
     "output_type": "display_data"
    },
    {
     "data": {
      "text/markdown": [
       "[2023-07-20 17:39:00 MarketWatch - The Ratings Game: Bud Light sales are still falling, but investors get it at this point. Here’s what Morgan Stanley says they might be missing.](https://www.marketwatch.com/story/bud-light-sales-are-still-falling-but-investors-get-it-at-this-point-heres-what-morgan-stanley-says-they-might-be-missing-4d02bdea)\n"
      ],
      "text/plain": [
       "<IPython.core.display.Markdown object>"
      ]
     },
     "metadata": {},
     "output_type": "display_data"
    },
    {
     "data": {
      "text/markdown": [
       "[2023-07-20 17:32:00 MarketWatch - : China’s property woes offer a window into the demise of the country’s boom times](https://www.marketwatch.com/story/chinas-property-woes-offer-a-window-into-the-demise-of-the-countrys-boom-times-7d91c8c7)\n"
      ],
      "text/plain": [
       "<IPython.core.display.Markdown object>"
      ]
     },
     "metadata": {},
     "output_type": "display_data"
    },
    {
     "data": {
      "text/markdown": [
       "[2023-07-20 17:29:00 MarketWatch - The Ratings Game: Goldman Sachs’s stock powers into positive territory for 2023 as analysts look past mixed Q2](https://www.marketwatch.com/story/goldman-sachss-stock-powers-into-positive-territory-for-2023-as-analysts-look-past-mixed-q2-909cb8b6)\n"
      ],
      "text/plain": [
       "<IPython.core.display.Markdown object>"
      ]
     },
     "metadata": {},
     "output_type": "display_data"
    },
    {
     "data": {
      "text/markdown": [
       "[2023-07-20 17:28:00 MarketWatch - MarketWatch First Take: Taiwan Semi execs slap down some frenzy for AI among chip makers, with concerns about sustainability](https://www.marketwatch.com/story/taiwan-semi-execs-slap-down-some-frenzy-for-ai-among-chip-makers-with-concerns-about-sustainability-81432aef)\n"
      ],
      "text/plain": [
       "<IPython.core.display.Markdown object>"
      ]
     },
     "metadata": {},
     "output_type": "display_data"
    },
    {
     "data": {
      "text/markdown": [
       "[2023-07-20 17:15:00 MarketWatch - The Ratings Game: Waiting for the iPhone 15? You might have to hold out longer than you think.](https://www.marketwatch.com/story/waiting-for-the-iphone-15-you-might-have-to-hold-out-longer-than-you-think-9a8810a0)\n"
      ],
      "text/plain": [
       "<IPython.core.display.Markdown object>"
      ]
     },
     "metadata": {},
     "output_type": "display_data"
    },
    {
     "data": {
      "text/markdown": [
       "[2023-07-20 17:13:00 MarketWatch - The Fed: Bernanke says it is clear Fed will hike interest rates next week, but a September move is ‘up for grabs’](https://www.marketwatch.com/story/bernanke-says-it-is-clear-fed-will-hike-interest-rates-next-week-but-a-september-move-is-up-for-grabs-6cb892d7)\n"
      ],
      "text/plain": [
       "<IPython.core.display.Markdown object>"
      ]
     },
     "metadata": {},
     "output_type": "display_data"
    },
    {
     "data": {
      "text/markdown": [
       "[2023-07-20 17:12:00 MarketWatch - The Moneyist: I mailed a $280 wedding gift and never received a thank-you note. I fear the gift was lost or stolen. Is it gauche to ask?](https://www.marketwatch.com/story/i-mailed-a-280-wedding-gift-and-never-received-a-thank-you-note-i-fear-the-gift-was-lost-or-stolen-is-it-gauche-to-ask-c75c51cc)\n"
      ],
      "text/plain": [
       "<IPython.core.display.Markdown object>"
      ]
     },
     "metadata": {},
     "output_type": "display_data"
    },
    {
     "data": {
      "text/markdown": [
       "[2023-07-20 17:09:00 MarketWatch - : Here are the latest signs that Americans are running out of savings](https://www.marketwatch.com/story/here-are-the-latest-signs-that-americans-are-running-out-of-savings-12d21e49)\n"
      ],
      "text/plain": [
       "<IPython.core.display.Markdown object>"
      ]
     },
     "metadata": {},
     "output_type": "display_data"
    },
    {
     "data": {
      "text/markdown": [
       "[2023-07-20 17:07:34 Forexlive - US treasury auctions $17 billion of 10 year treasury TIPS at  a high yield of 1.495%](https://www.forexlive.com/news/us-treasury-auctions-17-billion-of-10-year-treasury-tips-at-a-high-yield-of-1495-20230720/)\n"
      ],
      "text/plain": [
       "<IPython.core.display.Markdown object>"
      ]
     },
     "metadata": {},
     "output_type": "display_data"
    },
    {
     "data": {
      "text/markdown": [
       "[2023-07-20 17:02:00 MarketWatch - : SpaceX and Virgin Galactic are pushing space tourism, but most Americans plan to stay on Earth, poll finds](https://www.marketwatch.com/story/spacex-and-virgin-galactic-are-pushing-space-tourism-but-most-americans-plan-to-stay-on-earth-poll-finds-6e61c82d)\n"
      ],
      "text/plain": [
       "<IPython.core.display.Markdown object>"
      ]
     },
     "metadata": {},
     "output_type": "display_data"
    },
    {
     "data": {
      "text/markdown": [
       "[2023-07-20 17:00:00 Dailyfx - Gold Suffers Setback as USD and Yields Blast Off. Will XAU/USD Break Down?](https://www.dailyfx.com/news/forex-gold-suffers-setback-as-usd-and-yields-blast-off-will-xau-usd-break-down-20230720.html)\n"
      ],
      "text/plain": [
       "<IPython.core.display.Markdown object>"
      ]
     },
     "metadata": {},
     "output_type": "display_data"
    },
    {
     "data": {
      "text/markdown": [
       "[2023-07-20 16:58:00 MarketWatch - : U.K. Treasury to force banks to explain account closures after dispute between former UKIP leader and Coutts](https://www.marketwatch.com/story/u-k-treasury-to-force-banks-to-explain-account-closures-after-dispute-between-former-ukip-leader-and-coutts-92be6a2a)\n"
      ],
      "text/plain": [
       "<IPython.core.display.Markdown object>"
      ]
     },
     "metadata": {},
     "output_type": "display_data"
    },
    {
     "data": {
      "text/markdown": [
       "[2023-07-20 16:53:00 MarketWatch - : Amazon trial could pave the way for holding the company accountable on warehouse safety](https://www.marketwatch.com/story/amazon-trial-could-pave-the-way-for-holding-the-company-accountable-on-warehouse-safety-4ce86878)\n"
      ],
      "text/plain": [
       "<IPython.core.display.Markdown object>"
      ]
     },
     "metadata": {},
     "output_type": "display_data"
    },
    {
     "data": {
      "text/markdown": [
       "[2023-07-20 16:52:40 SeekingAlpha - Chase Corp. gains on report KKR close to acquiring special-chemicals maker](https://seekingalpha.com/news/3989287-chase-corp-gains-on-report-kkr-close-to-to-acquiring-special-chemicals-maker?utm_source=feed_news_m_a&utm_medium=referral)\n"
      ],
      "text/plain": [
       "<IPython.core.display.Markdown object>"
      ]
     },
     "metadata": {},
     "output_type": "display_data"
    },
    {
     "data": {
      "text/markdown": [
       "[2023-07-20 16:40:00 Cointelegraph - XRP price can fall 40% by September — Fractal analysis](https://cointelegraph.com/news/xrp-price-fall-40-september-fractal-analysis)\n"
      ],
      "text/plain": [
       "<IPython.core.display.Markdown object>"
      ]
     },
     "metadata": {},
     "output_type": "display_data"
    },
    {
     "data": {
      "text/markdown": [
       "[2023-07-20 16:31:00 MarketWatch - The Ratings Game: Avis Budget’s stock falls after analyst downgrades it just two months after turning bullish](https://www.marketwatch.com/story/avis-budgets-stock-falls-after-analyst-downgrades-it-just-two-months-after-turning-bullish-c98191e8)\n"
      ],
      "text/plain": [
       "<IPython.core.display.Markdown object>"
      ]
     },
     "metadata": {},
     "output_type": "display_data"
    },
    {
     "data": {
      "text/markdown": [
       "[2023-07-20 16:17:41 Forexlive - 30yr fixed rate mortgages 6.78% in the week ending July 20th (prev. 6.96%) - Freddie Mac](https://www.forexlive.com/news/30yr-fixed-rate-mortgages-678-in-the-week-ending-july-20th-prev-696-freddie-mac-20230720/)\n"
      ],
      "text/plain": [
       "<IPython.core.display.Markdown object>"
      ]
     },
     "metadata": {},
     "output_type": "display_data"
    },
    {
     "data": {
      "text/markdown": [
       "[2023-07-20 16:17:28 CNBC - Netflix stock sinks as Wall Street looks for clarity on revenue growth](https://www.cnbc.com/2023/07/20/netflix-stock-revenue-growth-clarity.html)\n"
      ],
      "text/plain": [
       "<IPython.core.display.Markdown object>"
      ]
     },
     "metadata": {},
     "output_type": "display_data"
    },
    {
     "data": {
      "text/markdown": [
       "[2023-07-20 16:09:00 GlobalNewswire - Ipsos acquires Omedia from Médiamétrie](https://www.globenewswire.com/news-release/2023/07/20/2708460/0/en/Ipsos-acquires-Omedia-from-M%C3%A9diam%C3%A9trie.html)\n"
      ],
      "text/plain": [
       "<IPython.core.display.Markdown object>"
      ]
     },
     "metadata": {},
     "output_type": "display_data"
    },
    {
     "data": {
      "text/markdown": [
       "[2023-07-20 16:09:00 GlobalNewswire - Ipsos achète Omedia au groupe Médiamétrie](https://www.globenewswire.com/news-release/2023/07/20/2708460/0/fr/Ipsos-ach%C3%A8te-Omedia-au-groupe-M%C3%A9diam%C3%A9trie.html)\n"
      ],
      "text/plain": [
       "<IPython.core.display.Markdown object>"
      ]
     },
     "metadata": {},
     "output_type": "display_data"
    },
    {
     "data": {
      "text/markdown": [
       "[2023-07-20 16:04:24 CNBC - Powerball's $1 billion jackpot has a winner—and 36 others scored $1 million](https://www.cnbc.com/2023/07/20/powerballs-1-billion-dollar-jackpot-has-a-winner.html)\n"
      ],
      "text/plain": [
       "<IPython.core.display.Markdown object>"
      ]
     },
     "metadata": {},
     "output_type": "display_data"
    },
    {
     "data": {
      "text/markdown": [
       "[2023-07-20 16:00:00 Cointelegraph - UK financial watchdog announces launch of permanent Digital Sandbox in August](https://cointelegraph.com/news/uk-financial-watchdog-announces-launch-digital-sandbox)\n"
      ],
      "text/plain": [
       "<IPython.core.display.Markdown object>"
      ]
     },
     "metadata": {},
     "output_type": "display_data"
    },
    {
     "data": {
      "text/markdown": [
       "[2023-07-20 15:57:29 Cointelegraph - Bitcoin rejects at 21-day trendline — How low can BTC price go?](https://cointelegraph.com/news/bitcoin-price-rejects-trendline-btc-how-low-go)\n"
      ],
      "text/plain": [
       "<IPython.core.display.Markdown object>"
      ]
     },
     "metadata": {},
     "output_type": "display_data"
    },
    {
     "data": {
      "text/markdown": [
       "[2023-07-20 15:57:01 SeekingAlpha - Impala Platinum wins RBPlat battle as Northam sells stake](https://seekingalpha.com/news/3989266-impala-platinum-wins-rbplat-battle-as-northam-sells-stake?utm_source=feed_news_m_a&utm_medium=referral)\n"
      ],
      "text/plain": [
       "<IPython.core.display.Markdown object>"
      ]
     },
     "metadata": {},
     "output_type": "display_data"
    },
    {
     "data": {
      "text/markdown": [
       "[2023-07-20 15:54:24 Forexlive - Euro extends decline to 1.1130 as the dollar stays hot](https://www.forexlive.com/news/euro-extends-decline-to-11130-as-the-dollar-stays-hot-20230720/)\n"
      ],
      "text/plain": [
       "<IPython.core.display.Markdown object>"
      ]
     },
     "metadata": {},
     "output_type": "display_data"
    },
    {
     "data": {
      "text/markdown": [
       "[2023-07-20 15:44:36 CNBC - Stocks making the biggest moves midday: Netflix, American Airlines, Johnson & Johnson and more](https://www.cnbc.com/2023/07/20/stocks-making-the-biggest-moves-midday-netflix-american-airlines-johnson-johnson-and-more.html)\n"
      ],
      "text/plain": [
       "<IPython.core.display.Markdown object>"
      ]
     },
     "metadata": {},
     "output_type": "display_data"
    },
    {
     "data": {
      "text/markdown": [
       "[2023-07-20 15:42:41 CNBC - Harvard psychologist: The 'common enemy effect' may explain why Elon Musk's declining popularity could benefit Mark Zuckerberg](https://www.cnbc.com/2023/07/20/harvard-psychologist-on-twitters-decline-and-common-enemy-effect.html)\n"
      ],
      "text/plain": [
       "<IPython.core.display.Markdown object>"
      ]
     },
     "metadata": {},
     "output_type": "display_data"
    },
    {
     "data": {
      "text/markdown": [
       "[2023-07-20 15:28:31 CNBC - Investing in Space: How corporate VC is a double-edged sword](https://www.cnbc.com/2023/07/20/investing-in-space-how-corporate-vc-is-a-double-edged-sword.html)\n"
      ],
      "text/plain": [
       "<IPython.core.display.Markdown object>"
      ]
     },
     "metadata": {},
     "output_type": "display_data"
    },
    {
     "data": {
      "text/markdown": [
       "[2023-07-20 15:27:13 Forexlive - USDCAD spikes to 200 hour MA @ 1.21917. It will take a move above to increase bullish bias](https://www.forexlive.com/technical-analysis/usdcad-spikes-to-200-hour-ma-121917-it-will-take-a-move-above-to-increase-bullish-bias-20230720/)\n"
      ],
      "text/plain": [
       "<IPython.core.display.Markdown object>"
      ]
     },
     "metadata": {},
     "output_type": "display_data"
    },
    {
     "data": {
      "text/markdown": [
       "[2023-07-20 15:19:00 GlobalNewswire - Communiqué normé - Mise en œuvre du retrait obligatoire visant les actions Vilmorin & Cie à l'issue de l'Offre Publique d'Achat Simplifiée](https://www.globenewswire.com/news-release/2023/07/20/2708413/0/fr/Communiqu%C3%A9-norm%C3%A9-Mise-en-%C5%93uvre-du-retrait-obligatoire-visant-les-actions-Vilmorin-Cie-%C3%A0-l-issue-de-l-Offre-Publique-d-Achat-Simplifi%C3%A9e.html)\n"
      ],
      "text/plain": [
       "<IPython.core.display.Markdown object>"
      ]
     },
     "metadata": {},
     "output_type": "display_data"
    },
    {
     "data": {
      "text/markdown": [
       "[2023-07-20 15:15:11 Cointelegraph - Aptos' new user growth hits 900% after integration with social media app Chingari](https://cointelegraph.com/news/aptos-user-growth-900-percent-integration-social-media-app-chingari)\n"
      ],
      "text/plain": [
       "<IPython.core.display.Markdown object>"
      ]
     },
     "metadata": {},
     "output_type": "display_data"
    },
    {
     "data": {
      "text/markdown": [
       "[2023-07-20 15:13:44 SeekingAlpha - Oconee Federal Financial will merge with Mutual Savings Bank](https://seekingalpha.com/news/3989242-oconee-federal-financial-will-merge-with-mutual-savings-bank?utm_source=feed_news_m_a&utm_medium=referral)\n"
      ],
      "text/plain": [
       "<IPython.core.display.Markdown object>"
      ]
     },
     "metadata": {},
     "output_type": "display_data"
    },
    {
     "data": {
      "text/markdown": [
       "[2023-07-20 15:12:00 BusinessWire - Oxland Group Acquires Land for New Master-Planned Community in Montgomery County, Texas](http://www.businesswire.com/news/home/20230720513012/en/Oxland-Group-Acquires-Land-for-New-Master-Planned-Community-in-Montgomery-County-Texas/?feedref=JjAwJuNHiystnCoBq_hl-Rc4vIAVcHHkbDcwJimU8QtrtlakeQ9hNboBqTAWIjTge3KWq9s9jif-UkBjBsFRyYAbRTSLTc1mgvhPlnaBA55M-oupQnbXnhKsYk8RmHF_kAy2gZikaX3QWV6xOvgF)\n"
      ],
      "text/plain": [
       "<IPython.core.display.Markdown object>"
      ]
     },
     "metadata": {},
     "output_type": "display_data"
    },
    {
     "data": {
      "text/markdown": [
       "[2023-07-20 15:07:00 Cointelegraph - 7 most in-demand programming languages to learn](https://cointelegraph.com/news/7-in-demand-programming-languages)\n"
      ],
      "text/plain": [
       "<IPython.core.display.Markdown object>"
      ]
     },
     "metadata": {},
     "output_type": "display_data"
    },
    {
     "data": {
      "text/markdown": [
       "[2023-07-20 15:05:58 CNBC - Airline cargo revenue is cratering. Here's why that's actually good news](https://www.cnbc.com/2023/07/20/airline-shrinking-cargo-revenue-good-news.html)\n"
      ],
      "text/plain": [
       "<IPython.core.display.Markdown object>"
      ]
     },
     "metadata": {},
     "output_type": "display_data"
    },
    {
     "data": {
      "text/markdown": [
       "[2023-07-20 15:00:30 Dailyfx - USD/ZAR Rises as SA Reserve Bank (SARB) Pauses After 10 Consecutive Hikes](https://www.dailyfx.com/news/forex-usd-zar-rises-as-sarb-pauses-after-10-consecutive-hikes-20230720.html)\n"
      ],
      "text/plain": [
       "<IPython.core.display.Markdown object>"
      ]
     },
     "metadata": {},
     "output_type": "display_data"
    },
    {
     "data": {
      "text/markdown": [
       "[2023-07-20 15:00:00 GlobalNewswire - Shea Butter Market to Worth USD 4 Billion by 2030 | Skyquest Technology](https://www.globenewswire.com/news-release/2023/07/20/2708404/0/en/Shea-Butter-Market-to-Worth-USD-4-Billion-by-2030-Skyquest-Technology.html)\n"
      ],
      "text/plain": [
       "<IPython.core.display.Markdown object>"
      ]
     },
     "metadata": {},
     "output_type": "display_data"
    },
    {
     "data": {
      "text/markdown": [
       "[2023-07-20 15:00:00 Cointelegraph - 16 tips to help blockchain companies refine their marketing messages](https://cointelegraph.com/innovation-circle/16-tips-to-help-blockchain-companies-refine-their-marketing-messages)\n"
      ],
      "text/plain": [
       "<IPython.core.display.Markdown object>"
      ]
     },
     "metadata": {},
     "output_type": "display_data"
    },
    {
     "data": {
      "text/markdown": [
       "[2023-07-20 14:52:01 Forexlive - EURUSD cracks below the 200 hour MA for the first time since July 7](https://www.forexlive.com/technical-analysis/eurusd-cracks-below-the-200-hour-ma-for-the-first-time-since-july-7-20230720/)\n"
      ],
      "text/plain": [
       "<IPython.core.display.Markdown object>"
      ]
     },
     "metadata": {},
     "output_type": "display_data"
    },
    {
     "data": {
      "text/markdown": [
       "[2023-07-20 14:44:16 SeekingAlpha - Catalent gains amid report of Elliott stake; RBC sees multiple paths for activist](https://seekingalpha.com/news/3989234-catalent-gains-amid-report-of-elliott-stake-rbc-sees-multiple-paths-for-activist?utm_source=feed_news_m_a&utm_medium=referral)\n"
      ],
      "text/plain": [
       "<IPython.core.display.Markdown object>"
      ]
     },
     "metadata": {},
     "output_type": "display_data"
    },
    {
     "data": {
      "text/markdown": [
       "[2023-07-20 14:30:00 GlobalNewswire - Hand Sanitizer Market to Surpass 11.62 Billion by 2030 Drives Due to the Prevalence of Diseases](https://www.globenewswire.com/news-release/2023/07/20/2708378/0/en/Hand-Sanitizer-Market-to-Surpass-11-62-Billion-by-2030-Drives-Due-to-the-Prevalence-of-Diseases.html)\n"
      ],
      "text/plain": [
       "<IPython.core.display.Markdown object>"
      ]
     },
     "metadata": {},
     "output_type": "display_data"
    },
    {
     "data": {
      "text/markdown": [
       "[2023-07-20 14:28:59 SeekingAlpha - Heritage-Crystal Clean trades through takeover offer on potential for higher bid](https://seekingalpha.com/news/3989215-heritage-crystal-clean-trades-through-takeover-offer-on-potential-for-higher-bid?utm_source=feed_news_m_a&utm_medium=referral)\n"
      ],
      "text/plain": [
       "<IPython.core.display.Markdown object>"
      ]
     },
     "metadata": {},
     "output_type": "display_data"
    },
    {
     "data": {
      "text/markdown": [
       "[2023-07-20 14:20:00 GlobalNewswire - Davidson Kempner Capital Management LP : Form 8.3 - Horizon Therapeutics plc](https://www.globenewswire.com/news-release/2023/07/20/2708373/0/en/Davidson-Kempner-Capital-Management-LP-Form-8-3-Horizon-Therapeutics-plc.html)\n"
      ],
      "text/plain": [
       "<IPython.core.display.Markdown object>"
      ]
     },
     "metadata": {},
     "output_type": "display_data"
    },
    {
     "data": {
      "text/markdown": [
       "[2023-07-20 14:11:59 Forexlive - The USDCHF is moving higher. Higher yields are help the bias, but work to do technically](https://www.forexlive.com/technical-analysis/the-usdchf-is-moving-higher-higher-yields-are-help-the-bias-but-work-to-do-technically-20230720/)\n"
      ],
      "text/plain": [
       "<IPython.core.display.Markdown object>"
      ]
     },
     "metadata": {},
     "output_type": "display_data"
    },
    {
     "data": {
      "text/markdown": [
       "[2023-07-20 14:02:37 Cointelegraph - US law protects institutions and exposes retail investors — Rep. Torres](https://cointelegraph.com/news/us-law-exposes-retail-investors-rep-torres)\n"
      ],
      "text/plain": [
       "<IPython.core.display.Markdown object>"
      ]
     },
     "metadata": {},
     "output_type": "display_data"
    },
    {
     "data": {
      "text/markdown": [
       "[2023-07-20 14:00:11 SeekingAlpha - FTC asks in-house judge to delay Black Knight/ICE case](https://seekingalpha.com/news/3989192-ftc-asks-in-house-judge-to-delay-black-knightintercontinental-case?utm_source=feed_news_m_a&utm_medium=referral)\n"
      ],
      "text/plain": [
       "<IPython.core.display.Markdown object>"
      ]
     },
     "metadata": {},
     "output_type": "display_data"
    },
    {
     "data": {
      "text/markdown": [
       "[2023-07-20 14:00:00 GlobalNewswire - Stem Cell Market Set to Soar Past USD 31.60 Billion by 2030 | Skyquest Technology](https://www.globenewswire.com/news-release/2023/07/20/2708353/0/en/Stem-Cell-Market-Set-to-Soar-Past-USD-31-60-Billion-by-2030-Skyquest-Technology.html)\n"
      ],
      "text/plain": [
       "<IPython.core.display.Markdown object>"
      ]
     },
     "metadata": {},
     "output_type": "display_data"
    },
    {
     "data": {
      "text/markdown": [
       "[2023-07-20 14:00:00 Cointelegraph - Liquid staking claims top spot in DeFi: Binance report](https://cointelegraph.com/news/liquid-staking-claims-top-spot-in-defi-binance-report)\n"
      ],
      "text/plain": [
       "<IPython.core.display.Markdown object>"
      ]
     },
     "metadata": {},
     "output_type": "display_data"
    },
    {
     "data": {
      "text/markdown": [
       "[2023-07-20 13:46:11 CNBC - Victims want Morgan Stanley to answer for ex-financial advisor's Ponzi scheme](https://www.cnbc.com/2023/07/20/morgan-stanley-financial-advisor-ponzi-scheme.html)\n"
      ],
      "text/plain": [
       "<IPython.core.display.Markdown object>"
      ]
     },
     "metadata": {},
     "output_type": "display_data"
    },
    {
     "data": {
      "text/markdown": [
       "[2023-07-20 13:43:00 GlobalNewswire - Horizon Therapeutics plc](https://www.globenewswire.com/news-release/2023/07/20/2708334/0/en/Horizon-Therapeutics-plc.html)\n"
      ],
      "text/plain": [
       "<IPython.core.display.Markdown object>"
      ]
     },
     "metadata": {},
     "output_type": "display_data"
    },
    {
     "data": {
      "text/markdown": [
       "[2023-07-20 13:37:39 Forexlive - NASDAQ is lower. S&P is near unchanged. Dow is higher.](https://www.forexlive.com/news/nasdaq-is-lower-sp-is-near-unchanged-dow-is-higher-20230720/)\n"
      ],
      "text/plain": [
       "<IPython.core.display.Markdown object>"
      ]
     },
     "metadata": {},
     "output_type": "display_data"
    },
    {
     "data": {
      "text/markdown": [
       "[2023-07-20 13:30:01 Dailyfx - British Pound Update: GBP/USD and GBY/JPY Latest Price Outlooks](https://www.dailyfx.com/news/british-pound-update-gbp-usd-and-gby-jpy-latest-price-outlooks-20230720.html)\n"
      ],
      "text/plain": [
       "<IPython.core.display.Markdown object>"
      ]
     },
     "metadata": {},
     "output_type": "display_data"
    },
    {
     "data": {
      "text/markdown": [
       "[2023-07-20 13:30:00 GlobalNewswire - Intelligent Electronic Devices Market Set to Soar Past USD 22.83 Billion by 2030 | Skyquest Technology](https://www.globenewswire.com/news-release/2023/07/20/2708315/0/en/Intelligent-Electronic-Devices-Market-Set-to-Soar-Past-USD-22-83-Billion-by-2030-Skyquest-Technology.html)\n"
      ],
      "text/plain": [
       "<IPython.core.display.Markdown object>"
      ]
     },
     "metadata": {},
     "output_type": "display_data"
    },
    {
     "data": {
      "text/markdown": [
       "[2023-07-20 13:30:00 Cointelegraph - Wolf Of All Streets worries about a world where Bitcoin hits $1M: Hall of Flame](https://cointelegraph.com/magazine/wolf-of-all-streets-world-bitcoin-hits-1m-1-million-hall-of-flame/)\n"
      ],
      "text/plain": [
       "<IPython.core.display.Markdown object>"
      ]
     },
     "metadata": {},
     "output_type": "display_data"
    },
    {
     "data": {
      "text/markdown": [
       "[2023-07-20 13:14:00 Cointelegraph - Zero Barriers ahead! Zero knowledge and AI combine to redefine the future](https://cointelegraph.com/news/zero-knowledge-proofs-artificial-intelligence-redefine-future)\n"
      ],
      "text/plain": [
       "<IPython.core.display.Markdown object>"
      ]
     },
     "metadata": {},
     "output_type": "display_data"
    },
    {
     "data": {
      "text/markdown": [
       "[2023-07-20 13:12:29 CNBC - How Netflix can end the Hollywood strike in a way Disney, Paramount can't afford](https://www.cnbc.com/2023/07/20/how-netflix-can-end-the-hollywood-strike-in-a-way-disney-cant-afford.html)\n"
      ],
      "text/plain": [
       "<IPython.core.display.Markdown object>"
      ]
     },
     "metadata": {},
     "output_type": "display_data"
    },
    {
     "data": {
      "text/markdown": [
       "[2023-07-20 13:09:53 Cointelegraph - Bitcoin options tantalizing bears to push price below $30K before Friday’s expiry](https://cointelegraph.com/news/bitcoin-options-btc-trade-30k-friday-expiry)\n"
      ],
      "text/plain": [
       "<IPython.core.display.Markdown object>"
      ]
     },
     "metadata": {},
     "output_type": "display_data"
    },
    {
     "data": {
      "text/markdown": [
       "[2023-07-20 13:06:53 CNBC - Jim Cramer's top 10 things to watch in the stock market Thursday](https://www.cnbc.com/2023/07/20/jim-cramers-top-10-things-to-watch-in-the-stock-market-thursday.html)\n"
      ],
      "text/plain": [
       "<IPython.core.display.Markdown object>"
      ]
     },
     "metadata": {},
     "output_type": "display_data"
    },
    {
     "data": {
      "text/markdown": [
       "[2023-07-20 13:03:44 SeekingAlpha - DOJ looking at Microsoft competition in review of ForgeRock/Thoma Bravo - report](https://seekingalpha.com/news/3989163-doj-looking-at-microsoft-competition-in-review-of-forgerockthoma-bravo-report?utm_source=feed_news_m_a&utm_medium=referral)\n"
      ],
      "text/plain": [
       "<IPython.core.display.Markdown object>"
      ]
     },
     "metadata": {},
     "output_type": "display_data"
    },
    {
     "data": {
      "text/markdown": [
       "[2023-07-20 13:00:01 CNBC - As 'quiet luxury' takes over: 4 subtle signs of wealth, according to a self-made millionaire](https://www.cnbc.com/2023/07/20/ramit-sethi-signs-of-subtle-wealth.html)\n"
      ],
      "text/plain": [
       "<IPython.core.display.Markdown object>"
      ]
     },
     "metadata": {},
     "output_type": "display_data"
    },
    {
     "data": {
      "text/markdown": [
       "[2023-07-20 13:00:01 CNBC - How Samsung and Texas Instruments made the Lone Star State the hub of U.S. chip manufacturing](https://www.cnbc.com/2023/07/20/texas-becomes-chip-hub-with-47-billion-investment-from-samsung-and-ti.html)\n"
      ],
      "text/plain": [
       "<IPython.core.display.Markdown object>"
      ]
     },
     "metadata": {},
     "output_type": "display_data"
    },
    {
     "data": {
      "text/markdown": [
       "[2023-07-20 13:00:00 GlobalNewswire - Styrenic Polymers Market to Worth USD 6.78 Billion by 2030 | Skyquest Technology](https://www.globenewswire.com/news-release/2023/07/20/2708233/0/en/Styrenic-Polymers-Market-to-Worth-USD-6-78-Billion-by-2030-Skyquest-Technology.html)\n"
      ],
      "text/plain": [
       "<IPython.core.display.Markdown object>"
      ]
     },
     "metadata": {},
     "output_type": "display_data"
    },
    {
     "data": {
      "text/markdown": [
       "[2023-07-20 13:00:00 GlobalNewswire - Functional Water Market Set to Soar Past USD 27.76 Billion by 2030 | Skyquest Technology](https://www.globenewswire.com/news-release/2023/07/20/2708267/0/en/Functional-Water-Market-Set-to-Soar-Past-USD-27-76-Billion-by-2030-Skyquest-Technology.html)\n"
      ],
      "text/plain": [
       "<IPython.core.display.Markdown object>"
      ]
     },
     "metadata": {},
     "output_type": "display_data"
    },
    {
     "data": {
      "text/markdown": [
       "[2023-07-20 13:00:00 BusinessWire - FullBeauty Brands Completes Acquisition of Disruptive Intimates Brand, CUUP](http://www.businesswire.com/news/home/20230720849505/en/FullBeauty-Brands-Completes-Acquisition-of-Disruptive-Intimates-Brand-CUUP/?feedref=JjAwJuNHiystnCoBq_hl-Rc4vIAVcHHkbDcwJimU8QtrtlakeQ9hNboBqTAWIjTge3KWq9s9jif-UkBjBsFRyYAbRTSLTc1mgvhPlnaBA55M-oupQnbXnhKsYk8RmHF_kAy2gZikaX3QWV6xOvgFlA==)\n"
      ],
      "text/plain": [
       "<IPython.core.display.Markdown object>"
      ]
     },
     "metadata": {},
     "output_type": "display_data"
    },
    {
     "data": {
      "text/markdown": [
       "[2023-07-20 12:57:00 Cointelegraph - DeFi liquidity protocol adds Consensys-developed zkEVM rollup Linea](https://cointelegraph.com/news/defi-liquidity-protocol-adds-consensys-developed-zkevm-rollup-linea)\n"
      ],
      "text/plain": [
       "<IPython.core.display.Markdown object>"
      ]
     },
     "metadata": {},
     "output_type": "display_data"
    },
    {
     "data": {
      "text/markdown": [
       "[2023-07-20 12:54:52 SeekingAlpha - DOJ looking at Microsoft competition in analystis of ForgeRock/Thoma Bravo - report](https://seekingalpha.com/news/3989155-doj-looking-at-microsoft-competition-in-analystis-of-forgerockthoma-bravo-report?utm_source=feed_news_m_a&utm_medium=referral)\n"
      ],
      "text/plain": [
       "<IPython.core.display.Markdown object>"
      ]
     },
     "metadata": {},
     "output_type": "display_data"
    },
    {
     "data": {
      "text/markdown": [
       "[2023-07-20 12:54:29 CNBC - Amazon to launch pay-by-palm technology at all Whole Foods stores by year-end](https://www.cnbc.com/2023/07/20/amazon-to-add-pay-by-palm-tech-to-all-whole-foods-stores-by-year-end.html)\n"
      ],
      "text/plain": [
       "<IPython.core.display.Markdown object>"
      ]
     },
     "metadata": {},
     "output_type": "display_data"
    },
    {
     "data": {
      "text/markdown": [
       "[2023-07-20 12:47:29 Forexlive - Nasdaq Composite Technical Analysis - Key Level in Sight](https://www.forexlive.com/technical-analysis/nasdaq-composite-technical-analysis-key-level-in-sight-20230720/)\n"
      ],
      "text/plain": [
       "<IPython.core.display.Markdown object>"
      ]
     },
     "metadata": {},
     "output_type": "display_data"
    },
    {
     "data": {
      "text/markdown": [
       "[2023-07-20 12:40:00 GlobalNewswire - Pasithea Therapeutics Special Committee Rejects Unsolicited Bid from Lucy Scientific Discovery, Inc.](https://www.globenewswire.com/news-release/2023/07/20/2708212/0/en/Pasithea-Therapeutics-Special-Committee-Rejects-Unsolicited-Bid-from-Lucy-Scientific-Discovery-Inc.html)\n"
      ],
      "text/plain": [
       "<IPython.core.display.Markdown object>"
      ]
     },
     "metadata": {},
     "output_type": "display_data"
    },
    {
     "data": {
      "text/markdown": [
       "[2023-07-20 12:39:05 CNBC - Biden's economic approval rating rises slightly, but is still just 37% despite 'Bidenomics' push](https://www.cnbc.com/2023/07/20/bidens-economic-approval-rating-rises-slightly-but-is-still-just-37percent-despite-bidenomics-push.html)\n"
      ],
      "text/plain": [
       "<IPython.core.display.Markdown object>"
      ]
     },
     "metadata": {},
     "output_type": "display_data"
    },
    {
     "data": {
      "text/markdown": [
       "[2023-07-20 12:30:00 GlobalNewswire - Chromatography Resin Market Set to Soar Past USD 3.89 Billion by 2030](https://www.globenewswire.com/news-release/2023/07/20/2708198/0/en/Chromatography-Resin-Market-Set-to-Soar-Past-USD-3-89-Billion-by-2030.html)\n"
      ],
      "text/plain": [
       "<IPython.core.display.Markdown object>"
      ]
     },
     "metadata": {},
     "output_type": "display_data"
    },
    {
     "data": {
      "text/markdown": [
       "[2023-07-20 12:30:00 BusinessWire - Oconee Federal to Merge With Mutual Savings Bank](http://www.businesswire.com/news/home/20230720387295/en/Oconee-Federal-to-Merge-With-Mutual-Savings-Bank/?feedref=JjAwJuNHiystnCoBq_hl-Rc4vIAVcHHkbDcwJimU8QtrtlakeQ9hNboBqTAWIjTge3KWq9s9jif-UkBjBsFRyYAbRTSLTc1mgvhPlnaBA55M-oupQnbXnhKsYk8RmHF_kAy2gZikaX3QWV6xOvgFlA==)\n"
      ],
      "text/plain": [
       "<IPython.core.display.Markdown object>"
      ]
     },
     "metadata": {},
     "output_type": "display_data"
    },
    {
     "data": {
      "text/markdown": [
       "[2023-07-20 12:21:39 CNBC - Wheat prices soar for a third day as Russia-Ukraine tensions stoke fears of major food crisis](https://www.cnbc.com/2023/07/20/wheat-prices-soar-as-russia-ukraine-tensions-stoke-food-crisis-fears.html)\n"
      ],
      "text/plain": [
       "<IPython.core.display.Markdown object>"
      ]
     },
     "metadata": {},
     "output_type": "display_data"
    },
    {
     "data": {
      "text/markdown": [
       "[2023-07-20 12:14:52 Dailyfx - FTSE Update: Inflation Relief Boosts Homebuilders as Traders Revise BoE Bets](https://www.dailyfx.com/news/ftse-update-inflation-relief-boosts-homebuilders-as-traders-revise-boe-bets-20230720.html)\n"
      ],
      "text/plain": [
       "<IPython.core.display.Markdown object>"
      ]
     },
     "metadata": {},
     "output_type": "display_data"
    },
    {
     "data": {
      "text/markdown": [
       "[2023-07-20 12:06:35 Cointelegraph - Reddit Engineer shares strategy behind NFT onboarding at EthCC Paris](https://cointelegraph.com/news/nft-reddit-engineer-shares-strategy-behind-nft-onboarding-at-eth-cc-paris)\n"
      ],
      "text/plain": [
       "<IPython.core.display.Markdown object>"
      ]
     },
     "metadata": {},
     "output_type": "display_data"
    },
    {
     "data": {
      "text/markdown": [
       "[2023-07-20 12:06:00 GlobalNewswire - GreenLight Biosciences Announces Expiration of Tender Offer Period for Outstanding Shares](https://www.globenewswire.com/news-release/2023/07/20/2708166/0/en/GreenLight-Biosciences-Announces-Expiration-of-Tender-Offer-Period-for-Outstanding-Shares.html)\n"
      ],
      "text/plain": [
       "<IPython.core.display.Markdown object>"
      ]
     },
     "metadata": {},
     "output_type": "display_data"
    },
    {
     "data": {
      "text/markdown": [
       "[2023-07-20 12:05:31 CNBC - Stocks making the biggest moves premarket: Netflix, Tesla, United Airlines and more](https://www.cnbc.com/2023/07/20/stocks-making-the-biggest-moves-premarket-nflx-tsla-ual.html)\n"
      ],
      "text/plain": [
       "<IPython.core.display.Markdown object>"
      ]
     },
     "metadata": {},
     "output_type": "display_data"
    },
    {
     "data": {
      "text/markdown": [
       "[2023-07-20 11:52:45 Forexlive - ForexLive European FX news wrap: Aussie holds earlier gains, tech rally pauses for breath](https://www.forexlive.com/news/forexlive-european-fx-news-wrap-aussie-holds-earlier-gains-tech-rally-pauses-for-breath-20230720/)\n"
      ],
      "text/plain": [
       "<IPython.core.display.Markdown object>"
      ]
     },
     "metadata": {},
     "output_type": "display_data"
    },
    {
     "data": {
      "text/markdown": [
       "[2023-07-20 11:52:14 SeekingAlpha - Everyday People Financial to acquire Pastdue Credit Solutions](https://seekingalpha.com/news/3989116-everyday-people-financial-to-acquire-pastdue-credit-solutions?utm_source=feed_news_m_a&utm_medium=referral)\n"
      ],
      "text/plain": [
       "<IPython.core.display.Markdown object>"
      ]
     },
     "metadata": {},
     "output_type": "display_data"
    },
    {
     "data": {
      "text/markdown": [
       "[2023-07-20 11:44:36 CNBC - 'Old friend': Henry Kissinger meets China's Xi Jinping in second surprise Beijing talks](https://www.cnbc.com/2023/07/20/chinas-xi-jinping-meets-henry-kissinger-in-beijing.html)\n"
      ],
      "text/plain": [
       "<IPython.core.display.Markdown object>"
      ]
     },
     "metadata": {},
     "output_type": "display_data"
    },
    {
     "data": {
      "text/markdown": [
       "[2023-07-20 11:42:29 Cointelegraph - UK government rejects lawmakers call to treat crypto like gambling](https://cointelegraph.com/news/crypto-uk-rejects-regulating-crypto-gambling)\n"
      ],
      "text/plain": [
       "<IPython.core.display.Markdown object>"
      ]
     },
     "metadata": {},
     "output_type": "display_data"
    },
    {
     "data": {
      "text/markdown": [
       "[2023-07-20 11:37:00 GlobalNewswire - Nutraceuticals Market to Hit USD 658.11 Billion by 2028 | With 9.3% of CAGR](https://www.globenewswire.com/news-release/2023/07/20/2708108/0/en/Nutraceuticals-Market-to-Hit-USD-658-11-Billion-by-2028-With-9-3-of-CAGR.html)\n"
      ],
      "text/plain": [
       "<IPython.core.display.Markdown object>"
      ]
     },
     "metadata": {},
     "output_type": "display_data"
    },
    {
     "data": {
      "text/markdown": [
       "[2023-07-20 11:35:00 GlobalNewswire - Smart Irrigation Market Size, Share, Industry Growth [2023-2030] | Fortune Business Insights™](https://www.globenewswire.com/news-release/2023/07/20/2708107/0/en/Smart-Irrigation-Market-Size-Share-Industry-Growth-2023-2030-Fortune-Business-Insights.html)\n"
      ],
      "text/plain": [
       "<IPython.core.display.Markdown object>"
      ]
     },
     "metadata": {},
     "output_type": "display_data"
    },
    {
     "data": {
      "text/markdown": [
       "[2023-07-20 11:32:27 CNBC - Kenvue earnings top estimates in J&J spinoff's first quarterly report since IPO](https://www.cnbc.com/2023/07/20/kenvue-kvue-q2-earnings-report-2023.html)\n"
      ],
      "text/plain": [
       "<IPython.core.display.Markdown object>"
      ]
     },
     "metadata": {},
     "output_type": "display_data"
    },
    {
     "data": {
      "text/markdown": [
       "[2023-07-20 11:29:00 GlobalNewswire - Reusable Water Bottle Market Size, Share, Report [2023-2030] | Fortune Business Insights™](https://www.globenewswire.com/news-release/2023/07/20/2708100/0/en/Reusable-Water-Bottle-Market-Size-Share-Report-2023-2030-Fortune-Business-Insights.html)\n"
      ],
      "text/plain": [
       "<IPython.core.display.Markdown object>"
      ]
     },
     "metadata": {},
     "output_type": "display_data"
    },
    {
     "data": {
      "text/markdown": [
       "[2023-07-20 11:24:00 GlobalNewswire - Nitric Acid Market to Reach USD 30.39 Billion by 2030 | With a CAGR of 3.6%](https://www.globenewswire.com/news-release/2023/07/20/2708090/0/en/Nitric-Acid-Market-to-Reach-USD-30-39-Billion-by-2030-With-a-CAGR-of-3-6.html)\n"
      ],
      "text/plain": [
       "<IPython.core.display.Markdown object>"
      ]
     },
     "metadata": {},
     "output_type": "display_data"
    },
    {
     "data": {
      "text/markdown": [
       "[2023-07-20 11:21:21 Cointelegraph - Andreessen Horowitz exec sees ‘promising paths’ for Web3 social platforms  — EthCC 6](https://cointelegraph.com/news/web-3-andreessen-horowitz-exec-sees-promising-paths-for-web3-social-platforms-eth-cc-6)\n"
      ],
      "text/plain": [
       "<IPython.core.display.Markdown object>"
      ]
     },
     "metadata": {},
     "output_type": "display_data"
    },
    {
     "data": {
      "text/markdown": [
       "[2023-07-20 11:21:00 GlobalNewswire - E-waste Management Market to Reach 63.22 Million Tons by 2029 | With Exhibiting A CAGR of 3.3%](https://www.globenewswire.com/news-release/2023/07/20/2708086/0/en/E-waste-Management-Market-to-Reach-63-22-Million-Tons-by-2029-With-Exhibiting-A-CAGR-of-3-3.html)\n"
      ],
      "text/plain": [
       "<IPython.core.display.Markdown object>"
      ]
     },
     "metadata": {},
     "output_type": "display_data"
    },
    {
     "data": {
      "text/markdown": [
       "[2023-07-20 11:17:00 GlobalNewswire - Hotel Market 2023 Trends, Size, Global Share | Hotel Industry Research Report by Fortune Business Insights™](https://www.globenewswire.com/news-release/2023/07/20/2708082/0/en/Hotel-Market-2023-Trends-Size-Global-Share-Hotel-Industry-Research-Report-by-Fortune-Business-Insights.html)\n"
      ],
      "text/plain": [
       "<IPython.core.display.Markdown object>"
      ]
     },
     "metadata": {},
     "output_type": "display_data"
    },
    {
     "data": {
      "text/markdown": [
       "[2023-07-20 11:16:39 Forexlive - BofA trims euro area growth forecast for the year to 0.3%](https://www.forexlive.com/news/bofa-trims-euro-area-growth-forecast-for-the-year-to-03-20230720/)\n"
      ],
      "text/plain": [
       "<IPython.core.display.Markdown object>"
      ]
     },
     "metadata": {},
     "output_type": "display_data"
    },
    {
     "data": {
      "text/markdown": [
       "[2023-07-20 11:15:10 Cointelegraph - Grayscale Bitcoin Trust among ARK’s top ETF performers in Q2 2023](https://cointelegraph.com/news/bitcoin-cathie-wood-ark-invest-grayscale-bitcoin-trust-among-top-performers-in-q2-2023)\n"
      ],
      "text/plain": [
       "<IPython.core.display.Markdown object>"
      ]
     },
     "metadata": {},
     "output_type": "display_data"
    },
    {
     "data": {
      "text/markdown": [
       "[2023-07-20 11:00:00 GlobalNewswire - Solar Alliance provides update on Canadian solar acquisition, extends exclusivity period as due diligence continues](https://www.globenewswire.com/news-release/2023/07/20/2708057/0/en/Solar-Alliance-provides-update-on-Canadian-solar-acquisition-extends-exclusivity-period-as-due-diligence-continues.html)\n"
      ],
      "text/plain": [
       "<IPython.core.display.Markdown object>"
      ]
     },
     "metadata": {},
     "output_type": "display_data"
    },
    {
     "data": {
      "text/markdown": [
       "[2023-07-20 11:00:00 GlobalNewswire - Anfield Completes Acquisition of Uranium Project with Historical Indicated Uranium Resource of 18.1 Million Pounds](https://www.globenewswire.com/news-release/2023/07/20/2708058/0/en/Anfield-Completes-Acquisition-of-Uranium-Project-with-Historical-Indicated-Uranium-Resource-of-18-1-Million-Pounds.html)\n"
      ],
      "text/plain": [
       "<IPython.core.display.Markdown object>"
      ]
     },
     "metadata": {},
     "output_type": "display_data"
    },
    {
     "data": {
      "text/markdown": [
       "[2023-07-20 11:00:00 BusinessWire - SFEP-Backed DGS Retail Acquires RICH LTD.](http://www.businesswire.com/news/home/20230720603193/en/SFEP-Backed-DGS-Retail-Acquires-RICH-LTD./?feedref=JjAwJuNHiystnCoBq_hl-Rc4vIAVcHHkbDcwJimU8QtrtlakeQ9hNboBqTAWIjTge3KWq9s9jif-UkBjBsFRyYAbRTSLTc1mgvhPlnaBA55M-oupQnbXnhKsYk8RmHF_kAy2gZikaX3QWV6xOvgFlA==)\n"
      ],
      "text/plain": [
       "<IPython.core.display.Markdown object>"
      ]
     },
     "metadata": {},
     "output_type": "display_data"
    },
    {
     "data": {
      "text/markdown": [
       "[2023-07-20 10:31:11 Forexlive - EURUSD Technical Analysis - A Fakeout Could Lead to Massive Downside](https://www.forexlive.com/technical-analysis/eurusd-technical-analysis-a-fakeout-could-lead-to-massive-downside-20230720/)\n"
      ],
      "text/plain": [
       "<IPython.core.display.Markdown object>"
      ]
     },
     "metadata": {},
     "output_type": "display_data"
    },
    {
     "data": {
      "text/markdown": [
       "[2023-07-20 10:30:08 Dailyfx - USD/JPY, EUR/JPY Price Forecast: Yen Higher Following Trade Surplus in June](https://www.dailyfx.com/news/forex-usd-jpy-eur-jpy-price-forecast-yen-higher-following-trade-surplus-in-june-20230720.html)\n"
      ],
      "text/plain": [
       "<IPython.core.display.Markdown object>"
      ]
     },
     "metadata": {},
     "output_type": "display_data"
    },
    {
     "data": {
      "text/markdown": [
       "[2023-07-20 10:30:00 GlobalNewswire - Feed Acidulants Market to Surpass 4.56 Billion by 2030 Drives Due to Surge in Demand for Meat and Dairy-Based Products](https://www.globenewswire.com/news-release/2023/07/20/2708012/0/en/Feed-Acidulants-Market-to-Surpass-4-56-Billion-by-2030-Drives-Due-to-Surge-in-Demand-for-Meat-and-Dairy-Based-Products.html)\n"
      ],
      "text/plain": [
       "<IPython.core.display.Markdown object>"
      ]
     },
     "metadata": {},
     "output_type": "display_data"
    },
    {
     "data": {
      "text/markdown": [
       "[2023-07-20 10:27:00 GlobalNewswire - Form 8.3 - [Insert name of offeree or offeror]](https://www.globenewswire.com/news-release/2023/07/20/2708006/0/en/Form-8-3-Insert-name-of-offeree-or-offeror.html)\n"
      ],
      "text/plain": [
       "<IPython.core.display.Markdown object>"
      ]
     },
     "metadata": {},
     "output_type": "display_data"
    },
    {
     "data": {
      "text/markdown": [
       "[2023-07-20 10:11:14 Cointelegraph - Shared Web3 user base could power new social app integrations — Aave CEO](https://cointelegraph.com/news/web3-userbase-could-power-new-dapp-development)\n"
      ],
      "text/plain": [
       "<IPython.core.display.Markdown object>"
      ]
     },
     "metadata": {},
     "output_type": "display_data"
    },
    {
     "data": {
      "text/markdown": [
       "[2023-07-20 09:58:37 Cointelegraph - Bitcoin traders say 'get ready' as BTC price preps 2023 bull market](https://cointelegraph.com/news/bitcoin-traders-get-ready-btc-price-preps-2023-bull-market)\n"
      ],
      "text/plain": [
       "<IPython.core.display.Markdown object>"
      ]
     },
     "metadata": {},
     "output_type": "display_data"
    },
    {
     "data": {
      "text/markdown": [
       "[2023-07-20 09:51:11 Cointelegraph - FedNow Service has no relation with CBDCs, Federal Reserve clarifies](https://cointelegraph.com/news/federal-reserve-service-not-related-to-cbdcs)\n"
      ],
      "text/plain": [
       "<IPython.core.display.Markdown object>"
      ]
     },
     "metadata": {},
     "output_type": "display_data"
    },
    {
     "data": {
      "text/markdown": [
       "[2023-07-20 09:33:00 MarketWatch - Movers & Shakers: Netflix shares slump on revenue outlook, Tesla stock slips on margin fears and other stocks on the move](https://www.marketwatch.com/story/netflix-shares-slump-on-revenue-outlook-tesla-stock-slips-on-margin-fears-and-other-stocks-on-the-move-7bbdb201)\n"
      ],
      "text/plain": [
       "<IPython.core.display.Markdown object>"
      ]
     },
     "metadata": {},
     "output_type": "display_data"
    },
    {
     "data": {
      "text/markdown": [
       "[2023-07-20 09:33:00 GlobalNewswire - Form 8.3 - [EMIS Group plc - 19 07 2023] - (CGWL)](https://www.globenewswire.com/news-release/2023/07/20/2707969/0/en/Form-8-3-EMIS-Group-plc-19-07-2023-CGWL.html)\n"
      ],
      "text/plain": [
       "<IPython.core.display.Markdown object>"
      ]
     },
     "metadata": {},
     "output_type": "display_data"
    },
    {
     "data": {
      "text/markdown": [
       "[2023-07-20 09:30:40 Dailyfx - Dow Makes Progress and Nasdaq 100 Edges Lower, but Nikkei 225 Comes Under Pressure​​​​](https://www.dailyfx.com/news/dow-makes-progress-and-nasdaq-100-edges-lower-but-nikkei-225-comes-under-pressure-20230720.html)\n"
      ],
      "text/plain": [
       "<IPython.core.display.Markdown object>"
      ]
     },
     "metadata": {},
     "output_type": "display_data"
    },
    {
     "data": {
      "text/markdown": [
       "[2023-07-20 09:29:00 GlobalNewswire - Form 8.3 - Dechra Pharmaceuticals PLC](https://www.globenewswire.com/news-release/2023/07/20/2707965/0/en/Form-8-3-Dechra-Pharmaceuticals-PLC.html)\n"
      ],
      "text/plain": [
       "<IPython.core.display.Markdown object>"
      ]
     },
     "metadata": {},
     "output_type": "display_data"
    },
    {
     "data": {
      "text/markdown": [
       "[2023-07-20 09:19:00 Forexlive - Tech shares stay on the heavy side so far on the day](https://www.forexlive.com/news/tech-shares-stay-on-the-heavy-side-so-far-on-the-day-20230720/)\n"
      ],
      "text/plain": [
       "<IPython.core.display.Markdown object>"
      ]
     },
     "metadata": {},
     "output_type": "display_data"
    },
    {
     "data": {
      "text/markdown": [
       "[2023-07-20 09:09:21 Cointelegraph - Polygon 2.0 begins groundwork for decentralized governance](https://cointelegraph.com/news/polygon-2-0-begins-groundwork-for-decentralized-governance)\n"
      ],
      "text/plain": [
       "<IPython.core.display.Markdown object>"
      ]
     },
     "metadata": {},
     "output_type": "display_data"
    },
    {
     "data": {
      "text/markdown": [
       "[2023-07-20 09:03:00 MarketWatch - Kelley Blue Book: The 2024 BMW 8 Series is dashing, stylish and fast](https://www.marketwatch.com/story/the-2024-bmw-8-series-is-dashing-stylish-and-fast-d23abc04)\n"
      ],
      "text/plain": [
       "<IPython.core.display.Markdown object>"
      ]
     },
     "metadata": {},
     "output_type": "display_data"
    },
    {
     "data": {
      "text/markdown": [
       "[2023-07-20 09:02:00 MarketWatch - NerdWallet: Even younger people should have a will: How to make one without spending a fortune](https://www.marketwatch.com/story/even-younger-people-should-have-a-will-how-to-make-one-without-spending-a-fortune-7c8b11c7)\n"
      ],
      "text/plain": [
       "<IPython.core.display.Markdown object>"
      ]
     },
     "metadata": {},
     "output_type": "display_data"
    },
    {
     "data": {
      "text/markdown": [
       "[2023-07-20 09:01:57 CoinDesk - Proposed Legal Reforms Aid UK Crypto Dreams – but Offer Scant Hope for Bitcoin Developers Sued by Craig Wright](https://www.coindesk.com/policy/2023/07/20/proposed-legal-reforms-aid-uk-crypto-dreams-but-offer-scant-hope-for-bitcoin-developers-sued-by-craig-wright/?utm_medium=referral&utm_source=rss&utm_campaign=headlines)\n"
      ],
      "text/plain": [
       "<IPython.core.display.Markdown object>"
      ]
     },
     "metadata": {},
     "output_type": "display_data"
    },
    {
     "data": {
      "text/markdown": [
       "[2023-07-20 09:01:00 MarketWatch - Next Avenue: Why grandparents should set up 529 college savings plans](https://www.marketwatch.com/story/why-grandparents-should-set-up-529-college-savings-plans-772cbf77)\n"
      ],
      "text/plain": [
       "<IPython.core.display.Markdown object>"
      ]
     },
     "metadata": {},
     "output_type": "display_data"
    },
    {
     "data": {
      "text/markdown": [
       "[2023-07-20 09:00:00 MarketWatch - NerdWallet: Alternative credit cards can help you build credit, but it could be wild ride](https://www.marketwatch.com/story/alternative-credit-cards-can-help-you-build-credit-but-it-could-be-wild-ride-9f09f10)\n"
      ],
      "text/plain": [
       "<IPython.core.display.Markdown object>"
      ]
     },
     "metadata": {},
     "output_type": "display_data"
    },
    {
     "data": {
      "text/markdown": [
       "[2023-07-20 08:56:00 GlobalNewswire - Dimensional Fund Advisors Ltd. : Form 8.3 - LOOKERS PLC - Ordinary Shares](https://www.globenewswire.com/news-release/2023/07/20/2707939/0/en/Dimensional-Fund-Advisors-Ltd-Form-8-3-LOOKERS-PLC-Ordinary-Shares.html)\n"
      ],
      "text/plain": [
       "<IPython.core.display.Markdown object>"
      ]
     },
     "metadata": {},
     "output_type": "display_data"
    },
    {
     "data": {
      "text/markdown": [
       "[2023-07-20 08:48:00 GlobalNewswire - Dimensional Fund Advisors Ltd. : Form 8.3 - EMIS GROUP PLC - Ordinary Shares](https://www.globenewswire.com/news-release/2023/07/20/2707936/0/en/Dimensional-Fund-Advisors-Ltd-Form-8-3-EMIS-GROUP-PLC-Ordinary-Shares.html)\n"
      ],
      "text/plain": [
       "<IPython.core.display.Markdown object>"
      ]
     },
     "metadata": {},
     "output_type": "display_data"
    },
    {
     "data": {
      "text/markdown": [
       "[2023-07-20 08:42:20 SeekingAlpha - Dell Technologies acquires Moogsoft](https://seekingalpha.com/news/3989032-dell-technologies-acquires-moogsoft?utm_source=feed_news_m_a&utm_medium=referral)\n"
      ],
      "text/plain": [
       "<IPython.core.display.Markdown object>"
      ]
     },
     "metadata": {},
     "output_type": "display_data"
    },
    {
     "data": {
      "text/markdown": [
       "[2023-07-20 08:41:00 MarketWatch - Market Snapshot: Nasdaq futures slide as Tesla and Netflix results damp earnings optimism](https://www.marketwatch.com/story/nasdaq-futures-slide-as-tesla-and-netflix-results-damp-earnings-optimism-5380d936)\n"
      ],
      "text/plain": [
       "<IPython.core.display.Markdown object>"
      ]
     },
     "metadata": {},
     "output_type": "display_data"
    },
    {
     "data": {
      "text/markdown": [
       "[2023-07-20 08:40:00 Forexlive - China onshore yuan finishes the domestic session by erasing yesterday's losses](https://www.forexlive.com/news/china-onshore-yuan-finishes-the-domestic-session-by-erasing-yesterdays-losses-20230720/)\n"
      ],
      "text/plain": [
       "<IPython.core.display.Markdown object>"
      ]
     },
     "metadata": {},
     "output_type": "display_data"
    },
    {
     "data": {
      "text/markdown": [
       "[2023-07-20 08:18:35 Cointelegraph - Terraform Labs appoints new CEO from existing team: report](https://cointelegraph.com/news/do-kwon-terraform-labs-appoints-new-ceo-from-existing-team-report)\n"
      ],
      "text/plain": [
       "<IPython.core.display.Markdown object>"
      ]
     },
     "metadata": {},
     "output_type": "display_data"
    },
    {
     "data": {
      "text/markdown": [
       "[2023-07-20 08:00:49 Forexlive - Eurozone May current account balance €9.1 billion vs €4.0 billion prior](https://www.forexlive.com/news/eurozone-may-current-account-balance-91-billion-vs-40-billion-prior-20230720/)\n"
      ],
      "text/plain": [
       "<IPython.core.display.Markdown object>"
      ]
     },
     "metadata": {},
     "output_type": "display_data"
    },
    {
     "data": {
      "text/markdown": [
       "[2023-07-20 07:59:17 Dailyfx - EUR/USD Price Forecast: Euro Fading Into Central Bank Week?](https://www.dailyfx.com/news/forex-eur-usd-price-forecast-euro-fading-into-central-bank-week-wv-20230720.html)\n"
      ],
      "text/plain": [
       "<IPython.core.display.Markdown object>"
      ]
     },
     "metadata": {},
     "output_type": "display_data"
    },
    {
     "data": {
      "text/markdown": [
       "[2023-07-20 07:50:53 Forexlive - S&P 500 Technical Analysis](https://www.forexlive.com/technical-analysis/sp-500-technical-analysis-20230720/)\n"
      ],
      "text/plain": [
       "<IPython.core.display.Markdown object>"
      ]
     },
     "metadata": {},
     "output_type": "display_data"
    },
    {
     "data": {
      "text/markdown": [
       "[2023-07-20 07:34:32 CoinDesk - Crypto Traders Flock to Unibot as Telegram Bot Tokens Near $100M Market Cap](https://www.coindesk.com/tech/2023/07/20/crypto-traders-flock-to-unibot-as-telegram-bot-tokens-near-100m-market-cap/?utm_medium=referral&utm_source=rss&utm_campaign=headlines)\n"
      ],
      "text/plain": [
       "<IPython.core.display.Markdown object>"
      ]
     },
     "metadata": {},
     "output_type": "display_data"
    },
    {
     "data": {
      "text/markdown": [
       "[2023-07-20 07:30:00 GlobalNewswire - Medical Electronics Market to Surpass 11.5 Billion by 2030 Drives Due to Rising Demand for Medical Devices](https://www.globenewswire.com/news-release/2023/07/20/2707911/0/en/Medical-Electronics-Market-to-Surpass-11-5-Billion-by-2030-Drives-Due-to-Rising-Demand-for-Medical-Devices.html)\n"
      ],
      "text/plain": [
       "<IPython.core.display.Markdown object>"
      ]
     },
     "metadata": {},
     "output_type": "display_data"
    },
    {
     "data": {
      "text/markdown": [
       "[2023-07-20 07:16:45 Cointelegraph - Kuwait bans crypto and virtual assets transactions](https://cointelegraph.com/news/crypto-kuwait-bans-crypto-and-virtual-assets-transactions)\n"
      ],
      "text/plain": [
       "<IPython.core.display.Markdown object>"
      ]
     },
     "metadata": {},
     "output_type": "display_data"
    },
    {
     "data": {
      "text/markdown": [
       "[2023-07-20 07:13:13 Forexlive - A mixed open for European equities to start the day](https://www.forexlive.com/news/a-mixed-open-for-european-equities-to-start-the-day-20230720/)\n"
      ],
      "text/plain": [
       "<IPython.core.display.Markdown object>"
      ]
     },
     "metadata": {},
     "output_type": "display_data"
    },
    {
     "data": {
      "text/markdown": [
       "[2023-07-20 06:49:00 GlobalNewswire - Form 8.5 (EPT/RI) - FireAngel Safety Technology Group Plc](https://www.globenewswire.com/news-release/2023/07/20/2707904/0/en/Form-8-5-EPT-RI-FireAngel-Safety-Technology-Group-Plc.html)\n"
      ],
      "text/plain": [
       "<IPython.core.display.Markdown object>"
      ]
     },
     "metadata": {},
     "output_type": "display_data"
    },
    {
     "data": {
      "text/markdown": [
       "[2023-07-20 06:45:11 Forexlive - France July business confidence 100 vs 100 prior](https://www.forexlive.com/news/france-july-business-confidence-100-vs-100-prior-20230720/)\n"
      ],
      "text/plain": [
       "<IPython.core.display.Markdown object>"
      ]
     },
     "metadata": {},
     "output_type": "display_data"
    },
    {
     "data": {
      "text/markdown": [
       "[2023-07-20 06:31:00 GlobalNewswire - Sosei Heptares - Investor and Press Conference on Today’s Announcement Regarding the Acquisition and License Transaction with Idorsia](https://www.globenewswire.com/news-release/2023/07/20/2707903/0/en/Sosei-Heptares-Investor-and-Press-Conference-on-Today-s-Announcement-Regarding-the-Acquisition-and-License-Transaction-with-Idorsia.html)\n"
      ],
      "text/plain": [
       "<IPython.core.display.Markdown object>"
      ]
     },
     "metadata": {},
     "output_type": "display_data"
    },
    {
     "data": {
      "text/markdown": [
       "[2023-07-20 06:30:00 GlobalNewswire - Sosei Heptares Acquires Idorsia’s Pharmaceuticals Business in Japan and APAC (ex-China), Accelerating its Transformation into a Fully Integrated Biopharmaceutical Company](https://www.globenewswire.com/news-release/2023/07/20/2707901/0/en/Sosei-Heptares-Acquires-Idorsia-s-Pharmaceuticals-Business-in-Japan-and-APAC-ex-China-Accelerating-its-Transformation-into-a-Fully-Integrated-Biopharmaceutical-Company.html)\n"
      ],
      "text/plain": [
       "<IPython.core.display.Markdown object>"
      ]
     },
     "metadata": {},
     "output_type": "display_data"
    },
    {
     "data": {
      "text/markdown": [
       "[2023-07-20 06:30:00 Cointelegraph - Myanmar’s shadow government backs launch of crypto-based bank](https://cointelegraph.com/news/myanmar-shadow-government-backs-crypto-bank-launch)\n"
      ],
      "text/plain": [
       "<IPython.core.display.Markdown object>"
      ]
     },
     "metadata": {},
     "output_type": "display_data"
    },
    {
     "data": {
      "text/markdown": [
       "[2023-07-20 06:30:00 Dailyfx - Is Canadian Dollar Getting Ripe for a Bounce? USD/CAD, EUR/CAD, GBP/CAD Price Action](https://www.dailyfx.com/news/is-canadian-dollar-getting-ripe-for-a-bounce-usd-cad-eur-cad-gbp-cad-price-action-20230720.html)\n"
      ],
      "text/plain": [
       "<IPython.core.display.Markdown object>"
      ]
     },
     "metadata": {},
     "output_type": "display_data"
    },
    {
     "data": {
      "text/markdown": [
       "[2023-07-20 06:14:12 Forexlive - Eurostoxx futures -0.2% in early European trading](https://www.forexlive.com/news/eurostoxx-futures-02-in-early-european-trading-20230720/)\n"
      ],
      "text/plain": [
       "<IPython.core.display.Markdown object>"
      ]
     },
     "metadata": {},
     "output_type": "display_data"
    },
    {
     "data": {
      "text/markdown": [
       "[2023-07-20 05:55:40 Forexlive - Japan PM Kishida says must ensure sustained exit from deflation](https://www.forexlive.com/news/japan-pm-kishida-says-must-ensure-sustained-exit-from-deflation-20230720/)\n"
      ],
      "text/plain": [
       "<IPython.core.display.Markdown object>"
      ]
     },
     "metadata": {},
     "output_type": "display_data"
    },
    {
     "data": {
      "text/markdown": [
       "[2023-07-20 05:38:53 CoinDesk - XRP Moving Above 'Cloud' Resistance is Bullish for Bitcoin: Analyst](https://www.coindesk.com/markets/2023/07/20/xrp-sets-bullish-precedent-for-bitcoin-with-move-above-cloud-resistance/?utm_medium=referral&utm_source=rss&utm_campaign=headlines)\n"
      ],
      "text/plain": [
       "<IPython.core.display.Markdown object>"
      ]
     },
     "metadata": {},
     "output_type": "display_data"
    },
    {
     "data": {
      "text/markdown": [
       "[2023-07-20 05:29:54 Cointelegraph - China’s digital yuan nears $250B transaction volume: Central bank governor](https://cointelegraph.com/news/china-cbdc-transaction-volume-nears-two-trillion-yuan)\n"
      ],
      "text/plain": [
       "<IPython.core.display.Markdown object>"
      ]
     },
     "metadata": {},
     "output_type": "display_data"
    },
    {
     "data": {
      "text/markdown": [
       "[2023-07-20 05:25:33 Forexlive - Trade ideas thread - European session 20 July 2023](https://www.forexlive.com/news/trade-ideas-thread-european-session-20-july-2023-20230720/)\n"
      ],
      "text/plain": [
       "<IPython.core.display.Markdown object>"
      ]
     },
     "metadata": {},
     "output_type": "display_data"
    },
    {
     "data": {
      "text/markdown": [
       "[2023-07-20 05:00:00 Dailyfx - Crude Oil Steadies as Markets Assess US Dollar Direction. Will WTI Regain High Ground?](https://www.dailyfx.com/news/crude-oil-steadies-as-markets-assess-us-dollar-direction-will-wti-regain-high-ground-20230720.html)\n"
      ],
      "text/plain": [
       "<IPython.core.display.Markdown object>"
      ]
     },
     "metadata": {},
     "output_type": "display_data"
    },
    {
     "data": {
      "text/markdown": [
       "[2023-07-20 04:54:26 Forexlive - A couple of light releases coming up in Europe later](https://www.forexlive.com/news/a-couple-of-light-releases-coming-up-in-europe-later-20230720/)\n"
      ],
      "text/plain": [
       "<IPython.core.display.Markdown object>"
      ]
     },
     "metadata": {},
     "output_type": "display_data"
    },
    {
     "data": {
      "text/markdown": [
       "[2023-07-20 04:23:22 Forexlive - A double boost for the aussie today](https://www.forexlive.com/news/a-double-boost-for-the-aussie-today-20230720/)\n"
      ],
      "text/plain": [
       "<IPython.core.display.Markdown object>"
      ]
     },
     "metadata": {},
     "output_type": "display_data"
    },
    {
     "data": {
      "text/markdown": [
       "[2023-07-20 03:55:22 Cointelegraph - ChatGPT’s capabilities are getting worse with age, new study claims](https://cointelegraph.com/news/chatgpt-accurate-responses-worsened-over-time-claims-study)\n"
      ],
      "text/plain": [
       "<IPython.core.display.Markdown object>"
      ]
     },
     "metadata": {},
     "output_type": "display_data"
    },
    {
     "data": {
      "text/markdown": [
       "[2023-07-20 03:35:36 Forexlive - Bank of America lowered their 2023 China GDP forecast to 5.1% from 5.7% previously](https://www.forexlive.com/news/bank-of-america-lowered-their-2023-china-gdp-forecast-to-51-from-57-previously-20230720/)\n"
      ],
      "text/plain": [
       "<IPython.core.display.Markdown object>"
      ]
     },
     "metadata": {},
     "output_type": "display_data"
    },
    {
     "data": {
      "text/markdown": [
       "[2023-07-20 03:31:00 MarketWatch - : Elon Musk says Tesla will spend ‘well over’ $1 billion on Dojo supercomputer](https://www.marketwatch.com/story/elon-musk-says-tesla-will-spend-well-over-1-billion-on-dojo-supercomputer-21f0a6f0)\n"
      ],
      "text/plain": [
       "<IPython.core.display.Markdown object>"
      ]
     },
     "metadata": {},
     "output_type": "display_data"
    },
    {
     "data": {
      "text/markdown": [
       "[2023-07-20 03:30:00 Dailyfx - What’s Changed for British Pound After UK CPI? GBP/USD, EUR/GBP, GBP/AUD Price Setups](https://www.dailyfx.com/news/what-s-changed-for-british-pound-after-uk-cpi-gbp-usd-eur-gbp-gbp-aud-price-setups-20230720.html)\n"
      ],
      "text/plain": [
       "<IPython.core.display.Markdown object>"
      ]
     },
     "metadata": {},
     "output_type": "display_data"
    },
    {
     "data": {
      "text/markdown": [
       "[2023-07-20 03:07:53 Forexlive - Reports that China is considering easing mortgages  - to help the property sector](https://www.forexlive.com/news/reports-that-china-is-considering-easing-mortgages-to-help-the-property-sector-20230720/)\n"
      ],
      "text/plain": [
       "<IPython.core.display.Markdown object>"
      ]
     },
     "metadata": {},
     "output_type": "display_data"
    },
    {
     "data": {
      "text/markdown": [
       "[2023-07-20 02:56:08 Forexlive - ForexLive Asia-Pacific FX news wrap: Two moves from the PBOC sent the yuan surging](https://www.forexlive.com/news/forexlive-asia-pacific-fx-news-wrap-two-moves-from-the-pboc-sent-the-yuan-surging-20230720/)\n"
      ],
      "text/plain": [
       "<IPython.core.display.Markdown object>"
      ]
     },
     "metadata": {},
     "output_type": "display_data"
    },
    {
     "data": {
      "text/markdown": [
       "[2023-07-20 02:46:00 MarketWatch - Dow Jones Newswires: China keeps benchmark lending rates unchanged](https://www.marketwatch.com/story/china-keeps-benchmark-lending-rates-unchanged-update-630aef85)\n"
      ],
      "text/plain": [
       "<IPython.core.display.Markdown object>"
      ]
     },
     "metadata": {},
     "output_type": "display_data"
    },
    {
     "data": {
      "text/markdown": [
       "[2023-07-20 02:37:19 SeekingAlpha - Catalent gains after report of activist Elliott taking stake](https://seekingalpha.com/news/3989007-catalent-gains-after-report-of-activist-elliott-taking-stake?utm_source=feed_news_m_a&utm_medium=referral)\n"
      ],
      "text/plain": [
       "<IPython.core.display.Markdown object>"
      ]
     },
     "metadata": {},
     "output_type": "display_data"
    },
    {
     "data": {
      "text/markdown": [
       "[2023-07-20 02:02:09 Cointelegraph - ZK proofs could change the internet, not just Web3 — Aleo exec](https://cointelegraph.com/news/zk-proofs-help-internet-privacy-aleo-executive)\n"
      ],
      "text/plain": [
       "<IPython.core.display.Markdown object>"
      ]
     },
     "metadata": {},
     "output_type": "display_data"
    },
    {
     "data": {
      "text/markdown": [
       "[2023-07-20 02:00:00 Dailyfx - Asia Day Ahead: Mixed Showing in Asia as Markets Digest NFLX, TSLA Earnings](https://www.dailyfx.com/news/asia-day-ahead-mixed-showing-in-asia-as-markets-digest-nflx-tsla-earnings-20230720.html)\n"
      ],
      "text/plain": [
       "<IPython.core.display.Markdown object>"
      ]
     },
     "metadata": {},
     "output_type": "display_data"
    },
    {
     "data": {
      "text/markdown": [
       "[2023-07-20 02:00:00 MarketWatch - MarketWatch First Take: As investors worry about lower Tesla margins, Musk says Full Self-Driving is key to future profits](https://www.marketwatch.com/story/as-investors-worry-about-lower-tesla-margins-musk-says-full-self-driving-is-key-to-future-profits-482dd671)\n"
      ],
      "text/plain": [
       "<IPython.core.display.Markdown object>"
      ]
     },
     "metadata": {},
     "output_type": "display_data"
    },
    {
     "data": {
      "text/markdown": [
       "[2023-07-20 01:34:16 Forexlive - AUD/USD higher - stronger yuan fix, good jobs report](https://www.forexlive.com/news/audusd-higher-stronger-yuan-fix-good-jobs-reprot-20230720/)\n"
      ],
      "text/plain": [
       "<IPython.core.display.Markdown object>"
      ]
     },
     "metadata": {},
     "output_type": "display_data"
    },
    {
     "data": {
      "text/markdown": [
       "[2023-07-20 01:30:00 Dailyfx - Australian Dollar Leaps on Hot Jobs Data Ahead of CPI. Where to for AUD/USD?](https://www.dailyfx.com/news/australian-dollar-leaps-on-hot-jobs-data-ahead-of-cpi-where-to-for-aud-usd-20230720.html)\n"
      ],
      "text/plain": [
       "<IPython.core.display.Markdown object>"
      ]
     },
     "metadata": {},
     "output_type": "display_data"
    },
    {
     "data": {
      "text/markdown": [
       "[2023-07-20 01:30:00 GlobalNewswire - Bottled Water Market to Worth USD 509.2 Billion by 2030 | Skyquest Technology](https://www.globenewswire.com/news-release/2023/07/20/2707833/0/en/Bottled-Water-Market-to-Worth-USD-509-2-Billion-by-2030-Skyquest-Technology.html)\n"
      ],
      "text/plain": [
       "<IPython.core.display.Markdown object>"
      ]
     },
     "metadata": {},
     "output_type": "display_data"
    },
    {
     "data": {
      "text/markdown": [
       "[2023-07-20 01:25:21 Cointelegraph - Tesla’s diamond hands: EV maker's Bitcoin holdings see no change in Q2](https://cointelegraph.com/news/tesla-bitcoin-holdings-no-change-in-second-quarter)\n"
      ],
      "text/plain": [
       "<IPython.core.display.Markdown object>"
      ]
     },
     "metadata": {},
     "output_type": "display_data"
    },
    {
     "data": {
      "text/markdown": [
       "[2023-07-20 00:35:49 CoinDesk - First Mover Asia: XRP, XLM Climb While Bitcoin Trudges Below $30K](https://www.coindesk.com/markets/2023/07/20/first-mover-asia-xrp-xlm-climb-while-bitcoin-trudges-below-30k/?utm_medium=referral&utm_source=rss&utm_campaign=headlines)\n"
      ],
      "text/plain": [
       "<IPython.core.display.Markdown object>"
      ]
     },
     "metadata": {},
     "output_type": "display_data"
    },
    {
     "data": {
      "text/markdown": [
       "[2023-07-20 00:29:00 MarketWatch - Dow Jones Newswires: Japan’s exports rise in June on strong car shipments](https://www.marketwatch.com/story/japan-s-exports-rose-in-june-on-strong-car-shipments-71e12cb6)\n"
      ],
      "text/plain": [
       "<IPython.core.display.Markdown object>"
      ]
     },
     "metadata": {},
     "output_type": "display_data"
    },
    {
     "data": {
      "text/markdown": [
       "[2023-07-20 00:26:57 Forexlive - Citi, UBS, Daiwa have all come to the defense of Chinese banks after Goldman was critical](https://www.forexlive.com/news/citi-ubs-daiwa-have-all-come-to-the-defense-of-chinese-banks-after-goldman-was-critical-20230720/)\n"
      ],
      "text/plain": [
       "<IPython.core.display.Markdown object>"
      ]
     },
     "metadata": {},
     "output_type": "display_data"
    },
    {
     "data": {
      "text/markdown": [
       "[2023-07-19 23:51:00 MarketWatch - Earnings Results: United Airlines earnings: Even higher 2023 profit expected despite last month’s meltdown](https://www.marketwatch.com/story/united-airlines-stock-rallies-on-stronger-full-year-forecast-9dab4260)\n"
      ],
      "text/plain": [
       "<IPython.core.display.Markdown object>"
      ]
     },
     "metadata": {},
     "output_type": "display_data"
    },
    {
     "data": {
      "text/markdown": [
       "[2023-07-19 23:47:42 CNBC - Mattel CEO talks Barbie's official big screen debut: 'This was not about making a movie, this was about creating an iconic cultural moment'](https://www.cnbc.com/2023/07/19/mattel-ceo-talks-barbies-official-big-screen-debut.html)\n"
      ],
      "text/plain": [
       "<IPython.core.display.Markdown object>"
      ]
     },
     "metadata": {},
     "output_type": "display_data"
    },
    {
     "data": {
      "text/markdown": [
       "[2023-07-19 23:46:44 Forexlive - Citi says gold could go as high as US$2,150 in H1 of 2024](https://www.forexlive.com/news/citi-says-gold-could-go-as-high-as-us2150-in-h1-of-2024-20230719/)\n"
      ],
      "text/plain": [
       "<IPython.core.display.Markdown object>"
      ]
     },
     "metadata": {},
     "output_type": "display_data"
    },
    {
     "data": {
      "text/markdown": [
       "[2023-07-19 23:40:00 MarketWatch - Dow Jones Newswires: Dell to acquire AI-driven IT provider Moogsoft](https://www.marketwatch.com/story/dell-technologies-to-acquire-ai-driven-provider-moogsoft-bf6fc3e2)\n"
      ],
      "text/plain": [
       "<IPython.core.display.Markdown object>"
      ]
     },
     "metadata": {},
     "output_type": "display_data"
    },
    {
     "data": {
      "text/markdown": [
       "[2023-07-19 22:55:36 CNBC - What could crush a growing bull market? Cramer lays out potential hazards](https://www.cnbc.com/2023/07/19/what-could-crush-a-growing-bull-market-cramer-lays-out-the-hazards.html)\n"
      ],
      "text/plain": [
       "<IPython.core.display.Markdown object>"
      ]
     },
     "metadata": {},
     "output_type": "display_data"
    },
    {
     "data": {
      "text/markdown": [
       "[2023-07-19 22:51:00 GlobalNewswire - UPDATED: Far East Insurance Marketing Joins Novatae](https://www.globenewswire.com/news-release/2023/07/19/2707807/0/en/UPDATED-Far-East-Insurance-Marketing-Joins-Novatae.html)\n"
      ],
      "text/plain": [
       "<IPython.core.display.Markdown object>"
      ]
     },
     "metadata": {},
     "output_type": "display_data"
    },
    {
     "data": {
      "text/markdown": [
       "[2023-07-19 22:36:00 MarketWatch - The Ratings Game: Microsoft stock snaps 6-session winning streak, but its bulls are still excited](https://www.marketwatch.com/story/microsoft-stock-snaps-6-session-winning-streak-but-its-bulls-are-still-excited-2aeebd5b)\n"
      ],
      "text/plain": [
       "<IPython.core.display.Markdown object>"
      ]
     },
     "metadata": {},
     "output_type": "display_data"
    },
    {
     "data": {
      "text/markdown": [
       "[2023-07-19 22:32:00 MarketWatch - : Netflix seems immune (so far) from Hollywood’s shutdown](https://www.marketwatch.com/story/netflix-seems-immune-so-far-from-hollywoods-shutdown-608219ca)\n"
      ],
      "text/plain": [
       "<IPython.core.display.Markdown object>"
      ]
     },
     "metadata": {},
     "output_type": "display_data"
    },
    {
     "data": {
      "text/markdown": [
       "[2023-07-19 22:29:55 Forexlive - Australian employment market report due today - preview](https://www.forexlive.com/news/australian-employment-market-report-due-today-preview-20230719/)\n"
      ],
      "text/plain": [
       "<IPython.core.display.Markdown object>"
      ]
     },
     "metadata": {},
     "output_type": "display_data"
    },
    {
     "data": {
      "text/markdown": [
       "[2023-07-19 22:07:19 CNBC - Christopher Nolan's 'Oppenheimer' is the longest IMAX film ever: Here's where to watch it in 70mm IMAX](https://www.cnbc.com/2023/07/19/where-to-watch-oppenheimer-in-70mm-imax-.html)\n"
      ],
      "text/plain": [
       "<IPython.core.display.Markdown object>"
      ]
     },
     "metadata": {},
     "output_type": "display_data"
    },
    {
     "data": {
      "text/markdown": [
       "[2023-07-19 21:54:00 MarketWatch - Financial Crime: Twice-convicted fraudster set free by Trump hit with new charges of running a $38 million Ponzi scheme](https://www.marketwatch.com/story/twice-convicted-fraudster-set-free-by-trump-hit-with-new-charges-of-running-a-38-million-ponzi-scheme-3d08347b)\n"
      ],
      "text/plain": [
       "<IPython.core.display.Markdown object>"
      ]
     },
     "metadata": {},
     "output_type": "display_data"
    },
    {
     "data": {
      "text/markdown": [
       "[2023-07-19 21:40:00 Cointelegraph - South Korean central bank charts out future course of payment systems, CBDC](https://cointelegraph.com/news/south-korea-central-bank-charts-future-payment-systems-cbdc)\n"
      ],
      "text/plain": [
       "<IPython.core.display.Markdown object>"
      ]
     },
     "metadata": {},
     "output_type": "display_data"
    },
    {
     "data": {
      "text/markdown": [
       "[2023-07-19 21:36:47 SeekingAlpha - Microsoft, Activsion ask FTC to drop suit against planned $69 billion deal](https://seekingalpha.com/news/3988991-microsoft-activsion-ask-ftc-to-drop-suit-against-planned-69-billion-deal?utm_source=feed_news_m_a&utm_medium=referral)\n"
      ],
      "text/plain": [
       "<IPython.core.display.Markdown object>"
      ]
     },
     "metadata": {},
     "output_type": "display_data"
    },
    {
     "data": {
      "text/markdown": [
       "[2023-07-19 21:35:45 CNBC - Stocks making the biggest moves after hours: Netflix, Tesla, IBM and more](https://www.cnbc.com/2023/07/19/stocks-making-the-biggest-moves-after-hours-nflx-tsla-ibm.html)\n"
      ],
      "text/plain": [
       "<IPython.core.display.Markdown object>"
      ]
     },
     "metadata": {},
     "output_type": "display_data"
    },
    {
     "data": {
      "text/markdown": [
       "[2023-07-19 21:33:34 CoinDesk - XRP Soars 10%, Lifting Altcoins as Bitcoin Dominance Teeters at 1-Month Low](https://www.coindesk.com/markets/2023/07/19/xrp-soars-10-lifting-altcoins-as-bitcoin-dominance-teeters-at-1-month-low/?utm_medium=referral&utm_source=rss&utm_campaign=headlines)\n"
      ],
      "text/plain": [
       "<IPython.core.display.Markdown object>"
      ]
     },
     "metadata": {},
     "output_type": "display_data"
    },
    {
     "data": {
      "text/markdown": [
       "[2023-07-19 21:30:00 Cointelegraph - 3 reasons why Bitcoin traders anticipate BTC price to briefly sweep the $27.5K level](https://cointelegraph.com/news/3-reasons-why-bitcoin-traders-anticipate-btc-price-to-briefly-sweep-the-27-5k-level)\n"
      ],
      "text/plain": [
       "<IPython.core.display.Markdown object>"
      ]
     },
     "metadata": {},
     "output_type": "display_data"
    },
    {
     "data": {
      "text/markdown": [
       "[2023-07-19 21:29:00 MarketWatch - : White House wants to expose ‘junk fees’ imposed on renters — but erasing them will be a tougher task](https://www.marketwatch.com/story/white-house-wants-to-expose-junk-fees-imposed-on-renters-but-erasing-them-will-be-a-tougher-task-eea9cee1)\n"
      ],
      "text/plain": [
       "<IPython.core.display.Markdown object>"
      ]
     },
     "metadata": {},
     "output_type": "display_data"
    },
    {
     "data": {
      "text/markdown": [
       "[2023-07-19 21:23:49 Cointelegraph - No impact from Ripple ruling? SEC chair cites risks from crypto in budget request](https://cointelegraph.com/news/sec-chair-cites-risks-crypto-budget-request)\n"
      ],
      "text/plain": [
       "<IPython.core.display.Markdown object>"
      ]
     },
     "metadata": {},
     "output_type": "display_data"
    },
    {
     "data": {
      "text/markdown": [
       "[2023-07-19 21:13:45 CNBC - Netflix earnings showcase strength as the rest of the media industry struggles](https://www.cnbc.com/2023/07/19/netflix-earnings-show-strength-amid-media-chaos.html)\n"
      ],
      "text/plain": [
       "<IPython.core.display.Markdown object>"
      ]
     },
     "metadata": {},
     "output_type": "display_data"
    },
    {
     "data": {
      "text/markdown": [
       "[2023-07-19 21:13:00 MarketWatch - Earnings Results: Equifax blames weak mortgage market for reduced earnings outlook, stock falls](https://www.marketwatch.com/story/equifax-blames-weak-mortgage-market-for-reduced-earnings-outlook-stock-falls-c484b0b2)\n"
      ],
      "text/plain": [
       "<IPython.core.display.Markdown object>"
      ]
     },
     "metadata": {},
     "output_type": "display_data"
    },
    {
     "data": {
      "text/markdown": [
       "[2023-07-19 20:57:41 SeekingAlpha - Heritage-Crystal Clean agrees to be sold to J.F. Lehman for $1.2B](https://seekingalpha.com/news/3988969-heritage-crystal-clean-agrees-to-be-sold-to-jf-lehman-for-12b?utm_source=feed_news_m_a&utm_medium=referral)\n"
      ],
      "text/plain": [
       "<IPython.core.display.Markdown object>"
      ]
     },
     "metadata": {},
     "output_type": "display_data"
    },
    {
     "data": {
      "text/markdown": [
       "[2023-07-19 20:50:00 MarketWatch - In One Chart: Investors are the most bullish on stocks since before the 2022 bear market, says Vanguard](https://www.marketwatch.com/story/investors-are-the-most-bullish-on-stocks-since-before-the-2022-bear-market-says-vanguard-56720a98)\n"
      ],
      "text/plain": [
       "<IPython.core.display.Markdown object>"
      ]
     },
     "metadata": {},
     "output_type": "display_data"
    },
    {
     "data": {
      "text/markdown": [
       "[2023-07-19 20:46:00 MarketWatch - : Women’s World Cup offers a reset for FIFA and sponsors after Qatar controversies, says branding expert](https://www.marketwatch.com/story/womens-world-cup-offers-a-reset-for-fifa-and-sponsors-after-qatar-controversies-says-branding-expert-ed21ccb4)\n"
      ],
      "text/plain": [
       "<IPython.core.display.Markdown object>"
      ]
     },
     "metadata": {},
     "output_type": "display_data"
    },
    {
     "data": {
      "text/markdown": [
       "[2023-07-19 20:45:00 MarketWatch - : Discover stock falls more than 13% after company discloses accounting mistake, FDIC probe](https://www.marketwatch.com/story/discover-stock-falls-more-than-8-after-company-discloses-accounting-mistake-fdic-probe-8b4e2909)\n"
      ],
      "text/plain": [
       "<IPython.core.display.Markdown object>"
      ]
     },
     "metadata": {},
     "output_type": "display_data"
    },
    {
     "data": {
      "text/markdown": [
       "[2023-07-19 20:40:00 Dailyfx - Tesla and Netflix Report Mixed Earnings, Nasdaq 100 Futures Weaker After Hours](https://www.dailyfx.com/news/tesla-and-netflix-report-mixed-earnings-nasdaq-100-futures-weaker-after-hours-20230719.html)\n"
      ],
      "text/plain": [
       "<IPython.core.display.Markdown object>"
      ]
     },
     "metadata": {},
     "output_type": "display_data"
    },
    {
     "data": {
      "text/markdown": [
       "[2023-07-19 20:31:00 BusinessWire - Heritage-Crystal Clean, Inc. to be Acquired by J.F. Lehman &amp; Company for $1.2 Billion](http://www.businesswire.com/news/home/20230719608998/en/Heritage-Crystal-Clean-Inc.-to-be-Acquired-by-J.F.-Lehman-Company-for-1.2-Billion/?feedref=JjAwJuNHiystnCoBq_hl-Rc4vIAVcHHkbDcwJimU8QtrtlakeQ9hNboBqTAWIjTge3KWq9s9jif-UkBjBsFRyYAbRTSLTc1mgvhPlnaBA55M-oupQnbXnhKsYk8RmHF_kAy2gZikaX3QWV6xOvgFlA==)\n"
      ],
      "text/plain": [
       "<IPython.core.display.Markdown object>"
      ]
     },
     "metadata": {},
     "output_type": "display_data"
    },
    {
     "data": {
      "text/markdown": [
       "[2023-07-19 20:30:00 Cointelegraph - Bitcoin’s bullish hype fades, but analyst says PlanB’s stock-to-flow model is still relevant](https://cointelegraph.com/news/bitcoin-s-bullish-hype-fades-but-analyst-says-planb-s-stock-to-flow-model-is-still-relevant)\n"
      ],
      "text/plain": [
       "<IPython.core.display.Markdown object>"
      ]
     },
     "metadata": {},
     "output_type": "display_data"
    },
    {
     "data": {
      "text/markdown": [
       "[2023-07-19 20:29:00 MarketWatch - Earnings Results: Tesla reports 47% rise in sales for its second quarter](https://www.marketwatch.com/story/tesla-reports-47-rise-in-sales-for-its-second-quarter-f8ab1da5)\n"
      ],
      "text/plain": [
       "<IPython.core.display.Markdown object>"
      ]
     },
     "metadata": {},
     "output_type": "display_data"
    },
    {
     "data": {
      "text/markdown": [
       "[2023-07-19 20:25:01 Forexlive - Zion Bancorp: EPS $1.11 versus expected $1.09. Deposits are higher for the regional bank](https://www.forexlive.com/news/zion-bancorp-eps-111-versus-expected-109-deposits-are-higher-for-the-regional-bank-20230719/)\n"
      ],
      "text/plain": [
       "<IPython.core.display.Markdown object>"
      ]
     },
     "metadata": {},
     "output_type": "display_data"
    },
    {
     "data": {
      "text/markdown": [
       "[2023-07-19 20:24:00 MarketWatch - Earnings Results: IBM earnings feature double-digit growth from AI, Red Hat software](https://www.marketwatch.com/story/ibm-earnings-feature-double-digit-growth-from-ai-red-hat-software-1224d600)\n"
      ],
      "text/plain": [
       "<IPython.core.display.Markdown object>"
      ]
     },
     "metadata": {},
     "output_type": "display_data"
    },
    {
     "data": {
      "text/markdown": [
       "[2023-07-19 20:21:00 MarketWatch - : This woman won a $112 million Mega Millions jackpot, and credits the power of visualization](https://www.marketwatch.com/story/this-woman-won-a-112-million-mega-millions-jackpot-and-credits-the-power-of-visualization-d6a1e21d)\n"
      ],
      "text/plain": [
       "<IPython.core.display.Markdown object>"
      ]
     },
     "metadata": {},
     "output_type": "display_data"
    },
    {
     "data": {
      "text/markdown": [
       "[2023-07-19 20:18:01 CoinDesk - XRP Blockchain Still Faces Centralization Caveats as Ripple Regulatory Threat Recedes](https://www.coindesk.com/tech/2023/07/19/xrp-blockchain-still-faces-centralization-caveats-as-ripple-regulatory-threat-recedes/?utm_medium=referral&utm_source=rss&utm_campaign=headlines)\n"
      ],
      "text/plain": [
       "<IPython.core.display.Markdown object>"
      ]
     },
     "metadata": {},
     "output_type": "display_data"
    },
    {
     "data": {
      "text/markdown": [
       "[2023-07-19 20:18:00 MarketWatch - Earnings Results: Netflix earnings bring big subscriber windfall, but stock gets dinged on light revenue forecast](https://www.marketwatch.com/story/netflixs-stock-dips-on-revenue-miss-despite-the-addition-of-5-9-million-new-subscribers-5b5c061d)\n"
      ],
      "text/plain": [
       "<IPython.core.display.Markdown object>"
      ]
     },
     "metadata": {},
     "output_type": "display_data"
    },
    {
     "data": {
      "text/markdown": [
       "[2023-07-19 20:16:00 MarketWatch - Market Extra: Why this real estate-related corner of the stock market may benefit from AI](https://www.marketwatch.com/story/why-this-real-estate-related-corner-of-the-stock-market-may-benefit-from-ai-501c2cc8)\n"
      ],
      "text/plain": [
       "<IPython.core.display.Markdown object>"
      ]
     },
     "metadata": {},
     "output_type": "display_data"
    },
    {
     "data": {
      "text/markdown": [
       "[2023-07-19 20:11:34 CNBC - House committee takes aim at U.S. venture capital firms for investments in Chinese A.I.](https://www.cnbc.com/2023/07/19/house-china-committee-targets-us-vcs-investing-in-chinese-ai.html)\n"
      ],
      "text/plain": [
       "<IPython.core.display.Markdown object>"
      ]
     },
     "metadata": {},
     "output_type": "display_data"
    },
    {
     "data": {
      "text/markdown": [
       "[2023-07-19 20:10:18 CNBC - IBM reports earnings beat, but misses on revenue](https://www.cnbc.com/2023/07/19/ibm-q2-earnings-report-2023.html)\n"
      ],
      "text/plain": [
       "<IPython.core.display.Markdown object>"
      ]
     },
     "metadata": {},
     "output_type": "display_data"
    },
    {
     "data": {
      "text/markdown": [
       "[2023-07-19 20:09:00 CNBC - United posts record earnings and forecasts strong profits for bustling summer quarter](https://www.cnbc.com/2023/07/19/united-airlines-ual-q2-2023-earnings.html)\n"
      ],
      "text/plain": [
       "<IPython.core.display.Markdown object>"
      ]
     },
     "metadata": {},
     "output_type": "display_data"
    },
    {
     "data": {
      "text/markdown": [
       "[2023-07-19 20:00:00 Cointelegraph - Scientists warn the ‘quantum revolution’ may stagnate economic growth](https://cointelegraph.com/news/scientists-warn-the-quantum-revolution-may-stagnate-economic-growth)\n"
      ],
      "text/plain": [
       "<IPython.core.display.Markdown object>"
      ]
     },
     "metadata": {},
     "output_type": "display_data"
    },
    {
     "data": {
      "text/markdown": [
       "[2023-07-19 20:00:00 MarketWatch - The Ratings Game: Rivian’s stock gains as EV sales are ‘ramping well,’ analyst says](https://www.marketwatch.com/story/rivians-stock-rallies-as-ev-sales-are-ramping-well-analyst-says-f1ef881c)\n"
      ],
      "text/plain": [
       "<IPython.core.display.Markdown object>"
      ]
     },
     "metadata": {},
     "output_type": "display_data"
    },
    {
     "data": {
      "text/markdown": [
       "[2023-07-19 19:58:55 CNBC - As Macy's stock struggles, the retailer bets on private brands with more modern looks](https://www.cnbc.com/2023/07/19/macys-confronts-struggles-with-new-exclusive-brands.html)\n"
      ],
      "text/plain": [
       "<IPython.core.display.Markdown object>"
      ]
     },
     "metadata": {},
     "output_type": "display_data"
    },
    {
     "data": {
      "text/markdown": [
       "[2023-07-19 19:29:00 GlobalNewswire - Far East Insurance Marketing Joins Novatae](https://www.globenewswire.com/news-release/2023/07/19/2707698/0/en/Far-East-Insurance-Marketing-Joins-Novatae.html)\n"
      ],
      "text/plain": [
       "<IPython.core.display.Markdown object>"
      ]
     },
     "metadata": {},
     "output_type": "display_data"
    },
    {
     "data": {
      "text/markdown": [
       "[2023-07-19 19:26:01 Cointelegraph - Price analysis 7/19: BTC, ETH, XRP, BNB, ADA, SOL, DOGE, MATIC, LTC, DOT](https://cointelegraph.com/news/price-analysis-7-19-btc-eth-xrp-bnb-ada-sol-doge-matic-ltc-dot)\n"
      ],
      "text/plain": [
       "<IPython.core.display.Markdown object>"
      ]
     },
     "metadata": {},
     "output_type": "display_data"
    },
    {
     "data": {
      "text/markdown": [
       "[2023-07-19 19:25:00 BusinessWire - Patriotic Marketplace PSQ Holdings, Inc. and Colombier Acquisition Corp. Announce Closing of Business Combination](http://www.businesswire.com/news/home/20230719146488/en/Patriotic-Marketplace-PSQ-Holdings-Inc.-and-Colombier-Acquisition-Corp.-Announce-Closing-of-Business-Combination/?feedref=JjAwJuNHiystnCoBq_hl-Rc4vIAVcHHkbDcwJimU8QtrtlakeQ9hNboBqTAWIjTge3KWq9s9jif-UkBjBsFRyYAbRTSLTc1mgvhPlnaBA55M-oupQnbXnhKsYk)\n"
      ],
      "text/plain": [
       "<IPython.core.display.Markdown object>"
      ]
     },
     "metadata": {},
     "output_type": "display_data"
    },
    {
     "data": {
      "text/markdown": [
       "[2023-07-19 19:21:00 MarketWatch - The Tell: Here are 10 reasons why Wall Street’s inevitable recession never arrived](https://www.marketwatch.com/story/here-are-10-reasons-why-wall-streets-inevitable-recession-never-arrived-643ffb4d)\n"
      ],
      "text/plain": [
       "<IPython.core.display.Markdown object>"
      ]
     },
     "metadata": {},
     "output_type": "display_data"
    },
    {
     "data": {
      "text/markdown": [
       "[2023-07-19 19:20:36 Forexlive - After the close: Tesla and Netflix earnings after the close. What to expect?](https://www.forexlive.com/news/after-the-close-tesla-and-netflix-earnings-after-the-close-what-to-expect-20230719/)\n"
      ],
      "text/plain": [
       "<IPython.core.display.Markdown object>"
      ]
     },
     "metadata": {},
     "output_type": "display_data"
    },
    {
     "data": {
      "text/markdown": [
       "[2023-07-19 19:06:22 Cointelegraph - Multiple spot crypto ETF applications go to Federal Register in step toward SEC approval](https://cointelegraph.com/news/spot-crypto-etf-applications-federal-register-sec-approval)\n"
      ],
      "text/plain": [
       "<IPython.core.display.Markdown object>"
      ]
     },
     "metadata": {},
     "output_type": "display_data"
    },
    {
     "data": {
      "text/markdown": [
       "[2023-07-19 19:00:00 Cointelegraph - Google Play Store officially allows NFT games, but no gambling: Nifty Newsletter, July 12–18](https://cointelegraph.com/news/google-play-store-officially-allows-nft-games-but-no-gambling-nifty-newsletter-july-12-18)\n"
      ],
      "text/plain": [
       "<IPython.core.display.Markdown object>"
      ]
     },
     "metadata": {},
     "output_type": "display_data"
    },
    {
     "data": {
      "text/markdown": [
       "[2023-07-19 18:48:00 MarketWatch - The Ratings Game: Disney lacks easy fixes to its numerous challenges, analyst warns](https://www.marketwatch.com/story/disney-lacks-easy-fixes-to-its-numerous-challenges-analyst-warns-fbe71041)\n"
      ],
      "text/plain": [
       "<IPython.core.display.Markdown object>"
      ]
     },
     "metadata": {},
     "output_type": "display_data"
    },
    {
     "data": {
      "text/markdown": [
       "[2023-07-19 18:45:04 Forexlive - WTI crude oil futures settle at $75.35](https://www.forexlive.com/news/wti-crude-oil-futures-settle-at-7535-20230719/)\n"
      ],
      "text/plain": [
       "<IPython.core.display.Markdown object>"
      ]
     },
     "metadata": {},
     "output_type": "display_data"
    },
    {
     "data": {
      "text/markdown": [
       "[2023-07-19 18:45:00 MarketWatch - The Tell: The liquidity drain isn’t crashing U.S. markets as feared. Here’s a big reason why.](https://www.marketwatch.com/story/the-liquidity-drain-isnt-crashing-u-s-markets-as-feared-heres-a-big-reason-why-c9b35610)\n"
      ],
      "text/plain": [
       "<IPython.core.display.Markdown object>"
      ]
     },
     "metadata": {},
     "output_type": "display_data"
    },
    {
     "data": {
      "text/markdown": [
       "[2023-07-19 18:41:51 Cointelegraph - Apple has its own GPT AI system but no stated plans for public release: Report](https://cointelegraph.com/news/apple-has-gpt-ai-system-no-stated-plans-for-public-release-report)\n"
      ],
      "text/plain": [
       "<IPython.core.display.Markdown object>"
      ]
     },
     "metadata": {},
     "output_type": "display_data"
    },
    {
     "data": {
      "text/markdown": [
       "[2023-07-19 18:40:00 MarketWatch - The Margin: Trump’s golf-course income has doubled to over $500 million since leaving office](https://www.marketwatch.com/story/trumps-golf-course-income-has-doubled-to-over-500-million-since-leaving-office-ee472738)\n"
      ],
      "text/plain": [
       "<IPython.core.display.Markdown object>"
      ]
     },
     "metadata": {},
     "output_type": "display_data"
    },
    {
     "data": {
      "text/markdown": [
       "[2023-07-19 18:40:00 MarketWatch - : Americans reveal their No. 1 financial regret, but advisers say they hear these horrible mistakes the most](https://www.marketwatch.com/story/americans-reveal-their-no-1-financial-regret-but-advisers-say-they-hear-these-horrible-mistakes-the-most-4e0eb555)\n"
      ],
      "text/plain": [
       "<IPython.core.display.Markdown object>"
      ]
     },
     "metadata": {},
     "output_type": "display_data"
    },
    {
     "data": {
      "text/markdown": [
       "[2023-07-19 18:38:23 CNBC - Avoid these 5 money red flags if you want to grow your wealth](https://www.cnbc.com/2023/07/19/money-red-flags-to-avoid.html)\n"
      ],
      "text/plain": [
       "<IPython.core.display.Markdown object>"
      ]
     },
     "metadata": {},
     "output_type": "display_data"
    },
    {
     "data": {
      "text/markdown": [
       "[2023-07-19 18:34:00 MarketWatch - The Ratings Game: Corona parent Constellation Brands shares on pace for record as big investor deepens its involvement to make it less of a family-controlled company](https://www.marketwatch.com/story/corona-parent-constellation-brands-shares-on-pace-for-record-as-big-investor-deepens-its-involvement-to-make-it-less-of-a-family-controlled-company-cd7a3e22)\n"
      ],
      "text/plain": [
       "<IPython.core.display.Markdown object>"
      ]
     },
     "metadata": {},
     "output_type": "display_data"
    },
    {
     "data": {
      "text/markdown": [
       "[2023-07-19 18:30:00 MarketWatch - : ‘We were surprised in a good way.’ Hearing aids may cut dementia risk by half in older adults.](https://www.marketwatch.com/story/we-were-surprised-in-a-good-way-hearing-aids-may-cut-dementia-risk-by-half-in-older-adults-84f06a0e)\n"
      ],
      "text/plain": [
       "<IPython.core.display.Markdown object>"
      ]
     },
     "metadata": {},
     "output_type": "display_data"
    },
    {
     "data": {
      "text/markdown": [
       "[2023-07-19 18:19:52 SeekingAlpha - Amgen, FTC said there are no ongoing talks, though open to settlement over Horizon](https://seekingalpha.com/news/3988867-amgen-ftc-said-they-are-no-ongoing-talks-to-settle-over-horizon-therapeutics-deal?utm_source=feed_news_m_a&utm_medium=referral)\n"
      ],
      "text/plain": [
       "<IPython.core.display.Markdown object>"
      ]
     },
     "metadata": {},
     "output_type": "display_data"
    },
    {
     "data": {
      "text/markdown": [
       "[2023-07-19 18:11:00 MarketWatch - : Apple has an AI chatbot up its sleeve: report](https://www.marketwatch.com/story/apple-has-an-ai-chatbot-up-its-sleeve-report-60cc9367)\n"
      ],
      "text/plain": [
       "<IPython.core.display.Markdown object>"
      ]
     },
     "metadata": {},
     "output_type": "display_data"
    },
    {
     "data": {
      "text/markdown": [
       "[2023-07-19 18:03:18 Cointelegraph - Bipartisan bill to regulate DeFi, crypto security risks, introduced into US Senate](https://cointelegraph.com/news/bipartisan-bill-regulate-defi-crypto-security-risks-introduced-us-senate)\n"
      ],
      "text/plain": [
       "<IPython.core.display.Markdown object>"
      ]
     },
     "metadata": {},
     "output_type": "display_data"
    },
    {
     "data": {
      "text/markdown": [
       "[2023-07-19 17:58:21 CNBC - Halliburton was a cash machine in its latest quarter — and we're making a price target change](https://www.cnbc.com/2023/07/19/halliburton-was-a-cash-machine-in-q2-and-were-boosting-our-price-target.html)\n"
      ],
      "text/plain": [
       "<IPython.core.display.Markdown object>"
      ]
     },
     "metadata": {},
     "output_type": "display_data"
    },
    {
     "data": {
      "text/markdown": [
       "[2023-07-19 17:54:00 MarketWatch - : Il Makiage parent Oddity Tech’s stock rockets out of the gate in trading debut](https://www.marketwatch.com/story/il-makiage-parent-oddity-techs-stock-rockets-out-of-the-gate-in-trading-debut-518ab40f)\n"
      ],
      "text/plain": [
       "<IPython.core.display.Markdown object>"
      ]
     },
     "metadata": {},
     "output_type": "display_data"
    },
    {
     "data": {
      "text/markdown": [
       "[2023-07-19 17:45:00 BusinessWire - Colombier Acquisition Corp. Announces Stockholder Approval of the Proposed Business Combination with Patriotic Marketplace PublicSq.](http://www.businesswire.com/news/home/20230719643030/en/Colombier-Acquisition-Corp.-Announces-Stockholder-Approval-of-the-Proposed-Business-Combination-with-Patriotic-Marketplace-PublicSq./?feedref=JjAwJuNHiystnCoBq_hl-Rc4vIAVcHHkbDcwJimU8QtrtlakeQ9hNboBqTAWIjTge3KWq9s9jif-UkBjBsFRyYAbRTSLTc1mgvhPln)\n"
      ],
      "text/plain": [
       "<IPython.core.display.Markdown object>"
      ]
     },
     "metadata": {},
     "output_type": "display_data"
    },
    {
     "data": {
      "text/markdown": [
       "[2023-07-19 17:37:45 Forexlive - Goldman Sachs: Canadian dollar not the optimal choice to bet against weakening USD](https://www.forexlive.com/news/goldman-sachs-canadian-dollar-not-the-optimal-choice-to-bet-against-weakening-usd-20230719/)\n"
      ],
      "text/plain": [
       "<IPython.core.display.Markdown object>"
      ]
     },
     "metadata": {},
     "output_type": "display_data"
    },
    {
     "data": {
      "text/markdown": [
       "[2023-07-19 17:37:00 MarketWatch - Banking: Goldman Sachs CEO David Solomon bringing ally Tom Montag on board](https://www.marketwatch.com/story/goldman-sachs-ceo-david-solomon-bringing-ally-tom-montag-on-board-1723023e)\n"
      ],
      "text/plain": [
       "<IPython.core.display.Markdown object>"
      ]
     },
     "metadata": {},
     "output_type": "display_data"
    },
    {
     "data": {
      "text/markdown": [
       "[2023-07-19 17:17:00 MarketWatch - : Tesla, Rivian are the most shorted stocks in autos, but the trade is far from profitable](https://www.marketwatch.com/story/tesla-rivian-are-the-most-shorted-stocks-in-autos-but-the-trade-is-far-from-profitable-50b3565e)\n"
      ],
      "text/plain": [
       "<IPython.core.display.Markdown object>"
      ]
     },
     "metadata": {},
     "output_type": "display_data"
    },
    {
     "data": {
      "text/markdown": [
       "[2023-07-19 17:16:00 MarketWatch - : Netflix drops basic streaming plan in push for more users of ad-supported plan](https://www.marketwatch.com/story/netflix-drops-basic-streaming-plan-in-push-for-more-users-of-ad-supported-plan-4b85ac61)\n"
      ],
      "text/plain": [
       "<IPython.core.display.Markdown object>"
      ]
     },
     "metadata": {},
     "output_type": "display_data"
    },
    {
     "data": {
      "text/markdown": [
       "[2023-07-19 17:12:00 MarketWatch - The Moneyist: ‘She’s currently waiting tables on nights and weekends’: My sister asked me to cosign her $11,000 student loan. Do I say yes?](https://www.marketwatch.com/story/shes-currently-waiting-tables-on-nights-and-weekends-my-sister-asked-me-to-cosign-her-11-000-student-loan-do-i-say-yes-83f9c2d2)\n"
      ],
      "text/plain": [
       "<IPython.core.display.Markdown object>"
      ]
     },
     "metadata": {},
     "output_type": "display_data"
    },
    {
     "data": {
      "text/markdown": [
       "[2023-07-19 17:11:00 MarketWatch - Brett Arends's ROI: Be greedy in your 401(k): The ‘big money’ is still fearful](https://www.marketwatch.com/story/be-greedy-in-your-401-k-the-big-money-is-still-fearful-bc1c3106)\n"
      ],
      "text/plain": [
       "<IPython.core.display.Markdown object>"
      ]
     },
     "metadata": {},
     "output_type": "display_data"
    },
    {
     "data": {
      "text/markdown": [
       "[2023-07-19 17:09:00 MarketWatch - : Carvana’s debt restructuring is good news, but its losses are ‘hardly in the growth stock handbook,’ analyst says](https://www.marketwatch.com/story/carvanas-debt-restructuring-is-good-news-but-its-losses-are-hardly-in-the-growth-stock-handbook-analyst-says-3c4c0d6b)\n"
      ],
      "text/plain": [
       "<IPython.core.display.Markdown object>"
      ]
     },
     "metadata": {},
     "output_type": "display_data"
    },
    {
     "data": {
      "text/markdown": [
       "[2023-07-19 17:03:54 Forexlive - The US treasury auctions off $12 billion of 20 year bonds at a high yield of 4.036%](https://www.forexlive.com/news/the-us-treasury-auctions-off-12-billion-of-20-year-bonds-at-a-high-yield-of-4036-20230719/)\n"
      ],
      "text/plain": [
       "<IPython.core.display.Markdown object>"
      ]
     },
     "metadata": {},
     "output_type": "display_data"
    },
    {
     "data": {
      "text/markdown": [
       "[2023-07-19 17:02:55 CoinDesk - Solana Foundation, Polygon Lead $30M Fundraise for Web3 Firm Cosmic Wire](https://www.coindesk.com/business/2023/07/19/solana-foundation-polygon-lead-30m-fundraise-for-web3-firm-cosmic-wire/?utm_medium=referral&utm_source=rss&utm_campaign=headlines)\n"
      ],
      "text/plain": [
       "<IPython.core.display.Markdown object>"
      ]
     },
     "metadata": {},
     "output_type": "display_data"
    },
    {
     "data": {
      "text/markdown": [
       "[2023-07-19 17:00:00 GlobalNewswire - IMCD continues to build strong LATAM business with the acquisition of Chilean speciality distributor, MAPRIN®](https://www.globenewswire.com/news-release/2023/07/19/2707593/0/en/IMCD-continues-to-build-strong-LATAM-business-with-the-acquisition-of-Chilean-speciality-distributor-MAPRIN.html)\n"
      ],
      "text/plain": [
       "<IPython.core.display.Markdown object>"
      ]
     },
     "metadata": {},
     "output_type": "display_data"
    },
    {
     "data": {
      "text/markdown": [
       "[2023-07-19 17:00:00 Dailyfx - EUR/USD Stuck Between Confluence Support and Fibonacci Resistance. Now What?](https://www.dailyfx.com/news/forex-eur-usd-trapped-between-confluence-support-and-fibonacci-resistance-now-what-20230719.html)\n"
      ],
      "text/plain": [
       "<IPython.core.display.Markdown object>"
      ]
     },
     "metadata": {},
     "output_type": "display_data"
    },
    {
     "data": {
      "text/markdown": [
       "[2023-07-19 16:58:08 Forexlive - The US treasury to auction off $12 billion of 20 year bonds at the top of the hour](https://www.forexlive.com/news/the-us-treasury-to-auction-off-12-billion-of-20-year-bonds-at-the-top-of-the-hour-20230719/)\n"
      ],
      "text/plain": [
       "<IPython.core.display.Markdown object>"
      ]
     },
     "metadata": {},
     "output_type": "display_data"
    },
    {
     "data": {
      "text/markdown": [
       "[2023-07-19 16:58:00 MarketWatch - In One Chart: Carvana’s stock has roared back from the brink. This chart shows its meteoric surge.](https://www.marketwatch.com/story/carvanas-stock-has-roared-back-from-the-brink-this-chart-shows-its-meteoric-surge-b9c592d4)\n"
      ],
      "text/plain": [
       "<IPython.core.display.Markdown object>"
      ]
     },
     "metadata": {},
     "output_type": "display_data"
    },
    {
     "data": {
      "text/markdown": [
       "[2023-07-19 16:56:29 CNBC - 'Barbenheimer' opening weekend could top $200 million, a jolt for Hollywood's soft box office](https://www.cnbc.com/2023/07/19/barbie-oppenheimer-opening-weekend-could-be-huge.html)\n"
      ],
      "text/plain": [
       "<IPython.core.display.Markdown object>"
      ]
     },
     "metadata": {},
     "output_type": "display_data"
    },
    {
     "data": {
      "text/markdown": [
       "[2023-07-19 16:38:17 CoinDesk - ‘Get a Horse!’: What Crypto Can Learn From Early Automakers' Struggle for Acceptance](https://www.coindesk.com/consensus-magazine/2023/07/19/get-a-horse-what-crypto-can-learn-from-early-automakers-struggle-for-acceptance/?utm_medium=referral&utm_source=rss&utm_campaign=headlines)\n"
      ],
      "text/plain": [
       "<IPython.core.display.Markdown object>"
      ]
     },
     "metadata": {},
     "output_type": "display_data"
    },
    {
     "data": {
      "text/markdown": [
       "[2023-07-19 16:32:00 MarketWatch - : Blending wine and Wall Street: Duckhorn CEO on the challenges of building a unique portfolio, smoke taint and staying relevant](https://www.marketwatch.com/story/blending-wine-and-wall-street-duckhorn-ceo-on-the-challenges-of-building-a-unique-portfolio-smoke-taint-and-staying-relevant-74c7574d)\n"
      ],
      "text/plain": [
       "<IPython.core.display.Markdown object>"
      ]
     },
     "metadata": {},
     "output_type": "display_data"
    },
    {
     "data": {
      "text/markdown": [
       "[2023-07-19 16:30:00 MarketWatch - Commodities Corner: Wheat prices rally as Russia-Ukraine tensions rise after the suspension of the grain deal](https://www.marketwatch.com/story/wheat-prices-rally-as-russia-ukraine-tensions-rise-after-the-suspension-of-the-grain-deal-fb6bdd4b)\n"
      ],
      "text/plain": [
       "<IPython.core.display.Markdown object>"
      ]
     },
     "metadata": {},
     "output_type": "display_data"
    },
    {
     "data": {
      "text/markdown": [
       "[2023-07-19 16:29:00 MarketWatch - : Verizon’s stock enjoying best 2-day rally in 6 years as it rebounds from lead-cable concerns](https://www.marketwatch.com/story/verizons-stock-enjoying-best-2-day-rally-in-6-years-as-it-rebounds-from-lead-cable-concerns-a6e7b8ec)\n"
      ],
      "text/plain": [
       "<IPython.core.display.Markdown object>"
      ]
     },
     "metadata": {},
     "output_type": "display_data"
    },
    {
     "data": {
      "text/markdown": [
       "[2023-07-19 16:26:00 MarketWatch - The Tell: Bond market’s ‘most accurate’ recession predictor leaves window for downturn open through  February](https://www.marketwatch.com/story/bond-markets-most-accurate-recession-predictor-leaves-window-for-downturn-open-through-february-2cfd404a)\n"
      ],
      "text/plain": [
       "<IPython.core.display.Markdown object>"
      ]
     },
     "metadata": {},
     "output_type": "display_data"
    },
    {
     "data": {
      "text/markdown": [
       "[2023-07-19 16:24:00 MarketWatch - The Ratings Game: Sell Joby’s stock, analyst says, as recent ‘overblown’ rally reflects short covering](https://www.marketwatch.com/story/sell-jobys-stock-analyst-says-as-recent-overblown-rally-reflects-short-covering-e21480cf)\n"
      ],
      "text/plain": [
       "<IPython.core.display.Markdown object>"
      ]
     },
     "metadata": {},
     "output_type": "display_data"
    },
    {
     "data": {
      "text/markdown": [
       "[2023-07-19 16:22:47 Forexlive - GBPUSD technical update: Target in the GBPUSD reached at 50% retracement](https://www.forexlive.com/technical-analysis/gbpusd-technical-update-target-in-the-gbpusd-reached-at-50-retracement-20230719/)\n"
      ],
      "text/plain": [
       "<IPython.core.display.Markdown object>"
      ]
     },
     "metadata": {},
     "output_type": "display_data"
    },
    {
     "data": {
      "text/markdown": [
       "[2023-07-19 16:14:45 Cointelegraph - US lawmakers propose SEC chair consider legislation, not enforcement approach to crypto](https://cointelegraph.com/news/lawmakers-propose-sec-chair-consider-legislation-not-enforcement-approach-crypto)\n"
      ],
      "text/plain": [
       "<IPython.core.display.Markdown object>"
      ]
     },
     "metadata": {},
     "output_type": "display_data"
    },
    {
     "data": {
      "text/markdown": [
       "[2023-07-19 16:08:24 CNBC - Jim Cramer says 'bulls are in charge' as stocks pop but adds a warning for investors](https://www.cnbc.com/2023/07/19/jim-cramer-says-bulls-are-in-charge-as-stocks-pop-but-adds-a-warning-for-investors.html)\n"
      ],
      "text/plain": [
       "<IPython.core.display.Markdown object>"
      ]
     },
     "metadata": {},
     "output_type": "display_data"
    },
    {
     "data": {
      "text/markdown": [
       "[2023-07-19 16:00:00 GlobalNewswire - ThoughtSpot Completes $200M Acquisition of Mode Analytics](https://www.globenewswire.com/news-release/2023/07/19/2707541/0/en/ThoughtSpot-Completes-200M-Acquisition-of-Mode-Analytics.html)\n"
      ],
      "text/plain": [
       "<IPython.core.display.Markdown object>"
      ]
     },
     "metadata": {},
     "output_type": "display_data"
    },
    {
     "data": {
      "text/markdown": [
       "[2023-07-19 16:00:00 GlobalNewswire - Groundworks® Enters California with Acquisition of Bay Area Underpinning](https://www.globenewswire.com/news-release/2023/07/19/2707534/0/en/Groundworks-Enters-California-with-Acquisition-of-Bay-Area-Underpinning.html)\n"
      ],
      "text/plain": [
       "<IPython.core.display.Markdown object>"
      ]
     },
     "metadata": {},
     "output_type": "display_data"
    },
    {
     "data": {
      "text/markdown": [
       "[2023-07-19 15:56:34 Cointelegraph - Proof-of-truth: Countering AI overreach through Cointelegraph’s Historical NFTs](https://cointelegraph.com/news/countering-artificial-intelligence-overreach-nonfungible-tokens)\n"
      ],
      "text/plain": [
       "<IPython.core.display.Markdown object>"
      ]
     },
     "metadata": {},
     "output_type": "display_data"
    },
    {
     "data": {
      "text/markdown": [
       "[2023-07-19 15:52:00 MarketWatch - Key Words: FTC’s Khan puts private equity ‘on notice’ that roll-up strategies could be illegal](https://www.marketwatch.com/story/ftcs-khan-puts-private-equity-on-notice-that-roll-up-strategies-could-be-illegal-dcfd88b0)\n"
      ],
      "text/plain": [
       "<IPython.core.display.Markdown object>"
      ]
     },
     "metadata": {},
     "output_type": "display_data"
    },
    {
     "data": {
      "text/markdown": [
       "[2023-07-19 15:51:18 Forexlive - European equity close: The FTSE 100 cheers softening inflation data](https://www.forexlive.com/news/european-equity-close-the-ftse-100-cheers-softening-inflation-data-20230719/)\n"
      ],
      "text/plain": [
       "<IPython.core.display.Markdown object>"
      ]
     },
     "metadata": {},
     "output_type": "display_data"
    },
    {
     "data": {
      "text/markdown": [
       "[2023-07-19 15:45:00 MarketWatch - In One Chart: Bank stocks in ‘danger zone’ after big July bounce, says top Wall St. technical analyst](https://www.marketwatch.com/story/bank-stocks-in-danger-zone-after-big-july-bounce-says-top-wall-st-technical-analyst-4911b3ef)\n"
      ],
      "text/plain": [
       "<IPython.core.display.Markdown object>"
      ]
     },
     "metadata": {},
     "output_type": "display_data"
    },
    {
     "data": {
      "text/markdown": [
       "[2023-07-19 15:41:42 CNBC - Canadian port workers back on strike after voting down government-brokered deal, returning supply chain to 'turmoil'](https://www.cnbc.com/2023/07/19/canadian-port-workers-are-back-on-strike-after-rejecting-labor-deal.html)\n"
      ],
      "text/plain": [
       "<IPython.core.display.Markdown object>"
      ]
     },
     "metadata": {},
     "output_type": "display_data"
    },
    {
     "data": {
      "text/markdown": [
       "[2023-07-19 15:40:12 Cointelegraph - Bitcoin mining is becoming more environmentally friendly](https://cointelegraph.com/news/bitcoin-mining-becoming-more-environmentally-friendly)\n"
      ],
      "text/plain": [
       "<IPython.core.display.Markdown object>"
      ]
     },
     "metadata": {},
     "output_type": "display_data"
    },
    {
     "data": {
      "text/markdown": [
       "[2023-07-19 15:34:41 Dailyfx - Nasdaq Price Outlook: US Stocks Buoyed Ahead Netflix, Tesla Earnings](https://www.dailyfx.com/news/nasdaq-price-outlook-us-stocks-buoyed-ahead-netflix-tesla-earnings-20230719.html)\n"
      ],
      "text/plain": [
       "<IPython.core.display.Markdown object>"
      ]
     },
     "metadata": {},
     "output_type": "display_data"
    },
    {
     "data": {
      "text/markdown": [
       "[2023-07-19 15:31:00 BusinessWire - TPG to Acquire Leading Specialty Healthcare IT Platform Nextech](http://www.businesswire.com/news/home/20230719743590/en/TPG-to-Acquire-Leading-Specialty-Healthcare-IT-Platform-Nextech/?feedref=JjAwJuNHiystnCoBq_hl-Rc4vIAVcHHkbDcwJimU8QtrtlakeQ9hNboBqTAWIjTge3KWq9s9jif-UkBjBsFRyYAbRTSLTc1mgvhPlnaBA55M-oupQnbXnhKsYk8RmHF_kAy2gZikaX3QWV6xOvgFlA==)\n"
      ],
      "text/plain": [
       "<IPython.core.display.Markdown object>"
      ]
     },
     "metadata": {},
     "output_type": "display_data"
    },
    {
     "data": {
      "text/markdown": [
       "[2023-07-19 15:29:43 CoinDesk - Code Wallet Aims for Fresh Start on Solana After Messy Tale of Kik and KIN](https://www.coindesk.com/tech/2023/07/19/code-wallet-aims-for-fresh-start-on-solana-after-messy-tale-of-kik-and-kin/?utm_medium=referral&utm_source=rss&utm_campaign=headlines)\n"
      ],
      "text/plain": [
       "<IPython.core.display.Markdown object>"
      ]
     },
     "metadata": {},
     "output_type": "display_data"
    },
    {
     "data": {
      "text/markdown": [
       "[2023-07-19 15:23:24 Forexlive - Russia to consider all ships sailing to Ukrainian ports as potential military cargoes](https://www.forexlive.com/news/russia-to-consider-all-ships-sailing-to-ukrainian-ports-as-potential-military-cargoes-20230719/)\n"
      ],
      "text/plain": [
       "<IPython.core.display.Markdown object>"
      ]
     },
     "metadata": {},
     "output_type": "display_data"
    },
    {
     "data": {
      "text/markdown": [
       "[2023-07-19 15:12:43 SeekingAlpha - JetBlue gains amid activist investor speculation](https://seekingalpha.com/news/3988766-jetblue-gains-amid-activist-investor-speculation?utm_source=feed_news_m_a&utm_medium=referral)\n"
      ],
      "text/plain": [
       "<IPython.core.display.Markdown object>"
      ]
     },
     "metadata": {},
     "output_type": "display_data"
    },
    {
     "data": {
      "text/markdown": [
       "[2023-07-19 15:08:00 MarketWatch - : Medicare Advantage could get up to $1.6 trillion more than it’s entitled to over the next decade, and that could hurt the Medicare trust fund: study](https://www.marketwatch.com/story/medicare-advantage-could-get-up-to-1-6-trillion-more-than-its-entitled-to-over-the-next-decade-and-that-could-hurt-the-medicare-trust-fund-study-21d739f4)\n"
      ],
      "text/plain": [
       "<IPython.core.display.Markdown object>"
      ]
     },
     "metadata": {},
     "output_type": "display_data"
    },
    {
     "data": {
      "text/markdown": [
       "[2023-07-19 15:07:26 Cointelegraph - Crypto VCs share lessons on startup success at EthCC](https://cointelegraph.com/news/crypto-vc-share-lessons-startup-success-at-ethcc)\n"
      ],
      "text/plain": [
       "<IPython.core.display.Markdown object>"
      ]
     },
     "metadata": {},
     "output_type": "display_data"
    },
    {
     "data": {
      "text/markdown": [
       "[2023-07-19 15:00:00 GlobalNewswire - Intelligent Transportation Systems  Market Set to Soar Past USD 88.62 Billion by 2030](https://www.globenewswire.com/news-release/2023/07/19/2707471/0/en/Intelligent-Transportation-Systems-Market-Set-to-Soar-Past-USD-88-62-Billion-by-2030.html)\n"
      ],
      "text/plain": [
       "<IPython.core.display.Markdown object>"
      ]
     },
     "metadata": {},
     "output_type": "display_data"
    },
    {
     "data": {
      "text/markdown": [
       "[2023-07-19 15:00:00 Cointelegraph - SEC vs. Ripple: Huge win for crypto](https://cointelegraph.com/news/sec-vs-ripple-huge-win-for-crypto)\n"
      ],
      "text/plain": [
       "<IPython.core.display.Markdown object>"
      ]
     },
     "metadata": {},
     "output_type": "display_data"
    },
    {
     "data": {
      "text/markdown": [
       "[2023-07-19 14:56:00 MarketWatch - : ‘There are so many caregivers and a lot of fragmented resources.’ These free videos may help.](https://www.marketwatch.com/story/there-are-so-many-caregivers-and-a-lot-of-fragmented-resources-these-free-videos-may-help-25386195)\n"
      ],
      "text/plain": [
       "<IPython.core.display.Markdown object>"
      ]
     },
     "metadata": {},
     "output_type": "display_data"
    },
    {
     "data": {
      "text/markdown": [
       "[2023-07-19 14:55:00 GlobalNewswire - Young Insurance Agency Group Joins World Insurance Associates](https://www.globenewswire.com/news-release/2023/07/19/2707461/0/en/Young-Insurance-Agency-Group-Joins-World-Insurance-Associates.html)\n"
      ],
      "text/plain": [
       "<IPython.core.display.Markdown object>"
      ]
     },
     "metadata": {},
     "output_type": "display_data"
    },
    {
     "data": {
      "text/markdown": [
       "[2023-07-19 14:54:00 MarketWatch - : Zillow pledges to show renters all costs upfront as Biden makes latest move against junk fees](https://www.marketwatch.com/story/zillow-pledges-to-show-renters-all-costs-upfront-as-biden-makes-latest-move-against-junk-fees-d61bf934)\n"
      ],
      "text/plain": [
       "<IPython.core.display.Markdown object>"
      ]
     },
     "metadata": {},
     "output_type": "display_data"
    },
    {
     "data": {
      "text/markdown": [
       "[2023-07-19 14:45:00 MarketWatch - The Ratings Game: Amazon finally is nearing a bottom on this key measure, analyst says](https://www.marketwatch.com/story/amazon-finally-is-nearing-a-bottom-on-this-key-measure-analyst-says-5048de38)\n"
      ],
      "text/plain": [
       "<IPython.core.display.Markdown object>"
      ]
     },
     "metadata": {},
     "output_type": "display_data"
    },
    {
     "data": {
      "text/markdown": [
       "[2023-07-19 14:30:52 Forexlive - EIA weekly US oil inventories -708K vs -2440K expected](https://www.forexlive.com/news/eia-weekly-us-oil-inventories-708k-vs-2440k-expected-20230719/)\n"
      ],
      "text/plain": [
       "<IPython.core.display.Markdown object>"
      ]
     },
     "metadata": {},
     "output_type": "display_data"
    },
    {
     "data": {
      "text/markdown": [
       "[2023-07-19 14:30:00 MarketWatch - Economic Report: ‘If you know a recession is coming, why would you hoard workers?’](https://www.marketwatch.com/story/if-you-know-a-recession-is-coming-why-would-you-hoard-workers-7ace7ea8)\n"
      ],
      "text/plain": [
       "<IPython.core.display.Markdown object>"
      ]
     },
     "metadata": {},
     "output_type": "display_data"
    },
    {
     "data": {
      "text/markdown": [
       "[2023-07-19 14:30:00 GlobalNewswire - Soil Conditioners  Market Set to Soar Past USD 10.34 Billion by 2030: Soil Conditioners for Bountiful Harvests](https://www.globenewswire.com/news-release/2023/07/19/2707449/0/en/Soil-Conditioners-Market-Set-to-Soar-Past-USD-10-34-Billion-by-2030-Soil-Conditioners-for-Bountiful-Harvests.html)\n"
      ],
      "text/plain": [
       "<IPython.core.display.Markdown object>"
      ]
     },
     "metadata": {},
     "output_type": "display_data"
    },
    {
     "data": {
      "text/markdown": [
       "[2023-07-19 14:26:08 Forexlive - EURUSD cracks lower and away from its 100 hour MA. Sellers making a play.](https://www.forexlive.com/technical-analysis/eurusd-cracks-lower-and-away-from-its-100-hour-ma-sellers-making-a-play-20230719/)\n"
      ],
      "text/plain": [
       "<IPython.core.display.Markdown object>"
      ]
     },
     "metadata": {},
     "output_type": "display_data"
    },
    {
     "data": {
      "text/markdown": [
       "[2023-07-19 14:20:20 SeekingAlpha - Silicon Motion/MaxLinear spread widens amid report on China's review](https://seekingalpha.com/news/3988735-silicon-motionmaxlinear-spread-widens-amid-report-on-chinas-review?utm_source=feed_news_m_a&utm_medium=referral)\n"
      ],
      "text/plain": [
       "<IPython.core.display.Markdown object>"
      ]
     },
     "metadata": {},
     "output_type": "display_data"
    },
    {
     "data": {
      "text/markdown": [
       "[2023-07-19 14:20:00 GlobalNewswire - Davidson Kempner Capital Management LP : Form 8.3 - Horizon Therapeutics plc](https://www.globenewswire.com/news-release/2023/07/19/2707437/0/en/Davidson-Kempner-Capital-Management-LP-Form-8-3-Horizon-Therapeutics-plc.html)\n"
      ],
      "text/plain": [
       "<IPython.core.display.Markdown object>"
      ]
     },
     "metadata": {},
     "output_type": "display_data"
    },
    {
     "data": {
      "text/markdown": [
       "[2023-07-19 14:19:00 GlobalNewswire - Horizon Therapeutics plc](https://www.globenewswire.com/news-release/2023/07/19/2707436/0/en/Horizon-Therapeutics-plc.html)\n"
      ],
      "text/plain": [
       "<IPython.core.display.Markdown object>"
      ]
     },
     "metadata": {},
     "output_type": "display_data"
    },
    {
     "data": {
      "text/markdown": [
       "[2023-07-19 14:18:33 CNBC - These 10 states are America's strongest housing markets, offering buyers the best value](https://www.cnbc.com/2023/07/19/these-10-states-are-americas-strongest-housing-markets.html)\n"
      ],
      "text/plain": [
       "<IPython.core.display.Markdown object>"
      ]
     },
     "metadata": {},
     "output_type": "display_data"
    },
    {
     "data": {
      "text/markdown": [
       "[2023-07-19 14:15:00 BusinessWire - EMHware and Greenspace Health Announce Strategic Integration](http://www.businesswire.com/news/home/20230719624070/en/EMHware-and-Greenspace-Health-Announce-Strategic-Integration/?feedref=JjAwJuNHiystnCoBq_hl-Rc4vIAVcHHkbDcwJimU8QtrtlakeQ9hNboBqTAWIjTge3KWq9s9jif-UkBjBsFRyYAbRTSLTc1mgvhPlnaBA55M-oupQnbXnhKsYk8RmHF_kAy2gZikaX3QWV6xOvgFlA==)\n"
      ],
      "text/plain": [
       "<IPython.core.display.Markdown object>"
      ]
     },
     "metadata": {},
     "output_type": "display_data"
    },
    {
     "data": {
      "text/markdown": [
       "[2023-07-19 14:08:00 MarketWatch - : Biden’s top antitrust cop denies ‘picking winners and losers’ after unveiling new merger guidelines](https://www.marketwatch.com/story/bidens-top-antitrust-cop-denies-picking-winners-and-losers-after-unveiling-new-merger-guidelines-9bf23873)\n"
      ],
      "text/plain": [
       "<IPython.core.display.Markdown object>"
      ]
     },
     "metadata": {},
     "output_type": "display_data"
    },
    {
     "data": {
      "text/markdown": [
       "[2023-07-19 14:02:04 CoinDesk - New U.S. Senate Bill Wants to Regulate DeFi-Like Banks](https://www.coindesk.com/policy/2023/07/19/new-us-senate-bill-wants-to-regulate-defi-like-banks/?utm_medium=referral&utm_source=rss&utm_campaign=headlines)\n"
      ],
      "text/plain": [
       "<IPython.core.display.Markdown object>"
      ]
     },
     "metadata": {},
     "output_type": "display_data"
    },
    {
     "data": {
      "text/markdown": [
       "[2023-07-19 14:00:00 GlobalNewswire - Passenger Security Market to Worth USD 7770 Million by 2030 | Skyquest Technology](https://www.globenewswire.com/news-release/2023/07/19/2707420/0/en/Passenger-Security-Market-to-Worth-USD-7770-Million-by-2030-Skyquest-Technology.html)\n"
      ],
      "text/plain": [
       "<IPython.core.display.Markdown object>"
      ]
     },
     "metadata": {},
     "output_type": "display_data"
    },
    {
     "data": {
      "text/markdown": [
       "[2023-07-19 13:59:56 Dailyfx - XAU/USD Price Forecast: Gold Seeks Fundamental Catalyst](https://www.dailyfx.com/news/forex-xau-usd-price-forecast-gold-seeks-fundamental-catalyst-wv-20230719.html)\n"
      ],
      "text/plain": [
       "<IPython.core.display.Markdown object>"
      ]
     },
     "metadata": {},
     "output_type": "display_data"
    },
    {
     "data": {
      "text/markdown": [
       "[2023-07-19 13:51:26 CNBC - Hollywood actors' strike leaves San Diego Comic-Con light on star power](https://www.cnbc.com/2023/07/19/san-diego-comic-con-hollywood-strike.html)\n"
      ],
      "text/plain": [
       "<IPython.core.display.Markdown object>"
      ]
     },
     "metadata": {},
     "output_type": "display_data"
    },
    {
     "data": {
      "text/markdown": [
       "[2023-07-19 13:51:00 MarketWatch - : AMC CEO eyes ‘Barbie’ and ‘Oppenheimer’ boost amid strong advance ticket sales](https://www.marketwatch.com/story/amc-ceo-eyes-barbie-and-oppenheimer-boost-amid-strong-advance-ticket-sales-4dbaff0e)\n"
      ],
      "text/plain": [
       "<IPython.core.display.Markdown object>"
      ]
     },
     "metadata": {},
     "output_type": "display_data"
    },
    {
     "data": {
      "text/markdown": [
       "[2023-07-19 13:47:00 MarketWatch - Earnings Results: Carvana’s stock rockets as debt deal is expected to ‘meaningfully improve’ liquidity](https://www.marketwatch.com/story/carvanas-stock-rockets-after-earnings-bring-big-sales-beat-5dbd7f3d)\n"
      ],
      "text/plain": [
       "<IPython.core.display.Markdown object>"
      ]
     },
     "metadata": {},
     "output_type": "display_data"
    },
    {
     "data": {
      "text/markdown": [
       "[2023-07-19 13:46:10 Forexlive - US indices trading higher. Dow trying for 8th positive day in a row](https://www.forexlive.com/technical-analysis/us-indices-trading-higher-dow-trying-for-8th-positive-day-in-a-row-20230719/)\n"
      ],
      "text/plain": [
       "<IPython.core.display.Markdown object>"
      ]
     },
     "metadata": {},
     "output_type": "display_data"
    },
    {
     "data": {
      "text/markdown": [
       "[2023-07-19 13:45:33 CNBC - Jim Cramer's top 10 things to watch in the stock market Wednesday](https://www.cnbc.com/2023/07/19/jim-cramers-top-10-things-to-watch-in-the-stock-market-wednesday.html)\n"
      ],
      "text/plain": [
       "<IPython.core.display.Markdown object>"
      ]
     },
     "metadata": {},
     "output_type": "display_data"
    },
    {
     "data": {
      "text/markdown": [
       "[2023-07-19 13:39:00 MarketWatch - The Ratings Game: Toast stock gets burned as company reverses course on controversial fee](https://www.marketwatch.com/story/toast-stock-gets-burned-as-company-reverses-course-on-controversial-fee-c6fd893c)\n"
      ],
      "text/plain": [
       "<IPython.core.display.Markdown object>"
      ]
     },
     "metadata": {},
     "output_type": "display_data"
    },
    {
     "data": {
      "text/markdown": [
       "[2023-07-19 13:37:00 MarketWatch - Deep Dive: Stocks in this in this left-behind sector are expected to rally as much as 33%](https://www.marketwatch.com/story/stocks-in-this-in-this-left-behind-sector-are-expected-to-rally-as-much-as-33-fcf288d6)\n"
      ],
      "text/plain": [
       "<IPython.core.display.Markdown object>"
      ]
     },
     "metadata": {},
     "output_type": "display_data"
    },
    {
     "data": {
      "text/markdown": [
       "[2023-07-19 13:33:00 MarketWatch - The Ratings Game: Cisco’s stock climbs as orders seen bottoming, prompting an analyst upgrade](https://www.marketwatch.com/story/ciscos-stock-climbs-as-orders-seen-bottoming-prompting-an-analyst-upgrade-1052f66c)\n"
      ],
      "text/plain": [
       "<IPython.core.display.Markdown object>"
      ]
     },
     "metadata": {},
     "output_type": "display_data"
    },
    {
     "data": {
      "text/markdown": [
       "[2023-07-19 13:30:00 GlobalNewswire - Magnetic Resonance Imaging Market to Worth USD 9 Billion by 2030 | Skyquest Technology](https://www.globenewswire.com/news-release/2023/07/19/2707389/0/en/Magnetic-Resonance-Imaging-Market-to-Worth-USD-9-Billion-by-2030-Skyquest-Technology.html)\n"
      ],
      "text/plain": [
       "<IPython.core.display.Markdown object>"
      ]
     },
     "metadata": {},
     "output_type": "display_data"
    },
    {
     "data": {
      "text/markdown": [
       "[2023-07-19 13:30:00 Cointelegraph - AI opens doors for NFT artist Ellie Pritts at Bitforms gallery in NYC](https://cointelegraph.com/news/ai-nft-artist-ellie-pritts-bitforms)\n"
      ],
      "text/plain": [
       "<IPython.core.display.Markdown object>"
      ]
     },
     "metadata": {},
     "output_type": "display_data"
    },
    {
     "data": {
      "text/markdown": [
       "[2023-07-19 13:30:00 Cointelegraph - Tokenizing music royalties as NFTs could help the next Taylor Swift](https://cointelegraph.com/magazine/tokenizing-music-royalties-nfts-taylor-swift-3lau-nas-the-weeknd/)\n"
      ],
      "text/plain": [
       "<IPython.core.display.Markdown object>"
      ]
     },
     "metadata": {},
     "output_type": "display_data"
    },
    {
     "data": {
      "text/markdown": [
       "[2023-07-19 13:29:21 CNBC - Former Google recruiter’s No. 1 resume red flag: ‘There's zero chance you're going to move forward’](https://www.cnbc.com/2023/07/19/the-number-one-red-flag-on-a-resume-according-to-a-former-google-recruiter.html)\n"
      ],
      "text/plain": [
       "<IPython.core.display.Markdown object>"
      ]
     },
     "metadata": {},
     "output_type": "display_data"
    },
    {
     "data": {
      "text/markdown": [
       "[2023-07-19 13:22:59 Cointelegraph - Nasdaq halts launch of cryptocurrency custody service](https://cointelegraph.com/news/crypto-nasdaq-halts-launch-of-cryptocurrency-custody-service)\n"
      ],
      "text/plain": [
       "<IPython.core.display.Markdown object>"
      ]
     },
     "metadata": {},
     "output_type": "display_data"
    },
    {
     "data": {
      "text/markdown": [
       "[2023-07-19 13:18:00 GlobalNewswire - Form 8.3 - Dechra Pharmaceuticals PLC](https://www.globenewswire.com/news-release/2023/07/19/2707370/0/en/Form-8-3-Dechra-Pharmaceuticals-PLC.html)\n"
      ],
      "text/plain": [
       "<IPython.core.display.Markdown object>"
      ]
     },
     "metadata": {},
     "output_type": "display_data"
    },
    {
     "data": {
      "text/markdown": [
       "[2023-07-19 13:15:00 MarketWatch - The Ratings Game: Intel is showing improvements, but AI setup remains a ‘mixed story,’ analyst says](https://www.marketwatch.com/story/intel-is-showing-improvements-but-ai-setup-remains-a-mixed-story-analyst-says-b21a0101)\n"
      ],
      "text/plain": [
       "<IPython.core.display.Markdown object>"
      ]
     },
     "metadata": {},
     "output_type": "display_data"
    },
    {
     "data": {
      "text/markdown": [
       "[2023-07-19 13:13:46 Cointelegraph - AI optimizing crypto exchange functions - Bitget exec](https://cointelegraph.com/news/how-ai-improves-cryptocurrency-exchanges-bitget-exec)\n"
      ],
      "text/plain": [
       "<IPython.core.display.Markdown object>"
      ]
     },
     "metadata": {},
     "output_type": "display_data"
    },
    {
     "data": {
      "text/markdown": [
       "[2023-07-19 13:13:00 MarketWatch - Economic Report: U.S. housing starts fall 8% in June, biggest drop in a year](https://www.marketwatch.com/story/u-s-housing-starts-retreat-in-june-e4a71eaa)\n"
      ],
      "text/plain": [
       "<IPython.core.display.Markdown object>"
      ]
     },
     "metadata": {},
     "output_type": "display_data"
    },
    {
     "data": {
      "text/markdown": [
       "[2023-07-19 13:08:47 CoinDesk - Nasdaq Halts Plan for Crypto Custody Service Due to U.S. Regulatory Conditions](https://www.coindesk.com/business/2023/07/19/nasdaq-halts-plan-for-crypto-custody-service-due-to-us-regulatory-conditions/?utm_medium=referral&utm_source=rss&utm_campaign=headlines)\n"
      ],
      "text/plain": [
       "<IPython.core.display.Markdown object>"
      ]
     },
     "metadata": {},
     "output_type": "display_data"
    },
    {
     "data": {
      "text/markdown": [
       "[2023-07-19 13:01:00 Cointelegraph - Russian CBDC by 2025? What’s happening with the digital ruble](https://cointelegraph.com/news/russian-cbdc-by-2025-what-s-happening-with-the-digital-ruble)\n"
      ],
      "text/plain": [
       "<IPython.core.display.Markdown object>"
      ]
     },
     "metadata": {},
     "output_type": "display_data"
    },
    {
     "data": {
      "text/markdown": [
       "[2023-07-19 13:01:00 MarketWatch - Earnings Outlook: Tesla earnings: What to expect from the Cybertruck maker](https://www.marketwatch.com/story/tesla-earnings-what-to-expect-from-the-cybertruck-maker-304cbf2d)\n"
      ],
      "text/plain": [
       "<IPython.core.display.Markdown object>"
      ]
     },
     "metadata": {},
     "output_type": "display_data"
    },
    {
     "data": {
      "text/markdown": [
       "[2023-07-19 13:00:00 GlobalNewswire - Recycled Construction Aggregates Market Set to Soar Past USD 66.74 Billion by 2030](https://www.globenewswire.com/news-release/2023/07/19/2707342/0/en/Recycled-Construction-Aggregates-Market-Set-to-Soar-Past-USD-66-74-Billion-by-2030.html)\n"
      ],
      "text/plain": [
       "<IPython.core.display.Markdown object>"
      ]
     },
     "metadata": {},
     "output_type": "display_data"
    },
    {
     "data": {
      "text/markdown": [
       "[2023-07-19 13:00:00 BusinessWire - Postman Acquires Akita Software to Help Build the Future of API Observability](http://www.businesswire.com/news/home/20230719991128/en/Postman-Acquires-Akita-Software-to-Help-Build-the-Future-of-API-Observability/?feedref=JjAwJuNHiystnCoBq_hl-Rc4vIAVcHHkbDcwJimU8QtrtlakeQ9hNboBqTAWIjTge3KWq9s9jif-UkBjBsFRyYAbRTSLTc1mgvhPlnaBA55M-oupQnbXnhKsYk8RmHF_kAy2gZikaX3QWV6xOvgFlA==)\n"
      ],
      "text/plain": [
       "<IPython.core.display.Markdown object>"
      ]
     },
     "metadata": {},
     "output_type": "display_data"
    },
    {
     "data": {
      "text/markdown": [
       "[2023-07-19 13:00:00 Cointelegraph - CoinMarketCap’s H1 2023 report says Q2 was a 'lost quarter'](https://cointelegraph.com/news/coinmarketcap-s-h1-2023-report-says-q2-was-a-lost-quarter)\n"
      ],
      "text/plain": [
       "<IPython.core.display.Markdown object>"
      ]
     },
     "metadata": {},
     "output_type": "display_data"
    },
    {
     "data": {
      "text/markdown": [
       "[2023-07-19 13:00:00 Cointelegraph - Manta Network developer raises $25M in Series A, launches layer 2 for ZK apps](https://cointelegraph.com/news/manta-network-developer-raises-25m-in-series-a-launches-layer-2-for-zk-apps)\n"
      ],
      "text/plain": [
       "<IPython.core.display.Markdown object>"
      ]
     },
     "metadata": {},
     "output_type": "display_data"
    },
    {
     "data": {
      "text/markdown": [
       "[2023-07-19 12:59:00 MarketWatch - : Goldman Sachs profit falls short of estimates as expenses rise, while revenue tops target](https://www.marketwatch.com/story/goldman-sachs-profit-fall-short-of-estimates-but-revenue-beats-mark-46008a7e)\n"
      ],
      "text/plain": [
       "<IPython.core.display.Markdown object>"
      ]
     },
     "metadata": {},
     "output_type": "display_data"
    },
    {
     "data": {
      "text/markdown": [
       "[2023-07-19 12:42:29 SeekingAlpha - CISO Global acquires SB Cyber Technologies](https://seekingalpha.com/news/3988688-ciso-global-acquires-sb-cyber-technologies?utm_source=feed_news_m_a&utm_medium=referral)\n"
      ],
      "text/plain": [
       "<IPython.core.display.Markdown object>"
      ]
     },
     "metadata": {},
     "output_type": "display_data"
    },
    {
     "data": {
      "text/markdown": [
       "[2023-07-19 12:39:33 SeekingAlpha - Microsoft, Activision extend deal deadline until Oct. 18](https://seekingalpha.com/news/3988684-microsoft-activision-extend-deal-deadline-until-oct-18?utm_source=feed_news_m_a&utm_medium=referral)\n"
      ],
      "text/plain": [
       "<IPython.core.display.Markdown object>"
      ]
     },
     "metadata": {},
     "output_type": "display_data"
    },
    {
     "data": {
      "text/markdown": [
       "[2023-07-19 12:30:25 Forexlive - US June housing starts 1.434M versus 1.480M estimate](https://www.forexlive.com/news/us-june-housing-starts-1434m-versus-1480m-estimate-20230719/)\n"
      ],
      "text/plain": [
       "<IPython.core.display.Markdown object>"
      ]
     },
     "metadata": {},
     "output_type": "display_data"
    },
    {
     "data": {
      "text/markdown": [
       "[2023-07-19 12:30:00 GlobalNewswire - Zero Turn Mowers Market Set to Soar Past USD 1850 Billion by 2030 | Skyquest Technology](https://www.globenewswire.com/news-release/2023/07/19/2707298/0/en/Zero-Turn-Mowers-Market-Set-to-Soar-Past-USD-1850-Billion-by-2030-Skyquest-Technology.html)\n"
      ],
      "text/plain": [
       "<IPython.core.display.Markdown object>"
      ]
     },
     "metadata": {},
     "output_type": "display_data"
    },
    {
     "data": {
      "text/markdown": [
       "[2023-07-19 12:30:00 BusinessWire - Mastek to acquire BizAnalytica, Scaling Digital, Data Cloud and Generative AI Capabilities with Expanded Global Footprint](http://www.businesswire.com/news/home/20230719290020/en/Mastek-to-acquire-BizAnalytica-Scaling-Digital-Data-Cloud-and-Generative-AI-Capabilities-with-Expanded-Global-Footprint/?feedref=JjAwJuNHiystnCoBq_hl-Rc4vIAVcHHkbDcwJimU8QtrtlakeQ9hNboBqTAWIjTge3KWq9s9jif-UkBjBsFRyYAbRTSLTc1mgvhPlnaBA55M-oupQnb)\n"
      ],
      "text/plain": [
       "<IPython.core.display.Markdown object>"
      ]
     },
     "metadata": {},
     "output_type": "display_data"
    },
    {
     "data": {
      "text/markdown": [
       "[2023-07-19 12:27:33 Dailyfx - Dollar Index (DXY) Eyes Deeper Recovery with USD/CHF at 12-Year Lows](https://www.dailyfx.com/news/forex-dollar-index-dxy-eyes-deeper-recovery-with-usd-chf-at-12-year-lows-20230719.html)\n"
      ],
      "text/plain": [
       "<IPython.core.display.Markdown object>"
      ]
     },
     "metadata": {},
     "output_type": "display_data"
    },
    {
     "data": {
      "text/markdown": [
       "[2023-07-19 12:22:00 MarketWatch - Metals Stocks: Gold prices slip from 6-week high as U.S. dollar firms](https://www.marketwatch.com/story/gold-prices-slip-from-6-week-high-as-u-s-dollar-firms-82801b7)\n"
      ],
      "text/plain": [
       "<IPython.core.display.Markdown object>"
      ]
     },
     "metadata": {},
     "output_type": "display_data"
    },
    {
     "data": {
      "text/markdown": [
       "[2023-07-19 12:20:00 Cointelegraph - What is extended reality (XR), explained](https://cointelegraph.com/explained/what-is-extended-reality-xr-explained)\n"
      ],
      "text/plain": [
       "<IPython.core.display.Markdown object>"
      ]
     },
     "metadata": {},
     "output_type": "display_data"
    },
    {
     "data": {
      "text/markdown": [
       "[2023-07-19 12:19:06 SeekingAlpha - Enterprise 4.0 Technology Acquisition to liquidate on inability to consummate merger](https://seekingalpha.com/news/3988671-enterprise-40-technology-acquisition-to-liquidate-on-inability-to-consummate-merger?utm_source=feed_news_m_a&utm_medium=referral)\n"
      ],
      "text/plain": [
       "<IPython.core.display.Markdown object>"
      ]
     },
     "metadata": {},
     "output_type": "display_data"
    },
    {
     "data": {
      "text/markdown": [
       "[2023-07-19 12:12:42 SeekingAlpha - FTC, DOJ release new guidelines on mergers and acquistions](https://seekingalpha.com/news/3988669-ftc-doj-release-new-guidelines-on-mergers-and-acquistions?utm_source=feed_news_m_a&utm_medium=referral)\n"
      ],
      "text/plain": [
       "<IPython.core.display.Markdown object>"
      ]
     },
     "metadata": {},
     "output_type": "display_data"
    },
    {
     "data": {
      "text/markdown": [
       "[2023-07-19 12:07:00 Cointelegraph - 5 Free data set sources to use for data science projects](https://cointelegraph.com/news/5-free-dataset-sources)\n"
      ],
      "text/plain": [
       "<IPython.core.display.Markdown object>"
      ]
     },
     "metadata": {},
     "output_type": "display_data"
    },
    {
     "data": {
      "text/markdown": [
       "[2023-07-19 12:06:45 CNBC - Stocks making the biggest moves premarket: Carvana, Joby Aviation, Goldman Sachs, Interactive Brokers and more](https://www.cnbc.com/2023/07/19/stocks-making-the-biggest-moves-premarket-carvana-joby-aviation-goldman-sachs-interactive-brokers-and-more.html)\n"
      ],
      "text/plain": [
       "<IPython.core.display.Markdown object>"
      ]
     },
     "metadata": {},
     "output_type": "display_data"
    },
    {
     "data": {
      "text/markdown": [
       "[2023-07-19 12:01:00 CoinDesk - First Mover Americas: Investors Pile Into Bitcoin ETPs Following BlackRock ETF Filing](https://www.coindesk.com/markets/2023/07/19/first-mover-americas-investors-pile-into-bitcoin-etps-following-blackrock-etf-filing/?utm_medium=referral&utm_source=rss&utm_campaign=headlines)\n"
      ],
      "text/plain": [
       "<IPython.core.display.Markdown object>"
      ]
     },
     "metadata": {},
     "output_type": "display_data"
    },
    {
     "data": {
      "text/markdown": [
       "[2023-07-19 12:00:00 GlobalNewswire - Update on the Regulatory Approvals of the Tender Offer: GF Announced Expiration of U.S. Hart-Scott-Rodino Waiting period](https://www.globenewswire.com/news-release/2023/07/19/2707235/0/en/Update-on-the-Regulatory-Approvals-of-the-Tender-Offer-GF-Announced-Expiration-of-U-S-Hart-Scott-Rodino-Waiting-period.html)\n"
      ],
      "text/plain": [
       "<IPython.core.display.Markdown object>"
      ]
     },
     "metadata": {},
     "output_type": "display_data"
    },
    {
     "data": {
      "text/markdown": [
       "[2023-07-19 12:00:00 GlobalNewswire - Ostotarjouksen viranomaishyväksyntöjä koskeva päivitys: GF on ilmoittanut Yhdysvaltain Hart-Scott-Rodino-käsittelyajan päättymisestä](https://www.globenewswire.com/news-release/2023/07/19/2707235/0/fi/Ostotarjouksen-viranomaishyv%C3%A4ksynt%C3%B6j%C3%A4-koskeva-p%C3%A4ivitys-GF-on-ilmoittanut-Yhdysvaltain-Hart-Scott-Rodino-k%C3%A4sittelyajan-p%C3%A4%C3%A4ttymisest%C3%A4.html)\n"
      ],
      "text/plain": [
       "<IPython.core.display.Markdown object>"
      ]
     },
     "metadata": {},
     "output_type": "display_data"
    },
    {
     "data": {
      "text/markdown": [
       "[2023-07-19 11:58:00 GlobalNewswire - Golden Tag Provides Update on Acquisition of the La Parrilla Silver Mine Complex and Related Financing](https://www.globenewswire.com/news-release/2023/07/19/2707218/0/en/Golden-Tag-Provides-Update-on-Acquisition-of-the-La-Parrilla-Silver-Mine-Complex-and-Related-Financing.html)\n"
      ],
      "text/plain": [
       "<IPython.core.display.Markdown object>"
      ]
     },
     "metadata": {},
     "output_type": "display_data"
    },
    {
     "data": {
      "text/markdown": [
       "[2023-07-19 11:57:13 Forexlive - ForexLive European FX news wrap: Pound slides as UK inflation eases a little](https://www.forexlive.com/news/forexlive-european-fx-news-wrap-pound-slides-as-uk-inflation-eases-a-little-20230719/)\n"
      ],
      "text/plain": [
       "<IPython.core.display.Markdown object>"
      ]
     },
     "metadata": {},
     "output_type": "display_data"
    },
    {
     "data": {
      "text/markdown": [
       "[2023-07-19 11:51:30 Cointelegraph - Societe General’s subsidiary becomes the first fully licensed crypto provider in France](https://cointelegraph.com/news/crypto-societe-general-s-subsidiary-becomes-the-first-fully-licensed-crypto-provider-in-france)\n"
      ],
      "text/plain": [
       "<IPython.core.display.Markdown object>"
      ]
     },
     "metadata": {},
     "output_type": "display_data"
    },
    {
     "data": {
      "text/markdown": [
       "[2023-07-19 11:45:15 SeekingAlpha - European probe of Amazon's planned purchase of iRobot sees delay](https://seekingalpha.com/news/3988660-european-probe-of-amazons-planned-purchase-of-irobot-sees-delay?utm_source=feed_news_m_a&utm_medium=referral)\n"
      ],
      "text/plain": [
       "<IPython.core.display.Markdown object>"
      ]
     },
     "metadata": {},
     "output_type": "display_data"
    },
    {
     "data": {
      "text/markdown": [
       "[2023-07-19 11:38:43 SeekingAlpha - Harrow acquires US and Canadian commercial rights for Santen’s Ophthalmic products](https://seekingalpha.com/news/3988657-harrow-acquires-us-and-canadian-commercial-rights-for-santens-ophthalmic-products?utm_source=feed_news_m_a&utm_medium=referral)\n"
      ],
      "text/plain": [
       "<IPython.core.display.Markdown object>"
      ]
     },
     "metadata": {},
     "output_type": "display_data"
    },
    {
     "data": {
      "text/markdown": [
       "[2023-07-19 11:36:13 Cointelegraph - Hong Kong would not go crypto without China’s approval: Animoca exec](https://cointelegraph.com/news/crypto-web3-animoca-hong-kong-would-not-go-crypto-without-approval-of-china-says-animoca-exec)\n"
      ],
      "text/plain": [
       "<IPython.core.display.Markdown object>"
      ]
     },
     "metadata": {},
     "output_type": "display_data"
    },
    {
     "data": {
      "text/markdown": [
       "[2023-07-19 11:35:00 MarketWatch - The Ratings Game: AT&T’s stock is on track for first gain in 11 sessions as lead update sparks relief](https://www.marketwatch.com/story/at-ts-stock-is-on-track-for-first-gain-in-11-sessions-as-lead-update-sparks-relief-48792481)\n"
      ],
      "text/plain": [
       "<IPython.core.display.Markdown object>"
      ]
     },
     "metadata": {},
     "output_type": "display_data"
    },
    {
     "data": {
      "text/markdown": [
       "[2023-07-19 11:34:00 MarketWatch - Futures Movers: Oil buoyed ahead of U.S. supply data](https://www.marketwatch.com/story/oil-buoyed-ahead-of-u-s-supply-data-ddfc0a77)\n"
      ],
      "text/plain": [
       "<IPython.core.display.Markdown object>"
      ]
     },
     "metadata": {},
     "output_type": "display_data"
    },
    {
     "data": {
      "text/markdown": [
       "[2023-07-19 11:30:00 BusinessWire - Altus Power Announces Acquisition of 4.4 MW Portfolio in Southern California](http://www.businesswire.com/news/home/20230719873490/en/Altus-Power-Announces-Acquisition-of-4.4-MW-Portfolio-in-Southern-California/?feedref=JjAwJuNHiystnCoBq_hl-Rc4vIAVcHHkbDcwJimU8QtrtlakeQ9hNboBqTAWIjTge3KWq9s9jif-UkBjBsFRyYAbRTSLTc1mgvhPlnaBA55M-oupQnbXnhKsYk8RmHF_kAy2gZikaX3QWV6xOvgFlA==)\n"
      ],
      "text/plain": [
       "<IPython.core.display.Markdown object>"
      ]
     },
     "metadata": {},
     "output_type": "display_data"
    },
    {
     "data": {
      "text/markdown": [
       "[2023-07-19 11:28:00 MarketWatch - Market Extra: ‘Dollar smile’ theory says the currency will weaken further, but some believe the framework could use an update](https://www.marketwatch.com/story/dollar-smile-theory-says-the-currency-will-weaken-further-but-some-believe-the-framework-could-use-an-update-93594a19)\n"
      ],
      "text/plain": [
       "<IPython.core.display.Markdown object>"
      ]
     },
     "metadata": {},
     "output_type": "display_data"
    },
    {
     "data": {
      "text/markdown": [
       "[2023-07-19 11:23:00 MarketWatch - The Tell: U.S. dollar could soon wipe out all of its post-pandemic gains, Soc Gen strategist warns](https://www.marketwatch.com/story/u-s-dollar-could-soon-wipe-out-all-of-its-post-pandemic-gains-soc-gen-strategist-warns-4c559410)\n"
      ],
      "text/plain": [
       "<IPython.core.display.Markdown object>"
      ]
     },
     "metadata": {},
     "output_type": "display_data"
    },
    {
     "data": {
      "text/markdown": [
       "[2023-07-19 11:21:16 SeekingAlpha - Stratasys rejects Nano Dimension's revised $25/shr partial tender](https://seekingalpha.com/news/3988647-stratasys-rejects-nano-dimensions-revised-25shr-partial-tender?utm_source=feed_news_m_a&utm_medium=referral)\n"
      ],
      "text/plain": [
       "<IPython.core.display.Markdown object>"
      ]
     },
     "metadata": {},
     "output_type": "display_data"
    },
    {
     "data": {
      "text/markdown": [
       "[2023-07-19 11:19:14 SeekingAlpha - Broadcom's acquisition of VMware gets provisional clearance in UK](https://seekingalpha.com/news/3988644-broadcoms-acquisition-of-vmware-gets-conditional-approval-in-uk?utm_source=feed_news_m_a&utm_medium=referral)\n"
      ],
      "text/plain": [
       "<IPython.core.display.Markdown object>"
      ]
     },
     "metadata": {},
     "output_type": "display_data"
    },
    {
     "data": {
      "text/markdown": [
       "[2023-07-19 11:19:08 Forexlive - US MBA mortgage applications w.e. 14 July +1.1% vs +0.9% prior](https://www.forexlive.com/news/us-mba-mortgage-applications-we-14-july-11-vs-09-prior-20230719/)\n"
      ],
      "text/plain": [
       "<IPython.core.display.Markdown object>"
      ]
     },
     "metadata": {},
     "output_type": "display_data"
    },
    {
     "data": {
      "text/markdown": [
       "[2023-07-19 11:14:01 SeekingAlpha - ATS acquires Odyssey Validation Consultants](https://seekingalpha.com/news/3988643-ats-acquires-odyssey-validation-consultants?utm_source=feed_news_m_a&utm_medium=referral)\n"
      ],
      "text/plain": [
       "<IPython.core.display.Markdown object>"
      ]
     },
     "metadata": {},
     "output_type": "display_data"
    },
    {
     "data": {
      "text/markdown": [
       "[2023-07-19 11:04:00 Dailyfx - Australia Roundup: ASX 200 Rises on Weaker AUD, Iron Ore Reversal Potential](https://www.dailyfx.com/news/australia-roundup-asx-200-rises-on-weaker-aud-iron-ore-reversal-potential-20230719.html)\n"
      ],
      "text/plain": [
       "<IPython.core.display.Markdown object>"
      ]
     },
     "metadata": {},
     "output_type": "display_data"
    },
    {
     "data": {
      "text/markdown": [
       "[2023-07-19 10:59:30 Cointelegraph - Celsius could repay all USD claims if Bitcoin, Ether prices rose by 2X: Simon Dixon](https://cointelegraph.com/news/celsius-bitcoin-ether-celsius-could-repay-all-usd-claims-if-bitcoin-and-ether-price-rise-by-2-x-simon-dixon)\n"
      ],
      "text/plain": [
       "<IPython.core.display.Markdown object>"
      ]
     },
     "metadata": {},
     "output_type": "display_data"
    },
    {
     "data": {
      "text/markdown": [
       "[2023-07-19 10:44:38 Cointelegraph - Litecoin halving is 13 days away — So where is the LTC price rally?](https://cointelegraph.com/news/litecoin-halving-where-is-ltc-price-rally)\n"
      ],
      "text/plain": [
       "<IPython.core.display.Markdown object>"
      ]
     },
     "metadata": {},
     "output_type": "display_data"
    },
    {
     "data": {
      "text/markdown": [
       "[2023-07-19 10:44:00 MarketWatch - Need to Know: What happened in Beijing? Here are two theories on what it means for markets](https://www.marketwatch.com/story/what-happened-in-beijing-here-are-two-theories-on-what-it-means-for-markets-8e9c9e96)\n"
      ],
      "text/plain": [
       "<IPython.core.display.Markdown object>"
      ]
     },
     "metadata": {},
     "output_type": "display_data"
    },
    {
     "data": {
      "text/markdown": [
       "[2023-07-19 10:33:00 GlobalNewswire - Form 8.3 - [EMIS Group plc - 18 07 2023] - (CGWL)](https://www.globenewswire.com/news-release/2023/07/19/2707138/0/en/Form-8-3-EMIS-Group-plc-18-07-2023-CGWL.html)\n"
      ],
      "text/plain": [
       "<IPython.core.display.Markdown object>"
      ]
     },
     "metadata": {},
     "output_type": "display_data"
    },
    {
     "data": {
      "text/markdown": [
       "[2023-07-19 10:32:50 CoinDesk - U.S. Presidential Candidate RFK Jr. Vows to Exempt Crypto From Capital Gains Tax if Elected](https://www.coindesk.com/policy/2023/07/19/us-presidential-candidate-rfk-jr-vows-to-exempt-crypto-from-capital-gains-tax-if-elected/?utm_medium=referral&utm_source=rss&utm_campaign=headlines)\n"
      ],
      "text/plain": [
       "<IPython.core.display.Markdown object>"
      ]
     },
     "metadata": {},
     "output_type": "display_data"
    },
    {
     "data": {
      "text/markdown": [
       "[2023-07-19 10:32:00 MarketWatch - Movers & Shakers: Netflix stock nudges higher ahead of results, Carvana shares slide and other stocks on the move](https://www.marketwatch.com/story/netflix-stock-nudges-higher-ahead-of-results-carvana-shares-slide-and-other-stocks-on-the-move-6f2ef904)\n"
      ],
      "text/plain": [
       "<IPython.core.display.Markdown object>"
      ]
     },
     "metadata": {},
     "output_type": "display_data"
    },
    {
     "data": {
      "text/markdown": [
       "[2023-07-19 10:30:00 MarketWatch - : Why are actors, writers, hotel workers and grad students on strike? They’re fed up with ‘exorbitant and rising inequality.’](https://www.marketwatch.com/story/why-are-actors-writers-hotel-workers-and-grad-students-on-strike-theyre-fed-up-with-exorbitant-and-rising-inequality-95133c94)\n"
      ],
      "text/plain": [
       "<IPython.core.display.Markdown object>"
      ]
     },
     "metadata": {},
     "output_type": "display_data"
    },
    {
     "data": {
      "text/markdown": [
       "[2023-07-19 10:30:00 GlobalNewswire - Face Shield Market Set to Soar Past USD 1.4 Billion by 2030 | Skyquest Technology](https://www.globenewswire.com/news-release/2023/07/19/2707134/0/en/Face-Shield-Market-Set-to-Soar-Past-USD-1-4-Billion-by-2030-Skyquest-Technology.html)\n"
      ],
      "text/plain": [
       "<IPython.core.display.Markdown object>"
      ]
     },
     "metadata": {},
     "output_type": "display_data"
    },
    {
     "data": {
      "text/markdown": [
       "[2023-07-19 10:01:57 Forexlive - USD/JPY moves towards 140.00 as Ueda casts doubts on imminent policy tweak](https://www.forexlive.com/news/usdjpy-moves-towards-14000-as-ueda-casts-doubts-on-imminent-policy-tweak-20230719/)\n"
      ],
      "text/plain": [
       "<IPython.core.display.Markdown object>"
      ]
     },
     "metadata": {},
     "output_type": "display_data"
    },
    {
     "data": {
      "text/markdown": [
       "[2023-07-19 09:50:00 MarketWatch - Bond Report: Treasury yields dip as lower U.K. inflation sparks broad bond rally](https://www.marketwatch.com/story/treasury-yields-dip-as-lower-u-k-inflation-sparks-broad-bond-rally-7e41ee59)\n"
      ],
      "text/plain": [
       "<IPython.core.display.Markdown object>"
      ]
     },
     "metadata": {},
     "output_type": "display_data"
    },
    {
     "data": {
      "text/markdown": [
       "[2023-07-19 09:34:53 Cointelegraph - Bitcoin miners hedging with recent sell-offs - Bitfinex report](https://cointelegraph.com/news/bitcoin-miners-selling-btc-as-hedge-bitfinex)\n"
      ],
      "text/plain": [
       "<IPython.core.display.Markdown object>"
      ]
     },
     "metadata": {},
     "output_type": "display_data"
    },
    {
     "data": {
      "text/markdown": [
       "[2023-07-19 09:33:16 Cointelegraph - Vitalik Buterin becomes NFT, Neopets transitions into non-crypto game and more](https://cointelegraph.com/news/ethereum-vitalik-buterin-becomes-nft-neopets-transitions-into-non-crypto-game-and-more)\n"
      ],
      "text/plain": [
       "<IPython.core.display.Markdown object>"
      ]
     },
     "metadata": {},
     "output_type": "display_data"
    },
    {
     "data": {
      "text/markdown": [
       "[2023-07-19 09:31:00 GlobalNewswire - Modular Construction Market Size [2023-2030] worth $131.58 Billion by 2030 | Exhibiting CAGR of 6.5%](https://www.globenewswire.com/news-release/2023/07/19/2707066/0/en/Modular-Construction-Market-Size-2023-2030-worth-131-58-Billion-by-2030-Exhibiting-CAGR-of-6-5.html)\n"
      ],
      "text/plain": [
       "<IPython.core.display.Markdown object>"
      ]
     },
     "metadata": {},
     "output_type": "display_data"
    },
    {
     "data": {
      "text/markdown": [
       "[2023-07-19 09:30:00 Dailyfx - Japanese Yen Latest: GBP/JPY Slides Lower After UK CPI Miss](https://www.dailyfx.com/news/japanese-yen-latest-gbp-jpy-slides-lower-after-uk-cpi-miss-20230719.html)\n"
      ],
      "text/plain": [
       "<IPython.core.display.Markdown object>"
      ]
     },
     "metadata": {},
     "output_type": "display_data"
    },
    {
     "data": {
      "text/markdown": [
       "[2023-07-19 09:24:00 GlobalNewswire - Form 8.3 - LondonMetric Property PLC](https://www.globenewswire.com/news-release/2023/07/19/2707060/0/en/Form-8-3-LondonMetric-Property-PLC.html)\n"
      ],
      "text/plain": [
       "<IPython.core.display.Markdown object>"
      ]
     },
     "metadata": {},
     "output_type": "display_data"
    },
    {
     "data": {
      "text/markdown": [
       "[2023-07-19 09:09:00 GlobalNewswire - Everything as a Service Market Size to Surpass USD 3221.96 Billion by 2030, exhibiting a CAGR of 24.4%](https://www.globenewswire.com/news-release/2023/07/19/2707053/0/en/Everything-as-a-Service-Market-Size-to-Surpass-USD-3221-96-Billion-by-2030-exhibiting-a-CAGR-of-24-4.html)\n"
      ],
      "text/plain": [
       "<IPython.core.display.Markdown object>"
      ]
     },
     "metadata": {},
     "output_type": "display_data"
    },
    {
     "data": {
      "text/markdown": [
       "[2023-07-19 09:07:10 Forexlive - WTI Crude Oil Technical Analysis](https://www.forexlive.com/technical-analysis/wti-crude-oil-technical-analysis-20230719/)\n"
      ],
      "text/plain": [
       "<IPython.core.display.Markdown object>"
      ]
     },
     "metadata": {},
     "output_type": "display_data"
    },
    {
     "data": {
      "text/markdown": [
       "[2023-07-19 09:06:00 GlobalNewswire - Dimensional Fund Advisors Ltd. : Form 8.3 - LOOKERS PLC - Ordinary Shares](https://www.globenewswire.com/news-release/2023/07/19/2707051/0/en/Dimensional-Fund-Advisors-Ltd-Form-8-3-LOOKERS-PLC-Ordinary-Shares.html)\n"
      ],
      "text/plain": [
       "<IPython.core.display.Markdown object>"
      ]
     },
     "metadata": {},
     "output_type": "display_data"
    },
    {
     "data": {
      "text/markdown": [
       "[2023-07-19 09:04:00 GlobalNewswire - Dimensional Fund Advisors Ltd. : Form 8.3 - Londonmetric Property PLC - Ordinary Shares](https://www.globenewswire.com/news-release/2023/07/19/2707050/0/en/Dimensional-Fund-Advisors-Ltd-Form-8-3-Londonmetric-Property-PLC-Ordinary-Shares.html)\n"
      ],
      "text/plain": [
       "<IPython.core.display.Markdown object>"
      ]
     },
     "metadata": {},
     "output_type": "display_data"
    },
    {
     "data": {
      "text/markdown": [
       "[2023-07-19 09:03:00 GlobalNewswire - Dimensional Fund Advisors Ltd. : Form 8.3 - CT PROPERTY TRUST LTD - Ordinary Shares](https://www.globenewswire.com/news-release/2023/07/19/2707047/0/en/Dimensional-Fund-Advisors-Ltd-Form-8-3-CT-PROPERTY-TRUST-LTD-Ordinary-Shares.html)\n"
      ],
      "text/plain": [
       "<IPython.core.display.Markdown object>"
      ]
     },
     "metadata": {},
     "output_type": "display_data"
    },
    {
     "data": {
      "text/markdown": [
       "[2023-07-19 09:02:00 MarketWatch - Kelley Blue Book: The 2024 Kia Seltos review: A great SUV gets even better](https://www.marketwatch.com/story/the-2024-kia-seltos-review-a-great-suv-gets-even-better-2e15c6f4)\n"
      ],
      "text/plain": [
       "<IPython.core.display.Markdown object>"
      ]
     },
     "metadata": {},
     "output_type": "display_data"
    },
    {
     "data": {
      "text/markdown": [
       "[2023-07-19 09:01:00 GlobalNewswire - Smart Building Market Size to Surpass USD 408.21 Billion by 2030, exhibiting a CAGR of 22.8%](https://www.globenewswire.com/news-release/2023/07/19/2707046/0/en/Smart-Building-Market-Size-to-Surpass-USD-408-21-Billion-by-2030-exhibiting-a-CAGR-of-22-8.html)\n"
      ],
      "text/plain": [
       "<IPython.core.display.Markdown object>"
      ]
     },
     "metadata": {},
     "output_type": "display_data"
    },
    {
     "data": {
      "text/markdown": [
       "[2023-07-19 09:01:00 MarketWatch - Next Avenue: Why I walked the Camino de Santiago at 75](https://www.marketwatch.com/story/why-i-walked-the-camino-de-santiago-at-75-f107c4f5)\n"
      ],
      "text/plain": [
       "<IPython.core.display.Markdown object>"
      ]
     },
     "metadata": {},
     "output_type": "display_data"
    },
    {
     "data": {
      "text/markdown": [
       "[2023-07-19 09:01:00 MarketWatch - NerdWallet: $850 for a campsite? Glamping is taking off, despite the steep price tags.](https://www.marketwatch.com/story/850-for-a-campsite-glamping-is-taking-off-despite-the-steep-price-tags-ce2cc756)\n"
      ],
      "text/plain": [
       "<IPython.core.display.Markdown object>"
      ]
     },
     "metadata": {},
     "output_type": "display_data"
    },
    {
     "data": {
      "text/markdown": [
       "[2023-07-19 09:00:00 MarketWatch - NerdWallet: Yes, car insurance rates are still rising. This is why, and what you can do about it.](https://www.marketwatch.com/story/yes-car-insurance-rates-are-still-rising-this-is-why-and-what-you-can-do-about-it-1bbb5ebc)\n"
      ],
      "text/plain": [
       "<IPython.core.display.Markdown object>"
      ]
     },
     "metadata": {},
     "output_type": "display_data"
    },
    {
     "data": {
      "text/markdown": [
       "[2023-07-19 08:59:54 CoinDesk - 1Inch Token Balance on Centralized Exchanges Surges to $65M](https://www.coindesk.com/markets/2023/07/19/1inch-token-balance-on-centralized-exchanges-surges-to-65m/?utm_medium=referral&utm_source=rss&utm_campaign=headlines)\n"
      ],
      "text/plain": [
       "<IPython.core.display.Markdown object>"
      ]
     },
     "metadata": {},
     "output_type": "display_data"
    },
    {
     "data": {
      "text/markdown": [
       "[2023-07-19 08:59:00 GlobalNewswire - Network as a Service Market Size to Surpass USD 155.17 billion by 2030, exhibiting a CAGR of 35.3%](https://www.globenewswire.com/news-release/2023/07/19/2707045/0/en/Network-as-a-Service-Market-Size-to-Surpass-USD-155-17-billion-by-2030-exhibiting-a-CAGR-of-35-3.html)\n"
      ],
      "text/plain": [
       "<IPython.core.display.Markdown object>"
      ]
     },
     "metadata": {},
     "output_type": "display_data"
    },
    {
     "data": {
      "text/markdown": [
       "[2023-07-19 08:49:00 GlobalNewswire - Colorectal Cancer Screening Market Size to Surpass USD 23.03 billion by 2030, exhibiting a CAGR of 4.4%](https://www.globenewswire.com/news-release/2023/07/19/2707034/0/en/Colorectal-Cancer-Screening-Market-Size-to-Surpass-USD-23-03-billion-by-2030-exhibiting-a-CAGR-of-4-4.html)\n"
      ],
      "text/plain": [
       "<IPython.core.display.Markdown object>"
      ]
     },
     "metadata": {},
     "output_type": "display_data"
    },
    {
     "data": {
      "text/markdown": [
       "[2023-07-19 08:46:00 GlobalNewswire - Cosmetic Surgery Market Size to Surpass USD 75.20 Billion by 2030, exhibiting a CAGR of 3.9%](https://www.globenewswire.com/news-release/2023/07/19/2707032/0/en/Cosmetic-Surgery-Market-Size-to-Surpass-USD-75-20-Billion-by-2030-exhibiting-a-CAGR-of-3-9.html)\n"
      ],
      "text/plain": [
       "<IPython.core.display.Markdown object>"
      ]
     },
     "metadata": {},
     "output_type": "display_data"
    },
    {
     "data": {
      "text/markdown": [
       "[2023-07-19 08:45:00 GlobalNewswire - Limb Prosthetics Market Size to Surpass USD 2.44 Billion by 2030, at a CAGR of 5.5%](https://www.globenewswire.com/news-release/2023/07/19/2707031/0/en/Limb-Prosthetics-Market-Size-to-Surpass-USD-2-44-Billion-by-2030-at-a-CAGR-of-5-5.html)\n"
      ],
      "text/plain": [
       "<IPython.core.display.Markdown object>"
      ]
     },
     "metadata": {},
     "output_type": "display_data"
    },
    {
     "data": {
      "text/markdown": [
       "[2023-07-19 08:44:00 GlobalNewswire - Digital PCR Market Size to Surpass USD 2,379.9 Million in 2030, at a CAGR of 22.2%](https://www.globenewswire.com/news-release/2023/07/19/2707030/0/en/Digital-PCR-Market-Size-to-Surpass-USD-2-379-9-Million-in-2030-at-a-CAGR-of-22-2.html)\n"
      ],
      "text/plain": [
       "<IPython.core.display.Markdown object>"
      ]
     },
     "metadata": {},
     "output_type": "display_data"
    },
    {
     "data": {
      "text/markdown": [
       "[2023-07-19 08:39:30 Forexlive - Aussie holds lower on softer Chinese yuan today](https://www.forexlive.com/news/aussie-holds-lower-on-softer-chinese-yuan-today-20230719/)\n"
      ],
      "text/plain": [
       "<IPython.core.display.Markdown object>"
      ]
     },
     "metadata": {},
     "output_type": "display_data"
    },
    {
     "data": {
      "text/markdown": [
       "[2023-07-19 08:33:00 MarketWatch - Market Snapshot: Wall Street eyes best open in 15 months amid earnings optimism](https://www.marketwatch.com/story/wall-street-eyes-best-open-in-15-months-amid-earnings-optimism-8954be34)\n"
      ],
      "text/plain": [
       "<IPython.core.display.Markdown object>"
      ]
     },
     "metadata": {},
     "output_type": "display_data"
    },
    {
     "data": {
      "text/markdown": [
       "[2023-07-19 08:26:00 GlobalNewswire - Rule 8.3 - Ediston Property Investment Company plc](https://www.globenewswire.com/news-release/2023/07/19/2707019/0/en/Rule-8-3-Ediston-Property-Investment-Company-plc.html)\n"
      ],
      "text/plain": [
       "<IPython.core.display.Markdown object>"
      ]
     },
     "metadata": {},
     "output_type": "display_data"
    },
    {
     "data": {
      "text/markdown": [
       "[2023-07-19 08:19:00 GlobalNewswire - Smart Manufacturing Market Size to Rise $754.1 billion at CAGR 13.5% by 2030](https://www.globenewswire.com/news-release/2023/07/19/2707017/0/en/Smart-Manufacturing-Market-Size-to-Rise-754-1-billion-at-CAGR-13-5-by-2030.html)\n"
      ],
      "text/plain": [
       "<IPython.core.display.Markdown object>"
      ]
     },
     "metadata": {},
     "output_type": "display_data"
    },
    {
     "data": {
      "text/markdown": [
       "[2023-07-19 08:12:16 Cointelegraph - Dormant pre-mined Ethereum worth $116M resurrects after 8 years](https://cointelegraph.com/news/pre-mined-ethereum-worth-116m-resurrects-after-8-years)\n"
      ],
      "text/plain": [
       "<IPython.core.display.Markdown object>"
      ]
     },
     "metadata": {},
     "output_type": "display_data"
    },
    {
     "data": {
      "text/markdown": [
       "[2023-07-19 08:03:20 Forexlive - Copper Technical Analysis](https://www.forexlive.com/technical-analysis/copper-technical-analysis-20230719/)\n"
      ],
      "text/plain": [
       "<IPython.core.display.Markdown object>"
      ]
     },
     "metadata": {},
     "output_type": "display_data"
    },
    {
     "data": {
      "text/markdown": [
       "[2023-07-19 08:00:38 Dailyfx - Stock indices continue to rise on solid U.S. earnings and weaker UK CPI](https://www.dailyfx.com/news/stock-indices-continue-to-rise-on-solid-u-s-earnings-and-weaker-uk-cpi-20230719.html)\n"
      ],
      "text/plain": [
       "<IPython.core.display.Markdown object>"
      ]
     },
     "metadata": {},
     "output_type": "display_data"
    },
    {
     "data": {
      "text/markdown": [
       "[2023-07-19 07:51:28 Forexlive - UK bond yields sharply lower after inflation data earlier](https://www.forexlive.com/news/uk-bond-yields-sharply-lower-after-inflation-data-earlier-20230719/)\n"
      ],
      "text/plain": [
       "<IPython.core.display.Markdown object>"
      ]
     },
     "metadata": {},
     "output_type": "display_data"
    },
    {
     "data": {
      "text/markdown": [
       "[2023-07-19 07:42:00 MarketWatch - : Pound and U.K. bond yields slide after Britain’s inflation hits lowest in more than a year](https://www.marketwatch.com/story/pound-and-u-k-bond-yields-slide-after-britains-inflation-hits-lowest-in-more-than-a-year-ae413f27)\n"
      ],
      "text/plain": [
       "<IPython.core.display.Markdown object>"
      ]
     },
     "metadata": {},
     "output_type": "display_data"
    },
    {
     "data": {
      "text/markdown": [
       "[2023-07-19 07:30:00 GlobalNewswire - Surface Disinfectant Market to Worth USD 9.49 Billion by 2030 | Skyquest Technology](https://www.globenewswire.com/news-release/2023/07/19/2707008/0/en/Surface-Disinfectant-Market-to-Worth-USD-9-49-Billion-by-2030-Skyquest-Technology.html)\n"
      ],
      "text/plain": [
       "<IPython.core.display.Markdown object>"
      ]
     },
     "metadata": {},
     "output_type": "display_data"
    },
    {
     "data": {
      "text/markdown": [
       "[2023-07-19 07:25:00 GlobalNewswire - Form 8.5 (EPT/RI) - Glantus Holdings Plc](https://www.globenewswire.com/news-release/2023/07/19/2707007/0/en/Form-8-5-EPT-RI-Glantus-Holdings-Plc.html)\n"
      ],
      "text/plain": [
       "<IPython.core.display.Markdown object>"
      ]
     },
     "metadata": {},
     "output_type": "display_data"
    },
    {
     "data": {
      "text/markdown": [
       "[2023-07-19 07:22:07 Forexlive - Japan sees over 2 million visitors in June, the first time since the pandemic](https://www.forexlive.com/news/japan-sees-over-2-million-visitors-in-june-the-first-time-since-the-pandemic-20230719/)\n"
      ],
      "text/plain": [
       "<IPython.core.display.Markdown object>"
      ]
     },
     "metadata": {},
     "output_type": "display_data"
    },
    {
     "data": {
      "text/markdown": [
       "[2023-07-19 07:12:49 CoinDesk - Bitcoin ETPs Witness Record-Breaking Monthly Inflows: K33 Research](https://www.coindesk.com/markets/2023/07/19/bitcoin-etps-have-record-breaking-monthly-inflows/?utm_medium=referral&utm_source=rss&utm_campaign=headlines)\n"
      ],
      "text/plain": [
       "<IPython.core.display.Markdown object>"
      ]
     },
     "metadata": {},
     "output_type": "display_data"
    },
    {
     "data": {
      "text/markdown": [
       "[2023-07-19 07:06:00 GlobalNewswire - Carbon Dioxide Market to Worth USD 13.65 Billion by 2028 | With a 3.6% CAGR](https://www.globenewswire.com/news-release/2023/07/19/2707005/0/en/Carbon-Dioxide-Market-to-Worth-USD-13-65-Billion-by-2028-With-a-3-6-CAGR.html)\n"
      ],
      "text/plain": [
       "<IPython.core.display.Markdown object>"
      ]
     },
     "metadata": {},
     "output_type": "display_data"
    },
    {
     "data": {
      "text/markdown": [
       "[2023-07-19 07:00:00 GlobalNewswire - Satellite Based Augmentation System Market to Worth USD 2.13 Bn by 2030 | Fortune Business Insights™](https://www.globenewswire.com/news-release/2023/07/19/2707004/0/en/Satellite-Based-Augmentation-System-Market-to-Worth-USD-2-13-Bn-by-2030-Fortune-Business-Insights.html)\n"
      ],
      "text/plain": [
       "<IPython.core.display.Markdown object>"
      ]
     },
     "metadata": {},
     "output_type": "display_data"
    },
    {
     "data": {
      "text/markdown": [
       "[2023-07-19 06:57:00 GlobalNewswire - Nicotine Gum Market to Hit USD 2.17 Billion by 2029 | Fortune Business Insights™](https://www.globenewswire.com/news-release/2023/07/19/2706999/0/en/Nicotine-Gum-Market-to-Hit-USD-2-17-Billion-by-2029-Fortune-Business-Insights.html)\n"
      ],
      "text/plain": [
       "<IPython.core.display.Markdown object>"
      ]
     },
     "metadata": {},
     "output_type": "display_data"
    },
    {
     "data": {
      "text/markdown": [
       "[2023-07-19 06:51:00 GlobalNewswire - Unmanned Underwater Vehicles Market to Worth USD 9,502.7 Million by 2028 | With 17.59% CAGR duri](https://www.globenewswire.com/news-release/2023/07/19/2706998/0/en/Unmanned-Underwater-Vehicles-Market-to-Worth-USD-9-502-7-Million-by-2028-With-17-59-CAGR-duri.html)\n"
      ],
      "text/plain": [
       "<IPython.core.display.Markdown object>"
      ]
     },
     "metadata": {},
     "output_type": "display_data"
    },
    {
     "data": {
      "text/markdown": [
       "[2023-07-19 06:47:00 GlobalNewswire - Aerial Imaging Market to Worth USD 36.70 Bn by 2029 | Fortune Business Insights™](https://www.globenewswire.com/news-release/2023/07/19/2706997/0/en/Aerial-Imaging-Market-to-Worth-USD-36-70-Bn-by-2029-Fortune-Business-Insights.html)\n"
      ],
      "text/plain": [
       "<IPython.core.display.Markdown object>"
      ]
     },
     "metadata": {},
     "output_type": "display_data"
    },
    {
     "data": {
      "text/markdown": [
       "[2023-07-19 06:46:00 GlobalNewswire - Defense Cyber Security Market to Worth USD 46 Billion by 2030 | At a CAGR of 15.80%](https://www.globenewswire.com/news-release/2023/07/19/2706996/0/en/Defense-Cyber-Security-Market-to-Worth-USD-46-Billion-by-2030-At-a-CAGR-of-15-80.html)\n"
      ],
      "text/plain": [
       "<IPython.core.display.Markdown object>"
      ]
     },
     "metadata": {},
     "output_type": "display_data"
    },
    {
     "data": {
      "text/markdown": [
       "[2023-07-19 06:45:23 Dailyfx - UK (GBP) Breaking News: UK CPI Miss Troubles Pound](https://www.dailyfx.com/news/forex-uk-gbp-breaking-news-uk-cpi-miss-troubles-pound-wv-20230719.html)\n"
      ],
      "text/plain": [
       "<IPython.core.display.Markdown object>"
      ]
     },
     "metadata": {},
     "output_type": "display_data"
    },
    {
     "data": {
      "text/markdown": [
       "[2023-07-19 06:45:00 GlobalNewswire - Form 8.5 (EPT/RI) - FireAngel Safety Technology Group Plc](https://www.globenewswire.com/news-release/2023/07/19/2706994/0/en/Form-8-5-EPT-RI-FireAngel-Safety-Technology-Group-Plc.html)\n"
      ],
      "text/plain": [
       "<IPython.core.display.Markdown object>"
      ]
     },
     "metadata": {},
     "output_type": "display_data"
    },
    {
     "data": {
      "text/markdown": [
       "[2023-07-19 06:40:00 GlobalNewswire - Gaming Market Size to Worth USD 665.77 Billion by 2030 | With a 13.1% CAGR](https://www.globenewswire.com/news-release/2023/07/19/2706993/0/en/Gaming-Market-Size-to-Worth-USD-665-77-Billion-by-2030-With-a-13-1-CAGR.html)\n"
      ],
      "text/plain": [
       "<IPython.core.display.Markdown object>"
      ]
     },
     "metadata": {},
     "output_type": "display_data"
    },
    {
     "data": {
      "text/markdown": [
       "[2023-07-19 06:19:37 Forexlive - Bond yields fall further as UK inflation eases](https://www.forexlive.com/news/bond-yields-fall-further-as-uk-inflation-eases-20230719/)\n"
      ],
      "text/plain": [
       "<IPython.core.display.Markdown object>"
      ]
     },
     "metadata": {},
     "output_type": "display_data"
    },
    {
     "data": {
      "text/markdown": [
       "[2023-07-19 06:00:00 GlobalNewswire - FIEBM - Communiqué de mise à disposition du document autres informations](https://www.globenewswire.com/news-release/2023/07/19/2706979/0/fr/FIEBM-Communiqu%C3%A9-de-mise-%C3%A0-disposition-du-document-autres-informations.html)\n"
      ],
      "text/plain": [
       "<IPython.core.display.Markdown object>"
      ]
     },
     "metadata": {},
     "output_type": "display_data"
    },
    {
     "data": {
      "text/markdown": [
       "[2023-07-19 05:57:51 Forexlive - GBPJPY Technical Analysis](https://www.forexlive.com/technical-analysis/gbpjpy-technical-analysis-20230719/)\n"
      ],
      "text/plain": [
       "<IPython.core.display.Markdown object>"
      ]
     },
     "metadata": {},
     "output_type": "display_data"
    },
    {
     "data": {
      "text/markdown": [
       "[2023-07-19 05:55:07 CoinDesk - Stride Blockchain Will Move to ATOM-Powered Security Model](https://www.coindesk.com/markets/2023/07/19/stride-blockchain-will-move-to-atom-powered-security-model/?utm_medium=referral&utm_source=rss&utm_campaign=headlines)\n"
      ],
      "text/plain": [
       "<IPython.core.display.Markdown object>"
      ]
     },
     "metadata": {},
     "output_type": "display_data"
    },
    {
     "data": {
      "text/markdown": [
       "[2023-07-19 05:46:00 Cointelegraph - Robert F. Kennedy Jr vows to back US dollar with Bitcoin if elected president](https://cointelegraph.com/news/rfk-jr-will-back-us-dollar-with-bitcoin-if-president)\n"
      ],
      "text/plain": [
       "<IPython.core.display.Markdown object>"
      ]
     },
     "metadata": {},
     "output_type": "display_data"
    },
    {
     "data": {
      "text/markdown": [
       "[2023-07-19 04:35:50 Forexlive - Inflation the main focus in European trading today](https://www.forexlive.com/news/inflation-the-main-focus-in-european-trading-today-20230719/)\n"
      ],
      "text/plain": [
       "<IPython.core.display.Markdown object>"
      ]
     },
     "metadata": {},
     "output_type": "display_data"
    },
    {
     "data": {
      "text/markdown": [
       "[2023-07-19 04:30:00 Dailyfx - Euro Ahead Euro Area CPI: EUR/USD, EUR/AUD, EUR/JPY Price Setups](https://www.dailyfx.com/news/euro-ahead-euro-area-cpi-eur-usd-eur-aud-eur-jpy-price-setups-20230719.html)\n"
      ],
      "text/plain": [
       "<IPython.core.display.Markdown object>"
      ]
     },
     "metadata": {},
     "output_type": "display_data"
    },
    {
     "data": {
      "text/markdown": [
       "[2023-07-19 04:15:12 Cointelegraph - Altcoins ‘bled’ with Bitcoin's dominance hike in Q2: CoinGecko](https://cointelegraph.com/news/bitcoin-dominance-in-q2-2023-bled-altcoins-coingecko)\n"
      ],
      "text/plain": [
       "<IPython.core.display.Markdown object>"
      ]
     },
     "metadata": {},
     "output_type": "display_data"
    },
    {
     "data": {
      "text/markdown": [
       "[2023-07-19 03:41:00 Forexlive - JP Morgan says 2 factors could lead to dedollarization - and markets are not pricing it in](https://www.forexlive.com/news/jp-morgan-says-2-factors-could-lead-to-dedollarization-and-markets-are-not-pricing-it-in-20230719/)\n"
      ],
      "text/plain": [
       "<IPython.core.display.Markdown object>"
      ]
     },
     "metadata": {},
     "output_type": "display_data"
    },
    {
     "data": {
      "text/markdown": [
       "[2023-07-19 03:31:26 Cointelegraph - Australia's financial regulator cancels license for FTX's local entity](https://cointelegraph.com/news/ftx-australia-license-canceled-securities-regulator-asic)\n"
      ],
      "text/plain": [
       "<IPython.core.display.Markdown object>"
      ]
     },
     "metadata": {},
     "output_type": "display_data"
    },
    {
     "data": {
      "text/markdown": [
       "[2023-07-19 03:30:00 GlobalNewswire - Automotive Active Purge Pump Market to Worth USD 5874.47 Million by 2030 | Skyquest Technology](https://www.globenewswire.com/news-release/2023/07/19/2706965/0/en/Automotive-Active-Purge-Pump-Market-to-Worth-USD-5874-47-Million-by-2030-Skyquest-Technology.html)\n"
      ],
      "text/plain": [
       "<IPython.core.display.Markdown object>"
      ]
     },
     "metadata": {},
     "output_type": "display_data"
    },
    {
     "data": {
      "text/markdown": [
       "[2023-07-19 03:00:00 Dailyfx - Gold Jumps After Tepid US Retail Sales; What’s Next for XAU/USD After Reverse H&S Target Met?](https://www.dailyfx.com/news/gold-jumps-after-tepid-us-retail-sales-what-s-next-for-xau-usd-after-reverse-h-s-target-met-20230719.html)\n"
      ],
      "text/plain": [
       "<IPython.core.display.Markdown object>"
      ]
     },
     "metadata": {},
     "output_type": "display_data"
    },
    {
     "data": {
      "text/markdown": [
       "[2023-07-19 02:55:44 Forexlive - ForexLive Asia-Pacific FX news wrap: USD/JPY trades higher after cagey Ueda](https://www.forexlive.com/news/forexlive-asia-pacific-fx-news-wrap-usdjpy-trades-higher-after-cagey-ueda-20230719/)\n"
      ],
      "text/plain": [
       "<IPython.core.display.Markdown object>"
      ]
     },
     "metadata": {},
     "output_type": "display_data"
    },
    {
     "data": {
      "text/markdown": [
       "[2023-07-19 02:00:00 Dailyfx - Catch-up Gain in Value Sectors Overnight, Focus Remains on US Earnings: DJIA, NZD/USD,GBP/USD](https://www.dailyfx.com/news/catch-up-gain-in-value-sectors-overnight-focus-remains-on-us-earnings-djia-nzd-usd-gbp-usd-20230719.html)\n"
      ],
      "text/plain": [
       "<IPython.core.display.Markdown object>"
      ]
     },
     "metadata": {},
     "output_type": "display_data"
    },
    {
     "data": {
      "text/markdown": [
       "[2023-07-19 01:53:00 MarketWatch - : Looking for a mortgage, car loan, or boost for your credit-card limit? More lenders are saying no.](https://www.marketwatch.com/story/loan-rejection-rates-are-climbing-especially-for-people-under-a-680-credit-score-565cc468)\n"
      ],
      "text/plain": [
       "<IPython.core.display.Markdown object>"
      ]
     },
     "metadata": {},
     "output_type": "display_data"
    },
    {
     "data": {
      "text/markdown": [
       "[2023-07-19 01:38:00 MarketWatch - : Cathie Wood’s ARK funds shed more Tesla and Coinbase shares, continue Twilio buying spree](https://www.marketwatch.com/story/cathie-woods-ark-funds-shed-more-tesla-and-coinbase-shares-continue-twilio-buying-spree-7be940f1)\n"
      ],
      "text/plain": [
       "<IPython.core.display.Markdown object>"
      ]
     },
     "metadata": {},
     "output_type": "display_data"
    },
    {
     "data": {
      "text/markdown": [
       "[2023-07-19 01:34:00 Cointelegraph - Polychain Capital, Coinfund raise $350M for new crypto funds: Report](https://cointelegraph.com/news/polychain-capital-coinfund-raise-350m-for-crypto-funding)\n"
      ],
      "text/plain": [
       "<IPython.core.display.Markdown object>"
      ]
     },
     "metadata": {},
     "output_type": "display_data"
    },
    {
     "data": {
      "text/markdown": [
       "[2023-07-19 01:30:58 CoinDesk - First Mover Asia: Bitcoin Lingers Below $30K, While XRP Continues Its Rally](https://www.coindesk.com/markets/2023/07/19/first-mover-asia-bitcoin-lingers-below-30k-while-xrp-continues-its-rally/?utm_medium=referral&utm_source=rss&utm_campaign=headlines)\n"
      ],
      "text/plain": [
       "<IPython.core.display.Markdown object>"
      ]
     },
     "metadata": {},
     "output_type": "display_data"
    },
    {
     "data": {
      "text/markdown": [
       "[2023-07-19 01:30:00 GlobalNewswire - Refrigerated Transport Market to Surpass 193.32 Billion by 2030 Drives Due to Increasing Number of Small and Large Food Chains](https://www.globenewswire.com/news-release/2023/07/19/2706957/0/en/Refrigerated-Transport-Market-to-Surpass-193-32-Billion-by-2030-Drives-Due-to-Increasing-Number-of-Small-and-Large-Food-Chains.html)\n"
      ],
      "text/plain": [
       "<IPython.core.display.Markdown object>"
      ]
     },
     "metadata": {},
     "output_type": "display_data"
    },
    {
     "data": {
      "text/markdown": [
       "[2023-07-19 01:15:48 Cointelegraph - Meta and Microsoft launch open-source AI model Llama 2](https://cointelegraph.com/news/llama-2-open-source-ai-model-launched-by-meta-microsoft)\n"
      ],
      "text/plain": [
       "<IPython.core.display.Markdown object>"
      ]
     },
     "metadata": {},
     "output_type": "display_data"
    },
    {
     "data": {
      "text/markdown": [
       "[2023-07-19 00:55:15 Forexlive - Australia data - eleventh consecutive negative print for the  Leading Index growth rate](https://www.forexlive.com/news/australia-data-eleventh-consecutive-negative-print-for-the-leading-index-growth-rate-20230719/)\n"
      ],
      "text/plain": [
       "<IPython.core.display.Markdown object>"
      ]
     },
     "metadata": {},
     "output_type": "display_data"
    },
    {
     "data": {
      "text/markdown": [
       "[2023-07-19 00:32:00 MarketWatch - : AT&T to pause prior plans to remove lead cables under Lake Tahoe as it works with regulators](https://www.marketwatch.com/story/at-t-to-pause-prior-plans-to-remove-lead-cables-under-lake-tahoe-as-it-works-with-regulators-98b87d81)\n"
      ],
      "text/plain": [
       "<IPython.core.display.Markdown object>"
      ]
     },
     "metadata": {},
     "output_type": "display_data"
    },
    {
     "data": {
      "text/markdown": [
       "[2023-07-18 23:59:00 MarketWatch - : Teamsters prep for strike after trucker Yellow Corp. misses deadline for benefits contributions](https://www.marketwatch.com/story/teamsters-prep-for-strike-after-trucker-yellow-corp-misses-deadline-for-benefits-contributions-8d8ad737)\n"
      ],
      "text/plain": [
       "<IPython.core.display.Markdown object>"
      ]
     },
     "metadata": {},
     "output_type": "display_data"
    },
    {
     "data": {
      "text/markdown": [
       "[2023-07-18 23:44:10 CNBC - Cramer disagrees with recent analyst downgrade of PepsiCo, says the company likely hasn't hit the top](https://www.cnbc.com/2023/07/18/cramer-disagrees-with-pepsicos-recent-analyst-downgrade-.html)\n"
      ],
      "text/plain": [
       "<IPython.core.display.Markdown object>"
      ]
     },
     "metadata": {},
     "output_type": "display_data"
    },
    {
     "data": {
      "text/markdown": [
       "[2023-07-18 23:43:16 CNBC - Corona beer maker Constellation Brands takes action aimed at enhancing shareholder value and stock pops](https://www.cnbc.com/2023/07/18/corona-beer-maker-constellation-brands-takes-strategic-action-stock-pops.html)\n"
      ],
      "text/plain": [
       "<IPython.core.display.Markdown object>"
      ]
     },
     "metadata": {},
     "output_type": "display_data"
    },
    {
     "data": {
      "text/markdown": [
       "[2023-07-18 23:41:13 Forexlive - ICYMI - Credit Suisse raised its S&P 500 year-end forecast to 4,70, from 4050](https://www.forexlive.com/news/icymi-credit-suisse-raised-its-sp-500-year-end-forecast-to-470-from-4050-20230718/)\n"
      ],
      "text/plain": [
       "<IPython.core.display.Markdown object>"
      ]
     },
     "metadata": {},
     "output_type": "display_data"
    },
    {
     "data": {
      "text/markdown": [
       "[2023-07-18 23:38:00 MarketWatch - The Fast Foodist: National Hot Dog Day is July 19, but here’s why you won’t find franks at many fast-food chains](https://www.marketwatch.com/story/national-hot-dog-day-is-july-19-but-heres-why-you-wont-find-franks-at-many-fast-food-chains-f9bd9e53)\n"
      ],
      "text/plain": [
       "<IPython.core.display.Markdown object>"
      ]
     },
     "metadata": {},
     "output_type": "display_data"
    },
    {
     "data": {
      "text/markdown": [
       "[2023-07-18 23:23:16 Forexlive - Citi's global head of commodity research sees oil in a $70 - $90 range (floor - ceiling)](https://www.forexlive.com/news/citis-global-head-of-commodity-research-sees-oil-in-a-70-90-range-floor-ceiling-20230718/)\n"
      ],
      "text/plain": [
       "<IPython.core.display.Markdown object>"
      ]
     },
     "metadata": {},
     "output_type": "display_data"
    },
    {
     "data": {
      "text/markdown": [
       "[2023-07-18 23:00:00 Dailyfx - New Zealand Dollar Soars as Inflation Beat Drives More RBNZ Tightening Bets](https://www.dailyfx.com/news/new-zealand-dollar-soars-as-inflation-beat-drives-more-rbnz-tightening-bets-20230718.html)\n"
      ],
      "text/plain": [
       "<IPython.core.display.Markdown object>"
      ]
     },
     "metadata": {},
     "output_type": "display_data"
    },
    {
     "data": {
      "text/markdown": [
       "[2023-07-18 22:57:10 CNBC - Jim Cramer doesn't see a recession on the horizon, says recent conjecture \"just doesn't hold up under close scrutiny\"](https://www.cnbc.com/2023/07/18/jim-cramer-doesnt-see-a-recession-on-the-horizon.html)\n"
      ],
      "text/plain": [
       "<IPython.core.display.Markdown object>"
      ]
     },
     "metadata": {},
     "output_type": "display_data"
    },
    {
     "data": {
      "text/markdown": [
       "[2023-07-18 22:56:00 MarketWatch - Mark Hulbert: That stock market rally you’d expect from soaring consumer sentiment? It’s already happened.](https://www.marketwatch.com/story/that-stock-market-rally-youd-expect-from-soaring-consumer-sentiment-its-already-happened-f3971ec5)\n"
      ],
      "text/plain": [
       "<IPython.core.display.Markdown object>"
      ]
     },
     "metadata": {},
     "output_type": "display_data"
    },
    {
     "data": {
      "text/markdown": [
       "[2023-07-18 22:45:12 Forexlive - New Zealand Q2 CPI 1.1% q/q (vs. expected 1.0%)](https://www.forexlive.com/news/new-zealand-q2-cpi-11-qq-vs-expected-10-20230718/)\n"
      ],
      "text/plain": [
       "<IPython.core.display.Markdown object>"
      ]
     },
     "metadata": {},
     "output_type": "display_data"
    },
    {
     "data": {
      "text/markdown": [
       "[2023-07-18 22:36:00 MarketWatch - : Microsoft shares pop 4% as prices for AI tools positively surprise](https://www.marketwatch.com/story/microsoft-and-meta-team-up-on-ai-language-model-for-commercial-use-165b5617)\n"
      ],
      "text/plain": [
       "<IPython.core.display.Markdown object>"
      ]
     },
     "metadata": {},
     "output_type": "display_data"
    },
    {
     "data": {
      "text/markdown": [
       "[2023-07-18 22:20:00 MarketWatch - Market Extra: Bank ETFs bounce, with this fund heading for potentially best month since 2021](https://www.marketwatch.com/story/bank-etfs-bounce-with-this-fund-heading-for-potentially-best-month-since-2021-d55cc5aa)\n"
      ],
      "text/plain": [
       "<IPython.core.display.Markdown object>"
      ]
     },
     "metadata": {},
     "output_type": "display_data"
    },
    {
     "data": {
      "text/markdown": [
       "[2023-07-18 22:13:27 Cointelegraph - Bitcoin price falls to $29.5K, but on-chain data reflects investors' growing interest](https://cointelegraph.com/news/bitcoin-price-falls-to-29-5k-but-on-chain-data-reflects-investors-growing-interest)\n"
      ],
      "text/plain": [
       "<IPython.core.display.Markdown object>"
      ]
     },
     "metadata": {},
     "output_type": "display_data"
    },
    {
     "data": {
      "text/markdown": [
       "[2023-07-18 22:07:00 MarketWatch - : Carvana spooks market by moving up results, stock sinks 9%](https://www.marketwatch.com/story/carvana-spooks-market-by-moving-up-results-stock-down-9-a78cc56c)\n"
      ],
      "text/plain": [
       "<IPython.core.display.Markdown object>"
      ]
     },
     "metadata": {},
     "output_type": "display_data"
    },
    {
     "data": {
      "text/markdown": [
       "[2023-07-18 21:48:41 CoinDesk - XRP’s 60% Weekly Gain Defies Broader Crypto Slump as Bitcoin Stalls Below $30K](https://www.coindesk.com/markets/2023/07/18/xrps-60-weekly-gain-defies-broader-crypto-slump-as-bitcoin-stalls-below-30k/?utm_medium=referral&utm_source=rss&utm_campaign=headlines)\n"
      ],
      "text/plain": [
       "<IPython.core.display.Markdown object>"
      ]
     },
     "metadata": {},
     "output_type": "display_data"
    },
    {
     "data": {
      "text/markdown": [
       "[2023-07-18 21:42:20 Cointelegraph - Nevada court approves regulator's petition to place Prime Trust into receivership, pending hearing](https://cointelegraph.com/news/nevada-court-approves-regulator-petition-prime-trust-receivership)\n"
      ],
      "text/plain": [
       "<IPython.core.display.Markdown object>"
      ]
     },
     "metadata": {},
     "output_type": "display_data"
    },
    {
     "data": {
      "text/markdown": [
       "[2023-07-18 21:23:00 MarketWatch - : Why some crypto stocks surged up to 400% this year, outperforming bitcoin](https://www.marketwatch.com/story/why-some-crypto-stocks-surged-up-to-400-this-year-outperforming-bitcoin-7838c938)\n"
      ],
      "text/plain": [
       "<IPython.core.display.Markdown object>"
      ]
     },
     "metadata": {},
     "output_type": "display_data"
    },
    {
     "data": {
      "text/markdown": [
       "[2023-07-18 21:21:00 MarketWatch - Earnings Results: Western Alliance stock falls more than 5%; bank seeks to ‘return to normal’ after banking crisis](https://www.marketwatch.com/story/western-alliance-stock-falls-more-than-5-after-bank-narrowly-misses-profit-expectations-but-says-it-is-on-track-to-return-to-normal-99e619fb)\n"
      ],
      "text/plain": [
       "<IPython.core.display.Markdown object>"
      ]
     },
     "metadata": {},
     "output_type": "display_data"
    },
    {
     "data": {
      "text/markdown": [
       "[2023-07-18 21:15:00 MarketWatch - : DeSantis says he hopes Trump doesn’t get charged after ex-president says he’s target in Jan. 6 case](https://www.marketwatch.com/story/desantis-says-he-hopes-trump-doesnt-get-charged-after-ex-president-says-hes-target-in-jan-6-case-33bea44f)\n"
      ],
      "text/plain": [
       "<IPython.core.display.Markdown object>"
      ]
     },
     "metadata": {},
     "output_type": "display_data"
    },
    {
     "data": {
      "text/markdown": [
       "[2023-07-18 21:14:10 CoinDesk - Prime Trust Put Into Receivership Amid Shortfall in Funds, Charges It Misused Customer Money](https://www.coindesk.com/business/2023/07/18/prime-trust-put-into-receivership-charged-with-using-customer-funds-to-buy-crypto/?utm_medium=referral&utm_source=rss&utm_campaign=headlines)\n"
      ],
      "text/plain": [
       "<IPython.core.display.Markdown object>"
      ]
     },
     "metadata": {},
     "output_type": "display_data"
    },
    {
     "data": {
      "text/markdown": [
       "[2023-07-18 21:13:00 MarketWatch - : Prologis to keep pushing rents up ‘pretty hard’ even as occupancy falls](https://www.marketwatch.com/story/prologis-to-keep-pushing-rents-up-pretty-hard-even-as-occupancy-falls-21b35531)\n"
      ],
      "text/plain": [
       "<IPython.core.display.Markdown object>"
      ]
     },
     "metadata": {},
     "output_type": "display_data"
    },
    {
     "data": {
      "text/markdown": [
       "[2023-07-18 21:09:07 SeekingAlpha - Western Asset Mortgage to start merger talks with AG Mortgage Investment](https://seekingalpha.com/news/3988542-western-asset-mortgage-to-start-merger-talks-with-ag-mortgage-investment?utm_source=feed_news_m_a&utm_medium=referral)\n"
      ],
      "text/plain": [
       "<IPython.core.display.Markdown object>"
      ]
     },
     "metadata": {},
     "output_type": "display_data"
    },
    {
     "data": {
      "text/markdown": [
       "[2023-07-18 21:00:00 BusinessWire - Harrow Acquires Santen’s Branded Ophthalmic Portfolio](http://www.businesswire.com/news/home/20230718938608/en/Harrow-Acquires-Santen%E2%80%99s-Branded-Ophthalmic-Portfolio/?feedref=JjAwJuNHiystnCoBq_hl-Rc4vIAVcHHkbDcwJimU8QtrtlakeQ9hNboBqTAWIjTge3KWq9s9jif-UkBjBsFRyYAbRTSLTc1mgvhPlnaBA55M-oupQnbXnhKsYk8RmHF_kAy2gZikaX3QWV6xOvgFlA==)\n"
      ],
      "text/plain": [
       "<IPython.core.display.Markdown object>"
      ]
     },
     "metadata": {},
     "output_type": "display_data"
    },
    {
     "data": {
      "text/markdown": [
       "[2023-07-18 20:52:13 CNBC - Stocks making the biggest moves after hours: Interactive Brokers, Western Alliance, Omnicom and more](https://www.cnbc.com/2023/07/18/stocks-making-the-biggest-moves-after-hours-ibk-wal-omc.html)\n"
      ],
      "text/plain": [
       "<IPython.core.display.Markdown object>"
      ]
     },
     "metadata": {},
     "output_type": "display_data"
    },
    {
     "data": {
      "text/markdown": [
       "[2023-07-18 20:48:00 BusinessWire - Western Asset Mortgage Capital Corporation to Engage in Discussions With AG Mortgage Investment Trust, Inc.](http://www.businesswire.com/news/home/20230718917755/en/Western-Asset-Mortgage-Capital-Corporation-to-Engage-in-Discussions-With-AG-Mortgage-Investment-Trust-Inc./?feedref=JjAwJuNHiystnCoBq_hl-Rc4vIAVcHHkbDcwJimU8QtrtlakeQ9hNboBqTAWIjTge3KWq9s9jif-UkBjBsFRyYAbRTSLTc1mgvhPlnaBA55M-oupQnbXnhKsYk8RmHF_)\n"
      ],
      "text/plain": [
       "<IPython.core.display.Markdown object>"
      ]
     },
     "metadata": {},
     "output_type": "display_data"
    },
    {
     "data": {
      "text/markdown": [
       "[2023-07-18 20:40:59 Forexlive - Private oil survey data shows smaller headline crude draw than was expected](https://www.forexlive.com/news/private-oil-survey-data-shows-smaller-headline-crude-draw-than-was-expected-20230718/)\n"
      ],
      "text/plain": [
       "<IPython.core.display.Markdown object>"
      ]
     },
     "metadata": {},
     "output_type": "display_data"
    },
    {
     "data": {
      "text/markdown": [
       "[2023-07-18 20:36:28 SeekingAlpha - Extra Space Storage, Life Storage shareholders approve merger](https://seekingalpha.com/news/3988528-extra-space-storage-life-storage-shareholders-approve-merger?utm_source=feed_news_m_a&utm_medium=referral)\n"
      ],
      "text/plain": [
       "<IPython.core.display.Markdown object>"
      ]
     },
     "metadata": {},
     "output_type": "display_data"
    },
    {
     "data": {
      "text/markdown": [
       "[2023-07-18 20:36:00 MarketWatch - The Tell: Fund managers remain mostly bearish despite rising bets on a soft landing for the economy, BofA’s survey shows](https://www.marketwatch.com/story/fund-managers-remain-mostly-bearish-despite-rising-bets-on-a-soft-landing-for-the-economy-bofas-survey-shows-dee172ac)\n"
      ],
      "text/plain": [
       "<IPython.core.display.Markdown object>"
      ]
     },
     "metadata": {},
     "output_type": "display_data"
    },
    {
     "data": {
      "text/markdown": [
       "[2023-07-18 20:36:00 MarketWatch - Outside the Box: These 3 tips help small-business owners make better money decisions](https://www.marketwatch.com/story/these-3-tips-can-help-small-business-owners-make-better-money-decisions-1d8ef215)\n"
      ],
      "text/plain": [
       "<IPython.core.display.Markdown object>"
      ]
     },
     "metadata": {},
     "output_type": "display_data"
    },
    {
     "data": {
      "text/markdown": [
       "[2023-07-18 20:36:00 BusinessWire - CountryWide Transportation, Inc. Acquired by Dynamic Female Entrepreneurs Who Aim to Empower Excellence in Third-Party Logistics and Transportation](http://www.businesswire.com/news/home/20230718543746/en/CountryWide-Transportation-Inc.-Acquired-by-Dynamic-Female-Entrepreneurs-Who-Aim-to-Empower-Excellence-in-Third-Party-Logistics-and-Transportation/?feedref=JjAwJuNHiystnCoBq_hl-Rc4vIAVcHHkbDcwJimU8QtrtlakeQ9hNboBqTAWIjTge3KWq9s9jif-UkBjBsFRyYAb)\n"
      ],
      "text/plain": [
       "<IPython.core.display.Markdown object>"
      ]
     },
     "metadata": {},
     "output_type": "display_data"
    },
    {
     "data": {
      "text/markdown": [
       "[2023-07-18 20:16:49 Forexlive - Major indices close higher. Dow up for the 7th consecutive day.](https://www.forexlive.com/news/major-indices-close-higher-dow-up-for-the-7th-consecutive-day-20230718/)\n"
      ],
      "text/plain": [
       "<IPython.core.display.Markdown object>"
      ]
     },
     "metadata": {},
     "output_type": "display_data"
    },
    {
     "data": {
      "text/markdown": [
       "[2023-07-18 20:15:00 GlobalNewswire - NeoGames Shareholders Approve Business Combination Agreement with Aristocrat Leisure](https://www.globenewswire.com/news-release/2023/07/18/2706858/0/en/NeoGames-Shareholders-Approve-Business-Combination-Agreement-with-Aristocrat-Leisure.html)\n"
      ],
      "text/plain": [
       "<IPython.core.display.Markdown object>"
      ]
     },
     "metadata": {},
     "output_type": "display_data"
    },
    {
     "data": {
      "text/markdown": [
       "[2023-07-18 20:13:19 CNBC - Michigan attorney general charges fake Trump electors over alleged 2020 election crimes](https://www.cnbc.com/2023/07/18/fake-trump-electors-charged-with-michigan-election-crimes.html)\n"
      ],
      "text/plain": [
       "<IPython.core.display.Markdown object>"
      ]
     },
     "metadata": {},
     "output_type": "display_data"
    },
    {
     "data": {
      "text/markdown": [
       "[2023-07-18 20:11:17 SeekingAlpha - TenX Keane Acquisition to extend date for completion of business combination](https://seekingalpha.com/news/3988513-tenx-keane-acquisition-to-extend-date-for-completion-of-business-combination?utm_source=feed_news_m_a&utm_medium=referral)\n"
      ],
      "text/plain": [
       "<IPython.core.display.Markdown object>"
      ]
     },
     "metadata": {},
     "output_type": "display_data"
    },
    {
     "data": {
      "text/markdown": [
       "[2023-07-18 20:10:10 Cointelegraph - The EU Commission’s strategy on Web4 is a flop](https://cointelegraph.com/news/european-commission-web4-strategy-flop)\n"
      ],
      "text/plain": [
       "<IPython.core.display.Markdown object>"
      ]
     },
     "metadata": {},
     "output_type": "display_data"
    },
    {
     "data": {
      "text/markdown": [
       "[2023-07-18 20:07:55 Cointelegraph - Crypto survey finds 47% of investors expect Ethereum to ‘surpass’ Bitcoin](https://cointelegraph.com/news/crypto-survey-finds-47-of-investors-expect-ethereum-to-surpass-bitcoin)\n"
      ],
      "text/plain": [
       "<IPython.core.display.Markdown object>"
      ]
     },
     "metadata": {},
     "output_type": "display_data"
    },
    {
     "data": {
      "text/markdown": [
       "[2023-07-18 19:59:08 Cointelegraph - Centralized exchanges will become gateways for DeFi: dXdY Foundation CEO Charles d’Haussy](https://cointelegraph.com/news/centralized-exchanges-gateways-defi-dxdy-foundation-ceo-charles-dhaussy)\n"
      ],
      "text/plain": [
       "<IPython.core.display.Markdown object>"
      ]
     },
     "metadata": {},
     "output_type": "display_data"
    },
    {
     "data": {
      "text/markdown": [
       "[2023-07-18 19:45:00 Cointelegraph - What is a token maker, and how does it work?](https://cointelegraph.com/explained/what-is-a-token-maker-and-how-does-it-work)\n"
      ],
      "text/plain": [
       "<IPython.core.display.Markdown object>"
      ]
     },
     "metadata": {},
     "output_type": "display_data"
    },
    {
     "data": {
      "text/markdown": [
       "[2023-07-18 19:42:50 CNBC - Fervo Energy hits milestone in using oil drilling technology to tap geothermal energy](https://www.cnbc.com/2023/07/18/fervo-energy-hits-milestone-using-oil-drilling-tech-to-tap-geothermal.html)\n"
      ],
      "text/plain": [
       "<IPython.core.display.Markdown object>"
      ]
     },
     "metadata": {},
     "output_type": "display_data"
    },
    {
     "data": {
      "text/markdown": [
       "[2023-07-18 19:31:05 SeekingAlpha - U.S. Supreme Court denies gamers request to block Activision/Microsoft deal](https://seekingalpha.com/news/3988498-us-supreme-court-denies-gamers-request-to-block-activisionmicrosoft-deal?utm_source=feed_news_m_a&utm_medium=referral)\n"
      ],
      "text/plain": [
       "<IPython.core.display.Markdown object>"
      ]
     },
     "metadata": {},
     "output_type": "display_data"
    },
    {
     "data": {
      "text/markdown": [
       "[2023-07-18 19:30:52 CNBC - Morgan Stanley's earnings beat sets the bank up for a stronger second half of 2023](https://www.cnbc.com/2023/07/18/morgan-stanleys-earnings-beat-sets-it-up-for-a-stronger-second-half.html)\n"
      ],
      "text/plain": [
       "<IPython.core.display.Markdown object>"
      ]
     },
     "metadata": {},
     "output_type": "display_data"
    },
    {
     "data": {
      "text/markdown": [
       "[2023-07-18 19:26:34 Forexlive - NASDAQ and Dow Industrial Average now up greater than 1%](https://www.forexlive.com/technical-analysis/nasdaq-and-dow-industrial-average-now-up-greater-than-1-20230718/)\n"
      ],
      "text/plain": [
       "<IPython.core.display.Markdown object>"
      ]
     },
     "metadata": {},
     "output_type": "display_data"
    },
    {
     "data": {
      "text/markdown": [
       "[2023-07-18 19:16:22 CNBC - The market is undervaluing this stock — so we're adding to our position](https://www.cnbc.com/2023/07/18/the-market-is-undervaluing-this-stock-so-were-adding-to-our-position.html)\n"
      ],
      "text/plain": [
       "<IPython.core.display.Markdown object>"
      ]
     },
     "metadata": {},
     "output_type": "display_data"
    },
    {
     "data": {
      "text/markdown": [
       "[2023-07-18 19:06:00 BusinessWire - BMC Enterprises Inc. Continues Double-Digit Growth; Announces Acquisition of Raineri Building Materials, Eureka Materials and Blue Grass Ready Mix](http://www.businesswire.com/news/home/20230718468680/en/BMC-Enterprises-Inc.-Continues-Double-Digit-Growth-Announces-Acquisition-of-Raineri-Building-Materials-Eureka-Materials-and-Blue-Grass-Ready-Mix/?feedref=JjAwJuNHiystnCoBq_hl-Rc4vIAVcHHkbDcwJimU8QtrtlakeQ9hNboBqTAWIjTge3KWq9s9jif-UkBjBsFRyYAbRT)\n"
      ],
      "text/plain": [
       "<IPython.core.display.Markdown object>"
      ]
     },
     "metadata": {},
     "output_type": "display_data"
    },
    {
     "data": {
      "text/markdown": [
       "[2023-07-18 19:00:00 GlobalNewswire - Westland Insurance acquires Andrew Agencies Ltd.](https://www.globenewswire.com/news-release/2023/07/18/2706793/0/en/Westland-Insurance-acquires-Andrew-Agencies-Ltd.html)\n"
      ],
      "text/plain": [
       "<IPython.core.display.Markdown object>"
      ]
     },
     "metadata": {},
     "output_type": "display_data"
    },
    {
     "data": {
      "text/markdown": [
       "[2023-07-18 18:47:50 Cointelegraph - US lawmaker calls on SEC chair to reassess stance on crypto following Ripple ruling](https://cointelegraph.com/news/lawmaker-calls-sec-chair-reassess-stance-crypto-following-ripple-ruling)\n"
      ],
      "text/plain": [
       "<IPython.core.display.Markdown object>"
      ]
     },
     "metadata": {},
     "output_type": "display_data"
    },
    {
     "data": {
      "text/markdown": [
       "[2023-07-18 18:46:16 Forexlive - The EURJPY traders are battling it out between MA levels. The intermediate trend at stake](https://www.forexlive.com/technical-analysis/the-eurjpy-traders-are-battling-it-out-between-ma-levels-the-intermediate-trend-at-stake-20230718/)\n"
      ],
      "text/plain": [
       "<IPython.core.display.Markdown object>"
      ]
     },
     "metadata": {},
     "output_type": "display_data"
    },
    {
     "data": {
      "text/markdown": [
       "[2023-07-18 18:26:25 Cointelegraph - South Korean Shinhan Bank completes stablecoin remittance pilot with Asian partners](https://cointelegraph.com/news/south-korea-shinhan-bank-completes-stablecoin-remittance-pilot-asian-partners-hedera)\n"
      ],
      "text/plain": [
       "<IPython.core.display.Markdown object>"
      ]
     },
     "metadata": {},
     "output_type": "display_data"
    },
    {
     "data": {
      "text/markdown": [
       "[2023-07-18 18:18:36 Forexlive - USD in steep decline: TD Securities predicts broader downward trend](https://www.forexlive.com/news/usd-in-steep-decline-td-securities-predicts-broader-downward-trend-20230718/)\n"
      ],
      "text/plain": [
       "<IPython.core.display.Markdown object>"
      ]
     },
     "metadata": {},
     "output_type": "display_data"
    },
    {
     "data": {
      "text/markdown": [
       "[2023-07-18 18:13:49 CNBC - Inter Miami Owner expects Lionel Messi signing to double revenues and franchise value over the next year](https://www.cnbc.com/2023/07/18/lionel-messi-signing-to-double-inter-miami-revenue-owner-says.html)\n"
      ],
      "text/plain": [
       "<IPython.core.display.Markdown object>"
      ]
     },
     "metadata": {},
     "output_type": "display_data"
    },
    {
     "data": {
      "text/markdown": [
       "[2023-07-18 18:01:30 Cointelegraph - Bitcoin rally will lead to \"speculative blow-off top” in 2024, Mark Yusko predicts](https://cointelegraph.com/news/bitcoin-btc-rally-will-lead-speculative-blow-off-top-in-2024-mark-yusko-predicts)\n"
      ],
      "text/plain": [
       "<IPython.core.display.Markdown object>"
      ]
     },
     "metadata": {},
     "output_type": "display_data"
    },
    {
     "data": {
      "text/markdown": [
       "[2023-07-18 18:01:00 Dailyfx - US Dollar Dancing on Horizontal Support ahead of Fed Decision Next Week](https://www.dailyfx.com/news/forex-us-dollar-dancing-on-horizontal-support-ahead-of-fed-decision-next-week-20230718.html)\n"
      ],
      "text/plain": [
       "<IPython.core.display.Markdown object>"
      ]
     },
     "metadata": {},
     "output_type": "display_data"
    },
    {
     "data": {
      "text/markdown": [
       "[2023-07-18 18:00:50 Cointelegraph - Coinbase CEO will meet with US lawmakers to discuss crypto legislation: Report](https://cointelegraph.com/news/coinbase-ceo-meet-lawmakers-discuss-crypto-legislation)\n"
      ],
      "text/plain": [
       "<IPython.core.display.Markdown object>"
      ]
     },
     "metadata": {},
     "output_type": "display_data"
    },
    {
     "data": {
      "text/markdown": [
       "[2023-07-18 17:55:58 CNBC - Medicare proposes removing limit on PET scans used to help diagnose Alzheimer's disease](https://www.cnbc.com/2023/07/18/alzheimers-diagnosis-medicare-proposes-broader-coverage-of-pet-scans.html)\n"
      ],
      "text/plain": [
       "<IPython.core.display.Markdown object>"
      ]
     },
     "metadata": {},
     "output_type": "display_data"
    },
    {
     "data": {
      "text/markdown": [
       "[2023-07-18 17:47:28 SeekingAlpha - Check-Cap jumps after Symetryx $4.35/share takeover offer](https://seekingalpha.com/news/3988482-check-cap-jumps-after-symetryx-435share-takeover-offer?utm_source=feed_news_m_a&utm_medium=referral)\n"
      ],
      "text/plain": [
       "<IPython.core.display.Markdown object>"
      ]
     },
     "metadata": {},
     "output_type": "display_data"
    },
    {
     "data": {
      "text/markdown": [
       "[2023-07-18 17:23:38 Forexlive - US retail sales are carried by services but will slow as jobs market tightens](https://www.forexlive.com/news/us-retail-sales-are-carried-by-services-but-will-slow-as-jobs-market-tightens-20230718/)\n"
      ],
      "text/plain": [
       "<IPython.core.display.Markdown object>"
      ]
     },
     "metadata": {},
     "output_type": "display_data"
    },
    {
     "data": {
      "text/markdown": [
       "[2023-07-18 16:59:25 CNBC - How much you need to earn to be in the top 1% in every U.S. state](https://www.cnbc.com/2023/07/18/how-much-you-need-to-earn-to-be-in-the-top-1-percent-in-every-us-state.html)\n"
      ],
      "text/plain": [
       "<IPython.core.display.Markdown object>"
      ]
     },
     "metadata": {},
     "output_type": "display_data"
    },
    {
     "data": {
      "text/markdown": [
       "[2023-07-18 16:57:00 GlobalNewswire - Digital asset insurance leader Evertas acquires crypto mining insurance pioneer Bitsure](https://www.globenewswire.com/news-release/2023/07/18/2706720/0/en/Digital-asset-insurance-leader-Evertas-acquires-crypto-mining-insurance-pioneer-Bitsure.html)\n"
      ],
      "text/plain": [
       "<IPython.core.display.Markdown object>"
      ]
     },
     "metadata": {},
     "output_type": "display_data"
    },
    {
     "data": {
      "text/markdown": [
       "[2023-07-18 16:55:26 CNBC - Amazon sees decline in carbon emissions for the first time](https://www.cnbc.com/2023/07/18/amazon-sees-decline-in-carbon-emissions-for-the-first-time.html)\n"
      ],
      "text/plain": [
       "<IPython.core.display.Markdown object>"
      ]
     },
     "metadata": {},
     "output_type": "display_data"
    },
    {
     "data": {
      "text/markdown": [
       "[2023-07-18 16:50:51 Forexlive - NZDUSD trades lower ahead of key CPI data in the new trading day.](https://www.forexlive.com/technical-analysis/nzdusd-trades-lower-ahead-of-key-cpi-data-in-the-new-trading-day-20230718/)\n"
      ],
      "text/plain": [
       "<IPython.core.display.Markdown object>"
      ]
     },
     "metadata": {},
     "output_type": "display_data"
    },
    {
     "data": {
      "text/markdown": [
       "[2023-07-18 16:48:45 CNBC - Microsoft goes beyond OpenAI, makes Meta's new A.I. model available to Azure customers](https://www.cnbc.com/2023/07/18/microsoft-makes-metas-new-ai-model-available-to-azure-customers.html)\n"
      ],
      "text/plain": [
       "<IPython.core.display.Markdown object>"
      ]
     },
     "metadata": {},
     "output_type": "display_data"
    },
    {
     "data": {
      "text/markdown": [
       "[2023-07-18 16:31:00 MarketWatch - Next Avenue: Who has the best advice on retirement? Retired people. Here’s what they have to say, from the practical to the down-and-dirty.](https://www.marketwatch.com/story/who-has-the-best-advice-on-retirement-retired-people-heres-what-they-have-to-say-from-the-practical-to-the-down-and-dirty-64051673)\n"
      ],
      "text/plain": [
       "<IPython.core.display.Markdown object>"
      ]
     },
     "metadata": {},
     "output_type": "display_data"
    },
    {
     "data": {
      "text/markdown": [
       "[2023-07-18 16:24:00 MarketWatch - The Ratings Game: Disney faces several ‘concerning’ trends that are making one analyst ‘more nervous’](https://www.marketwatch.com/story/disney-faces-several-concerning-trends-that-are-making-one-analyst-more-nervous-12a5eeab)\n"
      ],
      "text/plain": [
       "<IPython.core.display.Markdown object>"
      ]
     },
     "metadata": {},
     "output_type": "display_data"
    },
    {
     "data": {
      "text/markdown": [
       "[2023-07-18 16:22:00 MarketWatch - : Recession? White House sees ‘momentum’ that will keep U.S. out of one.](https://www.marketwatch.com/story/recession-white-house-sees-momentum-that-will-keep-u-s-out-of-one-6a8b2ec0)\n"
      ],
      "text/plain": [
       "<IPython.core.display.Markdown object>"
      ]
     },
     "metadata": {},
     "output_type": "display_data"
    },
    {
     "data": {
      "text/markdown": [
       "[2023-07-18 16:19:29 Forexlive - Microsoft trading higher after announcing AI Chatbot pricing.Shares trade to new AT high](https://www.forexlive.com/news/microsoft-trading-higher-after-announcing-ai-chatbot-pricingshares-trade-to-new-at-high-20230718/)\n"
      ],
      "text/plain": [
       "<IPython.core.display.Markdown object>"
      ]
     },
     "metadata": {},
     "output_type": "display_data"
    },
    {
     "data": {
      "text/markdown": [
       "[2023-07-18 16:18:00 GlobalNewswire - Polydex Pharmaceuticals Limited Shareholders Vote to Approve BioSpectra Inc. Business Combination](https://www.globenewswire.com/news-release/2023/07/18/2706698/8154/en/Polydex-Pharmaceuticals-Limited-Shareholders-Vote-to-Approve-BioSpectra-Inc-Business-Combination.html)\n"
      ],
      "text/plain": [
       "<IPython.core.display.Markdown object>"
      ]
     },
     "metadata": {},
     "output_type": "display_data"
    },
    {
     "data": {
      "text/markdown": [
       "[2023-07-18 16:13:53 SeekingAlpha - Adnoc raises Covestro takeover offer to €11B - Bloomberg](https://seekingalpha.com/news/3988446-adnoc-raises-covestro-takeover-offer-to-11b-bloomberg?utm_source=feed_news_m_a&utm_medium=referral)\n"
      ],
      "text/plain": [
       "<IPython.core.display.Markdown object>"
      ]
     },
     "metadata": {},
     "output_type": "display_data"
    },
    {
     "data": {
      "text/markdown": [
       "[2023-07-18 16:13:34 CoinDesk - Crypto VC Firm Polychain Capital Raises $200M for Fourth Fund: Fortune](https://www.coindesk.com/business/2023/07/18/crypto-vc-firm-polychain-capital-raises-200m-for-fourth-fund-fortune/?utm_medium=referral&utm_source=rss&utm_campaign=headlines)\n"
      ],
      "text/plain": [
       "<IPython.core.display.Markdown object>"
      ]
     },
     "metadata": {},
     "output_type": "display_data"
    },
    {
     "data": {
      "text/markdown": [
       "[2023-07-18 16:12:00 MarketWatch - MarketWatch: VC spending is in a tailspin, and AI can’t reverse the trend — yet](https://www.marketwatch.com/story/vc-spending-is-in-a-tailspin-and-ai-cant-reverse-the-trend-yet-ec80a1ca)\n"
      ],
      "text/plain": [
       "<IPython.core.display.Markdown object>"
      ]
     },
     "metadata": {},
     "output_type": "display_data"
    },
    {
     "data": {
      "text/markdown": [
       "[2023-07-18 16:10:05 CNBC - Stocks making the biggest moves midday: Morgan Stanley, Bank of America, Charles Schwab and more](https://www.cnbc.com/2023/07/18/stocks-making-the-biggest-moves-midday-ms-bac-schw-and-more.html)\n"
      ],
      "text/plain": [
       "<IPython.core.display.Markdown object>"
      ]
     },
     "metadata": {},
     "output_type": "display_data"
    },
    {
     "data": {
      "text/markdown": [
       "[2023-07-18 16:06:00 MarketWatch - : Cracker Barrel stock surges as CEO Susan Cochran announces departure after 12 years in charge](https://www.marketwatch.com/story/cracker-barrel-stock-surges-as-ceo-susan-cochran-announces-departure-after-12-years-in-charge-e5c2f0a8)\n"
      ],
      "text/plain": [
       "<IPython.core.display.Markdown object>"
      ]
     },
     "metadata": {},
     "output_type": "display_data"
    },
    {
     "data": {
      "text/markdown": [
       "[2023-07-18 16:03:00 MarketWatch - : Donald Trump should drop out of White House race, Republican hopeful Asa Hutchinson says](https://www.marketwatch.com/story/donald-trump-should-drop-out-of-white-house-race-republican-hopeful-asa-hutchinson-says-7af8a88b)\n"
      ],
      "text/plain": [
       "<IPython.core.display.Markdown object>"
      ]
     },
     "metadata": {},
     "output_type": "display_data"
    },
    {
     "data": {
      "text/markdown": [
       "[2023-07-18 16:00:00 Dailyfx - Japanese Yen Setups: USD/JPY Hugs Fibonacci Support, EUR/JPY Eyes Key Resistance](https://www.dailyfx.com/news/japanese-yen-setups-usd-jpy-hugs-fibonacci-support-eur-jpy-eyes-key-resistance-20230718.html)\n"
      ],
      "text/plain": [
       "<IPython.core.display.Markdown object>"
      ]
     },
     "metadata": {},
     "output_type": "display_data"
    },
    {
     "data": {
      "text/markdown": [
       "[2023-07-18 15:51:58 Forexlive - GBPUSD breaks below 100 hour MA. The 2nd break below today. Can the sellers push lower?](https://www.forexlive.com/technical-analysis/gbpusd-breaks-below-100-hour-ma-the-2nd-break-below-today-can-the-sellers-push-lower-20230718/)\n"
      ],
      "text/plain": [
       "<IPython.core.display.Markdown object>"
      ]
     },
     "metadata": {},
     "output_type": "display_data"
    },
    {
     "data": {
      "text/markdown": [
       "[2023-07-18 15:48:40 CNBC - Taylor Swift now has the most No. 1 albums of any female artist in history](https://www.cnbc.com/2023/07/18/taylor-swift-now-has-the-most-no-1-albums-of-any-female-artist.html)\n"
      ],
      "text/plain": [
       "<IPython.core.display.Markdown object>"
      ]
     },
     "metadata": {},
     "output_type": "display_data"
    },
    {
     "data": {
      "text/markdown": [
       "[2023-07-18 15:25:00 MarketWatch - : Mike Pence says inflation is 16%, but CPI is 3%. This is his logic.](https://www.marketwatch.com/story/mike-pence-says-inflation-is-16-but-cpi-is-3-this-is-his-logic-d0eb185d)\n"
      ],
      "text/plain": [
       "<IPython.core.display.Markdown object>"
      ]
     },
     "metadata": {},
     "output_type": "display_data"
    },
    {
     "data": {
      "text/markdown": [
       "[2023-07-18 15:23:34 CoinDesk - Messaging Platform Telegram Has Issued $270M in Bonds to Fund Growth](https://www.coindesk.com/business/2023/07/18/messaging-platform-telegram-has-issued-270m-in-bonds-to-fund-growth/?utm_medium=referral&utm_source=rss&utm_campaign=headlines)\n"
      ],
      "text/plain": [
       "<IPython.core.display.Markdown object>"
      ]
     },
     "metadata": {},
     "output_type": "display_data"
    },
    {
     "data": {
      "text/markdown": [
       "[2023-07-18 15:20:00 GlobalNewswire - Successful Simplified Public Tender Offer on Vilmorin & Cie shares](https://www.globenewswire.com/news-release/2023/07/18/2706637/0/en/Successful-Simplified-Public-Tender-Offer-on-Vilmorin-Cie-shares.html)\n"
      ],
      "text/plain": [
       "<IPython.core.display.Markdown object>"
      ]
     },
     "metadata": {},
     "output_type": "display_data"
    },
    {
     "data": {
      "text/markdown": [
       "[2023-07-18 15:20:00 GlobalNewswire - Succès de l’Offre Publique d’Achat Simplifiée visant les actions Vilmorin & Cie](https://www.globenewswire.com/news-release/2023/07/18/2706637/0/fr/Succ%C3%A8s-de-l-Offre-Publique-d-Achat-Simplifi%C3%A9e-visant-les-actions-Vilmorin-Cie.html)\n"
      ],
      "text/plain": [
       "<IPython.core.display.Markdown object>"
      ]
     },
     "metadata": {},
     "output_type": "display_data"
    },
    {
     "data": {
      "text/markdown": [
       "[2023-07-18 15:19:00 MarketWatch - Brett Arends's ROI: ‘I used to work at Nvidia. The stock I got is now half my portfolio. Should I sell?’](https://www.marketwatch.com/story/i-used-to-work-at-nvidia-the-stock-i-got-is-now-half-my-portfolio-should-i-sell-e99e4ebd)\n"
      ],
      "text/plain": [
       "<IPython.core.display.Markdown object>"
      ]
     },
     "metadata": {},
     "output_type": "display_data"
    },
    {
     "data": {
      "text/markdown": [
       "[2023-07-18 15:17:00 BusinessWire - NAMSA übernimmt das deutsche Unternehmen CRI, um klinische Forschung und geografische Präsenz in Europa auszubauen](http://www.businesswire.com/news/home/20230718401985/de/?feedref=JjAwJuNHiystnCoBq_hl-Rc4vIAVcHHkbDcwJimU8QtrtlakeQ9hNboBqTAWIjTge3KWq9s9jif-UkBjBsFRyYAbRTSLTc1mgvhPlnaBA55M-oupQnbXnhKsYk8RmHF_kAy2gZikaX3QWV6xOvgFlA==)\n"
      ],
      "text/plain": [
       "<IPython.core.display.Markdown object>"
      ]
     },
     "metadata": {},
     "output_type": "display_data"
    },
    {
     "data": {
      "text/markdown": [
       "[2023-07-18 15:12:29 CNBC - Retailers tap into Barbie's sparkle and hot pink as they try to get thrifty consumers to spend](https://www.cnbc.com/2023/07/18/barbie-movie-merchandise-bloomingdales-gap-aldo-look-to-boost-sales.html)\n"
      ],
      "text/plain": [
       "<IPython.core.display.Markdown object>"
      ]
     },
     "metadata": {},
     "output_type": "display_data"
    },
    {
     "data": {
      "text/markdown": [
       "[2023-07-18 15:07:00 CNBC - One of the world’s richest self-made men started as a motel janitor—now he has a net worth of $1.2 billion](https://www.cnbc.com/2023/07/18/yanolja-founder-started-as-a-motel-janitornow-he-is-a-billionaire.html)\n"
      ],
      "text/plain": [
       "<IPython.core.display.Markdown object>"
      ]
     },
     "metadata": {},
     "output_type": "display_data"
    },
    {
     "data": {
      "text/markdown": [
       "[2023-07-18 15:06:00 MarketWatch - The Ratings Game: Nvidia is showing shades of Apple and its stock could hit $625, says one new bull](https://www.marketwatch.com/story/nvidia-is-showing-shades-of-apple-and-its-stock-could-hit-625-says-one-new-bull-a097ce79)\n"
      ],
      "text/plain": [
       "<IPython.core.display.Markdown object>"
      ]
     },
     "metadata": {},
     "output_type": "display_data"
    },
    {
     "data": {
      "text/markdown": [
       "[2023-07-18 15:00:07 Forexlive - USDCAD buyers had their shot above 200H MA/50% retracement and missed.Its the sellers turn](https://www.forexlive.com/technical-analysis/usdcad-buyers-had-their-shot-above-200h-ma50-retracement-they-missed-the-seller-turn-20230718/)\n"
      ],
      "text/plain": [
       "<IPython.core.display.Markdown object>"
      ]
     },
     "metadata": {},
     "output_type": "display_data"
    },
    {
     "data": {
      "text/markdown": [
       "[2023-07-18 15:00:00 GlobalNewswire - MilkyBite: Milk Chocolate Market Set to Soar Past USD 32.26 Billion by 2030](https://www.globenewswire.com/news-release/2023/07/18/2706614/0/en/MilkyBite-Milk-Chocolate-Market-Set-to-Soar-Past-USD-32-26-Billion-by-2030.html)\n"
      ],
      "text/plain": [
       "<IPython.core.display.Markdown object>"
      ]
     },
     "metadata": {},
     "output_type": "display_data"
    },
    {
     "data": {
      "text/markdown": [
       "[2023-07-18 15:00:00 Cointelegraph - 12 things blockchain protocols should consider when exploring AI](https://cointelegraph.com/innovation-circle/12-things-blockchain-protocols-should-consider-when-exploring-ai)\n"
      ],
      "text/plain": [
       "<IPython.core.display.Markdown object>"
      ]
     },
     "metadata": {},
     "output_type": "display_data"
    },
    {
     "data": {
      "text/markdown": [
       "[2023-07-18 14:56:52 SeekingAlpha - SEATech Ventures acquires Just Supply Chain](https://seekingalpha.com/news/3988416-seatech-ventures-acquires-just-supply-chain?utm_source=feed_news_m_a&utm_medium=referral)\n"
      ],
      "text/plain": [
       "<IPython.core.display.Markdown object>"
      ]
     },
     "metadata": {},
     "output_type": "display_data"
    },
    {
     "data": {
      "text/markdown": [
       "[2023-07-18 14:56:51 CNBC - 32-year-old tech worker listed the salaries of all her jobs on LinkedIn—but doesn't recommend others do it](https://www.cnbc.com/2023/07/18/32-year-old-tech-worker-posted-salaries-of-all-her-jobs-on-linkedin.html)\n"
      ],
      "text/plain": [
       "<IPython.core.display.Markdown object>"
      ]
     },
     "metadata": {},
     "output_type": "display_data"
    },
    {
     "data": {
      "text/markdown": [
       "[2023-07-18 14:56:49 SeekingAlpha - Black Knight cut at Truist as divestiture bolsters sale to ICE chances](https://seekingalpha.com/news/3988415-black-knight-cut-at-truist-as-divestiture-bolsters-sale-to-ice-chances?utm_source=feed_news_m_a&utm_medium=referral)\n"
      ],
      "text/plain": [
       "<IPython.core.display.Markdown object>"
      ]
     },
     "metadata": {},
     "output_type": "display_data"
    },
    {
     "data": {
      "text/markdown": [
       "[2023-07-18 14:49:40 Cointelegraph - Bitcoin bulls battle to reclaim $30K amid BTC price RSI 'reset'](https://cointelegraph.com/news/bitcoin-bulls-reclaim-30k-btc-price-rsi)\n"
      ],
      "text/plain": [
       "<IPython.core.display.Markdown object>"
      ]
     },
     "metadata": {},
     "output_type": "display_data"
    },
    {
     "data": {
      "text/markdown": [
       "[2023-07-18 14:49:00 MarketWatch - Earnings Results: Charles Schwab’s stock on track for biggest one-day gain since March of 2020 after earnings beat](https://www.marketwatch.com/story/charles-schwab-earnings-fall-in-q2-but-still-beat-consensus-estimates-f7f6c4c)\n"
      ],
      "text/plain": [
       "<IPython.core.display.Markdown object>"
      ]
     },
     "metadata": {},
     "output_type": "display_data"
    },
    {
     "data": {
      "text/markdown": [
       "[2023-07-18 14:45:00 GlobalNewswire - Alberta Grains to be new name for merged wheat and barley commission](https://www.globenewswire.com/news-release/2023/07/18/2706598/0/en/Alberta-Grains-to-be-new-name-for-merged-wheat-and-barley-commission.html)\n"
      ],
      "text/plain": [
       "<IPython.core.display.Markdown object>"
      ]
     },
     "metadata": {},
     "output_type": "display_data"
    },
    {
     "data": {
      "text/markdown": [
       "[2023-07-18 14:44:23 Forexlive - AUDUSD consolidates with technical levels defining the up and down range.](https://www.forexlive.com/technical-analysis/audusd-consolidates-with-technical-levels-defining-the-up-and-down-range-20230718/)\n"
      ],
      "text/plain": [
       "<IPython.core.display.Markdown object>"
      ]
     },
     "metadata": {},
     "output_type": "display_data"
    },
    {
     "data": {
      "text/markdown": [
       "[2023-07-18 14:30:00 GlobalNewswire - Electronic Chemicals And Materials Market Set to Soar Past USD 101.31 Billion by 2030](https://www.globenewswire.com/news-release/2023/07/18/2706580/0/en/Electronic-Chemicals-And-Materials-Market-Set-to-Soar-Past-USD-101-31-Billion-by-2030.html)\n"
      ],
      "text/plain": [
       "<IPython.core.display.Markdown object>"
      ]
     },
     "metadata": {},
     "output_type": "display_data"
    },
    {
     "data": {
      "text/markdown": [
       "[2023-07-18 14:29:04 Dailyfx - USD/CAD Surrenders Post CPI Gains, Where to Next?](https://www.dailyfx.com/news/forex-usd-cad-surrenders-post-cpi-gains-where-to-next-20230718.html)\n"
      ],
      "text/plain": [
       "<IPython.core.display.Markdown object>"
      ]
     },
     "metadata": {},
     "output_type": "display_data"
    },
    {
     "data": {
      "text/markdown": [
       "[2023-07-18 14:20:00 GlobalNewswire - Davidson Kempner Capital Management LP : Form 8.3 - Horizon Therapeutics plc](https://www.globenewswire.com/news-release/2023/07/18/2706569/0/en/Davidson-Kempner-Capital-Management-LP-Form-8-3-Horizon-Therapeutics-plc.html)\n"
      ],
      "text/plain": [
       "<IPython.core.display.Markdown object>"
      ]
     },
     "metadata": {},
     "output_type": "display_data"
    },
    {
     "data": {
      "text/markdown": [
       "[2023-07-18 14:19:00 MarketWatch - The Tell: Top JPMorgan strategist sees ‘modestly wider’ path to U.S. soft landing after June inflation blockbuster](https://www.marketwatch.com/story/top-jpmorgan-strategist-sees-modestly-wider-path-to-u-s-soft-landing-after-june-inflation-blockbuster-475dad10)\n"
      ],
      "text/plain": [
       "<IPython.core.display.Markdown object>"
      ]
     },
     "metadata": {},
     "output_type": "display_data"
    },
    {
     "data": {
      "text/markdown": [
       "[2023-07-18 14:11:25 Forexlive - Italian 10-year yields fall to 4.0%](https://www.forexlive.com/news/italian-10-year-yields-fall-to-40-20230718/)\n"
      ],
      "text/plain": [
       "<IPython.core.display.Markdown object>"
      ]
     },
     "metadata": {},
     "output_type": "display_data"
    },
    {
     "data": {
      "text/markdown": [
       "[2023-07-18 14:11:00 MarketWatch - Banking: Morgan Stanley’s profit drops but beats expectations as stock rises](https://www.marketwatch.com/story/morgan-stanley-profit-drops-but-beats-expectations-as-stock-rises-ef4d3d7f)\n"
      ],
      "text/plain": [
       "<IPython.core.display.Markdown object>"
      ]
     },
     "metadata": {},
     "output_type": "display_data"
    },
    {
     "data": {
      "text/markdown": [
       "[2023-07-18 14:10:00 MarketWatch - : Trump says he’s a target of special counsel Jack Smith’s Jan. 6 case](https://www.marketwatch.com/story/trump-says-hes-a-target-of-special-counsel-jack-smiths-jan-6-case-449d436)\n"
      ],
      "text/plain": [
       "<IPython.core.display.Markdown object>"
      ]
     },
     "metadata": {},
     "output_type": "display_data"
    },
    {
     "data": {
      "text/markdown": [
       "[2023-07-18 14:09:00 MarketWatch - Economic Report: Strong home-buying demand boosts builders’ business outlook to the highest level since June 2022](https://www.marketwatch.com/story/strong-home-buying-demand-boosts-builders-business-outlook-to-the-highest-level-since-june-2022-2a0da123)\n"
      ],
      "text/plain": [
       "<IPython.core.display.Markdown object>"
      ]
     },
     "metadata": {},
     "output_type": "display_data"
    },
    {
     "data": {
      "text/markdown": [
       "[2023-07-18 14:05:00 MarketWatch - : Verizon and AT&T shares set to snap losing streaks](https://www.marketwatch.com/story/verizon-and-at-t-shares-set-to-snap-losing-streaks-a14386e5)\n"
      ],
      "text/plain": [
       "<IPython.core.display.Markdown object>"
      ]
     },
     "metadata": {},
     "output_type": "display_data"
    },
    {
     "data": {
      "text/markdown": [
       "[2023-07-18 14:04:32 SeekingAlpha - Set Jet eyes Nasdaq listing via merger with SPAC Revelstone Capital](https://seekingalpha.com/news/3988394-set-jet-eyes-nasdaq-listing-via-merger-with-spac-revelstone-capital?utm_source=feed_news_m_a&utm_medium=referral)\n"
      ],
      "text/plain": [
       "<IPython.core.display.Markdown object>"
      ]
     },
     "metadata": {},
     "output_type": "display_data"
    },
    {
     "data": {
      "text/markdown": [
       "[2023-07-18 14:03:00 MarketWatch - Economic Report: U.S. manufacturing sector is in a ‘sorry state’](https://www.marketwatch.com/story/u-s-industrial-output-weak-across-the-board-in-june-29eed651)\n"
      ],
      "text/plain": [
       "<IPython.core.display.Markdown object>"
      ]
     },
     "metadata": {},
     "output_type": "display_data"
    },
    {
     "data": {
      "text/markdown": [
       "[2023-07-18 14:01:58 CoinDesk - Tokenize Everything: Institutions Bet That Crypto’s Future Lies in the Real World](https://www.coindesk.com/consensus-magazine/2023/07/18/tokenize-everything-institutions-bet-that-cryptos-future-lies-in-the-real-world/?utm_medium=referral&utm_source=rss&utm_campaign=headlines)\n"
      ],
      "text/plain": [
       "<IPython.core.display.Markdown object>"
      ]
     },
     "metadata": {},
     "output_type": "display_data"
    },
    {
     "data": {
      "text/markdown": [
       "[2023-07-18 14:00:00 GlobalNewswire - Hot Sauce Market to Surpass 4.37 Billion by 2030 Drives Due to the Increasing Globalization Of Food Cultures](https://www.globenewswire.com/news-release/2023/07/18/2706551/0/en/Hot-Sauce-Market-to-Surpass-4-37-Billion-by-2030-Drives-Due-to-the-Increasing-Globalization-Of-Food-Cultures.html)\n"
      ],
      "text/plain": [
       "<IPython.core.display.Markdown object>"
      ]
     },
     "metadata": {},
     "output_type": "display_data"
    },
    {
     "data": {
      "text/markdown": [
       "[2023-07-18 13:49:43 SeekingAlpha - Activision downgraded at three brokers as Microsoft deal nears completion](https://seekingalpha.com/news/3988379-activision-downgraded-at-three-brokers-as-microsoft-deal-getting-close-to-completion?utm_source=feed_news_m_a&utm_medium=referral)\n"
      ],
      "text/plain": [
       "<IPython.core.display.Markdown object>"
      ]
     },
     "metadata": {},
     "output_type": "display_data"
    },
    {
     "data": {
      "text/markdown": [
       "[2023-07-18 13:45:18 Forexlive - USDJPY consolidates but below the 100 hour MA at 138.457](https://www.forexlive.com/technical-analysis/usdjpy-consolidates-but-below-the-100-hour-ma-at-138457-20230718/)\n"
      ],
      "text/plain": [
       "<IPython.core.display.Markdown object>"
      ]
     },
     "metadata": {},
     "output_type": "display_data"
    },
    {
     "data": {
      "text/markdown": [
       "[2023-07-18 13:36:00 GlobalNewswire - Horizon Therapeutics plc](https://www.globenewswire.com/news-release/2023/07/18/2706539/0/en/Horizon-Therapeutics-plc.html)\n"
      ],
      "text/plain": [
       "<IPython.core.display.Markdown object>"
      ]
     },
     "metadata": {},
     "output_type": "display_data"
    },
    {
     "data": {
      "text/markdown": [
       "[2023-07-18 13:34:01 Cointelegraph - EU stays on top of Web3 with metaverse, AI and crypto strategies](https://cointelegraph.com/news/eu-web3-metaverse-ai-crypto-strategy)\n"
      ],
      "text/plain": [
       "<IPython.core.display.Markdown object>"
      ]
     },
     "metadata": {},
     "output_type": "display_data"
    },
    {
     "data": {
      "text/markdown": [
       "[2023-07-18 13:30:00 GlobalNewswire - Proximity Sensors Market to Surpass 7.09 Billion by 2030 Drives Due to the Increasingly Adopting the Automation Technologies](https://www.globenewswire.com/news-release/2023/07/18/2706530/0/en/Proximity-Sensors-Market-to-Surpass-7-09-Billion-by-2030-Drives-Due-to-the-Increasingly-Adopting-the-Automation-Technologies.html)\n"
      ],
      "text/plain": [
       "<IPython.core.display.Markdown object>"
      ]
     },
     "metadata": {},
     "output_type": "display_data"
    },
    {
     "data": {
      "text/markdown": [
       "[2023-07-18 13:25:11 CoinDesk - Arkham's Token Debuts at $0.75 After Being Sold for $0.05 in Binance Launchpad](https://www.coindesk.com/business/2023/07/18/arkhams-token-debuts-at-075-after-being-sold-for-005-in-binance-launchpad/?utm_medium=referral&utm_source=rss&utm_campaign=headlines)\n"
      ],
      "text/plain": [
       "<IPython.core.display.Markdown object>"
      ]
     },
     "metadata": {},
     "output_type": "display_data"
    },
    {
     "data": {
      "text/markdown": [
       "[2023-07-18 13:23:12 SeekingAlpha - Canadian competition regulator clears Newmont's acquisition of Newcrest](https://seekingalpha.com/news/3988369-canadian-competition-regulator-clears-newmonts-acquisition-of-newcrest?utm_source=feed_news_m_a&utm_medium=referral)\n"
      ],
      "text/plain": [
       "<IPython.core.display.Markdown object>"
      ]
     },
     "metadata": {},
     "output_type": "display_data"
    },
    {
     "data": {
      "text/markdown": [
       "[2023-07-18 13:21:00 MarketWatch - Banking: PNC’s stock slides 3% premarket after its outlook disappoints and revenue falls short of estimates](https://www.marketwatch.com/story/pncs-stock-slides-3-premarket-after-revenue-falls-short-of-estimates-4de43a29)\n"
      ],
      "text/plain": [
       "<IPython.core.display.Markdown object>"
      ]
     },
     "metadata": {},
     "output_type": "display_data"
    },
    {
     "data": {
      "text/markdown": [
       "[2023-07-18 13:17:04 Cointelegraph - Vitalik Buterin shares account abstraction challenges in Ethereum: EthCC](https://cointelegraph.com/news/vitalik-buterin-ethereum-ethcc-paris-account-abstraction-ethereum)\n"
      ],
      "text/plain": [
       "<IPython.core.display.Markdown object>"
      ]
     },
     "metadata": {},
     "output_type": "display_data"
    },
    {
     "data": {
      "text/markdown": [
       "[2023-07-18 13:09:00 GlobalNewswire - Dimensional Fund Advisors Ltd. : Form 8.3 - LOOKERS PLC - Ordinary Shares](https://www.globenewswire.com/news-release/2023/07/18/2706491/0/en/Dimensional-Fund-Advisors-Ltd-Form-8-3-LOOKERS-PLC-Ordinary-Shares.html)\n"
      ],
      "text/plain": [
       "<IPython.core.display.Markdown object>"
      ]
     },
     "metadata": {},
     "output_type": "display_data"
    },
    {
     "data": {
      "text/markdown": [
       "[2023-07-18 13:08:05 SeekingAlpha - Nvidia nears deal for stake in Lambda Labs - report](https://seekingalpha.com/news/3988356-nvidia-nears-deal-for-stake-in-lambda-labs-report?utm_source=feed_news_m_a&utm_medium=referral)\n"
      ],
      "text/plain": [
       "<IPython.core.display.Markdown object>"
      ]
     },
     "metadata": {},
     "output_type": "display_data"
    },
    {
     "data": {
      "text/markdown": [
       "[2023-07-18 13:07:56 CNBC - Jim Cramer's top 10 things to watch in the stock market Tuesday](https://www.cnbc.com/2023/07/18/jim-cramers-top-10-things-to-watch-in-the-stock-market-tuesday.html)\n"
      ],
      "text/plain": [
       "<IPython.core.display.Markdown object>"
      ]
     },
     "metadata": {},
     "output_type": "display_data"
    },
    {
     "data": {
      "text/markdown": [
       "[2023-07-18 13:07:00 Cointelegraph - 9 AI coding tools every developer must know](https://cointelegraph.com/news/9-ai-coding-tools)\n"
      ],
      "text/plain": [
       "<IPython.core.display.Markdown object>"
      ]
     },
     "metadata": {},
     "output_type": "display_data"
    },
    {
     "data": {
      "text/markdown": [
       "[2023-07-18 13:05:00 BusinessWire - Oxford Finance’s Healthcare Leveraged Lending Group Provides 2023 Mid-Year Update](http://www.businesswire.com/news/home/20230718453033/en/Oxford-Finance%E2%80%99s-Healthcare-Leveraged-Lending-Group-Provides-2023-Mid-Year-Update/?feedref=JjAwJuNHiystnCoBq_hl-Rc4vIAVcHHkbDcwJimU8QtrtlakeQ9hNboBqTAWIjTge3KWq9s9jif-UkBjBsFRyYAbRTSLTc1mgvhPlnaBA55M-oupQnbXnhKsYk8RmHF_kAy2gZikaX3QWV6xO)\n"
      ],
      "text/plain": [
       "<IPython.core.display.Markdown object>"
      ]
     },
     "metadata": {},
     "output_type": "display_data"
    },
    {
     "data": {
      "text/markdown": [
       "[2023-07-18 13:01:00 MarketWatch - The Ratings Game: Apple dubbed the most ‘boring’ buy-rated stock — and that’s actually a good thing](https://www.marketwatch.com/story/apple-dubbed-the-most-boring-buy-rated-stock-and-thats-actually-a-good-thing-5c427e9e)\n"
      ],
      "text/plain": [
       "<IPython.core.display.Markdown object>"
      ]
     },
     "metadata": {},
     "output_type": "display_data"
    },
    {
     "data": {
      "text/markdown": [
       "[2023-07-18 13:00:00 GlobalNewswire - Set Jet to Become Public Via Merger with Revelstone Capital Acquisition Corp.](https://www.globenewswire.com/news-release/2023/07/18/2706436/0/en/Set-Jet-to-Become-Public-Via-Merger-with-Revelstone-Capital-Acquisition-Corp.html)\n"
      ],
      "text/plain": [
       "<IPython.core.display.Markdown object>"
      ]
     },
     "metadata": {},
     "output_type": "display_data"
    },
    {
     "data": {
      "text/markdown": [
       "[2023-07-18 13:00:00 GlobalNewswire - Feed Enzymes  Market Set to Soar Past USD 2.88 Billion by 2030: Precision Nutrition Solutions](https://www.globenewswire.com/news-release/2023/07/18/2706443/0/en/Feed-Enzymes-Market-Set-to-Soar-Past-USD-2-88-Billion-by-2030-Precision-Nutrition-Solutions.html)\n"
      ],
      "text/plain": [
       "<IPython.core.display.Markdown object>"
      ]
     },
     "metadata": {},
     "output_type": "display_data"
    },
    {
     "data": {
      "text/markdown": [
       "[2023-07-18 13:00:00 GlobalNewswire - Tokio Marine HCC Announces Agreement to Acquire Provider of Group Supplemental Gap Medical Coverage](https://www.globenewswire.com/news-release/2023/07/18/2706454/4836/en/Tokio-Marine-HCC-Announces-Agreement-to-Acquire-Provider-of-Group-Supplemental-Gap-Medical-Coverage.html)\n"
      ],
      "text/plain": [
       "<IPython.core.display.Markdown object>"
      ]
     },
     "metadata": {},
     "output_type": "display_data"
    },
    {
     "data": {
      "text/markdown": [
       "[2023-07-18 12:59:37 Dailyfx - USD/ZAR Price Forecast: Rand Lingers Ahead of CPI & SARB](https://www.dailyfx.com/news/forex-usd-zar-price-forecast-rand-lingers-ahead-of-cpi-sarb-wv-20230718.html)\n"
      ],
      "text/plain": [
       "<IPython.core.display.Markdown object>"
      ]
     },
     "metadata": {},
     "output_type": "display_data"
    },
    {
     "data": {
      "text/markdown": [
       "[2023-07-18 12:55:00 MarketWatch - The Ratings Game: Norwegian Cruise stock falls as analyst worries the ‘undeniable’ recovery is already priced in](https://www.marketwatch.com/story/norwegian-cruise-stock-falls-as-analyst-worries-the-undeniable-recovery-is-already-priced-in-8baaf707)\n"
      ],
      "text/plain": [
       "<IPython.core.display.Markdown object>"
      ]
     },
     "metadata": {},
     "output_type": "display_data"
    },
    {
     "data": {
      "text/markdown": [
       "[2023-07-18 12:51:00 BusinessWire - Audax Private Debt Provides Financing to Support Incline Equity Partners’ Acquisition of GME Supply Co.](http://www.businesswire.com/news/home/20230717732321/en/Audax-Private-Debt-Provides-Financing-to-Support-Incline-Equity-Partners%E2%80%99-Acquisition-of-GME-Supply-Co./?feedref=JjAwJuNHiystnCoBq_hl-Rc4vIAVcHHkbDcwJimU8QtrtlakeQ9hNboBqTAWIjTge3KWq9s9jif-UkBjBsFRyYAbRTSLTc1mgvhPlnaBA55M-oupQnbXnhKsYk8)\n"
      ],
      "text/plain": [
       "<IPython.core.display.Markdown object>"
      ]
     },
     "metadata": {},
     "output_type": "display_data"
    },
    {
     "data": {
      "text/markdown": [
       "[2023-07-18 12:45:00 GlobalNewswire - Washington Water Service Acquires Stroh’s Water Company](https://www.globenewswire.com/news-release/2023/07/18/2706429/0/en/Washington-Water-Service-Acquires-Stroh-s-Water-Company.html)\n"
      ],
      "text/plain": [
       "<IPython.core.display.Markdown object>"
      ]
     },
     "metadata": {},
     "output_type": "display_data"
    },
    {
     "data": {
      "text/markdown": [
       "[2023-07-18 12:41:00 MarketWatch - Market Snapshot: U.S. stock futures hold near 15-month highs as earnings season accelerates](https://www.marketwatch.com/story/futures-show-stocks-holding-near-15-month-highs-as-earnings-season-accelerates-a9bb6df3)\n"
      ],
      "text/plain": [
       "<IPython.core.display.Markdown object>"
      ]
     },
     "metadata": {},
     "output_type": "display_data"
    },
    {
     "data": {
      "text/markdown": [
       "[2023-07-18 12:39:00 MarketWatch - Economic Report: U.S. retail sales barely rise and point to weak spots in the economy](https://www.marketwatch.com/story/u-s-retail-sales-barely-rise-in-june-b93abee7)\n"
      ],
      "text/plain": [
       "<IPython.core.display.Markdown object>"
      ]
     },
     "metadata": {},
     "output_type": "display_data"
    },
    {
     "data": {
      "text/markdown": [
       "[2023-07-18 12:33:23 CoinDesk - Metaverse Startup Futureverse Raises $54M Series A From 10T Holdings, Ripple Labs: Bloomberg](https://www.coindesk.com/web3/2023/07/18/metaverse-startup-futureverse-raises-54m-series-a-from-10t-holdings-ripple-labs-bloomberg/?utm_medium=referral&utm_source=rss&utm_campaign=headlines)\n"
      ],
      "text/plain": [
       "<IPython.core.display.Markdown object>"
      ]
     },
     "metadata": {},
     "output_type": "display_data"
    },
    {
     "data": {
      "text/markdown": [
       "[2023-07-18 12:33:00 MarketWatch - The Ratings Game: AMD may suffer from elevated expectations — but Wells Fargo is warming to Intel’s setup](https://www.marketwatch.com/story/amd-may-suffer-from-elevated-expectations-but-wells-fargo-is-warming-to-intels-setup-28c19a66)\n"
      ],
      "text/plain": [
       "<IPython.core.display.Markdown object>"
      ]
     },
     "metadata": {},
     "output_type": "display_data"
    },
    {
     "data": {
      "text/markdown": [
       "[2023-07-18 12:30:16 Forexlive - Canada June CPI 2.8% y/y versus 3.0% expected](https://www.forexlive.com/news/canada-june-cpi-28-yy-versus-30-expected-20230718/)\n"
      ],
      "text/plain": [
       "<IPython.core.display.Markdown object>"
      ]
     },
     "metadata": {},
     "output_type": "display_data"
    },
    {
     "data": {
      "text/markdown": [
       "[2023-07-18 12:30:00 GlobalNewswire - Body Contour Tech: Drug Discovery Outsourcing Market Set to Soar Past USD 6.2 Billion by 2030 | Skyquest Technology](https://www.globenewswire.com/news-release/2023/07/18/2706418/0/en/Body-Contour-Tech-Drug-Discovery-Outsourcing-Market-Set-to-Soar-Past-USD-6-2-Billion-by-2030-Skyquest-Technology.html)\n"
      ],
      "text/plain": [
       "<IPython.core.display.Markdown object>"
      ]
     },
     "metadata": {},
     "output_type": "display_data"
    },
    {
     "data": {
      "text/markdown": [
       "[2023-07-18 12:25:00 GlobalNewswire - Resonate Blends Provides an Update on its Acquisition Partner Pegasus Specialty Vehicles](https://www.globenewswire.com/news-release/2023/07/18/2706398/0/en/Resonate-Blends-Provides-an-Update-on-its-Acquisition-Partner-Pegasus-Specialty-Vehicles.html)\n"
      ],
      "text/plain": [
       "<IPython.core.display.Markdown object>"
      ]
     },
     "metadata": {},
     "output_type": "display_data"
    },
    {
     "data": {
      "text/markdown": [
       "[2023-07-18 12:16:00 MarketWatch - The Moneyist: ‘I was outraged’: Our restaurant bill was $35 each, but our friend wanted to pay $22 for a gluten-free dish. Who’s right?](https://www.marketwatch.com/story/i-was-outraged-our-restaurant-bill-was-35-each-but-our-friend-wanted-to-pay-22-for-a-gluten-free-dish-whos-right-d8b90e12)\n"
      ],
      "text/plain": [
       "<IPython.core.display.Markdown object>"
      ]
     },
     "metadata": {},
     "output_type": "display_data"
    },
    {
     "data": {
      "text/markdown": [
       "[2023-07-18 12:15:00 GlobalNewswire - Vehicle-To-Grid Market Size Worth USD 59.2 Million, Globally, by 2030 at a CAGR of 26.6%](https://www.globenewswire.com/news-release/2023/07/18/2706394/0/en/Vehicle-To-Grid-Market-Size-Worth-USD-59-2-Million-Globally-by-2030-at-a-CAGR-of-26-6.html)\n"
      ],
      "text/plain": [
       "<IPython.core.display.Markdown object>"
      ]
     },
     "metadata": {},
     "output_type": "display_data"
    },
    {
     "data": {
      "text/markdown": [
       "[2023-07-18 12:15:00 MarketWatch - Metals Stocks: Gold prices hit 4-week high as weaker U.S. dollar, lower Treasury yields boost metals](https://www.marketwatch.com/story/gold-prices-hit-4-week-high-as-weaker-u-s-dollar-lower-treasury-yields-boost-metals-6a9d0c6b)\n"
      ],
      "text/plain": [
       "<IPython.core.display.Markdown object>"
      ]
     },
     "metadata": {},
     "output_type": "display_data"
    },
    {
     "data": {
      "text/markdown": [
       "[2023-07-18 12:08:00 GlobalNewswire - Automotive Battery Management System Market Worth $26.46 billion at CAGR 16.17% by 2030](https://www.globenewswire.com/news-release/2023/07/18/2706389/0/en/Automotive-Battery-Management-System-Market-Worth-26-46-billion-at-CAGR-16-17-by-2030.html)\n"
      ],
      "text/plain": [
       "<IPython.core.display.Markdown object>"
      ]
     },
     "metadata": {},
     "output_type": "display_data"
    },
    {
     "data": {
      "text/markdown": [
       "[2023-07-18 12:04:00 MarketWatch - : ‘Just 1% of the nation’s homes have changed hands this year,’ Redfin says](https://www.marketwatch.com/story/just-1-of-the-nations-homes-have-changed-hands-this-year-redfin-says-f8ce52fa)\n"
      ],
      "text/plain": [
       "<IPython.core.display.Markdown object>"
      ]
     },
     "metadata": {},
     "output_type": "display_data"
    },
    {
     "data": {
      "text/markdown": [
       "[2023-07-18 12:03:53 CNBC - United adds Tokyo, Manila and Taipei flights to cater to international travel boom](https://www.cnbc.com/2023/07/18/united-adds-tokyo-manila-and-taipei-flights.html)\n"
      ],
      "text/plain": [
       "<IPython.core.display.Markdown object>"
      ]
     },
     "metadata": {},
     "output_type": "display_data"
    },
    {
     "data": {
      "text/markdown": [
       "[2023-07-18 12:00:48 Dailyfx - Bitcoin (BTC/USD) Fades Lower as Bulls Tire, Support Coming Under Pressure](https://www.dailyfx.com/news/bitcoin-btc-usd-fades-lower-as-bulls-tire-support-coming-under-pressure-20230718.html)\n"
      ],
      "text/plain": [
       "<IPython.core.display.Markdown object>"
      ]
     },
     "metadata": {},
     "output_type": "display_data"
    },
    {
     "data": {
      "text/markdown": [
       "[2023-07-18 12:00:00 GlobalNewswire - United States Reusable Launch Vehicle Market to Worth USD 1,634.9 Million by 2027 | With 14.77% CAGR](https://www.globenewswire.com/news-release/2023/07/18/2706380/0/en/United-States-Reusable-Launch-Vehicle-Market-to-Worth-USD-1-634-9-Million-by-2027-With-14-77-CAGR.html)\n"
      ],
      "text/plain": [
       "<IPython.core.display.Markdown object>"
      ]
     },
     "metadata": {},
     "output_type": "display_data"
    },
    {
     "data": {
      "text/markdown": [
       "[2023-07-18 12:00:00 MarketWatch - : Opioid use in people with dementia linked with 11 times higher risk of death within two weeks, new research shows](https://www.marketwatch.com/story/opioid-use-in-people-with-dementia-linked-with-11-times-higher-risk-of-death-within-two-weeks-new-research-shows-4575e1a1)\n"
      ],
      "text/plain": [
       "<IPython.core.display.Markdown object>"
      ]
     },
     "metadata": {},
     "output_type": "display_data"
    },
    {
     "data": {
      "text/markdown": [
       "[2023-07-18 11:58:00 MarketWatch - The Ratings Game: Domino’s will now deliver pizza via Uber Eats. It may need other apps to hit its sales goals.](https://www.marketwatch.com/story/dominos-will-now-deliver-pizza-via-uber-eats-it-may-need-other-apps-to-hit-its-sales-goals-8f171580)\n"
      ],
      "text/plain": [
       "<IPython.core.display.Markdown object>"
      ]
     },
     "metadata": {},
     "output_type": "display_data"
    },
    {
     "data": {
      "text/markdown": [
       "[2023-07-18 11:55:00 GlobalNewswire - Form 8.3 - LondonMetric Property PLC](https://www.globenewswire.com/news-release/2023/07/18/2706317/0/en/Form-8-3-LondonMetric-Property-PLC.html)\n"
      ],
      "text/plain": [
       "<IPython.core.display.Markdown object>"
      ]
     },
     "metadata": {},
     "output_type": "display_data"
    },
    {
     "data": {
      "text/markdown": [
       "[2023-07-18 11:55:00 GlobalNewswire - Automotive Infotainment Market Size Expected to Rise $49.86 billion at CAGR 6.47% by 2030](https://www.globenewswire.com/news-release/2023/07/18/2706316/0/en/Automotive-Infotainment-Market-Size-Expected-to-Rise-49-86-billion-at-CAGR-6-47-by-2030.html)\n"
      ],
      "text/plain": [
       "<IPython.core.display.Markdown object>"
      ]
     },
     "metadata": {},
     "output_type": "display_data"
    },
    {
     "data": {
      "text/markdown": [
       "[2023-07-18 11:45:21 Cointelegraph - Oasis launches Ethereum-compatible privacy blockchain Sapphire](https://cointelegraph.com/news/ethereum-compatible-privacy-blockchain-sapphire-launches)\n"
      ],
      "text/plain": [
       "<IPython.core.display.Markdown object>"
      ]
     },
     "metadata": {},
     "output_type": "display_data"
    },
    {
     "data": {
      "text/markdown": [
       "[2023-07-18 11:43:00 GlobalNewswire - Automotive Chassis Market Size Expected to Rise $330.02 billion at CAGR 12.17% by 2030](https://www.globenewswire.com/news-release/2023/07/18/2706313/0/en/Automotive-Chassis-Market-Size-Expected-to-Rise-330-02-billion-at-CAGR-12-17-by-2030.html)\n"
      ],
      "text/plain": [
       "<IPython.core.display.Markdown object>"
      ]
     },
     "metadata": {},
     "output_type": "display_data"
    },
    {
     "data": {
      "text/markdown": [
       "[2023-07-18 11:42:00 MarketWatch - Need to Know: Extreme weather may douse sizzling stock market, warns Schwab strategist](https://www.marketwatch.com/story/extreme-weather-may-douse-sizzling-stock-market-warns-schwab-strategist-83545407)\n"
      ],
      "text/plain": [
       "<IPython.core.display.Markdown object>"
      ]
     },
     "metadata": {},
     "output_type": "display_data"
    },
    {
     "data": {
      "text/markdown": [
       "[2023-07-18 11:40:00 MarketWatch - Futures Movers: Oil edges higher after back-to-back declines](https://www.marketwatch.com/story/oil-edges-higher-after-back-to-back-declines-ac58ce39)\n"
      ],
      "text/plain": [
       "<IPython.core.display.Markdown object>"
      ]
     },
     "metadata": {},
     "output_type": "display_data"
    },
    {
     "data": {
      "text/markdown": [
       "[2023-07-18 11:34:00 MarketWatch - The Ratings Game: Netflix’s stock reflects too much ‘euphoria’ as Hollywood strikes linger, analyst warns](https://www.marketwatch.com/story/netflixs-stock-reflects-too-much-euphoria-as-hollywood-strikes-linger-analyst-warns-c3bba3c)\n"
      ],
      "text/plain": [
       "<IPython.core.display.Markdown object>"
      ]
     },
     "metadata": {},
     "output_type": "display_data"
    },
    {
     "data": {
      "text/markdown": [
       "[2023-07-18 11:34:00 GlobalNewswire - Fuel Cell Market Size Expected to Rise $36.41 billion at CAGR 29.7% by 2029](https://www.globenewswire.com/news-release/2023/07/18/2706308/0/en/Fuel-Cell-Market-Size-Expected-to-Rise-36-41-billion-at-CAGR-29-7-by-2029.html)\n"
      ],
      "text/plain": [
       "<IPython.core.display.Markdown object>"
      ]
     },
     "metadata": {},
     "output_type": "display_data"
    },
    {
     "data": {
      "text/markdown": [
       "[2023-07-18 11:32:59 Cointelegraph - Valkyrie ‘BRRR’ spot Bitcoin ETF enters SEC’s Nasdaq rulemaking list](https://cointelegraph.com/news/bitcoin-sec-valkyrie-spot-bitcoin-etf-enters-nasdaq-rulemaking-list-by-sec)\n"
      ],
      "text/plain": [
       "<IPython.core.display.Markdown object>"
      ]
     },
     "metadata": {},
     "output_type": "display_data"
    },
    {
     "data": {
      "text/markdown": [
       "[2023-07-18 11:30:55 Forexlive - ForexLive European FX news wrap: Dollar stays on the ropes, awaits US retail sales](https://www.forexlive.com/news/forexlive-european-fx-news-wrap-dollar-stays-on-the-ropes-awaits-us-retail-sales-20230718/)\n"
      ],
      "text/plain": [
       "<IPython.core.display.Markdown object>"
      ]
     },
     "metadata": {},
     "output_type": "display_data"
    },
    {
     "data": {
      "text/markdown": [
       "[2023-07-18 11:30:00 BusinessWire - Newmont Announces Canadian Competition Bureau Clearance for Acquisition of Newcrest](http://www.businesswire.com/news/home/20230718001761/en/Newmont-Announces-Canadian-Competition-Bureau-Clearance-for-Acquisition-of-Newcrest/?feedref=JjAwJuNHiystnCoBq_hl-Rc4vIAVcHHkbDcwJimU8QtrtlakeQ9hNboBqTAWIjTge3KWq9s9jif-UkBjBsFRyYAbRTSLTc1mgvhPlnaBA55M-oupQnbXnhKsYk8RmHF_kAy2gZikaX3QWV6xOvgFlA=)\n"
      ],
      "text/plain": [
       "<IPython.core.display.Markdown object>"
      ]
     },
     "metadata": {},
     "output_type": "display_data"
    },
    {
     "data": {
      "text/markdown": [
       "[2023-07-18 11:28:00 MarketWatch - Banking: Bank of America’s stock rises after second-quarter earnings and revenue beat expectations](https://www.marketwatch.com/story/bank-of-america-stock-rises-after-second-quarter-earnings-and-revenue-beat-expectations-78bf9cb2)\n"
      ],
      "text/plain": [
       "<IPython.core.display.Markdown object>"
      ]
     },
     "metadata": {},
     "output_type": "display_data"
    },
    {
     "data": {
      "text/markdown": [
       "[2023-07-18 11:23:29 SeekingAlpha - Stratasys gains after Nano Dimension raises offer to $25 a share](https://seekingalpha.com/news/3988300-stratasys-gains-after-nano-dimension-raises-offer-to-25-a-share?utm_source=feed_news_m_a&utm_medium=referral)\n"
      ],
      "text/plain": [
       "<IPython.core.display.Markdown object>"
      ]
     },
     "metadata": {},
     "output_type": "display_data"
    },
    {
     "data": {
      "text/markdown": [
       "[2023-07-18 11:20:02 CNBC - Chipotle signs first-ever franchise partner to open locations in the Middle East](https://www.cnbc.com/2023/07/18/chipotle-middle-east-locations-coming-next-year-via-alshaya-group-deal.html)\n"
      ],
      "text/plain": [
       "<IPython.core.display.Markdown object>"
      ]
     },
     "metadata": {},
     "output_type": "display_data"
    },
    {
     "data": {
      "text/markdown": [
       "[2023-07-18 11:12:14 Dailyfx - Retail and Institutional Sentiment in EUR/USD and GBP/USD Diverges Further](https://www.dailyfx.com/news/retail-and-institutional-sentiment-in-eur-usd-and-gbp-usd-diverges-further-20230718.html)\n"
      ],
      "text/plain": [
       "<IPython.core.display.Markdown object>"
      ]
     },
     "metadata": {},
     "output_type": "display_data"
    },
    {
     "data": {
      "text/markdown": [
       "[2023-07-18 11:11:00 GlobalNewswire - Offshore Drilling Market Size Expected to Rise $65.63 billion at CAGR 8.7% by 2030](https://www.globenewswire.com/news-release/2023/07/18/2706294/0/en/Offshore-Drilling-Market-Size-Expected-to-Rise-65-63-billion-at-CAGR-8-7-by-2030.html)\n"
      ],
      "text/plain": [
       "<IPython.core.display.Markdown object>"
      ]
     },
     "metadata": {},
     "output_type": "display_data"
    },
    {
     "data": {
      "text/markdown": [
       "[2023-07-18 11:09:55 Forexlive - NZDUSD Technical Analysis](https://www.forexlive.com/technical-analysis/nzdusd-technical-analysis-20230718/)\n"
      ],
      "text/plain": [
       "<IPython.core.display.Markdown object>"
      ]
     },
     "metadata": {},
     "output_type": "display_data"
    },
    {
     "data": {
      "text/markdown": [
       "[2023-07-18 11:06:40 CoinDesk - Even Unpaid Social Media Crypto Promotions May Breach UK Ad Rules: Financial Regulator](https://www.coindesk.com/policy/2023/07/18/even-unpaid-social-media-crypto-promotions-may-breach-uk-ad-rules-financial-regulator/?utm_medium=referral&utm_source=rss&utm_campaign=headlines)\n"
      ],
      "text/plain": [
       "<IPython.core.display.Markdown object>"
      ]
     },
     "metadata": {},
     "output_type": "display_data"
    },
    {
     "data": {
      "text/markdown": [
       "[2023-07-18 11:05:00 MarketWatch - Peter Morici: How Ukraine joining NATO would keep critical technology out of China’s hands](https://www.marketwatch.com/story/how-ukraine-joining-nato-would-keep-critical-technology-out-of-chinas-hands-86698021)\n"
      ],
      "text/plain": [
       "<IPython.core.display.Markdown object>"
      ]
     },
     "metadata": {},
     "output_type": "display_data"
    },
    {
     "data": {
      "text/markdown": [
       "[2023-07-18 10:58:20 Cointelegraph - Internet Computer will be a key alternative to AWS-like services - Dfinity exec](https://cointelegraph.com/news/internet-computer-as-key-alternative-to-aws-services)\n"
      ],
      "text/plain": [
       "<IPython.core.display.Markdown object>"
      ]
     },
     "metadata": {},
     "output_type": "display_data"
    },
    {
     "data": {
      "text/markdown": [
       "[2023-07-18 10:55:00 GlobalNewswire - Biorefinery Market Size Expected to Rise $80.26 billion at CAGR 8.6% by 2029](https://www.globenewswire.com/news-release/2023/07/18/2706264/0/en/Biorefinery-Market-Size-Expected-to-Rise-80-26-billion-at-CAGR-8-6-by-2029.html)\n"
      ],
      "text/plain": [
       "<IPython.core.display.Markdown object>"
      ]
     },
     "metadata": {},
     "output_type": "display_data"
    },
    {
     "data": {
      "text/markdown": [
       "[2023-07-18 10:52:20 SeekingAlpha - Neoleukin jumps 7% on Neurogene merger](https://seekingalpha.com/news/3988287-neoleukin-jumps-7-on-neurogene-merger?utm_source=feed_news_m_a&utm_medium=referral)\n"
      ],
      "text/plain": [
       "<IPython.core.display.Markdown object>"
      ]
     },
     "metadata": {},
     "output_type": "display_data"
    },
    {
     "data": {
      "text/markdown": [
       "[2023-07-18 10:30:00 GlobalNewswire - Wind Tower Market Set to Soar Past USD 41.3 Billion by 2030 | Skyquest Technology](https://www.globenewswire.com/news-release/2023/07/18/2706251/0/en/Wind-Tower-Market-Set-to-Soar-Past-USD-41-3-Billion-by-2030-Skyquest-Technology.html)\n"
      ],
      "text/plain": [
       "<IPython.core.display.Markdown object>"
      ]
     },
     "metadata": {},
     "output_type": "display_data"
    },
    {
     "data": {
      "text/markdown": [
       "[2023-07-18 10:30:00 GlobalNewswire - Neurogene and Neoleukin Announce Definitive Merger Agreement](https://www.globenewswire.com/news-release/2023/07/18/2706252/0/en/Neurogene-and-Neoleukin-Announce-Definitive-Merger-Agreement.html)\n"
      ],
      "text/plain": [
       "<IPython.core.display.Markdown object>"
      ]
     },
     "metadata": {},
     "output_type": "display_data"
    },
    {
     "data": {
      "text/markdown": [
       "[2023-07-18 10:30:00 BusinessWire - Thompson Street Capital Partners Portfolio Company PestCo Holdings Acquires 5 Star Pest Solutions](http://www.businesswire.com/news/home/20230718157731/en/Thompson-Street-Capital-Partners-Portfolio-Company-PestCo-Holdings-Acquires-5-Star-Pest-Solutions/?feedref=JjAwJuNHiystnCoBq_hl-Rc4vIAVcHHkbDcwJimU8QtrtlakeQ9hNboBqTAWIjTge3KWq9s9jif-UkBjBsFRyYAbRTSLTc1mgvhPlnaBA55M-oupQnbXnhKsYk8RmHF_kAy2gZika)\n"
      ],
      "text/plain": [
       "<IPython.core.display.Markdown object>"
      ]
     },
     "metadata": {},
     "output_type": "display_data"
    },
    {
     "data": {
      "text/markdown": [
       "[2023-07-18 10:29:32 Forexlive - Will UK inflation data give sterling another boost this week?](https://www.forexlive.com/news/will-uk-inflation-data-give-sterling-another-boost-this-week-20230718/)\n"
      ],
      "text/plain": [
       "<IPython.core.display.Markdown object>"
      ]
     },
     "metadata": {},
     "output_type": "display_data"
    },
    {
     "data": {
      "text/markdown": [
       "[2023-07-18 10:20:00 GlobalNewswire - Invesco Ltd: Form 8.3 - Gresham House PLC OPD](https://www.globenewswire.com/news-release/2023/07/18/2706246/0/en/Invesco-Ltd-Form-8-3-Gresham-House-PLC-OPD.html)\n"
      ],
      "text/plain": [
       "<IPython.core.display.Markdown object>"
      ]
     },
     "metadata": {},
     "output_type": "display_data"
    },
    {
     "data": {
      "text/markdown": [
       "[2023-07-18 10:07:00 MarketWatch - Retirement Weekly: Should Social Security be invested in equities?](https://www.marketwatch.com/story/should-social-security-be-invested-in-equities-9b602971)\n"
      ],
      "text/plain": [
       "<IPython.core.display.Markdown object>"
      ]
     },
     "metadata": {},
     "output_type": "display_data"
    },
    {
     "data": {
      "text/markdown": [
       "[2023-07-18 10:00:11 Dailyfx - Gold Price Forecast: $1980 Beckons but Are Bulls Ready to Take Control?](https://www.dailyfx.com/news/forex-gold-price-forecast-1980-beckons-but-are-bulls-ready-to-take-control-20230718.html)\n"
      ],
      "text/plain": [
       "<IPython.core.display.Markdown object>"
      ]
     },
     "metadata": {},
     "output_type": "display_data"
    },
    {
     "data": {
      "text/markdown": [
       "[2023-07-18 10:00:01 CNBC - Wall Street is bullish on Big Tech heading into earnings — here's what we think](https://www.cnbc.com/2023/07/18/wall-street-is-bullish-on-big-tech-heading-into-earnings.html)\n"
      ],
      "text/plain": [
       "<IPython.core.display.Markdown object>"
      ]
     },
     "metadata": {},
     "output_type": "display_data"
    },
    {
     "data": {
      "text/markdown": [
       "[2023-07-18 10:00:00 GlobalNewswire - Form 8.3 - Dechra Pharmaceuticals PLC](https://www.globenewswire.com/news-release/2023/07/18/2706236/0/en/Form-8-3-Dechra-Pharmaceuticals-PLC.html)\n"
      ],
      "text/plain": [
       "<IPython.core.display.Markdown object>"
      ]
     },
     "metadata": {},
     "output_type": "display_data"
    },
    {
     "data": {
      "text/markdown": [
       "[2023-07-18 09:59:24 CoinDesk - Coinbase Earn Is Particularly Vulnerable to Being Defined as a Security: Berenberg](https://www.coindesk.com/policy/2023/07/18/coinbase-earn-is-particularly-vulnerable-to-being-defined-as-a-security-berenberg/?utm_medium=referral&utm_source=rss&utm_campaign=headlines)\n"
      ],
      "text/plain": [
       "<IPython.core.display.Markdown object>"
      ]
     },
     "metadata": {},
     "output_type": "display_data"
    },
    {
     "data": {
      "text/markdown": [
       "[2023-07-18 09:58:17 Cointelegraph - Bitcoin price is 'stuck' at $30K — Here are 3 reasons why](https://cointelegraph.com/news/bitcoin-price-stuck-30k-3-reasons-why)\n"
      ],
      "text/plain": [
       "<IPython.core.display.Markdown object>"
      ]
     },
     "metadata": {},
     "output_type": "display_data"
    },
    {
     "data": {
      "text/markdown": [
       "[2023-07-18 09:58:00 MarketWatch - : Goldman chief economist sees lower chance of  recession and dismisses inverted yield curve worries](https://www.marketwatch.com/story/goldman-chief-economist-sees-lower-chance-of-recession-and-dismisses-inverted-yield-curve-worries-ff20420b)\n"
      ],
      "text/plain": [
       "<IPython.core.display.Markdown object>"
      ]
     },
     "metadata": {},
     "output_type": "display_data"
    },
    {
     "data": {
      "text/markdown": [
       "[2023-07-18 09:52:00 MarketWatch - Bond Report: Treasury yields slip ahead of retail sales data](https://www.marketwatch.com/story/treasury-yields-slip-ahead-of-retail-sales-data-90fe29eb)\n"
      ],
      "text/plain": [
       "<IPython.core.display.Markdown object>"
      ]
     },
     "metadata": {},
     "output_type": "display_data"
    },
    {
     "data": {
      "text/markdown": [
       "[2023-07-18 09:34:00 MarketWatch - Movers & Shakers: Pinterest stock advances, Masimo shares slump on outlook and other stocks on the move](https://www.marketwatch.com/story/pinterest-stock-advances-masimo-shares-slump-on-outlook-and-other-stocks-on-the-move-a8bd0875)\n"
      ],
      "text/plain": [
       "<IPython.core.display.Markdown object>"
      ]
     },
     "metadata": {},
     "output_type": "display_data"
    },
    {
     "data": {
      "text/markdown": [
       "[2023-07-18 09:33:25 Forexlive - GBPUSD Technical Analysis - Bullish Bias Intact](https://www.forexlive.com/technical-analysis/gbpusd-technical-analysis-bullish-bias-intact-20230718/)\n"
      ],
      "text/plain": [
       "<IPython.core.display.Markdown object>"
      ]
     },
     "metadata": {},
     "output_type": "display_data"
    },
    {
     "data": {
      "text/markdown": [
       "[2023-07-18 09:30:10 Cointelegraph - Marathon shareholders file lawsuit against company's top management](https://cointelegraph.com/news/marathon-shareholders-file-lawsuit-against-company-s-top-management)\n"
      ],
      "text/plain": [
       "<IPython.core.display.Markdown object>"
      ]
     },
     "metadata": {},
     "output_type": "display_data"
    },
    {
     "data": {
      "text/markdown": [
       "[2023-07-18 09:23:00 GlobalNewswire - Image Recognition Market Size to Surpass USD 134.41 Billion by 2030, exhibiting a CAGR of 17.4%](https://www.globenewswire.com/news-release/2023/07/18/2706189/0/en/Image-Recognition-Market-Size-to-Surpass-USD-134-41-Billion-by-2030-exhibiting-a-CAGR-of-17-4.html)\n"
      ],
      "text/plain": [
       "<IPython.core.display.Markdown object>"
      ]
     },
     "metadata": {},
     "output_type": "display_data"
    },
    {
     "data": {
      "text/markdown": [
       "[2023-07-18 09:22:00 GlobalNewswire - Data Center Cooling Market Size to Surpass USD 30.31 Billion by 2030, exhibiting a CAGR of 10.7%](https://www.globenewswire.com/news-release/2023/07/18/2706188/0/en/Data-Center-Cooling-Market-Size-to-Surpass-USD-30-31-Billion-by-2030-exhibiting-a-CAGR-of-10-7.html)\n"
      ],
      "text/plain": [
       "<IPython.core.display.Markdown object>"
      ]
     },
     "metadata": {},
     "output_type": "display_data"
    },
    {
     "data": {
      "text/markdown": [
       "[2023-07-18 09:18:00 GlobalNewswire - Managed Services Market Size to Surpass USD 671.14 Billion by 2030, exhibiting a CAGR of 13.1%](https://www.globenewswire.com/news-release/2023/07/18/2706186/0/en/Managed-Services-Market-Size-to-Surpass-USD-671-14-Billion-by-2030-exhibiting-a-CAGR-of-13-1.html)\n"
      ],
      "text/plain": [
       "<IPython.core.display.Markdown object>"
      ]
     },
     "metadata": {},
     "output_type": "display_data"
    },
    {
     "data": {
      "text/markdown": [
       "[2023-07-18 09:09:00 GlobalNewswire - Point Of Care Ultrasound Market Size to Surpass USD 3.00 Billion by 2030, exhibiting a CAGR of 14.3%](https://www.globenewswire.com/news-release/2023/07/18/2706182/0/en/Point-Of-Care-Ultrasound-Market-Size-to-Surpass-USD-3-00-Billion-by-2030-exhibiting-a-CAGR-of-14-3.html)\n"
      ],
      "text/plain": [
       "<IPython.core.display.Markdown object>"
      ]
     },
     "metadata": {},
     "output_type": "display_data"
    },
    {
     "data": {
      "text/markdown": [
       "[2023-07-18 09:05:20 Forexlive - Markets stick with the more tepid mood so far on the session](https://www.forexlive.com/news/markets-stick-with-the-more-tepid-mood-so-far-on-the-session-20230718/)\n"
      ],
      "text/plain": [
       "<IPython.core.display.Markdown object>"
      ]
     },
     "metadata": {},
     "output_type": "display_data"
    },
    {
     "data": {
      "text/markdown": [
       "[2023-07-18 09:03:21 Cointelegraph - Bankrupt Celsius to spend $24M from GK8 sale on legal expenses](https://cointelegraph.com/news/celsius-bankrupt-to-spend-24-million-from-gk8-sale-on-legal-fees)\n"
      ],
      "text/plain": [
       "<IPython.core.display.Markdown object>"
      ]
     },
     "metadata": {},
     "output_type": "display_data"
    },
    {
     "data": {
      "text/markdown": [
       "[2023-07-18 09:03:00 MarketWatch - NerdWallet: There are dozens of cheap electric car models made in China, but Americans can’t buy them](https://www.marketwatch.com/story/there-are-dozens-of-cheap-electric-car-models-made-in-china-but-americans-cant-buy-them-7447a15a)\n"
      ],
      "text/plain": [
       "<IPython.core.display.Markdown object>"
      ]
     },
     "metadata": {},
     "output_type": "display_data"
    },
    {
     "data": {
      "text/markdown": [
       "[2023-07-18 09:03:00 GlobalNewswire - Rule 8.3 - Ediston Property Investment Company plc](https://www.globenewswire.com/news-release/2023/07/18/2706178/0/en/Rule-8-3-Ediston-Property-Investment-Company-plc.html)\n"
      ],
      "text/plain": [
       "<IPython.core.display.Markdown object>"
      ]
     },
     "metadata": {},
     "output_type": "display_data"
    },
    {
     "data": {
      "text/markdown": [
       "[2023-07-18 09:01:59 Cointelegraph - Healthy competition welcome - Polygon zkEVM lead](https://cointelegraph.com/news/ethereum-benefits-from-zkevm-competition)\n"
      ],
      "text/plain": [
       "<IPython.core.display.Markdown object>"
      ]
     },
     "metadata": {},
     "output_type": "display_data"
    },
    {
     "data": {
      "text/markdown": [
       "[2023-07-18 09:00:17 Dailyfx - Dow and CAC40 Move Higher but the Nikkei 225 Continues to Struggle](https://www.dailyfx.com/news/dow-and-cac40-move-higher-but-the-nikkei-225-continues-to-struggle-20230718.html)\n"
      ],
      "text/plain": [
       "<IPython.core.display.Markdown object>"
      ]
     },
     "metadata": {},
     "output_type": "display_data"
    },
    {
     "data": {
      "text/markdown": [
       "[2023-07-18 08:56:58 SeekingAlpha - Logitech acquires custom consoles creator-Loupedeck](https://seekingalpha.com/news/3988250-logitech-acquires-custom-consoles-creator-loupedeck?utm_source=feed_news_m_a&utm_medium=referral)\n"
      ],
      "text/plain": [
       "<IPython.core.display.Markdown object>"
      ]
     },
     "metadata": {},
     "output_type": "display_data"
    },
    {
     "data": {
      "text/markdown": [
       "[2023-07-18 08:49:00 GlobalNewswire - Dimensional Fund Advisors Ltd. : Form 8.3 - LOOKERS PLC - Ordinary Shares](https://www.globenewswire.com/news-release/2023/07/18/2706164/0/en/Dimensional-Fund-Advisors-Ltd-Form-8-3-LOOKERS-PLC-Ordinary-Shares.html)\n"
      ],
      "text/plain": [
       "<IPython.core.display.Markdown object>"
      ]
     },
     "metadata": {},
     "output_type": "display_data"
    },
    {
     "data": {
      "text/markdown": [
       "[2023-07-18 08:48:00 GlobalNewswire - Dimensional Fund Advisors Ltd. : Form 8.3 - Londonmetric Property PLC - Ordinary Shares](https://www.globenewswire.com/news-release/2023/07/18/2706161/0/en/Dimensional-Fund-Advisors-Ltd-Form-8-3-Londonmetric-Property-PLC-Ordinary-Shares.html)\n"
      ],
      "text/plain": [
       "<IPython.core.display.Markdown object>"
      ]
     },
     "metadata": {},
     "output_type": "display_data"
    },
    {
     "data": {
      "text/markdown": [
       "[2023-07-18 08:29:04 Forexlive - EURUSD Technical Analysis](https://www.forexlive.com/technical-analysis/eurusd-technical-analysis-20230718/)\n"
      ],
      "text/plain": [
       "<IPython.core.display.Markdown object>"
      ]
     },
     "metadata": {},
     "output_type": "display_data"
    },
    {
     "data": {
      "text/markdown": [
       "[2023-07-18 08:01:26 Dailyfx - AUD/USD Price Forecast: RBA Minutes Unable to Prevent Thinning Aussie Dollar](https://www.dailyfx.com/news/forex-aud-usd-price-forecast-rba-minutes-unable-to-prevent-thinning-aussie-dollar-wv-20230718.html)\n"
      ],
      "text/plain": [
       "<IPython.core.display.Markdown object>"
      ]
     },
     "metadata": {},
     "output_type": "display_data"
    },
    {
     "data": {
      "text/markdown": [
       "[2023-07-18 07:37:26 Cointelegraph - Thodex CEO sentenced to Turkish prison for failure to submit tax documents](https://cointelegraph.com/news/thodex-founder-sentenced-to-prison-for-failure-to-submit-tax-documents)\n"
      ],
      "text/plain": [
       "<IPython.core.display.Markdown object>"
      ]
     },
     "metadata": {},
     "output_type": "display_data"
    },
    {
     "data": {
      "text/markdown": [
       "[2023-07-18 07:30:00 GlobalNewswire - Audiology Devices Market to Surpass 16 Billion by 2030 Drives Due to Rise in the Geriatric Population](https://www.globenewswire.com/news-release/2023/07/18/2706129/0/en/Audiology-Devices-Market-to-Surpass-16-Billion-by-2030-Drives-Due-to-Rise-in-the-Geriatric-Population.html)\n"
      ],
      "text/plain": [
       "<IPython.core.display.Markdown object>"
      ]
     },
     "metadata": {},
     "output_type": "display_data"
    },
    {
     "data": {
      "text/markdown": [
       "[2023-07-18 07:30:00 GlobalNewswire - DFDS EXPANDS TRANSPORT NETWORK IN THE NETHERLANDS](https://www.globenewswire.com/news-release/2023/07/18/2706133/0/en/DFDS-EXPANDS-TRANSPORT-NETWORK-IN-THE-NETHERLANDS.html)\n"
      ],
      "text/plain": [
       "<IPython.core.display.Markdown object>"
      ]
     },
     "metadata": {},
     "output_type": "display_data"
    },
    {
     "data": {
      "text/markdown": [
       "[2023-07-18 07:29:52 Forexlive - EUR/USD inches higher as buyers get a little impatient](https://www.forexlive.com/news/eurusd-inches-higher-as-buyers-get-a-little-impatient-20230718/)\n"
      ],
      "text/plain": [
       "<IPython.core.display.Markdown object>"
      ]
     },
     "metadata": {},
     "output_type": "display_data"
    },
    {
     "data": {
      "text/markdown": [
       "[2023-07-18 07:10:36 Forexlive - European equities open little changed to start the day](https://www.forexlive.com/news/european-equities-open-little-changed-to-start-the-day-20230718/)\n"
      ],
      "text/plain": [
       "<IPython.core.display.Markdown object>"
      ]
     },
     "metadata": {},
     "output_type": "display_data"
    },
    {
     "data": {
      "text/markdown": [
       "[2023-07-18 07:06:00 GlobalNewswire - Green Coffee Market Size to Hit USD 47.22 Billion by 2028 | At a 4.20% CAGR](https://www.globenewswire.com/news-release/2023/07/18/2706124/0/en/Green-Coffee-Market-Size-to-Hit-USD-47-22-Billion-by-2028-At-a-4-20-CAGR.html)\n"
      ],
      "text/plain": [
       "<IPython.core.display.Markdown object>"
      ]
     },
     "metadata": {},
     "output_type": "display_data"
    },
    {
     "data": {
      "text/markdown": [
       "[2023-07-18 07:01:00 BusinessWire - Logitech Acquires Loupedeck](http://www.businesswire.com/news/home/20230718341629/en/Logitech-Acquires-Loupedeck/?feedref=JjAwJuNHiystnCoBq_hl-Rc4vIAVcHHkbDcwJimU8QtrtlakeQ9hNboBqTAWIjTge3KWq9s9jif-UkBjBsFRyYAbRTSLTc1mgvhPlnaBA55M-oupQnbXnhKsYk8RmHF_kAy2gZikaX3QWV6xOvgFlA==)\n"
      ],
      "text/plain": [
       "<IPython.core.display.Markdown object>"
      ]
     },
     "metadata": {},
     "output_type": "display_data"
    },
    {
     "data": {
      "text/markdown": [
       "[2023-07-18 07:00:00 GlobalNewswire - Form 8.5 (EPT/RI) - Glantus Holdings Plc](https://www.globenewswire.com/news-release/2023/07/18/2706119/0/en/Form-8-5-EPT-RI-Glantus-Holdings-Plc.html)\n"
      ],
      "text/plain": [
       "<IPython.core.display.Markdown object>"
      ]
     },
     "metadata": {},
     "output_type": "display_data"
    },
    {
     "data": {
      "text/markdown": [
       "[2023-07-18 06:58:00 GlobalNewswire - Smart Bed Market to Reach USD 4.44 Billion by 2028 | Striking CAGR of 5.8%](https://www.globenewswire.com/news-release/2023/07/18/2706114/0/en/Smart-Bed-Market-to-Reach-USD-4-44-Billion-by-2028-Striking-CAGR-of-5-8.html)\n"
      ],
      "text/plain": [
       "<IPython.core.display.Markdown object>"
      ]
     },
     "metadata": {},
     "output_type": "display_data"
    },
    {
     "data": {
      "text/markdown": [
       "[2023-07-18 06:56:00 GlobalNewswire - Simulator Market to Worth USD 30.41 Billion by 2029 | Industry Rising with 9.49% CAGR](https://www.globenewswire.com/news-release/2023/07/18/2706113/0/en/Simulator-Market-to-Worth-USD-30-41-Billion-by-2029-Industry-Rising-with-9-49-CAGR.html)\n"
      ],
      "text/plain": [
       "<IPython.core.display.Markdown object>"
      ]
     },
     "metadata": {},
     "output_type": "display_data"
    },
    {
     "data": {
      "text/markdown": [
       "[2023-07-18 06:55:00 GlobalNewswire - Anti-Counterfeiting Packaging Market to Reach USD 255.41 Billion by 2030 | Industry Rise at 8.02% CAGR](https://www.globenewswire.com/news-release/2023/07/18/2706112/0/en/Anti-Counterfeiting-Packaging-Market-to-Reach-USD-255-41-Billion-by-2030-Industry-Rise-at-8-02-CAGR.html)\n"
      ],
      "text/plain": [
       "<IPython.core.display.Markdown object>"
      ]
     },
     "metadata": {},
     "output_type": "display_data"
    },
    {
     "data": {
      "text/markdown": [
       "[2023-07-18 06:53:00 GlobalNewswire - Disposable Hygiene Products Market to Worth USD 295.80 Billion by 2030 | With a 7.07% CAGR](https://www.globenewswire.com/news-release/2023/07/18/2706111/0/en/Disposable-Hygiene-Products-Market-to-Worth-USD-295-80-Billion-by-2030-With-a-7-07-CAGR.html)\n"
      ],
      "text/plain": [
       "<IPython.core.display.Markdown object>"
      ]
     },
     "metadata": {},
     "output_type": "display_data"
    },
    {
     "data": {
      "text/markdown": [
       "[2023-07-18 06:52:48 Cointelegraph - Crypto headcount surges over 100% since 2019 despite implosions](https://cointelegraph.com/news/binance-tether-bitcoin-crypto-headcount-surges-over-100-since-2019-despite-implosions)\n"
      ],
      "text/plain": [
       "<IPython.core.display.Markdown object>"
      ]
     },
     "metadata": {},
     "output_type": "display_data"
    },
    {
     "data": {
      "text/markdown": [
       "[2023-07-18 06:51:00 GlobalNewswire - Medium and Large Satellite Market to Reach USD 9.52 Billion by 2030 | At a CAGR of 4.7%](https://www.globenewswire.com/news-release/2023/07/18/2706110/0/en/Medium-and-Large-Satellite-Market-to-Reach-USD-9-52-Billion-by-2030-At-a-CAGR-of-4-7.html)\n"
      ],
      "text/plain": [
       "<IPython.core.display.Markdown object>"
      ]
     },
     "metadata": {},
     "output_type": "display_data"
    },
    {
     "data": {
      "text/markdown": [
       "[2023-07-18 06:49:04 SeekingAlpha - Ares Management to acquire Crescent Point Capital](https://seekingalpha.com/news/3988238-ares-management-to-acquire-crescent-point-capital?utm_source=feed_news_m_a&utm_medium=referral)\n"
      ],
      "text/plain": [
       "<IPython.core.display.Markdown object>"
      ]
     },
     "metadata": {},
     "output_type": "display_data"
    },
    {
     "data": {
      "text/markdown": [
       "[2023-07-18 06:42:59 CoinDesk - Levered Bullish Longs Getting Liquidated as Bitcoin Market Softens](https://www.coindesk.com/markets/2023/07/18/levered-bullish-longs-getting-liquidated-as-bitcoin-market-softens/?utm_medium=referral&utm_source=rss&utm_campaign=headlines)\n"
      ],
      "text/plain": [
       "<IPython.core.display.Markdown object>"
      ]
     },
     "metadata": {},
     "output_type": "display_data"
    },
    {
     "data": {
      "text/markdown": [
       "[2023-07-18 06:30:00 Dailyfx - S&P 500 Outlook Over Next 1-2 Months: Broadening Participation Points to Further Gains](https://www.dailyfx.com/news/s-p-500-outlook-over-next-1-2-months-broadening-participation-points-to-further-gains-20230718.html)\n"
      ],
      "text/plain": [
       "<IPython.core.display.Markdown object>"
      ]
     },
     "metadata": {},
     "output_type": "display_data"
    },
    {
     "data": {
      "text/markdown": [
       "[2023-07-18 06:13:50 Forexlive - Deutsche Bank cuts China full year GDP growth forecast to 5.3% from 6.0% previously](https://www.forexlive.com/news/deutsche-bank-cuts-china-full-year-gdp-growth-forecast-to-53-from-60-previously-20230718/)\n"
      ],
      "text/plain": [
       "<IPython.core.display.Markdown object>"
      ]
     },
     "metadata": {},
     "output_type": "display_data"
    },
    {
     "data": {
      "text/markdown": [
       "[2023-07-18 06:00:00 GlobalNewswire - Equinor ASA: Buy-back of shares to share programmes for employees](https://www.globenewswire.com/news-release/2023/07/18/2706097/0/en/Equinor-ASA-Buy-back-of-shares-to-share-programmes-for-employees.html)\n"
      ],
      "text/plain": [
       "<IPython.core.display.Markdown object>"
      ]
     },
     "metadata": {},
     "output_type": "display_data"
    },
    {
     "data": {
      "text/markdown": [
       "[2023-07-18 05:50:36 Cointelegraph - Threads copies Twitter again, introduces ‘rate limits’ to combat bots](https://cointelegraph.com/news/threads-rate-limit-spam-crypto-bots-twitter)\n"
      ],
      "text/plain": [
       "<IPython.core.display.Markdown object>"
      ]
     },
     "metadata": {},
     "output_type": "display_data"
    },
    {
     "data": {
      "text/markdown": [
       "[2023-07-18 05:19:48 Forexlive - Trade ideas thread - European session 18 July 2023](https://www.forexlive.com/news/trade-ideas-thread-european-session-18-july-2023-20230718/)\n"
      ],
      "text/plain": [
       "<IPython.core.display.Markdown object>"
      ]
     },
     "metadata": {},
     "output_type": "display_data"
    },
    {
     "data": {
      "text/markdown": [
       "[2023-07-18 05:15:39 Cointelegraph - US regulatory clarity has begun in court after Ripple win: CFTC commissioner](https://cointelegraph.com/news/us-regulatory-clarity-begun-ripple-court-ruling-cftc-pham)\n"
      ],
      "text/plain": [
       "<IPython.core.display.Markdown object>"
      ]
     },
     "metadata": {},
     "output_type": "display_data"
    },
    {
     "data": {
      "text/markdown": [
       "[2023-07-18 05:00:00 Dailyfx - Euro Ekes Out Gains as the US Dollar Reins in the Bears for Now. Where to for EUR/USD?](https://www.dailyfx.com/news/euro-ekes-out-gains-as-the-us-dollar-reins-in-the-bears-for-now-where-to-for-eur-usd-20230718.html)\n"
      ],
      "text/plain": [
       "<IPython.core.display.Markdown object>"
      ]
     },
     "metadata": {},
     "output_type": "display_data"
    },
    {
     "data": {
      "text/markdown": [
       "[2023-07-18 04:53:40 Forexlive - No major economic releases coming up in Europe today](https://www.forexlive.com/news/no-major-economic-releases-coming-up-in-europe-today-20230718/)\n"
      ],
      "text/plain": [
       "<IPython.core.display.Markdown object>"
      ]
     },
     "metadata": {},
     "output_type": "display_data"
    },
    {
     "data": {
      "text/markdown": [
       "[2023-07-18 04:31:17 Cointelegraph - SEC’s Gary Gensler believes AI can strengthen its enforcement regime](https://cointelegraph.com/news/sec-gary-gensler-ripple-ai-strengthen-enforcement-regime)\n"
      ],
      "text/plain": [
       "<IPython.core.display.Markdown object>"
      ]
     },
     "metadata": {},
     "output_type": "display_data"
    },
    {
     "data": {
      "text/markdown": [
       "[2023-07-18 04:14:52 Forexlive - Dollar stays in a tough spot so far to start the week](https://www.forexlive.com/news/dollar-stays-in-a-tough-spot-so-far-to-start-the-week-20230718/)\n"
      ],
      "text/plain": [
       "<IPython.core.display.Markdown object>"
      ]
     },
     "metadata": {},
     "output_type": "display_data"
    },
    {
     "data": {
      "text/markdown": [
       "[2023-07-18 04:13:58 CoinDesk - Celsius Estate Settles With Series B Holders Over Proceeds of GK8 Sale](https://www.coindesk.com/business/2023/07/18/celsius-estate-settles-with-series-b-holders-over-proceeds-of-gk8-sale/?utm_medium=referral&utm_source=rss&utm_campaign=headlines)\n"
      ],
      "text/plain": [
       "<IPython.core.display.Markdown object>"
      ]
     },
     "metadata": {},
     "output_type": "display_data"
    },
    {
     "data": {
      "text/markdown": [
       "[2023-07-18 03:43:32 Cointelegraph - Apple’s headset could redefine what being in the metaverse means](https://cointelegraph.com/news/apple-vision-pro-mixed-reality-redefine-experiences-metaverse)\n"
      ],
      "text/plain": [
       "<IPython.core.display.Markdown object>"
      ]
     },
     "metadata": {},
     "output_type": "display_data"
    },
    {
     "data": {
      "text/markdown": [
       "[2023-07-18 03:30:00 Dailyfx - British Pound Ahead of UK CPI: GBP/USD, EUR/GBP, GBP/JPY Price Action](https://www.dailyfx.com/news/british-pound-ahead-of-uk-cpi-gbp-usd-eur-gbp-gbp-jpy-price-action-20230718.html)\n"
      ],
      "text/plain": [
       "<IPython.core.display.Markdown object>"
      ]
     },
     "metadata": {},
     "output_type": "display_data"
    },
    {
     "data": {
      "text/markdown": [
       "[2023-07-18 03:30:00 GlobalNewswire - Medical Cameras Market to Worth USD 5.47 Billion by 2030 | Skyquest Technology](https://www.globenewswire.com/news-release/2023/07/18/2706064/0/en/Medical-Cameras-Market-to-Worth-USD-5-47-Billion-by-2030-Skyquest-Technology.html)\n"
      ],
      "text/plain": [
       "<IPython.core.display.Markdown object>"
      ]
     },
     "metadata": {},
     "output_type": "display_data"
    },
    {
     "data": {
      "text/markdown": [
       "[2023-07-18 03:20:00 MarketWatch - : Cathie Wood’s ARK funds dump $26 million more in Coinbase stock, shed $13 million more of Tesla shares](https://www.marketwatch.com/story/cathie-woods-ark-funds-dump-26-million-more-in-coinbase-stock-shed-13-million-more-of-tesla-shares-ff442ece)\n"
      ],
      "text/plain": [
       "<IPython.core.display.Markdown object>"
      ]
     },
     "metadata": {},
     "output_type": "display_data"
    },
    {
     "data": {
      "text/markdown": [
       "[2023-07-18 02:58:08 Forexlive - ForexLive Asia-Pacific FX news wrap: Awaiting US retail sales data later](https://www.forexlive.com/news/forexlive-asia-pacific-fx-news-wrap-awaiting-us-retail-sales-data-later-20230718/)\n"
      ],
      "text/plain": [
       "<IPython.core.display.Markdown object>"
      ]
     },
     "metadata": {},
     "output_type": "display_data"
    },
    {
     "data": {
      "text/markdown": [
       "[2023-07-18 02:26:29 Cointelegraph - Crypto memes can be considered financial promotions, says UK watchdog](https://cointelegraph.com/news/crypto-memes-financial-promotion-uk-fca-regulation)\n"
      ],
      "text/plain": [
       "<IPython.core.display.Markdown object>"
      ]
     },
     "metadata": {},
     "output_type": "display_data"
    },
    {
     "data": {
      "text/markdown": [
       "[2023-07-18 02:24:35 Forexlive - China planner approved 91 fixed-asset investment projects worth total of CNY 700bn in H1](https://www.forexlive.com/news/china-planner-approved-91-fixed-asset-investment-projects-worth-total-of-cny-700bn-in-h1-20230718/)\n"
      ],
      "text/plain": [
       "<IPython.core.display.Markdown object>"
      ]
     },
     "metadata": {},
     "output_type": "display_data"
    },
    {
     "data": {
      "text/markdown": [
       "[2023-07-18 02:00:03 Bloomberg - Tokyo Heat Smashes 150-Year Trend...](https://www.bloomberg.com/news/articles/2023-07-18/tokyo-heat-smashes-150-year-trend-as-extreme-weather-bakes-globe)\n"
      ],
      "text/plain": [
       "<IPython.core.display.Markdown object>"
      ]
     },
     "metadata": {},
     "output_type": "display_data"
    },
    {
     "data": {
      "text/markdown": [
       "[2023-07-18 02:00:00 Dailyfx - Sentiment Awaiting Cues from Key US Earnings Releases Ahead: Brent crude, AUD/JPY, Natural Gas](https://www.dailyfx.com/news/sentiments-awaiting-cues-from-key-us-earnings-eleases-ahead-brent-crude-aud-jpy-natural-gas-20230718.html)\n"
      ],
      "text/plain": [
       "<IPython.core.display.Markdown object>"
      ]
     },
     "metadata": {},
     "output_type": "display_data"
    },
    {
     "data": {
      "text/markdown": [
       "[2023-07-18 01:39:00 MarketWatch - Dow Jones Newswires: RBA has left door ajar to raise rates further, depending on data](https://www.marketwatch.com/story/rba-has-left-door-ajar-to-raise-rates-further-depending-on-data-719f77c0)\n"
      ],
      "text/plain": [
       "<IPython.core.display.Markdown object>"
      ]
     },
     "metadata": {},
     "output_type": "display_data"
    },
    {
     "data": {
      "text/markdown": [
       "[2023-07-18 01:30:00 GlobalNewswire - Lyocell Fiber Market to Worth USD 2096.12 Million by 2030 | Skyquest Technology](https://www.globenewswire.com/news-release/2023/07/18/2706060/0/en/Lyocell-Fiber-Market-to-Worth-USD-2096-12-Million-by-2030-Skyquest-Technology.html)\n"
      ],
      "text/plain": [
       "<IPython.core.display.Markdown object>"
      ]
     },
     "metadata": {},
     "output_type": "display_data"
    },
    {
     "data": {
      "text/markdown": [
       "[2023-07-18 01:29:46 Cointelegraph - Chainlink launches cross-chain protocol bridging blockchain to TradFi](https://cointelegraph.com/news/chainlink-launches-cross-chain-protocol-ccip-ethereum-blockchain-mainnet)\n"
      ],
      "text/plain": [
       "<IPython.core.display.Markdown object>"
      ]
     },
     "metadata": {},
     "output_type": "display_data"
    },
    {
     "data": {
      "text/markdown": [
       "[2023-07-18 01:03:10 Forexlive - Australian weekly consumer confidence survey falls again, to 72. 6 (prior 73.3)](https://www.forexlive.com/news/australian-weekly-consumer-confidence-survey-falls-again-to-72-6-prior-733-20230718/)\n"
      ],
      "text/plain": [
       "<IPython.core.display.Markdown object>"
      ]
     },
     "metadata": {},
     "output_type": "display_data"
    },
    {
     "data": {
      "text/markdown": [
       "[2023-07-18 01:02:35 Cointelegraph - Cathie Wood very positive on Coinbase after Ripple court ruling](https://cointelegraph.com/news/cathie-wood-positive-coinbase-shares-ripple-sec-ruling)\n"
      ],
      "text/plain": [
       "<IPython.core.display.Markdown object>"
      ]
     },
     "metadata": {},
     "output_type": "display_data"
    },
    {
     "data": {
      "text/markdown": [
       "[2023-07-18 00:36:00 MarketWatch - MarketWatch First Take: San Francisco transit agency sees more concerning incidents with driverless cars, calls for companies to share more data](https://www.marketwatch.com/story/san-francisco-transit-agency-sees-more-concerning-incidents-with-driverless-cars-calls-for-companies-to-share-more-data-185e0033)\n"
      ],
      "text/plain": [
       "<IPython.core.display.Markdown object>"
      ]
     },
     "metadata": {},
     "output_type": "display_data"
    },
    {
     "data": {
      "text/markdown": [
       "[2023-07-18 00:30:00 Dailyfx - Crude Oil Price Rolls Over on China Growth Woes and Libya Re-open. Lower WTI?](https://www.dailyfx.com/news/crude-oil-price-rolls-over-on-china-growth-woes-and-libya-re-open-lower-wti-20230718.html)\n"
      ],
      "text/plain": [
       "<IPython.core.display.Markdown object>"
      ]
     },
     "metadata": {},
     "output_type": "display_data"
    },
    {
     "data": {
      "text/markdown": [
       "[2023-07-17 23:50:14 CNBC - Jim Cramer talks diversification and portfolio strategy, compares ARK's Cathie Wood and BlackRock's Larry Fink](https://www.cnbc.com/2023/07/17/jim-cramer-compares-arks-cathie-wood-and-blackrocks-larry-fink.html)\n"
      ],
      "text/plain": [
       "<IPython.core.display.Markdown object>"
      ]
     },
     "metadata": {},
     "output_type": "display_data"
    },
    {
     "data": {
      "text/markdown": [
       "[2023-07-17 23:26:43 CNBC - White House responds to 'vile' RFK Jr. comments on Covid and race](https://www.cnbc.com/2023/07/17/white-house-responds-to-vile-rfk-jr-comments-on-covid-and-race-.html)\n"
      ],
      "text/plain": [
       "<IPython.core.display.Markdown object>"
      ]
     },
     "metadata": {},
     "output_type": "display_data"
    },
    {
     "data": {
      "text/markdown": [
       "[2023-07-17 23:02:13 CNBC - Jim Cramer explains Ford's electric vehicle price cuts](https://www.cnbc.com/2023/07/17/jim-cramer-explains-fords-electric-vehicle-price-cuts.html)\n"
      ],
      "text/plain": [
       "<IPython.core.display.Markdown object>"
      ]
     },
     "metadata": {},
     "output_type": "display_data"
    },
    {
     "data": {
      "text/markdown": [
       "[2023-07-17 22:40:44 Cointelegraph - Multichain saga screws users, Binance fires 1,000 staff: Asia Express](https://cointelegraph.com/magazine/multichain-saga-screws-users-binance-fires-1000-staff-asia-express/)\n"
      ],
      "text/plain": [
       "<IPython.core.display.Markdown object>"
      ]
     },
     "metadata": {},
     "output_type": "display_data"
    },
    {
     "data": {
      "text/markdown": [
       "[2023-07-17 22:39:00 MarketWatch - Market Extra: As the Dow hits 2023 high, one of the oldest stock-market forecasting tools is making a comeback](https://www.marketwatch.com/story/as-the-dow-hits-2023-high-one-of-the-oldest-stock-market-forecasting-tools-is-making-a-comeback-5d6d32a9)\n"
      ],
      "text/plain": [
       "<IPython.core.display.Markdown object>"
      ]
     },
     "metadata": {},
     "output_type": "display_data"
    },
    {
     "data": {
      "text/markdown": [
       "[2023-07-17 22:30:00 BusinessWire - Ares Management Corporation将收购Crescent Point Capital](http://www.businesswire.com/news/home/20230613891172/zh-CN/?feedref=JjAwJuNHiystnCoBq_hl-Rc4vIAVcHHkbDcwJimU8QtrtlakeQ9hNboBqTAWIjTge3KWq9s9jif-UkBjBsFRyYAbRTSLTc1mgvhPlnaBA55M-oupQnbXnhKsYk8RmHF_kAy2gZikaX3QWV6xOvgFlA==)\n"
      ],
      "text/plain": [
       "<IPython.core.display.Markdown object>"
      ]
     },
     "metadata": {},
     "output_type": "display_data"
    },
    {
     "data": {
      "text/markdown": [
       "[2023-07-17 22:20:00 MarketWatch - : Women’s World Cup: Australian team targets FIFA over prize money inequity](https://www.marketwatch.com/story/womens-world-cup-australian-team-targets-fifa-over-prize-money-inequity-d895a06c)\n"
      ],
      "text/plain": [
       "<IPython.core.display.Markdown object>"
      ]
     },
     "metadata": {},
     "output_type": "display_data"
    },
    {
     "data": {
      "text/markdown": [
       "[2023-07-17 22:02:00 MarketWatch - Earnings Outlook: IBM has been talking up AI, but here’s what investors should really focus on in earnings](https://www.marketwatch.com/story/ibm-has-been-talking-up-ai-but-heres-what-investors-should-really-focus-on-in-earnings-abc904ec)\n"
      ],
      "text/plain": [
       "<IPython.core.display.Markdown object>"
      ]
     },
     "metadata": {},
     "output_type": "display_data"
    },
    {
     "data": {
      "text/markdown": [
       "[2023-07-17 21:51:00 Cointelegraph - Chair Gensler says SEC reaction to Ripple decision is mixed, still under consideration](https://cointelegraph.com/news/sec-chair-gary-gensler-reaction-to-ripple-decision-is-mixed-still-under-consideration)\n"
      ],
      "text/plain": [
       "<IPython.core.display.Markdown object>"
      ]
     },
     "metadata": {},
     "output_type": "display_data"
    },
    {
     "data": {
      "text/markdown": [
       "[2023-07-17 21:47:34 CNBC - Morgan Stanley has tech to thank for what could boost a long-dormant part of its business](https://www.cnbc.com/2023/07/17/morgan-stanley-has-tech-to-thank-for-what-could-boost-investment-banking.html)\n"
      ],
      "text/plain": [
       "<IPython.core.display.Markdown object>"
      ]
     },
     "metadata": {},
     "output_type": "display_data"
    },
    {
     "data": {
      "text/markdown": [
       "[2023-07-17 21:40:26 Forexlive - JP Morgan: US small & mid-cap stocks have \"quite a bit of upside\" if inflation, rates fall](https://www.forexlive.com/news/jp-morgan-us-small-mid-cap-stocks-have-quite-a-bit-of-upside-if-inflation-rates-fall-20230717/)\n"
      ],
      "text/plain": [
       "<IPython.core.display.Markdown object>"
      ]
     },
     "metadata": {},
     "output_type": "display_data"
    },
    {
     "data": {
      "text/markdown": [
       "[2023-07-17 21:19:31 Cointelegraph - Bitcoin price falls under $30K as macro and regulatory worries take center stage](https://cointelegraph.com/news/bitcoin-price-falls-under-30k-as-macro-and-regulatory-worries-take-center-stage)\n"
      ],
      "text/plain": [
       "<IPython.core.display.Markdown object>"
      ]
     },
     "metadata": {},
     "output_type": "display_data"
    },
    {
     "data": {
      "text/markdown": [
       "[2023-07-17 21:15:29 SeekingAlpha - FTC considers options after loss in Activision/Microsoft case- report](https://seekingalpha.com/news/3988208-ftc-considers-options-after-loss-in-activisionmicrosoft-deal-report?utm_source=feed_news_m_a&utm_medium=referral)\n"
      ],
      "text/plain": [
       "<IPython.core.display.Markdown object>"
      ]
     },
     "metadata": {},
     "output_type": "display_data"
    },
    {
     "data": {
      "text/markdown": [
       "[2023-07-17 20:57:43 Forexlive - TD think the USD has further scope to fall - 4 factors](https://www.forexlive.com/news/td-think-the-usd-has-further-scope-to-fall-4-factors-20230717/)\n"
      ],
      "text/plain": [
       "<IPython.core.display.Markdown object>"
      ]
     },
     "metadata": {},
     "output_type": "display_data"
    },
    {
     "data": {
      "text/markdown": [
       "[2023-07-17 20:54:44 Cointelegraph - Ripple court ruling makes call for regulation 'more compelling and more urgent' — former CFTC chair](https://cointelegraph.com/news/ripple-court-ruling-regulation-more-compelling-more-urgent-former-cftc-chair)\n"
      ],
      "text/plain": [
       "<IPython.core.display.Markdown object>"
      ]
     },
     "metadata": {},
     "output_type": "display_data"
    },
    {
     "data": {
      "text/markdown": [
       "[2023-07-17 20:54:06 CoinDesk - Despite BlackRock, Don’t Expect a Flood of Spot-Bitcoin ETFs Soon: Experts](https://www.coindesk.com/consensus-magazine/2023/07/17/despite-blackrock-dont-expect-a-flood-of-spot-bitcoin-etfs-soon-experts/?utm_medium=referral&utm_source=rss&utm_campaign=headlines)\n"
      ],
      "text/plain": [
       "<IPython.core.display.Markdown object>"
      ]
     },
     "metadata": {},
     "output_type": "display_data"
    },
    {
     "data": {
      "text/markdown": [
       "[2023-07-17 20:53:13 SeekingAlpha - Buffett's Berkshire-Hathaway reduces stake in Activision Blizzard](https://seekingalpha.com/news/3988191-buffetts-berkshire-hathaway-reduced-stake-in-activision-blizzard?utm_source=feed_news_m_a&utm_medium=referral)\n"
      ],
      "text/plain": [
       "<IPython.core.display.Markdown object>"
      ]
     },
     "metadata": {},
     "output_type": "display_data"
    },
    {
     "data": {
      "text/markdown": [
       "[2023-07-17 20:47:21 CoinDesk - Binance Ends Argentina’s Soccer Association Partnership Citing Lack of Compliance](https://www.coindesk.com/business/2023/07/17/binance-ends-argentinas-soccer-association-partnership-citing-lack-of-compliance/?utm_medium=referral&utm_source=rss&utm_campaign=headlines)\n"
      ],
      "text/plain": [
       "<IPython.core.display.Markdown object>"
      ]
     },
     "metadata": {},
     "output_type": "display_data"
    },
    {
     "data": {
      "text/markdown": [
       "[2023-07-17 20:34:00 GlobalNewswire - Legacy Lithium Announces Proposed Sale of Green Energy Project](https://www.globenewswire.com/news-release/2023/07/17/2705996/0/en/Legacy-Lithium-Announces-Proposed-Sale-of-Green-Energy-Project.html)\n"
      ],
      "text/plain": [
       "<IPython.core.display.Markdown object>"
      ]
     },
     "metadata": {},
     "output_type": "display_data"
    },
    {
     "data": {
      "text/markdown": [
       "[2023-07-17 20:28:11 SeekingAlpha - Berry Corp. to buy California's Macpherson Energy in $70M deal](https://seekingalpha.com/news/3988180-berry-to-buy-californias-macpherson-energy-in-70m-deal?utm_source=feed_news_m_a&utm_medium=referral)\n"
      ],
      "text/plain": [
       "<IPython.core.display.Markdown object>"
      ]
     },
     "metadata": {},
     "output_type": "display_data"
    },
    {
     "data": {
      "text/markdown": [
       "[2023-07-17 20:25:03 SeekingAlpha - Digital Realty puts two Chicago data centers in new joint venture](https://seekingalpha.com/news/3988177-digital-realty-puts-two-chicago-data-centers-in-new-joint-venture?utm_source=feed_news_m_a&utm_medium=referral)\n"
      ],
      "text/plain": [
       "<IPython.core.display.Markdown object>"
      ]
     },
     "metadata": {},
     "output_type": "display_data"
    },
    {
     "data": {
      "text/markdown": [
       "[2023-07-17 20:21:23 Forexlive - Trade ideas thread - Tuesday, 18 July 2023](https://www.forexlive.com/news/trade-ideas-thread-tuesday-18-july-2023-20230717/)\n"
      ],
      "text/plain": [
       "<IPython.core.display.Markdown object>"
      ]
     },
     "metadata": {},
     "output_type": "display_data"
    },
    {
     "data": {
      "text/markdown": [
       "[2023-07-17 20:17:00 MarketWatch - The Ratings Game: Verizon’s lead ‘overhang’ may limit dividend increases, analyst says in downgrade](https://www.marketwatch.com/story/verizons-lead-overhang-may-limit-dividend-increases-analyst-says-in-downgrade-209f5a12)\n"
      ],
      "text/plain": [
       "<IPython.core.display.Markdown object>"
      ]
     },
     "metadata": {},
     "output_type": "display_data"
    },
    {
     "data": {
      "text/markdown": [
       "[2023-07-17 20:15:00 GlobalNewswire - Berry Corporation Announces Acquisition of Macpherson Energy Corporation](https://www.globenewswire.com/news-release/2023/07/17/2705982/0/en/Berry-Corporation-Announces-Acquisition-of-Macpherson-Energy-Corporation.html)\n"
      ],
      "text/plain": [
       "<IPython.core.display.Markdown object>"
      ]
     },
     "metadata": {},
     "output_type": "display_data"
    },
    {
     "data": {
      "text/markdown": [
       "[2023-07-17 20:12:00 MarketWatch - TaxWatch: Did you inherit an IRA? IRS offers some breathing room on how much you can withdraw this year.](https://www.marketwatch.com/story/did-you-inherit-an-ira-irs-offers-some-breathing-room-on-how-much-you-can-withdraw-this-year-aa096fbe)\n"
      ],
      "text/plain": [
       "<IPython.core.display.Markdown object>"
      ]
     },
     "metadata": {},
     "output_type": "display_data"
    },
    {
     "data": {
      "text/markdown": [
       "[2023-07-17 20:10:00 Dailyfx - S&P 500 Outlook: Make or Break Week for Stocks ahead of Netflix, Tesla Earnings](https://www.dailyfx.com/news/spx-sp500-outlook-make-or-break-week-for-stocks-ahead-of-netflix-tesla-earnings-20230717.html)\n"
      ],
      "text/plain": [
       "<IPython.core.display.Markdown object>"
      ]
     },
     "metadata": {},
     "output_type": "display_data"
    },
    {
     "data": {
      "text/markdown": [
       "[2023-07-17 20:08:59 CNBC - Marriott and MGM link loyalty programs in a bid on business travelers](https://www.cnbc.com/2023/07/17/marriott-and-mgm-link-loyalty-programs-in-a-bid-on-business-travelers.html)\n"
      ],
      "text/plain": [
       "<IPython.core.display.Markdown object>"
      ]
     },
     "metadata": {},
     "output_type": "display_data"
    },
    {
     "data": {
      "text/markdown": [
       "[2023-07-17 20:00:00 Cointelegraph - Inflows into crypto investment funds rise as Bitcoin carries 99% of the load](https://cointelegraph.com/news/bitcoin-crypto-investment-funds-fourth-straight-week-inflows-coinshares)\n"
      ],
      "text/plain": [
       "<IPython.core.display.Markdown object>"
      ]
     },
     "metadata": {},
     "output_type": "display_data"
    },
    {
     "data": {
      "text/markdown": [
       "[2023-07-17 20:00:00 Cointelegraph - Ripple’s major success in its court battle with the SEC: Law Decoded, July 10–17](https://cointelegraph.com/news/ripple-s-major-success-in-the-court-battle-with-the-sec-law-decoded-july-10-17)\n"
      ],
      "text/plain": [
       "<IPython.core.display.Markdown object>"
      ]
     },
     "metadata": {},
     "output_type": "display_data"
    },
    {
     "data": {
      "text/markdown": [
       "[2023-07-17 19:42:00 GlobalNewswire - Form 8.3 - Horizon Therapeutics plc](https://www.globenewswire.com/news-release/2023/07/17/2705953/0/en/Form-8-3-Horizon-Therapeutics-plc.html)\n"
      ],
      "text/plain": [
       "<IPython.core.display.Markdown object>"
      ]
     },
     "metadata": {},
     "output_type": "display_data"
    },
    {
     "data": {
      "text/markdown": [
       "[2023-07-17 19:35:22 CoinDesk - Bitcoin Dips Below $30K to Lowest Since Late June as Altcoins Pare Gains From XRP Lawsuit](https://www.coindesk.com/markets/2023/07/17/bitcoin-dips-below-30k-to-lowest-since-late-june-as-altcoins-pare-gains-from-xrp-lawsuit/?utm_medium=referral&utm_source=rss&utm_campaign=headlines)\n"
      ],
      "text/plain": [
       "<IPython.core.display.Markdown object>"
      ]
     },
     "metadata": {},
     "output_type": "display_data"
    },
    {
     "data": {
      "text/markdown": [
       "[2023-07-17 19:30:00 Cointelegraph - XRP tops BTC in trading volume as it continues to savor partial victory in SEC suit](https://cointelegraph.com/news/xrp-tops-bitcoin-trading-volume-following-partial-sec-vs-ripple-lawsuit-victory)\n"
      ],
      "text/plain": [
       "<IPython.core.display.Markdown object>"
      ]
     },
     "metadata": {},
     "output_type": "display_data"
    },
    {
     "data": {
      "text/markdown": [
       "[2023-07-17 19:28:15 Forexlive - Nasdaq climbs above Friday's high in 1% gain](https://www.forexlive.com/news/nasdaq-climbs-above-fridays-high-in-1-gain-20230717/)\n"
      ],
      "text/plain": [
       "<IPython.core.display.Markdown object>"
      ]
     },
     "metadata": {},
     "output_type": "display_data"
    },
    {
     "data": {
      "text/markdown": [
       "[2023-07-17 19:22:00 MarketWatch - In One Chart: Commercial real estate prices are still expected to crater, Morgan Stanley warns](https://www.marketwatch.com/story/commercial-real-estate-prices-are-still-expected-to-crater-morgan-stanley-warns-117ad1d7)\n"
      ],
      "text/plain": [
       "<IPython.core.display.Markdown object>"
      ]
     },
     "metadata": {},
     "output_type": "display_data"
    },
    {
     "data": {
      "text/markdown": [
       "[2023-07-17 19:19:25 SeekingAlpha - Cano Health gains amid renewed call for asset sales from shareholder group](https://seekingalpha.com/news/3988152-cano-health-gains-amid-renewed-call-for-asset-sales-from-shareholder-group?utm_source=feed_news_m_a&utm_medium=referral)\n"
      ],
      "text/plain": [
       "<IPython.core.display.Markdown object>"
      ]
     },
     "metadata": {},
     "output_type": "display_data"
    },
    {
     "data": {
      "text/markdown": [
       "[2023-07-17 19:06:00 MarketWatch - : ‘We’re missing the point when it comes to the crisis of student debt. Where is the call for wise student borrowing?’](https://www.marketwatch.com/story/were-missing-the-point-when-it-comes-to-the-crisis-of-student-debt-where-is-the-call-for-wise-student-borrowing-5fec4c98)\n"
      ],
      "text/plain": [
       "<IPython.core.display.Markdown object>"
      ]
     },
     "metadata": {},
     "output_type": "display_data"
    },
    {
     "data": {
      "text/markdown": [
       "[2023-07-17 19:04:52 Cointelegraph - SEC vs Ripple referred to judge who ordered release of ‘Hinman Documents’](https://cointelegraph.com/news/sec-vs-ripple-referred-to-judge-who-ordered-hinman-documents-release)\n"
      ],
      "text/plain": [
       "<IPython.core.display.Markdown object>"
      ]
     },
     "metadata": {},
     "output_type": "display_data"
    },
    {
     "data": {
      "text/markdown": [
       "[2023-07-17 18:55:00 MarketWatch - Market Extra: China-focused ETFs fall after country’s growth disappoints, deepening 2023 losses](https://www.marketwatch.com/story/china-focused-etfs-fall-after-countrys-growth-disappoints-deepening-2023-losses-3673608f)\n"
      ],
      "text/plain": [
       "<IPython.core.display.Markdown object>"
      ]
     },
     "metadata": {},
     "output_type": "display_data"
    },
    {
     "data": {
      "text/markdown": [
       "[2023-07-17 18:50:00 MarketWatch - The Tell: Last year’s exaggerated market swings haven’t entirely subsided in 2023, despite the S&P 500’s gains](https://www.marketwatch.com/story/last-years-exaggerated-market-swings-havent-entirely-subsided-in-2023-despite-the-s-p-500s-gains-49422a93)\n"
      ],
      "text/plain": [
       "<IPython.core.display.Markdown object>"
      ]
     },
     "metadata": {},
     "output_type": "display_data"
    },
    {
     "data": {
      "text/markdown": [
       "[2023-07-17 18:48:00 MarketWatch - Commodities Corner: Why Russia’s decision to halt grain deal is stirring global inflation worries](https://www.marketwatch.com/story/why-russias-decision-to-halt-grain-deal-is-stirring-global-inflation-worries-5f66c984)\n"
      ],
      "text/plain": [
       "<IPython.core.display.Markdown object>"
      ]
     },
     "metadata": {},
     "output_type": "display_data"
    },
    {
     "data": {
      "text/markdown": [
       "[2023-07-17 18:40:00 BusinessWire - TESSCO Announces Closing of Merger Transaction](http://www.businesswire.com/news/home/20230713457675/en/TESSCO-Announces-Closing-of-Merger-Transaction/?feedref=JjAwJuNHiystnCoBq_hl-Rc4vIAVcHHkbDcwJimU8QtrtlakeQ9hNboBqTAWIjTge3KWq9s9jif-UkBjBsFRyYAbRTSLTc1mgvhPlnaBA55M-oupQnbXnhKsYk8RmHF_kAy2gZikaX3QWV6xOvgFlA==)\n"
      ],
      "text/plain": [
       "<IPython.core.display.Markdown object>"
      ]
     },
     "metadata": {},
     "output_type": "display_data"
    },
    {
     "data": {
      "text/markdown": [
       "[2023-07-17 18:30:00 Cointelegraph - Price analysis 7/17: SPX, DXY, BTC, ETH, XRP, BNB, SOL, ADA, DOGE, MATIC](https://cointelegraph.com/news/price-analysis-7-17-spx-dxy-btc-eth-xrp-bnb-sol-ada-doge-matic)\n"
      ],
      "text/plain": [
       "<IPython.core.display.Markdown object>"
      ]
     },
     "metadata": {},
     "output_type": "display_data"
    },
    {
     "data": {
      "text/markdown": [
       "[2023-07-17 18:10:38 Cointelegraph - Binance cuts back on employee benefits, citing 'decline in profit': Report](https://cointelegraph.com/news/binance-cuts-employee-benefits-citing-decline-profit)\n"
      ],
      "text/plain": [
       "<IPython.core.display.Markdown object>"
      ]
     },
     "metadata": {},
     "output_type": "display_data"
    },
    {
     "data": {
      "text/markdown": [
       "[2023-07-17 18:10:14 Forexlive - EIA sees a slight dip in US share production in August](https://www.forexlive.com/news/eia-sees-a-slight-dip-in-us-share-production-in-august-20230717/)\n"
      ],
      "text/plain": [
       "<IPython.core.display.Markdown object>"
      ]
     },
     "metadata": {},
     "output_type": "display_data"
    },
    {
     "data": {
      "text/markdown": [
       "[2023-07-17 18:07:00 MarketWatch - The Margin: Women’s World Cup 2023: When does it start? How much do the players make?](https://www.marketwatch.com/story/womens-world-cup-2023-when-does-it-start-how-much-do-the-players-make-23ab0b78)\n"
      ],
      "text/plain": [
       "<IPython.core.display.Markdown object>"
      ]
     },
     "metadata": {},
     "output_type": "display_data"
    },
    {
     "data": {
      "text/markdown": [
       "[2023-07-17 18:07:00 MarketWatch - The Tell: Why U.S. stock-market investors shouldn’t expect positive economic data to push S&P 500 materially higher](https://www.marketwatch.com/story/why-u-s-stock-market-investors-shouldnt-expect-positive-economic-data-to-push-s-p-500-materially-higher-c6f92d69)\n"
      ],
      "text/plain": [
       "<IPython.core.display.Markdown object>"
      ]
     },
     "metadata": {},
     "output_type": "display_data"
    },
    {
     "data": {
      "text/markdown": [
       "[2023-07-17 17:58:00 MarketWatch - The Ratings Game: Apple has a juicy $40 billion opportunity ahead of it](https://www.marketwatch.com/story/apple-has-a-juicy-40-billion-opportunity-ahead-of-it-e05fcb37)\n"
      ],
      "text/plain": [
       "<IPython.core.display.Markdown object>"
      ]
     },
     "metadata": {},
     "output_type": "display_data"
    },
    {
     "data": {
      "text/markdown": [
       "[2023-07-17 17:56:17 Forexlive - Russell 2000 rises to the highest since February](https://www.forexlive.com/news/russell-2000-rises-to-the-highest-since-february-20230717/)\n"
      ],
      "text/plain": [
       "<IPython.core.display.Markdown object>"
      ]
     },
     "metadata": {},
     "output_type": "display_data"
    },
    {
     "data": {
      "text/markdown": [
       "[2023-07-17 17:43:57 Forexlive - Selling pressure takes bitcoin below $30,000 but the range-bottom holds](https://www.forexlive.com/Cryptocurrency/selling-pressure-takes-bitcoin-below-30000-but-the-range-bottom-holds-20230717/)\n"
      ],
      "text/plain": [
       "<IPython.core.display.Markdown object>"
      ]
     },
     "metadata": {},
     "output_type": "display_data"
    },
    {
     "data": {
      "text/markdown": [
       "[2023-07-17 17:35:54 CoinDesk - Celo Proposes to Ditch Own Standalone Blockchain for Layer-2 Network on Ethereum](https://www.coindesk.com/tech/2023/07/17/celo-proposes-to-ditch-own-standalone-blockchain-for-layer-2-network-on-ethereum/?utm_medium=referral&utm_source=rss&utm_campaign=headlines)\n"
      ],
      "text/plain": [
       "<IPython.core.display.Markdown object>"
      ]
     },
     "metadata": {},
     "output_type": "display_data"
    }
   ],
   "source": [
    "data = client.market_news()\n",
    "for item in data:\n",
    "    markdown_str = \"\"\n",
    "    datestr = item['Date']\n",
    "    markdown_str += f\"[{datestr} {item['Source']} - {item['Title']}]({item['URL']})\\n\"\n",
    "    display(Markdown(markdown_str))\n"
   ]
  },
  {
   "cell_type": "code",
   "execution_count": 124,
   "metadata": {},
   "outputs": [
    {
     "data": {
      "text/plain": [
       "[{'Ticker': 'LCID',\n",
       "  'Amount': 1814687991,\n",
       "  'Market Cap': 15618875750,\n",
       "  '% of Mkt Cap': 11.619},\n",
       " {'Ticker': 'WMT',\n",
       "  'Amount': -743928187,\n",
       "  'Market Cap': 426465060664,\n",
       "  '% of Mkt Cap': 0.174},\n",
       " {'Ticker': 'SXT',\n",
       "  'Amount': -448468533,\n",
       "  'Market Cap': 2762361316,\n",
       "  '% of Mkt Cap': 16.235},\n",
       " {'Ticker': 'BLNK',\n",
       "  'Amount': -276162594,\n",
       "  'Market Cap': 379379740,\n",
       "  '% of Mkt Cap': 72.793},\n",
       " {'Ticker': 'ROIV',\n",
       "  'Amount': -258699982,\n",
       "  'Market Cap': 8503934079,\n",
       "  '% of Mkt Cap': 3.042},\n",
       " {'Ticker': 'CIVI',\n",
       "  'Amount': -232401488,\n",
       "  'Market Cap': 5693590907,\n",
       "  '% of Mkt Cap': 4.082},\n",
       " {'Ticker': 'SNX',\n",
       "  'Amount': -219538486,\n",
       "  'Market Cap': 9107272885,\n",
       "  '% of Mkt Cap': 2.411},\n",
       " {'Ticker': 'DELL',\n",
       "  'Amount': -214505725,\n",
       "  'Market Cap': 38951137276,\n",
       "  '% of Mkt Cap': 0.551},\n",
       " {'Ticker': 'MSGE',\n",
       "  'Amount': -194675997,\n",
       "  'Market Cap': 1723894776,\n",
       "  '% of Mkt Cap': 11.293},\n",
       " {'Ticker': 'ABNB',\n",
       "  'Amount': -152896404,\n",
       "  'Market Cap': 93763035011,\n",
       "  '% of Mkt Cap': 0.163},\n",
       " {'Ticker': 'GPOR',\n",
       "  'Amount': -136497330,\n",
       "  'Market Cap': 1942163397,\n",
       "  '% of Mkt Cap': 7.028},\n",
       " {'Ticker': 'SNOW',\n",
       "  'Amount': -136392457,\n",
       "  'Market Cap': 57325810000,\n",
       "  '% of Mkt Cap': 0.238},\n",
       " {'Ticker': 'BRK-B',\n",
       "  'Amount': 122104510,\n",
       "  'Market Cap': 755578961769,\n",
       "  '% of Mkt Cap': 0.016},\n",
       " {'Ticker': 'BRK-A',\n",
       "  'Amount': 122104510,\n",
       "  'Market Cap': 759606407500,\n",
       "  '% of Mkt Cap': 0.016},\n",
       " {'Ticker': 'OXY',\n",
       "  'Amount': 122104510,\n",
       "  'Market Cap': 54164592758,\n",
       "  '% of Mkt Cap': 0.225},\n",
       " {'Ticker': 'ARES',\n",
       "  'Amount': -119003014,\n",
       "  'Market Cap': 30706710486,\n",
       "  '% of Mkt Cap': 0.388},\n",
       " {'Ticker': 'LLY',\n",
       "  'Amount': -102734695,\n",
       "  'Market Cap': 438602108009,\n",
       "  '% of Mkt Cap': 0.023},\n",
       " {'Ticker': 'GMS',\n",
       "  'Amount': -98647328,\n",
       "  'Market Cap': 2954862792,\n",
       "  '% of Mkt Cap': 3.338},\n",
       " {'Ticker': 'HPK',\n",
       "  'Amount': 92967525,\n",
       "  'Market Cap': 1464510380,\n",
       "  '% of Mkt Cap': 6.348},\n",
       " {'Ticker': 'BGRY',\n",
       "  'Amount': -91794244,\n",
       "  'Market Cap': 332638611,\n",
       "  '% of Mkt Cap': 27.596},\n",
       " {'Ticker': 'CPRT',\n",
       "  'Amount': -85282200,\n",
       "  'Market Cap': 43513881600,\n",
       "  '% of Mkt Cap': 0.196},\n",
       " {'Ticker': 'CRM',\n",
       "  'Amount': -75040247,\n",
       "  'Market Cap': 222130440000,\n",
       "  '% of Mkt Cap': 0.034},\n",
       " {'Ticker': 'MLTX',\n",
       "  'Amount': 60535012,\n",
       "  'Market Cap': 2925710880,\n",
       "  '% of Mkt Cap': 2.069},\n",
       " {'Ticker': 'WTM',\n",
       "  'Amount': 59168160,\n",
       "  'Market Cap': 4050191668,\n",
       "  '% of Mkt Cap': 1.461},\n",
       " {'Ticker': 'MAX',\n",
       "  'Amount': 59168160,\n",
       "  'Market Cap': 588154039,\n",
       "  '% of Mkt Cap': 10.06},\n",
       " {'Ticker': 'IRON',\n",
       "  'Amount': -59030310,\n",
       "  'Market Cap': 1045168893,\n",
       "  '% of Mkt Cap': 5.648},\n",
       " {'Ticker': 'TEAM',\n",
       "  'Amount': -54246143,\n",
       "  'Market Cap': 44827160417,\n",
       "  '% of Mkt Cap': 0.121},\n",
       " {'Ticker': 'VRT',\n",
       "  'Amount': -53048326,\n",
       "  'Market Cap': 9751620480,\n",
       "  '% of Mkt Cap': 0.544},\n",
       " {'Ticker': 'BBIO',\n",
       "  'Amount': -52500000,\n",
       "  'Market Cap': 5477898857,\n",
       "  '% of Mkt Cap': 0.958},\n",
       " {'Ticker': 'DASH',\n",
       "  'Amount': -47516400,\n",
       "  'Market Cap': 32729808852,\n",
       "  '% of Mkt Cap': 0.145},\n",
       " {'Ticker': 'PRU',\n",
       "  'Amount': 47408233,\n",
       "  'Market Cap': 34591050000,\n",
       "  '% of Mkt Cap': 0.137},\n",
       " {'Ticker': 'AMC',\n",
       "  'Amount': -43333651,\n",
       "  'Market Cap': 4097200892,\n",
       "  '% of Mkt Cap': 1.058},\n",
       " {'Ticker': 'APE',\n",
       "  'Amount': -43333651,\n",
       "  'Market Cap': 3916943615,\n",
       "  '% of Mkt Cap': 1.106},\n",
       " {'Ticker': 'CACC',\n",
       "  'Amount': -41922588,\n",
       "  'Market Cap': 7018132875,\n",
       "  '% of Mkt Cap': 0.597},\n",
       " {'Ticker': 'CRWD',\n",
       "  'Amount': -39088611,\n",
       "  'Market Cap': 35779596144,\n",
       "  '% of Mkt Cap': 0.109},\n",
       " {'Ticker': 'ALTG',\n",
       "  'Amount': -35750000,\n",
       "  'Market Cap': 522421134,\n",
       "  '% of Mkt Cap': 6.843},\n",
       " {'Ticker': 'RILY',\n",
       "  'Amount': -35171855,\n",
       "  'Market Cap': 1586847840,\n",
       "  '% of Mkt Cap': 2.216},\n",
       " {'Ticker': 'GE',\n",
       "  'Amount': 35000000,\n",
       "  'Market Cap': 120290585339,\n",
       "  '% of Mkt Cap': 0.029},\n",
       " {'Ticker': 'MDB',\n",
       "  'Amount': -34220208,\n",
       "  'Market Cap': 28922846092,\n",
       "  '% of Mkt Cap': 0.118},\n",
       " {'Ticker': 'VERX',\n",
       "  'Amount': -32538483,\n",
       "  'Market Cap': 2895159034,\n",
       "  '% of Mkt Cap': 1.124},\n",
       " {'Ticker': 'NFLX',\n",
       "  'Amount': -32066736,\n",
       "  'Market Cap': 190041274080,\n",
       "  '% of Mkt Cap': 0.017},\n",
       " {'Ticker': 'GILD',\n",
       "  'Amount': 30043362,\n",
       "  'Market Cap': 100586305290,\n",
       "  '% of Mkt Cap': 0.03},\n",
       " {'Ticker': 'DDOG',\n",
       "  'Amount': -27899964,\n",
       "  'Market Cap': 35364409326,\n",
       "  '% of Mkt Cap': 0.079},\n",
       " {'Ticker': 'KMX',\n",
       "  'Amount': -27853243,\n",
       "  'Market Cap': 13175728800,\n",
       "  '% of Mkt Cap': 0.211},\n",
       " {'Ticker': 'GRIL',\n",
       "  'Amount': 27629010,\n",
       "  'Market Cap': 52752460,\n",
       "  '% of Mkt Cap': 52.375}]"
      ]
     },
     "execution_count": 124,
     "metadata": {},
     "output_type": "execute_result"
    }
   ],
   "source": [
    "data = client.latest_insider_trading_summary()\n",
    "data"
   ]
  },
  {
   "cell_type": "markdown",
   "metadata": {},
   "source": [
    "# Quandl\n",
    "- acquired by NASDAQ, free API doesn't seem to work\n",
    "- https://demo.quandl.com/\n",
    "- https://data.nasdaq.com/"
   ]
  },
  {
   "cell_type": "code",
   "execution_count": 111,
   "metadata": {},
   "outputs": [],
   "source": [
    "import quandl\n",
    "quandl.ApiConfig.api_key = os.environ['QUANDL_API_KEY']\n"
   ]
  },
  {
   "cell_type": "code",
   "execution_count": 117,
   "metadata": {},
   "outputs": [
    {
     "data": {
      "text/html": [
       "<div>\n",
       "<style scoped>\n",
       "    .dataframe tbody tr th:only-of-type {\n",
       "        vertical-align: middle;\n",
       "    }\n",
       "\n",
       "    .dataframe tbody tr th {\n",
       "        vertical-align: top;\n",
       "    }\n",
       "\n",
       "    .dataframe thead th {\n",
       "        text-align: right;\n",
       "    }\n",
       "</style>\n",
       "<table border=\"1\" class=\"dataframe\">\n",
       "  <thead>\n",
       "    <tr style=\"text-align: right;\">\n",
       "      <th></th>\n",
       "      <th>Value</th>\n",
       "    </tr>\n",
       "    <tr>\n",
       "      <th>Date</th>\n",
       "      <th></th>\n",
       "    </tr>\n",
       "  </thead>\n",
       "  <tbody>\n",
       "    <tr>\n",
       "      <th>2011-01-01</th>\n",
       "      <td>15351.444</td>\n",
       "    </tr>\n",
       "    <tr>\n",
       "      <th>2011-04-01</th>\n",
       "      <td>15557.535</td>\n",
       "    </tr>\n",
       "    <tr>\n",
       "      <th>2011-07-01</th>\n",
       "      <td>15647.681</td>\n",
       "    </tr>\n",
       "    <tr>\n",
       "      <th>2011-10-01</th>\n",
       "      <td>15842.267</td>\n",
       "    </tr>\n",
       "    <tr>\n",
       "      <th>2012-01-01</th>\n",
       "      <td>16068.824</td>\n",
       "    </tr>\n",
       "    <tr>\n",
       "      <th>2012-04-01</th>\n",
       "      <td>16207.130</td>\n",
       "    </tr>\n",
       "    <tr>\n",
       "      <th>2012-07-01</th>\n",
       "      <td>16319.540</td>\n",
       "    </tr>\n",
       "    <tr>\n",
       "      <th>2012-10-01</th>\n",
       "      <td>16420.386</td>\n",
       "    </tr>\n",
       "    <tr>\n",
       "      <th>2013-01-01</th>\n",
       "      <td>16629.050</td>\n",
       "    </tr>\n",
       "    <tr>\n",
       "      <th>2013-04-01</th>\n",
       "      <td>16699.551</td>\n",
       "    </tr>\n",
       "    <tr>\n",
       "      <th>2013-07-01</th>\n",
       "      <td>16911.068</td>\n",
       "    </tr>\n",
       "    <tr>\n",
       "      <th>2013-10-01</th>\n",
       "      <td>17133.114</td>\n",
       "    </tr>\n",
       "    <tr>\n",
       "      <th>2014-01-01</th>\n",
       "      <td>17144.281</td>\n",
       "    </tr>\n",
       "    <tr>\n",
       "      <th>2014-04-01</th>\n",
       "      <td>17462.703</td>\n",
       "    </tr>\n",
       "    <tr>\n",
       "      <th>2014-07-01</th>\n",
       "      <td>17743.227</td>\n",
       "    </tr>\n",
       "    <tr>\n",
       "      <th>2014-10-01</th>\n",
       "      <td>17852.540</td>\n",
       "    </tr>\n",
       "    <tr>\n",
       "      <th>2015-01-01</th>\n",
       "      <td>17991.348</td>\n",
       "    </tr>\n",
       "    <tr>\n",
       "      <th>2015-04-01</th>\n",
       "      <td>18193.707</td>\n",
       "    </tr>\n",
       "    <tr>\n",
       "      <th>2015-07-01</th>\n",
       "      <td>18306.960</td>\n",
       "    </tr>\n",
       "    <tr>\n",
       "      <th>2015-10-01</th>\n",
       "      <td>18332.079</td>\n",
       "    </tr>\n",
       "    <tr>\n",
       "      <th>2016-01-01</th>\n",
       "      <td>18425.306</td>\n",
       "    </tr>\n",
       "    <tr>\n",
       "      <th>2016-04-01</th>\n",
       "      <td>18611.617</td>\n",
       "    </tr>\n",
       "    <tr>\n",
       "      <th>2016-07-01</th>\n",
       "      <td>18775.459</td>\n",
       "    </tr>\n",
       "    <tr>\n",
       "      <th>2016-10-01</th>\n",
       "      <td>18968.041</td>\n",
       "    </tr>\n",
       "    <tr>\n",
       "      <th>2017-01-01</th>\n",
       "      <td>19153.912</td>\n",
       "    </tr>\n",
       "    <tr>\n",
       "      <th>2017-04-01</th>\n",
       "      <td>19322.920</td>\n",
       "    </tr>\n",
       "    <tr>\n",
       "      <th>2017-07-01</th>\n",
       "      <td>19558.693</td>\n",
       "    </tr>\n",
       "    <tr>\n",
       "      <th>2017-10-01</th>\n",
       "      <td>19882.965</td>\n",
       "    </tr>\n",
       "    <tr>\n",
       "      <th>2018-01-01</th>\n",
       "      <td>20143.716</td>\n",
       "    </tr>\n",
       "    <tr>\n",
       "      <th>2018-04-01</th>\n",
       "      <td>20492.492</td>\n",
       "    </tr>\n",
       "    <tr>\n",
       "      <th>2018-07-01</th>\n",
       "      <td>20659.102</td>\n",
       "    </tr>\n",
       "    <tr>\n",
       "      <th>2018-10-01</th>\n",
       "      <td>20813.325</td>\n",
       "    </tr>\n",
       "    <tr>\n",
       "      <th>2019-01-01</th>\n",
       "      <td>21001.591</td>\n",
       "    </tr>\n",
       "    <tr>\n",
       "      <th>2019-04-01</th>\n",
       "      <td>21289.268</td>\n",
       "    </tr>\n",
       "    <tr>\n",
       "      <th>2019-07-01</th>\n",
       "      <td>21505.012</td>\n",
       "    </tr>\n",
       "    <tr>\n",
       "      <th>2019-10-01</th>\n",
       "      <td>21694.458</td>\n",
       "    </tr>\n",
       "    <tr>\n",
       "      <th>2020-01-01</th>\n",
       "      <td>21481.367</td>\n",
       "    </tr>\n",
       "    <tr>\n",
       "      <th>2020-04-01</th>\n",
       "      <td>19477.444</td>\n",
       "    </tr>\n",
       "    <tr>\n",
       "      <th>2020-07-01</th>\n",
       "      <td>21138.574</td>\n",
       "    </tr>\n",
       "    <tr>\n",
       "      <th>2020-10-01</th>\n",
       "      <td>21477.597</td>\n",
       "    </tr>\n",
       "    <tr>\n",
       "      <th>2021-01-01</th>\n",
       "      <td>22038.226</td>\n",
       "    </tr>\n",
       "    <tr>\n",
       "      <th>2021-04-01</th>\n",
       "      <td>22740.959</td>\n",
       "    </tr>\n",
       "    <tr>\n",
       "      <th>2021-07-01</th>\n",
       "      <td>23202.344</td>\n",
       "    </tr>\n",
       "    <tr>\n",
       "      <th>2021-10-01</th>\n",
       "      <td>23992.355</td>\n",
       "    </tr>\n",
       "  </tbody>\n",
       "</table>\n",
       "</div>"
      ],
      "text/plain": [
       "                Value\n",
       "Date                 \n",
       "2011-01-01  15351.444\n",
       "2011-04-01  15557.535\n",
       "2011-07-01  15647.681\n",
       "2011-10-01  15842.267\n",
       "2012-01-01  16068.824\n",
       "2012-04-01  16207.130\n",
       "2012-07-01  16319.540\n",
       "2012-10-01  16420.386\n",
       "2013-01-01  16629.050\n",
       "2013-04-01  16699.551\n",
       "2013-07-01  16911.068\n",
       "2013-10-01  17133.114\n",
       "2014-01-01  17144.281\n",
       "2014-04-01  17462.703\n",
       "2014-07-01  17743.227\n",
       "2014-10-01  17852.540\n",
       "2015-01-01  17991.348\n",
       "2015-04-01  18193.707\n",
       "2015-07-01  18306.960\n",
       "2015-10-01  18332.079\n",
       "2016-01-01  18425.306\n",
       "2016-04-01  18611.617\n",
       "2016-07-01  18775.459\n",
       "2016-10-01  18968.041\n",
       "2017-01-01  19153.912\n",
       "2017-04-01  19322.920\n",
       "2017-07-01  19558.693\n",
       "2017-10-01  19882.965\n",
       "2018-01-01  20143.716\n",
       "2018-04-01  20492.492\n",
       "2018-07-01  20659.102\n",
       "2018-10-01  20813.325\n",
       "2019-01-01  21001.591\n",
       "2019-04-01  21289.268\n",
       "2019-07-01  21505.012\n",
       "2019-10-01  21694.458\n",
       "2020-01-01  21481.367\n",
       "2020-04-01  19477.444\n",
       "2020-07-01  21138.574\n",
       "2020-10-01  21477.597\n",
       "2021-01-01  22038.226\n",
       "2021-04-01  22740.959\n",
       "2021-07-01  23202.344\n",
       "2021-10-01  23992.355"
      ]
     },
     "execution_count": 117,
     "metadata": {},
     "output_type": "execute_result"
    }
   ],
   "source": [
    "# not up to date\n",
    "data = quandl.get(\"FRED/GDP\", start_date=\"2011-01-01\", end_date=\"2023-12-31\")\n",
    "data\n"
   ]
  },
  {
   "cell_type": "code",
   "execution_count": 116,
   "metadata": {},
   "outputs": [
    {
     "data": {
      "text/html": [
       "<div>\n",
       "<style scoped>\n",
       "    .dataframe tbody tr th:only-of-type {\n",
       "        vertical-align: middle;\n",
       "    }\n",
       "\n",
       "    .dataframe tbody tr th {\n",
       "        vertical-align: top;\n",
       "    }\n",
       "\n",
       "    .dataframe thead th {\n",
       "        text-align: right;\n",
       "    }\n",
       "</style>\n",
       "<table border=\"1\" class=\"dataframe\">\n",
       "  <thead>\n",
       "    <tr style=\"text-align: right;\">\n",
       "      <th></th>\n",
       "      <th>Open</th>\n",
       "      <th>High</th>\n",
       "      <th>Low</th>\n",
       "      <th>Close</th>\n",
       "      <th>Volume</th>\n",
       "      <th>Ex-Dividend</th>\n",
       "      <th>Split Ratio</th>\n",
       "      <th>Adj. Open</th>\n",
       "      <th>Adj. High</th>\n",
       "      <th>Adj. Low</th>\n",
       "      <th>Adj. Close</th>\n",
       "      <th>Adj. Volume</th>\n",
       "    </tr>\n",
       "    <tr>\n",
       "      <th>Date</th>\n",
       "      <th></th>\n",
       "      <th></th>\n",
       "      <th></th>\n",
       "      <th></th>\n",
       "      <th></th>\n",
       "      <th></th>\n",
       "      <th></th>\n",
       "      <th></th>\n",
       "      <th></th>\n",
       "      <th></th>\n",
       "      <th></th>\n",
       "      <th></th>\n",
       "    </tr>\n",
       "  </thead>\n",
       "  <tbody>\n",
       "    <tr>\n",
       "      <th>2017-06-29</th>\n",
       "      <td>370.61</td>\n",
       "      <td>371.0000</td>\n",
       "      <td>354.1000</td>\n",
       "      <td>360.75</td>\n",
       "      <td>8180408.0</td>\n",
       "      <td>0.0</td>\n",
       "      <td>1.0</td>\n",
       "      <td>370.61</td>\n",
       "      <td>371.0000</td>\n",
       "      <td>354.1000</td>\n",
       "      <td>360.75</td>\n",
       "      <td>8180408.0</td>\n",
       "    </tr>\n",
       "    <tr>\n",
       "      <th>2017-06-30</th>\n",
       "      <td>363.71</td>\n",
       "      <td>366.7674</td>\n",
       "      <td>359.6187</td>\n",
       "      <td>361.61</td>\n",
       "      <td>5759458.0</td>\n",
       "      <td>0.0</td>\n",
       "      <td>1.0</td>\n",
       "      <td>363.71</td>\n",
       "      <td>366.7674</td>\n",
       "      <td>359.6187</td>\n",
       "      <td>361.61</td>\n",
       "      <td>5759458.0</td>\n",
       "    </tr>\n",
       "    <tr>\n",
       "      <th>2017-07-03</th>\n",
       "      <td>370.24</td>\n",
       "      <td>371.3500</td>\n",
       "      <td>351.5000</td>\n",
       "      <td>352.62</td>\n",
       "      <td>6297330.0</td>\n",
       "      <td>0.0</td>\n",
       "      <td>1.0</td>\n",
       "      <td>370.24</td>\n",
       "      <td>371.3500</td>\n",
       "      <td>351.5000</td>\n",
       "      <td>352.62</td>\n",
       "      <td>6297330.0</td>\n",
       "    </tr>\n",
       "    <tr>\n",
       "      <th>2017-07-05</th>\n",
       "      <td>347.20</td>\n",
       "      <td>347.2400</td>\n",
       "      <td>326.3300</td>\n",
       "      <td>327.09</td>\n",
       "      <td>16883496.0</td>\n",
       "      <td>0.0</td>\n",
       "      <td>1.0</td>\n",
       "      <td>347.20</td>\n",
       "      <td>347.2400</td>\n",
       "      <td>326.3300</td>\n",
       "      <td>327.09</td>\n",
       "      <td>16883496.0</td>\n",
       "    </tr>\n",
       "    <tr>\n",
       "      <th>2017-07-06</th>\n",
       "      <td>317.26</td>\n",
       "      <td>320.7899</td>\n",
       "      <td>306.3000</td>\n",
       "      <td>308.89</td>\n",
       "      <td>19189195.0</td>\n",
       "      <td>0.0</td>\n",
       "      <td>1.0</td>\n",
       "      <td>317.26</td>\n",
       "      <td>320.7899</td>\n",
       "      <td>306.3000</td>\n",
       "      <td>308.89</td>\n",
       "      <td>19189195.0</td>\n",
       "    </tr>\n",
       "    <tr>\n",
       "      <th>...</th>\n",
       "      <td>...</td>\n",
       "      <td>...</td>\n",
       "      <td>...</td>\n",
       "      <td>...</td>\n",
       "      <td>...</td>\n",
       "      <td>...</td>\n",
       "      <td>...</td>\n",
       "      <td>...</td>\n",
       "      <td>...</td>\n",
       "      <td>...</td>\n",
       "      <td>...</td>\n",
       "      <td>...</td>\n",
       "    </tr>\n",
       "    <tr>\n",
       "      <th>2018-03-21</th>\n",
       "      <td>310.25</td>\n",
       "      <td>322.4400</td>\n",
       "      <td>310.1900</td>\n",
       "      <td>316.53</td>\n",
       "      <td>5927881.0</td>\n",
       "      <td>0.0</td>\n",
       "      <td>1.0</td>\n",
       "      <td>310.25</td>\n",
       "      <td>322.4400</td>\n",
       "      <td>310.1900</td>\n",
       "      <td>316.53</td>\n",
       "      <td>5927881.0</td>\n",
       "    </tr>\n",
       "    <tr>\n",
       "      <th>2018-03-22</th>\n",
       "      <td>313.89</td>\n",
       "      <td>318.8200</td>\n",
       "      <td>308.1800</td>\n",
       "      <td>309.10</td>\n",
       "      <td>4914307.0</td>\n",
       "      <td>0.0</td>\n",
       "      <td>1.0</td>\n",
       "      <td>313.89</td>\n",
       "      <td>318.8200</td>\n",
       "      <td>308.1800</td>\n",
       "      <td>309.10</td>\n",
       "      <td>4914307.0</td>\n",
       "    </tr>\n",
       "    <tr>\n",
       "      <th>2018-03-23</th>\n",
       "      <td>311.25</td>\n",
       "      <td>311.6100</td>\n",
       "      <td>300.4500</td>\n",
       "      <td>301.54</td>\n",
       "      <td>6600538.0</td>\n",
       "      <td>0.0</td>\n",
       "      <td>1.0</td>\n",
       "      <td>311.25</td>\n",
       "      <td>311.6100</td>\n",
       "      <td>300.4500</td>\n",
       "      <td>301.54</td>\n",
       "      <td>6600538.0</td>\n",
       "    </tr>\n",
       "    <tr>\n",
       "      <th>2018-03-26</th>\n",
       "      <td>307.34</td>\n",
       "      <td>307.5900</td>\n",
       "      <td>291.3600</td>\n",
       "      <td>304.18</td>\n",
       "      <td>8324639.0</td>\n",
       "      <td>0.0</td>\n",
       "      <td>1.0</td>\n",
       "      <td>307.34</td>\n",
       "      <td>307.5900</td>\n",
       "      <td>291.3600</td>\n",
       "      <td>304.18</td>\n",
       "      <td>8324639.0</td>\n",
       "    </tr>\n",
       "    <tr>\n",
       "      <th>2018-03-27</th>\n",
       "      <td>304.00</td>\n",
       "      <td>304.2700</td>\n",
       "      <td>277.1800</td>\n",
       "      <td>279.18</td>\n",
       "      <td>13696168.0</td>\n",
       "      <td>0.0</td>\n",
       "      <td>1.0</td>\n",
       "      <td>304.00</td>\n",
       "      <td>304.2700</td>\n",
       "      <td>277.1800</td>\n",
       "      <td>279.18</td>\n",
       "      <td>13696168.0</td>\n",
       "    </tr>\n",
       "  </tbody>\n",
       "</table>\n",
       "<p>186 rows × 12 columns</p>\n",
       "</div>"
      ],
      "text/plain": [
       "              Open      High       Low   Close      Volume  Ex-Dividend  \\\n",
       "Date                                                                      \n",
       "2017-06-29  370.61  371.0000  354.1000  360.75   8180408.0          0.0   \n",
       "2017-06-30  363.71  366.7674  359.6187  361.61   5759458.0          0.0   \n",
       "2017-07-03  370.24  371.3500  351.5000  352.62   6297330.0          0.0   \n",
       "2017-07-05  347.20  347.2400  326.3300  327.09  16883496.0          0.0   \n",
       "2017-07-06  317.26  320.7899  306.3000  308.89  19189195.0          0.0   \n",
       "...            ...       ...       ...     ...         ...          ...   \n",
       "2018-03-21  310.25  322.4400  310.1900  316.53   5927881.0          0.0   \n",
       "2018-03-22  313.89  318.8200  308.1800  309.10   4914307.0          0.0   \n",
       "2018-03-23  311.25  311.6100  300.4500  301.54   6600538.0          0.0   \n",
       "2018-03-26  307.34  307.5900  291.3600  304.18   8324639.0          0.0   \n",
       "2018-03-27  304.00  304.2700  277.1800  279.18  13696168.0          0.0   \n",
       "\n",
       "            Split Ratio  Adj. Open  Adj. High  Adj. Low  Adj. Close  \\\n",
       "Date                                                                  \n",
       "2017-06-29          1.0     370.61   371.0000  354.1000      360.75   \n",
       "2017-06-30          1.0     363.71   366.7674  359.6187      361.61   \n",
       "2017-07-03          1.0     370.24   371.3500  351.5000      352.62   \n",
       "2017-07-05          1.0     347.20   347.2400  326.3300      327.09   \n",
       "2017-07-06          1.0     317.26   320.7899  306.3000      308.89   \n",
       "...                 ...        ...        ...       ...         ...   \n",
       "2018-03-21          1.0     310.25   322.4400  310.1900      316.53   \n",
       "2018-03-22          1.0     313.89   318.8200  308.1800      309.10   \n",
       "2018-03-23          1.0     311.25   311.6100  300.4500      301.54   \n",
       "2018-03-26          1.0     307.34   307.5900  291.3600      304.18   \n",
       "2018-03-27          1.0     304.00   304.2700  277.1800      279.18   \n",
       "\n",
       "            Adj. Volume  \n",
       "Date                     \n",
       "2017-06-29    8180408.0  \n",
       "2017-06-30    5759458.0  \n",
       "2017-07-03    6297330.0  \n",
       "2017-07-05   16883496.0  \n",
       "2017-07-06   19189195.0  \n",
       "...                 ...  \n",
       "2018-03-21    5927881.0  \n",
       "2018-03-22    4914307.0  \n",
       "2018-03-23    6600538.0  \n",
       "2018-03-26    8324639.0  \n",
       "2018-03-27   13696168.0  \n",
       "\n",
       "[186 rows x 12 columns]"
      ]
     },
     "execution_count": 116,
     "metadata": {},
     "output_type": "execute_result"
    }
   ],
   "source": [
    "# free discontinued maybe\n",
    "tsla = quandl.get('WIKI/TSLA', start_date = \"2017-06-29\", end_date = \"2023-03-27\")\n",
    "tsla"
   ]
  },
  {
   "cell_type": "code",
   "execution_count": null,
   "metadata": {},
   "outputs": [],
   "source": []
  }
 ],
 "metadata": {
  "kernelspec": {
   "display_name": "agents",
   "language": "python",
   "name": "agents"
  },
  "language_info": {
   "codemirror_mode": {
    "name": "ipython",
    "version": 3
   },
   "file_extension": ".py",
   "mimetype": "text/x-python",
   "name": "python",
   "nbconvert_exporter": "python",
   "pygments_lexer": "ipython3",
   "version": "3.10.12"
  }
 },
 "nbformat": 4,
 "nbformat_minor": 4
}
